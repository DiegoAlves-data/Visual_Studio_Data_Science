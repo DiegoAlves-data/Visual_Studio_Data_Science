{
 "metadata": {
  "language_info": {
   "codemirror_mode": {
    "name": "ipython",
    "version": 3
   },
   "file_extension": ".py",
   "mimetype": "text/x-python",
   "name": "python",
   "nbconvert_exporter": "python",
   "pygments_lexer": "ipython3",
   "version": "3.8.3-final"
  },
  "orig_nbformat": 2,
  "kernelspec": {
   "name": "python3",
   "display_name": "Python 3"
  }
 },
 "nbformat": 4,
 "nbformat_minor": 2,
 "cells": [
  {
   "cell_type": "code",
   "execution_count": 1,
   "metadata": {},
   "outputs": [],
   "source": [
    "import pandas as pd \n",
    "import numpy as np \n",
    "import tqdm as tqdm \n",
    "import matplotlib as plt \n",
    "import missingno\n",
    "import seaborn as sns\n",
    "import warnings\n",
    "warnings.filterwarnings('ignore') \n"
   ]
  },
  {
   "cell_type": "code",
   "execution_count": null,
   "metadata": {},
   "outputs": [],
   "source": [
    "# Opening the DataSet"
   ]
  },
  {
   "cell_type": "code",
   "execution_count": 4,
   "metadata": {},
   "outputs": [],
   "source": [
    "df = pd.read_csv ('/Users/diegorodrigues/Documents/Iron_Hack/Part_Time_Jul_2020/000_Projects/Final/BBDD/afrus.csv')"
   ]
  },
  {
   "cell_type": "code",
   "execution_count": 5,
   "metadata": {},
   "outputs": [
    {
     "output_type": "execute_result",
     "data": {
      "text/plain": [
       "   id  id-2 first_name  last_name  treatment gender  type  \\\n",
       "0   1     1       Info      Afrus        2.0      M   NaN   \n",
       "1   2     2      Diego  Rodríguez        2.0      M   NaN   \n",
       "2   3     3      Diego  Rodríguez        2.0      M   NaN   \n",
       "3   4     4      Eddie    Kennedy        1.0      m   NaN   \n",
       "4   5     5      Bruce   Mattioli        2.0      f   NaN   \n",
       "\n",
       "   identification_type identification                email  ... language_code  \\\n",
       "0                  NaN            NaN                  NaN  ...            es   \n",
       "1                  NaN            NaN                  NaN  ...            en   \n",
       "2                  NaN            NaN                  NaN  ...            en   \n",
       "3                  NaN       23671511  rotzumvaf@gmail.com  ...            en   \n",
       "4                  NaN        4333950       rova@gmail.com  ...            en   \n",
       "\n",
       "    born_date              created_at                  updated_at deleted_at  \\\n",
       "0  1990-05-12  2019-06-08 22:22:54+00   2020-03-13 16:53:56.42+00        NaN   \n",
       "1  1990-05-12  2019-06-08 22:22:54+00  2020-03-27 22:01:57.985+00        NaN   \n",
       "2  1990-05-12  2019-06-09 02:22:54+00   2020-02-17 14:57:09.94+00        NaN   \n",
       "3  1994-07-09  2019-06-09 07:22:55+00      2019-06-09 07:22:55+00        NaN   \n",
       "4  1995-07-28  2019-06-09 07:22:55+00      2019-06-09 07:22:55+00        NaN   \n",
       "\n",
       "  country_id department ocupation rest_address2 country_phone  \n",
       "0      242.0        NaN       NaN           NaN           NaN  \n",
       "1      237.0        NaN       NaN           NaN           NaN  \n",
       "2       32.0        NaN       NaN           NaN           NaN  \n",
       "3        6.0        NaN       NaN           NaN           NaN  \n",
       "4      245.0        NaN       NaN           NaN           NaN  \n",
       "\n",
       "[5 rows x 28 columns]"
      ],
      "text/html": "<div>\n<style scoped>\n    .dataframe tbody tr th:only-of-type {\n        vertical-align: middle;\n    }\n\n    .dataframe tbody tr th {\n        vertical-align: top;\n    }\n\n    .dataframe thead th {\n        text-align: right;\n    }\n</style>\n<table border=\"1\" class=\"dataframe\">\n  <thead>\n    <tr style=\"text-align: right;\">\n      <th></th>\n      <th>id</th>\n      <th>id-2</th>\n      <th>first_name</th>\n      <th>last_name</th>\n      <th>treatment</th>\n      <th>gender</th>\n      <th>type</th>\n      <th>identification_type</th>\n      <th>identification</th>\n      <th>email</th>\n      <th>...</th>\n      <th>language_code</th>\n      <th>born_date</th>\n      <th>created_at</th>\n      <th>updated_at</th>\n      <th>deleted_at</th>\n      <th>country_id</th>\n      <th>department</th>\n      <th>ocupation</th>\n      <th>rest_address2</th>\n      <th>country_phone</th>\n    </tr>\n  </thead>\n  <tbody>\n    <tr>\n      <th>0</th>\n      <td>1</td>\n      <td>1</td>\n      <td>Info</td>\n      <td>Afrus</td>\n      <td>2.0</td>\n      <td>M</td>\n      <td>NaN</td>\n      <td>NaN</td>\n      <td>NaN</td>\n      <td>NaN</td>\n      <td>...</td>\n      <td>es</td>\n      <td>1990-05-12</td>\n      <td>2019-06-08 22:22:54+00</td>\n      <td>2020-03-13 16:53:56.42+00</td>\n      <td>NaN</td>\n      <td>242.0</td>\n      <td>NaN</td>\n      <td>NaN</td>\n      <td>NaN</td>\n      <td>NaN</td>\n    </tr>\n    <tr>\n      <th>1</th>\n      <td>2</td>\n      <td>2</td>\n      <td>Diego</td>\n      <td>Rodríguez</td>\n      <td>2.0</td>\n      <td>M</td>\n      <td>NaN</td>\n      <td>NaN</td>\n      <td>NaN</td>\n      <td>NaN</td>\n      <td>...</td>\n      <td>en</td>\n      <td>1990-05-12</td>\n      <td>2019-06-08 22:22:54+00</td>\n      <td>2020-03-27 22:01:57.985+00</td>\n      <td>NaN</td>\n      <td>237.0</td>\n      <td>NaN</td>\n      <td>NaN</td>\n      <td>NaN</td>\n      <td>NaN</td>\n    </tr>\n    <tr>\n      <th>2</th>\n      <td>3</td>\n      <td>3</td>\n      <td>Diego</td>\n      <td>Rodríguez</td>\n      <td>2.0</td>\n      <td>M</td>\n      <td>NaN</td>\n      <td>NaN</td>\n      <td>NaN</td>\n      <td>NaN</td>\n      <td>...</td>\n      <td>en</td>\n      <td>1990-05-12</td>\n      <td>2019-06-09 02:22:54+00</td>\n      <td>2020-02-17 14:57:09.94+00</td>\n      <td>NaN</td>\n      <td>32.0</td>\n      <td>NaN</td>\n      <td>NaN</td>\n      <td>NaN</td>\n      <td>NaN</td>\n    </tr>\n    <tr>\n      <th>3</th>\n      <td>4</td>\n      <td>4</td>\n      <td>Eddie</td>\n      <td>Kennedy</td>\n      <td>1.0</td>\n      <td>m</td>\n      <td>NaN</td>\n      <td>NaN</td>\n      <td>23671511</td>\n      <td>rotzumvaf@gmail.com</td>\n      <td>...</td>\n      <td>en</td>\n      <td>1994-07-09</td>\n      <td>2019-06-09 07:22:55+00</td>\n      <td>2019-06-09 07:22:55+00</td>\n      <td>NaN</td>\n      <td>6.0</td>\n      <td>NaN</td>\n      <td>NaN</td>\n      <td>NaN</td>\n      <td>NaN</td>\n    </tr>\n    <tr>\n      <th>4</th>\n      <td>5</td>\n      <td>5</td>\n      <td>Bruce</td>\n      <td>Mattioli</td>\n      <td>2.0</td>\n      <td>f</td>\n      <td>NaN</td>\n      <td>NaN</td>\n      <td>4333950</td>\n      <td>rova@gmail.com</td>\n      <td>...</td>\n      <td>en</td>\n      <td>1995-07-28</td>\n      <td>2019-06-09 07:22:55+00</td>\n      <td>2019-06-09 07:22:55+00</td>\n      <td>NaN</td>\n      <td>245.0</td>\n      <td>NaN</td>\n      <td>NaN</td>\n      <td>NaN</td>\n      <td>NaN</td>\n    </tr>\n  </tbody>\n</table>\n<p>5 rows × 28 columns</p>\n</div>"
     },
     "metadata": {},
     "execution_count": 5
    }
   ],
   "source": [
    "df.head()"
   ]
  },
  {
   "cell_type": "code",
   "execution_count": 6,
   "metadata": {},
   "outputs": [
    {
     "output_type": "execute_result",
     "data": {
      "text/plain": [
       "            id    id-2         first_name          last_name  treatment  \\\n",
       "285897  286506  286506            Tatiana             Tamara        1.0   \n",
       "285898  286507  286507            Claudia   Carrillo Benitez        NaN   \n",
       "285899  286508  286508  Edgardo Alexander  Guzmán Villalobos        1.0   \n",
       "285900  286509  286509         Jacqueline            natalie        NaN   \n",
       "285901  286510  286510              Myrna    Ubilla Hernando        2.0   \n",
       "\n",
       "       gender  type  identification_type   identification  \\\n",
       "285897    NaN   1.0                  4.0         32693346   \n",
       "285898    NaN   NaN                  NaN  422893695378407   \n",
       "285899    NaN   1.0                  NaN              NaN   \n",
       "285900    NaN   1.0                  NaN              NaN   \n",
       "285901    NaN   1.0                  NaN              NaN   \n",
       "\n",
       "                            email  ... language_code born_date  \\\n",
       "285897       t_tamara@hotmail.com  ...            ES       NaN   \n",
       "285898     clayacabe411@gmail.com  ...           NaN       NaN   \n",
       "285899  e.alexandergv93@gmail.com  ...            ES       NaN   \n",
       "285900  janaespinozanoa@gmail.com  ...            ES       NaN   \n",
       "285901           myrubi@gmail.com  ...            ES       NaN   \n",
       "\n",
       "                        created_at                  updated_at deleted_at  \\\n",
       "285897  2020-11-28 20:54:26.602+00  2020-11-28 20:56:10.931+00        NaN   \n",
       "285898  2020-11-28 20:58:35.751+00  2020-11-28 20:58:35.751+00        NaN   \n",
       "285899  2020-11-28 21:01:47.933+00  2020-11-28 21:01:47.933+00        NaN   \n",
       "285900   2020-11-28 21:03:54.76+00   2020-11-28 21:03:54.76+00        NaN   \n",
       "285901  2020-11-28 21:05:38.471+00  2020-11-28 21:05:38.471+00        NaN   \n",
       "\n",
       "       country_id department ocupation rest_address2 country_phone  \n",
       "285897       49.0        NaN       NaN           NaN          49.0  \n",
       "285898        NaN        NaN       NaN           NaN           NaN  \n",
       "285899       67.0        NaN       NaN           NaN           NaN  \n",
       "285900      176.0        NaN       NaN           NaN           NaN  \n",
       "285901       45.0        NaN       NaN           NaN           NaN  \n",
       "\n",
       "[5 rows x 28 columns]"
      ],
      "text/html": "<div>\n<style scoped>\n    .dataframe tbody tr th:only-of-type {\n        vertical-align: middle;\n    }\n\n    .dataframe tbody tr th {\n        vertical-align: top;\n    }\n\n    .dataframe thead th {\n        text-align: right;\n    }\n</style>\n<table border=\"1\" class=\"dataframe\">\n  <thead>\n    <tr style=\"text-align: right;\">\n      <th></th>\n      <th>id</th>\n      <th>id-2</th>\n      <th>first_name</th>\n      <th>last_name</th>\n      <th>treatment</th>\n      <th>gender</th>\n      <th>type</th>\n      <th>identification_type</th>\n      <th>identification</th>\n      <th>email</th>\n      <th>...</th>\n      <th>language_code</th>\n      <th>born_date</th>\n      <th>created_at</th>\n      <th>updated_at</th>\n      <th>deleted_at</th>\n      <th>country_id</th>\n      <th>department</th>\n      <th>ocupation</th>\n      <th>rest_address2</th>\n      <th>country_phone</th>\n    </tr>\n  </thead>\n  <tbody>\n    <tr>\n      <th>285897</th>\n      <td>286506</td>\n      <td>286506</td>\n      <td>Tatiana</td>\n      <td>Tamara</td>\n      <td>1.0</td>\n      <td>NaN</td>\n      <td>1.0</td>\n      <td>4.0</td>\n      <td>32693346</td>\n      <td>t_tamara@hotmail.com</td>\n      <td>...</td>\n      <td>ES</td>\n      <td>NaN</td>\n      <td>2020-11-28 20:54:26.602+00</td>\n      <td>2020-11-28 20:56:10.931+00</td>\n      <td>NaN</td>\n      <td>49.0</td>\n      <td>NaN</td>\n      <td>NaN</td>\n      <td>NaN</td>\n      <td>49.0</td>\n    </tr>\n    <tr>\n      <th>285898</th>\n      <td>286507</td>\n      <td>286507</td>\n      <td>Claudia</td>\n      <td>Carrillo Benitez</td>\n      <td>NaN</td>\n      <td>NaN</td>\n      <td>NaN</td>\n      <td>NaN</td>\n      <td>422893695378407</td>\n      <td>clayacabe411@gmail.com</td>\n      <td>...</td>\n      <td>NaN</td>\n      <td>NaN</td>\n      <td>2020-11-28 20:58:35.751+00</td>\n      <td>2020-11-28 20:58:35.751+00</td>\n      <td>NaN</td>\n      <td>NaN</td>\n      <td>NaN</td>\n      <td>NaN</td>\n      <td>NaN</td>\n      <td>NaN</td>\n    </tr>\n    <tr>\n      <th>285899</th>\n      <td>286508</td>\n      <td>286508</td>\n      <td>Edgardo Alexander</td>\n      <td>Guzmán Villalobos</td>\n      <td>1.0</td>\n      <td>NaN</td>\n      <td>1.0</td>\n      <td>NaN</td>\n      <td>NaN</td>\n      <td>e.alexandergv93@gmail.com</td>\n      <td>...</td>\n      <td>ES</td>\n      <td>NaN</td>\n      <td>2020-11-28 21:01:47.933+00</td>\n      <td>2020-11-28 21:01:47.933+00</td>\n      <td>NaN</td>\n      <td>67.0</td>\n      <td>NaN</td>\n      <td>NaN</td>\n      <td>NaN</td>\n      <td>NaN</td>\n    </tr>\n    <tr>\n      <th>285900</th>\n      <td>286509</td>\n      <td>286509</td>\n      <td>Jacqueline</td>\n      <td>natalie</td>\n      <td>NaN</td>\n      <td>NaN</td>\n      <td>1.0</td>\n      <td>NaN</td>\n      <td>NaN</td>\n      <td>janaespinozanoa@gmail.com</td>\n      <td>...</td>\n      <td>ES</td>\n      <td>NaN</td>\n      <td>2020-11-28 21:03:54.76+00</td>\n      <td>2020-11-28 21:03:54.76+00</td>\n      <td>NaN</td>\n      <td>176.0</td>\n      <td>NaN</td>\n      <td>NaN</td>\n      <td>NaN</td>\n      <td>NaN</td>\n    </tr>\n    <tr>\n      <th>285901</th>\n      <td>286510</td>\n      <td>286510</td>\n      <td>Myrna</td>\n      <td>Ubilla Hernando</td>\n      <td>2.0</td>\n      <td>NaN</td>\n      <td>1.0</td>\n      <td>NaN</td>\n      <td>NaN</td>\n      <td>myrubi@gmail.com</td>\n      <td>...</td>\n      <td>ES</td>\n      <td>NaN</td>\n      <td>2020-11-28 21:05:38.471+00</td>\n      <td>2020-11-28 21:05:38.471+00</td>\n      <td>NaN</td>\n      <td>45.0</td>\n      <td>NaN</td>\n      <td>NaN</td>\n      <td>NaN</td>\n      <td>NaN</td>\n    </tr>\n  </tbody>\n</table>\n<p>5 rows × 28 columns</p>\n</div>"
     },
     "metadata": {},
     "execution_count": 6
    }
   ],
   "source": [
    "df.tail()"
   ]
  },
  {
   "cell_type": "code",
   "execution_count": 7,
   "metadata": {},
   "outputs": [
    {
     "output_type": "execute_result",
     "data": {
      "text/plain": [
       "Index(['id', 'id-2', 'first_name', 'last_name', 'treatment', 'gender', 'type',\n",
       "       'identification_type', 'identification', 'email', 'phone', 'state',\n",
       "       'city', 'street', 'street_number', 'rest_address', 'zip_code',\n",
       "       'time_zone', 'language_code', 'born_date', 'created_at', 'updated_at',\n",
       "       'deleted_at', 'country_id', 'department', 'ocupation', 'rest_address2',\n",
       "       'country_phone'],\n",
       "      dtype='object')"
      ]
     },
     "metadata": {},
     "execution_count": 7
    }
   ],
   "source": [
    "df.columns"
   ]
  },
  {
   "cell_type": "code",
   "execution_count": 11,
   "metadata": {},
   "outputs": [
    {
     "output_type": "execute_result",
     "data": {
      "text/plain": [
       "285902"
      ]
     },
     "metadata": {},
     "execution_count": 11
    }
   ],
   "source": [
    "df.id.value_counts().sum()"
   ]
  },
  {
   "source": [],
   "cell_type": "markdown",
   "metadata": {}
  }
 ]
}