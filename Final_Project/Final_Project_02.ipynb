{
 "metadata": {
  "language_info": {
   "codemirror_mode": {
    "name": "ipython",
    "version": 3
   },
   "file_extension": ".py",
   "mimetype": "text/x-python",
   "name": "python",
   "nbconvert_exporter": "python",
   "pygments_lexer": "ipython3",
   "version": "3.8.3-final"
  },
  "orig_nbformat": 2,
  "kernelspec": {
   "name": "python3",
   "display_name": "Python 3",
   "language": "python"
  }
 },
 "nbformat": 4,
 "nbformat_minor": 2,
 "cells": [
  {
   "cell_type": "code",
   "execution_count": 1,
   "metadata": {},
   "outputs": [],
   "source": [
    "import pandas as pd \n",
    "import numpy as np \n",
    "import tqdm as tqdm \n",
    "import matplotlib.pyplot as plt \n",
    "import missingno\n",
    "import seaborn as sns\n",
    "import warnings\n",
    "import json \n",
    "import re\n",
    "\n",
    "warnings.filterwarnings('ignore') "
   ]
  },
  {
   "cell_type": "code",
   "execution_count": 2,
   "metadata": {},
   "outputs": [],
   "source": [
    "# Importando as bases de dados"
   ]
  },
  {
   "cell_type": "code",
   "execution_count": 3,
   "metadata": {},
   "outputs": [],
   "source": [
    "data_01 = pd.read_csv ('/Users/diegorodrigues/Documents/Iron_Hack/Part_Time_Jul_2020/000_Projects/Final/BBDD/12-12/data_01.csv')"
   ]
  },
  {
   "cell_type": "code",
   "execution_count": 4,
   "metadata": {},
   "outputs": [],
   "source": [
    "data_02 = pd.read_csv ('/Users/diegorodrigues/Documents/Iron_Hack/Part_Time_Jul_2020/000_Projects/Final/BBDD/12-12/data_02.csv')"
   ]
  },
  {
   "cell_type": "code",
   "execution_count": 5,
   "metadata": {},
   "outputs": [],
   "source": [
    "data_03 = pd.read_csv ('/Users/diegorodrigues/Documents/Iron_Hack/Part_Time_Jul_2020/000_Projects/Final/BBDD/12-12/data_03.csv')"
   ]
  },
  {
   "cell_type": "code",
   "execution_count": 6,
   "metadata": {},
   "outputs": [],
   "source": [
    "data_04 = pd.read_csv ('/Users/diegorodrigues/Documents/Iron_Hack/Part_Time_Jul_2020/000_Projects/Final/BBDD/12-12/data_04.csv')"
   ]
  },
  {
   "cell_type": "code",
   "execution_count": 7,
   "metadata": {},
   "outputs": [],
   "source": [
    "data_05 = pd.read_csv ('/Users/diegorodrigues/Documents/Iron_Hack/Part_Time_Jul_2020/000_Projects/Final/BBDD/12-12/data_05.csv')"
   ]
  },
  {
   "cell_type": "code",
   "execution_count": 8,
   "metadata": {},
   "outputs": [],
   "source": [
    "data_06 = pd.read_csv ('/Users/diegorodrigues/Documents/Iron_Hack/Part_Time_Jul_2020/000_Projects/Final/BBDD/12-12/data_06.csv')"
   ]
  },
  {
   "cell_type": "code",
   "execution_count": 9,
   "metadata": {},
   "outputs": [],
   "source": [
    "data_07 = pd.read_csv ('/Users/diegorodrigues/Documents/Iron_Hack/Part_Time_Jul_2020/000_Projects/Final/BBDD/12-12/data_07.csv')"
   ]
  },
  {
   "cell_type": "code",
   "execution_count": 10,
   "metadata": {},
   "outputs": [],
   "source": [
    "data_08 = pd.read_csv ('/Users/diegorodrigues/Documents/Iron_Hack/Part_Time_Jul_2020/000_Projects/Final/BBDD/12-12/data_08.csv')"
   ]
  },
  {
   "cell_type": "code",
   "execution_count": 11,
   "metadata": {},
   "outputs": [],
   "source": [
    "data_09 = pd.read_csv ('/Users/diegorodrigues/Documents/Iron_Hack/Part_Time_Jul_2020/000_Projects/Final/BBDD/12-12/data_09.csv')"
   ]
  },
  {
   "cell_type": "code",
   "execution_count": 12,
   "metadata": {},
   "outputs": [],
   "source": [
    "data_10 = pd.read_csv ('/Users/diegorodrigues/Documents/Iron_Hack/Part_Time_Jul_2020/000_Projects/Final/BBDD/12-12/data_10.csv')"
   ]
  },
  {
   "cell_type": "code",
   "execution_count": 13,
   "metadata": {},
   "outputs": [],
   "source": [
    "data_11 = pd.read_csv ('/Users/diegorodrigues/Documents/Iron_Hack/Part_Time_Jul_2020/000_Projects/Final/BBDD/12-12/data_11.csv')"
   ]
  },
  {
   "cell_type": "code",
   "execution_count": 14,
   "metadata": {},
   "outputs": [],
   "source": [
    "data_12 = pd.read_csv ('/Users/diegorodrigues/Documents/Iron_Hack/Part_Time_Jul_2020/000_Projects/Final/BBDD/12-12/data_12.csv')"
   ]
  },
  {
   "cell_type": "code",
   "execution_count": 15,
   "metadata": {},
   "outputs": [],
   "source": [
    "data_13 = pd.read_csv ('/Users/diegorodrigues/Documents/Iron_Hack/Part_Time_Jul_2020/000_Projects/Final/BBDD/12-12/data_13.csv')"
   ]
  },
  {
   "cell_type": "code",
   "execution_count": 16,
   "metadata": {},
   "outputs": [],
   "source": [
    "data_14 = pd.read_csv ('/Users/diegorodrigues/Documents/Iron_Hack/Part_Time_Jul_2020/000_Projects/Final/BBDD/12-12/data_14.csv')"
   ]
  },
  {
   "cell_type": "code",
   "execution_count": 17,
   "metadata": {},
   "outputs": [],
   "source": [
    "data_15 = pd.read_csv ('/Users/diegorodrigues/Documents/Iron_Hack/Part_Time_Jul_2020/000_Projects/Final/BBDD/12-12/data_15.csv')"
   ]
  },
  {
   "cell_type": "code",
   "execution_count": 18,
   "metadata": {},
   "outputs": [],
   "source": [
    "data_16 = pd.read_csv ('/Users/diegorodrigues/Documents/Iron_Hack/Part_Time_Jul_2020/000_Projects/Final/BBDD/12-12/data_16.csv')"
   ]
  },
  {
   "cell_type": "code",
   "execution_count": 19,
   "metadata": {},
   "outputs": [],
   "source": [
    "data_17 = pd.read_csv ('/Users/diegorodrigues/Documents/Iron_Hack/Part_Time_Jul_2020/000_Projects/Final/BBDD/12-12/data_17.csv')"
   ]
  },
  {
   "cell_type": "code",
   "execution_count": 20,
   "metadata": {},
   "outputs": [],
   "source": [
    "data_18 = pd.read_csv ('/Users/diegorodrigues/Documents/Iron_Hack/Part_Time_Jul_2020/000_Projects/Final/BBDD/12-12/data_18.csv')"
   ]
  },
  {
   "cell_type": "code",
   "execution_count": 21,
   "metadata": {},
   "outputs": [],
   "source": [
    "data_19 = pd.read_csv ('/Users/diegorodrigues/Documents/Iron_Hack/Part_Time_Jul_2020/000_Projects/Final/BBDD/12-12/data_19.csv')"
   ]
  },
  {
   "cell_type": "code",
   "execution_count": 22,
   "metadata": {},
   "outputs": [],
   "source": [
    "# concatenando os 19 dataframes em um"
   ]
  },
  {
   "cell_type": "code",
   "execution_count": 23,
   "metadata": {},
   "outputs": [],
   "source": [
    "df = pd.concat ([data_01, data_02, data_03, data_04, data_05, data_06, data_07, data_08, data_08, data_09, data_10, data_11, data_12, data_13, data_14, data_15, data_16, data_17, data_18, data_19])"
   ]
  },
  {
   "cell_type": "code",
   "execution_count": 24,
   "metadata": {},
   "outputs": [
    {
     "output_type": "execute_result",
     "data": {
      "text/plain": [
       "(1938916, 52)"
      ]
     },
     "metadata": {},
     "execution_count": 24
    }
   ],
   "source": [
    "df.shape"
   ]
  },
  {
   "cell_type": "code",
   "execution_count": 25,
   "metadata": {},
   "outputs": [
    {
     "output_type": "execute_result",
     "data": {
      "text/plain": [
       "Index(['lead_idd', 'person_id', 'organization_idd', 'event_id', 'data',\n",
       "       'description', 'id', 'is_subscription', 'amount', 'conversion_amount',\n",
       "       'appeal', 'fund', 'url_landing', 'utm_campaign', 'utm_source',\n",
       "       'utm_medium', 'utm_content', 'utm_term', 'transaction_gateway_code',\n",
       "       'monthly_plan_charge', 'subscription_gateway_code', 'state', 'status',\n",
       "       'created_at', 'updated_at', 'deleted_at', 'next_payment_date',\n",
       "       'gateway_organization_id', 'campaign_id', 'gateway_currency_id',\n",
       "       'lead_id', 'organization_id', 'form_id', 'gatawey_json_response',\n",
       "       'is_from_webhook', 'is_intent', 'payment_method', 'is_manual',\n",
       "       'metadata', 'module', 'is_imported', 'ip', 'payment_gateway_request',\n",
       "       'petition_id', 'payment_method_id', 'tax_relief', 'campaign_code_id',\n",
       "       'dpo_gift_id', 'frequency_id', 'subscription_cycle_number',\n",
       "       'landing_id', 'rng'],\n",
       "      dtype='object')"
      ]
     },
     "metadata": {},
     "execution_count": 25
    }
   ],
   "source": [
    "df.columns"
   ]
  },
  {
   "cell_type": "code",
   "execution_count": 26,
   "metadata": {},
   "outputs": [
    {
     "output_type": "execute_result",
     "data": {
      "text/plain": [
       "lead_idd                           0\n",
       "person_id                          0\n",
       "organization_idd                   0\n",
       "event_id                           0\n",
       "data                               0\n",
       "description                        0\n",
       "id                                 0\n",
       "is_subscription                    0\n",
       "amount                             0\n",
       "conversion_amount                  0\n",
       "appeal                       1938916\n",
       "fund                         1938916\n",
       "url_landing                  1253506\n",
       "utm_campaign                 1860395\n",
       "utm_source                   1863765\n",
       "utm_medium                   1858800\n",
       "utm_content                  1903539\n",
       "utm_term                     1905759\n",
       "transaction_gateway_code       82783\n",
       "monthly_plan_charge                0\n",
       "subscription_gateway_code     636227\n",
       "state                              0\n",
       "status                             0\n",
       "created_at                         0\n",
       "updated_at                         0\n",
       "deleted_at                   1938886\n",
       "next_payment_date            1553232\n",
       "gateway_organization_id       695409\n",
       "campaign_id                      604\n",
       "gateway_currency_id                4\n",
       "lead_id                            0\n",
       "organization_id                    0\n",
       "form_id                         1379\n",
       "gatawey_json_response          15359\n",
       "is_from_webhook                    0\n",
       "is_intent                          0\n",
       "payment_method                     0\n",
       "is_manual                          0\n",
       "metadata                     1381002\n",
       "module                             0\n",
       "is_imported                        0\n",
       "ip                           1679203\n",
       "payment_gateway_request      1746999\n",
       "petition_id                  1938916\n",
       "payment_method_id            1415844\n",
       "tax_relief                   1937883\n",
       "campaign_code_id             1923322\n",
       "dpo_gift_id                  1928178\n",
       "frequency_id                   56634\n",
       "subscription_cycle_number          0\n",
       "landing_id                   1938916\n",
       "rng                                0\n",
       "dtype: int64"
      ]
     },
     "metadata": {},
     "execution_count": 26
    }
   ],
   "source": [
    "df.isnull().sum()"
   ]
  },
  {
   "cell_type": "code",
   "execution_count": 27,
   "metadata": {},
   "outputs": [],
   "source": [
    "df_1 = df.drop (['appeal', 'fund', 'url_landing', 'utm_campaign', 'utm_source', 'utm_medium', 'utm_content', 'utm_content', 'utm_term', 'deleted_at', 'form_id', 'metadata', 'payment_gateway_request', 'petition_id', 'tax_relief', 'campaign_code_id', 'dpo_gift_id', 'landing_id'], axis=1)"
   ]
  },
  {
   "cell_type": "code",
   "execution_count": 28,
   "metadata": {},
   "outputs": [
    {
     "output_type": "execute_result",
     "data": {
      "text/plain": [
       "   lead_idd  person_id  organization_idd  event_id  \\\n",
       "0     33963      33771                18    827957   \n",
       "1     33963      33771                18    826679   \n",
       "2     33963      33771                18    836941   \n",
       "3     33963      33771                18    830093   \n",
       "4     33963      33771                18    839621   \n",
       "\n",
       "                                                data  \\\n",
       "0  {\"lead_id\":33963,\"campaign_id\":101,\"form_id\":4...   \n",
       "1  {\"lead_id\":33963,\"campaign_id\":101,\"form_id\":4...   \n",
       "2  {\"lead_id\":33963,\"campaign_id\":101,\"form_id\":4...   \n",
       "3  {\"lead_id\":33963,\"campaign_id\":101,\"form_id\":4...   \n",
       "4  {\"lead_id\":33963,\"campaign_id\":101,\"form_id\":4...   \n",
       "\n",
       "                  description     id  is_subscription   amount  \\\n",
       "0  DONATIONFAILED_WEBHOOK: 51  83884            False  50000.0   \n",
       "1  DONATIONFAILED_WEBHOOK: 51  83884            False  50000.0   \n",
       "2  DONATIONFAILED_WEBHOOK: 51  83884            False  50000.0   \n",
       "3  DONATIONFAILED_WEBHOOK: 51  83884            False  50000.0   \n",
       "4  DONATIONFAILED_WEBHOOK: 51  83884            False  50000.0   \n",
       "\n",
       "   conversion_amount  ... is_intent  payment_method is_manual  module  \\\n",
       "0            50000.0  ...     False               1     False       1   \n",
       "1            50000.0  ...     False               1     False       1   \n",
       "2            50000.0  ...     False               1     False       1   \n",
       "3            50000.0  ...     False               1     False       1   \n",
       "4            50000.0  ...     False               1     False       1   \n",
       "\n",
       "   is_imported   ip payment_method_id frequency_id  subscription_cycle_number  \\\n",
       "0        False  NaN               NaN          2.0                          2   \n",
       "1        False  NaN               NaN          2.0                          2   \n",
       "2        False  NaN               NaN          2.0                          2   \n",
       "3        False  NaN               NaN          2.0                          2   \n",
       "4        False  NaN               NaN          2.0                          2   \n",
       "\n",
       "        rng  \n",
       "0  0.734023  \n",
       "1  0.095331  \n",
       "2  0.253496  \n",
       "3  0.748214  \n",
       "4  0.800436  \n",
       "\n",
       "[5 rows x 35 columns]"
      ],
      "text/html": "<div>\n<style scoped>\n    .dataframe tbody tr th:only-of-type {\n        vertical-align: middle;\n    }\n\n    .dataframe tbody tr th {\n        vertical-align: top;\n    }\n\n    .dataframe thead th {\n        text-align: right;\n    }\n</style>\n<table border=\"1\" class=\"dataframe\">\n  <thead>\n    <tr style=\"text-align: right;\">\n      <th></th>\n      <th>lead_idd</th>\n      <th>person_id</th>\n      <th>organization_idd</th>\n      <th>event_id</th>\n      <th>data</th>\n      <th>description</th>\n      <th>id</th>\n      <th>is_subscription</th>\n      <th>amount</th>\n      <th>conversion_amount</th>\n      <th>...</th>\n      <th>is_intent</th>\n      <th>payment_method</th>\n      <th>is_manual</th>\n      <th>module</th>\n      <th>is_imported</th>\n      <th>ip</th>\n      <th>payment_method_id</th>\n      <th>frequency_id</th>\n      <th>subscription_cycle_number</th>\n      <th>rng</th>\n    </tr>\n  </thead>\n  <tbody>\n    <tr>\n      <th>0</th>\n      <td>33963</td>\n      <td>33771</td>\n      <td>18</td>\n      <td>827957</td>\n      <td>{\"lead_id\":33963,\"campaign_id\":101,\"form_id\":4...</td>\n      <td>DONATIONFAILED_WEBHOOK: 51</td>\n      <td>83884</td>\n      <td>False</td>\n      <td>50000.0</td>\n      <td>50000.0</td>\n      <td>...</td>\n      <td>False</td>\n      <td>1</td>\n      <td>False</td>\n      <td>1</td>\n      <td>False</td>\n      <td>NaN</td>\n      <td>NaN</td>\n      <td>2.0</td>\n      <td>2</td>\n      <td>0.734023</td>\n    </tr>\n    <tr>\n      <th>1</th>\n      <td>33963</td>\n      <td>33771</td>\n      <td>18</td>\n      <td>826679</td>\n      <td>{\"lead_id\":33963,\"campaign_id\":101,\"form_id\":4...</td>\n      <td>DONATIONFAILED_WEBHOOK: 51</td>\n      <td>83884</td>\n      <td>False</td>\n      <td>50000.0</td>\n      <td>50000.0</td>\n      <td>...</td>\n      <td>False</td>\n      <td>1</td>\n      <td>False</td>\n      <td>1</td>\n      <td>False</td>\n      <td>NaN</td>\n      <td>NaN</td>\n      <td>2.0</td>\n      <td>2</td>\n      <td>0.095331</td>\n    </tr>\n    <tr>\n      <th>2</th>\n      <td>33963</td>\n      <td>33771</td>\n      <td>18</td>\n      <td>836941</td>\n      <td>{\"lead_id\":33963,\"campaign_id\":101,\"form_id\":4...</td>\n      <td>DONATIONFAILED_WEBHOOK: 51</td>\n      <td>83884</td>\n      <td>False</td>\n      <td>50000.0</td>\n      <td>50000.0</td>\n      <td>...</td>\n      <td>False</td>\n      <td>1</td>\n      <td>False</td>\n      <td>1</td>\n      <td>False</td>\n      <td>NaN</td>\n      <td>NaN</td>\n      <td>2.0</td>\n      <td>2</td>\n      <td>0.253496</td>\n    </tr>\n    <tr>\n      <th>3</th>\n      <td>33963</td>\n      <td>33771</td>\n      <td>18</td>\n      <td>830093</td>\n      <td>{\"lead_id\":33963,\"campaign_id\":101,\"form_id\":4...</td>\n      <td>DONATIONFAILED_WEBHOOK: 51</td>\n      <td>83884</td>\n      <td>False</td>\n      <td>50000.0</td>\n      <td>50000.0</td>\n      <td>...</td>\n      <td>False</td>\n      <td>1</td>\n      <td>False</td>\n      <td>1</td>\n      <td>False</td>\n      <td>NaN</td>\n      <td>NaN</td>\n      <td>2.0</td>\n      <td>2</td>\n      <td>0.748214</td>\n    </tr>\n    <tr>\n      <th>4</th>\n      <td>33963</td>\n      <td>33771</td>\n      <td>18</td>\n      <td>839621</td>\n      <td>{\"lead_id\":33963,\"campaign_id\":101,\"form_id\":4...</td>\n      <td>DONATIONFAILED_WEBHOOK: 51</td>\n      <td>83884</td>\n      <td>False</td>\n      <td>50000.0</td>\n      <td>50000.0</td>\n      <td>...</td>\n      <td>False</td>\n      <td>1</td>\n      <td>False</td>\n      <td>1</td>\n      <td>False</td>\n      <td>NaN</td>\n      <td>NaN</td>\n      <td>2.0</td>\n      <td>2</td>\n      <td>0.800436</td>\n    </tr>\n  </tbody>\n</table>\n<p>5 rows × 35 columns</p>\n</div>"
     },
     "metadata": {},
     "execution_count": 28
    }
   ],
   "source": [
    "df_1.head()"
   ]
  },
  {
   "cell_type": "code",
   "execution_count": 29,
   "metadata": {},
   "outputs": [
    {
     "output_type": "error",
     "ename": "IndentationError",
     "evalue": "unexpected indent (<ipython-input-29-cc093537dfff>, line 3)",
     "traceback": [
      "\u001b[0;36m  File \u001b[0;32m\"<ipython-input-29-cc093537dfff>\"\u001b[0;36m, line \u001b[0;32m3\u001b[0m\n\u001b[0;31m    is_subscription: false,\u001b[0m\n\u001b[0m    ^\u001b[0m\n\u001b[0;31mIndentationError\u001b[0m\u001b[0;31m:\u001b[0m unexpected indent\n"
     ]
    }
   ],
   "source": [
    "# Obtener donaciones únicas:\n",
    "\n",
    "                is_subscription: false,\n",
    "\n",
    "                monthly_plan_charge: false,\n",
    "\n",
    "                is_intent: false,\n",
    "\n",
    "                state: 2\n",
    "\n",
    "                \n",
    "\n",
    "                \n",
    "\n",
    "                Obtener recurrencias:\n",
    "\n",
    "                \n",
    "\n",
    "                is_subscription: true,\n",
    "\n",
    "                monthly_plan_charge: false,\n",
    "\n",
    "                is_intent: false,\n",
    "\n",
    "                state: 3\n",
    "\n",
    "                \n",
    "\n",
    "                Obtener cargos de suscripción:\n",
    "\n",
    "                \n",
    "\n",
    "                is_subscription: false,\n",
    "\n",
    "                monthly_plan_charge: true,\n",
    "\n",
    "                is_intent: false,\n",
    "\n",
    "                state: 2 "
   ]
  },
  {
   "cell_type": "code",
   "execution_count": null,
   "metadata": {},
   "outputs": [],
   "source": [
    "# filtrando apenas as doações recorrentes"
   ]
  },
  {
   "cell_type": "code",
   "execution_count": 29,
   "metadata": {},
   "outputs": [],
   "source": [
    "mask_recurrents = (df_1['is_subscription'] == True) & (df_1['monthly_plan_charge'] == False) & (df_1['is_intent'] == False) & (df_1['state'] == 3)"
   ]
  },
  {
   "cell_type": "code",
   "execution_count": 30,
   "metadata": {},
   "outputs": [],
   "source": [
    "recurrents = df_1.loc[mask_recurrents, :]"
   ]
  },
  {
   "cell_type": "code",
   "execution_count": 31,
   "metadata": {},
   "outputs": [
    {
     "output_type": "execute_result",
     "data": {
      "text/plain": [
       "      lead_idd  person_id  organization_idd  event_id  \\\n",
       "1369     33963      33771                18    827957   \n",
       "1370     33963      33771                18    826679   \n",
       "1371     33963      33771                18    836941   \n",
       "1372     33963      33771                18    830093   \n",
       "1373     33963      33771                18    839621   \n",
       "\n",
       "                                                   data  \\\n",
       "1369  {\"lead_id\":33963,\"campaign_id\":101,\"form_id\":4...   \n",
       "1370  {\"lead_id\":33963,\"campaign_id\":101,\"form_id\":4...   \n",
       "1371  {\"lead_id\":33963,\"campaign_id\":101,\"form_id\":4...   \n",
       "1372  {\"lead_id\":33963,\"campaign_id\":101,\"form_id\":4...   \n",
       "1373  {\"lead_id\":33963,\"campaign_id\":101,\"form_id\":4...   \n",
       "\n",
       "                     description     id  is_subscription   amount  \\\n",
       "1369  DONATIONFAILED_WEBHOOK: 51  70711             True  50000.0   \n",
       "1370  DONATIONFAILED_WEBHOOK: 51  70711             True  50000.0   \n",
       "1371  DONATIONFAILED_WEBHOOK: 51  70711             True  50000.0   \n",
       "1372  DONATIONFAILED_WEBHOOK: 51  70711             True  50000.0   \n",
       "1373  DONATIONFAILED_WEBHOOK: 51  70711             True  50000.0   \n",
       "\n",
       "      conversion_amount  ... is_intent  payment_method is_manual  module  \\\n",
       "1369            50000.0  ...     False               1     False       1   \n",
       "1370            50000.0  ...     False               1     False       1   \n",
       "1371            50000.0  ...     False               1     False       1   \n",
       "1372            50000.0  ...     False               1     False       1   \n",
       "1373            50000.0  ...     False               1     False       1   \n",
       "\n",
       "      is_imported             ip payment_method_id frequency_id  \\\n",
       "1369        False  186.28.173.92               NaN          2.0   \n",
       "1370        False  186.28.173.92               NaN          2.0   \n",
       "1371        False  186.28.173.92               NaN          2.0   \n",
       "1372        False  186.28.173.92               NaN          2.0   \n",
       "1373        False  186.28.173.92               NaN          2.0   \n",
       "\n",
       "      subscription_cycle_number       rng  \n",
       "1369                          7  0.434643  \n",
       "1370                          7  0.287592  \n",
       "1371                          7  0.994683  \n",
       "1372                          7  0.002717  \n",
       "1373                          7  0.480003  \n",
       "\n",
       "[5 rows x 35 columns]"
      ],
      "text/html": "<div>\n<style scoped>\n    .dataframe tbody tr th:only-of-type {\n        vertical-align: middle;\n    }\n\n    .dataframe tbody tr th {\n        vertical-align: top;\n    }\n\n    .dataframe thead th {\n        text-align: right;\n    }\n</style>\n<table border=\"1\" class=\"dataframe\">\n  <thead>\n    <tr style=\"text-align: right;\">\n      <th></th>\n      <th>lead_idd</th>\n      <th>person_id</th>\n      <th>organization_idd</th>\n      <th>event_id</th>\n      <th>data</th>\n      <th>description</th>\n      <th>id</th>\n      <th>is_subscription</th>\n      <th>amount</th>\n      <th>conversion_amount</th>\n      <th>...</th>\n      <th>is_intent</th>\n      <th>payment_method</th>\n      <th>is_manual</th>\n      <th>module</th>\n      <th>is_imported</th>\n      <th>ip</th>\n      <th>payment_method_id</th>\n      <th>frequency_id</th>\n      <th>subscription_cycle_number</th>\n      <th>rng</th>\n    </tr>\n  </thead>\n  <tbody>\n    <tr>\n      <th>1369</th>\n      <td>33963</td>\n      <td>33771</td>\n      <td>18</td>\n      <td>827957</td>\n      <td>{\"lead_id\":33963,\"campaign_id\":101,\"form_id\":4...</td>\n      <td>DONATIONFAILED_WEBHOOK: 51</td>\n      <td>70711</td>\n      <td>True</td>\n      <td>50000.0</td>\n      <td>50000.0</td>\n      <td>...</td>\n      <td>False</td>\n      <td>1</td>\n      <td>False</td>\n      <td>1</td>\n      <td>False</td>\n      <td>186.28.173.92</td>\n      <td>NaN</td>\n      <td>2.0</td>\n      <td>7</td>\n      <td>0.434643</td>\n    </tr>\n    <tr>\n      <th>1370</th>\n      <td>33963</td>\n      <td>33771</td>\n      <td>18</td>\n      <td>826679</td>\n      <td>{\"lead_id\":33963,\"campaign_id\":101,\"form_id\":4...</td>\n      <td>DONATIONFAILED_WEBHOOK: 51</td>\n      <td>70711</td>\n      <td>True</td>\n      <td>50000.0</td>\n      <td>50000.0</td>\n      <td>...</td>\n      <td>False</td>\n      <td>1</td>\n      <td>False</td>\n      <td>1</td>\n      <td>False</td>\n      <td>186.28.173.92</td>\n      <td>NaN</td>\n      <td>2.0</td>\n      <td>7</td>\n      <td>0.287592</td>\n    </tr>\n    <tr>\n      <th>1371</th>\n      <td>33963</td>\n      <td>33771</td>\n      <td>18</td>\n      <td>836941</td>\n      <td>{\"lead_id\":33963,\"campaign_id\":101,\"form_id\":4...</td>\n      <td>DONATIONFAILED_WEBHOOK: 51</td>\n      <td>70711</td>\n      <td>True</td>\n      <td>50000.0</td>\n      <td>50000.0</td>\n      <td>...</td>\n      <td>False</td>\n      <td>1</td>\n      <td>False</td>\n      <td>1</td>\n      <td>False</td>\n      <td>186.28.173.92</td>\n      <td>NaN</td>\n      <td>2.0</td>\n      <td>7</td>\n      <td>0.994683</td>\n    </tr>\n    <tr>\n      <th>1372</th>\n      <td>33963</td>\n      <td>33771</td>\n      <td>18</td>\n      <td>830093</td>\n      <td>{\"lead_id\":33963,\"campaign_id\":101,\"form_id\":4...</td>\n      <td>DONATIONFAILED_WEBHOOK: 51</td>\n      <td>70711</td>\n      <td>True</td>\n      <td>50000.0</td>\n      <td>50000.0</td>\n      <td>...</td>\n      <td>False</td>\n      <td>1</td>\n      <td>False</td>\n      <td>1</td>\n      <td>False</td>\n      <td>186.28.173.92</td>\n      <td>NaN</td>\n      <td>2.0</td>\n      <td>7</td>\n      <td>0.002717</td>\n    </tr>\n    <tr>\n      <th>1373</th>\n      <td>33963</td>\n      <td>33771</td>\n      <td>18</td>\n      <td>839621</td>\n      <td>{\"lead_id\":33963,\"campaign_id\":101,\"form_id\":4...</td>\n      <td>DONATIONFAILED_WEBHOOK: 51</td>\n      <td>70711</td>\n      <td>True</td>\n      <td>50000.0</td>\n      <td>50000.0</td>\n      <td>...</td>\n      <td>False</td>\n      <td>1</td>\n      <td>False</td>\n      <td>1</td>\n      <td>False</td>\n      <td>186.28.173.92</td>\n      <td>NaN</td>\n      <td>2.0</td>\n      <td>7</td>\n      <td>0.480003</td>\n    </tr>\n  </tbody>\n</table>\n<p>5 rows × 35 columns</p>\n</div>"
     },
     "metadata": {},
     "execution_count": 31
    }
   ],
   "source": [
    "recurrents.head()"
   ]
  },
  {
   "cell_type": "code",
   "execution_count": 32,
   "metadata": {},
   "outputs": [],
   "source": [
    "recurrents = recurrents.reset_index()"
   ]
  },
  {
   "cell_type": "code",
   "execution_count": 33,
   "metadata": {},
   "outputs": [
    {
     "output_type": "execute_result",
     "data": {
      "text/plain": [
       "(72573, 36)"
      ]
     },
     "metadata": {},
     "execution_count": 33
    }
   ],
   "source": [
    "recurrents.shape"
   ]
  },
  {
   "cell_type": "code",
   "execution_count": 34,
   "metadata": {},
   "outputs": [],
   "source": [
    "# extraindo os Json da coluna Data e salvando em um novo dataset"
   ]
  },
  {
   "cell_type": "code",
   "execution_count": 35,
   "metadata": {},
   "outputs": [],
   "source": [
    "def transform (x):\n",
    "    return json.loads (x)"
   ]
  },
  {
   "cell_type": "code",
   "execution_count": 36,
   "metadata": {},
   "outputs": [],
   "source": [
    "y = recurrents['data'].apply(transform)"
   ]
  },
  {
   "cell_type": "code",
   "execution_count": 37,
   "metadata": {},
   "outputs": [],
   "source": [
    "data = pd.json_normalize(y)"
   ]
  },
  {
   "cell_type": "code",
   "execution_count": 38,
   "metadata": {},
   "outputs": [
    {
     "output_type": "execute_result",
     "data": {
      "text/plain": [
       "   lead_id campaign_id  form_id                           url_landing  \\\n",
       "0    33963         101    440.0  https://donar.cruzrojabogota.org.co/   \n",
       "1    33963         101    440.0  https://donar.cruzrojabogota.org.co/   \n",
       "2    33963         101    440.0  https://donar.cruzrojabogota.org.co/   \n",
       "3    33963         101    440.0  https://donar.cruzrojabogota.org.co/   \n",
       "4    33963         101    440.0  https://donar.cruzrojabogota.org.co/   \n",
       "\n",
       "  utm_campaign utm_source utm_medium utm_content utm_term    amount  ...  \\\n",
       "0         None       None       None        None     None  50000.00  ...   \n",
       "1         None       None       None        None     None  50000.00  ...   \n",
       "2         None       None       None        None     None  50000.00  ...   \n",
       "3         None       None       None        None     None  50000.00  ...   \n",
       "4         None       None       None        None     None  50000.00  ...   \n",
       "\n",
       "  reference_metadata.PRODUCTO  reference_metadata.DESCRIPCIÓN PRODUCTO  \\\n",
       "0                         NaN                                      NaN   \n",
       "1                         NaN                                      NaN   \n",
       "2                         NaN                                      NaN   \n",
       "3                         NaN                                      NaN   \n",
       "4                         NaN                                      NaN   \n",
       "\n",
       "  reference_metadata.ID PRODUCTO  reference_metadata.UNIDADES  \\\n",
       "0                            NaN                          NaN   \n",
       "1                            NaN                          NaN   \n",
       "2                            NaN                          NaN   \n",
       "3                            NaN                          NaN   \n",
       "4                            NaN                          NaN   \n",
       "\n",
       "  reference_metadata.PRECIO UNIDAD  reference_metadata.DESCUENTO  \\\n",
       "0                              NaN                           NaN   \n",
       "1                              NaN                           NaN   \n",
       "2                              NaN                           NaN   \n",
       "3                              NaN                           NaN   \n",
       "4                              NaN                           NaN   \n",
       "\n",
       "  reference_metadata.PRECIO CON DESCUENTO campaign_code_id metadata.quantity  \\\n",
       "0                                     NaN              NaN               NaN   \n",
       "1                                     NaN              NaN               NaN   \n",
       "2                                     NaN              NaN               NaN   \n",
       "3                                     NaN              NaN               NaN   \n",
       "4                                     NaN              NaN               NaN   \n",
       "\n",
       "  reference_metadata.quantity  \n",
       "0                         NaN  \n",
       "1                         NaN  \n",
       "2                         NaN  \n",
       "3                         NaN  \n",
       "4                         NaN  \n",
       "\n",
       "[5 rows x 106 columns]"
      ],
      "text/html": "<div>\n<style scoped>\n    .dataframe tbody tr th:only-of-type {\n        vertical-align: middle;\n    }\n\n    .dataframe tbody tr th {\n        vertical-align: top;\n    }\n\n    .dataframe thead th {\n        text-align: right;\n    }\n</style>\n<table border=\"1\" class=\"dataframe\">\n  <thead>\n    <tr style=\"text-align: right;\">\n      <th></th>\n      <th>lead_id</th>\n      <th>campaign_id</th>\n      <th>form_id</th>\n      <th>url_landing</th>\n      <th>utm_campaign</th>\n      <th>utm_source</th>\n      <th>utm_medium</th>\n      <th>utm_content</th>\n      <th>utm_term</th>\n      <th>amount</th>\n      <th>...</th>\n      <th>reference_metadata.PRODUCTO</th>\n      <th>reference_metadata.DESCRIPCIÓN PRODUCTO</th>\n      <th>reference_metadata.ID PRODUCTO</th>\n      <th>reference_metadata.UNIDADES</th>\n      <th>reference_metadata.PRECIO UNIDAD</th>\n      <th>reference_metadata.DESCUENTO</th>\n      <th>reference_metadata.PRECIO CON DESCUENTO</th>\n      <th>campaign_code_id</th>\n      <th>metadata.quantity</th>\n      <th>reference_metadata.quantity</th>\n    </tr>\n  </thead>\n  <tbody>\n    <tr>\n      <th>0</th>\n      <td>33963</td>\n      <td>101</td>\n      <td>440.0</td>\n      <td>https://donar.cruzrojabogota.org.co/</td>\n      <td>None</td>\n      <td>None</td>\n      <td>None</td>\n      <td>None</td>\n      <td>None</td>\n      <td>50000.00</td>\n      <td>...</td>\n      <td>NaN</td>\n      <td>NaN</td>\n      <td>NaN</td>\n      <td>NaN</td>\n      <td>NaN</td>\n      <td>NaN</td>\n      <td>NaN</td>\n      <td>NaN</td>\n      <td>NaN</td>\n      <td>NaN</td>\n    </tr>\n    <tr>\n      <th>1</th>\n      <td>33963</td>\n      <td>101</td>\n      <td>440.0</td>\n      <td>https://donar.cruzrojabogota.org.co/</td>\n      <td>None</td>\n      <td>None</td>\n      <td>None</td>\n      <td>None</td>\n      <td>None</td>\n      <td>50000.00</td>\n      <td>...</td>\n      <td>NaN</td>\n      <td>NaN</td>\n      <td>NaN</td>\n      <td>NaN</td>\n      <td>NaN</td>\n      <td>NaN</td>\n      <td>NaN</td>\n      <td>NaN</td>\n      <td>NaN</td>\n      <td>NaN</td>\n    </tr>\n    <tr>\n      <th>2</th>\n      <td>33963</td>\n      <td>101</td>\n      <td>440.0</td>\n      <td>https://donar.cruzrojabogota.org.co/</td>\n      <td>None</td>\n      <td>None</td>\n      <td>None</td>\n      <td>None</td>\n      <td>None</td>\n      <td>50000.00</td>\n      <td>...</td>\n      <td>NaN</td>\n      <td>NaN</td>\n      <td>NaN</td>\n      <td>NaN</td>\n      <td>NaN</td>\n      <td>NaN</td>\n      <td>NaN</td>\n      <td>NaN</td>\n      <td>NaN</td>\n      <td>NaN</td>\n    </tr>\n    <tr>\n      <th>3</th>\n      <td>33963</td>\n      <td>101</td>\n      <td>440.0</td>\n      <td>https://donar.cruzrojabogota.org.co/</td>\n      <td>None</td>\n      <td>None</td>\n      <td>None</td>\n      <td>None</td>\n      <td>None</td>\n      <td>50000.00</td>\n      <td>...</td>\n      <td>NaN</td>\n      <td>NaN</td>\n      <td>NaN</td>\n      <td>NaN</td>\n      <td>NaN</td>\n      <td>NaN</td>\n      <td>NaN</td>\n      <td>NaN</td>\n      <td>NaN</td>\n      <td>NaN</td>\n    </tr>\n    <tr>\n      <th>4</th>\n      <td>33963</td>\n      <td>101</td>\n      <td>440.0</td>\n      <td>https://donar.cruzrojabogota.org.co/</td>\n      <td>None</td>\n      <td>None</td>\n      <td>None</td>\n      <td>None</td>\n      <td>None</td>\n      <td>50000.00</td>\n      <td>...</td>\n      <td>NaN</td>\n      <td>NaN</td>\n      <td>NaN</td>\n      <td>NaN</td>\n      <td>NaN</td>\n      <td>NaN</td>\n      <td>NaN</td>\n      <td>NaN</td>\n      <td>NaN</td>\n      <td>NaN</td>\n    </tr>\n  </tbody>\n</table>\n<p>5 rows × 106 columns</p>\n</div>"
     },
     "metadata": {},
     "execution_count": 38
    }
   ],
   "source": [
    "data.head()"
   ]
  },
  {
   "cell_type": "code",
   "execution_count": 39,
   "metadata": {},
   "outputs": [],
   "source": [
    "# Concatenando os 2 data sets"
   ]
  },
  {
   "cell_type": "code",
   "execution_count": 40,
   "metadata": {},
   "outputs": [],
   "source": [
    "df_recur = pd.concat ([recurrents, data], axis=1)"
   ]
  },
  {
   "cell_type": "code",
   "execution_count": 41,
   "metadata": {},
   "outputs": [
    {
     "output_type": "execute_result",
     "data": {
      "text/plain": [
       "(72573, 142)"
      ]
     },
     "metadata": {},
     "execution_count": 41
    }
   ],
   "source": [
    "df_recur.shape"
   ]
  },
  {
   "cell_type": "code",
   "execution_count": 42,
   "metadata": {},
   "outputs": [
    {
     "output_type": "execute_result",
     "data": {
      "text/plain": [
       "   index  lead_idd  person_id  organization_idd  event_id  \\\n",
       "0   1369     33963      33771                18    827957   \n",
       "1   1370     33963      33771                18    826679   \n",
       "2   1371     33963      33771                18    836941   \n",
       "3   1372     33963      33771                18    830093   \n",
       "4   1373     33963      33771                18    839621   \n",
       "\n",
       "                                                data  \\\n",
       "0  {\"lead_id\":33963,\"campaign_id\":101,\"form_id\":4...   \n",
       "1  {\"lead_id\":33963,\"campaign_id\":101,\"form_id\":4...   \n",
       "2  {\"lead_id\":33963,\"campaign_id\":101,\"form_id\":4...   \n",
       "3  {\"lead_id\":33963,\"campaign_id\":101,\"form_id\":4...   \n",
       "4  {\"lead_id\":33963,\"campaign_id\":101,\"form_id\":4...   \n",
       "\n",
       "                  description     id  is_subscription   amount  ...  \\\n",
       "0  DONATIONFAILED_WEBHOOK: 51  70711             True  50000.0  ...   \n",
       "1  DONATIONFAILED_WEBHOOK: 51  70711             True  50000.0  ...   \n",
       "2  DONATIONFAILED_WEBHOOK: 51  70711             True  50000.0  ...   \n",
       "3  DONATIONFAILED_WEBHOOK: 51  70711             True  50000.0  ...   \n",
       "4  DONATIONFAILED_WEBHOOK: 51  70711             True  50000.0  ...   \n",
       "\n",
       "   reference_metadata.PRODUCTO reference_metadata.DESCRIPCIÓN PRODUCTO  \\\n",
       "0                          NaN                                     NaN   \n",
       "1                          NaN                                     NaN   \n",
       "2                          NaN                                     NaN   \n",
       "3                          NaN                                     NaN   \n",
       "4                          NaN                                     NaN   \n",
       "\n",
       "   reference_metadata.ID PRODUCTO reference_metadata.UNIDADES  \\\n",
       "0                             NaN                         NaN   \n",
       "1                             NaN                         NaN   \n",
       "2                             NaN                         NaN   \n",
       "3                             NaN                         NaN   \n",
       "4                             NaN                         NaN   \n",
       "\n",
       "   reference_metadata.PRECIO UNIDAD  reference_metadata.DESCUENTO  \\\n",
       "0                               NaN                           NaN   \n",
       "1                               NaN                           NaN   \n",
       "2                               NaN                           NaN   \n",
       "3                               NaN                           NaN   \n",
       "4                               NaN                           NaN   \n",
       "\n",
       "  reference_metadata.PRECIO CON DESCUENTO campaign_code_id metadata.quantity  \\\n",
       "0                                     NaN              NaN               NaN   \n",
       "1                                     NaN              NaN               NaN   \n",
       "2                                     NaN              NaN               NaN   \n",
       "3                                     NaN              NaN               NaN   \n",
       "4                                     NaN              NaN               NaN   \n",
       "\n",
       "   reference_metadata.quantity  \n",
       "0                          NaN  \n",
       "1                          NaN  \n",
       "2                          NaN  \n",
       "3                          NaN  \n",
       "4                          NaN  \n",
       "\n",
       "[5 rows x 142 columns]"
      ],
      "text/html": "<div>\n<style scoped>\n    .dataframe tbody tr th:only-of-type {\n        vertical-align: middle;\n    }\n\n    .dataframe tbody tr th {\n        vertical-align: top;\n    }\n\n    .dataframe thead th {\n        text-align: right;\n    }\n</style>\n<table border=\"1\" class=\"dataframe\">\n  <thead>\n    <tr style=\"text-align: right;\">\n      <th></th>\n      <th>index</th>\n      <th>lead_idd</th>\n      <th>person_id</th>\n      <th>organization_idd</th>\n      <th>event_id</th>\n      <th>data</th>\n      <th>description</th>\n      <th>id</th>\n      <th>is_subscription</th>\n      <th>amount</th>\n      <th>...</th>\n      <th>reference_metadata.PRODUCTO</th>\n      <th>reference_metadata.DESCRIPCIÓN PRODUCTO</th>\n      <th>reference_metadata.ID PRODUCTO</th>\n      <th>reference_metadata.UNIDADES</th>\n      <th>reference_metadata.PRECIO UNIDAD</th>\n      <th>reference_metadata.DESCUENTO</th>\n      <th>reference_metadata.PRECIO CON DESCUENTO</th>\n      <th>campaign_code_id</th>\n      <th>metadata.quantity</th>\n      <th>reference_metadata.quantity</th>\n    </tr>\n  </thead>\n  <tbody>\n    <tr>\n      <th>0</th>\n      <td>1369</td>\n      <td>33963</td>\n      <td>33771</td>\n      <td>18</td>\n      <td>827957</td>\n      <td>{\"lead_id\":33963,\"campaign_id\":101,\"form_id\":4...</td>\n      <td>DONATIONFAILED_WEBHOOK: 51</td>\n      <td>70711</td>\n      <td>True</td>\n      <td>50000.0</td>\n      <td>...</td>\n      <td>NaN</td>\n      <td>NaN</td>\n      <td>NaN</td>\n      <td>NaN</td>\n      <td>NaN</td>\n      <td>NaN</td>\n      <td>NaN</td>\n      <td>NaN</td>\n      <td>NaN</td>\n      <td>NaN</td>\n    </tr>\n    <tr>\n      <th>1</th>\n      <td>1370</td>\n      <td>33963</td>\n      <td>33771</td>\n      <td>18</td>\n      <td>826679</td>\n      <td>{\"lead_id\":33963,\"campaign_id\":101,\"form_id\":4...</td>\n      <td>DONATIONFAILED_WEBHOOK: 51</td>\n      <td>70711</td>\n      <td>True</td>\n      <td>50000.0</td>\n      <td>...</td>\n      <td>NaN</td>\n      <td>NaN</td>\n      <td>NaN</td>\n      <td>NaN</td>\n      <td>NaN</td>\n      <td>NaN</td>\n      <td>NaN</td>\n      <td>NaN</td>\n      <td>NaN</td>\n      <td>NaN</td>\n    </tr>\n    <tr>\n      <th>2</th>\n      <td>1371</td>\n      <td>33963</td>\n      <td>33771</td>\n      <td>18</td>\n      <td>836941</td>\n      <td>{\"lead_id\":33963,\"campaign_id\":101,\"form_id\":4...</td>\n      <td>DONATIONFAILED_WEBHOOK: 51</td>\n      <td>70711</td>\n      <td>True</td>\n      <td>50000.0</td>\n      <td>...</td>\n      <td>NaN</td>\n      <td>NaN</td>\n      <td>NaN</td>\n      <td>NaN</td>\n      <td>NaN</td>\n      <td>NaN</td>\n      <td>NaN</td>\n      <td>NaN</td>\n      <td>NaN</td>\n      <td>NaN</td>\n    </tr>\n    <tr>\n      <th>3</th>\n      <td>1372</td>\n      <td>33963</td>\n      <td>33771</td>\n      <td>18</td>\n      <td>830093</td>\n      <td>{\"lead_id\":33963,\"campaign_id\":101,\"form_id\":4...</td>\n      <td>DONATIONFAILED_WEBHOOK: 51</td>\n      <td>70711</td>\n      <td>True</td>\n      <td>50000.0</td>\n      <td>...</td>\n      <td>NaN</td>\n      <td>NaN</td>\n      <td>NaN</td>\n      <td>NaN</td>\n      <td>NaN</td>\n      <td>NaN</td>\n      <td>NaN</td>\n      <td>NaN</td>\n      <td>NaN</td>\n      <td>NaN</td>\n    </tr>\n    <tr>\n      <th>4</th>\n      <td>1373</td>\n      <td>33963</td>\n      <td>33771</td>\n      <td>18</td>\n      <td>839621</td>\n      <td>{\"lead_id\":33963,\"campaign_id\":101,\"form_id\":4...</td>\n      <td>DONATIONFAILED_WEBHOOK: 51</td>\n      <td>70711</td>\n      <td>True</td>\n      <td>50000.0</td>\n      <td>...</td>\n      <td>NaN</td>\n      <td>NaN</td>\n      <td>NaN</td>\n      <td>NaN</td>\n      <td>NaN</td>\n      <td>NaN</td>\n      <td>NaN</td>\n      <td>NaN</td>\n      <td>NaN</td>\n      <td>NaN</td>\n    </tr>\n  </tbody>\n</table>\n<p>5 rows × 142 columns</p>\n</div>"
     },
     "metadata": {},
     "execution_count": 42
    }
   ],
   "source": [
    "df_recur.head()"
   ]
  },
  {
   "cell_type": "code",
   "execution_count": 43,
   "metadata": {},
   "outputs": [
    {
     "output_type": "execute_result",
     "data": {
      "text/plain": [
       "Index(['index', 'lead_idd', 'person_id', 'organization_idd', 'event_id',\n",
       "       'data', 'description', 'id', 'is_subscription', 'amount',\n",
       "       ...\n",
       "       'reference_metadata.PRODUCTO',\n",
       "       'reference_metadata.DESCRIPCIÓN PRODUCTO',\n",
       "       'reference_metadata.ID PRODUCTO', 'reference_metadata.UNIDADES',\n",
       "       'reference_metadata.PRECIO UNIDAD', 'reference_metadata.DESCUENTO',\n",
       "       'reference_metadata.PRECIO CON DESCUENTO', 'campaign_code_id',\n",
       "       'metadata.quantity', 'reference_metadata.quantity'],\n",
       "      dtype='object', length=142)"
      ]
     },
     "metadata": {},
     "execution_count": 43
    }
   ],
   "source": [
    "df_recur.columns"
   ]
  },
  {
   "cell_type": "code",
   "execution_count": 44,
   "metadata": {},
   "outputs": [],
   "source": [
    "# Comparando as colunas para entender duplicados"
   ]
  },
  {
   "cell_type": "code",
   "execution_count": 45,
   "metadata": {},
   "outputs": [
    {
     "output_type": "execute_result",
     "data": {
      "text/plain": [
       "False"
      ]
     },
     "metadata": {},
     "execution_count": 45
    }
   ],
   "source": [
    "df_recur.equals (['reference_metadata.countryAndCity', 'metadata.countryAndCity'])"
   ]
  },
  {
   "cell_type": "code",
   "execution_count": 46,
   "metadata": {},
   "outputs": [
    {
     "output_type": "execute_result",
     "data": {
      "text/plain": [
       "(72573,)"
      ]
     },
     "metadata": {},
     "execution_count": 46
    }
   ],
   "source": [
    "df_recur['reference_metadata.countryAndCity'].shape"
   ]
  },
  {
   "cell_type": "code",
   "execution_count": 47,
   "metadata": {},
   "outputs": [
    {
     "output_type": "execute_result",
     "data": {
      "text/plain": [
       "(72573,)"
      ]
     },
     "metadata": {},
     "execution_count": 47
    }
   ],
   "source": [
    "df_recur['metadata.countryAndCity'].shape"
   ]
  },
  {
   "cell_type": "code",
   "execution_count": 48,
   "metadata": {},
   "outputs": [
    {
     "output_type": "execute_result",
     "data": {
      "text/plain": [
       "       reference_metadata.countryAndCity            metadata.countryAndCity\n",
       "0        Colombia@@Bogotá@@3688685@@null                                NaN\n",
       "1        Colombia@@Bogotá@@3688685@@null                                NaN\n",
       "2        Colombia@@Bogotá@@3688685@@null                                NaN\n",
       "3        Colombia@@Bogotá@@3688685@@null                                NaN\n",
       "4        Colombia@@Bogotá@@3688685@@null                                NaN\n",
       "...                                  ...                                ...\n",
       "72568                                NaN          Peru@@Lima@@3936451@@null\n",
       "72569  Colombia@@Medellín@@3689815@@null                                NaN\n",
       "72570                                NaN  Colombia@@Medellín@@3689815@@null\n",
       "72571  Colombia@@Medellín@@3689815@@null  Colombia@@Medellín@@3689815@@null\n",
       "72572                                NaN                                NaN\n",
       "\n",
       "[72573 rows x 2 columns]"
      ],
      "text/html": "<div>\n<style scoped>\n    .dataframe tbody tr th:only-of-type {\n        vertical-align: middle;\n    }\n\n    .dataframe tbody tr th {\n        vertical-align: top;\n    }\n\n    .dataframe thead th {\n        text-align: right;\n    }\n</style>\n<table border=\"1\" class=\"dataframe\">\n  <thead>\n    <tr style=\"text-align: right;\">\n      <th></th>\n      <th>reference_metadata.countryAndCity</th>\n      <th>metadata.countryAndCity</th>\n    </tr>\n  </thead>\n  <tbody>\n    <tr>\n      <th>0</th>\n      <td>Colombia@@Bogotá@@3688685@@null</td>\n      <td>NaN</td>\n    </tr>\n    <tr>\n      <th>1</th>\n      <td>Colombia@@Bogotá@@3688685@@null</td>\n      <td>NaN</td>\n    </tr>\n    <tr>\n      <th>2</th>\n      <td>Colombia@@Bogotá@@3688685@@null</td>\n      <td>NaN</td>\n    </tr>\n    <tr>\n      <th>3</th>\n      <td>Colombia@@Bogotá@@3688685@@null</td>\n      <td>NaN</td>\n    </tr>\n    <tr>\n      <th>4</th>\n      <td>Colombia@@Bogotá@@3688685@@null</td>\n      <td>NaN</td>\n    </tr>\n    <tr>\n      <th>...</th>\n      <td>...</td>\n      <td>...</td>\n    </tr>\n    <tr>\n      <th>72568</th>\n      <td>NaN</td>\n      <td>Peru@@Lima@@3936451@@null</td>\n    </tr>\n    <tr>\n      <th>72569</th>\n      <td>Colombia@@Medellín@@3689815@@null</td>\n      <td>NaN</td>\n    </tr>\n    <tr>\n      <th>72570</th>\n      <td>NaN</td>\n      <td>Colombia@@Medellín@@3689815@@null</td>\n    </tr>\n    <tr>\n      <th>72571</th>\n      <td>Colombia@@Medellín@@3689815@@null</td>\n      <td>Colombia@@Medellín@@3689815@@null</td>\n    </tr>\n    <tr>\n      <th>72572</th>\n      <td>NaN</td>\n      <td>NaN</td>\n    </tr>\n  </tbody>\n</table>\n<p>72573 rows × 2 columns</p>\n</div>"
     },
     "metadata": {},
     "execution_count": 48
    }
   ],
   "source": [
    "df_recur [['reference_metadata.countryAndCity','metadata.countryAndCity']]"
   ]
  },
  {
   "cell_type": "code",
   "execution_count": 49,
   "metadata": {},
   "outputs": [
    {
     "output_type": "execute_result",
     "data": {
      "text/plain": [
       "      reference_metadata.operatingSystemName metadata.operatingSystemName\n",
       "0                                 Windows NT                          NaN\n",
       "1                                 Windows NT                          NaN\n",
       "2                                 Windows NT                          NaN\n",
       "3                                 Windows NT                          NaN\n",
       "4                                 Windows NT                          NaN\n",
       "...                                      ...                          ...\n",
       "72568                                    NaN                   Windows NT\n",
       "72569                                Android                          NaN\n",
       "72570                                    NaN                      Android\n",
       "72571                                Android                      Android\n",
       "72572                                    NaN                          NaN\n",
       "\n",
       "[72573 rows x 2 columns]"
      ],
      "text/html": "<div>\n<style scoped>\n    .dataframe tbody tr th:only-of-type {\n        vertical-align: middle;\n    }\n\n    .dataframe tbody tr th {\n        vertical-align: top;\n    }\n\n    .dataframe thead th {\n        text-align: right;\n    }\n</style>\n<table border=\"1\" class=\"dataframe\">\n  <thead>\n    <tr style=\"text-align: right;\">\n      <th></th>\n      <th>reference_metadata.operatingSystemName</th>\n      <th>metadata.operatingSystemName</th>\n    </tr>\n  </thead>\n  <tbody>\n    <tr>\n      <th>0</th>\n      <td>Windows NT</td>\n      <td>NaN</td>\n    </tr>\n    <tr>\n      <th>1</th>\n      <td>Windows NT</td>\n      <td>NaN</td>\n    </tr>\n    <tr>\n      <th>2</th>\n      <td>Windows NT</td>\n      <td>NaN</td>\n    </tr>\n    <tr>\n      <th>3</th>\n      <td>Windows NT</td>\n      <td>NaN</td>\n    </tr>\n    <tr>\n      <th>4</th>\n      <td>Windows NT</td>\n      <td>NaN</td>\n    </tr>\n    <tr>\n      <th>...</th>\n      <td>...</td>\n      <td>...</td>\n    </tr>\n    <tr>\n      <th>72568</th>\n      <td>NaN</td>\n      <td>Windows NT</td>\n    </tr>\n    <tr>\n      <th>72569</th>\n      <td>Android</td>\n      <td>NaN</td>\n    </tr>\n    <tr>\n      <th>72570</th>\n      <td>NaN</td>\n      <td>Android</td>\n    </tr>\n    <tr>\n      <th>72571</th>\n      <td>Android</td>\n      <td>Android</td>\n    </tr>\n    <tr>\n      <th>72572</th>\n      <td>NaN</td>\n      <td>NaN</td>\n    </tr>\n  </tbody>\n</table>\n<p>72573 rows × 2 columns</p>\n</div>"
     },
     "metadata": {},
     "execution_count": 49
    }
   ],
   "source": [
    "df_recur [['reference_metadata.operatingSystemName','metadata.operatingSystemName']]"
   ]
  },
  {
   "cell_type": "code",
   "execution_count": null,
   "metadata": {},
   "outputs": [],
   "source": []
  },
  {
   "cell_type": "code",
   "execution_count": null,
   "metadata": {},
   "outputs": [],
   "source": []
  },
  {
   "cell_type": "code",
   "execution_count": 50,
   "metadata": {},
   "outputs": [
    {
     "output_type": "stream",
     "name": "stdout",
     "text": [
      "index\nlead_idd\nperson_id\norganization_idd\nevent_id\ndata\ndescription\nid\nis_subscription\namount\nconversion_amount\ntransaction_gateway_code\nmonthly_plan_charge\nsubscription_gateway_code\nstate\nstatus\ncreated_at\nupdated_at\nnext_payment_date\ngateway_organization_id\ncampaign_id\ngateway_currency_id\nlead_id\norganization_id\ngatawey_json_response\nis_from_webhook\nis_intent\npayment_method\nis_manual\nmodule\nis_imported\nip\npayment_method_id\nfrequency_id\nsubscription_cycle_number\nrng\nlead_id\ncampaign_id\nform_id\nurl_landing\nutm_campaign\nutm_source\nutm_medium\nutm_content\nutm_term\namount\nconversion_amount\npayment_method\ngateway\ngatewayId\ntransaction_gateway_code\nreference_id\ncampaign\nform\nis_subscription\nmonthly_plan_charge\nreference_metadata.organizationId\nreference_metadata.countryAndCity\nreference_metadata.deviceCategory\nreference_metadata.userIp\nreference_metadata.userLocation.lon\nreference_metadata.userLocation.lat\nreference_metadata.operatingSystemFamily\nreference_metadata.operatingSystemName\nreference_metadata.sessionAdminSubDiv1\nreference_metadata.sessionCity\nreference_metadata.sessionCountryCode\nreference_metadata.sessionCountryName\nreference_metadata.userAgent\nreference_metadata.userAgentName\nreference_metadata.userAgentNameAndVersion\nreference_metadata.userAgentVersion\nreference_metadata.userWindowResolution\nreference_metadata.urlLanding\ncurrency.id\ncurrency.name\ncurrency.code\ncurrency.symbol\ncurrency.conversion_amount\ncurrency.created_at\ncurrency.updated_at\nreference_metadata\nreference_metadata.sessionIsp\nreference_metadata.utmCampaign\nreference_metadata.utmSource\nreference_metadata.utmMedium\ndonation_certificate_id\ndonation_id\ndonation_ids\ndonation_certificate_batch_id\nmetadata\nmetadata.organizationId\nmetadata.countryAndCity\nmetadata.deviceCategory\nmetadata.userIp\nmetadata.userLocation.lon\nmetadata.userLocation.lat\nmetadata.operatingSystemFamily\nmetadata.operatingSystemName\nmetadata.sessionAdminSubDiv1\nmetadata.sessionCity\nmetadata.sessionCountryCode\nmetadata.sessionCountryName\nmetadata.sessionIsp\nmetadata.userAgent\nmetadata.userAgentName\nmetadata.userAgentNameAndVersion\nmetadata.userAgentVersion\nmetadata.userWindowResolution\nmetadata.urlLanding\nmetadata.gateway.name\nmetadata.amount\nmetadata.is_subscription\nmetadata.form.name\nmetadata.campaign.name\nreference_metadata.gateway.name\nreference_metadata.amount\nreference_metadata.is_subscription\nreference_metadata.form.name\nreference_metadata.campaign.name\nreference_metadata.utmContent\nreference_metadata.utmTerm\nmetadata.utmCampaign\nmetadata.utmSource\nmetadata.utmMedium\nmetadata.utmContent\nmetadata.utmTerm\nreference_metadata.sessionAdminSubDiv2\nmetadata.sessionAdminSubDiv2\nreference_metadata.ID TIENDA\nreference_metadata.TIENDA\nreference_metadata.ID RAPPITENDERO\nreference_metadata.PRODUCTO\nreference_metadata.DESCRIPCIÓN PRODUCTO\nreference_metadata.ID PRODUCTO\nreference_metadata.UNIDADES\nreference_metadata.PRECIO UNIDAD\nreference_metadata.DESCUENTO\nreference_metadata.PRECIO CON DESCUENTO\ncampaign_code_id\nmetadata.quantity\nreference_metadata.quantity\n"
     ]
    }
   ],
   "source": [
    "for i in df_recur.columns:\n",
    "    print (i)"
   ]
  },
  {
   "cell_type": "code",
   "execution_count": 51,
   "metadata": {},
   "outputs": [],
   "source": [
    "df_recur_clean = df_recur.drop (['lead_id', 'campaign_id', 'form_id', 'url_landing', 'utm_campaign', 'utm_source', 'utm_medium', 'utm_content', 'utm_term', 'gatewayId', 'transaction_gateway_code', 'reference_id', 'campaign', 'form', 'reference_metadata.organizationId', 'metadata.organizationId' , 'reference_metadata.userIp', 'metadata.userIp','reference_metadata.sessionAdminSubDiv1', 'metadata.sessionAdminSubDiv1', 'reference_metadata.userAgent', 'metadata.userAgent', 'reference_metadata.userAgentNameAndVersion', 'metadata.userAgentNameAndVersion', 'reference_metadata.userAgentVersion', 'metadata.userAgentVersion', 'reference_metadata.urlLanding', 'metadata.urlLanding', 'currency.created_at', 'currency.updated_at', 'reference_metadata', 'reference_metadata.sessionIsp', 'reference_metadata.utmCampaign', 'reference_metadata.utmSource', 'reference_metadata.utmMedium', 'donation_certificate_id', 'donation_id', 'donation_ids', 'donation_certificate_batch_id', 'metadata', 'metadata.organizationId', 'metadata.urlLanding', 'metadata.form.name', 'metadata.campaign.name', 'reference_metadata.gateway.name', 'reference_metadata.amount', 'reference_metadata.is_subscription', 'reference_metadata.form.name', 'reference_metadata.campaign.name', 'reference_metadata.utmContent', 'reference_metadata.utmTerm', 'metadata.utmCampaign', 'metadata.utmSource', 'metadata.utmMedium', 'metadata.utmContent', 'metadata.utmTerm', 'reference_metadata.sessionAdminSubDiv2','reference_metadata.ID TIENDA', 'reference_metadata.TIENDA', 'reference_metadata.ID RAPPITENDERO', 'reference_metadata.PRODUCTO', 'reference_metadata.DESCRIPCIÓN PRODUCTO', 'reference_metadata.ID PRODUCTO', 'reference_metadata.PRODUCTO', 'reference_metadata.DESCRIPCIÓN PRODUCTO', 'reference_metadata.ID PRODUCTO', 'reference_metadata.UNIDADES', 'reference_metadata.PRECIO UNIDAD' , 'reference_metadata.DESCUENTO', 'reference_metadata.PRECIO CON DESCUENTO', 'campaign_code_id', 'metadata.quantity' , 'reference_metadata.quantity'], axis = 1)"
   ]
  },
  {
   "cell_type": "code",
   "execution_count": 52,
   "metadata": {},
   "outputs": [
    {
     "output_type": "execute_result",
     "data": {
      "text/plain": [
       "(72573, 71)"
      ]
     },
     "metadata": {},
     "execution_count": 52
    }
   ],
   "source": [
    "df_recur_clean.shape"
   ]
  },
  {
   "cell_type": "code",
   "execution_count": 53,
   "metadata": {},
   "outputs": [
    {
     "output_type": "execute_result",
     "data": {
      "text/plain": [
       "Index(['index', 'lead_idd', 'person_id', 'organization_idd', 'event_id',\n",
       "       'data', 'description', 'id', 'is_subscription', 'amount',\n",
       "       'conversion_amount', 'monthly_plan_charge', 'subscription_gateway_code',\n",
       "       'state', 'status', 'created_at', 'updated_at', 'next_payment_date',\n",
       "       'gateway_organization_id', 'gateway_currency_id', 'organization_id',\n",
       "       'gatawey_json_response', 'is_from_webhook', 'is_intent',\n",
       "       'payment_method', 'is_manual', 'module', 'is_imported', 'ip',\n",
       "       'payment_method_id', 'frequency_id', 'subscription_cycle_number', 'rng',\n",
       "       'amount', 'conversion_amount', 'payment_method', 'gateway',\n",
       "       'is_subscription', 'monthly_plan_charge',\n",
       "       'reference_metadata.countryAndCity',\n",
       "       'reference_metadata.deviceCategory',\n",
       "       'reference_metadata.userLocation.lon',\n",
       "       'reference_metadata.userLocation.lat',\n",
       "       'reference_metadata.operatingSystemFamily',\n",
       "       'reference_metadata.operatingSystemName',\n",
       "       'reference_metadata.sessionCity',\n",
       "       'reference_metadata.sessionCountryCode',\n",
       "       'reference_metadata.sessionCountryName',\n",
       "       'reference_metadata.userAgentName',\n",
       "       'reference_metadata.userWindowResolution', 'currency.id',\n",
       "       'currency.name', 'currency.code', 'currency.symbol',\n",
       "       'currency.conversion_amount', 'metadata.countryAndCity',\n",
       "       'metadata.deviceCategory', 'metadata.userLocation.lon',\n",
       "       'metadata.userLocation.lat', 'metadata.operatingSystemFamily',\n",
       "       'metadata.operatingSystemName', 'metadata.sessionCity',\n",
       "       'metadata.sessionCountryCode', 'metadata.sessionCountryName',\n",
       "       'metadata.sessionIsp', 'metadata.userAgentName',\n",
       "       'metadata.userWindowResolution', 'metadata.gateway.name',\n",
       "       'metadata.amount', 'metadata.is_subscription',\n",
       "       'metadata.sessionAdminSubDiv2'],\n",
       "      dtype='object')"
      ]
     },
     "metadata": {},
     "execution_count": 53
    }
   ],
   "source": [
    "df_recur_clean.columns"
   ]
  },
  {
   "cell_type": "code",
   "execution_count": 54,
   "metadata": {},
   "outputs": [],
   "source": [
    "# unindo 2 columnas com mesmas respostas em linhas diferentes - com um problema relacionado aos valores NaN. "
   ]
  },
  {
   "cell_type": "code",
   "execution_count": 55,
   "metadata": {},
   "outputs": [],
   "source": [
    "# df_recur_clean[['metadata.operatingSystemName', 'reference_metadata.operatingSystemName']].fillna ('' , inplace=True)"
   ]
  },
  {
   "cell_type": "code",
   "execution_count": 56,
   "metadata": {},
   "outputs": [],
   "source": [
    "# df_recur_clean['operating_system'] = df_recur_clean[['metadata.operatingSystemName', 'reference_metadata.operatingSystemName']].agg ('-'.join, axis = 1)"
   ]
  },
  {
   "cell_type": "code",
   "execution_count": 57,
   "metadata": {},
   "outputs": [],
   "source": [
    "#criando uma nova coluna que recebe as informações das 2 colunas e une com um hifen as duas informações \n",
    "df_recur_clean['operating_system'] = df_recur_clean['metadata.operatingSystemName'].astype(str) + ' - ' +  df_recur_clean ['reference_metadata.operatingSystemName'].astype(str)"
   ]
  },
  {
   "cell_type": "code",
   "execution_count": 58,
   "metadata": {},
   "outputs": [],
   "source": [
    "# função para unir as informações das duas colunas e manter tudo em uma só. \n",
    "def replace (row):\n",
    "    if row ['metadata.operatingSystemName'] != row ['metadata.operatingSystemName']: \n",
    "        return row ['reference_metadata.operatingSystemName']\n",
    "    else:\n",
    "        return row ['metadata.operatingSystemName']\n",
    "    "
   ]
  },
  {
   "cell_type": "code",
   "execution_count": 59,
   "metadata": {},
   "outputs": [],
   "source": [
    "df_recur_clean['operating_system'] = df_recur_clean.apply(replace, axis=1)"
   ]
  },
  {
   "cell_type": "code",
   "execution_count": 60,
   "metadata": {},
   "outputs": [
    {
     "output_type": "execute_result",
     "data": {
      "text/plain": [
       "54674"
      ]
     },
     "metadata": {},
     "execution_count": 60
    }
   ],
   "source": [
    "df_recur_clean['operating_system'].isnull().sum()"
   ]
  },
  {
   "cell_type": "code",
   "execution_count": 61,
   "metadata": {},
   "outputs": [],
   "source": [
    "# criei um novo dataset para facilitar o acréscimo das colunas \n",
    "#teste = df_recur_clean[['metadata.operatingSystemName', 'reference_metadata.operatingSystemName']].fillna ('')"
   ]
  },
  {
   "cell_type": "code",
   "execution_count": 62,
   "metadata": {},
   "outputs": [],
   "source": [
    "#teste['operating_system'] = teste['metadata.operatingSystemName'].astype(str) + '-' +  teste ['reference_metadata.operatingSystemName'].astype(str)"
   ]
  },
  {
   "cell_type": "code",
   "execution_count": 63,
   "metadata": {},
   "outputs": [],
   "source": [
    "# código Regex para limpar os nomes duplicados"
   ]
  },
  {
   "cell_type": "code",
   "execution_count": 64,
   "metadata": {},
   "outputs": [],
   "source": [
    "#teste['operating_system'].replace('(-)', '', regex= True, inplace=True)"
   ]
  },
  {
   "cell_type": "code",
   "execution_count": 65,
   "metadata": {},
   "outputs": [
    {
     "output_type": "execute_result",
     "data": {
      "text/plain": [
       "    index  lead_idd  person_id  organization_idd  event_id  \\\n",
       "0    1369     33963      33771                18    827957   \n",
       "1    1370     33963      33771                18    826679   \n",
       "2    1371     33963      33771                18    836941   \n",
       "3    1372     33963      33771                18    830093   \n",
       "4    1373     33963      33771                18    839621   \n",
       "5    1374     33963      33771                18    834134   \n",
       "6    1375     33963      33771                18    842386   \n",
       "7    1384        18         25                 1    783326   \n",
       "8    1385        18         25                 1    783110   \n",
       "9    1386        18         25                 1    858069   \n",
       "10   1387        18         25                 1    858215   \n",
       "11   4905      5745       5608                 4     24700   \n",
       "12   4906      5745       5608                 4     24706   \n",
       "13   4907      5745       5608                 4     24712   \n",
       "14   5188      3904       3774                 4     22113   \n",
       "\n",
       "                                                 data  \\\n",
       "0   {\"lead_id\":33963,\"campaign_id\":101,\"form_id\":4...   \n",
       "1   {\"lead_id\":33963,\"campaign_id\":101,\"form_id\":4...   \n",
       "2   {\"lead_id\":33963,\"campaign_id\":101,\"form_id\":4...   \n",
       "3   {\"lead_id\":33963,\"campaign_id\":101,\"form_id\":4...   \n",
       "4   {\"lead_id\":33963,\"campaign_id\":101,\"form_id\":4...   \n",
       "5   {\"lead_id\":33963,\"campaign_id\":101,\"form_id\":4...   \n",
       "6   {\"lead_id\":33963,\"campaign_id\":101,\"form_id\":4...   \n",
       "7   {\"form_id\":13,\"lead_id\":18,\"campaign_id\":4,\"am...   \n",
       "8   {\"form_id\":13,\"campaign_id\":4,\"lead_id\":18,\"ca...   \n",
       "9   {\"form_id\":13,\"campaign_id\":4,\"lead_id\":18,\"ca...   \n",
       "10  {\"form_id\":13,\"lead_id\":18,\"campaign_id\":4,\"am...   \n",
       "11  {\"form_id\":232,\"campaign_id\":34,\"lead_id\":5745...   \n",
       "12  {\"form_id\":232,\"campaign_id\":34,\"lead_id\":5745...   \n",
       "13  {\"form_id\":232,\"campaign_id\":34,\"lead_id\":5745...   \n",
       "14  {\"form_id\":179,\"campaign_id\":33,\"lead_id\":3904...   \n",
       "\n",
       "                                          description     id  is_subscription  \\\n",
       "0                          DONATIONFAILED_WEBHOOK: 51  70711             True   \n",
       "1                          DONATIONFAILED_WEBHOOK: 51  70711             True   \n",
       "2                          DONATIONFAILED_WEBHOOK: 51  70711             True   \n",
       "3                          DONATIONFAILED_WEBHOOK: 51  70711             True   \n",
       "4                          DONATIONFAILED_WEBHOOK: 51  70711             True   \n",
       "5                          DONATIONFAILED_WEBHOOK: 51  70711             True   \n",
       "6                             CHARGERECURRENT_WEBHOOK  70711             True   \n",
       "7                             CHARGERECURRENT_WEBHOOK     57             True   \n",
       "8                   DONATIONRECURRENT_UPDATED_WEBHOOK     57             True   \n",
       "9                   DONATIONRECURRENT_UPDATED_WEBHOOK     57             True   \n",
       "10                            CHARGERECURRENT_WEBHOOK     57             True   \n",
       "11                                               LEAD  14775             True   \n",
       "12  DONATIONFAILED: NumeroMedioDePago - Valor Invá...  14775             True   \n",
       "13                                  DONATIONRECURRENT  14775             True   \n",
       "14                                  DONATIONRECURRENT  14336             True   \n",
       "\n",
       "     amount  ...  metadata.sessionCountryCode  metadata.sessionCountryName  \\\n",
       "0   50000.0  ...                          NaN                          NaN   \n",
       "1   50000.0  ...                          NaN                          NaN   \n",
       "2   50000.0  ...                          NaN                          NaN   \n",
       "3   50000.0  ...                          NaN                          NaN   \n",
       "4   50000.0  ...                          NaN                          NaN   \n",
       "5   50000.0  ...                          NaN                          NaN   \n",
       "6   50000.0  ...                          NaN                          NaN   \n",
       "7      25.0  ...                          NaN                          NaN   \n",
       "8      25.0  ...                          NaN                          NaN   \n",
       "9      25.0  ...                          NaN                          NaN   \n",
       "10     25.0  ...                          NaN                          NaN   \n",
       "11  30000.0  ...                          NaN                          NaN   \n",
       "12  30000.0  ...                          NaN                          NaN   \n",
       "13  30000.0  ...                          NaN                          NaN   \n",
       "14  30000.0  ...                          NaN                          NaN   \n",
       "\n",
       "   metadata.sessionIsp  metadata.userAgentName  metadata.userWindowResolution  \\\n",
       "0                  NaN                     NaN                            NaN   \n",
       "1                  NaN                     NaN                            NaN   \n",
       "2                  NaN                     NaN                            NaN   \n",
       "3                  NaN                     NaN                            NaN   \n",
       "4                  NaN                     NaN                            NaN   \n",
       "5                  NaN                     NaN                            NaN   \n",
       "6                  NaN                     NaN                            NaN   \n",
       "7                  NaN                     NaN                            NaN   \n",
       "8                  NaN                     NaN                            NaN   \n",
       "9                  NaN                     NaN                            NaN   \n",
       "10                 NaN                     NaN                            NaN   \n",
       "11                 NaN                     NaN                            NaN   \n",
       "12                 NaN                     NaN                            NaN   \n",
       "13                 NaN                     NaN                            NaN   \n",
       "14                 NaN                     NaN                            NaN   \n",
       "\n",
       "   metadata.gateway.name metadata.amount metadata.is_subscription  \\\n",
       "0                    NaN             NaN                      NaN   \n",
       "1                    NaN             NaN                      NaN   \n",
       "2                    NaN             NaN                      NaN   \n",
       "3                    NaN             NaN                      NaN   \n",
       "4                    NaN             NaN                      NaN   \n",
       "5                    NaN             NaN                      NaN   \n",
       "6                    NaN             NaN                      NaN   \n",
       "7                    NaN             NaN                      NaN   \n",
       "8                    NaN             NaN                      NaN   \n",
       "9                    NaN             NaN                      NaN   \n",
       "10                   NaN             NaN                      NaN   \n",
       "11                   NaN             NaN                      NaN   \n",
       "12                   NaN             NaN                      NaN   \n",
       "13                   NaN             NaN                      NaN   \n",
       "14                   NaN             NaN                      NaN   \n",
       "\n",
       "    metadata.sessionAdminSubDiv2  operating_system  \n",
       "0                            NaN        Windows NT  \n",
       "1                            NaN        Windows NT  \n",
       "2                            NaN        Windows NT  \n",
       "3                            NaN        Windows NT  \n",
       "4                            NaN        Windows NT  \n",
       "5                            NaN        Windows NT  \n",
       "6                            NaN        Windows NT  \n",
       "7                            NaN               NaN  \n",
       "8                            NaN               NaN  \n",
       "9                            NaN               NaN  \n",
       "10                           NaN               NaN  \n",
       "11                           NaN               NaN  \n",
       "12                           NaN               NaN  \n",
       "13                           NaN               NaN  \n",
       "14                           NaN               NaN  \n",
       "\n",
       "[15 rows x 72 columns]"
      ],
      "text/html": "<div>\n<style scoped>\n    .dataframe tbody tr th:only-of-type {\n        vertical-align: middle;\n    }\n\n    .dataframe tbody tr th {\n        vertical-align: top;\n    }\n\n    .dataframe thead th {\n        text-align: right;\n    }\n</style>\n<table border=\"1\" class=\"dataframe\">\n  <thead>\n    <tr style=\"text-align: right;\">\n      <th></th>\n      <th>index</th>\n      <th>lead_idd</th>\n      <th>person_id</th>\n      <th>organization_idd</th>\n      <th>event_id</th>\n      <th>data</th>\n      <th>description</th>\n      <th>id</th>\n      <th>is_subscription</th>\n      <th>amount</th>\n      <th>...</th>\n      <th>metadata.sessionCountryCode</th>\n      <th>metadata.sessionCountryName</th>\n      <th>metadata.sessionIsp</th>\n      <th>metadata.userAgentName</th>\n      <th>metadata.userWindowResolution</th>\n      <th>metadata.gateway.name</th>\n      <th>metadata.amount</th>\n      <th>metadata.is_subscription</th>\n      <th>metadata.sessionAdminSubDiv2</th>\n      <th>operating_system</th>\n    </tr>\n  </thead>\n  <tbody>\n    <tr>\n      <th>0</th>\n      <td>1369</td>\n      <td>33963</td>\n      <td>33771</td>\n      <td>18</td>\n      <td>827957</td>\n      <td>{\"lead_id\":33963,\"campaign_id\":101,\"form_id\":4...</td>\n      <td>DONATIONFAILED_WEBHOOK: 51</td>\n      <td>70711</td>\n      <td>True</td>\n      <td>50000.0</td>\n      <td>...</td>\n      <td>NaN</td>\n      <td>NaN</td>\n      <td>NaN</td>\n      <td>NaN</td>\n      <td>NaN</td>\n      <td>NaN</td>\n      <td>NaN</td>\n      <td>NaN</td>\n      <td>NaN</td>\n      <td>Windows NT</td>\n    </tr>\n    <tr>\n      <th>1</th>\n      <td>1370</td>\n      <td>33963</td>\n      <td>33771</td>\n      <td>18</td>\n      <td>826679</td>\n      <td>{\"lead_id\":33963,\"campaign_id\":101,\"form_id\":4...</td>\n      <td>DONATIONFAILED_WEBHOOK: 51</td>\n      <td>70711</td>\n      <td>True</td>\n      <td>50000.0</td>\n      <td>...</td>\n      <td>NaN</td>\n      <td>NaN</td>\n      <td>NaN</td>\n      <td>NaN</td>\n      <td>NaN</td>\n      <td>NaN</td>\n      <td>NaN</td>\n      <td>NaN</td>\n      <td>NaN</td>\n      <td>Windows NT</td>\n    </tr>\n    <tr>\n      <th>2</th>\n      <td>1371</td>\n      <td>33963</td>\n      <td>33771</td>\n      <td>18</td>\n      <td>836941</td>\n      <td>{\"lead_id\":33963,\"campaign_id\":101,\"form_id\":4...</td>\n      <td>DONATIONFAILED_WEBHOOK: 51</td>\n      <td>70711</td>\n      <td>True</td>\n      <td>50000.0</td>\n      <td>...</td>\n      <td>NaN</td>\n      <td>NaN</td>\n      <td>NaN</td>\n      <td>NaN</td>\n      <td>NaN</td>\n      <td>NaN</td>\n      <td>NaN</td>\n      <td>NaN</td>\n      <td>NaN</td>\n      <td>Windows NT</td>\n    </tr>\n    <tr>\n      <th>3</th>\n      <td>1372</td>\n      <td>33963</td>\n      <td>33771</td>\n      <td>18</td>\n      <td>830093</td>\n      <td>{\"lead_id\":33963,\"campaign_id\":101,\"form_id\":4...</td>\n      <td>DONATIONFAILED_WEBHOOK: 51</td>\n      <td>70711</td>\n      <td>True</td>\n      <td>50000.0</td>\n      <td>...</td>\n      <td>NaN</td>\n      <td>NaN</td>\n      <td>NaN</td>\n      <td>NaN</td>\n      <td>NaN</td>\n      <td>NaN</td>\n      <td>NaN</td>\n      <td>NaN</td>\n      <td>NaN</td>\n      <td>Windows NT</td>\n    </tr>\n    <tr>\n      <th>4</th>\n      <td>1373</td>\n      <td>33963</td>\n      <td>33771</td>\n      <td>18</td>\n      <td>839621</td>\n      <td>{\"lead_id\":33963,\"campaign_id\":101,\"form_id\":4...</td>\n      <td>DONATIONFAILED_WEBHOOK: 51</td>\n      <td>70711</td>\n      <td>True</td>\n      <td>50000.0</td>\n      <td>...</td>\n      <td>NaN</td>\n      <td>NaN</td>\n      <td>NaN</td>\n      <td>NaN</td>\n      <td>NaN</td>\n      <td>NaN</td>\n      <td>NaN</td>\n      <td>NaN</td>\n      <td>NaN</td>\n      <td>Windows NT</td>\n    </tr>\n    <tr>\n      <th>5</th>\n      <td>1374</td>\n      <td>33963</td>\n      <td>33771</td>\n      <td>18</td>\n      <td>834134</td>\n      <td>{\"lead_id\":33963,\"campaign_id\":101,\"form_id\":4...</td>\n      <td>DONATIONFAILED_WEBHOOK: 51</td>\n      <td>70711</td>\n      <td>True</td>\n      <td>50000.0</td>\n      <td>...</td>\n      <td>NaN</td>\n      <td>NaN</td>\n      <td>NaN</td>\n      <td>NaN</td>\n      <td>NaN</td>\n      <td>NaN</td>\n      <td>NaN</td>\n      <td>NaN</td>\n      <td>NaN</td>\n      <td>Windows NT</td>\n    </tr>\n    <tr>\n      <th>6</th>\n      <td>1375</td>\n      <td>33963</td>\n      <td>33771</td>\n      <td>18</td>\n      <td>842386</td>\n      <td>{\"lead_id\":33963,\"campaign_id\":101,\"form_id\":4...</td>\n      <td>CHARGERECURRENT_WEBHOOK</td>\n      <td>70711</td>\n      <td>True</td>\n      <td>50000.0</td>\n      <td>...</td>\n      <td>NaN</td>\n      <td>NaN</td>\n      <td>NaN</td>\n      <td>NaN</td>\n      <td>NaN</td>\n      <td>NaN</td>\n      <td>NaN</td>\n      <td>NaN</td>\n      <td>NaN</td>\n      <td>Windows NT</td>\n    </tr>\n    <tr>\n      <th>7</th>\n      <td>1384</td>\n      <td>18</td>\n      <td>25</td>\n      <td>1</td>\n      <td>783326</td>\n      <td>{\"form_id\":13,\"lead_id\":18,\"campaign_id\":4,\"am...</td>\n      <td>CHARGERECURRENT_WEBHOOK</td>\n      <td>57</td>\n      <td>True</td>\n      <td>25.0</td>\n      <td>...</td>\n      <td>NaN</td>\n      <td>NaN</td>\n      <td>NaN</td>\n      <td>NaN</td>\n      <td>NaN</td>\n      <td>NaN</td>\n      <td>NaN</td>\n      <td>NaN</td>\n      <td>NaN</td>\n      <td>NaN</td>\n    </tr>\n    <tr>\n      <th>8</th>\n      <td>1385</td>\n      <td>18</td>\n      <td>25</td>\n      <td>1</td>\n      <td>783110</td>\n      <td>{\"form_id\":13,\"campaign_id\":4,\"lead_id\":18,\"ca...</td>\n      <td>DONATIONRECURRENT_UPDATED_WEBHOOK</td>\n      <td>57</td>\n      <td>True</td>\n      <td>25.0</td>\n      <td>...</td>\n      <td>NaN</td>\n      <td>NaN</td>\n      <td>NaN</td>\n      <td>NaN</td>\n      <td>NaN</td>\n      <td>NaN</td>\n      <td>NaN</td>\n      <td>NaN</td>\n      <td>NaN</td>\n      <td>NaN</td>\n    </tr>\n    <tr>\n      <th>9</th>\n      <td>1386</td>\n      <td>18</td>\n      <td>25</td>\n      <td>1</td>\n      <td>858069</td>\n      <td>{\"form_id\":13,\"campaign_id\":4,\"lead_id\":18,\"ca...</td>\n      <td>DONATIONRECURRENT_UPDATED_WEBHOOK</td>\n      <td>57</td>\n      <td>True</td>\n      <td>25.0</td>\n      <td>...</td>\n      <td>NaN</td>\n      <td>NaN</td>\n      <td>NaN</td>\n      <td>NaN</td>\n      <td>NaN</td>\n      <td>NaN</td>\n      <td>NaN</td>\n      <td>NaN</td>\n      <td>NaN</td>\n      <td>NaN</td>\n    </tr>\n    <tr>\n      <th>10</th>\n      <td>1387</td>\n      <td>18</td>\n      <td>25</td>\n      <td>1</td>\n      <td>858215</td>\n      <td>{\"form_id\":13,\"lead_id\":18,\"campaign_id\":4,\"am...</td>\n      <td>CHARGERECURRENT_WEBHOOK</td>\n      <td>57</td>\n      <td>True</td>\n      <td>25.0</td>\n      <td>...</td>\n      <td>NaN</td>\n      <td>NaN</td>\n      <td>NaN</td>\n      <td>NaN</td>\n      <td>NaN</td>\n      <td>NaN</td>\n      <td>NaN</td>\n      <td>NaN</td>\n      <td>NaN</td>\n      <td>NaN</td>\n    </tr>\n    <tr>\n      <th>11</th>\n      <td>4905</td>\n      <td>5745</td>\n      <td>5608</td>\n      <td>4</td>\n      <td>24700</td>\n      <td>{\"form_id\":232,\"campaign_id\":34,\"lead_id\":5745...</td>\n      <td>LEAD</td>\n      <td>14775</td>\n      <td>True</td>\n      <td>30000.0</td>\n      <td>...</td>\n      <td>NaN</td>\n      <td>NaN</td>\n      <td>NaN</td>\n      <td>NaN</td>\n      <td>NaN</td>\n      <td>NaN</td>\n      <td>NaN</td>\n      <td>NaN</td>\n      <td>NaN</td>\n      <td>NaN</td>\n    </tr>\n    <tr>\n      <th>12</th>\n      <td>4906</td>\n      <td>5745</td>\n      <td>5608</td>\n      <td>4</td>\n      <td>24706</td>\n      <td>{\"form_id\":232,\"campaign_id\":34,\"lead_id\":5745...</td>\n      <td>DONATIONFAILED: NumeroMedioDePago - Valor Invá...</td>\n      <td>14775</td>\n      <td>True</td>\n      <td>30000.0</td>\n      <td>...</td>\n      <td>NaN</td>\n      <td>NaN</td>\n      <td>NaN</td>\n      <td>NaN</td>\n      <td>NaN</td>\n      <td>NaN</td>\n      <td>NaN</td>\n      <td>NaN</td>\n      <td>NaN</td>\n      <td>NaN</td>\n    </tr>\n    <tr>\n      <th>13</th>\n      <td>4907</td>\n      <td>5745</td>\n      <td>5608</td>\n      <td>4</td>\n      <td>24712</td>\n      <td>{\"form_id\":232,\"campaign_id\":34,\"lead_id\":5745...</td>\n      <td>DONATIONRECURRENT</td>\n      <td>14775</td>\n      <td>True</td>\n      <td>30000.0</td>\n      <td>...</td>\n      <td>NaN</td>\n      <td>NaN</td>\n      <td>NaN</td>\n      <td>NaN</td>\n      <td>NaN</td>\n      <td>NaN</td>\n      <td>NaN</td>\n      <td>NaN</td>\n      <td>NaN</td>\n      <td>NaN</td>\n    </tr>\n    <tr>\n      <th>14</th>\n      <td>5188</td>\n      <td>3904</td>\n      <td>3774</td>\n      <td>4</td>\n      <td>22113</td>\n      <td>{\"form_id\":179,\"campaign_id\":33,\"lead_id\":3904...</td>\n      <td>DONATIONRECURRENT</td>\n      <td>14336</td>\n      <td>True</td>\n      <td>30000.0</td>\n      <td>...</td>\n      <td>NaN</td>\n      <td>NaN</td>\n      <td>NaN</td>\n      <td>NaN</td>\n      <td>NaN</td>\n      <td>NaN</td>\n      <td>NaN</td>\n      <td>NaN</td>\n      <td>NaN</td>\n      <td>NaN</td>\n    </tr>\n  </tbody>\n</table>\n<p>15 rows × 72 columns</p>\n</div>"
     },
     "metadata": {},
     "execution_count": 65
    }
   ],
   "source": [
    "df_recur_clean.head(15)"
   ]
  },
  {
   "cell_type": "code",
   "execution_count": 66,
   "metadata": {},
   "outputs": [],
   "source": [
    "group_1 = df_recur_clean.groupby(['person_id']).count()[['index']]"
   ]
  },
  {
   "cell_type": "code",
   "execution_count": 67,
   "metadata": {},
   "outputs": [
    {
     "output_type": "execute_result",
     "data": {
      "text/plain": [
       "2       964\n",
       "4       868\n",
       "3       536\n",
       "6       189\n",
       "5       188\n",
       "       ... \n",
       "466       1\n",
       "298       1\n",
       "288       1\n",
       "196       1\n",
       "4568      1\n",
       "Name: index, Length: 75, dtype: int64"
      ]
     },
     "metadata": {},
     "execution_count": 67
    }
   ],
   "source": [
    "group_1['index'].value_counts()"
   ]
  },
  {
   "cell_type": "code",
   "execution_count": 68,
   "metadata": {},
   "outputs": [
    {
     "output_type": "execute_result",
     "data": {
      "text/plain": [
       "(0.0, 50.0)"
      ]
     },
     "metadata": {},
     "execution_count": 68
    },
    {
     "output_type": "display_data",
     "data": {
      "text/plain": "<Figure size 432x288 with 1 Axes>",
      "image/svg+xml": "<?xml version=\"1.0\" encoding=\"utf-8\" standalone=\"no\"?>\n<!DOCTYPE svg PUBLIC \"-//W3C//DTD SVG 1.1//EN\"\n  \"http://www.w3.org/Graphics/SVG/1.1/DTD/svg11.dtd\">\n<!-- Created with matplotlib (https://matplotlib.org/) -->\n<svg height=\"262.19625pt\" version=\"1.1\" viewBox=\"0 0 404.86875 262.19625\" width=\"404.86875pt\" xmlns=\"http://www.w3.org/2000/svg\" xmlns:xlink=\"http://www.w3.org/1999/xlink\">\n <defs>\n  <style type=\"text/css\">\n*{stroke-linecap:butt;stroke-linejoin:round;}\n  </style>\n </defs>\n <g id=\"figure_1\">\n  <g id=\"patch_1\">\n   <path d=\"M 0 262.19625 \nL 404.86875 262.19625 \nL 404.86875 0 \nL 0 0 \nz\n\" style=\"fill:none;\"/>\n  </g>\n  <g id=\"axes_1\">\n   <g id=\"patch_2\">\n    <path d=\"M 56.50625 224.64 \nL 391.30625 224.64 \nL 391.30625 7.2 \nL 56.50625 7.2 \nz\n\" style=\"fill:#ffffff;\"/>\n   </g>\n   <g id=\"patch_3\">\n    <path clip-path=\"url(#p4d7d5fb33a)\" d=\"M 63.20225 224.64 \nL 2123.96321 224.64 \nL 2123.96321 96.36196 \nL 63.20225 96.36196 \nz\n\" style=\"fill:#1f77b4;opacity:0.4;\"/>\n   </g>\n   <g id=\"patch_4\">\n    <path clip-path=\"url(#p4d7d5fb33a)\" d=\"M 2123.96321 224.64 \nL 4184.72417 224.64 \nL 4184.72417 224.532534 \nL 2123.96321 224.532534 \nz\n\" style=\"fill:#1f77b4;opacity:0.4;\"/>\n   </g>\n   <g id=\"patch_5\">\n    <path clip-path=\"url(#p4d7d5fb33a)\" d=\"M 4184.72417 224.64 \nL 6245.48513 224.64 \nL 6245.48513 224.496713 \nL 4184.72417 224.496713 \nz\n\" style=\"fill:#1f77b4;opacity:0.4;\"/>\n   </g>\n   <g id=\"patch_6\">\n    <path clip-path=\"url(#p4d7d5fb33a)\" d=\"M 6245.48513 224.64 \nL 8306.24609 224.64 \nL 8306.24609 224.568356 \nL 6245.48513 224.568356 \nz\n\" style=\"fill:#1f77b4;opacity:0.4;\"/>\n   </g>\n   <g id=\"patch_7\">\n    <path clip-path=\"url(#p4d7d5fb33a)\" d=\"M 8306.24609 224.64 \nL 10367.00705 224.64 \nL 10367.00705 224.604178 \nL 8306.24609 224.604178 \nz\n\" style=\"fill:#1f77b4;opacity:0.4;\"/>\n   </g>\n   <g id=\"patch_8\">\n    <path clip-path=\"url(#p4d7d5fb33a)\" d=\"M 10367.00705 224.64 \nL 12427.76801 224.64 \nL 12427.76801 224.64 \nL 10367.00705 224.64 \nz\n\" style=\"fill:#1f77b4;opacity:0.4;\"/>\n   </g>\n   <g id=\"patch_9\">\n    <path clip-path=\"url(#p4d7d5fb33a)\" d=\"M 12427.76801 224.64 \nL 14488.52897 224.64 \nL 14488.52897 224.604178 \nL 12427.76801 224.604178 \nz\n\" style=\"fill:#1f77b4;opacity:0.4;\"/>\n   </g>\n   <g id=\"patch_10\">\n    <path clip-path=\"url(#p4d7d5fb33a)\" d=\"M 14488.52897 224.64 \nL 16549.28993 224.64 \nL 16549.28993 224.64 \nL 14488.52897 224.64 \nz\n\" style=\"fill:#1f77b4;opacity:0.4;\"/>\n   </g>\n   <g id=\"patch_11\">\n    <path clip-path=\"url(#p4d7d5fb33a)\" d=\"M 16549.28993 224.64 \nL 18610.05089 224.64 \nL 18610.05089 224.64 \nL 16549.28993 224.64 \nz\n\" style=\"fill:#1f77b4;opacity:0.4;\"/>\n   </g>\n   <g id=\"patch_12\">\n    <path clip-path=\"url(#p4d7d5fb33a)\" d=\"M 18610.05089 224.64 \nL 20670.81185 224.64 \nL 20670.81185 224.64 \nL 18610.05089 224.64 \nz\n\" style=\"fill:#1f77b4;opacity:0.4;\"/>\n   </g>\n   <g id=\"patch_13\">\n    <path clip-path=\"url(#p4d7d5fb33a)\" d=\"M 20670.81185 224.64 \nL 22731.57281 224.64 \nL 22731.57281 224.64 \nL 20670.81185 224.64 \nz\n\" style=\"fill:#1f77b4;opacity:0.4;\"/>\n   </g>\n   <g id=\"patch_14\">\n    <path clip-path=\"url(#p4d7d5fb33a)\" d=\"M 22731.57281 224.64 \nL 24792.33377 224.64 \nL 24792.33377 224.64 \nL 22731.57281 224.64 \nz\n\" style=\"fill:#1f77b4;opacity:0.4;\"/>\n   </g>\n   <g id=\"patch_15\">\n    <path clip-path=\"url(#p4d7d5fb33a)\" d=\"M 24792.33377 224.64 \nL 26853.09473 224.64 \nL 26853.09473 224.64 \nL 24792.33377 224.64 \nz\n\" style=\"fill:#1f77b4;opacity:0.4;\"/>\n   </g>\n   <g id=\"patch_16\">\n    <path clip-path=\"url(#p4d7d5fb33a)\" d=\"M 26853.09473 224.64 \nL 28913.85569 224.64 \nL 28913.85569 224.64 \nL 26853.09473 224.64 \nz\n\" style=\"fill:#1f77b4;opacity:0.4;\"/>\n   </g>\n   <g id=\"patch_17\">\n    <path clip-path=\"url(#p4d7d5fb33a)\" d=\"M 28913.85569 224.64 \nL 30974.61665 224.64 \nL 30974.61665 224.604178 \nL 28913.85569 224.604178 \nz\n\" style=\"fill:#1f77b4;opacity:0.4;\"/>\n   </g>\n   <g id=\"patch_18\">\n    <path clip-path=\"url(#p4d7d5fb33a)\" d=\"M 30974.61665 224.64 \nL 33035.37761 224.64 \nL 33035.37761 224.64 \nL 30974.61665 224.64 \nz\n\" style=\"fill:#1f77b4;opacity:0.4;\"/>\n   </g>\n   <g id=\"patch_19\">\n    <path clip-path=\"url(#p4d7d5fb33a)\" d=\"M 33035.37761 224.64 \nL 35096.13857 224.64 \nL 35096.13857 224.64 \nL 33035.37761 224.64 \nz\n\" style=\"fill:#1f77b4;opacity:0.4;\"/>\n   </g>\n   <g id=\"patch_20\">\n    <path clip-path=\"url(#p4d7d5fb33a)\" d=\"M 35096.13857 224.64 \nL 37156.89953 224.64 \nL 37156.89953 224.64 \nL 35096.13857 224.64 \nz\n\" style=\"fill:#1f77b4;opacity:0.4;\"/>\n   </g>\n   <g id=\"patch_21\">\n    <path clip-path=\"url(#p4d7d5fb33a)\" d=\"M 37156.89953 224.64 \nL 39217.66049 224.64 \nL 39217.66049 224.64 \nL 37156.89953 224.64 \nz\n\" style=\"fill:#1f77b4;opacity:0.4;\"/>\n   </g>\n   <g id=\"patch_22\">\n    <path clip-path=\"url(#p4d7d5fb33a)\" d=\"M 39217.66049 224.64 \nL 41278.42145 224.64 \nL 41278.42145 224.64 \nL 39217.66049 224.64 \nz\n\" style=\"fill:#1f77b4;opacity:0.4;\"/>\n   </g>\n   <g id=\"patch_23\">\n    <path clip-path=\"url(#p4d7d5fb33a)\" d=\"M 41278.42145 224.64 \nL 43339.18241 224.64 \nL 43339.18241 224.64 \nL 41278.42145 224.64 \nz\n\" style=\"fill:#1f77b4;opacity:0.4;\"/>\n   </g>\n   <g id=\"patch_24\">\n    <path clip-path=\"url(#p4d7d5fb33a)\" d=\"M 43339.18241 224.64 \nL 45399.94337 224.64 \nL 45399.94337 224.64 \nL 43339.18241 224.64 \nz\n\" style=\"fill:#1f77b4;opacity:0.4;\"/>\n   </g>\n   <g id=\"patch_25\">\n    <path clip-path=\"url(#p4d7d5fb33a)\" d=\"M 45399.94337 224.64 \nL 47460.70433 224.64 \nL 47460.70433 224.64 \nL 45399.94337 224.64 \nz\n\" style=\"fill:#1f77b4;opacity:0.4;\"/>\n   </g>\n   <g id=\"patch_26\">\n    <path clip-path=\"url(#p4d7d5fb33a)\" d=\"M 47460.70433 224.64 \nL 49521.46529 224.64 \nL 49521.46529 224.64 \nL 47460.70433 224.64 \nz\n\" style=\"fill:#1f77b4;opacity:0.4;\"/>\n   </g>\n   <g id=\"patch_27\">\n    <path clip-path=\"url(#p4d7d5fb33a)\" d=\"M 49521.46529 224.64 \nL 51582.22625 224.64 \nL 51582.22625 224.64 \nL 49521.46529 224.64 \nz\n\" style=\"fill:#1f77b4;opacity:0.4;\"/>\n   </g>\n   <g id=\"patch_28\">\n    <path clip-path=\"url(#p4d7d5fb33a)\" d=\"M 51582.22625 224.64 \nL 53642.98721 224.64 \nL 53642.98721 224.64 \nL 51582.22625 224.64 \nz\n\" style=\"fill:#1f77b4;opacity:0.4;\"/>\n   </g>\n   <g id=\"patch_29\">\n    <path clip-path=\"url(#p4d7d5fb33a)\" d=\"M 53642.98721 224.64 \nL 55703.74817 224.64 \nL 55703.74817 224.64 \nL 53642.98721 224.64 \nz\n\" style=\"fill:#1f77b4;opacity:0.4;\"/>\n   </g>\n   <g id=\"patch_30\">\n    <path clip-path=\"url(#p4d7d5fb33a)\" d=\"M 55703.74817 224.64 \nL 57764.50913 224.64 \nL 57764.50913 224.64 \nL 55703.74817 224.64 \nz\n\" style=\"fill:#1f77b4;opacity:0.4;\"/>\n   </g>\n   <g id=\"patch_31\">\n    <path clip-path=\"url(#p4d7d5fb33a)\" d=\"M 57764.50913 224.64 \nL 59825.27009 224.64 \nL 59825.27009 224.64 \nL 57764.50913 224.64 \nz\n\" style=\"fill:#1f77b4;opacity:0.4;\"/>\n   </g>\n   <g id=\"patch_32\">\n    <path clip-path=\"url(#p4d7d5fb33a)\" d=\"M 59825.27009 224.64 \nL 61886.03105 224.64 \nL 61886.03105 224.64 \nL 59825.27009 224.64 \nz\n\" style=\"fill:#1f77b4;opacity:0.4;\"/>\n   </g>\n   <g id=\"patch_33\">\n    <path clip-path=\"url(#p4d7d5fb33a)\" d=\"M 61886.03105 224.64 \nL 63946.79201 224.64 \nL 63946.79201 224.604178 \nL 61886.03105 224.604178 \nz\n\" style=\"fill:#1f77b4;opacity:0.4;\"/>\n   </g>\n   <g id=\"patch_34\">\n    <path clip-path=\"url(#p4d7d5fb33a)\" d=\"M 63946.79201 224.64 \nL 66007.55297 224.64 \nL 66007.55297 224.64 \nL 63946.79201 224.64 \nz\n\" style=\"fill:#1f77b4;opacity:0.4;\"/>\n   </g>\n   <g id=\"patch_35\">\n    <path clip-path=\"url(#p4d7d5fb33a)\" d=\"M 66007.55297 224.64 \nL 68068.31393 224.64 \nL 68068.31393 224.64 \nL 66007.55297 224.64 \nz\n\" style=\"fill:#1f77b4;opacity:0.4;\"/>\n   </g>\n   <g id=\"patch_36\">\n    <path clip-path=\"url(#p4d7d5fb33a)\" d=\"M 68068.31393 224.64 \nL 70129.07489 224.64 \nL 70129.07489 224.64 \nL 68068.31393 224.64 \nz\n\" style=\"fill:#1f77b4;opacity:0.4;\"/>\n   </g>\n   <g id=\"patch_37\">\n    <path clip-path=\"url(#p4d7d5fb33a)\" d=\"M 70129.07489 224.64 \nL 72189.83585 224.64 \nL 72189.83585 224.64 \nL 70129.07489 224.64 \nz\n\" style=\"fill:#1f77b4;opacity:0.4;\"/>\n   </g>\n   <g id=\"patch_38\">\n    <path clip-path=\"url(#p4d7d5fb33a)\" d=\"M 72189.83585 224.64 \nL 74250.59681 224.64 \nL 74250.59681 224.64 \nL 72189.83585 224.64 \nz\n\" style=\"fill:#1f77b4;opacity:0.4;\"/>\n   </g>\n   <g id=\"patch_39\">\n    <path clip-path=\"url(#p4d7d5fb33a)\" d=\"M 74250.59681 224.64 \nL 76311.35777 224.64 \nL 76311.35777 224.64 \nL 74250.59681 224.64 \nz\n\" style=\"fill:#1f77b4;opacity:0.4;\"/>\n   </g>\n   <g id=\"patch_40\">\n    <path clip-path=\"url(#p4d7d5fb33a)\" d=\"M 76311.35777 224.64 \nL 78372.11873 224.64 \nL 78372.11873 224.64 \nL 76311.35777 224.64 \nz\n\" style=\"fill:#1f77b4;opacity:0.4;\"/>\n   </g>\n   <g id=\"patch_41\">\n    <path clip-path=\"url(#p4d7d5fb33a)\" d=\"M 78372.11873 224.64 \nL 80432.87969 224.64 \nL 80432.87969 224.64 \nL 78372.11873 224.64 \nz\n\" style=\"fill:#1f77b4;opacity:0.4;\"/>\n   </g>\n   <g id=\"patch_42\">\n    <path clip-path=\"url(#p4d7d5fb33a)\" d=\"M 80432.87969 224.64 \nL 82493.64065 224.64 \nL 82493.64065 224.64 \nL 80432.87969 224.64 \nz\n\" style=\"fill:#1f77b4;opacity:0.4;\"/>\n   </g>\n   <g id=\"patch_43\">\n    <path clip-path=\"url(#p4d7d5fb33a)\" d=\"M 82493.64065 224.64 \nL 84554.40161 224.64 \nL 84554.40161 224.64 \nL 82493.64065 224.64 \nz\n\" style=\"fill:#1f77b4;opacity:0.4;\"/>\n   </g>\n   <g id=\"patch_44\">\n    <path clip-path=\"url(#p4d7d5fb33a)\" d=\"M 84554.40161 224.64 \nL 86615.16257 224.64 \nL 86615.16257 224.64 \nL 84554.40161 224.64 \nz\n\" style=\"fill:#1f77b4;opacity:0.4;\"/>\n   </g>\n   <g id=\"patch_45\">\n    <path clip-path=\"url(#p4d7d5fb33a)\" d=\"M 86615.16257 224.64 \nL 88675.92353 224.64 \nL 88675.92353 224.64 \nL 86615.16257 224.64 \nz\n\" style=\"fill:#1f77b4;opacity:0.4;\"/>\n   </g>\n   <g id=\"patch_46\">\n    <path clip-path=\"url(#p4d7d5fb33a)\" d=\"M 88675.92353 224.64 \nL 90736.68449 224.64 \nL 90736.68449 224.604178 \nL 88675.92353 224.604178 \nz\n\" style=\"fill:#1f77b4;opacity:0.4;\"/>\n   </g>\n   <g id=\"patch_47\">\n    <path clip-path=\"url(#p4d7d5fb33a)\" d=\"M 90736.68449 224.64 \nL 92797.44545 224.64 \nL 92797.44545 224.64 \nL 90736.68449 224.64 \nz\n\" style=\"fill:#1f77b4;opacity:0.4;\"/>\n   </g>\n   <g id=\"patch_48\">\n    <path clip-path=\"url(#p4d7d5fb33a)\" d=\"M 92797.44545 224.64 \nL 94858.20641 224.64 \nL 94858.20641 224.64 \nL 92797.44545 224.64 \nz\n\" style=\"fill:#1f77b4;opacity:0.4;\"/>\n   </g>\n   <g id=\"patch_49\">\n    <path clip-path=\"url(#p4d7d5fb33a)\" d=\"M 94858.20641 224.64 \nL 96918.96737 224.64 \nL 96918.96737 224.64 \nL 94858.20641 224.64 \nz\n\" style=\"fill:#1f77b4;opacity:0.4;\"/>\n   </g>\n   <g id=\"patch_50\">\n    <path clip-path=\"url(#p4d7d5fb33a)\" d=\"M 96918.96737 224.64 \nL 98979.72833 224.64 \nL 98979.72833 224.64 \nL 96918.96737 224.64 \nz\n\" style=\"fill:#1f77b4;opacity:0.4;\"/>\n   </g>\n   <g id=\"patch_51\">\n    <path clip-path=\"url(#p4d7d5fb33a)\" d=\"M 98979.72833 224.64 \nL 101040.48929 224.64 \nL 101040.48929 224.64 \nL 98979.72833 224.64 \nz\n\" style=\"fill:#1f77b4;opacity:0.4;\"/>\n   </g>\n   <g id=\"patch_52\">\n    <path clip-path=\"url(#p4d7d5fb33a)\" d=\"M 101040.48929 224.64 \nL 103101.25025 224.64 \nL 103101.25025 224.604178 \nL 101040.48929 224.604178 \nz\n\" style=\"fill:#1f77b4;opacity:0.4;\"/>\n   </g>\n   <g id=\"matplotlib.axis_1\">\n    <g id=\"xtick_1\">\n     <g id=\"line2d_1\">\n      <defs>\n       <path d=\"M 0 0 \nL 0 3.5 \n\" id=\"m049d75b1ac\" style=\"stroke:#000000;stroke-width:0.8;\"/>\n      </defs>\n      <g>\n       <use style=\"stroke:#000000;stroke-width:0.8;\" x=\"56.50625\" xlink:href=\"#m049d75b1ac\" y=\"224.64\"/>\n      </g>\n     </g>\n     <g id=\"text_1\">\n      <!-- 0 -->\n      <defs>\n       <path d=\"M 31.78125 66.40625 \nQ 24.171875 66.40625 20.328125 58.90625 \nQ 16.5 51.421875 16.5 36.375 \nQ 16.5 21.390625 20.328125 13.890625 \nQ 24.171875 6.390625 31.78125 6.390625 \nQ 39.453125 6.390625 43.28125 13.890625 \nQ 47.125 21.390625 47.125 36.375 \nQ 47.125 51.421875 43.28125 58.90625 \nQ 39.453125 66.40625 31.78125 66.40625 \nz\nM 31.78125 74.21875 \nQ 44.046875 74.21875 50.515625 64.515625 \nQ 56.984375 54.828125 56.984375 36.375 \nQ 56.984375 17.96875 50.515625 8.265625 \nQ 44.046875 -1.421875 31.78125 -1.421875 \nQ 19.53125 -1.421875 13.0625 8.265625 \nQ 6.59375 17.96875 6.59375 36.375 \nQ 6.59375 54.828125 13.0625 64.515625 \nQ 19.53125 74.21875 31.78125 74.21875 \nz\n\" id=\"DejaVuSans-48\"/>\n      </defs>\n      <g transform=\"translate(53.325 239.238437)scale(0.1 -0.1)\">\n       <use xlink:href=\"#DejaVuSans-48\"/>\n      </g>\n     </g>\n    </g>\n    <g id=\"xtick_2\">\n     <g id=\"line2d_2\">\n      <g>\n       <use style=\"stroke:#000000;stroke-width:0.8;\" x=\"123.46625\" xlink:href=\"#m049d75b1ac\" y=\"224.64\"/>\n      </g>\n     </g>\n     <g id=\"text_2\">\n      <!-- 10 -->\n      <defs>\n       <path d=\"M 12.40625 8.296875 \nL 28.515625 8.296875 \nL 28.515625 63.921875 \nL 10.984375 60.40625 \nL 10.984375 69.390625 \nL 28.421875 72.90625 \nL 38.28125 72.90625 \nL 38.28125 8.296875 \nL 54.390625 8.296875 \nL 54.390625 0 \nL 12.40625 0 \nz\n\" id=\"DejaVuSans-49\"/>\n      </defs>\n      <g transform=\"translate(117.10375 239.238437)scale(0.1 -0.1)\">\n       <use xlink:href=\"#DejaVuSans-49\"/>\n       <use x=\"63.623047\" xlink:href=\"#DejaVuSans-48\"/>\n      </g>\n     </g>\n    </g>\n    <g id=\"xtick_3\">\n     <g id=\"line2d_3\">\n      <g>\n       <use style=\"stroke:#000000;stroke-width:0.8;\" x=\"190.42625\" xlink:href=\"#m049d75b1ac\" y=\"224.64\"/>\n      </g>\n     </g>\n     <g id=\"text_3\">\n      <!-- 20 -->\n      <defs>\n       <path d=\"M 19.1875 8.296875 \nL 53.609375 8.296875 \nL 53.609375 0 \nL 7.328125 0 \nL 7.328125 8.296875 \nQ 12.9375 14.109375 22.625 23.890625 \nQ 32.328125 33.6875 34.8125 36.53125 \nQ 39.546875 41.84375 41.421875 45.53125 \nQ 43.3125 49.21875 43.3125 52.78125 \nQ 43.3125 58.59375 39.234375 62.25 \nQ 35.15625 65.921875 28.609375 65.921875 \nQ 23.96875 65.921875 18.8125 64.3125 \nQ 13.671875 62.703125 7.8125 59.421875 \nL 7.8125 69.390625 \nQ 13.765625 71.78125 18.9375 73 \nQ 24.125 74.21875 28.421875 74.21875 \nQ 39.75 74.21875 46.484375 68.546875 \nQ 53.21875 62.890625 53.21875 53.421875 \nQ 53.21875 48.921875 51.53125 44.890625 \nQ 49.859375 40.875 45.40625 35.40625 \nQ 44.1875 33.984375 37.640625 27.21875 \nQ 31.109375 20.453125 19.1875 8.296875 \nz\n\" id=\"DejaVuSans-50\"/>\n      </defs>\n      <g transform=\"translate(184.06375 239.238437)scale(0.1 -0.1)\">\n       <use xlink:href=\"#DejaVuSans-50\"/>\n       <use x=\"63.623047\" xlink:href=\"#DejaVuSans-48\"/>\n      </g>\n     </g>\n    </g>\n    <g id=\"xtick_4\">\n     <g id=\"line2d_4\">\n      <g>\n       <use style=\"stroke:#000000;stroke-width:0.8;\" x=\"257.38625\" xlink:href=\"#m049d75b1ac\" y=\"224.64\"/>\n      </g>\n     </g>\n     <g id=\"text_4\">\n      <!-- 30 -->\n      <defs>\n       <path d=\"M 40.578125 39.3125 \nQ 47.65625 37.796875 51.625 33 \nQ 55.609375 28.21875 55.609375 21.1875 \nQ 55.609375 10.40625 48.1875 4.484375 \nQ 40.765625 -1.421875 27.09375 -1.421875 \nQ 22.515625 -1.421875 17.65625 -0.515625 \nQ 12.796875 0.390625 7.625 2.203125 \nL 7.625 11.71875 \nQ 11.71875 9.328125 16.59375 8.109375 \nQ 21.484375 6.890625 26.8125 6.890625 \nQ 36.078125 6.890625 40.9375 10.546875 \nQ 45.796875 14.203125 45.796875 21.1875 \nQ 45.796875 27.640625 41.28125 31.265625 \nQ 36.765625 34.90625 28.71875 34.90625 \nL 20.21875 34.90625 \nL 20.21875 43.015625 \nL 29.109375 43.015625 \nQ 36.375 43.015625 40.234375 45.921875 \nQ 44.09375 48.828125 44.09375 54.296875 \nQ 44.09375 59.90625 40.109375 62.90625 \nQ 36.140625 65.921875 28.71875 65.921875 \nQ 24.65625 65.921875 20.015625 65.03125 \nQ 15.375 64.15625 9.8125 62.3125 \nL 9.8125 71.09375 \nQ 15.4375 72.65625 20.34375 73.4375 \nQ 25.25 74.21875 29.59375 74.21875 \nQ 40.828125 74.21875 47.359375 69.109375 \nQ 53.90625 64.015625 53.90625 55.328125 \nQ 53.90625 49.265625 50.4375 45.09375 \nQ 46.96875 40.921875 40.578125 39.3125 \nz\n\" id=\"DejaVuSans-51\"/>\n      </defs>\n      <g transform=\"translate(251.02375 239.238437)scale(0.1 -0.1)\">\n       <use xlink:href=\"#DejaVuSans-51\"/>\n       <use x=\"63.623047\" xlink:href=\"#DejaVuSans-48\"/>\n      </g>\n     </g>\n    </g>\n    <g id=\"xtick_5\">\n     <g id=\"line2d_5\">\n      <g>\n       <use style=\"stroke:#000000;stroke-width:0.8;\" x=\"324.34625\" xlink:href=\"#m049d75b1ac\" y=\"224.64\"/>\n      </g>\n     </g>\n     <g id=\"text_5\">\n      <!-- 40 -->\n      <defs>\n       <path d=\"M 37.796875 64.3125 \nL 12.890625 25.390625 \nL 37.796875 25.390625 \nz\nM 35.203125 72.90625 \nL 47.609375 72.90625 \nL 47.609375 25.390625 \nL 58.015625 25.390625 \nL 58.015625 17.1875 \nL 47.609375 17.1875 \nL 47.609375 0 \nL 37.796875 0 \nL 37.796875 17.1875 \nL 4.890625 17.1875 \nL 4.890625 26.703125 \nz\n\" id=\"DejaVuSans-52\"/>\n      </defs>\n      <g transform=\"translate(317.98375 239.238437)scale(0.1 -0.1)\">\n       <use xlink:href=\"#DejaVuSans-52\"/>\n       <use x=\"63.623047\" xlink:href=\"#DejaVuSans-48\"/>\n      </g>\n     </g>\n    </g>\n    <g id=\"xtick_6\">\n     <g id=\"line2d_6\">\n      <g>\n       <use style=\"stroke:#000000;stroke-width:0.8;\" x=\"391.30625\" xlink:href=\"#m049d75b1ac\" y=\"224.64\"/>\n      </g>\n     </g>\n     <g id=\"text_6\">\n      <!-- 50 -->\n      <defs>\n       <path d=\"M 10.796875 72.90625 \nL 49.515625 72.90625 \nL 49.515625 64.59375 \nL 19.828125 64.59375 \nL 19.828125 46.734375 \nQ 21.96875 47.46875 24.109375 47.828125 \nQ 26.265625 48.1875 28.421875 48.1875 \nQ 40.625 48.1875 47.75 41.5 \nQ 54.890625 34.8125 54.890625 23.390625 \nQ 54.890625 11.625 47.5625 5.09375 \nQ 40.234375 -1.421875 26.90625 -1.421875 \nQ 22.3125 -1.421875 17.546875 -0.640625 \nQ 12.796875 0.140625 7.71875 1.703125 \nL 7.71875 11.625 \nQ 12.109375 9.234375 16.796875 8.0625 \nQ 21.484375 6.890625 26.703125 6.890625 \nQ 35.15625 6.890625 40.078125 11.328125 \nQ 45.015625 15.765625 45.015625 23.390625 \nQ 45.015625 31 40.078125 35.4375 \nQ 35.15625 39.890625 26.703125 39.890625 \nQ 22.75 39.890625 18.8125 39.015625 \nQ 14.890625 38.140625 10.796875 36.28125 \nz\n\" id=\"DejaVuSans-53\"/>\n      </defs>\n      <g transform=\"translate(384.94375 239.238437)scale(0.1 -0.1)\">\n       <use xlink:href=\"#DejaVuSans-53\"/>\n       <use x=\"63.623047\" xlink:href=\"#DejaVuSans-48\"/>\n      </g>\n     </g>\n    </g>\n    <g id=\"text_7\">\n     <!-- index -->\n     <defs>\n      <path d=\"M 9.421875 54.6875 \nL 18.40625 54.6875 \nL 18.40625 0 \nL 9.421875 0 \nz\nM 9.421875 75.984375 \nL 18.40625 75.984375 \nL 18.40625 64.59375 \nL 9.421875 64.59375 \nz\n\" id=\"DejaVuSans-105\"/>\n      <path d=\"M 54.890625 33.015625 \nL 54.890625 0 \nL 45.90625 0 \nL 45.90625 32.71875 \nQ 45.90625 40.484375 42.875 44.328125 \nQ 39.84375 48.1875 33.796875 48.1875 \nQ 26.515625 48.1875 22.3125 43.546875 \nQ 18.109375 38.921875 18.109375 30.90625 \nL 18.109375 0 \nL 9.078125 0 \nL 9.078125 54.6875 \nL 18.109375 54.6875 \nL 18.109375 46.1875 \nQ 21.34375 51.125 25.703125 53.5625 \nQ 30.078125 56 35.796875 56 \nQ 45.21875 56 50.046875 50.171875 \nQ 54.890625 44.34375 54.890625 33.015625 \nz\n\" id=\"DejaVuSans-110\"/>\n      <path d=\"M 45.40625 46.390625 \nL 45.40625 75.984375 \nL 54.390625 75.984375 \nL 54.390625 0 \nL 45.40625 0 \nL 45.40625 8.203125 \nQ 42.578125 3.328125 38.25 0.953125 \nQ 33.9375 -1.421875 27.875 -1.421875 \nQ 17.96875 -1.421875 11.734375 6.484375 \nQ 5.515625 14.40625 5.515625 27.296875 \nQ 5.515625 40.1875 11.734375 48.09375 \nQ 17.96875 56 27.875 56 \nQ 33.9375 56 38.25 53.625 \nQ 42.578125 51.265625 45.40625 46.390625 \nz\nM 14.796875 27.296875 \nQ 14.796875 17.390625 18.875 11.75 \nQ 22.953125 6.109375 30.078125 6.109375 \nQ 37.203125 6.109375 41.296875 11.75 \nQ 45.40625 17.390625 45.40625 27.296875 \nQ 45.40625 37.203125 41.296875 42.84375 \nQ 37.203125 48.484375 30.078125 48.484375 \nQ 22.953125 48.484375 18.875 42.84375 \nQ 14.796875 37.203125 14.796875 27.296875 \nz\n\" id=\"DejaVuSans-100\"/>\n      <path d=\"M 56.203125 29.59375 \nL 56.203125 25.203125 \nL 14.890625 25.203125 \nQ 15.484375 15.921875 20.484375 11.0625 \nQ 25.484375 6.203125 34.421875 6.203125 \nQ 39.59375 6.203125 44.453125 7.46875 \nQ 49.3125 8.734375 54.109375 11.28125 \nL 54.109375 2.78125 \nQ 49.265625 0.734375 44.1875 -0.34375 \nQ 39.109375 -1.421875 33.890625 -1.421875 \nQ 20.796875 -1.421875 13.15625 6.1875 \nQ 5.515625 13.8125 5.515625 26.8125 \nQ 5.515625 40.234375 12.765625 48.109375 \nQ 20.015625 56 32.328125 56 \nQ 43.359375 56 49.78125 48.890625 \nQ 56.203125 41.796875 56.203125 29.59375 \nz\nM 47.21875 32.234375 \nQ 47.125 39.59375 43.09375 43.984375 \nQ 39.0625 48.390625 32.421875 48.390625 \nQ 24.90625 48.390625 20.390625 44.140625 \nQ 15.875 39.890625 15.1875 32.171875 \nz\n\" id=\"DejaVuSans-101\"/>\n      <path d=\"M 54.890625 54.6875 \nL 35.109375 28.078125 \nL 55.90625 0 \nL 45.3125 0 \nL 29.390625 21.484375 \nL 13.484375 0 \nL 2.875 0 \nL 24.125 28.609375 \nL 4.6875 54.6875 \nL 15.28125 54.6875 \nL 29.78125 35.203125 \nL 44.28125 54.6875 \nz\n\" id=\"DejaVuSans-120\"/>\n     </defs>\n     <g transform=\"translate(210.225781 252.916562)scale(0.1 -0.1)\">\n      <use xlink:href=\"#DejaVuSans-105\"/>\n      <use x=\"27.783203\" xlink:href=\"#DejaVuSans-110\"/>\n      <use x=\"91.162109\" xlink:href=\"#DejaVuSans-100\"/>\n      <use x=\"154.638672\" xlink:href=\"#DejaVuSans-101\"/>\n      <use x=\"214.412109\" xlink:href=\"#DejaVuSans-120\"/>\n     </g>\n    </g>\n   </g>\n   <g id=\"matplotlib.axis_2\">\n    <g id=\"ytick_1\">\n     <g id=\"line2d_7\">\n      <defs>\n       <path d=\"M 0 0 \nL -3.5 0 \n\" id=\"mef4c785f88\" style=\"stroke:#000000;stroke-width:0.8;\"/>\n      </defs>\n      <g>\n       <use style=\"stroke:#000000;stroke-width:0.8;\" x=\"56.50625\" xlink:href=\"#mef4c785f88\" y=\"224.64\"/>\n      </g>\n     </g>\n     <g id=\"text_8\">\n      <!-- 0.000 -->\n      <defs>\n       <path d=\"M 10.6875 12.40625 \nL 21 12.40625 \nL 21 0 \nL 10.6875 0 \nz\n\" id=\"DejaVuSans-46\"/>\n      </defs>\n      <g transform=\"translate(20.878125 228.439219)scale(0.1 -0.1)\">\n       <use xlink:href=\"#DejaVuSans-48\"/>\n       <use x=\"63.623047\" xlink:href=\"#DejaVuSans-46\"/>\n       <use x=\"95.410156\" xlink:href=\"#DejaVuSans-48\"/>\n       <use x=\"159.033203\" xlink:href=\"#DejaVuSans-48\"/>\n       <use x=\"222.65625\" xlink:href=\"#DejaVuSans-48\"/>\n      </g>\n     </g>\n    </g>\n    <g id=\"ytick_2\">\n     <g id=\"line2d_8\">\n      <g>\n       <use style=\"stroke:#000000;stroke-width:0.8;\" x=\"56.50625\" xlink:href=\"#mef4c785f88\" y=\"184.995782\"/>\n      </g>\n     </g>\n     <g id=\"text_9\">\n      <!-- 0.001 -->\n      <g transform=\"translate(20.878125 188.795001)scale(0.1 -0.1)\">\n       <use xlink:href=\"#DejaVuSans-48\"/>\n       <use x=\"63.623047\" xlink:href=\"#DejaVuSans-46\"/>\n       <use x=\"95.410156\" xlink:href=\"#DejaVuSans-48\"/>\n       <use x=\"159.033203\" xlink:href=\"#DejaVuSans-48\"/>\n       <use x=\"222.65625\" xlink:href=\"#DejaVuSans-49\"/>\n      </g>\n     </g>\n    </g>\n    <g id=\"ytick_3\">\n     <g id=\"line2d_9\">\n      <g>\n       <use style=\"stroke:#000000;stroke-width:0.8;\" x=\"56.50625\" xlink:href=\"#mef4c785f88\" y=\"145.351565\"/>\n      </g>\n     </g>\n     <g id=\"text_10\">\n      <!-- 0.002 -->\n      <g transform=\"translate(20.878125 149.150784)scale(0.1 -0.1)\">\n       <use xlink:href=\"#DejaVuSans-48\"/>\n       <use x=\"63.623047\" xlink:href=\"#DejaVuSans-46\"/>\n       <use x=\"95.410156\" xlink:href=\"#DejaVuSans-48\"/>\n       <use x=\"159.033203\" xlink:href=\"#DejaVuSans-48\"/>\n       <use x=\"222.65625\" xlink:href=\"#DejaVuSans-50\"/>\n      </g>\n     </g>\n    </g>\n    <g id=\"ytick_4\">\n     <g id=\"line2d_10\">\n      <g>\n       <use style=\"stroke:#000000;stroke-width:0.8;\" x=\"56.50625\" xlink:href=\"#mef4c785f88\" y=\"105.707347\"/>\n      </g>\n     </g>\n     <g id=\"text_11\">\n      <!-- 0.003 -->\n      <g transform=\"translate(20.878125 109.506566)scale(0.1 -0.1)\">\n       <use xlink:href=\"#DejaVuSans-48\"/>\n       <use x=\"63.623047\" xlink:href=\"#DejaVuSans-46\"/>\n       <use x=\"95.410156\" xlink:href=\"#DejaVuSans-48\"/>\n       <use x=\"159.033203\" xlink:href=\"#DejaVuSans-48\"/>\n       <use x=\"222.65625\" xlink:href=\"#DejaVuSans-51\"/>\n      </g>\n     </g>\n    </g>\n    <g id=\"ytick_5\">\n     <g id=\"line2d_11\">\n      <g>\n       <use style=\"stroke:#000000;stroke-width:0.8;\" x=\"56.50625\" xlink:href=\"#mef4c785f88\" y=\"66.06313\"/>\n      </g>\n     </g>\n     <g id=\"text_12\">\n      <!-- 0.004 -->\n      <g transform=\"translate(20.878125 69.862349)scale(0.1 -0.1)\">\n       <use xlink:href=\"#DejaVuSans-48\"/>\n       <use x=\"63.623047\" xlink:href=\"#DejaVuSans-46\"/>\n       <use x=\"95.410156\" xlink:href=\"#DejaVuSans-48\"/>\n       <use x=\"159.033203\" xlink:href=\"#DejaVuSans-48\"/>\n       <use x=\"222.65625\" xlink:href=\"#DejaVuSans-52\"/>\n      </g>\n     </g>\n    </g>\n    <g id=\"ytick_6\">\n     <g id=\"line2d_12\">\n      <g>\n       <use style=\"stroke:#000000;stroke-width:0.8;\" x=\"56.50625\" xlink:href=\"#mef4c785f88\" y=\"26.418912\"/>\n      </g>\n     </g>\n     <g id=\"text_13\">\n      <!-- 0.005 -->\n      <g transform=\"translate(20.878125 30.218131)scale(0.1 -0.1)\">\n       <use xlink:href=\"#DejaVuSans-48\"/>\n       <use x=\"63.623047\" xlink:href=\"#DejaVuSans-46\"/>\n       <use x=\"95.410156\" xlink:href=\"#DejaVuSans-48\"/>\n       <use x=\"159.033203\" xlink:href=\"#DejaVuSans-48\"/>\n       <use x=\"222.65625\" xlink:href=\"#DejaVuSans-53\"/>\n      </g>\n     </g>\n    </g>\n    <g id=\"text_14\">\n     <!-- Density -->\n     <defs>\n      <path d=\"M 19.671875 64.796875 \nL 19.671875 8.109375 \nL 31.59375 8.109375 \nQ 46.6875 8.109375 53.6875 14.9375 \nQ 60.6875 21.78125 60.6875 36.53125 \nQ 60.6875 51.171875 53.6875 57.984375 \nQ 46.6875 64.796875 31.59375 64.796875 \nz\nM 9.8125 72.90625 \nL 30.078125 72.90625 \nQ 51.265625 72.90625 61.171875 64.09375 \nQ 71.09375 55.28125 71.09375 36.53125 \nQ 71.09375 17.671875 61.125 8.828125 \nQ 51.171875 0 30.078125 0 \nL 9.8125 0 \nz\n\" id=\"DejaVuSans-68\"/>\n      <path d=\"M 44.28125 53.078125 \nL 44.28125 44.578125 \nQ 40.484375 46.53125 36.375 47.5 \nQ 32.28125 48.484375 27.875 48.484375 \nQ 21.1875 48.484375 17.84375 46.4375 \nQ 14.5 44.390625 14.5 40.28125 \nQ 14.5 37.15625 16.890625 35.375 \nQ 19.28125 33.59375 26.515625 31.984375 \nL 29.59375 31.296875 \nQ 39.15625 29.25 43.1875 25.515625 \nQ 47.21875 21.78125 47.21875 15.09375 \nQ 47.21875 7.46875 41.1875 3.015625 \nQ 35.15625 -1.421875 24.609375 -1.421875 \nQ 20.21875 -1.421875 15.453125 -0.5625 \nQ 10.6875 0.296875 5.421875 2 \nL 5.421875 11.28125 \nQ 10.40625 8.6875 15.234375 7.390625 \nQ 20.0625 6.109375 24.8125 6.109375 \nQ 31.15625 6.109375 34.5625 8.28125 \nQ 37.984375 10.453125 37.984375 14.40625 \nQ 37.984375 18.0625 35.515625 20.015625 \nQ 33.0625 21.96875 24.703125 23.78125 \nL 21.578125 24.515625 \nQ 13.234375 26.265625 9.515625 29.90625 \nQ 5.8125 33.546875 5.8125 39.890625 \nQ 5.8125 47.609375 11.28125 51.796875 \nQ 16.75 56 26.8125 56 \nQ 31.78125 56 36.171875 55.265625 \nQ 40.578125 54.546875 44.28125 53.078125 \nz\n\" id=\"DejaVuSans-115\"/>\n      <path d=\"M 18.3125 70.21875 \nL 18.3125 54.6875 \nL 36.8125 54.6875 \nL 36.8125 47.703125 \nL 18.3125 47.703125 \nL 18.3125 18.015625 \nQ 18.3125 11.328125 20.140625 9.421875 \nQ 21.96875 7.515625 27.59375 7.515625 \nL 36.8125 7.515625 \nL 36.8125 0 \nL 27.59375 0 \nQ 17.1875 0 13.234375 3.875 \nQ 9.28125 7.765625 9.28125 18.015625 \nL 9.28125 47.703125 \nL 2.6875 47.703125 \nL 2.6875 54.6875 \nL 9.28125 54.6875 \nL 9.28125 70.21875 \nz\n\" id=\"DejaVuSans-116\"/>\n      <path d=\"M 32.171875 -5.078125 \nQ 28.375 -14.84375 24.75 -17.8125 \nQ 21.140625 -20.796875 15.09375 -20.796875 \nL 7.90625 -20.796875 \nL 7.90625 -13.28125 \nL 13.1875 -13.28125 \nQ 16.890625 -13.28125 18.9375 -11.515625 \nQ 21 -9.765625 23.484375 -3.21875 \nL 25.09375 0.875 \nL 2.984375 54.6875 \nL 12.5 54.6875 \nL 29.59375 11.921875 \nL 46.6875 54.6875 \nL 56.203125 54.6875 \nz\n\" id=\"DejaVuSans-121\"/>\n     </defs>\n     <g transform=\"translate(14.798437 134.928594)rotate(-90)scale(0.1 -0.1)\">\n      <use xlink:href=\"#DejaVuSans-68\"/>\n      <use x=\"77.001953\" xlink:href=\"#DejaVuSans-101\"/>\n      <use x=\"138.525391\" xlink:href=\"#DejaVuSans-110\"/>\n      <use x=\"201.904297\" xlink:href=\"#DejaVuSans-115\"/>\n      <use x=\"254.003906\" xlink:href=\"#DejaVuSans-105\"/>\n      <use x=\"281.787109\" xlink:href=\"#DejaVuSans-116\"/>\n      <use x=\"320.996094\" xlink:href=\"#DejaVuSans-121\"/>\n     </g>\n    </g>\n   </g>\n   <g id=\"line2d_13\">\n    <path clip-path=\"url(#p4d7d5fb33a)\" d=\"M -1 38.521968 \nL 155.822402 17.554286 \nL 405.86875 66.232615 \nL 405.86875 66.232615 \n\" style=\"fill:none;stroke:#1f77b4;stroke-linecap:square;stroke-width:1.5;\"/>\n   </g>\n   <g id=\"patch_53\">\n    <path d=\"M 56.50625 224.64 \nL 56.50625 7.2 \n\" style=\"fill:none;stroke:#000000;stroke-linecap:square;stroke-linejoin:miter;stroke-width:0.8;\"/>\n   </g>\n   <g id=\"patch_54\">\n    <path d=\"M 391.30625 224.64 \nL 391.30625 7.2 \n\" style=\"fill:none;stroke:#000000;stroke-linecap:square;stroke-linejoin:miter;stroke-width:0.8;\"/>\n   </g>\n   <g id=\"patch_55\">\n    <path d=\"M 56.50625 224.64 \nL 391.30625 224.64 \n\" style=\"fill:none;stroke:#000000;stroke-linecap:square;stroke-linejoin:miter;stroke-width:0.8;\"/>\n   </g>\n   <g id=\"patch_56\">\n    <path d=\"M 56.50625 7.2 \nL 391.30625 7.2 \n\" style=\"fill:none;stroke:#000000;stroke-linecap:square;stroke-linejoin:miter;stroke-width:0.8;\"/>\n   </g>\n  </g>\n </g>\n <defs>\n  <clipPath id=\"p4d7d5fb33a\">\n   <rect height=\"217.44\" width=\"334.8\" x=\"56.50625\" y=\"7.2\"/>\n  </clipPath>\n </defs>\n</svg>\n",
      "image/png": "[encoded data removed]"
     },
     "metadata": {
      "needs_background": "light"
     }
    }
   ],
   "source": [
    "sns.distplot(group_1['index'])\n",
    "plt.xlim([0, 50])"
   ]
  },
  {
   "cell_type": "code",
   "execution_count": 69,
   "metadata": {},
   "outputs": [
    {
     "output_type": "execute_result",
     "data": {
      "text/plain": [
       "(0.0, 200.0)"
      ]
     },
     "metadata": {},
     "execution_count": 69
    },
    {
     "output_type": "display_data",
     "data": {
      "text/plain": "<Figure size 432x288 with 1 Axes>",
      "image/svg+xml": "<?xml version=\"1.0\" encoding=\"utf-8\" standalone=\"no\"?>\n<!DOCTYPE svg PUBLIC \"-//W3C//DTD SVG 1.1//EN\"\n  \"http://www.w3.org/Graphics/SVG/1.1/DTD/svg11.dtd\">\n<!-- Created with matplotlib (https://matplotlib.org/) -->\n<svg height=\"262.19625pt\" version=\"1.1\" viewBox=\"0 0 408.05 262.19625\" width=\"408.05pt\" xmlns=\"http://www.w3.org/2000/svg\" xmlns:xlink=\"http://www.w3.org/1999/xlink\">\n <defs>\n  <style type=\"text/css\">\n*{stroke-linecap:butt;stroke-linejoin:round;}\n  </style>\n </defs>\n <g id=\"figure_1\">\n  <g id=\"patch_1\">\n   <path d=\"M 0 262.19625 \nL 408.05 262.19625 \nL 408.05 0 \nL 0 0 \nz\n\" style=\"fill:none;\"/>\n  </g>\n  <g id=\"axes_1\">\n   <g id=\"patch_2\">\n    <path d=\"M 56.50625 224.64 \nL 391.30625 224.64 \nL 391.30625 7.2 \nL 56.50625 7.2 \nz\n\" style=\"fill:#ffffff;\"/>\n   </g>\n   <g id=\"matplotlib.axis_1\">\n    <g id=\"xtick_1\">\n     <g id=\"line2d_1\">\n      <defs>\n       <path d=\"M 0 0 \nL 0 3.5 \n\" id=\"ma27ff8e1d9\" style=\"stroke:#000000;stroke-width:0.8;\"/>\n      </defs>\n      <g>\n       <use style=\"stroke:#000000;stroke-width:0.8;\" x=\"56.50625\" xlink:href=\"#ma27ff8e1d9\" y=\"224.64\"/>\n      </g>\n     </g>\n     <g id=\"text_1\">\n      <!-- 0 -->\n      <defs>\n       <path d=\"M 31.78125 66.40625 \nQ 24.171875 66.40625 20.328125 58.90625 \nQ 16.5 51.421875 16.5 36.375 \nQ 16.5 21.390625 20.328125 13.890625 \nQ 24.171875 6.390625 31.78125 6.390625 \nQ 39.453125 6.390625 43.28125 13.890625 \nQ 47.125 21.390625 47.125 36.375 \nQ 47.125 51.421875 43.28125 58.90625 \nQ 39.453125 66.40625 31.78125 66.40625 \nz\nM 31.78125 74.21875 \nQ 44.046875 74.21875 50.515625 64.515625 \nQ 56.984375 54.828125 56.984375 36.375 \nQ 56.984375 17.96875 50.515625 8.265625 \nQ 44.046875 -1.421875 31.78125 -1.421875 \nQ 19.53125 -1.421875 13.0625 8.265625 \nQ 6.59375 17.96875 6.59375 36.375 \nQ 6.59375 54.828125 13.0625 64.515625 \nQ 19.53125 74.21875 31.78125 74.21875 \nz\n\" id=\"DejaVuSans-48\"/>\n      </defs>\n      <g transform=\"translate(53.325 239.238437)scale(0.1 -0.1)\">\n       <use xlink:href=\"#DejaVuSans-48\"/>\n      </g>\n     </g>\n    </g>\n    <g id=\"xtick_2\">\n     <g id=\"line2d_2\">\n      <g>\n       <use style=\"stroke:#000000;stroke-width:0.8;\" x=\"98.35625\" xlink:href=\"#ma27ff8e1d9\" y=\"224.64\"/>\n      </g>\n     </g>\n     <g id=\"text_2\">\n      <!-- 25 -->\n      <defs>\n       <path d=\"M 19.1875 8.296875 \nL 53.609375 8.296875 \nL 53.609375 0 \nL 7.328125 0 \nL 7.328125 8.296875 \nQ 12.9375 14.109375 22.625 23.890625 \nQ 32.328125 33.6875 34.8125 36.53125 \nQ 39.546875 41.84375 41.421875 45.53125 \nQ 43.3125 49.21875 43.3125 52.78125 \nQ 43.3125 58.59375 39.234375 62.25 \nQ 35.15625 65.921875 28.609375 65.921875 \nQ 23.96875 65.921875 18.8125 64.3125 \nQ 13.671875 62.703125 7.8125 59.421875 \nL 7.8125 69.390625 \nQ 13.765625 71.78125 18.9375 73 \nQ 24.125 74.21875 28.421875 74.21875 \nQ 39.75 74.21875 46.484375 68.546875 \nQ 53.21875 62.890625 53.21875 53.421875 \nQ 53.21875 48.921875 51.53125 44.890625 \nQ 49.859375 40.875 45.40625 35.40625 \nQ 44.1875 33.984375 37.640625 27.21875 \nQ 31.109375 20.453125 19.1875 8.296875 \nz\n\" id=\"DejaVuSans-50\"/>\n       <path d=\"M 10.796875 72.90625 \nL 49.515625 72.90625 \nL 49.515625 64.59375 \nL 19.828125 64.59375 \nL 19.828125 46.734375 \nQ 21.96875 47.46875 24.109375 47.828125 \nQ 26.265625 48.1875 28.421875 48.1875 \nQ 40.625 48.1875 47.75 41.5 \nQ 54.890625 34.8125 54.890625 23.390625 \nQ 54.890625 11.625 47.5625 5.09375 \nQ 40.234375 -1.421875 26.90625 -1.421875 \nQ 22.3125 -1.421875 17.546875 -0.640625 \nQ 12.796875 0.140625 7.71875 1.703125 \nL 7.71875 11.625 \nQ 12.109375 9.234375 16.796875 8.0625 \nQ 21.484375 6.890625 26.703125 6.890625 \nQ 35.15625 6.890625 40.078125 11.328125 \nQ 45.015625 15.765625 45.015625 23.390625 \nQ 45.015625 31 40.078125 35.4375 \nQ 35.15625 39.890625 26.703125 39.890625 \nQ 22.75 39.890625 18.8125 39.015625 \nQ 14.890625 38.140625 10.796875 36.28125 \nz\n\" id=\"DejaVuSans-53\"/>\n      </defs>\n      <g transform=\"translate(91.99375 239.238437)scale(0.1 -0.1)\">\n       <use xlink:href=\"#DejaVuSans-50\"/>\n       <use x=\"63.623047\" xlink:href=\"#DejaVuSans-53\"/>\n      </g>\n     </g>\n    </g>\n    <g id=\"xtick_3\">\n     <g id=\"line2d_3\">\n      <g>\n       <use style=\"stroke:#000000;stroke-width:0.8;\" x=\"140.20625\" xlink:href=\"#ma27ff8e1d9\" y=\"224.64\"/>\n      </g>\n     </g>\n     <g id=\"text_3\">\n      <!-- 50 -->\n      <g transform=\"translate(133.84375 239.238437)scale(0.1 -0.1)\">\n       <use xlink:href=\"#DejaVuSans-53\"/>\n       <use x=\"63.623047\" xlink:href=\"#DejaVuSans-48\"/>\n      </g>\n     </g>\n    </g>\n    <g id=\"xtick_4\">\n     <g id=\"line2d_4\">\n      <g>\n       <use style=\"stroke:#000000;stroke-width:0.8;\" x=\"182.05625\" xlink:href=\"#ma27ff8e1d9\" y=\"224.64\"/>\n      </g>\n     </g>\n     <g id=\"text_4\">\n      <!-- 75 -->\n      <defs>\n       <path d=\"M 8.203125 72.90625 \nL 55.078125 72.90625 \nL 55.078125 68.703125 \nL 28.609375 0 \nL 18.3125 0 \nL 43.21875 64.59375 \nL 8.203125 64.59375 \nz\n\" id=\"DejaVuSans-55\"/>\n      </defs>\n      <g transform=\"translate(175.69375 239.238437)scale(0.1 -0.1)\">\n       <use xlink:href=\"#DejaVuSans-55\"/>\n       <use x=\"63.623047\" xlink:href=\"#DejaVuSans-53\"/>\n      </g>\n     </g>\n    </g>\n    <g id=\"xtick_5\">\n     <g id=\"line2d_5\">\n      <g>\n       <use style=\"stroke:#000000;stroke-width:0.8;\" x=\"223.90625\" xlink:href=\"#ma27ff8e1d9\" y=\"224.64\"/>\n      </g>\n     </g>\n     <g id=\"text_5\">\n      <!-- 100 -->\n      <defs>\n       <path d=\"M 12.40625 8.296875 \nL 28.515625 8.296875 \nL 28.515625 63.921875 \nL 10.984375 60.40625 \nL 10.984375 69.390625 \nL 28.421875 72.90625 \nL 38.28125 72.90625 \nL 38.28125 8.296875 \nL 54.390625 8.296875 \nL 54.390625 0 \nL 12.40625 0 \nz\n\" id=\"DejaVuSans-49\"/>\n      </defs>\n      <g transform=\"translate(214.3625 239.238437)scale(0.1 -0.1)\">\n       <use xlink:href=\"#DejaVuSans-49\"/>\n       <use x=\"63.623047\" xlink:href=\"#DejaVuSans-48\"/>\n       <use x=\"127.246094\" xlink:href=\"#DejaVuSans-48\"/>\n      </g>\n     </g>\n    </g>\n    <g id=\"xtick_6\">\n     <g id=\"line2d_6\">\n      <g>\n       <use style=\"stroke:#000000;stroke-width:0.8;\" x=\"265.75625\" xlink:href=\"#ma27ff8e1d9\" y=\"224.64\"/>\n      </g>\n     </g>\n     <g id=\"text_6\">\n      <!-- 125 -->\n      <g transform=\"translate(256.2125 239.238437)scale(0.1 -0.1)\">\n       <use xlink:href=\"#DejaVuSans-49\"/>\n       <use x=\"63.623047\" xlink:href=\"#DejaVuSans-50\"/>\n       <use x=\"127.246094\" xlink:href=\"#DejaVuSans-53\"/>\n      </g>\n     </g>\n    </g>\n    <g id=\"xtick_7\">\n     <g id=\"line2d_7\">\n      <g>\n       <use style=\"stroke:#000000;stroke-width:0.8;\" x=\"307.60625\" xlink:href=\"#ma27ff8e1d9\" y=\"224.64\"/>\n      </g>\n     </g>\n     <g id=\"text_7\">\n      <!-- 150 -->\n      <g transform=\"translate(298.0625 239.238437)scale(0.1 -0.1)\">\n       <use xlink:href=\"#DejaVuSans-49\"/>\n       <use x=\"63.623047\" xlink:href=\"#DejaVuSans-53\"/>\n       <use x=\"127.246094\" xlink:href=\"#DejaVuSans-48\"/>\n      </g>\n     </g>\n    </g>\n    <g id=\"xtick_8\">\n     <g id=\"line2d_8\">\n      <g>\n       <use style=\"stroke:#000000;stroke-width:0.8;\" x=\"349.45625\" xlink:href=\"#ma27ff8e1d9\" y=\"224.64\"/>\n      </g>\n     </g>\n     <g id=\"text_8\">\n      <!-- 175 -->\n      <g transform=\"translate(339.9125 239.238437)scale(0.1 -0.1)\">\n       <use xlink:href=\"#DejaVuSans-49\"/>\n       <use x=\"63.623047\" xlink:href=\"#DejaVuSans-55\"/>\n       <use x=\"127.246094\" xlink:href=\"#DejaVuSans-53\"/>\n      </g>\n     </g>\n    </g>\n    <g id=\"xtick_9\">\n     <g id=\"line2d_9\">\n      <g>\n       <use style=\"stroke:#000000;stroke-width:0.8;\" x=\"391.30625\" xlink:href=\"#ma27ff8e1d9\" y=\"224.64\"/>\n      </g>\n     </g>\n     <g id=\"text_9\">\n      <!-- 200 -->\n      <g transform=\"translate(381.7625 239.238437)scale(0.1 -0.1)\">\n       <use xlink:href=\"#DejaVuSans-50\"/>\n       <use x=\"63.623047\" xlink:href=\"#DejaVuSans-48\"/>\n       <use x=\"127.246094\" xlink:href=\"#DejaVuSans-48\"/>\n      </g>\n     </g>\n    </g>\n    <g id=\"text_10\">\n     <!-- index -->\n     <defs>\n      <path d=\"M 9.421875 54.6875 \nL 18.40625 54.6875 \nL 18.40625 0 \nL 9.421875 0 \nz\nM 9.421875 75.984375 \nL 18.40625 75.984375 \nL 18.40625 64.59375 \nL 9.421875 64.59375 \nz\n\" id=\"DejaVuSans-105\"/>\n      <path d=\"M 54.890625 33.015625 \nL 54.890625 0 \nL 45.90625 0 \nL 45.90625 32.71875 \nQ 45.90625 40.484375 42.875 44.328125 \nQ 39.84375 48.1875 33.796875 48.1875 \nQ 26.515625 48.1875 22.3125 43.546875 \nQ 18.109375 38.921875 18.109375 30.90625 \nL 18.109375 0 \nL 9.078125 0 \nL 9.078125 54.6875 \nL 18.109375 54.6875 \nL 18.109375 46.1875 \nQ 21.34375 51.125 25.703125 53.5625 \nQ 30.078125 56 35.796875 56 \nQ 45.21875 56 50.046875 50.171875 \nQ 54.890625 44.34375 54.890625 33.015625 \nz\n\" id=\"DejaVuSans-110\"/>\n      <path d=\"M 45.40625 46.390625 \nL 45.40625 75.984375 \nL 54.390625 75.984375 \nL 54.390625 0 \nL 45.40625 0 \nL 45.40625 8.203125 \nQ 42.578125 3.328125 38.25 0.953125 \nQ 33.9375 -1.421875 27.875 -1.421875 \nQ 17.96875 -1.421875 11.734375 6.484375 \nQ 5.515625 14.40625 5.515625 27.296875 \nQ 5.515625 40.1875 11.734375 48.09375 \nQ 17.96875 56 27.875 56 \nQ 33.9375 56 38.25 53.625 \nQ 42.578125 51.265625 45.40625 46.390625 \nz\nM 14.796875 27.296875 \nQ 14.796875 17.390625 18.875 11.75 \nQ 22.953125 6.109375 30.078125 6.109375 \nQ 37.203125 6.109375 41.296875 11.75 \nQ 45.40625 17.390625 45.40625 27.296875 \nQ 45.40625 37.203125 41.296875 42.84375 \nQ 37.203125 48.484375 30.078125 48.484375 \nQ 22.953125 48.484375 18.875 42.84375 \nQ 14.796875 37.203125 14.796875 27.296875 \nz\n\" id=\"DejaVuSans-100\"/>\n      <path d=\"M 56.203125 29.59375 \nL 56.203125 25.203125 \nL 14.890625 25.203125 \nQ 15.484375 15.921875 20.484375 11.0625 \nQ 25.484375 6.203125 34.421875 6.203125 \nQ 39.59375 6.203125 44.453125 7.46875 \nQ 49.3125 8.734375 54.109375 11.28125 \nL 54.109375 2.78125 \nQ 49.265625 0.734375 44.1875 -0.34375 \nQ 39.109375 -1.421875 33.890625 -1.421875 \nQ 20.796875 -1.421875 13.15625 6.1875 \nQ 5.515625 13.8125 5.515625 26.8125 \nQ 5.515625 40.234375 12.765625 48.109375 \nQ 20.015625 56 32.328125 56 \nQ 43.359375 56 49.78125 48.890625 \nQ 56.203125 41.796875 56.203125 29.59375 \nz\nM 47.21875 32.234375 \nQ 47.125 39.59375 43.09375 43.984375 \nQ 39.0625 48.390625 32.421875 48.390625 \nQ 24.90625 48.390625 20.390625 44.140625 \nQ 15.875 39.890625 15.1875 32.171875 \nz\n\" id=\"DejaVuSans-101\"/>\n      <path d=\"M 54.890625 54.6875 \nL 35.109375 28.078125 \nL 55.90625 0 \nL 45.3125 0 \nL 29.390625 21.484375 \nL 13.484375 0 \nL 2.875 0 \nL 24.125 28.609375 \nL 4.6875 54.6875 \nL 15.28125 54.6875 \nL 29.78125 35.203125 \nL 44.28125 54.6875 \nz\n\" id=\"DejaVuSans-120\"/>\n     </defs>\n     <g transform=\"translate(210.225781 252.916562)scale(0.1 -0.1)\">\n      <use xlink:href=\"#DejaVuSans-105\"/>\n      <use x=\"27.783203\" xlink:href=\"#DejaVuSans-110\"/>\n      <use x=\"91.162109\" xlink:href=\"#DejaVuSans-100\"/>\n      <use x=\"154.638672\" xlink:href=\"#DejaVuSans-101\"/>\n      <use x=\"214.412109\" xlink:href=\"#DejaVuSans-120\"/>\n     </g>\n    </g>\n   </g>\n   <g id=\"matplotlib.axis_2\">\n    <g id=\"ytick_1\">\n     <g id=\"line2d_10\">\n      <defs>\n       <path d=\"M 0 0 \nL -3.5 0 \n\" id=\"mce1324b37f\" style=\"stroke:#000000;stroke-width:0.8;\"/>\n      </defs>\n      <g>\n       <use style=\"stroke:#000000;stroke-width:0.8;\" x=\"56.50625\" xlink:href=\"#mce1324b37f\" y=\"224.64\"/>\n      </g>\n     </g>\n     <g id=\"text_11\">\n      <!-- 0.000 -->\n      <defs>\n       <path d=\"M 10.6875 12.40625 \nL 21 12.40625 \nL 21 0 \nL 10.6875 0 \nz\n\" id=\"DejaVuSans-46\"/>\n      </defs>\n      <g transform=\"translate(20.878125 228.439219)scale(0.1 -0.1)\">\n       <use xlink:href=\"#DejaVuSans-48\"/>\n       <use x=\"63.623047\" xlink:href=\"#DejaVuSans-46\"/>\n       <use x=\"95.410156\" xlink:href=\"#DejaVuSans-48\"/>\n       <use x=\"159.033203\" xlink:href=\"#DejaVuSans-48\"/>\n       <use x=\"222.65625\" xlink:href=\"#DejaVuSans-48\"/>\n      </g>\n     </g>\n    </g>\n    <g id=\"ytick_2\">\n     <g id=\"line2d_11\">\n      <g>\n       <use style=\"stroke:#000000;stroke-width:0.8;\" x=\"56.50625\" xlink:href=\"#mce1324b37f\" y=\"184.995782\"/>\n      </g>\n     </g>\n     <g id=\"text_12\">\n      <!-- 0.001 -->\n      <g transform=\"translate(20.878125 188.795001)scale(0.1 -0.1)\">\n       <use xlink:href=\"#DejaVuSans-48\"/>\n       <use x=\"63.623047\" xlink:href=\"#DejaVuSans-46\"/>\n       <use x=\"95.410156\" xlink:href=\"#DejaVuSans-48\"/>\n       <use x=\"159.033203\" xlink:href=\"#DejaVuSans-48\"/>\n       <use x=\"222.65625\" xlink:href=\"#DejaVuSans-49\"/>\n      </g>\n     </g>\n    </g>\n    <g id=\"ytick_3\">\n     <g id=\"line2d_12\">\n      <g>\n       <use style=\"stroke:#000000;stroke-width:0.8;\" x=\"56.50625\" xlink:href=\"#mce1324b37f\" y=\"145.351565\"/>\n      </g>\n     </g>\n     <g id=\"text_13\">\n      <!-- 0.002 -->\n      <g transform=\"translate(20.878125 149.150784)scale(0.1 -0.1)\">\n       <use xlink:href=\"#DejaVuSans-48\"/>\n       <use x=\"63.623047\" xlink:href=\"#DejaVuSans-46\"/>\n       <use x=\"95.410156\" xlink:href=\"#DejaVuSans-48\"/>\n       <use x=\"159.033203\" xlink:href=\"#DejaVuSans-48\"/>\n       <use x=\"222.65625\" xlink:href=\"#DejaVuSans-50\"/>\n      </g>\n     </g>\n    </g>\n    <g id=\"ytick_4\">\n     <g id=\"line2d_13\">\n      <g>\n       <use style=\"stroke:#000000;stroke-width:0.8;\" x=\"56.50625\" xlink:href=\"#mce1324b37f\" y=\"105.707347\"/>\n      </g>\n     </g>\n     <g id=\"text_14\">\n      <!-- 0.003 -->\n      <defs>\n       <path d=\"M 40.578125 39.3125 \nQ 47.65625 37.796875 51.625 33 \nQ 55.609375 28.21875 55.609375 21.1875 \nQ 55.609375 10.40625 48.1875 4.484375 \nQ 40.765625 -1.421875 27.09375 -1.421875 \nQ 22.515625 -1.421875 17.65625 -0.515625 \nQ 12.796875 0.390625 7.625 2.203125 \nL 7.625 11.71875 \nQ 11.71875 9.328125 16.59375 8.109375 \nQ 21.484375 6.890625 26.8125 6.890625 \nQ 36.078125 6.890625 40.9375 10.546875 \nQ 45.796875 14.203125 45.796875 21.1875 \nQ 45.796875 27.640625 41.28125 31.265625 \nQ 36.765625 34.90625 28.71875 34.90625 \nL 20.21875 34.90625 \nL 20.21875 43.015625 \nL 29.109375 43.015625 \nQ 36.375 43.015625 40.234375 45.921875 \nQ 44.09375 48.828125 44.09375 54.296875 \nQ 44.09375 59.90625 40.109375 62.90625 \nQ 36.140625 65.921875 28.71875 65.921875 \nQ 24.65625 65.921875 20.015625 65.03125 \nQ 15.375 64.15625 9.8125 62.3125 \nL 9.8125 71.09375 \nQ 15.4375 72.65625 20.34375 73.4375 \nQ 25.25 74.21875 29.59375 74.21875 \nQ 40.828125 74.21875 47.359375 69.109375 \nQ 53.90625 64.015625 53.90625 55.328125 \nQ 53.90625 49.265625 50.4375 45.09375 \nQ 46.96875 40.921875 40.578125 39.3125 \nz\n\" id=\"DejaVuSans-51\"/>\n      </defs>\n      <g transform=\"translate(20.878125 109.506566)scale(0.1 -0.1)\">\n       <use xlink:href=\"#DejaVuSans-48\"/>\n       <use x=\"63.623047\" xlink:href=\"#DejaVuSans-46\"/>\n       <use x=\"95.410156\" xlink:href=\"#DejaVuSans-48\"/>\n       <use x=\"159.033203\" xlink:href=\"#DejaVuSans-48\"/>\n       <use x=\"222.65625\" xlink:href=\"#DejaVuSans-51\"/>\n      </g>\n     </g>\n    </g>\n    <g id=\"ytick_5\">\n     <g id=\"line2d_14\">\n      <g>\n       <use style=\"stroke:#000000;stroke-width:0.8;\" x=\"56.50625\" xlink:href=\"#mce1324b37f\" y=\"66.06313\"/>\n      </g>\n     </g>\n     <g id=\"text_15\">\n      <!-- 0.004 -->\n      <defs>\n       <path d=\"M 37.796875 64.3125 \nL 12.890625 25.390625 \nL 37.796875 25.390625 \nz\nM 35.203125 72.90625 \nL 47.609375 72.90625 \nL 47.609375 25.390625 \nL 58.015625 25.390625 \nL 58.015625 17.1875 \nL 47.609375 17.1875 \nL 47.609375 0 \nL 37.796875 0 \nL 37.796875 17.1875 \nL 4.890625 17.1875 \nL 4.890625 26.703125 \nz\n\" id=\"DejaVuSans-52\"/>\n      </defs>\n      <g transform=\"translate(20.878125 69.862349)scale(0.1 -0.1)\">\n       <use xlink:href=\"#DejaVuSans-48\"/>\n       <use x=\"63.623047\" xlink:href=\"#DejaVuSans-46\"/>\n       <use x=\"95.410156\" xlink:href=\"#DejaVuSans-48\"/>\n       <use x=\"159.033203\" xlink:href=\"#DejaVuSans-48\"/>\n       <use x=\"222.65625\" xlink:href=\"#DejaVuSans-52\"/>\n      </g>\n     </g>\n    </g>\n    <g id=\"ytick_6\">\n     <g id=\"line2d_15\">\n      <g>\n       <use style=\"stroke:#000000;stroke-width:0.8;\" x=\"56.50625\" xlink:href=\"#mce1324b37f\" y=\"26.418912\"/>\n      </g>\n     </g>\n     <g id=\"text_16\">\n      <!-- 0.005 -->\n      <g transform=\"translate(20.878125 30.218131)scale(0.1 -0.1)\">\n       <use xlink:href=\"#DejaVuSans-48\"/>\n       <use x=\"63.623047\" xlink:href=\"#DejaVuSans-46\"/>\n       <use x=\"95.410156\" xlink:href=\"#DejaVuSans-48\"/>\n       <use x=\"159.033203\" xlink:href=\"#DejaVuSans-48\"/>\n       <use x=\"222.65625\" xlink:href=\"#DejaVuSans-53\"/>\n      </g>\n     </g>\n    </g>\n    <g id=\"text_17\">\n     <!-- Density -->\n     <defs>\n      <path d=\"M 19.671875 64.796875 \nL 19.671875 8.109375 \nL 31.59375 8.109375 \nQ 46.6875 8.109375 53.6875 14.9375 \nQ 60.6875 21.78125 60.6875 36.53125 \nQ 60.6875 51.171875 53.6875 57.984375 \nQ 46.6875 64.796875 31.59375 64.796875 \nz\nM 9.8125 72.90625 \nL 30.078125 72.90625 \nQ 51.265625 72.90625 61.171875 64.09375 \nQ 71.09375 55.28125 71.09375 36.53125 \nQ 71.09375 17.671875 61.125 8.828125 \nQ 51.171875 0 30.078125 0 \nL 9.8125 0 \nz\n\" id=\"DejaVuSans-68\"/>\n      <path d=\"M 44.28125 53.078125 \nL 44.28125 44.578125 \nQ 40.484375 46.53125 36.375 47.5 \nQ 32.28125 48.484375 27.875 48.484375 \nQ 21.1875 48.484375 17.84375 46.4375 \nQ 14.5 44.390625 14.5 40.28125 \nQ 14.5 37.15625 16.890625 35.375 \nQ 19.28125 33.59375 26.515625 31.984375 \nL 29.59375 31.296875 \nQ 39.15625 29.25 43.1875 25.515625 \nQ 47.21875 21.78125 47.21875 15.09375 \nQ 47.21875 7.46875 41.1875 3.015625 \nQ 35.15625 -1.421875 24.609375 -1.421875 \nQ 20.21875 -1.421875 15.453125 -0.5625 \nQ 10.6875 0.296875 5.421875 2 \nL 5.421875 11.28125 \nQ 10.40625 8.6875 15.234375 7.390625 \nQ 20.0625 6.109375 24.8125 6.109375 \nQ 31.15625 6.109375 34.5625 8.28125 \nQ 37.984375 10.453125 37.984375 14.40625 \nQ 37.984375 18.0625 35.515625 20.015625 \nQ 33.0625 21.96875 24.703125 23.78125 \nL 21.578125 24.515625 \nQ 13.234375 26.265625 9.515625 29.90625 \nQ 5.8125 33.546875 5.8125 39.890625 \nQ 5.8125 47.609375 11.28125 51.796875 \nQ 16.75 56 26.8125 56 \nQ 31.78125 56 36.171875 55.265625 \nQ 40.578125 54.546875 44.28125 53.078125 \nz\n\" id=\"DejaVuSans-115\"/>\n      <path d=\"M 18.3125 70.21875 \nL 18.3125 54.6875 \nL 36.8125 54.6875 \nL 36.8125 47.703125 \nL 18.3125 47.703125 \nL 18.3125 18.015625 \nQ 18.3125 11.328125 20.140625 9.421875 \nQ 21.96875 7.515625 27.59375 7.515625 \nL 36.8125 7.515625 \nL 36.8125 0 \nL 27.59375 0 \nQ 17.1875 0 13.234375 3.875 \nQ 9.28125 7.765625 9.28125 18.015625 \nL 9.28125 47.703125 \nL 2.6875 47.703125 \nL 2.6875 54.6875 \nL 9.28125 54.6875 \nL 9.28125 70.21875 \nz\n\" id=\"DejaVuSans-116\"/>\n      <path d=\"M 32.171875 -5.078125 \nQ 28.375 -14.84375 24.75 -17.8125 \nQ 21.140625 -20.796875 15.09375 -20.796875 \nL 7.90625 -20.796875 \nL 7.90625 -13.28125 \nL 13.1875 -13.28125 \nQ 16.890625 -13.28125 18.9375 -11.515625 \nQ 21 -9.765625 23.484375 -3.21875 \nL 25.09375 0.875 \nL 2.984375 54.6875 \nL 12.5 54.6875 \nL 29.59375 11.921875 \nL 46.6875 54.6875 \nL 56.203125 54.6875 \nz\n\" id=\"DejaVuSans-121\"/>\n     </defs>\n     <g transform=\"translate(14.798437 134.928594)rotate(-90)scale(0.1 -0.1)\">\n      <use xlink:href=\"#DejaVuSans-68\"/>\n      <use x=\"77.001953\" xlink:href=\"#DejaVuSans-101\"/>\n      <use x=\"138.525391\" xlink:href=\"#DejaVuSans-110\"/>\n      <use x=\"201.904297\" xlink:href=\"#DejaVuSans-115\"/>\n      <use x=\"254.003906\" xlink:href=\"#DejaVuSans-105\"/>\n      <use x=\"281.787109\" xlink:href=\"#DejaVuSans-116\"/>\n      <use x=\"320.996094\" xlink:href=\"#DejaVuSans-121\"/>\n     </g>\n    </g>\n   </g>\n   <g id=\"line2d_16\">\n    <path clip-path=\"url(#pcad68425e0)\" d=\"M -1 61.588304 \nL 81.335288 17.554286 \nL 214.564313 121.300915 \nL 347.793339 207.382453 \nL 409.05 214.757093 \nL 409.05 214.757093 \n\" style=\"fill:none;stroke:#1f77b4;stroke-linecap:square;stroke-width:1.5;\"/>\n   </g>\n   <g id=\"patch_3\">\n    <path d=\"M 56.50625 224.64 \nL 56.50625 7.2 \n\" style=\"fill:none;stroke:#000000;stroke-linecap:square;stroke-linejoin:miter;stroke-width:0.8;\"/>\n   </g>\n   <g id=\"patch_4\">\n    <path d=\"M 391.30625 224.64 \nL 391.30625 7.2 \n\" style=\"fill:none;stroke:#000000;stroke-linecap:square;stroke-linejoin:miter;stroke-width:0.8;\"/>\n   </g>\n   <g id=\"patch_5\">\n    <path d=\"M 56.50625 224.64 \nL 391.30625 224.64 \n\" style=\"fill:none;stroke:#000000;stroke-linecap:square;stroke-linejoin:miter;stroke-width:0.8;\"/>\n   </g>\n   <g id=\"patch_6\">\n    <path d=\"M 56.50625 7.2 \nL 391.30625 7.2 \n\" style=\"fill:none;stroke:#000000;stroke-linecap:square;stroke-linejoin:miter;stroke-width:0.8;\"/>\n   </g>\n  </g>\n </g>\n <defs>\n  <clipPath id=\"pcad68425e0\">\n   <rect height=\"217.44\" width=\"334.8\" x=\"56.50625\" y=\"7.2\"/>\n  </clipPath>\n </defs>\n</svg>\n",
      "image/png": "[encoded data removed]"
     },
     "metadata": {
      "needs_background": "light"
     }
    }
   ],
   "source": [
    "sns.distplot(group_1['index'], hist=False)\n",
    "plt.xlim([0, 200])"
   ]
  },
  {
   "cell_type": "code",
   "execution_count": 70,
   "metadata": {},
   "outputs": [
    {
     "output_type": "execute_result",
     "data": {
      "text/plain": [
       "(-20.0, 200.0)"
      ]
     },
     "metadata": {},
     "execution_count": 70
    },
    {
     "output_type": "display_data",
     "data": {
      "text/plain": "<Figure size 432x288 with 1 Axes>",
      "image/svg+xml": "<?xml version=\"1.0\" encoding=\"utf-8\" standalone=\"no\"?>\n<!DOCTYPE svg PUBLIC \"-//W3C//DTD SVG 1.1//EN\"\n  \"http://www.w3.org/Graphics/SVG/1.1/DTD/svg11.dtd\">\n<!-- Created with matplotlib (https://matplotlib.org/) -->\n<svg height=\"262.19625pt\" version=\"1.1\" viewBox=\"0 0 408.05 262.19625\" width=\"408.05pt\" xmlns=\"http://www.w3.org/2000/svg\" xmlns:xlink=\"http://www.w3.org/1999/xlink\">\n <defs>\n  <style type=\"text/css\">\n*{stroke-linecap:butt;stroke-linejoin:round;}\n  </style>\n </defs>\n <g id=\"figure_1\">\n  <g id=\"patch_1\">\n   <path d=\"M 0 262.19625 \nL 408.05 262.19625 \nL 408.05 0 \nL 0 0 \nz\n\" style=\"fill:none;\"/>\n  </g>\n  <g id=\"axes_1\">\n   <g id=\"patch_2\">\n    <path d=\"M 56.50625 224.64 \nL 391.30625 224.64 \nL 391.30625 7.2 \nL 56.50625 7.2 \nz\n\" style=\"fill:#ffffff;\"/>\n   </g>\n   <g id=\"matplotlib.axis_1\">\n    <g id=\"xtick_1\">\n     <g id=\"line2d_1\">\n      <defs>\n       <path d=\"M 0 0 \nL 0 3.5 \n\" id=\"m35396b7a4c\" style=\"stroke:#000000;stroke-width:0.8;\"/>\n      </defs>\n      <g>\n       <use style=\"stroke:#000000;stroke-width:0.8;\" x=\"86.942614\" xlink:href=\"#m35396b7a4c\" y=\"224.64\"/>\n      </g>\n     </g>\n     <g id=\"text_1\">\n      <!-- 0 -->\n      <defs>\n       <path d=\"M 31.78125 66.40625 \nQ 24.171875 66.40625 20.328125 58.90625 \nQ 16.5 51.421875 16.5 36.375 \nQ 16.5 21.390625 20.328125 13.890625 \nQ 24.171875 6.390625 31.78125 6.390625 \nQ 39.453125 6.390625 43.28125 13.890625 \nQ 47.125 21.390625 47.125 36.375 \nQ 47.125 51.421875 43.28125 58.90625 \nQ 39.453125 66.40625 31.78125 66.40625 \nz\nM 31.78125 74.21875 \nQ 44.046875 74.21875 50.515625 64.515625 \nQ 56.984375 54.828125 56.984375 36.375 \nQ 56.984375 17.96875 50.515625 8.265625 \nQ 44.046875 -1.421875 31.78125 -1.421875 \nQ 19.53125 -1.421875 13.0625 8.265625 \nQ 6.59375 17.96875 6.59375 36.375 \nQ 6.59375 54.828125 13.0625 64.515625 \nQ 19.53125 74.21875 31.78125 74.21875 \nz\n\" id=\"DejaVuSans-48\"/>\n      </defs>\n      <g transform=\"translate(83.761364 239.238437)scale(0.1 -0.1)\">\n       <use xlink:href=\"#DejaVuSans-48\"/>\n      </g>\n     </g>\n    </g>\n    <g id=\"xtick_2\">\n     <g id=\"line2d_2\">\n      <g>\n       <use style=\"stroke:#000000;stroke-width:0.8;\" x=\"124.988068\" xlink:href=\"#m35396b7a4c\" y=\"224.64\"/>\n      </g>\n     </g>\n     <g id=\"text_2\">\n      <!-- 25 -->\n      <defs>\n       <path d=\"M 19.1875 8.296875 \nL 53.609375 8.296875 \nL 53.609375 0 \nL 7.328125 0 \nL 7.328125 8.296875 \nQ 12.9375 14.109375 22.625 23.890625 \nQ 32.328125 33.6875 34.8125 36.53125 \nQ 39.546875 41.84375 41.421875 45.53125 \nQ 43.3125 49.21875 43.3125 52.78125 \nQ 43.3125 58.59375 39.234375 62.25 \nQ 35.15625 65.921875 28.609375 65.921875 \nQ 23.96875 65.921875 18.8125 64.3125 \nQ 13.671875 62.703125 7.8125 59.421875 \nL 7.8125 69.390625 \nQ 13.765625 71.78125 18.9375 73 \nQ 24.125 74.21875 28.421875 74.21875 \nQ 39.75 74.21875 46.484375 68.546875 \nQ 53.21875 62.890625 53.21875 53.421875 \nQ 53.21875 48.921875 51.53125 44.890625 \nQ 49.859375 40.875 45.40625 35.40625 \nQ 44.1875 33.984375 37.640625 27.21875 \nQ 31.109375 20.453125 19.1875 8.296875 \nz\n\" id=\"DejaVuSans-50\"/>\n       <path d=\"M 10.796875 72.90625 \nL 49.515625 72.90625 \nL 49.515625 64.59375 \nL 19.828125 64.59375 \nL 19.828125 46.734375 \nQ 21.96875 47.46875 24.109375 47.828125 \nQ 26.265625 48.1875 28.421875 48.1875 \nQ 40.625 48.1875 47.75 41.5 \nQ 54.890625 34.8125 54.890625 23.390625 \nQ 54.890625 11.625 47.5625 5.09375 \nQ 40.234375 -1.421875 26.90625 -1.421875 \nQ 22.3125 -1.421875 17.546875 -0.640625 \nQ 12.796875 0.140625 7.71875 1.703125 \nL 7.71875 11.625 \nQ 12.109375 9.234375 16.796875 8.0625 \nQ 21.484375 6.890625 26.703125 6.890625 \nQ 35.15625 6.890625 40.078125 11.328125 \nQ 45.015625 15.765625 45.015625 23.390625 \nQ 45.015625 31 40.078125 35.4375 \nQ 35.15625 39.890625 26.703125 39.890625 \nQ 22.75 39.890625 18.8125 39.015625 \nQ 14.890625 38.140625 10.796875 36.28125 \nz\n\" id=\"DejaVuSans-53\"/>\n      </defs>\n      <g transform=\"translate(118.625568 239.238437)scale(0.1 -0.1)\">\n       <use xlink:href=\"#DejaVuSans-50\"/>\n       <use x=\"63.623047\" xlink:href=\"#DejaVuSans-53\"/>\n      </g>\n     </g>\n    </g>\n    <g id=\"xtick_3\">\n     <g id=\"line2d_3\">\n      <g>\n       <use style=\"stroke:#000000;stroke-width:0.8;\" x=\"163.033523\" xlink:href=\"#m35396b7a4c\" y=\"224.64\"/>\n      </g>\n     </g>\n     <g id=\"text_3\">\n      <!-- 50 -->\n      <g transform=\"translate(156.671023 239.238437)scale(0.1 -0.1)\">\n       <use xlink:href=\"#DejaVuSans-53\"/>\n       <use x=\"63.623047\" xlink:href=\"#DejaVuSans-48\"/>\n      </g>\n     </g>\n    </g>\n    <g id=\"xtick_4\">\n     <g id=\"line2d_4\">\n      <g>\n       <use style=\"stroke:#000000;stroke-width:0.8;\" x=\"201.078977\" xlink:href=\"#m35396b7a4c\" y=\"224.64\"/>\n      </g>\n     </g>\n     <g id=\"text_4\">\n      <!-- 75 -->\n      <defs>\n       <path d=\"M 8.203125 72.90625 \nL 55.078125 72.90625 \nL 55.078125 68.703125 \nL 28.609375 0 \nL 18.3125 0 \nL 43.21875 64.59375 \nL 8.203125 64.59375 \nz\n\" id=\"DejaVuSans-55\"/>\n      </defs>\n      <g transform=\"translate(194.716477 239.238437)scale(0.1 -0.1)\">\n       <use xlink:href=\"#DejaVuSans-55\"/>\n       <use x=\"63.623047\" xlink:href=\"#DejaVuSans-53\"/>\n      </g>\n     </g>\n    </g>\n    <g id=\"xtick_5\">\n     <g id=\"line2d_5\">\n      <g>\n       <use style=\"stroke:#000000;stroke-width:0.8;\" x=\"239.124432\" xlink:href=\"#m35396b7a4c\" y=\"224.64\"/>\n      </g>\n     </g>\n     <g id=\"text_5\">\n      <!-- 100 -->\n      <defs>\n       <path d=\"M 12.40625 8.296875 \nL 28.515625 8.296875 \nL 28.515625 63.921875 \nL 10.984375 60.40625 \nL 10.984375 69.390625 \nL 28.421875 72.90625 \nL 38.28125 72.90625 \nL 38.28125 8.296875 \nL 54.390625 8.296875 \nL 54.390625 0 \nL 12.40625 0 \nz\n\" id=\"DejaVuSans-49\"/>\n      </defs>\n      <g transform=\"translate(229.580682 239.238437)scale(0.1 -0.1)\">\n       <use xlink:href=\"#DejaVuSans-49\"/>\n       <use x=\"63.623047\" xlink:href=\"#DejaVuSans-48\"/>\n       <use x=\"127.246094\" xlink:href=\"#DejaVuSans-48\"/>\n      </g>\n     </g>\n    </g>\n    <g id=\"xtick_6\">\n     <g id=\"line2d_6\">\n      <g>\n       <use style=\"stroke:#000000;stroke-width:0.8;\" x=\"277.169886\" xlink:href=\"#m35396b7a4c\" y=\"224.64\"/>\n      </g>\n     </g>\n     <g id=\"text_6\">\n      <!-- 125 -->\n      <g transform=\"translate(267.626136 239.238437)scale(0.1 -0.1)\">\n       <use xlink:href=\"#DejaVuSans-49\"/>\n       <use x=\"63.623047\" xlink:href=\"#DejaVuSans-50\"/>\n       <use x=\"127.246094\" xlink:href=\"#DejaVuSans-53\"/>\n      </g>\n     </g>\n    </g>\n    <g id=\"xtick_7\">\n     <g id=\"line2d_7\">\n      <g>\n       <use style=\"stroke:#000000;stroke-width:0.8;\" x=\"315.215341\" xlink:href=\"#m35396b7a4c\" y=\"224.64\"/>\n      </g>\n     </g>\n     <g id=\"text_7\">\n      <!-- 150 -->\n      <g transform=\"translate(305.671591 239.238437)scale(0.1 -0.1)\">\n       <use xlink:href=\"#DejaVuSans-49\"/>\n       <use x=\"63.623047\" xlink:href=\"#DejaVuSans-53\"/>\n       <use x=\"127.246094\" xlink:href=\"#DejaVuSans-48\"/>\n      </g>\n     </g>\n    </g>\n    <g id=\"xtick_8\">\n     <g id=\"line2d_8\">\n      <g>\n       <use style=\"stroke:#000000;stroke-width:0.8;\" x=\"353.260795\" xlink:href=\"#m35396b7a4c\" y=\"224.64\"/>\n      </g>\n     </g>\n     <g id=\"text_8\">\n      <!-- 175 -->\n      <g transform=\"translate(343.717045 239.238437)scale(0.1 -0.1)\">\n       <use xlink:href=\"#DejaVuSans-49\"/>\n       <use x=\"63.623047\" xlink:href=\"#DejaVuSans-55\"/>\n       <use x=\"127.246094\" xlink:href=\"#DejaVuSans-53\"/>\n      </g>\n     </g>\n    </g>\n    <g id=\"xtick_9\">\n     <g id=\"line2d_9\">\n      <g>\n       <use style=\"stroke:#000000;stroke-width:0.8;\" x=\"391.30625\" xlink:href=\"#m35396b7a4c\" y=\"224.64\"/>\n      </g>\n     </g>\n     <g id=\"text_9\">\n      <!-- 200 -->\n      <g transform=\"translate(381.7625 239.238437)scale(0.1 -0.1)\">\n       <use xlink:href=\"#DejaVuSans-50\"/>\n       <use x=\"63.623047\" xlink:href=\"#DejaVuSans-48\"/>\n       <use x=\"127.246094\" xlink:href=\"#DejaVuSans-48\"/>\n      </g>\n     </g>\n    </g>\n    <g id=\"text_10\">\n     <!-- index -->\n     <defs>\n      <path d=\"M 9.421875 54.6875 \nL 18.40625 54.6875 \nL 18.40625 0 \nL 9.421875 0 \nz\nM 9.421875 75.984375 \nL 18.40625 75.984375 \nL 18.40625 64.59375 \nL 9.421875 64.59375 \nz\n\" id=\"DejaVuSans-105\"/>\n      <path d=\"M 54.890625 33.015625 \nL 54.890625 0 \nL 45.90625 0 \nL 45.90625 32.71875 \nQ 45.90625 40.484375 42.875 44.328125 \nQ 39.84375 48.1875 33.796875 48.1875 \nQ 26.515625 48.1875 22.3125 43.546875 \nQ 18.109375 38.921875 18.109375 30.90625 \nL 18.109375 0 \nL 9.078125 0 \nL 9.078125 54.6875 \nL 18.109375 54.6875 \nL 18.109375 46.1875 \nQ 21.34375 51.125 25.703125 53.5625 \nQ 30.078125 56 35.796875 56 \nQ 45.21875 56 50.046875 50.171875 \nQ 54.890625 44.34375 54.890625 33.015625 \nz\n\" id=\"DejaVuSans-110\"/>\n      <path d=\"M 45.40625 46.390625 \nL 45.40625 75.984375 \nL 54.390625 75.984375 \nL 54.390625 0 \nL 45.40625 0 \nL 45.40625 8.203125 \nQ 42.578125 3.328125 38.25 0.953125 \nQ 33.9375 -1.421875 27.875 -1.421875 \nQ 17.96875 -1.421875 11.734375 6.484375 \nQ 5.515625 14.40625 5.515625 27.296875 \nQ 5.515625 40.1875 11.734375 48.09375 \nQ 17.96875 56 27.875 56 \nQ 33.9375 56 38.25 53.625 \nQ 42.578125 51.265625 45.40625 46.390625 \nz\nM 14.796875 27.296875 \nQ 14.796875 17.390625 18.875 11.75 \nQ 22.953125 6.109375 30.078125 6.109375 \nQ 37.203125 6.109375 41.296875 11.75 \nQ 45.40625 17.390625 45.40625 27.296875 \nQ 45.40625 37.203125 41.296875 42.84375 \nQ 37.203125 48.484375 30.078125 48.484375 \nQ 22.953125 48.484375 18.875 42.84375 \nQ 14.796875 37.203125 14.796875 27.296875 \nz\n\" id=\"DejaVuSans-100\"/>\n      <path d=\"M 56.203125 29.59375 \nL 56.203125 25.203125 \nL 14.890625 25.203125 \nQ 15.484375 15.921875 20.484375 11.0625 \nQ 25.484375 6.203125 34.421875 6.203125 \nQ 39.59375 6.203125 44.453125 7.46875 \nQ 49.3125 8.734375 54.109375 11.28125 \nL 54.109375 2.78125 \nQ 49.265625 0.734375 44.1875 -0.34375 \nQ 39.109375 -1.421875 33.890625 -1.421875 \nQ 20.796875 -1.421875 13.15625 6.1875 \nQ 5.515625 13.8125 5.515625 26.8125 \nQ 5.515625 40.234375 12.765625 48.109375 \nQ 20.015625 56 32.328125 56 \nQ 43.359375 56 49.78125 48.890625 \nQ 56.203125 41.796875 56.203125 29.59375 \nz\nM 47.21875 32.234375 \nQ 47.125 39.59375 43.09375 43.984375 \nQ 39.0625 48.390625 32.421875 48.390625 \nQ 24.90625 48.390625 20.390625 44.140625 \nQ 15.875 39.890625 15.1875 32.171875 \nz\n\" id=\"DejaVuSans-101\"/>\n      <path d=\"M 54.890625 54.6875 \nL 35.109375 28.078125 \nL 55.90625 0 \nL 45.3125 0 \nL 29.390625 21.484375 \nL 13.484375 0 \nL 2.875 0 \nL 24.125 28.609375 \nL 4.6875 54.6875 \nL 15.28125 54.6875 \nL 29.78125 35.203125 \nL 44.28125 54.6875 \nz\n\" id=\"DejaVuSans-120\"/>\n     </defs>\n     <g transform=\"translate(210.225781 252.916562)scale(0.1 -0.1)\">\n      <use xlink:href=\"#DejaVuSans-105\"/>\n      <use x=\"27.783203\" xlink:href=\"#DejaVuSans-110\"/>\n      <use x=\"91.162109\" xlink:href=\"#DejaVuSans-100\"/>\n      <use x=\"154.638672\" xlink:href=\"#DejaVuSans-101\"/>\n      <use x=\"214.412109\" xlink:href=\"#DejaVuSans-120\"/>\n     </g>\n    </g>\n   </g>\n   <g id=\"matplotlib.axis_2\">\n    <g id=\"ytick_1\">\n     <g id=\"line2d_10\">\n      <defs>\n       <path d=\"M 0 0 \nL -3.5 0 \n\" id=\"m90db20e0cc\" style=\"stroke:#000000;stroke-width:0.8;\"/>\n      </defs>\n      <g>\n       <use style=\"stroke:#000000;stroke-width:0.8;\" x=\"56.50625\" xlink:href=\"#m90db20e0cc\" y=\"224.64\"/>\n      </g>\n     </g>\n     <g id=\"text_11\">\n      <!-- 0.000 -->\n      <defs>\n       <path d=\"M 10.6875 12.40625 \nL 21 12.40625 \nL 21 0 \nL 10.6875 0 \nz\n\" id=\"DejaVuSans-46\"/>\n      </defs>\n      <g transform=\"translate(20.878125 228.439219)scale(0.1 -0.1)\">\n       <use xlink:href=\"#DejaVuSans-48\"/>\n       <use x=\"63.623047\" xlink:href=\"#DejaVuSans-46\"/>\n       <use x=\"95.410156\" xlink:href=\"#DejaVuSans-48\"/>\n       <use x=\"159.033203\" xlink:href=\"#DejaVuSans-48\"/>\n       <use x=\"222.65625\" xlink:href=\"#DejaVuSans-48\"/>\n      </g>\n     </g>\n    </g>\n    <g id=\"ytick_2\">\n     <g id=\"line2d_11\">\n      <g>\n       <use style=\"stroke:#000000;stroke-width:0.8;\" x=\"56.50625\" xlink:href=\"#m90db20e0cc\" y=\"184.995782\"/>\n      </g>\n     </g>\n     <g id=\"text_12\">\n      <!-- 0.001 -->\n      <g transform=\"translate(20.878125 188.795001)scale(0.1 -0.1)\">\n       <use xlink:href=\"#DejaVuSans-48\"/>\n       <use x=\"63.623047\" xlink:href=\"#DejaVuSans-46\"/>\n       <use x=\"95.410156\" xlink:href=\"#DejaVuSans-48\"/>\n       <use x=\"159.033203\" xlink:href=\"#DejaVuSans-48\"/>\n       <use x=\"222.65625\" xlink:href=\"#DejaVuSans-49\"/>\n      </g>\n     </g>\n    </g>\n    <g id=\"ytick_3\">\n     <g id=\"line2d_12\">\n      <g>\n       <use style=\"stroke:#000000;stroke-width:0.8;\" x=\"56.50625\" xlink:href=\"#m90db20e0cc\" y=\"145.351565\"/>\n      </g>\n     </g>\n     <g id=\"text_13\">\n      <!-- 0.002 -->\n      <g transform=\"translate(20.878125 149.150784)scale(0.1 -0.1)\">\n       <use xlink:href=\"#DejaVuSans-48\"/>\n       <use x=\"63.623047\" xlink:href=\"#DejaVuSans-46\"/>\n       <use x=\"95.410156\" xlink:href=\"#DejaVuSans-48\"/>\n       <use x=\"159.033203\" xlink:href=\"#DejaVuSans-48\"/>\n       <use x=\"222.65625\" xlink:href=\"#DejaVuSans-50\"/>\n      </g>\n     </g>\n    </g>\n    <g id=\"ytick_4\">\n     <g id=\"line2d_13\">\n      <g>\n       <use style=\"stroke:#000000;stroke-width:0.8;\" x=\"56.50625\" xlink:href=\"#m90db20e0cc\" y=\"105.707347\"/>\n      </g>\n     </g>\n     <g id=\"text_14\">\n      <!-- 0.003 -->\n      <defs>\n       <path d=\"M 40.578125 39.3125 \nQ 47.65625 37.796875 51.625 33 \nQ 55.609375 28.21875 55.609375 21.1875 \nQ 55.609375 10.40625 48.1875 4.484375 \nQ 40.765625 -1.421875 27.09375 -1.421875 \nQ 22.515625 -1.421875 17.65625 -0.515625 \nQ 12.796875 0.390625 7.625 2.203125 \nL 7.625 11.71875 \nQ 11.71875 9.328125 16.59375 8.109375 \nQ 21.484375 6.890625 26.8125 6.890625 \nQ 36.078125 6.890625 40.9375 10.546875 \nQ 45.796875 14.203125 45.796875 21.1875 \nQ 45.796875 27.640625 41.28125 31.265625 \nQ 36.765625 34.90625 28.71875 34.90625 \nL 20.21875 34.90625 \nL 20.21875 43.015625 \nL 29.109375 43.015625 \nQ 36.375 43.015625 40.234375 45.921875 \nQ 44.09375 48.828125 44.09375 54.296875 \nQ 44.09375 59.90625 40.109375 62.90625 \nQ 36.140625 65.921875 28.71875 65.921875 \nQ 24.65625 65.921875 20.015625 65.03125 \nQ 15.375 64.15625 9.8125 62.3125 \nL 9.8125 71.09375 \nQ 15.4375 72.65625 20.34375 73.4375 \nQ 25.25 74.21875 29.59375 74.21875 \nQ 40.828125 74.21875 47.359375 69.109375 \nQ 53.90625 64.015625 53.90625 55.328125 \nQ 53.90625 49.265625 50.4375 45.09375 \nQ 46.96875 40.921875 40.578125 39.3125 \nz\n\" id=\"DejaVuSans-51\"/>\n      </defs>\n      <g transform=\"translate(20.878125 109.506566)scale(0.1 -0.1)\">\n       <use xlink:href=\"#DejaVuSans-48\"/>\n       <use x=\"63.623047\" xlink:href=\"#DejaVuSans-46\"/>\n       <use x=\"95.410156\" xlink:href=\"#DejaVuSans-48\"/>\n       <use x=\"159.033203\" xlink:href=\"#DejaVuSans-48\"/>\n       <use x=\"222.65625\" xlink:href=\"#DejaVuSans-51\"/>\n      </g>\n     </g>\n    </g>\n    <g id=\"ytick_5\">\n     <g id=\"line2d_14\">\n      <g>\n       <use style=\"stroke:#000000;stroke-width:0.8;\" x=\"56.50625\" xlink:href=\"#m90db20e0cc\" y=\"66.06313\"/>\n      </g>\n     </g>\n     <g id=\"text_15\">\n      <!-- 0.004 -->\n      <defs>\n       <path d=\"M 37.796875 64.3125 \nL 12.890625 25.390625 \nL 37.796875 25.390625 \nz\nM 35.203125 72.90625 \nL 47.609375 72.90625 \nL 47.609375 25.390625 \nL 58.015625 25.390625 \nL 58.015625 17.1875 \nL 47.609375 17.1875 \nL 47.609375 0 \nL 37.796875 0 \nL 37.796875 17.1875 \nL 4.890625 17.1875 \nL 4.890625 26.703125 \nz\n\" id=\"DejaVuSans-52\"/>\n      </defs>\n      <g transform=\"translate(20.878125 69.862349)scale(0.1 -0.1)\">\n       <use xlink:href=\"#DejaVuSans-48\"/>\n       <use x=\"63.623047\" xlink:href=\"#DejaVuSans-46\"/>\n       <use x=\"95.410156\" xlink:href=\"#DejaVuSans-48\"/>\n       <use x=\"159.033203\" xlink:href=\"#DejaVuSans-48\"/>\n       <use x=\"222.65625\" xlink:href=\"#DejaVuSans-52\"/>\n      </g>\n     </g>\n    </g>\n    <g id=\"ytick_6\">\n     <g id=\"line2d_15\">\n      <g>\n       <use style=\"stroke:#000000;stroke-width:0.8;\" x=\"56.50625\" xlink:href=\"#m90db20e0cc\" y=\"26.418912\"/>\n      </g>\n     </g>\n     <g id=\"text_16\">\n      <!-- 0.005 -->\n      <g transform=\"translate(20.878125 30.218131)scale(0.1 -0.1)\">\n       <use xlink:href=\"#DejaVuSans-48\"/>\n       <use x=\"63.623047\" xlink:href=\"#DejaVuSans-46\"/>\n       <use x=\"95.410156\" xlink:href=\"#DejaVuSans-48\"/>\n       <use x=\"159.033203\" xlink:href=\"#DejaVuSans-48\"/>\n       <use x=\"222.65625\" xlink:href=\"#DejaVuSans-53\"/>\n      </g>\n     </g>\n    </g>\n    <g id=\"text_17\">\n     <!-- Density -->\n     <defs>\n      <path d=\"M 19.671875 64.796875 \nL 19.671875 8.109375 \nL 31.59375 8.109375 \nQ 46.6875 8.109375 53.6875 14.9375 \nQ 60.6875 21.78125 60.6875 36.53125 \nQ 60.6875 51.171875 53.6875 57.984375 \nQ 46.6875 64.796875 31.59375 64.796875 \nz\nM 9.8125 72.90625 \nL 30.078125 72.90625 \nQ 51.265625 72.90625 61.171875 64.09375 \nQ 71.09375 55.28125 71.09375 36.53125 \nQ 71.09375 17.671875 61.125 8.828125 \nQ 51.171875 0 30.078125 0 \nL 9.8125 0 \nz\n\" id=\"DejaVuSans-68\"/>\n      <path d=\"M 44.28125 53.078125 \nL 44.28125 44.578125 \nQ 40.484375 46.53125 36.375 47.5 \nQ 32.28125 48.484375 27.875 48.484375 \nQ 21.1875 48.484375 17.84375 46.4375 \nQ 14.5 44.390625 14.5 40.28125 \nQ 14.5 37.15625 16.890625 35.375 \nQ 19.28125 33.59375 26.515625 31.984375 \nL 29.59375 31.296875 \nQ 39.15625 29.25 43.1875 25.515625 \nQ 47.21875 21.78125 47.21875 15.09375 \nQ 47.21875 7.46875 41.1875 3.015625 \nQ 35.15625 -1.421875 24.609375 -1.421875 \nQ 20.21875 -1.421875 15.453125 -0.5625 \nQ 10.6875 0.296875 5.421875 2 \nL 5.421875 11.28125 \nQ 10.40625 8.6875 15.234375 7.390625 \nQ 20.0625 6.109375 24.8125 6.109375 \nQ 31.15625 6.109375 34.5625 8.28125 \nQ 37.984375 10.453125 37.984375 14.40625 \nQ 37.984375 18.0625 35.515625 20.015625 \nQ 33.0625 21.96875 24.703125 23.78125 \nL 21.578125 24.515625 \nQ 13.234375 26.265625 9.515625 29.90625 \nQ 5.8125 33.546875 5.8125 39.890625 \nQ 5.8125 47.609375 11.28125 51.796875 \nQ 16.75 56 26.8125 56 \nQ 31.78125 56 36.171875 55.265625 \nQ 40.578125 54.546875 44.28125 53.078125 \nz\n\" id=\"DejaVuSans-115\"/>\n      <path d=\"M 18.3125 70.21875 \nL 18.3125 54.6875 \nL 36.8125 54.6875 \nL 36.8125 47.703125 \nL 18.3125 47.703125 \nL 18.3125 18.015625 \nQ 18.3125 11.328125 20.140625 9.421875 \nQ 21.96875 7.515625 27.59375 7.515625 \nL 36.8125 7.515625 \nL 36.8125 0 \nL 27.59375 0 \nQ 17.1875 0 13.234375 3.875 \nQ 9.28125 7.765625 9.28125 18.015625 \nL 9.28125 47.703125 \nL 2.6875 47.703125 \nL 2.6875 54.6875 \nL 9.28125 54.6875 \nL 9.28125 70.21875 \nz\n\" id=\"DejaVuSans-116\"/>\n      <path d=\"M 32.171875 -5.078125 \nQ 28.375 -14.84375 24.75 -17.8125 \nQ 21.140625 -20.796875 15.09375 -20.796875 \nL 7.90625 -20.796875 \nL 7.90625 -13.28125 \nL 13.1875 -13.28125 \nQ 16.890625 -13.28125 18.9375 -11.515625 \nQ 21 -9.765625 23.484375 -3.21875 \nL 25.09375 0.875 \nL 2.984375 54.6875 \nL 12.5 54.6875 \nL 29.59375 11.921875 \nL 46.6875 54.6875 \nL 56.203125 54.6875 \nz\n\" id=\"DejaVuSans-121\"/>\n     </defs>\n     <g transform=\"translate(14.798437 134.928594)rotate(-90)scale(0.1 -0.1)\">\n      <use xlink:href=\"#DejaVuSans-68\"/>\n      <use x=\"77.001953\" xlink:href=\"#DejaVuSans-101\"/>\n      <use x=\"138.525391\" xlink:href=\"#DejaVuSans-110\"/>\n      <use x=\"201.904297\" xlink:href=\"#DejaVuSans-115\"/>\n      <use x=\"254.003906\" xlink:href=\"#DejaVuSans-105\"/>\n      <use x=\"281.787109\" xlink:href=\"#DejaVuSans-116\"/>\n      <use x=\"320.996094\" xlink:href=\"#DejaVuSans-121\"/>\n     </g>\n    </g>\n   </g>\n   <g id=\"line2d_16\">\n    <path clip-path=\"url(#pb385e892a1)\" d=\"M -1 82.56937 \nL 109.514466 17.554286 \nL 230.631762 121.300915 \nL 351.749058 207.382453 \nL 409.05 214.970708 \nL 409.05 214.970708 \n\" style=\"fill:none;stroke:#1f77b4;stroke-linecap:square;stroke-width:1.5;\"/>\n   </g>\n   <g id=\"patch_3\">\n    <path d=\"M 56.50625 224.64 \nL 56.50625 7.2 \n\" style=\"fill:none;stroke:#000000;stroke-linecap:square;stroke-linejoin:miter;stroke-width:0.8;\"/>\n   </g>\n   <g id=\"patch_4\">\n    <path d=\"M 391.30625 224.64 \nL 391.30625 7.2 \n\" style=\"fill:none;stroke:#000000;stroke-linecap:square;stroke-linejoin:miter;stroke-width:0.8;\"/>\n   </g>\n   <g id=\"patch_5\">\n    <path d=\"M 56.50625 224.64 \nL 391.30625 224.64 \n\" style=\"fill:none;stroke:#000000;stroke-linecap:square;stroke-linejoin:miter;stroke-width:0.8;\"/>\n   </g>\n   <g id=\"patch_6\">\n    <path d=\"M 56.50625 7.2 \nL 391.30625 7.2 \n\" style=\"fill:none;stroke:#000000;stroke-linecap:square;stroke-linejoin:miter;stroke-width:0.8;\"/>\n   </g>\n  </g>\n </g>\n <defs>\n  <clipPath id=\"pb385e892a1\">\n   <rect height=\"217.44\" width=\"334.8\" x=\"56.50625\" y=\"7.2\"/>\n  </clipPath>\n </defs>\n</svg>\n",
      "image/png": "[encoded data removed]"
     },
     "metadata": {
      "needs_background": "light"
     }
    }
   ],
   "source": [
    "sns.distplot(group_1['index'], hist=False)\n",
    "plt.xlim([-20, 200])"
   ]
  },
  {
   "cell_type": "code",
   "execution_count": 71,
   "metadata": {},
   "outputs": [
    {
     "output_type": "execute_result",
     "data": {
      "text/plain": [
       "count     3596.000000\n",
       "mean        20.181591\n",
       "std        385.557507\n",
       "min          1.000000\n",
       "25%          2.000000\n",
       "50%          4.000000\n",
       "75%          5.000000\n",
       "max      15389.000000\n",
       "Name: index, dtype: float64"
      ]
     },
     "metadata": {},
     "execution_count": 71
    }
   ],
   "source": [
    "group_1['index'].describe()"
   ]
  },
  {
   "cell_type": "code",
   "execution_count": 72,
   "metadata": {},
   "outputs": [
    {
     "output_type": "execute_result",
     "data": {
      "text/plain": [
       "<matplotlib.axes._subplots.AxesSubplot at 0x7fba3239fd60>"
      ]
     },
     "metadata": {},
     "execution_count": 72
    },
    {
     "output_type": "display_data",
     "data": {
      "text/plain": "<Figure size 432x288 with 1 Axes>",
      "image/svg+xml": "<?xml version=\"1.0\" encoding=\"utf-8\" standalone=\"no\"?>\n<!DOCTYPE svg PUBLIC \"-//W3C//DTD SVG 1.1//EN\"\n  \"http://www.w3.org/Graphics/SVG/1.1/DTD/svg11.dtd\">\n<!-- Created with matplotlib (https://matplotlib.org/) -->\n<svg height=\"252.743424pt\" version=\"1.1\" viewBox=\"0 0 381.65 252.743424\" width=\"381.65pt\" xmlns=\"http://www.w3.org/2000/svg\" xmlns:xlink=\"http://www.w3.org/1999/xlink\">\n <defs>\n  <style type=\"text/css\">\n*{stroke-linecap:butt;stroke-linejoin:round;}\n  </style>\n </defs>\n <g id=\"figure_1\">\n  <g id=\"patch_1\">\n   <path d=\"M -0 252.743424 \nL 381.65 252.743424 \nL 381.65 0 \nL -0 0 \nz\n\" style=\"fill:none;\"/>\n  </g>\n  <g id=\"axes_1\">\n   <g id=\"patch_2\">\n    <path d=\"M 39.65 225.818424 \nL 374.45 225.818424 \nL 374.45 8.378424 \nL 39.65 8.378424 \nz\n\" style=\"fill:#ffffff;\"/>\n   </g>\n   <g id=\"patch_3\">\n    <path clip-path=\"url(#pea4538fc61)\" d=\"M 43.835 225.818424 \nL 52.205 225.818424 \nL 52.205 18.73271 \nL 43.835 18.73271 \nz\n\" style=\"fill:#1f77b4;\"/>\n   </g>\n   <g id=\"patch_4\">\n    <path clip-path=\"url(#pea4538fc61)\" d=\"M 60.575 225.818424 \nL 68.945 225.818424 \nL 68.945 39.355354 \nL 60.575 39.355354 \nz\n\" style=\"fill:#1f77b4;\"/>\n   </g>\n   <g id=\"patch_5\">\n    <path clip-path=\"url(#pea4538fc61)\" d=\"M 77.315 225.818424 \nL 85.685 225.818424 \nL 85.685 110.67533 \nL 77.315 110.67533 \nz\n\" style=\"fill:#1f77b4;\"/>\n   </g>\n   <g id=\"patch_6\">\n    <path clip-path=\"url(#pea4538fc61)\" d=\"M 94.055 225.818424 \nL 102.425 225.818424 \nL 102.425 185.217595 \nL 94.055 185.217595 \nz\n\" style=\"fill:#1f77b4;\"/>\n   </g>\n   <g id=\"patch_7\">\n    <path clip-path=\"url(#pea4538fc61)\" d=\"M 110.795 225.818424 \nL 119.165 225.818424 \nL 119.165 185.432414 \nL 110.795 185.432414 \nz\n\" style=\"fill:#1f77b4;\"/>\n   </g>\n   <g id=\"patch_8\">\n    <path clip-path=\"url(#pea4538fc61)\" d=\"M 127.535 225.818424 \nL 135.905 225.818424 \nL 135.905 187.150967 \nL 127.535 187.150967 \nz\n\" style=\"fill:#1f77b4;\"/>\n   </g>\n   <g id=\"patch_9\">\n    <path clip-path=\"url(#pea4538fc61)\" d=\"M 144.275 225.818424 \nL 152.645 225.818424 \nL 152.645 189.943617 \nL 144.275 189.943617 \nz\n\" style=\"fill:#1f77b4;\"/>\n   </g>\n   <g id=\"patch_10\">\n    <path clip-path=\"url(#pea4538fc61)\" d=\"M 161.015 225.818424 \nL 169.385 225.818424 \nL 169.385 209.062526 \nL 161.015 209.062526 \nz\n\" style=\"fill:#1f77b4;\"/>\n   </g>\n   <g id=\"patch_11\">\n    <path clip-path=\"url(#pea4538fc61)\" d=\"M 177.755 225.818424 \nL 186.125 225.818424 \nL 186.125 210.136622 \nL 177.755 210.136622 \nz\n\" style=\"fill:#1f77b4;\"/>\n   </g>\n   <g id=\"patch_12\">\n    <path clip-path=\"url(#pea4538fc61)\" d=\"M 194.495 225.818424 \nL 202.865 225.818424 \nL 202.865 211.855176 \nL 194.495 211.855176 \nz\n\" style=\"fill:#1f77b4;\"/>\n   </g>\n   <g id=\"patch_13\">\n    <path clip-path=\"url(#pea4538fc61)\" d=\"M 211.235 225.818424 \nL 219.605 225.818424 \nL 219.605 216.366379 \nL 211.235 216.366379 \nz\n\" style=\"fill:#1f77b4;\"/>\n   </g>\n   <g id=\"patch_14\">\n    <path clip-path=\"url(#pea4538fc61)\" d=\"M 227.975 225.818424 \nL 236.345 225.818424 \nL 236.345 218.084933 \nL 227.975 218.084933 \nz\n\" style=\"fill:#1f77b4;\"/>\n   </g>\n   <g id=\"patch_15\">\n    <path clip-path=\"url(#pea4538fc61)\" d=\"M 244.715 225.818424 \nL 253.085 225.818424 \nL 253.085 220.233125 \nL 244.715 220.233125 \nz\n\" style=\"fill:#1f77b4;\"/>\n   </g>\n   <g id=\"patch_16\">\n    <path clip-path=\"url(#pea4538fc61)\" d=\"M 261.455 225.818424 \nL 269.825 225.818424 \nL 269.825 221.092402 \nL 261.455 221.092402 \nz\n\" style=\"fill:#1f77b4;\"/>\n   </g>\n   <g id=\"patch_17\">\n    <path clip-path=\"url(#pea4538fc61)\" d=\"M 278.195 225.818424 \nL 286.565 225.818424 \nL 286.565 221.951679 \nL 278.195 221.951679 \nz\n\" style=\"fill:#1f77b4;\"/>\n   </g>\n   <g id=\"patch_18\">\n    <path clip-path=\"url(#pea4538fc61)\" d=\"M 294.935 225.818424 \nL 303.305 225.818424 \nL 303.305 222.381317 \nL 294.935 222.381317 \nz\n\" style=\"fill:#1f77b4;\"/>\n   </g>\n   <g id=\"patch_19\">\n    <path clip-path=\"url(#pea4538fc61)\" d=\"M 311.675 225.818424 \nL 320.045 225.818424 \nL 320.045 223.025775 \nL 311.675 223.025775 \nz\n\" style=\"fill:#1f77b4;\"/>\n   </g>\n   <g id=\"patch_20\">\n    <path clip-path=\"url(#pea4538fc61)\" d=\"M 328.415 225.818424 \nL 336.785 225.818424 \nL 336.785 223.240594 \nL 328.415 223.240594 \nz\n\" style=\"fill:#1f77b4;\"/>\n   </g>\n   <g id=\"patch_21\">\n    <path clip-path=\"url(#pea4538fc61)\" d=\"M 345.155 225.818424 \nL 353.525 225.818424 \nL 353.525 224.31469 \nL 345.155 224.31469 \nz\n\" style=\"fill:#1f77b4;\"/>\n   </g>\n   <g id=\"patch_22\">\n    <path clip-path=\"url(#pea4538fc61)\" d=\"M 361.895 225.818424 \nL 370.265 225.818424 \nL 370.265 224.529509 \nL 361.895 224.529509 \nz\n\" style=\"fill:#1f77b4;\"/>\n   </g>\n   <g id=\"matplotlib.axis_1\">\n    <g id=\"xtick_1\">\n     <g id=\"line2d_1\">\n      <defs>\n       <path d=\"M 0 0 \nL 0 3.5 \n\" id=\"m1c80aa1f9d\" style=\"stroke:#000000;stroke-width:0.8;\"/>\n      </defs>\n      <g>\n       <use style=\"stroke:#000000;stroke-width:0.8;\" x=\"48.02\" xlink:href=\"#m1c80aa1f9d\" y=\"225.818424\"/>\n      </g>\n     </g>\n     <g id=\"text_1\">\n      <!-- 2 -->\n      <defs>\n       <path d=\"M 19.1875 8.296875 \nL 53.609375 8.296875 \nL 53.609375 0 \nL 7.328125 0 \nL 7.328125 8.296875 \nQ 12.9375 14.109375 22.625 23.890625 \nQ 32.328125 33.6875 34.8125 36.53125 \nQ 39.546875 41.84375 41.421875 45.53125 \nQ 43.3125 49.21875 43.3125 52.78125 \nQ 43.3125 58.59375 39.234375 62.25 \nQ 35.15625 65.921875 28.609375 65.921875 \nQ 23.96875 65.921875 18.8125 64.3125 \nQ 13.671875 62.703125 7.8125 59.421875 \nL 7.8125 69.390625 \nQ 13.765625 71.78125 18.9375 73 \nQ 24.125 74.21875 28.421875 74.21875 \nQ 39.75 74.21875 46.484375 68.546875 \nQ 53.21875 62.890625 53.21875 53.421875 \nQ 53.21875 48.921875 51.53125 44.890625 \nQ 49.859375 40.875 45.40625 35.40625 \nQ 44.1875 33.984375 37.640625 27.21875 \nQ 31.109375 20.453125 19.1875 8.296875 \nz\n\" id=\"DejaVuSans-50\"/>\n      </defs>\n      <g transform=\"translate(50.779375 239.180924)rotate(-90)scale(0.1 -0.1)\">\n       <use xlink:href=\"#DejaVuSans-50\"/>\n      </g>\n     </g>\n    </g>\n    <g id=\"xtick_2\">\n     <g id=\"line2d_2\">\n      <g>\n       <use style=\"stroke:#000000;stroke-width:0.8;\" x=\"64.76\" xlink:href=\"#m1c80aa1f9d\" y=\"225.818424\"/>\n      </g>\n     </g>\n     <g id=\"text_2\">\n      <!-- 4 -->\n      <defs>\n       <path d=\"M 37.796875 64.3125 \nL 12.890625 25.390625 \nL 37.796875 25.390625 \nz\nM 35.203125 72.90625 \nL 47.609375 72.90625 \nL 47.609375 25.390625 \nL 58.015625 25.390625 \nL 58.015625 17.1875 \nL 47.609375 17.1875 \nL 47.609375 0 \nL 37.796875 0 \nL 37.796875 17.1875 \nL 4.890625 17.1875 \nL 4.890625 26.703125 \nz\n\" id=\"DejaVuSans-52\"/>\n      </defs>\n      <g transform=\"translate(67.519375 239.180924)rotate(-90)scale(0.1 -0.1)\">\n       <use xlink:href=\"#DejaVuSans-52\"/>\n      </g>\n     </g>\n    </g>\n    <g id=\"xtick_3\">\n     <g id=\"line2d_3\">\n      <g>\n       <use style=\"stroke:#000000;stroke-width:0.8;\" x=\"81.5\" xlink:href=\"#m1c80aa1f9d\" y=\"225.818424\"/>\n      </g>\n     </g>\n     <g id=\"text_3\">\n      <!-- 3 -->\n      <defs>\n       <path d=\"M 40.578125 39.3125 \nQ 47.65625 37.796875 51.625 33 \nQ 55.609375 28.21875 55.609375 21.1875 \nQ 55.609375 10.40625 48.1875 4.484375 \nQ 40.765625 -1.421875 27.09375 -1.421875 \nQ 22.515625 -1.421875 17.65625 -0.515625 \nQ 12.796875 0.390625 7.625 2.203125 \nL 7.625 11.71875 \nQ 11.71875 9.328125 16.59375 8.109375 \nQ 21.484375 6.890625 26.8125 6.890625 \nQ 36.078125 6.890625 40.9375 10.546875 \nQ 45.796875 14.203125 45.796875 21.1875 \nQ 45.796875 27.640625 41.28125 31.265625 \nQ 36.765625 34.90625 28.71875 34.90625 \nL 20.21875 34.90625 \nL 20.21875 43.015625 \nL 29.109375 43.015625 \nQ 36.375 43.015625 40.234375 45.921875 \nQ 44.09375 48.828125 44.09375 54.296875 \nQ 44.09375 59.90625 40.109375 62.90625 \nQ 36.140625 65.921875 28.71875 65.921875 \nQ 24.65625 65.921875 20.015625 65.03125 \nQ 15.375 64.15625 9.8125 62.3125 \nL 9.8125 71.09375 \nQ 15.4375 72.65625 20.34375 73.4375 \nQ 25.25 74.21875 29.59375 74.21875 \nQ 40.828125 74.21875 47.359375 69.109375 \nQ 53.90625 64.015625 53.90625 55.328125 \nQ 53.90625 49.265625 50.4375 45.09375 \nQ 46.96875 40.921875 40.578125 39.3125 \nz\n\" id=\"DejaVuSans-51\"/>\n      </defs>\n      <g transform=\"translate(84.259375 239.180924)rotate(-90)scale(0.1 -0.1)\">\n       <use xlink:href=\"#DejaVuSans-51\"/>\n      </g>\n     </g>\n    </g>\n    <g id=\"xtick_4\">\n     <g id=\"line2d_4\">\n      <g>\n       <use style=\"stroke:#000000;stroke-width:0.8;\" x=\"98.24\" xlink:href=\"#m1c80aa1f9d\" y=\"225.818424\"/>\n      </g>\n     </g>\n     <g id=\"text_4\">\n      <!-- 6 -->\n      <defs>\n       <path d=\"M 33.015625 40.375 \nQ 26.375 40.375 22.484375 35.828125 \nQ 18.609375 31.296875 18.609375 23.390625 \nQ 18.609375 15.53125 22.484375 10.953125 \nQ 26.375 6.390625 33.015625 6.390625 \nQ 39.65625 6.390625 43.53125 10.953125 \nQ 47.40625 15.53125 47.40625 23.390625 \nQ 47.40625 31.296875 43.53125 35.828125 \nQ 39.65625 40.375 33.015625 40.375 \nz\nM 52.59375 71.296875 \nL 52.59375 62.3125 \nQ 48.875 64.0625 45.09375 64.984375 \nQ 41.3125 65.921875 37.59375 65.921875 \nQ 27.828125 65.921875 22.671875 59.328125 \nQ 17.53125 52.734375 16.796875 39.40625 \nQ 19.671875 43.65625 24.015625 45.921875 \nQ 28.375 48.1875 33.59375 48.1875 \nQ 44.578125 48.1875 50.953125 41.515625 \nQ 57.328125 34.859375 57.328125 23.390625 \nQ 57.328125 12.15625 50.6875 5.359375 \nQ 44.046875 -1.421875 33.015625 -1.421875 \nQ 20.359375 -1.421875 13.671875 8.265625 \nQ 6.984375 17.96875 6.984375 36.375 \nQ 6.984375 53.65625 15.1875 63.9375 \nQ 23.390625 74.21875 37.203125 74.21875 \nQ 40.921875 74.21875 44.703125 73.484375 \nQ 48.484375 72.75 52.59375 71.296875 \nz\n\" id=\"DejaVuSans-54\"/>\n      </defs>\n      <g transform=\"translate(100.999375 239.180924)rotate(-90)scale(0.1 -0.1)\">\n       <use xlink:href=\"#DejaVuSans-54\"/>\n      </g>\n     </g>\n    </g>\n    <g id=\"xtick_5\">\n     <g id=\"line2d_5\">\n      <g>\n       <use style=\"stroke:#000000;stroke-width:0.8;\" x=\"114.98\" xlink:href=\"#m1c80aa1f9d\" y=\"225.818424\"/>\n      </g>\n     </g>\n     <g id=\"text_5\">\n      <!-- 5 -->\n      <defs>\n       <path d=\"M 10.796875 72.90625 \nL 49.515625 72.90625 \nL 49.515625 64.59375 \nL 19.828125 64.59375 \nL 19.828125 46.734375 \nQ 21.96875 47.46875 24.109375 47.828125 \nQ 26.265625 48.1875 28.421875 48.1875 \nQ 40.625 48.1875 47.75 41.5 \nQ 54.890625 34.8125 54.890625 23.390625 \nQ 54.890625 11.625 47.5625 5.09375 \nQ 40.234375 -1.421875 26.90625 -1.421875 \nQ 22.3125 -1.421875 17.546875 -0.640625 \nQ 12.796875 0.140625 7.71875 1.703125 \nL 7.71875 11.625 \nQ 12.109375 9.234375 16.796875 8.0625 \nQ 21.484375 6.890625 26.703125 6.890625 \nQ 35.15625 6.890625 40.078125 11.328125 \nQ 45.015625 15.765625 45.015625 23.390625 \nQ 45.015625 31 40.078125 35.4375 \nQ 35.15625 39.890625 26.703125 39.890625 \nQ 22.75 39.890625 18.8125 39.015625 \nQ 14.890625 38.140625 10.796875 36.28125 \nz\n\" id=\"DejaVuSans-53\"/>\n      </defs>\n      <g transform=\"translate(117.739375 239.180924)rotate(-90)scale(0.1 -0.1)\">\n       <use xlink:href=\"#DejaVuSans-53\"/>\n      </g>\n     </g>\n    </g>\n    <g id=\"xtick_6\">\n     <g id=\"line2d_6\">\n      <g>\n       <use style=\"stroke:#000000;stroke-width:0.8;\" x=\"131.72\" xlink:href=\"#m1c80aa1f9d\" y=\"225.818424\"/>\n      </g>\n     </g>\n     <g id=\"text_6\">\n      <!-- 1 -->\n      <defs>\n       <path d=\"M 12.40625 8.296875 \nL 28.515625 8.296875 \nL 28.515625 63.921875 \nL 10.984375 60.40625 \nL 10.984375 69.390625 \nL 28.421875 72.90625 \nL 38.28125 72.90625 \nL 38.28125 8.296875 \nL 54.390625 8.296875 \nL 54.390625 0 \nL 12.40625 0 \nz\n\" id=\"DejaVuSans-49\"/>\n      </defs>\n      <g transform=\"translate(134.479375 239.180924)rotate(-90)scale(0.1 -0.1)\">\n       <use xlink:href=\"#DejaVuSans-49\"/>\n      </g>\n     </g>\n    </g>\n    <g id=\"xtick_7\">\n     <g id=\"line2d_7\">\n      <g>\n       <use style=\"stroke:#000000;stroke-width:0.8;\" x=\"148.46\" xlink:href=\"#m1c80aa1f9d\" y=\"225.818424\"/>\n      </g>\n     </g>\n     <g id=\"text_7\">\n      <!-- 8 -->\n      <defs>\n       <path d=\"M 31.78125 34.625 \nQ 24.75 34.625 20.71875 30.859375 \nQ 16.703125 27.09375 16.703125 20.515625 \nQ 16.703125 13.921875 20.71875 10.15625 \nQ 24.75 6.390625 31.78125 6.390625 \nQ 38.8125 6.390625 42.859375 10.171875 \nQ 46.921875 13.96875 46.921875 20.515625 \nQ 46.921875 27.09375 42.890625 30.859375 \nQ 38.875 34.625 31.78125 34.625 \nz\nM 21.921875 38.8125 \nQ 15.578125 40.375 12.03125 44.71875 \nQ 8.5 49.078125 8.5 55.328125 \nQ 8.5 64.0625 14.71875 69.140625 \nQ 20.953125 74.21875 31.78125 74.21875 \nQ 42.671875 74.21875 48.875 69.140625 \nQ 55.078125 64.0625 55.078125 55.328125 \nQ 55.078125 49.078125 51.53125 44.71875 \nQ 48 40.375 41.703125 38.8125 \nQ 48.828125 37.15625 52.796875 32.3125 \nQ 56.78125 27.484375 56.78125 20.515625 \nQ 56.78125 9.90625 50.3125 4.234375 \nQ 43.84375 -1.421875 31.78125 -1.421875 \nQ 19.734375 -1.421875 13.25 4.234375 \nQ 6.78125 9.90625 6.78125 20.515625 \nQ 6.78125 27.484375 10.78125 32.3125 \nQ 14.796875 37.15625 21.921875 38.8125 \nz\nM 18.3125 54.390625 \nQ 18.3125 48.734375 21.84375 45.5625 \nQ 25.390625 42.390625 31.78125 42.390625 \nQ 38.140625 42.390625 41.71875 45.5625 \nQ 45.3125 48.734375 45.3125 54.390625 \nQ 45.3125 60.0625 41.71875 63.234375 \nQ 38.140625 66.40625 31.78125 66.40625 \nQ 25.390625 66.40625 21.84375 63.234375 \nQ 18.3125 60.0625 18.3125 54.390625 \nz\n\" id=\"DejaVuSans-56\"/>\n      </defs>\n      <g transform=\"translate(151.219375 239.180924)rotate(-90)scale(0.1 -0.1)\">\n       <use xlink:href=\"#DejaVuSans-56\"/>\n      </g>\n     </g>\n    </g>\n    <g id=\"xtick_8\">\n     <g id=\"line2d_8\">\n      <g>\n       <use style=\"stroke:#000000;stroke-width:0.8;\" x=\"165.2\" xlink:href=\"#m1c80aa1f9d\" y=\"225.818424\"/>\n      </g>\n     </g>\n     <g id=\"text_8\">\n      <!-- 7 -->\n      <defs>\n       <path d=\"M 8.203125 72.90625 \nL 55.078125 72.90625 \nL 55.078125 68.703125 \nL 28.609375 0 \nL 18.3125 0 \nL 43.21875 64.59375 \nL 8.203125 64.59375 \nz\n\" id=\"DejaVuSans-55\"/>\n      </defs>\n      <g transform=\"translate(167.959375 239.180924)rotate(-90)scale(0.1 -0.1)\">\n       <use xlink:href=\"#DejaVuSans-55\"/>\n      </g>\n     </g>\n    </g>\n    <g id=\"xtick_9\">\n     <g id=\"line2d_9\">\n      <g>\n       <use style=\"stroke:#000000;stroke-width:0.8;\" x=\"181.94\" xlink:href=\"#m1c80aa1f9d\" y=\"225.818424\"/>\n      </g>\n     </g>\n     <g id=\"text_9\">\n      <!-- 10 -->\n      <defs>\n       <path d=\"M 31.78125 66.40625 \nQ 24.171875 66.40625 20.328125 58.90625 \nQ 16.5 51.421875 16.5 36.375 \nQ 16.5 21.390625 20.328125 13.890625 \nQ 24.171875 6.390625 31.78125 6.390625 \nQ 39.453125 6.390625 43.28125 13.890625 \nQ 47.125 21.390625 47.125 36.375 \nQ 47.125 51.421875 43.28125 58.90625 \nQ 39.453125 66.40625 31.78125 66.40625 \nz\nM 31.78125 74.21875 \nQ 44.046875 74.21875 50.515625 64.515625 \nQ 56.984375 54.828125 56.984375 36.375 \nQ 56.984375 17.96875 50.515625 8.265625 \nQ 44.046875 -1.421875 31.78125 -1.421875 \nQ 19.53125 -1.421875 13.0625 8.265625 \nQ 6.59375 17.96875 6.59375 36.375 \nQ 6.59375 54.828125 13.0625 64.515625 \nQ 19.53125 74.21875 31.78125 74.21875 \nz\n\" id=\"DejaVuSans-48\"/>\n      </defs>\n      <g transform=\"translate(184.699375 245.543424)rotate(-90)scale(0.1 -0.1)\">\n       <use xlink:href=\"#DejaVuSans-49\"/>\n       <use x=\"63.623047\" xlink:href=\"#DejaVuSans-48\"/>\n      </g>\n     </g>\n    </g>\n    <g id=\"xtick_10\">\n     <g id=\"line2d_10\">\n      <g>\n       <use style=\"stroke:#000000;stroke-width:0.8;\" x=\"198.68\" xlink:href=\"#m1c80aa1f9d\" y=\"225.818424\"/>\n      </g>\n     </g>\n     <g id=\"text_10\">\n      <!-- 12 -->\n      <g transform=\"translate(201.439375 245.543424)rotate(-90)scale(0.1 -0.1)\">\n       <use xlink:href=\"#DejaVuSans-49\"/>\n       <use x=\"63.623047\" xlink:href=\"#DejaVuSans-50\"/>\n      </g>\n     </g>\n    </g>\n    <g id=\"xtick_11\">\n     <g id=\"line2d_11\">\n      <g>\n       <use style=\"stroke:#000000;stroke-width:0.8;\" x=\"215.42\" xlink:href=\"#m1c80aa1f9d\" y=\"225.818424\"/>\n      </g>\n     </g>\n     <g id=\"text_11\">\n      <!-- 14 -->\n      <g transform=\"translate(218.179375 245.543424)rotate(-90)scale(0.1 -0.1)\">\n       <use xlink:href=\"#DejaVuSans-49\"/>\n       <use x=\"63.623047\" xlink:href=\"#DejaVuSans-52\"/>\n      </g>\n     </g>\n    </g>\n    <g id=\"xtick_12\">\n     <g id=\"line2d_12\">\n      <g>\n       <use style=\"stroke:#000000;stroke-width:0.8;\" x=\"232.16\" xlink:href=\"#m1c80aa1f9d\" y=\"225.818424\"/>\n      </g>\n     </g>\n     <g id=\"text_12\">\n      <!-- 9 -->\n      <defs>\n       <path d=\"M 10.984375 1.515625 \nL 10.984375 10.5 \nQ 14.703125 8.734375 18.5 7.8125 \nQ 22.3125 6.890625 25.984375 6.890625 \nQ 35.75 6.890625 40.890625 13.453125 \nQ 46.046875 20.015625 46.78125 33.40625 \nQ 43.953125 29.203125 39.59375 26.953125 \nQ 35.25 24.703125 29.984375 24.703125 \nQ 19.046875 24.703125 12.671875 31.3125 \nQ 6.296875 37.9375 6.296875 49.421875 \nQ 6.296875 60.640625 12.9375 67.421875 \nQ 19.578125 74.21875 30.609375 74.21875 \nQ 43.265625 74.21875 49.921875 64.515625 \nQ 56.59375 54.828125 56.59375 36.375 \nQ 56.59375 19.140625 48.40625 8.859375 \nQ 40.234375 -1.421875 26.421875 -1.421875 \nQ 22.703125 -1.421875 18.890625 -0.6875 \nQ 15.09375 0.046875 10.984375 1.515625 \nz\nM 30.609375 32.421875 \nQ 37.25 32.421875 41.125 36.953125 \nQ 45.015625 41.5 45.015625 49.421875 \nQ 45.015625 57.28125 41.125 61.84375 \nQ 37.25 66.40625 30.609375 66.40625 \nQ 23.96875 66.40625 20.09375 61.84375 \nQ 16.21875 57.28125 16.21875 49.421875 \nQ 16.21875 41.5 20.09375 36.953125 \nQ 23.96875 32.421875 30.609375 32.421875 \nz\n\" id=\"DejaVuSans-57\"/>\n      </defs>\n      <g transform=\"translate(234.919375 239.180924)rotate(-90)scale(0.1 -0.1)\">\n       <use xlink:href=\"#DejaVuSans-57\"/>\n      </g>\n     </g>\n    </g>\n    <g id=\"xtick_13\">\n     <g id=\"line2d_13\">\n      <g>\n       <use style=\"stroke:#000000;stroke-width:0.8;\" x=\"248.9\" xlink:href=\"#m1c80aa1f9d\" y=\"225.818424\"/>\n      </g>\n     </g>\n     <g id=\"text_13\">\n      <!-- 16 -->\n      <g transform=\"translate(251.659375 245.543424)rotate(-90)scale(0.1 -0.1)\">\n       <use xlink:href=\"#DejaVuSans-49\"/>\n       <use x=\"63.623047\" xlink:href=\"#DejaVuSans-54\"/>\n      </g>\n     </g>\n    </g>\n    <g id=\"xtick_14\">\n     <g id=\"line2d_14\">\n      <g>\n       <use style=\"stroke:#000000;stroke-width:0.8;\" x=\"265.64\" xlink:href=\"#m1c80aa1f9d\" y=\"225.818424\"/>\n      </g>\n     </g>\n     <g id=\"text_14\">\n      <!-- 13 -->\n      <g transform=\"translate(268.399375 245.543424)rotate(-90)scale(0.1 -0.1)\">\n       <use xlink:href=\"#DejaVuSans-49\"/>\n       <use x=\"63.623047\" xlink:href=\"#DejaVuSans-51\"/>\n      </g>\n     </g>\n    </g>\n    <g id=\"xtick_15\">\n     <g id=\"line2d_15\">\n      <g>\n       <use style=\"stroke:#000000;stroke-width:0.8;\" x=\"282.38\" xlink:href=\"#m1c80aa1f9d\" y=\"225.818424\"/>\n      </g>\n     </g>\n     <g id=\"text_15\">\n      <!-- 11 -->\n      <g transform=\"translate(285.139375 245.543424)rotate(-90)scale(0.1 -0.1)\">\n       <use xlink:href=\"#DejaVuSans-49\"/>\n       <use x=\"63.623047\" xlink:href=\"#DejaVuSans-49\"/>\n      </g>\n     </g>\n    </g>\n    <g id=\"xtick_16\">\n     <g id=\"line2d_16\">\n      <g>\n       <use style=\"stroke:#000000;stroke-width:0.8;\" x=\"299.12\" xlink:href=\"#m1c80aa1f9d\" y=\"225.818424\"/>\n      </g>\n     </g>\n     <g id=\"text_16\">\n      <!-- 15 -->\n      <g transform=\"translate(301.879375 245.543424)rotate(-90)scale(0.1 -0.1)\">\n       <use xlink:href=\"#DejaVuSans-49\"/>\n       <use x=\"63.623047\" xlink:href=\"#DejaVuSans-53\"/>\n      </g>\n     </g>\n    </g>\n    <g id=\"xtick_17\">\n     <g id=\"line2d_17\">\n      <g>\n       <use style=\"stroke:#000000;stroke-width:0.8;\" x=\"315.86\" xlink:href=\"#m1c80aa1f9d\" y=\"225.818424\"/>\n      </g>\n     </g>\n     <g id=\"text_17\">\n      <!-- 24 -->\n      <g transform=\"translate(318.619375 245.543424)rotate(-90)scale(0.1 -0.1)\">\n       <use xlink:href=\"#DejaVuSans-50\"/>\n       <use x=\"63.623047\" xlink:href=\"#DejaVuSans-52\"/>\n      </g>\n     </g>\n    </g>\n    <g id=\"xtick_18\">\n     <g id=\"line2d_18\">\n      <g>\n       <use style=\"stroke:#000000;stroke-width:0.8;\" x=\"332.6\" xlink:href=\"#m1c80aa1f9d\" y=\"225.818424\"/>\n      </g>\n     </g>\n     <g id=\"text_18\">\n      <!-- 18 -->\n      <g transform=\"translate(335.359375 245.543424)rotate(-90)scale(0.1 -0.1)\">\n       <use xlink:href=\"#DejaVuSans-49\"/>\n       <use x=\"63.623047\" xlink:href=\"#DejaVuSans-56\"/>\n      </g>\n     </g>\n    </g>\n    <g id=\"xtick_19\">\n     <g id=\"line2d_19\">\n      <g>\n       <use style=\"stroke:#000000;stroke-width:0.8;\" x=\"349.34\" xlink:href=\"#m1c80aa1f9d\" y=\"225.818424\"/>\n      </g>\n     </g>\n     <g id=\"text_19\">\n      <!-- 20 -->\n      <g transform=\"translate(352.099375 245.543424)rotate(-90)scale(0.1 -0.1)\">\n       <use xlink:href=\"#DejaVuSans-50\"/>\n       <use x=\"63.623047\" xlink:href=\"#DejaVuSans-48\"/>\n      </g>\n     </g>\n    </g>\n    <g id=\"xtick_20\">\n     <g id=\"line2d_20\">\n      <g>\n       <use style=\"stroke:#000000;stroke-width:0.8;\" x=\"366.08\" xlink:href=\"#m1c80aa1f9d\" y=\"225.818424\"/>\n      </g>\n     </g>\n     <g id=\"text_20\">\n      <!-- 17 -->\n      <g transform=\"translate(368.839375 245.543424)rotate(-90)scale(0.1 -0.1)\">\n       <use xlink:href=\"#DejaVuSans-49\"/>\n       <use x=\"63.623047\" xlink:href=\"#DejaVuSans-55\"/>\n      </g>\n     </g>\n    </g>\n   </g>\n   <g id=\"matplotlib.axis_2\">\n    <g id=\"ytick_1\">\n     <g id=\"line2d_21\">\n      <defs>\n       <path d=\"M 0 0 \nL -3.5 0 \n\" id=\"m8f630c3997\" style=\"stroke:#000000;stroke-width:0.8;\"/>\n      </defs>\n      <g>\n       <use style=\"stroke:#000000;stroke-width:0.8;\" x=\"39.65\" xlink:href=\"#m8f630c3997\" y=\"225.818424\"/>\n      </g>\n     </g>\n     <g id=\"text_21\">\n      <!-- 0 -->\n      <g transform=\"translate(26.2875 229.617643)scale(0.1 -0.1)\">\n       <use xlink:href=\"#DejaVuSans-48\"/>\n      </g>\n     </g>\n    </g>\n    <g id=\"ytick_2\">\n     <g id=\"line2d_22\">\n      <g>\n       <use style=\"stroke:#000000;stroke-width:0.8;\" x=\"39.65\" xlink:href=\"#m8f630c3997\" y=\"182.854583\"/>\n      </g>\n     </g>\n     <g id=\"text_22\">\n      <!-- 200 -->\n      <g transform=\"translate(13.5625 186.653802)scale(0.1 -0.1)\">\n       <use xlink:href=\"#DejaVuSans-50\"/>\n       <use x=\"63.623047\" xlink:href=\"#DejaVuSans-48\"/>\n       <use x=\"127.246094\" xlink:href=\"#DejaVuSans-48\"/>\n      </g>\n     </g>\n    </g>\n    <g id=\"ytick_3\">\n     <g id=\"line2d_23\">\n      <g>\n       <use style=\"stroke:#000000;stroke-width:0.8;\" x=\"39.65\" xlink:href=\"#m8f630c3997\" y=\"139.890742\"/>\n      </g>\n     </g>\n     <g id=\"text_23\">\n      <!-- 400 -->\n      <g transform=\"translate(13.5625 143.689961)scale(0.1 -0.1)\">\n       <use xlink:href=\"#DejaVuSans-52\"/>\n       <use x=\"63.623047\" xlink:href=\"#DejaVuSans-48\"/>\n       <use x=\"127.246094\" xlink:href=\"#DejaVuSans-48\"/>\n      </g>\n     </g>\n    </g>\n    <g id=\"ytick_4\">\n     <g id=\"line2d_24\">\n      <g>\n       <use style=\"stroke:#000000;stroke-width:0.8;\" x=\"39.65\" xlink:href=\"#m8f630c3997\" y=\"96.926901\"/>\n      </g>\n     </g>\n     <g id=\"text_24\">\n      <!-- 600 -->\n      <g transform=\"translate(13.5625 100.72612)scale(0.1 -0.1)\">\n       <use xlink:href=\"#DejaVuSans-54\"/>\n       <use x=\"63.623047\" xlink:href=\"#DejaVuSans-48\"/>\n       <use x=\"127.246094\" xlink:href=\"#DejaVuSans-48\"/>\n      </g>\n     </g>\n    </g>\n    <g id=\"ytick_5\">\n     <g id=\"line2d_25\">\n      <g>\n       <use style=\"stroke:#000000;stroke-width:0.8;\" x=\"39.65\" xlink:href=\"#m8f630c3997\" y=\"53.96306\"/>\n      </g>\n     </g>\n     <g id=\"text_25\">\n      <!-- 800 -->\n      <g transform=\"translate(13.5625 57.762279)scale(0.1 -0.1)\">\n       <use xlink:href=\"#DejaVuSans-56\"/>\n       <use x=\"63.623047\" xlink:href=\"#DejaVuSans-48\"/>\n       <use x=\"127.246094\" xlink:href=\"#DejaVuSans-48\"/>\n      </g>\n     </g>\n    </g>\n    <g id=\"ytick_6\">\n     <g id=\"line2d_26\">\n      <g>\n       <use style=\"stroke:#000000;stroke-width:0.8;\" x=\"39.65\" xlink:href=\"#m8f630c3997\" y=\"10.999219\"/>\n      </g>\n     </g>\n     <g id=\"text_26\">\n      <!-- 1000 -->\n      <g transform=\"translate(7.2 14.798437)scale(0.1 -0.1)\">\n       <use xlink:href=\"#DejaVuSans-49\"/>\n       <use x=\"63.623047\" xlink:href=\"#DejaVuSans-48\"/>\n       <use x=\"127.246094\" xlink:href=\"#DejaVuSans-48\"/>\n       <use x=\"190.869141\" xlink:href=\"#DejaVuSans-48\"/>\n      </g>\n     </g>\n    </g>\n   </g>\n   <g id=\"patch_23\">\n    <path d=\"M 39.65 225.818424 \nL 39.65 8.378424 \n\" style=\"fill:none;stroke:#000000;stroke-linecap:square;stroke-linejoin:miter;stroke-width:0.8;\"/>\n   </g>\n   <g id=\"patch_24\">\n    <path d=\"M 374.45 225.818424 \nL 374.45 8.378424 \n\" style=\"fill:none;stroke:#000000;stroke-linecap:square;stroke-linejoin:miter;stroke-width:0.8;\"/>\n   </g>\n   <g id=\"patch_25\">\n    <path d=\"M 39.65 225.818424 \nL 374.45 225.818424 \n\" style=\"fill:none;stroke:#000000;stroke-linecap:square;stroke-linejoin:miter;stroke-width:0.8;\"/>\n   </g>\n   <g id=\"patch_26\">\n    <path d=\"M 39.65 8.378424 \nL 374.45 8.378424 \n\" style=\"fill:none;stroke:#000000;stroke-linecap:square;stroke-linejoin:miter;stroke-width:0.8;\"/>\n   </g>\n  </g>\n </g>\n <defs>\n  <clipPath id=\"pea4538fc61\">\n   <rect height=\"217.44\" width=\"334.8\" x=\"39.65\" y=\"8.378424\"/>\n  </clipPath>\n </defs>\n</svg>\n",
      "image/png": "[encoded data removed]"
     },
     "metadata": {
      "needs_background": "light"
     }
    }
   ],
   "source": [
    "group_1['index'].value_counts().head(20).plot(kind='bar')"
   ]
  },
  {
   "cell_type": "code",
   "execution_count": 73,
   "metadata": {},
   "outputs": [
    {
     "output_type": "execute_result",
     "data": {
      "text/plain": [
       "    level_0  index\n",
       "37       68      1\n",
       "53       93      1\n",
       "52       99      1\n",
       "51      135      1\n",
       "50      145      1\n",
       "49      147      1\n",
       "48      271      1\n",
       "47      473      1\n",
       "46      128      1\n",
       "45      112      1\n",
       "44    13267      1\n",
       "43       96      1\n",
       "42      108      1\n",
       "41       34      1\n",
       "40       60      1\n",
       "39       62      1\n",
       "54       75      1\n",
       "38       30      1\n",
       "55       69      1\n",
       "57       39      1"
      ],
      "text/html": "<div>\n<style scoped>\n    .dataframe tbody tr th:only-of-type {\n        vertical-align: middle;\n    }\n\n    .dataframe tbody tr th {\n        vertical-align: top;\n    }\n\n    .dataframe thead th {\n        text-align: right;\n    }\n</style>\n<table border=\"1\" class=\"dataframe\">\n  <thead>\n    <tr style=\"text-align: right;\">\n      <th></th>\n      <th>level_0</th>\n      <th>index</th>\n    </tr>\n  </thead>\n  <tbody>\n    <tr>\n      <th>37</th>\n      <td>68</td>\n      <td>1</td>\n    </tr>\n    <tr>\n      <th>53</th>\n      <td>93</td>\n      <td>1</td>\n    </tr>\n    <tr>\n      <th>52</th>\n      <td>99</td>\n      <td>1</td>\n    </tr>\n    <tr>\n      <th>51</th>\n      <td>135</td>\n      <td>1</td>\n    </tr>\n    <tr>\n      <th>50</th>\n      <td>145</td>\n      <td>1</td>\n    </tr>\n    <tr>\n      <th>49</th>\n      <td>147</td>\n      <td>1</td>\n    </tr>\n    <tr>\n      <th>48</th>\n      <td>271</td>\n      <td>1</td>\n    </tr>\n    <tr>\n      <th>47</th>\n      <td>473</td>\n      <td>1</td>\n    </tr>\n    <tr>\n      <th>46</th>\n      <td>128</td>\n      <td>1</td>\n    </tr>\n    <tr>\n      <th>45</th>\n      <td>112</td>\n      <td>1</td>\n    </tr>\n    <tr>\n      <th>44</th>\n      <td>13267</td>\n      <td>1</td>\n    </tr>\n    <tr>\n      <th>43</th>\n      <td>96</td>\n      <td>1</td>\n    </tr>\n    <tr>\n      <th>42</th>\n      <td>108</td>\n      <td>1</td>\n    </tr>\n    <tr>\n      <th>41</th>\n      <td>34</td>\n      <td>1</td>\n    </tr>\n    <tr>\n      <th>40</th>\n      <td>60</td>\n      <td>1</td>\n    </tr>\n    <tr>\n      <th>39</th>\n      <td>62</td>\n      <td>1</td>\n    </tr>\n    <tr>\n      <th>54</th>\n      <td>75</td>\n      <td>1</td>\n    </tr>\n    <tr>\n      <th>38</th>\n      <td>30</td>\n      <td>1</td>\n    </tr>\n    <tr>\n      <th>55</th>\n      <td>69</td>\n      <td>1</td>\n    </tr>\n    <tr>\n      <th>57</th>\n      <td>39</td>\n      <td>1</td>\n    </tr>\n  </tbody>\n</table>\n</div>"
     },
     "metadata": {},
     "execution_count": 73
    }
   ],
   "source": [
    "group_1['index'].value_counts().reset_index().sort_values(by='index').head(20)"
   ]
  },
  {
   "cell_type": "code",
   "execution_count": 74,
   "metadata": {},
   "outputs": [
    {
     "output_type": "execute_result",
     "data": {
      "text/plain": [
       "<matplotlib.axes._subplots.AxesSubplot at 0x7fba3239a7c0>"
      ]
     },
     "metadata": {},
     "execution_count": 74
    },
    {
     "output_type": "display_data",
     "data": {
      "text/plain": "<Figure size 432x288 with 1 Axes>",
      "image/svg+xml": "<?xml version=\"1.0\" encoding=\"utf-8\" standalone=\"no\"?>\n<!DOCTYPE svg PUBLIC \"-//W3C//DTD SVG 1.1//EN\"\n  \"http://www.w3.org/Graphics/SVG/1.1/DTD/svg11.dtd\">\n<!-- Created with matplotlib (https://matplotlib.org/) -->\n<svg height=\"266.699674pt\" version=\"1.1\" viewBox=\"0 0 381.65 266.699674\" width=\"381.65pt\" xmlns=\"http://www.w3.org/2000/svg\" xmlns:xlink=\"http://www.w3.org/1999/xlink\">\n <defs>\n  <style type=\"text/css\">\n*{stroke-linecap:butt;stroke-linejoin:round;}\n  </style>\n </defs>\n <g id=\"figure_1\">\n  <g id=\"patch_1\">\n   <path d=\"M -0 266.699674 \nL 381.65 266.699674 \nL 381.65 0 \nL -0 0 \nz\n\" style=\"fill:none;\"/>\n  </g>\n  <g id=\"axes_1\">\n   <g id=\"patch_2\">\n    <path d=\"M 39.65 225.818424 \nL 374.45 225.818424 \nL 374.45 8.378424 \nL 39.65 8.378424 \nz\n\" style=\"fill:#ffffff;\"/>\n   </g>\n   <g id=\"patch_3\">\n    <path clip-path=\"url(#pbcee54deea)\" d=\"M 43.835 225.818424 \nL 52.205 225.818424 \nL 52.205 187.150967 \nL 43.835 187.150967 \nz\n\" style=\"fill:#1f77b4;\"/>\n   </g>\n   <g id=\"patch_4\">\n    <path clip-path=\"url(#pbcee54deea)\" d=\"M 60.575 225.818424 \nL 68.945 225.818424 \nL 68.945 18.73271 \nL 60.575 18.73271 \nz\n\" style=\"fill:#1f77b4;\"/>\n   </g>\n   <g id=\"patch_5\">\n    <path clip-path=\"url(#pbcee54deea)\" d=\"M 77.315 225.818424 \nL 85.685 225.818424 \nL 85.685 110.67533 \nL 77.315 110.67533 \nz\n\" style=\"fill:#1f77b4;\"/>\n   </g>\n   <g id=\"patch_6\">\n    <path clip-path=\"url(#pbcee54deea)\" d=\"M 94.055 225.818424 \nL 102.425 225.818424 \nL 102.425 39.355354 \nL 94.055 39.355354 \nz\n\" style=\"fill:#1f77b4;\"/>\n   </g>\n   <g id=\"patch_7\">\n    <path clip-path=\"url(#pbcee54deea)\" d=\"M 110.795 225.818424 \nL 119.165 225.818424 \nL 119.165 185.432414 \nL 110.795 185.432414 \nz\n\" style=\"fill:#1f77b4;\"/>\n   </g>\n   <g id=\"patch_8\">\n    <path clip-path=\"url(#pbcee54deea)\" d=\"M 127.535 225.818424 \nL 135.905 225.818424 \nL 135.905 185.217595 \nL 127.535 185.217595 \nz\n\" style=\"fill:#1f77b4;\"/>\n   </g>\n   <g id=\"patch_9\">\n    <path clip-path=\"url(#pbcee54deea)\" d=\"M 144.275 225.818424 \nL 152.645 225.818424 \nL 152.645 209.062526 \nL 144.275 209.062526 \nz\n\" style=\"fill:#1f77b4;\"/>\n   </g>\n   <g id=\"patch_10\">\n    <path clip-path=\"url(#pbcee54deea)\" d=\"M 161.015 225.818424 \nL 169.385 225.818424 \nL 169.385 189.943617 \nL 161.015 189.943617 \nz\n\" style=\"fill:#1f77b4;\"/>\n   </g>\n   <g id=\"patch_11\">\n    <path clip-path=\"url(#pbcee54deea)\" d=\"M 177.755 225.818424 \nL 186.125 225.818424 \nL 186.125 218.084933 \nL 177.755 218.084933 \nz\n\" style=\"fill:#1f77b4;\"/>\n   </g>\n   <g id=\"patch_12\">\n    <path clip-path=\"url(#pbcee54deea)\" d=\"M 194.495 225.818424 \nL 202.865 225.818424 \nL 202.865 210.136622 \nL 194.495 210.136622 \nz\n\" style=\"fill:#1f77b4;\"/>\n   </g>\n   <g id=\"patch_13\">\n    <path clip-path=\"url(#pbcee54deea)\" d=\"M 211.235 225.818424 \nL 219.605 225.818424 \nL 219.605 221.951679 \nL 211.235 221.951679 \nz\n\" style=\"fill:#1f77b4;\"/>\n   </g>\n   <g id=\"patch_14\">\n    <path clip-path=\"url(#pbcee54deea)\" d=\"M 227.975 225.818424 \nL 236.345 225.818424 \nL 236.345 211.855176 \nL 227.975 211.855176 \nz\n\" style=\"fill:#1f77b4;\"/>\n   </g>\n   <g id=\"patch_15\">\n    <path clip-path=\"url(#pbcee54deea)\" d=\"M 244.715 225.818424 \nL 253.085 225.818424 \nL 253.085 221.092402 \nL 244.715 221.092402 \nz\n\" style=\"fill:#1f77b4;\"/>\n   </g>\n   <g id=\"patch_16\">\n    <path clip-path=\"url(#pbcee54deea)\" d=\"M 261.455 225.818424 \nL 269.825 225.818424 \nL 269.825 216.366379 \nL 261.455 216.366379 \nz\n\" style=\"fill:#1f77b4;\"/>\n   </g>\n   <g id=\"patch_17\">\n    <path clip-path=\"url(#pbcee54deea)\" d=\"M 278.195 225.818424 \nL 286.565 225.818424 \nL 286.565 222.381317 \nL 278.195 222.381317 \nz\n\" style=\"fill:#1f77b4;\"/>\n   </g>\n   <g id=\"patch_18\">\n    <path clip-path=\"url(#pbcee54deea)\" d=\"M 294.935 225.818424 \nL 303.305 225.818424 \nL 303.305 220.233125 \nL 294.935 220.233125 \nz\n\" style=\"fill:#1f77b4;\"/>\n   </g>\n   <g id=\"patch_19\">\n    <path clip-path=\"url(#pbcee54deea)\" d=\"M 311.675 225.818424 \nL 320.045 225.818424 \nL 320.045 224.529509 \nL 311.675 224.529509 \nz\n\" style=\"fill:#1f77b4;\"/>\n   </g>\n   <g id=\"patch_20\">\n    <path clip-path=\"url(#pbcee54deea)\" d=\"M 328.415 225.818424 \nL 336.785 225.818424 \nL 336.785 223.240594 \nL 328.415 223.240594 \nz\n\" style=\"fill:#1f77b4;\"/>\n   </g>\n   <g id=\"patch_21\">\n    <path clip-path=\"url(#pbcee54deea)\" d=\"M 345.155 225.818424 \nL 353.525 225.818424 \nL 353.525 224.959148 \nL 345.155 224.959148 \nz\n\" style=\"fill:#1f77b4;\"/>\n   </g>\n   <g id=\"patch_22\">\n    <path clip-path=\"url(#pbcee54deea)\" d=\"M 361.895 225.818424 \nL 370.265 225.818424 \nL 370.265 224.31469 \nL 361.895 224.31469 \nz\n\" style=\"fill:#1f77b4;\"/>\n   </g>\n   <g id=\"matplotlib.axis_1\">\n    <g id=\"xtick_1\">\n     <g id=\"line2d_1\">\n      <defs>\n       <path d=\"M 0 0 \nL 0 3.5 \n\" id=\"m7f9633138b\" style=\"stroke:#000000;stroke-width:0.8;\"/>\n      </defs>\n      <g>\n       <use style=\"stroke:#000000;stroke-width:0.8;\" x=\"48.02\" xlink:href=\"#m7f9633138b\" y=\"225.818424\"/>\n      </g>\n     </g>\n     <g id=\"text_1\">\n      <!-- 1 -->\n      <defs>\n       <path d=\"M 12.40625 8.296875 \nL 28.515625 8.296875 \nL 28.515625 63.921875 \nL 10.984375 60.40625 \nL 10.984375 69.390625 \nL 28.421875 72.90625 \nL 38.28125 72.90625 \nL 38.28125 8.296875 \nL 54.390625 8.296875 \nL 54.390625 0 \nL 12.40625 0 \nz\n\" id=\"DejaVuSans-49\"/>\n      </defs>\n      <g transform=\"translate(50.779375 239.180924)rotate(-90)scale(0.1 -0.1)\">\n       <use xlink:href=\"#DejaVuSans-49\"/>\n      </g>\n     </g>\n    </g>\n    <g id=\"xtick_2\">\n     <g id=\"line2d_2\">\n      <g>\n       <use style=\"stroke:#000000;stroke-width:0.8;\" x=\"64.76\" xlink:href=\"#m7f9633138b\" y=\"225.818424\"/>\n      </g>\n     </g>\n     <g id=\"text_2\">\n      <!-- 2 -->\n      <defs>\n       <path d=\"M 19.1875 8.296875 \nL 53.609375 8.296875 \nL 53.609375 0 \nL 7.328125 0 \nL 7.328125 8.296875 \nQ 12.9375 14.109375 22.625 23.890625 \nQ 32.328125 33.6875 34.8125 36.53125 \nQ 39.546875 41.84375 41.421875 45.53125 \nQ 43.3125 49.21875 43.3125 52.78125 \nQ 43.3125 58.59375 39.234375 62.25 \nQ 35.15625 65.921875 28.609375 65.921875 \nQ 23.96875 65.921875 18.8125 64.3125 \nQ 13.671875 62.703125 7.8125 59.421875 \nL 7.8125 69.390625 \nQ 13.765625 71.78125 18.9375 73 \nQ 24.125 74.21875 28.421875 74.21875 \nQ 39.75 74.21875 46.484375 68.546875 \nQ 53.21875 62.890625 53.21875 53.421875 \nQ 53.21875 48.921875 51.53125 44.890625 \nQ 49.859375 40.875 45.40625 35.40625 \nQ 44.1875 33.984375 37.640625 27.21875 \nQ 31.109375 20.453125 19.1875 8.296875 \nz\n\" id=\"DejaVuSans-50\"/>\n      </defs>\n      <g transform=\"translate(67.519375 239.180924)rotate(-90)scale(0.1 -0.1)\">\n       <use xlink:href=\"#DejaVuSans-50\"/>\n      </g>\n     </g>\n    </g>\n    <g id=\"xtick_3\">\n     <g id=\"line2d_3\">\n      <g>\n       <use style=\"stroke:#000000;stroke-width:0.8;\" x=\"81.5\" xlink:href=\"#m7f9633138b\" y=\"225.818424\"/>\n      </g>\n     </g>\n     <g id=\"text_3\">\n      <!-- 3 -->\n      <defs>\n       <path d=\"M 40.578125 39.3125 \nQ 47.65625 37.796875 51.625 33 \nQ 55.609375 28.21875 55.609375 21.1875 \nQ 55.609375 10.40625 48.1875 4.484375 \nQ 40.765625 -1.421875 27.09375 -1.421875 \nQ 22.515625 -1.421875 17.65625 -0.515625 \nQ 12.796875 0.390625 7.625 2.203125 \nL 7.625 11.71875 \nQ 11.71875 9.328125 16.59375 8.109375 \nQ 21.484375 6.890625 26.8125 6.890625 \nQ 36.078125 6.890625 40.9375 10.546875 \nQ 45.796875 14.203125 45.796875 21.1875 \nQ 45.796875 27.640625 41.28125 31.265625 \nQ 36.765625 34.90625 28.71875 34.90625 \nL 20.21875 34.90625 \nL 20.21875 43.015625 \nL 29.109375 43.015625 \nQ 36.375 43.015625 40.234375 45.921875 \nQ 44.09375 48.828125 44.09375 54.296875 \nQ 44.09375 59.90625 40.109375 62.90625 \nQ 36.140625 65.921875 28.71875 65.921875 \nQ 24.65625 65.921875 20.015625 65.03125 \nQ 15.375 64.15625 9.8125 62.3125 \nL 9.8125 71.09375 \nQ 15.4375 72.65625 20.34375 73.4375 \nQ 25.25 74.21875 29.59375 74.21875 \nQ 40.828125 74.21875 47.359375 69.109375 \nQ 53.90625 64.015625 53.90625 55.328125 \nQ 53.90625 49.265625 50.4375 45.09375 \nQ 46.96875 40.921875 40.578125 39.3125 \nz\n\" id=\"DejaVuSans-51\"/>\n      </defs>\n      <g transform=\"translate(84.259375 239.180924)rotate(-90)scale(0.1 -0.1)\">\n       <use xlink:href=\"#DejaVuSans-51\"/>\n      </g>\n     </g>\n    </g>\n    <g id=\"xtick_4\">\n     <g id=\"line2d_4\">\n      <g>\n       <use style=\"stroke:#000000;stroke-width:0.8;\" x=\"98.24\" xlink:href=\"#m7f9633138b\" y=\"225.818424\"/>\n      </g>\n     </g>\n     <g id=\"text_4\">\n      <!-- 4 -->\n      <defs>\n       <path d=\"M 37.796875 64.3125 \nL 12.890625 25.390625 \nL 37.796875 25.390625 \nz\nM 35.203125 72.90625 \nL 47.609375 72.90625 \nL 47.609375 25.390625 \nL 58.015625 25.390625 \nL 58.015625 17.1875 \nL 47.609375 17.1875 \nL 47.609375 0 \nL 37.796875 0 \nL 37.796875 17.1875 \nL 4.890625 17.1875 \nL 4.890625 26.703125 \nz\n\" id=\"DejaVuSans-52\"/>\n      </defs>\n      <g transform=\"translate(100.999375 239.180924)rotate(-90)scale(0.1 -0.1)\">\n       <use xlink:href=\"#DejaVuSans-52\"/>\n      </g>\n     </g>\n    </g>\n    <g id=\"xtick_5\">\n     <g id=\"line2d_5\">\n      <g>\n       <use style=\"stroke:#000000;stroke-width:0.8;\" x=\"114.98\" xlink:href=\"#m7f9633138b\" y=\"225.818424\"/>\n      </g>\n     </g>\n     <g id=\"text_5\">\n      <!-- 5 -->\n      <defs>\n       <path d=\"M 10.796875 72.90625 \nL 49.515625 72.90625 \nL 49.515625 64.59375 \nL 19.828125 64.59375 \nL 19.828125 46.734375 \nQ 21.96875 47.46875 24.109375 47.828125 \nQ 26.265625 48.1875 28.421875 48.1875 \nQ 40.625 48.1875 47.75 41.5 \nQ 54.890625 34.8125 54.890625 23.390625 \nQ 54.890625 11.625 47.5625 5.09375 \nQ 40.234375 -1.421875 26.90625 -1.421875 \nQ 22.3125 -1.421875 17.546875 -0.640625 \nQ 12.796875 0.140625 7.71875 1.703125 \nL 7.71875 11.625 \nQ 12.109375 9.234375 16.796875 8.0625 \nQ 21.484375 6.890625 26.703125 6.890625 \nQ 35.15625 6.890625 40.078125 11.328125 \nQ 45.015625 15.765625 45.015625 23.390625 \nQ 45.015625 31 40.078125 35.4375 \nQ 35.15625 39.890625 26.703125 39.890625 \nQ 22.75 39.890625 18.8125 39.015625 \nQ 14.890625 38.140625 10.796875 36.28125 \nz\n\" id=\"DejaVuSans-53\"/>\n      </defs>\n      <g transform=\"translate(117.739375 239.180924)rotate(-90)scale(0.1 -0.1)\">\n       <use xlink:href=\"#DejaVuSans-53\"/>\n      </g>\n     </g>\n    </g>\n    <g id=\"xtick_6\">\n     <g id=\"line2d_6\">\n      <g>\n       <use style=\"stroke:#000000;stroke-width:0.8;\" x=\"131.72\" xlink:href=\"#m7f9633138b\" y=\"225.818424\"/>\n      </g>\n     </g>\n     <g id=\"text_6\">\n      <!-- 6 -->\n      <defs>\n       <path d=\"M 33.015625 40.375 \nQ 26.375 40.375 22.484375 35.828125 \nQ 18.609375 31.296875 18.609375 23.390625 \nQ 18.609375 15.53125 22.484375 10.953125 \nQ 26.375 6.390625 33.015625 6.390625 \nQ 39.65625 6.390625 43.53125 10.953125 \nQ 47.40625 15.53125 47.40625 23.390625 \nQ 47.40625 31.296875 43.53125 35.828125 \nQ 39.65625 40.375 33.015625 40.375 \nz\nM 52.59375 71.296875 \nL 52.59375 62.3125 \nQ 48.875 64.0625 45.09375 64.984375 \nQ 41.3125 65.921875 37.59375 65.921875 \nQ 27.828125 65.921875 22.671875 59.328125 \nQ 17.53125 52.734375 16.796875 39.40625 \nQ 19.671875 43.65625 24.015625 45.921875 \nQ 28.375 48.1875 33.59375 48.1875 \nQ 44.578125 48.1875 50.953125 41.515625 \nQ 57.328125 34.859375 57.328125 23.390625 \nQ 57.328125 12.15625 50.6875 5.359375 \nQ 44.046875 -1.421875 33.015625 -1.421875 \nQ 20.359375 -1.421875 13.671875 8.265625 \nQ 6.984375 17.96875 6.984375 36.375 \nQ 6.984375 53.65625 15.1875 63.9375 \nQ 23.390625 74.21875 37.203125 74.21875 \nQ 40.921875 74.21875 44.703125 73.484375 \nQ 48.484375 72.75 52.59375 71.296875 \nz\n\" id=\"DejaVuSans-54\"/>\n      </defs>\n      <g transform=\"translate(134.479375 239.180924)rotate(-90)scale(0.1 -0.1)\">\n       <use xlink:href=\"#DejaVuSans-54\"/>\n      </g>\n     </g>\n    </g>\n    <g id=\"xtick_7\">\n     <g id=\"line2d_7\">\n      <g>\n       <use style=\"stroke:#000000;stroke-width:0.8;\" x=\"148.46\" xlink:href=\"#m7f9633138b\" y=\"225.818424\"/>\n      </g>\n     </g>\n     <g id=\"text_7\">\n      <!-- 7 -->\n      <defs>\n       <path d=\"M 8.203125 72.90625 \nL 55.078125 72.90625 \nL 55.078125 68.703125 \nL 28.609375 0 \nL 18.3125 0 \nL 43.21875 64.59375 \nL 8.203125 64.59375 \nz\n\" id=\"DejaVuSans-55\"/>\n      </defs>\n      <g transform=\"translate(151.219375 239.180924)rotate(-90)scale(0.1 -0.1)\">\n       <use xlink:href=\"#DejaVuSans-55\"/>\n      </g>\n     </g>\n    </g>\n    <g id=\"xtick_8\">\n     <g id=\"line2d_8\">\n      <g>\n       <use style=\"stroke:#000000;stroke-width:0.8;\" x=\"165.2\" xlink:href=\"#m7f9633138b\" y=\"225.818424\"/>\n      </g>\n     </g>\n     <g id=\"text_8\">\n      <!-- 8 -->\n      <defs>\n       <path d=\"M 31.78125 34.625 \nQ 24.75 34.625 20.71875 30.859375 \nQ 16.703125 27.09375 16.703125 20.515625 \nQ 16.703125 13.921875 20.71875 10.15625 \nQ 24.75 6.390625 31.78125 6.390625 \nQ 38.8125 6.390625 42.859375 10.171875 \nQ 46.921875 13.96875 46.921875 20.515625 \nQ 46.921875 27.09375 42.890625 30.859375 \nQ 38.875 34.625 31.78125 34.625 \nz\nM 21.921875 38.8125 \nQ 15.578125 40.375 12.03125 44.71875 \nQ 8.5 49.078125 8.5 55.328125 \nQ 8.5 64.0625 14.71875 69.140625 \nQ 20.953125 74.21875 31.78125 74.21875 \nQ 42.671875 74.21875 48.875 69.140625 \nQ 55.078125 64.0625 55.078125 55.328125 \nQ 55.078125 49.078125 51.53125 44.71875 \nQ 48 40.375 41.703125 38.8125 \nQ 48.828125 37.15625 52.796875 32.3125 \nQ 56.78125 27.484375 56.78125 20.515625 \nQ 56.78125 9.90625 50.3125 4.234375 \nQ 43.84375 -1.421875 31.78125 -1.421875 \nQ 19.734375 -1.421875 13.25 4.234375 \nQ 6.78125 9.90625 6.78125 20.515625 \nQ 6.78125 27.484375 10.78125 32.3125 \nQ 14.796875 37.15625 21.921875 38.8125 \nz\nM 18.3125 54.390625 \nQ 18.3125 48.734375 21.84375 45.5625 \nQ 25.390625 42.390625 31.78125 42.390625 \nQ 38.140625 42.390625 41.71875 45.5625 \nQ 45.3125 48.734375 45.3125 54.390625 \nQ 45.3125 60.0625 41.71875 63.234375 \nQ 38.140625 66.40625 31.78125 66.40625 \nQ 25.390625 66.40625 21.84375 63.234375 \nQ 18.3125 60.0625 18.3125 54.390625 \nz\n\" id=\"DejaVuSans-56\"/>\n      </defs>\n      <g transform=\"translate(167.959375 239.180924)rotate(-90)scale(0.1 -0.1)\">\n       <use xlink:href=\"#DejaVuSans-56\"/>\n      </g>\n     </g>\n    </g>\n    <g id=\"xtick_9\">\n     <g id=\"line2d_9\">\n      <g>\n       <use style=\"stroke:#000000;stroke-width:0.8;\" x=\"181.94\" xlink:href=\"#m7f9633138b\" y=\"225.818424\"/>\n      </g>\n     </g>\n     <g id=\"text_9\">\n      <!-- 9 -->\n      <defs>\n       <path d=\"M 10.984375 1.515625 \nL 10.984375 10.5 \nQ 14.703125 8.734375 18.5 7.8125 \nQ 22.3125 6.890625 25.984375 6.890625 \nQ 35.75 6.890625 40.890625 13.453125 \nQ 46.046875 20.015625 46.78125 33.40625 \nQ 43.953125 29.203125 39.59375 26.953125 \nQ 35.25 24.703125 29.984375 24.703125 \nQ 19.046875 24.703125 12.671875 31.3125 \nQ 6.296875 37.9375 6.296875 49.421875 \nQ 6.296875 60.640625 12.9375 67.421875 \nQ 19.578125 74.21875 30.609375 74.21875 \nQ 43.265625 74.21875 49.921875 64.515625 \nQ 56.59375 54.828125 56.59375 36.375 \nQ 56.59375 19.140625 48.40625 8.859375 \nQ 40.234375 -1.421875 26.421875 -1.421875 \nQ 22.703125 -1.421875 18.890625 -0.6875 \nQ 15.09375 0.046875 10.984375 1.515625 \nz\nM 30.609375 32.421875 \nQ 37.25 32.421875 41.125 36.953125 \nQ 45.015625 41.5 45.015625 49.421875 \nQ 45.015625 57.28125 41.125 61.84375 \nQ 37.25 66.40625 30.609375 66.40625 \nQ 23.96875 66.40625 20.09375 61.84375 \nQ 16.21875 57.28125 16.21875 49.421875 \nQ 16.21875 41.5 20.09375 36.953125 \nQ 23.96875 32.421875 30.609375 32.421875 \nz\n\" id=\"DejaVuSans-57\"/>\n      </defs>\n      <g transform=\"translate(184.699375 239.180924)rotate(-90)scale(0.1 -0.1)\">\n       <use xlink:href=\"#DejaVuSans-57\"/>\n      </g>\n     </g>\n    </g>\n    <g id=\"xtick_10\">\n     <g id=\"line2d_10\">\n      <g>\n       <use style=\"stroke:#000000;stroke-width:0.8;\" x=\"198.68\" xlink:href=\"#m7f9633138b\" y=\"225.818424\"/>\n      </g>\n     </g>\n     <g id=\"text_10\">\n      <!-- 10 -->\n      <defs>\n       <path d=\"M 31.78125 66.40625 \nQ 24.171875 66.40625 20.328125 58.90625 \nQ 16.5 51.421875 16.5 36.375 \nQ 16.5 21.390625 20.328125 13.890625 \nQ 24.171875 6.390625 31.78125 6.390625 \nQ 39.453125 6.390625 43.28125 13.890625 \nQ 47.125 21.390625 47.125 36.375 \nQ 47.125 51.421875 43.28125 58.90625 \nQ 39.453125 66.40625 31.78125 66.40625 \nz\nM 31.78125 74.21875 \nQ 44.046875 74.21875 50.515625 64.515625 \nQ 56.984375 54.828125 56.984375 36.375 \nQ 56.984375 17.96875 50.515625 8.265625 \nQ 44.046875 -1.421875 31.78125 -1.421875 \nQ 19.53125 -1.421875 13.0625 8.265625 \nQ 6.59375 17.96875 6.59375 36.375 \nQ 6.59375 54.828125 13.0625 64.515625 \nQ 19.53125 74.21875 31.78125 74.21875 \nz\n\" id=\"DejaVuSans-48\"/>\n      </defs>\n      <g transform=\"translate(201.439375 245.543424)rotate(-90)scale(0.1 -0.1)\">\n       <use xlink:href=\"#DejaVuSans-49\"/>\n       <use x=\"63.623047\" xlink:href=\"#DejaVuSans-48\"/>\n      </g>\n     </g>\n    </g>\n    <g id=\"xtick_11\">\n     <g id=\"line2d_11\">\n      <g>\n       <use style=\"stroke:#000000;stroke-width:0.8;\" x=\"215.42\" xlink:href=\"#m7f9633138b\" y=\"225.818424\"/>\n      </g>\n     </g>\n     <g id=\"text_11\">\n      <!-- 11 -->\n      <g transform=\"translate(218.179375 245.543424)rotate(-90)scale(0.1 -0.1)\">\n       <use xlink:href=\"#DejaVuSans-49\"/>\n       <use x=\"63.623047\" xlink:href=\"#DejaVuSans-49\"/>\n      </g>\n     </g>\n    </g>\n    <g id=\"xtick_12\">\n     <g id=\"line2d_12\">\n      <g>\n       <use style=\"stroke:#000000;stroke-width:0.8;\" x=\"232.16\" xlink:href=\"#m7f9633138b\" y=\"225.818424\"/>\n      </g>\n     </g>\n     <g id=\"text_12\">\n      <!-- 12 -->\n      <g transform=\"translate(234.919375 245.543424)rotate(-90)scale(0.1 -0.1)\">\n       <use xlink:href=\"#DejaVuSans-49\"/>\n       <use x=\"63.623047\" xlink:href=\"#DejaVuSans-50\"/>\n      </g>\n     </g>\n    </g>\n    <g id=\"xtick_13\">\n     <g id=\"line2d_13\">\n      <g>\n       <use style=\"stroke:#000000;stroke-width:0.8;\" x=\"248.9\" xlink:href=\"#m7f9633138b\" y=\"225.818424\"/>\n      </g>\n     </g>\n     <g id=\"text_13\">\n      <!-- 13 -->\n      <g transform=\"translate(251.659375 245.543424)rotate(-90)scale(0.1 -0.1)\">\n       <use xlink:href=\"#DejaVuSans-49\"/>\n       <use x=\"63.623047\" xlink:href=\"#DejaVuSans-51\"/>\n      </g>\n     </g>\n    </g>\n    <g id=\"xtick_14\">\n     <g id=\"line2d_14\">\n      <g>\n       <use style=\"stroke:#000000;stroke-width:0.8;\" x=\"265.64\" xlink:href=\"#m7f9633138b\" y=\"225.818424\"/>\n      </g>\n     </g>\n     <g id=\"text_14\">\n      <!-- 14 -->\n      <g transform=\"translate(268.399375 245.543424)rotate(-90)scale(0.1 -0.1)\">\n       <use xlink:href=\"#DejaVuSans-49\"/>\n       <use x=\"63.623047\" xlink:href=\"#DejaVuSans-52\"/>\n      </g>\n     </g>\n    </g>\n    <g id=\"xtick_15\">\n     <g id=\"line2d_15\">\n      <g>\n       <use style=\"stroke:#000000;stroke-width:0.8;\" x=\"282.38\" xlink:href=\"#m7f9633138b\" y=\"225.818424\"/>\n      </g>\n     </g>\n     <g id=\"text_15\">\n      <!-- 15 -->\n      <g transform=\"translate(285.139375 245.543424)rotate(-90)scale(0.1 -0.1)\">\n       <use xlink:href=\"#DejaVuSans-49\"/>\n       <use x=\"63.623047\" xlink:href=\"#DejaVuSans-53\"/>\n      </g>\n     </g>\n    </g>\n    <g id=\"xtick_16\">\n     <g id=\"line2d_16\">\n      <g>\n       <use style=\"stroke:#000000;stroke-width:0.8;\" x=\"299.12\" xlink:href=\"#m7f9633138b\" y=\"225.818424\"/>\n      </g>\n     </g>\n     <g id=\"text_16\">\n      <!-- 16 -->\n      <g transform=\"translate(301.879375 245.543424)rotate(-90)scale(0.1 -0.1)\">\n       <use xlink:href=\"#DejaVuSans-49\"/>\n       <use x=\"63.623047\" xlink:href=\"#DejaVuSans-54\"/>\n      </g>\n     </g>\n    </g>\n    <g id=\"xtick_17\">\n     <g id=\"line2d_17\">\n      <g>\n       <use style=\"stroke:#000000;stroke-width:0.8;\" x=\"315.86\" xlink:href=\"#m7f9633138b\" y=\"225.818424\"/>\n      </g>\n     </g>\n     <g id=\"text_17\">\n      <!-- 17 -->\n      <g transform=\"translate(318.619375 245.543424)rotate(-90)scale(0.1 -0.1)\">\n       <use xlink:href=\"#DejaVuSans-49\"/>\n       <use x=\"63.623047\" xlink:href=\"#DejaVuSans-55\"/>\n      </g>\n     </g>\n    </g>\n    <g id=\"xtick_18\">\n     <g id=\"line2d_18\">\n      <g>\n       <use style=\"stroke:#000000;stroke-width:0.8;\" x=\"332.6\" xlink:href=\"#m7f9633138b\" y=\"225.818424\"/>\n      </g>\n     </g>\n     <g id=\"text_18\">\n      <!-- 18 -->\n      <g transform=\"translate(335.359375 245.543424)rotate(-90)scale(0.1 -0.1)\">\n       <use xlink:href=\"#DejaVuSans-49\"/>\n       <use x=\"63.623047\" xlink:href=\"#DejaVuSans-56\"/>\n      </g>\n     </g>\n    </g>\n    <g id=\"xtick_19\">\n     <g id=\"line2d_19\">\n      <g>\n       <use style=\"stroke:#000000;stroke-width:0.8;\" x=\"349.34\" xlink:href=\"#m7f9633138b\" y=\"225.818424\"/>\n      </g>\n     </g>\n     <g id=\"text_19\">\n      <!-- 19 -->\n      <g transform=\"translate(352.099375 245.543424)rotate(-90)scale(0.1 -0.1)\">\n       <use xlink:href=\"#DejaVuSans-49\"/>\n       <use x=\"63.623047\" xlink:href=\"#DejaVuSans-57\"/>\n      </g>\n     </g>\n    </g>\n    <g id=\"xtick_20\">\n     <g id=\"line2d_20\">\n      <g>\n       <use style=\"stroke:#000000;stroke-width:0.8;\" x=\"366.08\" xlink:href=\"#m7f9633138b\" y=\"225.818424\"/>\n      </g>\n     </g>\n     <g id=\"text_20\">\n      <!-- 20 -->\n      <g transform=\"translate(368.839375 245.543424)rotate(-90)scale(0.1 -0.1)\">\n       <use xlink:href=\"#DejaVuSans-50\"/>\n       <use x=\"63.623047\" xlink:href=\"#DejaVuSans-48\"/>\n      </g>\n     </g>\n    </g>\n    <g id=\"text_21\">\n     <!-- level_0 -->\n     <defs>\n      <path d=\"M 9.421875 75.984375 \nL 18.40625 75.984375 \nL 18.40625 0 \nL 9.421875 0 \nz\n\" id=\"DejaVuSans-108\"/>\n      <path d=\"M 56.203125 29.59375 \nL 56.203125 25.203125 \nL 14.890625 25.203125 \nQ 15.484375 15.921875 20.484375 11.0625 \nQ 25.484375 6.203125 34.421875 6.203125 \nQ 39.59375 6.203125 44.453125 7.46875 \nQ 49.3125 8.734375 54.109375 11.28125 \nL 54.109375 2.78125 \nQ 49.265625 0.734375 44.1875 -0.34375 \nQ 39.109375 -1.421875 33.890625 -1.421875 \nQ 20.796875 -1.421875 13.15625 6.1875 \nQ 5.515625 13.8125 5.515625 26.8125 \nQ 5.515625 40.234375 12.765625 48.109375 \nQ 20.015625 56 32.328125 56 \nQ 43.359375 56 49.78125 48.890625 \nQ 56.203125 41.796875 56.203125 29.59375 \nz\nM 47.21875 32.234375 \nQ 47.125 39.59375 43.09375 43.984375 \nQ 39.0625 48.390625 32.421875 48.390625 \nQ 24.90625 48.390625 20.390625 44.140625 \nQ 15.875 39.890625 15.1875 32.171875 \nz\n\" id=\"DejaVuSans-101\"/>\n      <path d=\"M 2.984375 54.6875 \nL 12.5 54.6875 \nL 29.59375 8.796875 \nL 46.6875 54.6875 \nL 56.203125 54.6875 \nL 35.6875 0 \nL 23.484375 0 \nz\n\" id=\"DejaVuSans-118\"/>\n      <path d=\"M 50.984375 -16.609375 \nL 50.984375 -23.578125 \nL -0.984375 -23.578125 \nL -0.984375 -16.609375 \nz\n\" id=\"DejaVuSans-95\"/>\n     </defs>\n     <g transform=\"translate(189.478125 257.141862)scale(0.1 -0.1)\">\n      <use xlink:href=\"#DejaVuSans-108\"/>\n      <use x=\"27.783203\" xlink:href=\"#DejaVuSans-101\"/>\n      <use x=\"89.306641\" xlink:href=\"#DejaVuSans-118\"/>\n      <use x=\"148.486328\" xlink:href=\"#DejaVuSans-101\"/>\n      <use x=\"210.009766\" xlink:href=\"#DejaVuSans-108\"/>\n      <use x=\"237.792969\" xlink:href=\"#DejaVuSans-95\"/>\n      <use x=\"287.792969\" xlink:href=\"#DejaVuSans-48\"/>\n     </g>\n    </g>\n   </g>\n   <g id=\"matplotlib.axis_2\">\n    <g id=\"ytick_1\">\n     <g id=\"line2d_21\">\n      <defs>\n       <path d=\"M 0 0 \nL -3.5 0 \n\" id=\"m4e6c0c9433\" style=\"stroke:#000000;stroke-width:0.8;\"/>\n      </defs>\n      <g>\n       <use style=\"stroke:#000000;stroke-width:0.8;\" x=\"39.65\" xlink:href=\"#m4e6c0c9433\" y=\"225.818424\"/>\n      </g>\n     </g>\n     <g id=\"text_22\">\n      <!-- 0 -->\n      <g transform=\"translate(26.2875 229.617643)scale(0.1 -0.1)\">\n       <use xlink:href=\"#DejaVuSans-48\"/>\n      </g>\n     </g>\n    </g>\n    <g id=\"ytick_2\">\n     <g id=\"line2d_22\">\n      <g>\n       <use style=\"stroke:#000000;stroke-width:0.8;\" x=\"39.65\" xlink:href=\"#m4e6c0c9433\" y=\"182.854583\"/>\n      </g>\n     </g>\n     <g id=\"text_23\">\n      <!-- 200 -->\n      <g transform=\"translate(13.5625 186.653802)scale(0.1 -0.1)\">\n       <use xlink:href=\"#DejaVuSans-50\"/>\n       <use x=\"63.623047\" xlink:href=\"#DejaVuSans-48\"/>\n       <use x=\"127.246094\" xlink:href=\"#DejaVuSans-48\"/>\n      </g>\n     </g>\n    </g>\n    <g id=\"ytick_3\">\n     <g id=\"line2d_23\">\n      <g>\n       <use style=\"stroke:#000000;stroke-width:0.8;\" x=\"39.65\" xlink:href=\"#m4e6c0c9433\" y=\"139.890742\"/>\n      </g>\n     </g>\n     <g id=\"text_24\">\n      <!-- 400 -->\n      <g transform=\"translate(13.5625 143.689961)scale(0.1 -0.1)\">\n       <use xlink:href=\"#DejaVuSans-52\"/>\n       <use x=\"63.623047\" xlink:href=\"#DejaVuSans-48\"/>\n       <use x=\"127.246094\" xlink:href=\"#DejaVuSans-48\"/>\n      </g>\n     </g>\n    </g>\n    <g id=\"ytick_4\">\n     <g id=\"line2d_24\">\n      <g>\n       <use style=\"stroke:#000000;stroke-width:0.8;\" x=\"39.65\" xlink:href=\"#m4e6c0c9433\" y=\"96.926901\"/>\n      </g>\n     </g>\n     <g id=\"text_25\">\n      <!-- 600 -->\n      <g transform=\"translate(13.5625 100.72612)scale(0.1 -0.1)\">\n       <use xlink:href=\"#DejaVuSans-54\"/>\n       <use x=\"63.623047\" xlink:href=\"#DejaVuSans-48\"/>\n       <use x=\"127.246094\" xlink:href=\"#DejaVuSans-48\"/>\n      </g>\n     </g>\n    </g>\n    <g id=\"ytick_5\">\n     <g id=\"line2d_25\">\n      <g>\n       <use style=\"stroke:#000000;stroke-width:0.8;\" x=\"39.65\" xlink:href=\"#m4e6c0c9433\" y=\"53.96306\"/>\n      </g>\n     </g>\n     <g id=\"text_26\">\n      <!-- 800 -->\n      <g transform=\"translate(13.5625 57.762279)scale(0.1 -0.1)\">\n       <use xlink:href=\"#DejaVuSans-56\"/>\n       <use x=\"63.623047\" xlink:href=\"#DejaVuSans-48\"/>\n       <use x=\"127.246094\" xlink:href=\"#DejaVuSans-48\"/>\n      </g>\n     </g>\n    </g>\n    <g id=\"ytick_6\">\n     <g id=\"line2d_26\">\n      <g>\n       <use style=\"stroke:#000000;stroke-width:0.8;\" x=\"39.65\" xlink:href=\"#m4e6c0c9433\" y=\"10.999219\"/>\n      </g>\n     </g>\n     <g id=\"text_27\">\n      <!-- 1000 -->\n      <g transform=\"translate(7.2 14.798438)scale(0.1 -0.1)\">\n       <use xlink:href=\"#DejaVuSans-49\"/>\n       <use x=\"63.623047\" xlink:href=\"#DejaVuSans-48\"/>\n       <use x=\"127.246094\" xlink:href=\"#DejaVuSans-48\"/>\n       <use x=\"190.869141\" xlink:href=\"#DejaVuSans-48\"/>\n      </g>\n     </g>\n    </g>\n   </g>\n   <g id=\"patch_23\">\n    <path d=\"M 39.65 225.818424 \nL 39.65 8.378424 \n\" style=\"fill:none;stroke:#000000;stroke-linecap:square;stroke-linejoin:miter;stroke-width:0.8;\"/>\n   </g>\n   <g id=\"patch_24\">\n    <path d=\"M 374.45 225.818424 \nL 374.45 8.378424 \n\" style=\"fill:none;stroke:#000000;stroke-linecap:square;stroke-linejoin:miter;stroke-width:0.8;\"/>\n   </g>\n   <g id=\"patch_25\">\n    <path d=\"M 39.65 225.818424 \nL 374.45 225.818424 \n\" style=\"fill:none;stroke:#000000;stroke-linecap:square;stroke-linejoin:miter;stroke-width:0.8;\"/>\n   </g>\n   <g id=\"patch_26\">\n    <path d=\"M 39.65 8.378424 \nL 374.45 8.378424 \n\" style=\"fill:none;stroke:#000000;stroke-linecap:square;stroke-linejoin:miter;stroke-width:0.8;\"/>\n   </g>\n   <g id=\"legend_1\">\n    <g id=\"patch_27\">\n     <path d=\"M 308.089063 31.056549 \nL 367.45 31.056549 \nQ 369.45 31.056549 369.45 29.056549 \nL 369.45 15.378424 \nQ 369.45 13.378424 367.45 13.378424 \nL 308.089063 13.378424 \nQ 306.089063 13.378424 306.089063 15.378424 \nL 306.089063 29.056549 \nQ 306.089063 31.056549 308.089063 31.056549 \nz\n\" style=\"fill:#ffffff;opacity:0.8;stroke:#cccccc;stroke-linejoin:miter;\"/>\n    </g>\n    <g id=\"patch_28\">\n     <path d=\"M 310.089063 24.976862 \nL 330.089063 24.976862 \nL 330.089063 17.976862 \nL 310.089063 17.976862 \nz\n\" style=\"fill:#1f77b4;\"/>\n    </g>\n    <g id=\"text_28\">\n     <!-- index -->\n     <defs>\n      <path d=\"M 9.421875 54.6875 \nL 18.40625 54.6875 \nL 18.40625 0 \nL 9.421875 0 \nz\nM 9.421875 75.984375 \nL 18.40625 75.984375 \nL 18.40625 64.59375 \nL 9.421875 64.59375 \nz\n\" id=\"DejaVuSans-105\"/>\n      <path d=\"M 54.890625 33.015625 \nL 54.890625 0 \nL 45.90625 0 \nL 45.90625 32.71875 \nQ 45.90625 40.484375 42.875 44.328125 \nQ 39.84375 48.1875 33.796875 48.1875 \nQ 26.515625 48.1875 22.3125 43.546875 \nQ 18.109375 38.921875 18.109375 30.90625 \nL 18.109375 0 \nL 9.078125 0 \nL 9.078125 54.6875 \nL 18.109375 54.6875 \nL 18.109375 46.1875 \nQ 21.34375 51.125 25.703125 53.5625 \nQ 30.078125 56 35.796875 56 \nQ 45.21875 56 50.046875 50.171875 \nQ 54.890625 44.34375 54.890625 33.015625 \nz\n\" id=\"DejaVuSans-110\"/>\n      <path d=\"M 45.40625 46.390625 \nL 45.40625 75.984375 \nL 54.390625 75.984375 \nL 54.390625 0 \nL 45.40625 0 \nL 45.40625 8.203125 \nQ 42.578125 3.328125 38.25 0.953125 \nQ 33.9375 -1.421875 27.875 -1.421875 \nQ 17.96875 -1.421875 11.734375 6.484375 \nQ 5.515625 14.40625 5.515625 27.296875 \nQ 5.515625 40.1875 11.734375 48.09375 \nQ 17.96875 56 27.875 56 \nQ 33.9375 56 38.25 53.625 \nQ 42.578125 51.265625 45.40625 46.390625 \nz\nM 14.796875 27.296875 \nQ 14.796875 17.390625 18.875 11.75 \nQ 22.953125 6.109375 30.078125 6.109375 \nQ 37.203125 6.109375 41.296875 11.75 \nQ 45.40625 17.390625 45.40625 27.296875 \nQ 45.40625 37.203125 41.296875 42.84375 \nQ 37.203125 48.484375 30.078125 48.484375 \nQ 22.953125 48.484375 18.875 42.84375 \nQ 14.796875 37.203125 14.796875 27.296875 \nz\n\" id=\"DejaVuSans-100\"/>\n      <path d=\"M 54.890625 54.6875 \nL 35.109375 28.078125 \nL 55.90625 0 \nL 45.3125 0 \nL 29.390625 21.484375 \nL 13.484375 0 \nL 2.875 0 \nL 24.125 28.609375 \nL 4.6875 54.6875 \nL 15.28125 54.6875 \nL 29.78125 35.203125 \nL 44.28125 54.6875 \nz\n\" id=\"DejaVuSans-120\"/>\n     </defs>\n     <g transform=\"translate(338.089063 24.976862)scale(0.1 -0.1)\">\n      <use xlink:href=\"#DejaVuSans-105\"/>\n      <use x=\"27.783203\" xlink:href=\"#DejaVuSans-110\"/>\n      <use x=\"91.162109\" xlink:href=\"#DejaVuSans-100\"/>\n      <use x=\"154.638672\" xlink:href=\"#DejaVuSans-101\"/>\n      <use x=\"214.412109\" xlink:href=\"#DejaVuSans-120\"/>\n     </g>\n    </g>\n   </g>\n  </g>\n </g>\n <defs>\n  <clipPath id=\"pbcee54deea\">\n   <rect height=\"217.44\" width=\"334.8\" x=\"39.65\" y=\"8.378424\"/>\n  </clipPath>\n </defs>\n</svg>\n",
      "image/png": "[encoded data removed]"
     },
     "metadata": {
      "needs_background": "light"
     }
    }
   ],
   "source": [
    "group_1['index'].value_counts().reset_index().sort_values(by='level_0').head(20).set_index('level_0').plot(kind=\"bar\", )"
   ]
  },
  {
   "cell_type": "code",
   "execution_count": 75,
   "metadata": {},
   "outputs": [],
   "source": [
    "group_1 = df_recur_clean.groupby(['person_id']).count()[['index']]"
   ]
  },
  {
   "cell_type": "code",
   "execution_count": 76,
   "metadata": {},
   "outputs": [],
   "source": [
    "group_1.reset_index(inplace=True)"
   ]
  },
  {
   "cell_type": "code",
   "execution_count": 77,
   "metadata": {},
   "outputs": [],
   "source": [
    "data_final = df_recur_clean.merge(group_1, on= 'person_id')"
   ]
  },
  {
   "cell_type": "code",
   "execution_count": 78,
   "metadata": {},
   "outputs": [
    {
     "output_type": "execute_result",
     "data": {
      "text/plain": [
       "   index_x  lead_idd  person_id  organization_idd  event_id  \\\n",
       "0     1369     33963      33771                18    827957   \n",
       "1     1370     33963      33771                18    826679   \n",
       "2     1371     33963      33771                18    836941   \n",
       "3     1372     33963      33771                18    830093   \n",
       "4     1373     33963      33771                18    839621   \n",
       "\n",
       "                                                data  \\\n",
       "0  {\"lead_id\":33963,\"campaign_id\":101,\"form_id\":4...   \n",
       "1  {\"lead_id\":33963,\"campaign_id\":101,\"form_id\":4...   \n",
       "2  {\"lead_id\":33963,\"campaign_id\":101,\"form_id\":4...   \n",
       "3  {\"lead_id\":33963,\"campaign_id\":101,\"form_id\":4...   \n",
       "4  {\"lead_id\":33963,\"campaign_id\":101,\"form_id\":4...   \n",
       "\n",
       "                  description     id  is_subscription   amount  ...  \\\n",
       "0  DONATIONFAILED_WEBHOOK: 51  70711             True  50000.0  ...   \n",
       "1  DONATIONFAILED_WEBHOOK: 51  70711             True  50000.0  ...   \n",
       "2  DONATIONFAILED_WEBHOOK: 51  70711             True  50000.0  ...   \n",
       "3  DONATIONFAILED_WEBHOOK: 51  70711             True  50000.0  ...   \n",
       "4  DONATIONFAILED_WEBHOOK: 51  70711             True  50000.0  ...   \n",
       "\n",
       "   metadata.sessionCountryName  metadata.sessionIsp metadata.userAgentName  \\\n",
       "0                          NaN                  NaN                    NaN   \n",
       "1                          NaN                  NaN                    NaN   \n",
       "2                          NaN                  NaN                    NaN   \n",
       "3                          NaN                  NaN                    NaN   \n",
       "4                          NaN                  NaN                    NaN   \n",
       "\n",
       "   metadata.userWindowResolution  metadata.gateway.name metadata.amount  \\\n",
       "0                            NaN                    NaN             NaN   \n",
       "1                            NaN                    NaN             NaN   \n",
       "2                            NaN                    NaN             NaN   \n",
       "3                            NaN                    NaN             NaN   \n",
       "4                            NaN                    NaN             NaN   \n",
       "\n",
       "  metadata.is_subscription metadata.sessionAdminSubDiv2  operating_system  \\\n",
       "0                      NaN                          NaN        Windows NT   \n",
       "1                      NaN                          NaN        Windows NT   \n",
       "2                      NaN                          NaN        Windows NT   \n",
       "3                      NaN                          NaN        Windows NT   \n",
       "4                      NaN                          NaN        Windows NT   \n",
       "\n",
       "   index_y  \n",
       "0        7  \n",
       "1        7  \n",
       "2        7  \n",
       "3        7  \n",
       "4        7  \n",
       "\n",
       "[5 rows x 73 columns]"
      ],
      "text/html": "<div>\n<style scoped>\n    .dataframe tbody tr th:only-of-type {\n        vertical-align: middle;\n    }\n\n    .dataframe tbody tr th {\n        vertical-align: top;\n    }\n\n    .dataframe thead th {\n        text-align: right;\n    }\n</style>\n<table border=\"1\" class=\"dataframe\">\n  <thead>\n    <tr style=\"text-align: right;\">\n      <th></th>\n      <th>index_x</th>\n      <th>lead_idd</th>\n      <th>person_id</th>\n      <th>organization_idd</th>\n      <th>event_id</th>\n      <th>data</th>\n      <th>description</th>\n      <th>id</th>\n      <th>is_subscription</th>\n      <th>amount</th>\n      <th>...</th>\n      <th>metadata.sessionCountryName</th>\n      <th>metadata.sessionIsp</th>\n      <th>metadata.userAgentName</th>\n      <th>metadata.userWindowResolution</th>\n      <th>metadata.gateway.name</th>\n      <th>metadata.amount</th>\n      <th>metadata.is_subscription</th>\n      <th>metadata.sessionAdminSubDiv2</th>\n      <th>operating_system</th>\n      <th>index_y</th>\n    </tr>\n  </thead>\n  <tbody>\n    <tr>\n      <th>0</th>\n      <td>1369</td>\n      <td>33963</td>\n      <td>33771</td>\n      <td>18</td>\n      <td>827957</td>\n      <td>{\"lead_id\":33963,\"campaign_id\":101,\"form_id\":4...</td>\n      <td>DONATIONFAILED_WEBHOOK: 51</td>\n      <td>70711</td>\n      <td>True</td>\n      <td>50000.0</td>\n      <td>...</td>\n      <td>NaN</td>\n      <td>NaN</td>\n      <td>NaN</td>\n      <td>NaN</td>\n      <td>NaN</td>\n      <td>NaN</td>\n      <td>NaN</td>\n      <td>NaN</td>\n      <td>Windows NT</td>\n      <td>7</td>\n    </tr>\n    <tr>\n      <th>1</th>\n      <td>1370</td>\n      <td>33963</td>\n      <td>33771</td>\n      <td>18</td>\n      <td>826679</td>\n      <td>{\"lead_id\":33963,\"campaign_id\":101,\"form_id\":4...</td>\n      <td>DONATIONFAILED_WEBHOOK: 51</td>\n      <td>70711</td>\n      <td>True</td>\n      <td>50000.0</td>\n      <td>...</td>\n      <td>NaN</td>\n      <td>NaN</td>\n      <td>NaN</td>\n      <td>NaN</td>\n      <td>NaN</td>\n      <td>NaN</td>\n      <td>NaN</td>\n      <td>NaN</td>\n      <td>Windows NT</td>\n      <td>7</td>\n    </tr>\n    <tr>\n      <th>2</th>\n      <td>1371</td>\n      <td>33963</td>\n      <td>33771</td>\n      <td>18</td>\n      <td>836941</td>\n      <td>{\"lead_id\":33963,\"campaign_id\":101,\"form_id\":4...</td>\n      <td>DONATIONFAILED_WEBHOOK: 51</td>\n      <td>70711</td>\n      <td>True</td>\n      <td>50000.0</td>\n      <td>...</td>\n      <td>NaN</td>\n      <td>NaN</td>\n      <td>NaN</td>\n      <td>NaN</td>\n      <td>NaN</td>\n      <td>NaN</td>\n      <td>NaN</td>\n      <td>NaN</td>\n      <td>Windows NT</td>\n      <td>7</td>\n    </tr>\n    <tr>\n      <th>3</th>\n      <td>1372</td>\n      <td>33963</td>\n      <td>33771</td>\n      <td>18</td>\n      <td>830093</td>\n      <td>{\"lead_id\":33963,\"campaign_id\":101,\"form_id\":4...</td>\n      <td>DONATIONFAILED_WEBHOOK: 51</td>\n      <td>70711</td>\n      <td>True</td>\n      <td>50000.0</td>\n      <td>...</td>\n      <td>NaN</td>\n      <td>NaN</td>\n      <td>NaN</td>\n      <td>NaN</td>\n      <td>NaN</td>\n      <td>NaN</td>\n      <td>NaN</td>\n      <td>NaN</td>\n      <td>Windows NT</td>\n      <td>7</td>\n    </tr>\n    <tr>\n      <th>4</th>\n      <td>1373</td>\n      <td>33963</td>\n      <td>33771</td>\n      <td>18</td>\n      <td>839621</td>\n      <td>{\"lead_id\":33963,\"campaign_id\":101,\"form_id\":4...</td>\n      <td>DONATIONFAILED_WEBHOOK: 51</td>\n      <td>70711</td>\n      <td>True</td>\n      <td>50000.0</td>\n      <td>...</td>\n      <td>NaN</td>\n      <td>NaN</td>\n      <td>NaN</td>\n      <td>NaN</td>\n      <td>NaN</td>\n      <td>NaN</td>\n      <td>NaN</td>\n      <td>NaN</td>\n      <td>Windows NT</td>\n      <td>7</td>\n    </tr>\n  </tbody>\n</table>\n<p>5 rows × 73 columns</p>\n</div>"
     },
     "metadata": {},
     "execution_count": 78
    }
   ],
   "source": [
    "data_final.head()"
   ]
  },
  {
   "cell_type": "code",
   "execution_count": 79,
   "metadata": {},
   "outputs": [],
   "source": [
    "# Criação da variável Target - Acima de 3 doações não é churn / 1 a 3 é churn"
   ]
  },
  {
   "cell_type": "code",
   "execution_count": 80,
   "metadata": {},
   "outputs": [],
   "source": [
    "data_final['churn'] = data_final['index_y'].apply(lambda x : 1 if x <= 3  else 0)"
   ]
  },
  {
   "cell_type": "code",
   "execution_count": 81,
   "metadata": {},
   "outputs": [
    {
     "output_type": "execute_result",
     "data": {
      "text/plain": [
       "       churn  index_y\n",
       "0          0        7\n",
       "1          0        7\n",
       "2          0        7\n",
       "3          0        7\n",
       "4          0        7\n",
       "...      ...      ...\n",
       "72568      1        2\n",
       "72569      1        3\n",
       "72570      1        3\n",
       "72571      1        3\n",
       "72572      1        1\n",
       "\n",
       "[72573 rows x 2 columns]"
      ],
      "text/html": "<div>\n<style scoped>\n    .dataframe tbody tr th:only-of-type {\n        vertical-align: middle;\n    }\n\n    .dataframe tbody tr th {\n        vertical-align: top;\n    }\n\n    .dataframe thead th {\n        text-align: right;\n    }\n</style>\n<table border=\"1\" class=\"dataframe\">\n  <thead>\n    <tr style=\"text-align: right;\">\n      <th></th>\n      <th>churn</th>\n      <th>index_y</th>\n    </tr>\n  </thead>\n  <tbody>\n    <tr>\n      <th>0</th>\n      <td>0</td>\n      <td>7</td>\n    </tr>\n    <tr>\n      <th>1</th>\n      <td>0</td>\n      <td>7</td>\n    </tr>\n    <tr>\n      <th>2</th>\n      <td>0</td>\n      <td>7</td>\n    </tr>\n    <tr>\n      <th>3</th>\n      <td>0</td>\n      <td>7</td>\n    </tr>\n    <tr>\n      <th>4</th>\n      <td>0</td>\n      <td>7</td>\n    </tr>\n    <tr>\n      <th>...</th>\n      <td>...</td>\n      <td>...</td>\n    </tr>\n    <tr>\n      <th>72568</th>\n      <td>1</td>\n      <td>2</td>\n    </tr>\n    <tr>\n      <th>72569</th>\n      <td>1</td>\n      <td>3</td>\n    </tr>\n    <tr>\n      <th>72570</th>\n      <td>1</td>\n      <td>3</td>\n    </tr>\n    <tr>\n      <th>72571</th>\n      <td>1</td>\n      <td>3</td>\n    </tr>\n    <tr>\n      <th>72572</th>\n      <td>1</td>\n      <td>1</td>\n    </tr>\n  </tbody>\n</table>\n<p>72573 rows × 2 columns</p>\n</div>"
     },
     "metadata": {},
     "execution_count": 81
    }
   ],
   "source": [
    "data_final[['churn','index_y']]"
   ]
  },
  {
   "cell_type": "code",
   "execution_count": 82,
   "metadata": {},
   "outputs": [
    {
     "output_type": "execute_result",
     "data": {
      "text/plain": [
       "   index_x  lead_idd  person_id  organization_idd  event_id  \\\n",
       "0     1369     33963      33771                18    827957   \n",
       "1     1370     33963      33771                18    826679   \n",
       "2     1371     33963      33771                18    836941   \n",
       "3     1372     33963      33771                18    830093   \n",
       "4     1373     33963      33771                18    839621   \n",
       "\n",
       "                                                data  \\\n",
       "0  {\"lead_id\":33963,\"campaign_id\":101,\"form_id\":4...   \n",
       "1  {\"lead_id\":33963,\"campaign_id\":101,\"form_id\":4...   \n",
       "2  {\"lead_id\":33963,\"campaign_id\":101,\"form_id\":4...   \n",
       "3  {\"lead_id\":33963,\"campaign_id\":101,\"form_id\":4...   \n",
       "4  {\"lead_id\":33963,\"campaign_id\":101,\"form_id\":4...   \n",
       "\n",
       "                  description     id  is_subscription   amount  ...  \\\n",
       "0  DONATIONFAILED_WEBHOOK: 51  70711             True  50000.0  ...   \n",
       "1  DONATIONFAILED_WEBHOOK: 51  70711             True  50000.0  ...   \n",
       "2  DONATIONFAILED_WEBHOOK: 51  70711             True  50000.0  ...   \n",
       "3  DONATIONFAILED_WEBHOOK: 51  70711             True  50000.0  ...   \n",
       "4  DONATIONFAILED_WEBHOOK: 51  70711             True  50000.0  ...   \n",
       "\n",
       "   metadata.sessionIsp  metadata.userAgentName metadata.userWindowResolution  \\\n",
       "0                  NaN                     NaN                           NaN   \n",
       "1                  NaN                     NaN                           NaN   \n",
       "2                  NaN                     NaN                           NaN   \n",
       "3                  NaN                     NaN                           NaN   \n",
       "4                  NaN                     NaN                           NaN   \n",
       "\n",
       "   metadata.gateway.name  metadata.amount metadata.is_subscription  \\\n",
       "0                    NaN              NaN                      NaN   \n",
       "1                    NaN              NaN                      NaN   \n",
       "2                    NaN              NaN                      NaN   \n",
       "3                    NaN              NaN                      NaN   \n",
       "4                    NaN              NaN                      NaN   \n",
       "\n",
       "  metadata.sessionAdminSubDiv2 operating_system  index_y  churn  \n",
       "0                          NaN       Windows NT        7      0  \n",
       "1                          NaN       Windows NT        7      0  \n",
       "2                          NaN       Windows NT        7      0  \n",
       "3                          NaN       Windows NT        7      0  \n",
       "4                          NaN       Windows NT        7      0  \n",
       "\n",
       "[5 rows x 74 columns]"
      ],
      "text/html": "<div>\n<style scoped>\n    .dataframe tbody tr th:only-of-type {\n        vertical-align: middle;\n    }\n\n    .dataframe tbody tr th {\n        vertical-align: top;\n    }\n\n    .dataframe thead th {\n        text-align: right;\n    }\n</style>\n<table border=\"1\" class=\"dataframe\">\n  <thead>\n    <tr style=\"text-align: right;\">\n      <th></th>\n      <th>index_x</th>\n      <th>lead_idd</th>\n      <th>person_id</th>\n      <th>organization_idd</th>\n      <th>event_id</th>\n      <th>data</th>\n      <th>description</th>\n      <th>id</th>\n      <th>is_subscription</th>\n      <th>amount</th>\n      <th>...</th>\n      <th>metadata.sessionIsp</th>\n      <th>metadata.userAgentName</th>\n      <th>metadata.userWindowResolution</th>\n      <th>metadata.gateway.name</th>\n      <th>metadata.amount</th>\n      <th>metadata.is_subscription</th>\n      <th>metadata.sessionAdminSubDiv2</th>\n      <th>operating_system</th>\n      <th>index_y</th>\n      <th>churn</th>\n    </tr>\n  </thead>\n  <tbody>\n    <tr>\n      <th>0</th>\n      <td>1369</td>\n      <td>33963</td>\n      <td>33771</td>\n      <td>18</td>\n      <td>827957</td>\n      <td>{\"lead_id\":33963,\"campaign_id\":101,\"form_id\":4...</td>\n      <td>DONATIONFAILED_WEBHOOK: 51</td>\n      <td>70711</td>\n      <td>True</td>\n      <td>50000.0</td>\n      <td>...</td>\n      <td>NaN</td>\n      <td>NaN</td>\n      <td>NaN</td>\n      <td>NaN</td>\n      <td>NaN</td>\n      <td>NaN</td>\n      <td>NaN</td>\n      <td>Windows NT</td>\n      <td>7</td>\n      <td>0</td>\n    </tr>\n    <tr>\n      <th>1</th>\n      <td>1370</td>\n      <td>33963</td>\n      <td>33771</td>\n      <td>18</td>\n      <td>826679</td>\n      <td>{\"lead_id\":33963,\"campaign_id\":101,\"form_id\":4...</td>\n      <td>DONATIONFAILED_WEBHOOK: 51</td>\n      <td>70711</td>\n      <td>True</td>\n      <td>50000.0</td>\n      <td>...</td>\n      <td>NaN</td>\n      <td>NaN</td>\n      <td>NaN</td>\n      <td>NaN</td>\n      <td>NaN</td>\n      <td>NaN</td>\n      <td>NaN</td>\n      <td>Windows NT</td>\n      <td>7</td>\n      <td>0</td>\n    </tr>\n    <tr>\n      <th>2</th>\n      <td>1371</td>\n      <td>33963</td>\n      <td>33771</td>\n      <td>18</td>\n      <td>836941</td>\n      <td>{\"lead_id\":33963,\"campaign_id\":101,\"form_id\":4...</td>\n      <td>DONATIONFAILED_WEBHOOK: 51</td>\n      <td>70711</td>\n      <td>True</td>\n      <td>50000.0</td>\n      <td>...</td>\n      <td>NaN</td>\n      <td>NaN</td>\n      <td>NaN</td>\n      <td>NaN</td>\n      <td>NaN</td>\n      <td>NaN</td>\n      <td>NaN</td>\n      <td>Windows NT</td>\n      <td>7</td>\n      <td>0</td>\n    </tr>\n    <tr>\n      <th>3</th>\n      <td>1372</td>\n      <td>33963</td>\n      <td>33771</td>\n      <td>18</td>\n      <td>830093</td>\n      <td>{\"lead_id\":33963,\"campaign_id\":101,\"form_id\":4...</td>\n      <td>DONATIONFAILED_WEBHOOK: 51</td>\n      <td>70711</td>\n      <td>True</td>\n      <td>50000.0</td>\n      <td>...</td>\n      <td>NaN</td>\n      <td>NaN</td>\n      <td>NaN</td>\n      <td>NaN</td>\n      <td>NaN</td>\n      <td>NaN</td>\n      <td>NaN</td>\n      <td>Windows NT</td>\n      <td>7</td>\n      <td>0</td>\n    </tr>\n    <tr>\n      <th>4</th>\n      <td>1373</td>\n      <td>33963</td>\n      <td>33771</td>\n      <td>18</td>\n      <td>839621</td>\n      <td>{\"lead_id\":33963,\"campaign_id\":101,\"form_id\":4...</td>\n      <td>DONATIONFAILED_WEBHOOK: 51</td>\n      <td>70711</td>\n      <td>True</td>\n      <td>50000.0</td>\n      <td>...</td>\n      <td>NaN</td>\n      <td>NaN</td>\n      <td>NaN</td>\n      <td>NaN</td>\n      <td>NaN</td>\n      <td>NaN</td>\n      <td>NaN</td>\n      <td>Windows NT</td>\n      <td>7</td>\n      <td>0</td>\n    </tr>\n  </tbody>\n</table>\n<p>5 rows × 74 columns</p>\n</div>"
     },
     "metadata": {},
     "execution_count": 82
    }
   ],
   "source": [
    "data_final.head()"
   ]
  },
  {
   "cell_type": "code",
   "execution_count": 83,
   "metadata": {},
   "outputs": [],
   "source": [
    "# Dropando as linhas com lead_id 14 e 15 que eram testes\n",
    "mask = data_final['person_id'].isin ([14,15]) "
   ]
  },
  {
   "cell_type": "code",
   "execution_count": 84,
   "metadata": {},
   "outputs": [],
   "source": [
    "data_final = data_final.loc[~mask] "
   ]
  },
  {
   "cell_type": "code",
   "execution_count": 85,
   "metadata": {},
   "outputs": [
    {
     "output_type": "execute_result",
     "data": {
      "text/plain": [
       "   index_x  lead_idd  person_id  organization_idd  event_id  \\\n",
       "0     1369     33963      33771                18    827957   \n",
       "1     1370     33963      33771                18    826679   \n",
       "2     1371     33963      33771                18    836941   \n",
       "3     1372     33963      33771                18    830093   \n",
       "4     1373     33963      33771                18    839621   \n",
       "\n",
       "                                                data  \\\n",
       "0  {\"lead_id\":33963,\"campaign_id\":101,\"form_id\":4...   \n",
       "1  {\"lead_id\":33963,\"campaign_id\":101,\"form_id\":4...   \n",
       "2  {\"lead_id\":33963,\"campaign_id\":101,\"form_id\":4...   \n",
       "3  {\"lead_id\":33963,\"campaign_id\":101,\"form_id\":4...   \n",
       "4  {\"lead_id\":33963,\"campaign_id\":101,\"form_id\":4...   \n",
       "\n",
       "                  description     id  is_subscription   amount  ...  \\\n",
       "0  DONATIONFAILED_WEBHOOK: 51  70711             True  50000.0  ...   \n",
       "1  DONATIONFAILED_WEBHOOK: 51  70711             True  50000.0  ...   \n",
       "2  DONATIONFAILED_WEBHOOK: 51  70711             True  50000.0  ...   \n",
       "3  DONATIONFAILED_WEBHOOK: 51  70711             True  50000.0  ...   \n",
       "4  DONATIONFAILED_WEBHOOK: 51  70711             True  50000.0  ...   \n",
       "\n",
       "   metadata.sessionIsp  metadata.userAgentName metadata.userWindowResolution  \\\n",
       "0                  NaN                     NaN                           NaN   \n",
       "1                  NaN                     NaN                           NaN   \n",
       "2                  NaN                     NaN                           NaN   \n",
       "3                  NaN                     NaN                           NaN   \n",
       "4                  NaN                     NaN                           NaN   \n",
       "\n",
       "   metadata.gateway.name  metadata.amount metadata.is_subscription  \\\n",
       "0                    NaN              NaN                      NaN   \n",
       "1                    NaN              NaN                      NaN   \n",
       "2                    NaN              NaN                      NaN   \n",
       "3                    NaN              NaN                      NaN   \n",
       "4                    NaN              NaN                      NaN   \n",
       "\n",
       "  metadata.sessionAdminSubDiv2 operating_system  index_y  churn  \n",
       "0                          NaN       Windows NT        7      0  \n",
       "1                          NaN       Windows NT        7      0  \n",
       "2                          NaN       Windows NT        7      0  \n",
       "3                          NaN       Windows NT        7      0  \n",
       "4                          NaN       Windows NT        7      0  \n",
       "\n",
       "[5 rows x 74 columns]"
      ],
      "text/html": "<div>\n<style scoped>\n    .dataframe tbody tr th:only-of-type {\n        vertical-align: middle;\n    }\n\n    .dataframe tbody tr th {\n        vertical-align: top;\n    }\n\n    .dataframe thead th {\n        text-align: right;\n    }\n</style>\n<table border=\"1\" class=\"dataframe\">\n  <thead>\n    <tr style=\"text-align: right;\">\n      <th></th>\n      <th>index_x</th>\n      <th>lead_idd</th>\n      <th>person_id</th>\n      <th>organization_idd</th>\n      <th>event_id</th>\n      <th>data</th>\n      <th>description</th>\n      <th>id</th>\n      <th>is_subscription</th>\n      <th>amount</th>\n      <th>...</th>\n      <th>metadata.sessionIsp</th>\n      <th>metadata.userAgentName</th>\n      <th>metadata.userWindowResolution</th>\n      <th>metadata.gateway.name</th>\n      <th>metadata.amount</th>\n      <th>metadata.is_subscription</th>\n      <th>metadata.sessionAdminSubDiv2</th>\n      <th>operating_system</th>\n      <th>index_y</th>\n      <th>churn</th>\n    </tr>\n  </thead>\n  <tbody>\n    <tr>\n      <th>0</th>\n      <td>1369</td>\n      <td>33963</td>\n      <td>33771</td>\n      <td>18</td>\n      <td>827957</td>\n      <td>{\"lead_id\":33963,\"campaign_id\":101,\"form_id\":4...</td>\n      <td>DONATIONFAILED_WEBHOOK: 51</td>\n      <td>70711</td>\n      <td>True</td>\n      <td>50000.0</td>\n      <td>...</td>\n      <td>NaN</td>\n      <td>NaN</td>\n      <td>NaN</td>\n      <td>NaN</td>\n      <td>NaN</td>\n      <td>NaN</td>\n      <td>NaN</td>\n      <td>Windows NT</td>\n      <td>7</td>\n      <td>0</td>\n    </tr>\n    <tr>\n      <th>1</th>\n      <td>1370</td>\n      <td>33963</td>\n      <td>33771</td>\n      <td>18</td>\n      <td>826679</td>\n      <td>{\"lead_id\":33963,\"campaign_id\":101,\"form_id\":4...</td>\n      <td>DONATIONFAILED_WEBHOOK: 51</td>\n      <td>70711</td>\n      <td>True</td>\n      <td>50000.0</td>\n      <td>...</td>\n      <td>NaN</td>\n      <td>NaN</td>\n      <td>NaN</td>\n      <td>NaN</td>\n      <td>NaN</td>\n      <td>NaN</td>\n      <td>NaN</td>\n      <td>Windows NT</td>\n      <td>7</td>\n      <td>0</td>\n    </tr>\n    <tr>\n      <th>2</th>\n      <td>1371</td>\n      <td>33963</td>\n      <td>33771</td>\n      <td>18</td>\n      <td>836941</td>\n      <td>{\"lead_id\":33963,\"campaign_id\":101,\"form_id\":4...</td>\n      <td>DONATIONFAILED_WEBHOOK: 51</td>\n      <td>70711</td>\n      <td>True</td>\n      <td>50000.0</td>\n      <td>...</td>\n      <td>NaN</td>\n      <td>NaN</td>\n      <td>NaN</td>\n      <td>NaN</td>\n      <td>NaN</td>\n      <td>NaN</td>\n      <td>NaN</td>\n      <td>Windows NT</td>\n      <td>7</td>\n      <td>0</td>\n    </tr>\n    <tr>\n      <th>3</th>\n      <td>1372</td>\n      <td>33963</td>\n      <td>33771</td>\n      <td>18</td>\n      <td>830093</td>\n      <td>{\"lead_id\":33963,\"campaign_id\":101,\"form_id\":4...</td>\n      <td>DONATIONFAILED_WEBHOOK: 51</td>\n      <td>70711</td>\n      <td>True</td>\n      <td>50000.0</td>\n      <td>...</td>\n      <td>NaN</td>\n      <td>NaN</td>\n      <td>NaN</td>\n      <td>NaN</td>\n      <td>NaN</td>\n      <td>NaN</td>\n      <td>NaN</td>\n      <td>Windows NT</td>\n      <td>7</td>\n      <td>0</td>\n    </tr>\n    <tr>\n      <th>4</th>\n      <td>1373</td>\n      <td>33963</td>\n      <td>33771</td>\n      <td>18</td>\n      <td>839621</td>\n      <td>{\"lead_id\":33963,\"campaign_id\":101,\"form_id\":4...</td>\n      <td>DONATIONFAILED_WEBHOOK: 51</td>\n      <td>70711</td>\n      <td>True</td>\n      <td>50000.0</td>\n      <td>...</td>\n      <td>NaN</td>\n      <td>NaN</td>\n      <td>NaN</td>\n      <td>NaN</td>\n      <td>NaN</td>\n      <td>NaN</td>\n      <td>NaN</td>\n      <td>Windows NT</td>\n      <td>7</td>\n      <td>0</td>\n    </tr>\n  </tbody>\n</table>\n<p>5 rows × 74 columns</p>\n</div>"
     },
     "metadata": {},
     "execution_count": 85
    }
   ],
   "source": [
    "data_final.head()"
   ]
  },
  {
   "cell_type": "code",
   "execution_count": 86,
   "metadata": {},
   "outputs": [],
   "source": [
    "from sklearn.model_selection import train_test_split"
   ]
  },
  {
   "cell_type": "code",
   "execution_count": 142,
   "metadata": {},
   "outputs": [],
   "source": [
    "X = data_final.drop(['churn'], axis=1)\n",
    "y = data_final['churn']\n",
    "X_train,X_test,y_train,y_test = train_test_split(X,y,random_state=0)"
   ]
  },
  {
   "cell_type": "code",
   "execution_count": 88,
   "metadata": {},
   "outputs": [
    {
     "output_type": "stream",
     "name": "stdout",
     "text": [
      "Dados de treino (44433, 73)\n\n\nDados de teste (14811, 73)\n"
     ]
    }
   ],
   "source": [
    "print ('Dados de treino {}'.format(X_train.shape))\n",
    "print('\\n')\n",
    "print('Dados de teste {}'.format(X_test.shape))"
   ]
  },
  {
   "cell_type": "code",
   "execution_count": 89,
   "metadata": {},
   "outputs": [
    {
     "output_type": "stream",
     "name": "stdout",
     "text": [
      "(100, 10)\n"
     ]
    }
   ],
   "source": [
    "# pearson's correlation feature selection for numeric input and numeric output\n",
    "from sklearn.datasets import make_regression\n",
    "from sklearn.feature_selection import SelectKBest\n",
    "from sklearn.feature_selection import f_regression\n",
    "# generate dataset\n",
    "X, y = make_regression(n_samples=100, n_features=100, n_informative=10)\n",
    "# define feature selection\n",
    "fs = SelectKBest(score_func=f_regression, k=10)\n",
    "# apply feature selection\n",
    "X_selected = fs.fit_transform(X, y)\n",
    "print(X_selected.shape)"
   ]
  },
  {
   "cell_type": "code",
   "execution_count": null,
   "metadata": {},
   "outputs": [],
   "source": []
  },
  {
   "cell_type": "code",
   "execution_count": null,
   "metadata": {},
   "outputs": [],
   "source": []
  },
  {
   "cell_type": "code",
   "execution_count": null,
   "metadata": {},
   "outputs": [],
   "source": []
  },
  {
   "cell_type": "code",
   "execution_count": null,
   "metadata": {},
   "outputs": [],
   "source": []
  },
  {
   "cell_type": "code",
   "execution_count": 92,
   "metadata": {},
   "outputs": [],
   "source": [
    "# Survivel Analisis "
   ]
  },
  {
   "cell_type": "code",
   "execution_count": 90,
   "metadata": {},
   "outputs": [
    {
     "output_type": "stream",
     "name": "stdout",
     "text": [
      "Requirement already satisfied: cufflinks in /Users/diegorodrigues/opt/anaconda3/lib/python3.8/site-packages (0.17.3)\n",
      "Requirement already satisfied: pandas>=0.19.2 in /Users/diegorodrigues/opt/anaconda3/lib/python3.8/site-packages (from cufflinks) (1.0.5)\n",
      "Requirement already satisfied: six>=1.9.0 in /Users/diegorodrigues/opt/anaconda3/lib/python3.8/site-packages (from cufflinks) (1.15.0)\n",
      "Requirement already satisfied: colorlover>=0.2.1 in /Users/diegorodrigues/opt/anaconda3/lib/python3.8/site-packages (from cufflinks) (0.3.0)\n",
      "Requirement already satisfied: setuptools>=34.4.1 in /Users/diegorodrigues/opt/anaconda3/lib/python3.8/site-packages (from cufflinks) (49.2.0.post20200714)\n",
      "Requirement already satisfied: ipywidgets>=7.0.0 in /Users/diegorodrigues/opt/anaconda3/lib/python3.8/site-packages (from cufflinks) (7.5.1)\n",
      "Requirement already satisfied: plotly>=4.1.1 in /Users/diegorodrigues/opt/anaconda3/lib/python3.8/site-packages (from cufflinks) (4.14.1)\n",
      "Requirement already satisfied: ipython>=5.3.0 in /Users/diegorodrigues/opt/anaconda3/lib/python3.8/site-packages (from cufflinks) (7.16.1)\n",
      "Requirement already satisfied: numpy>=1.9.2 in /Users/diegorodrigues/opt/anaconda3/lib/python3.8/site-packages (from cufflinks) (1.18.5)\n",
      "Requirement already satisfied: python-dateutil>=2.6.1 in /Users/diegorodrigues/opt/anaconda3/lib/python3.8/site-packages (from pandas>=0.19.2->cufflinks) (2.8.1)\n",
      "Requirement already satisfied: pytz>=2017.2 in /Users/diegorodrigues/opt/anaconda3/lib/python3.8/site-packages (from pandas>=0.19.2->cufflinks) (2020.1)\n",
      "Requirement already satisfied: nbformat>=4.2.0 in /Users/diegorodrigues/opt/anaconda3/lib/python3.8/site-packages (from ipywidgets>=7.0.0->cufflinks) (5.0.7)\n",
      "Requirement already satisfied: widgetsnbextension~=3.5.0 in /Users/diegorodrigues/opt/anaconda3/lib/python3.8/site-packages (from ipywidgets>=7.0.0->cufflinks) (3.5.1)\n",
      "Requirement already satisfied: ipykernel>=4.5.1 in /Users/diegorodrigues/opt/anaconda3/lib/python3.8/site-packages (from ipywidgets>=7.0.0->cufflinks) (5.3.2)\n",
      "Requirement already satisfied: traitlets>=4.3.1 in /Users/diegorodrigues/opt/anaconda3/lib/python3.8/site-packages (from ipywidgets>=7.0.0->cufflinks) (4.3.3)\n",
      "Requirement already satisfied: retrying>=1.3.3 in /Users/diegorodrigues/opt/anaconda3/lib/python3.8/site-packages (from plotly>=4.1.1->cufflinks) (1.3.3)\n",
      "Requirement already satisfied: backcall in /Users/diegorodrigues/opt/anaconda3/lib/python3.8/site-packages (from ipython>=5.3.0->cufflinks) (0.2.0)\n",
      "Requirement already satisfied: pygments in /Users/diegorodrigues/opt/anaconda3/lib/python3.8/site-packages (from ipython>=5.3.0->cufflinks) (2.6.1)\n",
      "Requirement already satisfied: pickleshare in /Users/diegorodrigues/opt/anaconda3/lib/python3.8/site-packages (from ipython>=5.3.0->cufflinks) (0.7.5)\n",
      "Requirement already satisfied: decorator in /Users/diegorodrigues/opt/anaconda3/lib/python3.8/site-packages (from ipython>=5.3.0->cufflinks) (4.4.2)\n",
      "Requirement already satisfied: jedi>=0.10 in /Users/diegorodrigues/opt/anaconda3/lib/python3.8/site-packages (from ipython>=5.3.0->cufflinks) (0.17.1)\n",
      "Requirement already satisfied: appnope; sys_platform == \"darwin\" in /Users/diegorodrigues/opt/anaconda3/lib/python3.8/site-packages (from ipython>=5.3.0->cufflinks) (0.1.0)\n",
      "Requirement already satisfied: pexpect; sys_platform != \"win32\" in /Users/diegorodrigues/opt/anaconda3/lib/python3.8/site-packages (from ipython>=5.3.0->cufflinks) (4.8.0)\n",
      "Requirement already satisfied: prompt-toolkit!=3.0.0,!=3.0.1,<3.1.0,>=2.0.0 in /Users/diegorodrigues/opt/anaconda3/lib/python3.8/site-packages (from ipython>=5.3.0->cufflinks) (3.0.5)\n",
      "Requirement already satisfied: jupyter-core in /Users/diegorodrigues/opt/anaconda3/lib/python3.8/site-packages (from nbformat>=4.2.0->ipywidgets>=7.0.0->cufflinks) (4.6.3)\n",
      "Requirement already satisfied: ipython-genutils in /Users/diegorodrigues/opt/anaconda3/lib/python3.8/site-packages (from nbformat>=4.2.0->ipywidgets>=7.0.0->cufflinks) (0.2.0)\n",
      "Requirement already satisfied: jsonschema!=2.5.0,>=2.4 in /Users/diegorodrigues/opt/anaconda3/lib/python3.8/site-packages (from nbformat>=4.2.0->ipywidgets>=7.0.0->cufflinks) (3.2.0)\n",
      "Requirement already satisfied: notebook>=4.4.1 in /Users/diegorodrigues/opt/anaconda3/lib/python3.8/site-packages (from widgetsnbextension~=3.5.0->ipywidgets>=7.0.0->cufflinks) (6.0.3)\n",
      "Requirement already satisfied: tornado>=4.2 in /Users/diegorodrigues/opt/anaconda3/lib/python3.8/site-packages (from ipykernel>=4.5.1->ipywidgets>=7.0.0->cufflinks) (6.0.4)\n",
      "Requirement already satisfied: jupyter-client in /Users/diegorodrigues/opt/anaconda3/lib/python3.8/site-packages (from ipykernel>=4.5.1->ipywidgets>=7.0.0->cufflinks) (6.1.6)\n",
      "Requirement already satisfied: parso<0.8.0,>=0.7.0 in /Users/diegorodrigues/opt/anaconda3/lib/python3.8/site-packages (from jedi>=0.10->ipython>=5.3.0->cufflinks) (0.7.0)\n",
      "Requirement already satisfied: ptyprocess>=0.5 in /Users/diegorodrigues/opt/anaconda3/lib/python3.8/site-packages (from pexpect; sys_platform != \"win32\"->ipython>=5.3.0->cufflinks) (0.6.0)\n",
      "Requirement already satisfied: wcwidth in /Users/diegorodrigues/opt/anaconda3/lib/python3.8/site-packages (from prompt-toolkit!=3.0.0,!=3.0.1,<3.1.0,>=2.0.0->ipython>=5.3.0->cufflinks) (0.2.5)\n",
      "Requirement already satisfied: pyrsistent>=0.14.0 in /Users/diegorodrigues/opt/anaconda3/lib/python3.8/site-packages (from jsonschema!=2.5.0,>=2.4->nbformat>=4.2.0->ipywidgets>=7.0.0->cufflinks) (0.16.0)\n",
      "Requirement already satisfied: attrs>=17.4.0 in /Users/diegorodrigues/opt/anaconda3/lib/python3.8/site-packages (from jsonschema!=2.5.0,>=2.4->nbformat>=4.2.0->ipywidgets>=7.0.0->cufflinks) (19.3.0)\n",
      "Requirement already satisfied: terminado>=0.8.1 in /Users/diegorodrigues/opt/anaconda3/lib/python3.8/site-packages (from notebook>=4.4.1->widgetsnbextension~=3.5.0->ipywidgets>=7.0.0->cufflinks) (0.8.3)\n",
      "Requirement already satisfied: nbconvert in /Users/diegorodrigues/opt/anaconda3/lib/python3.8/site-packages (from notebook>=4.4.1->widgetsnbextension~=3.5.0->ipywidgets>=7.0.0->cufflinks) (5.6.1)\n",
      "Requirement already satisfied: prometheus-client in /Users/diegorodrigues/opt/anaconda3/lib/python3.8/site-packages (from notebook>=4.4.1->widgetsnbextension~=3.5.0->ipywidgets>=7.0.0->cufflinks) (0.8.0)\n",
      "Requirement already satisfied: pyzmq>=17 in /Users/diegorodrigues/opt/anaconda3/lib/python3.8/site-packages (from notebook>=4.4.1->widgetsnbextension~=3.5.0->ipywidgets>=7.0.0->cufflinks) (19.0.1)\n",
      "Requirement already satisfied: Send2Trash in /Users/diegorodrigues/opt/anaconda3/lib/python3.8/site-packages (from notebook>=4.4.1->widgetsnbextension~=3.5.0->ipywidgets>=7.0.0->cufflinks) (1.5.0)\n",
      "Requirement already satisfied: jinja2 in /Users/diegorodrigues/opt/anaconda3/lib/python3.8/site-packages (from notebook>=4.4.1->widgetsnbextension~=3.5.0->ipywidgets>=7.0.0->cufflinks) (2.11.2)\n",
      "Requirement already satisfied: bleach in /Users/diegorodrigues/opt/anaconda3/lib/python3.8/site-packages (from nbconvert->notebook>=4.4.1->widgetsnbextension~=3.5.0->ipywidgets>=7.0.0->cufflinks) (3.1.5)\n",
      "Requirement already satisfied: pandocfilters>=1.4.1 in /Users/diegorodrigues/opt/anaconda3/lib/python3.8/site-packages (from nbconvert->notebook>=4.4.1->widgetsnbextension~=3.5.0->ipywidgets>=7.0.0->cufflinks) (1.4.2)\n",
      "Requirement already satisfied: entrypoints>=0.2.2 in /Users/diegorodrigues/opt/anaconda3/lib/python3.8/site-packages (from nbconvert->notebook>=4.4.1->widgetsnbextension~=3.5.0->ipywidgets>=7.0.0->cufflinks) (0.3)\n",
      "Requirement already satisfied: defusedxml in /Users/diegorodrigues/opt/anaconda3/lib/python3.8/site-packages (from nbconvert->notebook>=4.4.1->widgetsnbextension~=3.5.0->ipywidgets>=7.0.0->cufflinks) (0.6.0)\n",
      "Requirement already satisfied: mistune<2,>=0.8.1 in /Users/diegorodrigues/opt/anaconda3/lib/python3.8/site-packages (from nbconvert->notebook>=4.4.1->widgetsnbextension~=3.5.0->ipywidgets>=7.0.0->cufflinks) (0.8.4)\n",
      "Requirement already satisfied: testpath in /Users/diegorodrigues/opt/anaconda3/lib/python3.8/site-packages (from nbconvert->notebook>=4.4.1->widgetsnbextension~=3.5.0->ipywidgets>=7.0.0->cufflinks) (0.4.4)\n",
      "Requirement already satisfied: MarkupSafe>=0.23 in /Users/diegorodrigues/opt/anaconda3/lib/python3.8/site-packages (from jinja2->notebook>=4.4.1->widgetsnbextension~=3.5.0->ipywidgets>=7.0.0->cufflinks) (1.1.1)\n",
      "Requirement already satisfied: webencodings in /Users/diegorodrigues/opt/anaconda3/lib/python3.8/site-packages (from bleach->nbconvert->notebook>=4.4.1->widgetsnbextension~=3.5.0->ipywidgets>=7.0.0->cufflinks) (0.5.1)\n",
      "Requirement already satisfied: packaging in /Users/diegorodrigues/opt/anaconda3/lib/python3.8/site-packages (from bleach->nbconvert->notebook>=4.4.1->widgetsnbextension~=3.5.0->ipywidgets>=7.0.0->cufflinks) (20.4)\n",
      "Requirement already satisfied: pyparsing>=2.0.2 in /Users/diegorodrigues/opt/anaconda3/lib/python3.8/site-packages (from packaging->bleach->nbconvert->notebook>=4.4.1->widgetsnbextension~=3.5.0->ipywidgets>=7.0.0->cufflinks) (2.4.7)\n"
     ]
    },
    {
     "output_type": "display_data",
     "data": {
      "text/html": "        <script type=\"text/javascript\">\n        window.PlotlyConfig = {MathJaxConfig: 'local'};\n        if (window.MathJax) {MathJax.Hub.Config({SVG: {font: \"STIX-Web\"}});}\n        if (typeof require !== 'undefined') {\n        require.undef(\"plotly\");\n        requirejs.config({\n            paths: {\n                'plotly': ['https://cdn.plot.ly/plotly-latest.min']\n            }\n        });\n        require(['plotly'], function(Plotly) {\n            window._Plotly = Plotly;\n        });\n        }\n        </script>\n        "
     },
     "metadata": {}
    }
   ],
   "source": [
    "!pip install cufflinks\n",
    "import cufflinks as cf\n",
    "\n",
    "cf.go_offline()"
   ]
  },
  {
   "cell_type": "code",
   "execution_count": 91,
   "metadata": {},
   "outputs": [
    {
     "output_type": "stream",
     "name": "stdout",
     "text": [
      "Requirement already satisfied: lifelines in /Users/diegorodrigues/opt/anaconda3/lib/python3.8/site-packages (0.25.7)\n",
      "Requirement already satisfied: matplotlib>=3.0 in /Users/diegorodrigues/opt/anaconda3/lib/python3.8/site-packages (from lifelines) (3.2.2)\n",
      "Requirement already satisfied: patsy>=0.5.0 in /Users/diegorodrigues/opt/anaconda3/lib/python3.8/site-packages (from lifelines) (0.5.1)\n",
      "Requirement already satisfied: autograd-gamma>=0.3 in /Users/diegorodrigues/opt/anaconda3/lib/python3.8/site-packages (from lifelines) (0.5.0)\n",
      "Requirement already satisfied: numpy>=1.14.0 in /Users/diegorodrigues/opt/anaconda3/lib/python3.8/site-packages (from lifelines) (1.18.5)\n",
      "Requirement already satisfied: autograd>=1.3 in /Users/diegorodrigues/opt/anaconda3/lib/python3.8/site-packages (from lifelines) (1.3)\n",
      "Requirement already satisfied: pandas>=0.23.0 in /Users/diegorodrigues/opt/anaconda3/lib/python3.8/site-packages (from lifelines) (1.0.5)\n",
      "Requirement already satisfied: scipy>=1.2.0 in /Users/diegorodrigues/opt/anaconda3/lib/python3.8/site-packages (from lifelines) (1.5.0)\n",
      "Requirement already satisfied: pyparsing!=2.0.4,!=2.1.2,!=2.1.6,>=2.0.1 in /Users/diegorodrigues/opt/anaconda3/lib/python3.8/site-packages (from matplotlib>=3.0->lifelines) (2.4.7)\n",
      "Requirement already satisfied: cycler>=0.10 in /Users/diegorodrigues/opt/anaconda3/lib/python3.8/site-packages (from matplotlib>=3.0->lifelines) (0.10.0)\n",
      "Requirement already satisfied: kiwisolver>=1.0.1 in /Users/diegorodrigues/opt/anaconda3/lib/python3.8/site-packages (from matplotlib>=3.0->lifelines) (1.2.0)\n",
      "Requirement already satisfied: python-dateutil>=2.1 in /Users/diegorodrigues/opt/anaconda3/lib/python3.8/site-packages (from matplotlib>=3.0->lifelines) (2.8.1)\n",
      "Requirement already satisfied: six in /Users/diegorodrigues/opt/anaconda3/lib/python3.8/site-packages (from patsy>=0.5.0->lifelines) (1.15.0)\n",
      "Requirement already satisfied: future>=0.15.2 in /Users/diegorodrigues/opt/anaconda3/lib/python3.8/site-packages (from autograd>=1.3->lifelines) (0.18.2)\n",
      "Requirement already satisfied: pytz>=2017.2 in /Users/diegorodrigues/opt/anaconda3/lib/python3.8/site-packages (from pandas>=0.23.0->lifelines) (2020.1)\n"
     ]
    }
   ],
   "source": [
    "!pip install lifelines\n",
    "from lifelines import KaplanMeierFitter"
   ]
  },
  {
   "cell_type": "code",
   "execution_count": 92,
   "metadata": {},
   "outputs": [],
   "source": [
    "model = KaplanMeierFitter()"
   ]
  },
  {
   "cell_type": "code",
   "execution_count": 93,
   "metadata": {},
   "outputs": [
    {
     "output_type": "error",
     "ename": "TypeError",
     "evalue": "fit() missing 1 required positional argument: 'durations'",
     "traceback": [
      "\u001b[0;31m---------------------------------------------------------------------------\u001b[0m",
      "\u001b[0;31mTypeError\u001b[0m                                 Traceback (most recent call last)",
      "\u001b[0;32m<ipython-input-93-f781fe65eb00>\u001b[0m in \u001b[0;36m<module>\u001b[0;34m\u001b[0m\n\u001b[0;32m----> 1\u001b[0;31m \u001b[0mmodel\u001b[0m\u001b[0;34m.\u001b[0m\u001b[0mfit\u001b[0m\u001b[0;34m(\u001b[0m\u001b[0;34m)\u001b[0m\u001b[0;34m\u001b[0m\u001b[0;34m\u001b[0m\u001b[0m\n\u001b[0m",
      "\u001b[0;32m~/opt/anaconda3/lib/python3.8/site-packages/lifelines/utils/__init__.py\u001b[0m in \u001b[0;36mf\u001b[0;34m(model, *args, **kwargs)\u001b[0m\n\u001b[1;32m     52\u001b[0m         \u001b[0;32mdef\u001b[0m \u001b[0mf\u001b[0m\u001b[0;34m(\u001b[0m\u001b[0mmodel\u001b[0m\u001b[0;34m,\u001b[0m \u001b[0;34m*\u001b[0m\u001b[0margs\u001b[0m\u001b[0;34m,\u001b[0m \u001b[0;34m**\u001b[0m\u001b[0mkwargs\u001b[0m\u001b[0;34m)\u001b[0m\u001b[0;34m:\u001b[0m\u001b[0;34m\u001b[0m\u001b[0;34m\u001b[0m\u001b[0m\n\u001b[1;32m     53\u001b[0m             \u001b[0mcls\u001b[0m\u001b[0;34m.\u001b[0m\u001b[0mset_censoring_type\u001b[0m\u001b[0;34m(\u001b[0m\u001b[0mmodel\u001b[0m\u001b[0;34m,\u001b[0m \u001b[0mcls\u001b[0m\u001b[0;34m.\u001b[0m\u001b[0mRIGHT\u001b[0m\u001b[0;34m)\u001b[0m\u001b[0;34m\u001b[0m\u001b[0;34m\u001b[0m\u001b[0m\n\u001b[0;32m---> 54\u001b[0;31m             \u001b[0;32mreturn\u001b[0m \u001b[0mfunction\u001b[0m\u001b[0;34m(\u001b[0m\u001b[0mmodel\u001b[0m\u001b[0;34m,\u001b[0m \u001b[0;34m*\u001b[0m\u001b[0margs\u001b[0m\u001b[0;34m,\u001b[0m \u001b[0;34m**\u001b[0m\u001b[0mkwargs\u001b[0m\u001b[0;34m)\u001b[0m\u001b[0;34m\u001b[0m\u001b[0;34m\u001b[0m\u001b[0m\n\u001b[0m\u001b[1;32m     55\u001b[0m \u001b[0;34m\u001b[0m\u001b[0m\n\u001b[1;32m     56\u001b[0m         \u001b[0;32mreturn\u001b[0m \u001b[0mf\u001b[0m\u001b[0;34m\u001b[0m\u001b[0;34m\u001b[0m\u001b[0m\n",
      "\u001b[0;31mTypeError\u001b[0m: fit() missing 1 required positional argument: 'durations'"
     ]
    }
   ],
   "source": [
    "model.fit()"
   ]
  },
  {
   "cell_type": "code",
   "execution_count": 99,
   "metadata": {},
   "outputs": [],
   "source": [
    "def survival(data, group_field, time_field, event_field):\n",
    "    '''\n",
    "    Use the Kaplan Meier Model to predict rates in which the event_field will occur.\n",
    "    '''\n",
    "    \n",
    "    model = KaplanMeierFitter()\n",
    "    results = []\n",
    "    \n",
    "    for each_category in data[group_field].unique():\n",
    "        \n",
    "        group = data.query(f'{group_field} == \"{each_category}\"')\n",
    "        \n",
    "        T = group[time_field]\n",
    "        E = group[event_field]\n",
    "        \n",
    "        # The Kaplan Meier model requires a TIME and an EVENT \n",
    "        model.fit(T, E, label=str(each_category))\n",
    "        \n",
    "        # model.survival_function_ will return\n",
    "        results.append(model.survival_function_)\n",
    "    \n",
    "    survival = pd.concat(results, axis=1)\n",
    "    return survival"
   ]
  },
  {
   "cell_type": "code",
   "execution_count": 211,
   "metadata": {},
   "outputs": [],
   "source": []
  },
  {
   "cell_type": "code",
   "execution_count": null,
   "metadata": {},
   "outputs": [],
   "source": []
  },
  {
   "cell_type": "code",
   "execution_count": 94,
   "metadata": {},
   "outputs": [
    {
     "output_type": "execute_result",
     "data": {
      "text/plain": [
       "Index(['index_x', 'lead_idd', 'person_id', 'organization_idd', 'event_id',\n",
       "       'data', 'description', 'id', 'is_subscription', 'amount',\n",
       "       'conversion_amount', 'monthly_plan_charge', 'subscription_gateway_code',\n",
       "       'state', 'status', 'created_at', 'updated_at', 'next_payment_date',\n",
       "       'gateway_organization_id', 'gateway_currency_id', 'organization_id',\n",
       "       'gatawey_json_response', 'is_from_webhook', 'is_intent',\n",
       "       'payment_method', 'is_manual', 'module', 'is_imported', 'ip',\n",
       "       'payment_method_id', 'frequency_id', 'subscription_cycle_number', 'rng',\n",
       "       'amount', 'conversion_amount', 'payment_method', 'gateway',\n",
       "       'is_subscription', 'monthly_plan_charge',\n",
       "       'reference_metadata.countryAndCity',\n",
       "       'reference_metadata.deviceCategory',\n",
       "       'reference_metadata.userLocation.lon',\n",
       "       'reference_metadata.userLocation.lat',\n",
       "       'reference_metadata.operatingSystemFamily',\n",
       "       'reference_metadata.operatingSystemName',\n",
       "       'reference_metadata.sessionCity',\n",
       "       'reference_metadata.sessionCountryCode',\n",
       "       'reference_metadata.sessionCountryName',\n",
       "       'reference_metadata.userAgentName',\n",
       "       'reference_metadata.userWindowResolution', 'currency.id',\n",
       "       'currency.name', 'currency.code', 'currency.symbol',\n",
       "       'currency.conversion_amount', 'metadata.countryAndCity',\n",
       "       'metadata.deviceCategory', 'metadata.userLocation.lon',\n",
       "       'metadata.userLocation.lat', 'metadata.operatingSystemFamily',\n",
       "       'metadata.operatingSystemName', 'metadata.sessionCity',\n",
       "       'metadata.sessionCountryCode', 'metadata.sessionCountryName',\n",
       "       'metadata.sessionIsp', 'metadata.userAgentName',\n",
       "       'metadata.userWindowResolution', 'metadata.gateway.name',\n",
       "       'metadata.amount', 'metadata.is_subscription',\n",
       "       'metadata.sessionAdminSubDiv2', 'operating_system', 'index_y', 'churn'],\n",
       "      dtype='object')"
      ]
     },
     "metadata": {},
     "execution_count": 94
    }
   ],
   "source": [
    "data_final.columns"
   ]
  },
  {
   "cell_type": "code",
   "execution_count": 163,
   "metadata": {},
   "outputs": [],
   "source": [
    "# Unindo as colunas com os metadados restantes"
   ]
  },
  {
   "cell_type": "code",
   "execution_count": 96,
   "metadata": {},
   "outputs": [
    {
     "output_type": "execute_result",
     "data": {
      "text/plain": [
       "       metadata.sessionAdminSubDiv2 metadata.userWindowResolution\n",
       "0                               NaN                           NaN\n",
       "1                               NaN                           NaN\n",
       "2                               NaN                           NaN\n",
       "3                               NaN                           NaN\n",
       "4                               NaN                           NaN\n",
       "...                             ...                           ...\n",
       "72568                           NaN                      1536x864\n",
       "72569                           NaN                           NaN\n",
       "72570                           NaN                       320x664\n",
       "72571                           NaN                       320x664\n",
       "72572                           NaN                           NaN\n",
       "\n",
       "[59244 rows x 2 columns]"
      ],
      "text/html": "<div>\n<style scoped>\n    .dataframe tbody tr th:only-of-type {\n        vertical-align: middle;\n    }\n\n    .dataframe tbody tr th {\n        vertical-align: top;\n    }\n\n    .dataframe thead th {\n        text-align: right;\n    }\n</style>\n<table border=\"1\" class=\"dataframe\">\n  <thead>\n    <tr style=\"text-align: right;\">\n      <th></th>\n      <th>metadata.sessionAdminSubDiv2</th>\n      <th>metadata.userWindowResolution</th>\n    </tr>\n  </thead>\n  <tbody>\n    <tr>\n      <th>0</th>\n      <td>NaN</td>\n      <td>NaN</td>\n    </tr>\n    <tr>\n      <th>1</th>\n      <td>NaN</td>\n      <td>NaN</td>\n    </tr>\n    <tr>\n      <th>2</th>\n      <td>NaN</td>\n      <td>NaN</td>\n    </tr>\n    <tr>\n      <th>3</th>\n      <td>NaN</td>\n      <td>NaN</td>\n    </tr>\n    <tr>\n      <th>4</th>\n      <td>NaN</td>\n      <td>NaN</td>\n    </tr>\n    <tr>\n      <th>...</th>\n      <td>...</td>\n      <td>...</td>\n    </tr>\n    <tr>\n      <th>72568</th>\n      <td>NaN</td>\n      <td>1536x864</td>\n    </tr>\n    <tr>\n      <th>72569</th>\n      <td>NaN</td>\n      <td>NaN</td>\n    </tr>\n    <tr>\n      <th>72570</th>\n      <td>NaN</td>\n      <td>320x664</td>\n    </tr>\n    <tr>\n      <th>72571</th>\n      <td>NaN</td>\n      <td>320x664</td>\n    </tr>\n    <tr>\n      <th>72572</th>\n      <td>NaN</td>\n      <td>NaN</td>\n    </tr>\n  </tbody>\n</table>\n<p>59244 rows × 2 columns</p>\n</div>"
     },
     "metadata": {},
     "execution_count": 96
    }
   ],
   "source": [
    "data_final[['metadata.sessionAdminSubDiv2', 'metadata.userWindowResolution']]"
   ]
  },
  {
   "cell_type": "code",
   "execution_count": 97,
   "metadata": {},
   "outputs": [],
   "source": [
    "# VOLTAR PARA REFAZER ISSO função para unir as informações das duas colunas e manter tudo em uma só. \n",
    "def replace (row):\n",
    "    if row ['reference_metadata.userWindowResolution'] != row ['metadata.userWindowResolution']: \n",
    "        return row ['reference_metadata.userWindowResolution']\n",
    "    else:\n",
    "        return row ['metadata.userWindowResolution']\n",
    "    "
   ]
  },
  {
   "cell_type": "code",
   "execution_count": 183,
   "metadata": {},
   "outputs": [
    {
     "output_type": "execute_result",
     "data": {
      "text/plain": [
       "0        1920x1080\n",
       "1        1920x1080\n",
       "2        1920x1080\n",
       "3        1920x1080\n",
       "4        1920x1080\n",
       "           ...    \n",
       "72568          NaN\n",
       "72569      320x664\n",
       "72570          NaN\n",
       "72571      320x664\n",
       "72572          NaN\n",
       "Name: window_resolution, Length: 59244, dtype: object"
      ]
     },
     "metadata": {},
     "execution_count": 183
    }
   ],
   "source": [
    "data_final['window_resolution'] = data_final.apply(replace, axis=1)\n",
    "data_final['window_resolution']"
   ]
  },
  {
   "cell_type": "code",
   "execution_count": 180,
   "metadata": {},
   "outputs": [
    {
     "output_type": "execute_result",
     "data": {
      "text/plain": [
       "0        Chrome\n",
       "1        Chrome\n",
       "2        Chrome\n",
       "3        Chrome\n",
       "4        Chrome\n",
       "          ...  \n",
       "72568       NaN\n",
       "72569    Chrome\n",
       "72570       NaN\n",
       "72571    Chrome\n",
       "72572       NaN\n",
       "Name: browser, Length: 59244, dtype: object"
      ]
     },
     "metadata": {},
     "execution_count": 180
    }
   ],
   "source": [
    "data_final['browser'] = data_final.apply(replace, axis=1)\n",
    "data_final['browser']"
   ]
  },
  {
   "cell_type": "code",
   "execution_count": 177,
   "metadata": {},
   "outputs": [
    {
     "output_type": "execute_result",
     "data": {
      "text/plain": [
       "0        Desktop\n",
       "1        Desktop\n",
       "2        Desktop\n",
       "3        Desktop\n",
       "4        Desktop\n",
       "          ...   \n",
       "72568        NaN\n",
       "72569      Phone\n",
       "72570        NaN\n",
       "72571      Phone\n",
       "72572        NaN\n",
       "Name: device, Length: 59244, dtype: object"
      ]
     },
     "metadata": {},
     "execution_count": 177
    }
   ],
   "source": [
    "data_final['device'] = data_final.apply(replace, axis=1)\n",
    "data_final['device']"
   ]
  },
  {
   "cell_type": "code",
   "execution_count": null,
   "metadata": {},
   "outputs": [],
   "source": []
  },
  {
   "cell_type": "code",
   "execution_count": 175,
   "metadata": {},
   "outputs": [
    {
     "output_type": "execute_result",
     "data": {
      "text/plain": [
       "0        Colombia\n",
       "1        Colombia\n",
       "2        Colombia\n",
       "3        Colombia\n",
       "4        Colombia\n",
       "           ...   \n",
       "72568         NaN\n",
       "72569    Colombia\n",
       "72570         NaN\n",
       "72571    Colombia\n",
       "72572         NaN\n",
       "Name: country, Length: 59244, dtype: object"
      ]
     },
     "metadata": {},
     "execution_count": 175
    }
   ],
   "source": [
    "data_final['country'] = data_final.apply(replace, axis=1)\n",
    "data_final['country']"
   ]
  },
  {
   "cell_type": "code",
   "execution_count": 106,
   "metadata": {},
   "outputs": [],
   "source": [
    "teste = data_final.drop(['metadata.sessionCity','metadata.sessionCountryCode', 'metadata.sessionIsp','subscription_gateway_code', 'data','description', 'id','metadata.gateway.name', 'metadata.amount', 'metadata.is_subscription','reference_metadata.sessionCountryName', 'metadata.sessionCountryName', 'reference_metadata.countryAndCity', 'metadata.countryAndCity', 'reference_metadata.deviceCategory', 'metadata.deviceCategory', 'reference_metadata.sessionCity', 'reference_metadata.sessionCountryCode', 'reference_metadata.userAgentName', 'metadata.userAgentName', 'reference_metadata.userWindowResolution', 'metadata.userWindowResolution','metadata.sessionAdminSubDiv2', 'metadata.userLocation.lat', 'metadata.operatingSystemFamily', 'metadata.operatingSystemName', 'metadata.userLocation.lon', 'monthly_plan_charge', 'gateway_organization_id', 'gateway_currency_id', 'gatawey_json_response', 'is_from_webhook', 'is_manual', 'module', 'is_imported', 'ip','payment_method_id', 'frequency_id', 'subscription_cycle_number', 'reference_metadata.userLocation.lon','reference_metadata.userLocation.lat','reference_metadata.operatingSystemFamily','reference_metadata.operatingSystemName', 'currency.id',\n",
    "       'currency.name', 'currency.code', 'currency.symbol'], axis=1)"
   ]
  },
  {
   "cell_type": "code",
   "execution_count": 107,
   "metadata": {},
   "outputs": [
    {
     "output_type": "execute_result",
     "data": {
      "text/plain": [
       "   index_x  lead_idd  person_id  organization_idd  event_id  is_subscription  \\\n",
       "0     1369     33963      33771                18    827957             True   \n",
       "1     1370     33963      33771                18    826679             True   \n",
       "2     1371     33963      33771                18    836941             True   \n",
       "3     1372     33963      33771                18    830093             True   \n",
       "4     1373     33963      33771                18    839621             True   \n",
       "\n",
       "    amount conversion_amount  state  status  ...       rng    amount  \\\n",
       "0  50000.0           50000.0      3    True  ...  0.434643  50000.00   \n",
       "1  50000.0           50000.0      3    True  ...  0.287592  50000.00   \n",
       "2  50000.0           50000.0      3    True  ...  0.994683  50000.00   \n",
       "3  50000.0           50000.0      3    True  ...  0.002717  50000.00   \n",
       "4  50000.0           50000.0      3    True  ...  0.480003  50000.00   \n",
       "\n",
       "  conversion_amount  payment_method  gateway  is_subscription  \\\n",
       "0          50000.00             1.0   Bakery            False   \n",
       "1          50000.00             1.0   Bakery            False   \n",
       "2          50000.00             1.0   Bakery            False   \n",
       "3          50000.00             1.0   Bakery            False   \n",
       "4          50000.00             1.0   Bakery            False   \n",
       "\n",
       "   currency.conversion_amount operating_system index_y  churn  \n",
       "0                     4315.98       Windows NT       7      0  \n",
       "1                     4309.86       Windows NT       7      0  \n",
       "2                     4313.65       Windows NT       7      0  \n",
       "3                     4323.72       Windows NT       7      0  \n",
       "4                     4334.47       Windows NT       7      0  \n",
       "\n",
       "[5 rows x 26 columns]"
      ],
      "text/html": "<div>\n<style scoped>\n    .dataframe tbody tr th:only-of-type {\n        vertical-align: middle;\n    }\n\n    .dataframe tbody tr th {\n        vertical-align: top;\n    }\n\n    .dataframe thead th {\n        text-align: right;\n    }\n</style>\n<table border=\"1\" class=\"dataframe\">\n  <thead>\n    <tr style=\"text-align: right;\">\n      <th></th>\n      <th>index_x</th>\n      <th>lead_idd</th>\n      <th>person_id</th>\n      <th>organization_idd</th>\n      <th>event_id</th>\n      <th>is_subscription</th>\n      <th>amount</th>\n      <th>conversion_amount</th>\n      <th>state</th>\n      <th>status</th>\n      <th>...</th>\n      <th>rng</th>\n      <th>amount</th>\n      <th>conversion_amount</th>\n      <th>payment_method</th>\n      <th>gateway</th>\n      <th>is_subscription</th>\n      <th>currency.conversion_amount</th>\n      <th>operating_system</th>\n      <th>index_y</th>\n      <th>churn</th>\n    </tr>\n  </thead>\n  <tbody>\n    <tr>\n      <th>0</th>\n      <td>1369</td>\n      <td>33963</td>\n      <td>33771</td>\n      <td>18</td>\n      <td>827957</td>\n      <td>True</td>\n      <td>50000.0</td>\n      <td>50000.0</td>\n      <td>3</td>\n      <td>True</td>\n      <td>...</td>\n      <td>0.434643</td>\n      <td>50000.00</td>\n      <td>50000.00</td>\n      <td>1.0</td>\n      <td>Bakery</td>\n      <td>False</td>\n      <td>4315.98</td>\n      <td>Windows NT</td>\n      <td>7</td>\n      <td>0</td>\n    </tr>\n    <tr>\n      <th>1</th>\n      <td>1370</td>\n      <td>33963</td>\n      <td>33771</td>\n      <td>18</td>\n      <td>826679</td>\n      <td>True</td>\n      <td>50000.0</td>\n      <td>50000.0</td>\n      <td>3</td>\n      <td>True</td>\n      <td>...</td>\n      <td>0.287592</td>\n      <td>50000.00</td>\n      <td>50000.00</td>\n      <td>1.0</td>\n      <td>Bakery</td>\n      <td>False</td>\n      <td>4309.86</td>\n      <td>Windows NT</td>\n      <td>7</td>\n      <td>0</td>\n    </tr>\n    <tr>\n      <th>2</th>\n      <td>1371</td>\n      <td>33963</td>\n      <td>33771</td>\n      <td>18</td>\n      <td>836941</td>\n      <td>True</td>\n      <td>50000.0</td>\n      <td>50000.0</td>\n      <td>3</td>\n      <td>True</td>\n      <td>...</td>\n      <td>0.994683</td>\n      <td>50000.00</td>\n      <td>50000.00</td>\n      <td>1.0</td>\n      <td>Bakery</td>\n      <td>False</td>\n      <td>4313.65</td>\n      <td>Windows NT</td>\n      <td>7</td>\n      <td>0</td>\n    </tr>\n    <tr>\n      <th>3</th>\n      <td>1372</td>\n      <td>33963</td>\n      <td>33771</td>\n      <td>18</td>\n      <td>830093</td>\n      <td>True</td>\n      <td>50000.0</td>\n      <td>50000.0</td>\n      <td>3</td>\n      <td>True</td>\n      <td>...</td>\n      <td>0.002717</td>\n      <td>50000.00</td>\n      <td>50000.00</td>\n      <td>1.0</td>\n      <td>Bakery</td>\n      <td>False</td>\n      <td>4323.72</td>\n      <td>Windows NT</td>\n      <td>7</td>\n      <td>0</td>\n    </tr>\n    <tr>\n      <th>4</th>\n      <td>1373</td>\n      <td>33963</td>\n      <td>33771</td>\n      <td>18</td>\n      <td>839621</td>\n      <td>True</td>\n      <td>50000.0</td>\n      <td>50000.0</td>\n      <td>3</td>\n      <td>True</td>\n      <td>...</td>\n      <td>0.480003</td>\n      <td>50000.00</td>\n      <td>50000.00</td>\n      <td>1.0</td>\n      <td>Bakery</td>\n      <td>False</td>\n      <td>4334.47</td>\n      <td>Windows NT</td>\n      <td>7</td>\n      <td>0</td>\n    </tr>\n  </tbody>\n</table>\n<p>5 rows × 26 columns</p>\n</div>"
     },
     "metadata": {},
     "execution_count": 107
    }
   ],
   "source": [
    "teste.head()"
   ]
  },
  {
   "cell_type": "code",
   "execution_count": 109,
   "metadata": {},
   "outputs": [],
   "source": [
    "data_final = teste.copy()"
   ]
  },
  {
   "cell_type": "code",
   "execution_count": 111,
   "metadata": {},
   "outputs": [],
   "source": [
    "data_final.columns = ['index_x', 'lead_idd', 'person_id', 'organization_idd', 'event_id',\n",
    "       'is_subscription', 'amount', 'conversion_amount', 'state', 'status',\n",
    "       'created_at', 'updated_at', 'next_payment_date', 'organization_id',\n",
    "       'is_intent', 'payment_method', 'rng', 'amount', 'conversion_amount',\n",
    "       'payment_method_data', 'gateway', 'is_subscription',\n",
    "       'currency.conversion_amount', 'operating_system', 'index_y', 'churn']"
   ]
  },
  {
   "cell_type": "code",
   "execution_count": 112,
   "metadata": {},
   "outputs": [],
   "source": [
    "rates = survival(data_final.dropna(subset=['operating_system']),'operating_system', 'index_y', 'churn')"
   ]
  },
  {
   "cell_type": "code",
   "execution_count": 113,
   "metadata": {},
   "outputs": [
    {
     "output_type": "display_data",
     "data": {
      "application/vnd.plotly.v1+json": {
       "config": {
        "linkText": "Export to plot.ly",
        "plotlyServerURL": "https://plot.ly",
        "showLink": true
       },
       "data": [
        {
         "line": {
          "color": "rgba(255, 153, 51, 1.0)",
          "dash": "solid",
          "shape": "linear",
          "width": 1.3
         },
         "mode": "lines",
         "name": "Windows NT",
         "text": "",
         "type": "scatter",
         "x": [
          0,
          1,
          2,
          3,
          4,
          5,
          6,
          7,
          8,
          9,
          10,
          11,
          12,
          13,
          14,
          15,
          16,
          17,
          18,
          19,
          20,
          21,
          22,
          23,
          24,
          26,
          28,
          30,
          32,
          33,
          34,
          35,
          36,
          39,
          42,
          44,
          48,
          52,
          56,
          60,
          64,
          69,
          72,
          75,
          80,
          99,
          112,
          135,
          145,
          147,
          196,
          271,
          298,
          466,
          758,
          1044,
          1392,
          1934,
          9530,
          15389
         ],
         "y": [
          1,
          0.9945733279066621,
          0.8746438746438747,
          0.8127798127798137,
          0.8127798127798137,
          0.8127798127798137,
          0.8127798127798137,
          0.8127798127798137,
          0.8127798127798137,
          0.8127798127798137,
          0.8127798127798137,
          0.8127798127798137,
          0.8127798127798137,
          0.8127798127798137,
          0.8127798127798137,
          0.8127798127798137,
          0.8127798127798137,
          0.8127798127798137,
          0.8127798127798137,
          0.8127798127798137,
          0.8127798127798137,
          "",
          0.8127798127798137,
          "",
          0.8127798127798137,
          0.8127798127798137,
          0.8127798127798137,
          "",
          0.8127798127798137,
          0.8127798127798137,
          0.8127798127798137,
          0.8127798127798137,
          0.8127798127798137,
          0.8127798127798137,
          0.8127798127798137,
          0.8127798127798137,
          "",
          "",
          0.8127798127798137,
          "",
          "",
          0.8127798127798137,
          0.8127798127798137,
          0.8127798127798137,
          0.8127798127798137,
          0.8127798127798137,
          0.8127798127798137,
          0.8127798127798137,
          0.8127798127798137,
          "",
          "",
          0.8127798127798137,
          "",
          0.8127798127798137,
          0.8127798127798137,
          0.8127798127798137,
          0.8127798127798137,
          "",
          "",
          0.8127798127798137
         ]
        },
        {
         "line": {
          "color": "rgba(55, 128, 191, 1.0)",
          "dash": "solid",
          "shape": "linear",
          "width": 1.3
         },
         "mode": "lines",
         "name": "iOS",
         "text": "",
         "type": "scatter",
         "x": [
          0,
          1,
          2,
          3,
          4,
          5,
          6,
          7,
          8,
          9,
          10,
          11,
          12,
          13,
          14,
          15,
          16,
          17,
          18,
          19,
          20,
          21,
          22,
          23,
          24,
          26,
          28,
          30,
          32,
          33,
          34,
          35,
          36,
          39,
          42,
          44,
          48,
          52,
          56,
          60,
          64,
          69,
          72,
          75,
          80,
          99,
          112,
          135,
          145,
          147,
          196,
          271,
          298,
          466,
          758,
          1044,
          1392,
          1934,
          9530,
          15389
         ],
         "y": [
          1,
          0.9956159579131963,
          0.9017974572555904,
          0.7816747040771592,
          0.7816747040771592,
          0.7816747040771592,
          0.7816747040771592,
          0.7816747040771592,
          0.7816747040771592,
          0.7816747040771592,
          0.7816747040771592,
          0.7816747040771592,
          0.7816747040771592,
          0.7816747040771592,
          0.7816747040771592,
          0.7816747040771592,
          0.7816747040771592,
          0.7816747040771592,
          0.7816747040771592,
          0.7816747040771592,
          0.7816747040771592,
          "",
          "",
          "",
          0.7816747040771592,
          "",
          0.7816747040771592,
          "",
          0.7816747040771592,
          "",
          0.7816747040771592,
          "",
          "",
          "",
          "",
          "",
          "",
          "",
          "",
          "",
          "",
          "",
          "",
          "",
          "",
          "",
          "",
          "",
          "",
          "",
          "",
          "",
          "",
          "",
          "",
          "",
          "",
          "",
          "",
          ""
         ]
        },
        {
         "line": {
          "color": "rgba(50, 171, 96, 1.0)",
          "dash": "solid",
          "shape": "linear",
          "width": 1.3
         },
         "mode": "lines",
         "name": "Android",
         "text": "",
         "type": "scatter",
         "x": [
          0,
          1,
          2,
          3,
          4,
          5,
          6,
          7,
          8,
          9,
          10,
          11,
          12,
          13,
          14,
          15,
          16,
          17,
          18,
          19,
          20,
          21,
          22,
          23,
          24,
          26,
          28,
          30,
          32,
          33,
          34,
          35,
          36,
          39,
          42,
          44,
          48,
          52,
          56,
          60,
          64,
          69,
          72,
          75,
          80,
          99,
          112,
          135,
          145,
          147,
          196,
          271,
          298,
          466,
          758,
          1044,
          1392,
          1934,
          9530,
          15389
         ],
         "y": [
          1,
          0.9910222994497534,
          0.907326962061974,
          0.8276860700839846,
          0.8276860700839846,
          0.8276860700839846,
          0.8276860700839846,
          0.8276860700839846,
          0.8276860700839846,
          0.8276860700839846,
          0.8276860700839846,
          0.8276860700839846,
          0.8276860700839846,
          0.8276860700839846,
          0.8276860700839846,
          0.8276860700839846,
          0.8276860700839846,
          0.8276860700839846,
          0.8276860700839846,
          0.8276860700839846,
          0.8276860700839846,
          0.8276860700839846,
          "",
          0.8276860700839846,
          0.8276860700839846,
          "",
          0.8276860700839846,
          "",
          0.8276860700839846,
          "",
          "",
          0.8276860700839846,
          "",
          "",
          "",
          "",
          0.8276860700839846,
          0.8276860700839846,
          "",
          "",
          "",
          0.8276860700839846,
          "",
          "",
          "",
          0.8276860700839846,
          "",
          0.8276860700839846,
          0.8276860700839846,
          "",
          "",
          "",
          "",
          "",
          0.8276860700839846,
          "",
          "",
          "",
          "",
          0.8276860700839846
         ]
        },
        {
         "line": {
          "color": "rgba(128, 0, 128, 1.0)",
          "dash": "solid",
          "shape": "linear",
          "width": 1.3
         },
         "mode": "lines",
         "name": "Mac OS X",
         "text": "",
         "type": "scatter",
         "x": [
          0,
          1,
          2,
          3,
          4,
          5,
          6,
          7,
          8,
          9,
          10,
          11,
          12,
          13,
          14,
          15,
          16,
          17,
          18,
          19,
          20,
          21,
          22,
          23,
          24,
          26,
          28,
          30,
          32,
          33,
          34,
          35,
          36,
          39,
          42,
          44,
          48,
          52,
          56,
          60,
          64,
          69,
          72,
          75,
          80,
          99,
          112,
          135,
          145,
          147,
          196,
          271,
          298,
          466,
          758,
          1044,
          1392,
          1934,
          9530,
          15389
         ],
         "y": [
          1,
          0.9974587039390087,
          0.9428208386277002,
          0.8875476493011436,
          0.8875476493011436,
          0.8875476493011436,
          0.8875476493011436,
          0.8875476493011436,
          0.8875476493011436,
          0.8875476493011436,
          "",
          0.8875476493011436,
          0.8875476493011436,
          0.8875476493011436,
          0.8875476493011436,
          0.8875476493011436,
          0.8875476493011436,
          "",
          0.8875476493011436,
          "",
          0.8875476493011436,
          "",
          "",
          "",
          0.8875476493011436,
          "",
          "",
          0.8875476493011436,
          0.8875476493011436,
          "",
          "",
          "",
          "",
          "",
          "",
          0.8875476493011436,
          "",
          "",
          "",
          0.8875476493011436,
          "",
          "",
          "",
          "",
          "",
          "",
          "",
          "",
          "",
          "",
          "",
          0.8875476493011436,
          0.8875476493011436,
          "",
          0.8875476493011436,
          "",
          "",
          "",
          0.8875476493011436,
          ""
         ]
        },
        {
         "line": {
          "color": "rgba(219, 64, 82, 1.0)",
          "dash": "solid",
          "shape": "linear",
          "width": 1.3
         },
         "mode": "lines",
         "name": "Linux",
         "text": "",
         "type": "scatter",
         "x": [
          0,
          1,
          2,
          3,
          4,
          5,
          6,
          7,
          8,
          9,
          10,
          11,
          12,
          13,
          14,
          15,
          16,
          17,
          18,
          19,
          20,
          21,
          22,
          23,
          24,
          26,
          28,
          30,
          32,
          33,
          34,
          35,
          36,
          39,
          42,
          44,
          48,
          52,
          56,
          60,
          64,
          69,
          72,
          75,
          80,
          99,
          112,
          135,
          145,
          147,
          196,
          271,
          298,
          466,
          758,
          1044,
          1392,
          1934,
          9530,
          15389
         ],
         "y": [
          1,
          0.9986702127659569,
          0.9933510638297871,
          0.9880319148936169,
          0.9880319148936169,
          0.9880319148936169,
          0.9880319148936169,
          "",
          "",
          "",
          "",
          "",
          "",
          "",
          "",
          "",
          "",
          "",
          "",
          "",
          "",
          "",
          "",
          "",
          "",
          "",
          "",
          "",
          "",
          "",
          "",
          "",
          0.9880319148936169,
          "",
          "",
          "",
          0.9880319148936169,
          "",
          0.9880319148936169,
          "",
          0.9880319148936169,
          "",
          "",
          "",
          "",
          "",
          "",
          "",
          "",
          0.9880319148936169,
          0.9880319148936169,
          "",
          "",
          "",
          0.9880319148936169,
          "",
          0.9880319148936169,
          0.9880319148936169,
          "",
          0.9880319148936169
         ]
        },
        {
         "line": {
          "color": "rgba(0, 128, 128, 1.0)",
          "dash": "solid",
          "shape": "linear",
          "width": 1.3
         },
         "mode": "lines",
         "name": "Ubuntu",
         "text": "",
         "type": "scatter",
         "x": [
          0,
          1,
          2,
          3,
          4,
          5,
          6,
          7,
          8,
          9,
          10,
          11,
          12,
          13,
          14,
          15,
          16,
          17,
          18,
          19,
          20,
          21,
          22,
          23,
          24,
          26,
          28,
          30,
          32,
          33,
          34,
          35,
          36,
          39,
          42,
          44,
          48,
          52,
          56,
          60,
          64,
          69,
          72,
          75,
          80,
          99,
          112,
          135,
          145,
          147,
          196,
          271,
          298,
          466,
          758,
          1044,
          1392,
          1934,
          9530,
          15389
         ],
         "y": [
          1,
          "",
          0.6666666666666666,
          "",
          0.6666666666666666,
          "",
          "",
          "",
          "",
          "",
          "",
          "",
          "",
          "",
          "",
          "",
          "",
          "",
          "",
          "",
          "",
          "",
          "",
          "",
          "",
          "",
          "",
          "",
          "",
          "",
          "",
          "",
          "",
          "",
          "",
          "",
          "",
          "",
          "",
          "",
          "",
          "",
          "",
          "",
          "",
          "",
          "",
          "",
          "",
          "",
          "",
          "",
          "",
          "",
          "",
          "",
          "",
          "",
          "",
          ""
         ]
        },
        {
         "line": {
          "color": "rgba(255, 255, 51, 1.0)",
          "dash": "solid",
          "shape": "linear",
          "width": 1.3
         },
         "mode": "lines",
         "name": "Chrome OS",
         "text": "",
         "type": "scatter",
         "x": [
          0,
          1,
          2,
          3,
          4,
          5,
          6,
          7,
          8,
          9,
          10,
          11,
          12,
          13,
          14,
          15,
          16,
          17,
          18,
          19,
          20,
          21,
          22,
          23,
          24,
          26,
          28,
          30,
          32,
          33,
          34,
          35,
          36,
          39,
          42,
          44,
          48,
          52,
          56,
          60,
          64,
          69,
          72,
          75,
          80,
          99,
          112,
          135,
          145,
          147,
          196,
          271,
          298,
          466,
          758,
          1044,
          1392,
          1934,
          9530,
          15389
         ],
         "y": [
          1,
          "",
          "",
          "",
          1,
          "",
          "",
          "",
          "",
          "",
          "",
          "",
          "",
          "",
          "",
          "",
          "",
          "",
          "",
          "",
          "",
          "",
          "",
          "",
          "",
          1,
          "",
          "",
          "",
          "",
          "",
          "",
          "",
          "",
          "",
          "",
          "",
          "",
          "",
          "",
          "",
          "",
          "",
          "",
          "",
          "",
          "",
          "",
          "",
          "",
          "",
          "",
          "",
          "",
          "",
          "",
          "",
          "",
          "",
          ""
         ]
        }
       ],
       "layout": {
        "legend": {
         "bgcolor": "#F5F6F9",
         "font": {
          "color": "#4D5663"
         }
        },
        "paper_bgcolor": "#F5F6F9",
        "plot_bgcolor": "#F5F6F9",
        "template": {
         "data": {
          "bar": [
           {
            "error_x": {
             "color": "#2a3f5f"
            },
            "error_y": {
             "color": "#2a3f5f"
            },
            "marker": {
             "line": {
              "color": "#E5ECF6",
              "width": 0.5
             }
            },
            "type": "bar"
           }
          ],
          "barpolar": [
           {
            "marker": {
             "line": {
              "color": "#E5ECF6",
              "width": 0.5
             }
            },
            "type": "barpolar"
           }
          ],
          "carpet": [
           {
            "aaxis": {
             "endlinecolor": "#2a3f5f",
             "gridcolor": "white",
             "linecolor": "white",
             "minorgridcolor": "white",
             "startlinecolor": "#2a3f5f"
            },
            "baxis": {
             "endlinecolor": "#2a3f5f",
             "gridcolor": "white",
             "linecolor": "white",
             "minorgridcolor": "white",
             "startlinecolor": "#2a3f5f"
            },
            "type": "carpet"
           }
          ],
          "choropleth": [
           {
            "colorbar": {
             "outlinewidth": 0,
             "ticks": ""
            },
            "type": "choropleth"
           }
          ],
          "contour": [
           {
            "colorbar": {
             "outlinewidth": 0,
             "ticks": ""
            },
            "colorscale": [
             [
              0,
              "#0d0887"
             ],
             [
              0.1111111111111111,
              "#46039f"
             ],
             [
              0.2222222222222222,
              "#7201a8"
             ],
             [
              0.3333333333333333,
              "#9c179e"
             ],
             [
              0.4444444444444444,
              "#bd3786"
             ],
             [
              0.5555555555555556,
              "#d8576b"
             ],
             [
              0.6666666666666666,
              "#ed7953"
             ],
             [
              0.7777777777777778,
              "#fb9f3a"
             ],
             [
              0.8888888888888888,
              "#fdca26"
             ],
             [
              1,
              "#f0f921"
             ]
            ],
            "type": "contour"
           }
          ],
          "contourcarpet": [
           {
            "colorbar": {
             "outlinewidth": 0,
             "ticks": ""
            },
            "type": "contourcarpet"
           }
          ],
          "heatmap": [
           {
            "colorbar": {
             "outlinewidth": 0,
             "ticks": ""
            },
            "colorscale": [
             [
              0,
              "#0d0887"
             ],
             [
              0.1111111111111111,
              "#46039f"
             ],
             [
              0.2222222222222222,
              "#7201a8"
             ],
             [
              0.3333333333333333,
              "#9c179e"
             ],
             [
              0.4444444444444444,
              "#bd3786"
             ],
             [
              0.5555555555555556,
              "#d8576b"
             ],
             [
              0.6666666666666666,
              "#ed7953"
             ],
             [
              0.7777777777777778,
              "#fb9f3a"
             ],
             [
              0.8888888888888888,
              "#fdca26"
             ],
             [
              1,
              "#f0f921"
             ]
            ],
            "type": "heatmap"
           }
          ],
          "heatmapgl": [
           {
            "colorbar": {
             "outlinewidth": 0,
             "ticks": ""
            },
            "colorscale": [
             [
              0,
              "#0d0887"
             ],
             [
              0.1111111111111111,
              "#46039f"
             ],
             [
              0.2222222222222222,
              "#7201a8"
             ],
             [
              0.3333333333333333,
              "#9c179e"
             ],
             [
              0.4444444444444444,
              "#bd3786"
             ],
             [
              0.5555555555555556,
              "#d8576b"
             ],
             [
              0.6666666666666666,
              "#ed7953"
             ],
             [
              0.7777777777777778,
              "#fb9f3a"
             ],
             [
              0.8888888888888888,
              "#fdca26"
             ],
             [
              1,
              "#f0f921"
             ]
            ],
            "type": "heatmapgl"
           }
          ],
          "histogram": [
           {
            "marker": {
             "colorbar": {
              "outlinewidth": 0,
              "ticks": ""
             }
            },
            "type": "histogram"
           }
          ],
          "histogram2d": [
           {
            "colorbar": {
             "outlinewidth": 0,
             "ticks": ""
            },
            "colorscale": [
             [
              0,
              "#0d0887"
             ],
             [
              0.1111111111111111,
              "#46039f"
             ],
             [
              0.2222222222222222,
              "#7201a8"
             ],
             [
              0.3333333333333333,
              "#9c179e"
             ],
             [
              0.4444444444444444,
              "#bd3786"
             ],
             [
              0.5555555555555556,
              "#d8576b"
             ],
             [
              0.6666666666666666,
              "#ed7953"
             ],
             [
              0.7777777777777778,
              "#fb9f3a"
             ],
             [
              0.8888888888888888,
              "#fdca26"
             ],
             [
              1,
              "#f0f921"
             ]
            ],
            "type": "histogram2d"
           }
          ],
          "histogram2dcontour": [
           {
            "colorbar": {
             "outlinewidth": 0,
             "ticks": ""
            },
            "colorscale": [
             [
              0,
              "#0d0887"
             ],
             [
              0.1111111111111111,
              "#46039f"
             ],
             [
              0.2222222222222222,
              "#7201a8"
             ],
             [
              0.3333333333333333,
              "#9c179e"
             ],
             [
              0.4444444444444444,
              "#bd3786"
             ],
             [
              0.5555555555555556,
              "#d8576b"
             ],
             [
              0.6666666666666666,
              "#ed7953"
             ],
             [
              0.7777777777777778,
              "#fb9f3a"
             ],
             [
              0.8888888888888888,
              "#fdca26"
             ],
             [
              1,
              "#f0f921"
             ]
            ],
            "type": "histogram2dcontour"
           }
          ],
          "mesh3d": [
           {
            "colorbar": {
             "outlinewidth": 0,
             "ticks": ""
            },
            "type": "mesh3d"
           }
          ],
          "parcoords": [
           {
            "line": {
             "colorbar": {
              "outlinewidth": 0,
              "ticks": ""
             }
            },
            "type": "parcoords"
           }
          ],
          "pie": [
           {
            "automargin": true,
            "type": "pie"
           }
          ],
          "scatter": [
           {
            "marker": {
             "colorbar": {
              "outlinewidth": 0,
              "ticks": ""
             }
            },
            "type": "scatter"
           }
          ],
          "scatter3d": [
           {
            "line": {
             "colorbar": {
              "outlinewidth": 0,
              "ticks": ""
             }
            },
            "marker": {
             "colorbar": {
              "outlinewidth": 0,
              "ticks": ""
             }
            },
            "type": "scatter3d"
           }
          ],
          "scattercarpet": [
           {
            "marker": {
             "colorbar": {
              "outlinewidth": 0,
              "ticks": ""
             }
            },
            "type": "scattercarpet"
           }
          ],
          "scattergeo": [
           {
            "marker": {
             "colorbar": {
              "outlinewidth": 0,
              "ticks": ""
             }
            },
            "type": "scattergeo"
           }
          ],
          "scattergl": [
           {
            "marker": {
             "colorbar": {
              "outlinewidth": 0,
              "ticks": ""
             }
            },
            "type": "scattergl"
           }
          ],
          "scattermapbox": [
           {
            "marker": {
             "colorbar": {
              "outlinewidth": 0,
              "ticks": ""
             }
            },
            "type": "scattermapbox"
           }
          ],
          "scatterpolar": [
           {
            "marker": {
             "colorbar": {
              "outlinewidth": 0,
              "ticks": ""
             }
            },
            "type": "scatterpolar"
           }
          ],
          "scatterpolargl": [
           {
            "marker": {
             "colorbar": {
              "outlinewidth": 0,
              "ticks": ""
             }
            },
            "type": "scatterpolargl"
           }
          ],
          "scatterternary": [
           {
            "marker": {
             "colorbar": {
              "outlinewidth": 0,
              "ticks": ""
             }
            },
            "type": "scatterternary"
           }
          ],
          "surface": [
           {
            "colorbar": {
             "outlinewidth": 0,
             "ticks": ""
            },
            "colorscale": [
             [
              0,
              "#0d0887"
             ],
             [
              0.1111111111111111,
              "#46039f"
             ],
             [
              0.2222222222222222,
              "#7201a8"
             ],
             [
              0.3333333333333333,
              "#9c179e"
             ],
             [
              0.4444444444444444,
              "#bd3786"
             ],
             [
              0.5555555555555556,
              "#d8576b"
             ],
             [
              0.6666666666666666,
              "#ed7953"
             ],
             [
              0.7777777777777778,
              "#fb9f3a"
             ],
             [
              0.8888888888888888,
              "#fdca26"
             ],
             [
              1,
              "#f0f921"
             ]
            ],
            "type": "surface"
           }
          ],
          "table": [
           {
            "cells": {
             "fill": {
              "color": "#EBF0F8"
             },
             "line": {
              "color": "white"
             }
            },
            "header": {
             "fill": {
              "color": "#C8D4E3"
             },
             "line": {
              "color": "white"
             }
            },
            "type": "table"
           }
          ]
         },
         "layout": {
          "annotationdefaults": {
           "arrowcolor": "#2a3f5f",
           "arrowhead": 0,
           "arrowwidth": 1
          },
          "autotypenumbers": "strict",
          "coloraxis": {
           "colorbar": {
            "outlinewidth": 0,
            "ticks": ""
           }
          },
          "colorscale": {
           "diverging": [
            [
             0,
             "#8e0152"
            ],
            [
             0.1,
             "#c51b7d"
            ],
            [
             0.2,
             "#de77ae"
            ],
            [
             0.3,
             "#f1b6da"
            ],
            [
             0.4,
             "#fde0ef"
            ],
            [
             0.5,
             "#f7f7f7"
            ],
            [
             0.6,
             "#e6f5d0"
            ],
            [
             0.7,
             "#b8e186"
            ],
            [
             0.8,
             "#7fbc41"
            ],
            [
             0.9,
             "#4d9221"
            ],
            [
             1,
             "#276419"
            ]
           ],
           "sequential": [
            [
             0,
             "#0d0887"
            ],
            [
             0.1111111111111111,
             "#46039f"
            ],
            [
             0.2222222222222222,
             "#7201a8"
            ],
            [
             0.3333333333333333,
             "#9c179e"
            ],
            [
             0.4444444444444444,
             "#bd3786"
            ],
            [
             0.5555555555555556,
             "#d8576b"
            ],
            [
             0.6666666666666666,
             "#ed7953"
            ],
            [
             0.7777777777777778,
             "#fb9f3a"
            ],
            [
             0.8888888888888888,
             "#fdca26"
            ],
            [
             1,
             "#f0f921"
            ]
           ],
           "sequentialminus": [
            [
             0,
             "#0d0887"
            ],
            [
             0.1111111111111111,
             "#46039f"
            ],
            [
             0.2222222222222222,
             "#7201a8"
            ],
            [
             0.3333333333333333,
             "#9c179e"
            ],
            [
             0.4444444444444444,
             "#bd3786"
            ],
            [
             0.5555555555555556,
             "#d8576b"
            ],
            [
             0.6666666666666666,
             "#ed7953"
            ],
            [
             0.7777777777777778,
             "#fb9f3a"
            ],
            [
             0.8888888888888888,
             "#fdca26"
            ],
            [
             1,
             "#f0f921"
            ]
           ]
          },
          "colorway": [
           "#636efa",
           "#EF553B",
           "#00cc96",
           "#ab63fa",
           "#FFA15A",
           "#19d3f3",
           "#FF6692",
           "#B6E880",
           "#FF97FF",
           "#FECB52"
          ],
          "font": {
           "color": "#2a3f5f"
          },
          "geo": {
           "bgcolor": "white",
           "lakecolor": "white",
           "landcolor": "#E5ECF6",
           "showlakes": true,
           "showland": true,
           "subunitcolor": "white"
          },
          "hoverlabel": {
           "align": "left"
          },
          "hovermode": "closest",
          "mapbox": {
           "style": "light"
          },
          "paper_bgcolor": "white",
          "plot_bgcolor": "#E5ECF6",
          "polar": {
           "angularaxis": {
            "gridcolor": "white",
            "linecolor": "white",
            "ticks": ""
           },
           "bgcolor": "#E5ECF6",
           "radialaxis": {
            "gridcolor": "white",
            "linecolor": "white",
            "ticks": ""
           }
          },
          "scene": {
           "xaxis": {
            "backgroundcolor": "#E5ECF6",
            "gridcolor": "white",
            "gridwidth": 2,
            "linecolor": "white",
            "showbackground": true,
            "ticks": "",
            "zerolinecolor": "white"
           },
           "yaxis": {
            "backgroundcolor": "#E5ECF6",
            "gridcolor": "white",
            "gridwidth": 2,
            "linecolor": "white",
            "showbackground": true,
            "ticks": "",
            "zerolinecolor": "white"
           },
           "zaxis": {
            "backgroundcolor": "#E5ECF6",
            "gridcolor": "white",
            "gridwidth": 2,
            "linecolor": "white",
            "showbackground": true,
            "ticks": "",
            "zerolinecolor": "white"
           }
          },
          "shapedefaults": {
           "line": {
            "color": "#2a3f5f"
           }
          },
          "ternary": {
           "aaxis": {
            "gridcolor": "white",
            "linecolor": "white",
            "ticks": ""
           },
           "baxis": {
            "gridcolor": "white",
            "linecolor": "white",
            "ticks": ""
           },
           "bgcolor": "#E5ECF6",
           "caxis": {
            "gridcolor": "white",
            "linecolor": "white",
            "ticks": ""
           }
          },
          "title": {
           "x": 0.05
          },
          "xaxis": {
           "automargin": true,
           "gridcolor": "white",
           "linecolor": "white",
           "ticks": "",
           "title": {
            "standoff": 15
           },
           "zerolinecolor": "white",
           "zerolinewidth": 2
          },
          "yaxis": {
           "automargin": true,
           "gridcolor": "white",
           "linecolor": "white",
           "ticks": "",
           "title": {
            "standoff": 15
           },
           "zerolinecolor": "white",
           "zerolinewidth": 2
          }
         }
        },
        "title": {
         "font": {
          "color": "#4D5663"
         }
        },
        "xaxis": {
         "gridcolor": "#E1E5ED",
         "showgrid": true,
         "tickfont": {
          "color": "#4D5663"
         },
         "title": {
          "font": {
           "color": "#4D5663"
          },
          "text": ""
         },
         "zerolinecolor": "#E1E5ED"
        },
        "yaxis": {
         "gridcolor": "#E1E5ED",
         "showgrid": true,
         "tickfont": {
          "color": "#4D5663"
         },
         "title": {
          "font": {
           "color": "#4D5663"
          },
          "text": ""
         },
         "zerolinecolor": "#E1E5ED"
        }
       }
      },
      "text/html": "<div>                            <div id=\"97f89ed3-cf70-44c9-ab6b-bed9212c6498\" class=\"plotly-graph-div\" style=\"height:525px; width:100%;\"></div>            <script type=\"text/javascript\">                require([\"plotly\"], function(Plotly) {                    window.PLOTLYENV=window.PLOTLYENV || {};\n                    window.PLOTLYENV.BASE_URL='https://plot.ly';                                    if (document.getElementById(\"97f89ed3-cf70-44c9-ab6b-bed9212c6498\")) {                    Plotly.newPlot(                        \"97f89ed3-cf70-44c9-ab6b-bed9212c6498\",                        [{\"line\": {\"color\": \"rgba(255, 153, 51, 1.0)\", \"dash\": \"solid\", \"shape\": \"linear\", \"width\": 1.3}, \"mode\": \"lines\", \"name\": \"Windows NT\", \"text\": \"\", \"type\": \"scatter\", \"x\": [0.0, 1.0, 2.0, 3.0, 4.0, 5.0, 6.0, 7.0, 8.0, 9.0, 10.0, 11.0, 12.0, 13.0, 14.0, 15.0, 16.0, 17.0, 18.0, 19.0, 20.0, 21.0, 22.0, 23.0, 24.0, 26.0, 28.0, 30.0, 32.0, 33.0, 34.0, 35.0, 36.0, 39.0, 42.0, 44.0, 48.0, 52.0, 56.0, 60.0, 64.0, 69.0, 72.0, 75.0, 80.0, 99.0, 112.0, 135.0, 145.0, 147.0, 196.0, 271.0, 298.0, 466.0, 758.0, 1044.0, 1392.0, 1934.0, 9530.0, 15389.0], \"y\": [1.0, 0.9945733279066621, 0.8746438746438747, 0.8127798127798137, 0.8127798127798137, 0.8127798127798137, 0.8127798127798137, 0.8127798127798137, 0.8127798127798137, 0.8127798127798137, 0.8127798127798137, 0.8127798127798137, 0.8127798127798137, 0.8127798127798137, 0.8127798127798137, 0.8127798127798137, 0.8127798127798137, 0.8127798127798137, 0.8127798127798137, 0.8127798127798137, 0.8127798127798137, \"\", 0.8127798127798137, \"\", 0.8127798127798137, 0.8127798127798137, 0.8127798127798137, \"\", 0.8127798127798137, 0.8127798127798137, 0.8127798127798137, 0.8127798127798137, 0.8127798127798137, 0.8127798127798137, 0.8127798127798137, 0.8127798127798137, \"\", \"\", 0.8127798127798137, \"\", \"\", 0.8127798127798137, 0.8127798127798137, 0.8127798127798137, 0.8127798127798137, 0.8127798127798137, 0.8127798127798137, 0.8127798127798137, 0.8127798127798137, \"\", \"\", 0.8127798127798137, \"\", 0.8127798127798137, 0.8127798127798137, 0.8127798127798137, 0.8127798127798137, \"\", \"\", 0.8127798127798137]}, {\"line\": {\"color\": \"rgba(55, 128, 191, 1.0)\", \"dash\": \"solid\", \"shape\": \"linear\", \"width\": 1.3}, \"mode\": \"lines\", \"name\": \"iOS\", \"text\": \"\", \"type\": \"scatter\", \"x\": [0.0, 1.0, 2.0, 3.0, 4.0, 5.0, 6.0, 7.0, 8.0, 9.0, 10.0, 11.0, 12.0, 13.0, 14.0, 15.0, 16.0, 17.0, 18.0, 19.0, 20.0, 21.0, 22.0, 23.0, 24.0, 26.0, 28.0, 30.0, 32.0, 33.0, 34.0, 35.0, 36.0, 39.0, 42.0, 44.0, 48.0, 52.0, 56.0, 60.0, 64.0, 69.0, 72.0, 75.0, 80.0, 99.0, 112.0, 135.0, 145.0, 147.0, 196.0, 271.0, 298.0, 466.0, 758.0, 1044.0, 1392.0, 1934.0, 9530.0, 15389.0], \"y\": [1.0, 0.9956159579131963, 0.9017974572555904, 0.7816747040771592, 0.7816747040771592, 0.7816747040771592, 0.7816747040771592, 0.7816747040771592, 0.7816747040771592, 0.7816747040771592, 0.7816747040771592, 0.7816747040771592, 0.7816747040771592, 0.7816747040771592, 0.7816747040771592, 0.7816747040771592, 0.7816747040771592, 0.7816747040771592, 0.7816747040771592, 0.7816747040771592, 0.7816747040771592, \"\", \"\", \"\", 0.7816747040771592, \"\", 0.7816747040771592, \"\", 0.7816747040771592, \"\", 0.7816747040771592, \"\", \"\", \"\", \"\", \"\", \"\", \"\", \"\", \"\", \"\", \"\", \"\", \"\", \"\", \"\", \"\", \"\", \"\", \"\", \"\", \"\", \"\", \"\", \"\", \"\", \"\", \"\", \"\", \"\"]}, {\"line\": {\"color\": \"rgba(50, 171, 96, 1.0)\", \"dash\": \"solid\", \"shape\": \"linear\", \"width\": 1.3}, \"mode\": \"lines\", \"name\": \"Android\", \"text\": \"\", \"type\": \"scatter\", \"x\": [0.0, 1.0, 2.0, 3.0, 4.0, 5.0, 6.0, 7.0, 8.0, 9.0, 10.0, 11.0, 12.0, 13.0, 14.0, 15.0, 16.0, 17.0, 18.0, 19.0, 20.0, 21.0, 22.0, 23.0, 24.0, 26.0, 28.0, 30.0, 32.0, 33.0, 34.0, 35.0, 36.0, 39.0, 42.0, 44.0, 48.0, 52.0, 56.0, 60.0, 64.0, 69.0, 72.0, 75.0, 80.0, 99.0, 112.0, 135.0, 145.0, 147.0, 196.0, 271.0, 298.0, 466.0, 758.0, 1044.0, 1392.0, 1934.0, 9530.0, 15389.0], \"y\": [1.0, 0.9910222994497534, 0.907326962061974, 0.8276860700839846, 0.8276860700839846, 0.8276860700839846, 0.8276860700839846, 0.8276860700839846, 0.8276860700839846, 0.8276860700839846, 0.8276860700839846, 0.8276860700839846, 0.8276860700839846, 0.8276860700839846, 0.8276860700839846, 0.8276860700839846, 0.8276860700839846, 0.8276860700839846, 0.8276860700839846, 0.8276860700839846, 0.8276860700839846, 0.8276860700839846, \"\", 0.8276860700839846, 0.8276860700839846, \"\", 0.8276860700839846, \"\", 0.8276860700839846, \"\", \"\", 0.8276860700839846, \"\", \"\", \"\", \"\", 0.8276860700839846, 0.8276860700839846, \"\", \"\", \"\", 0.8276860700839846, \"\", \"\", \"\", 0.8276860700839846, \"\", 0.8276860700839846, 0.8276860700839846, \"\", \"\", \"\", \"\", \"\", 0.8276860700839846, \"\", \"\", \"\", \"\", 0.8276860700839846]}, {\"line\": {\"color\": \"rgba(128, 0, 128, 1.0)\", \"dash\": \"solid\", \"shape\": \"linear\", \"width\": 1.3}, \"mode\": \"lines\", \"name\": \"Mac OS X\", \"text\": \"\", \"type\": \"scatter\", \"x\": [0.0, 1.0, 2.0, 3.0, 4.0, 5.0, 6.0, 7.0, 8.0, 9.0, 10.0, 11.0, 12.0, 13.0, 14.0, 15.0, 16.0, 17.0, 18.0, 19.0, 20.0, 21.0, 22.0, 23.0, 24.0, 26.0, 28.0, 30.0, 32.0, 33.0, 34.0, 35.0, 36.0, 39.0, 42.0, 44.0, 48.0, 52.0, 56.0, 60.0, 64.0, 69.0, 72.0, 75.0, 80.0, 99.0, 112.0, 135.0, 145.0, 147.0, 196.0, 271.0, 298.0, 466.0, 758.0, 1044.0, 1392.0, 1934.0, 9530.0, 15389.0], \"y\": [1.0, 0.9974587039390087, 0.9428208386277002, 0.8875476493011436, 0.8875476493011436, 0.8875476493011436, 0.8875476493011436, 0.8875476493011436, 0.8875476493011436, 0.8875476493011436, \"\", 0.8875476493011436, 0.8875476493011436, 0.8875476493011436, 0.8875476493011436, 0.8875476493011436, 0.8875476493011436, \"\", 0.8875476493011436, \"\", 0.8875476493011436, \"\", \"\", \"\", 0.8875476493011436, \"\", \"\", 0.8875476493011436, 0.8875476493011436, \"\", \"\", \"\", \"\", \"\", \"\", 0.8875476493011436, \"\", \"\", \"\", 0.8875476493011436, \"\", \"\", \"\", \"\", \"\", \"\", \"\", \"\", \"\", \"\", \"\", 0.8875476493011436, 0.8875476493011436, \"\", 0.8875476493011436, \"\", \"\", \"\", 0.8875476493011436, \"\"]}, {\"line\": {\"color\": \"rgba(219, 64, 82, 1.0)\", \"dash\": \"solid\", \"shape\": \"linear\", \"width\": 1.3}, \"mode\": \"lines\", \"name\": \"Linux\", \"text\": \"\", \"type\": \"scatter\", \"x\": [0.0, 1.0, 2.0, 3.0, 4.0, 5.0, 6.0, 7.0, 8.0, 9.0, 10.0, 11.0, 12.0, 13.0, 14.0, 15.0, 16.0, 17.0, 18.0, 19.0, 20.0, 21.0, 22.0, 23.0, 24.0, 26.0, 28.0, 30.0, 32.0, 33.0, 34.0, 35.0, 36.0, 39.0, 42.0, 44.0, 48.0, 52.0, 56.0, 60.0, 64.0, 69.0, 72.0, 75.0, 80.0, 99.0, 112.0, 135.0, 145.0, 147.0, 196.0, 271.0, 298.0, 466.0, 758.0, 1044.0, 1392.0, 1934.0, 9530.0, 15389.0], \"y\": [1.0, 0.9986702127659569, 0.9933510638297871, 0.9880319148936169, 0.9880319148936169, 0.9880319148936169, 0.9880319148936169, \"\", \"\", \"\", \"\", \"\", \"\", \"\", \"\", \"\", \"\", \"\", \"\", \"\", \"\", \"\", \"\", \"\", \"\", \"\", \"\", \"\", \"\", \"\", \"\", \"\", 0.9880319148936169, \"\", \"\", \"\", 0.9880319148936169, \"\", 0.9880319148936169, \"\", 0.9880319148936169, \"\", \"\", \"\", \"\", \"\", \"\", \"\", \"\", 0.9880319148936169, 0.9880319148936169, \"\", \"\", \"\", 0.9880319148936169, \"\", 0.9880319148936169, 0.9880319148936169, \"\", 0.9880319148936169]}, {\"line\": {\"color\": \"rgba(0, 128, 128, 1.0)\", \"dash\": \"solid\", \"shape\": \"linear\", \"width\": 1.3}, \"mode\": \"lines\", \"name\": \"Ubuntu\", \"text\": \"\", \"type\": \"scatter\", \"x\": [0.0, 1.0, 2.0, 3.0, 4.0, 5.0, 6.0, 7.0, 8.0, 9.0, 10.0, 11.0, 12.0, 13.0, 14.0, 15.0, 16.0, 17.0, 18.0, 19.0, 20.0, 21.0, 22.0, 23.0, 24.0, 26.0, 28.0, 30.0, 32.0, 33.0, 34.0, 35.0, 36.0, 39.0, 42.0, 44.0, 48.0, 52.0, 56.0, 60.0, 64.0, 69.0, 72.0, 75.0, 80.0, 99.0, 112.0, 135.0, 145.0, 147.0, 196.0, 271.0, 298.0, 466.0, 758.0, 1044.0, 1392.0, 1934.0, 9530.0, 15389.0], \"y\": [1.0, \"\", 0.6666666666666666, \"\", 0.6666666666666666, \"\", \"\", \"\", \"\", \"\", \"\", \"\", \"\", \"\", \"\", \"\", \"\", \"\", \"\", \"\", \"\", \"\", \"\", \"\", \"\", \"\", \"\", \"\", \"\", \"\", \"\", \"\", \"\", \"\", \"\", \"\", \"\", \"\", \"\", \"\", \"\", \"\", \"\", \"\", \"\", \"\", \"\", \"\", \"\", \"\", \"\", \"\", \"\", \"\", \"\", \"\", \"\", \"\", \"\", \"\"]}, {\"line\": {\"color\": \"rgba(255, 255, 51, 1.0)\", \"dash\": \"solid\", \"shape\": \"linear\", \"width\": 1.3}, \"mode\": \"lines\", \"name\": \"Chrome OS\", \"text\": \"\", \"type\": \"scatter\", \"x\": [0.0, 1.0, 2.0, 3.0, 4.0, 5.0, 6.0, 7.0, 8.0, 9.0, 10.0, 11.0, 12.0, 13.0, 14.0, 15.0, 16.0, 17.0, 18.0, 19.0, 20.0, 21.0, 22.0, 23.0, 24.0, 26.0, 28.0, 30.0, 32.0, 33.0, 34.0, 35.0, 36.0, 39.0, 42.0, 44.0, 48.0, 52.0, 56.0, 60.0, 64.0, 69.0, 72.0, 75.0, 80.0, 99.0, 112.0, 135.0, 145.0, 147.0, 196.0, 271.0, 298.0, 466.0, 758.0, 1044.0, 1392.0, 1934.0, 9530.0, 15389.0], \"y\": [1.0, \"\", \"\", \"\", 1.0, \"\", \"\", \"\", \"\", \"\", \"\", \"\", \"\", \"\", \"\", \"\", \"\", \"\", \"\", \"\", \"\", \"\", \"\", \"\", \"\", 1.0, \"\", \"\", \"\", \"\", \"\", \"\", \"\", \"\", \"\", \"\", \"\", \"\", \"\", \"\", \"\", \"\", \"\", \"\", \"\", \"\", \"\", \"\", \"\", \"\", \"\", \"\", \"\", \"\", \"\", \"\", \"\", \"\", \"\", \"\"]}],                        {\"legend\": {\"bgcolor\": \"#F5F6F9\", \"font\": {\"color\": \"#4D5663\"}}, \"paper_bgcolor\": \"#F5F6F9\", \"plot_bgcolor\": \"#F5F6F9\", \"template\": {\"data\": {\"bar\": [{\"error_x\": {\"color\": \"#2a3f5f\"}, \"error_y\": {\"color\": \"#2a3f5f\"}, \"marker\": {\"line\": {\"color\": \"#E5ECF6\", \"width\": 0.5}}, \"type\": \"bar\"}], \"barpolar\": [{\"marker\": {\"line\": {\"color\": \"#E5ECF6\", \"width\": 0.5}}, \"type\": \"barpolar\"}], \"carpet\": [{\"aaxis\": {\"endlinecolor\": \"#2a3f5f\", \"gridcolor\": \"white\", \"linecolor\": \"white\", \"minorgridcolor\": \"white\", \"startlinecolor\": \"#2a3f5f\"}, \"baxis\": {\"endlinecolor\": \"#2a3f5f\", \"gridcolor\": \"white\", \"linecolor\": \"white\", \"minorgridcolor\": \"white\", \"startlinecolor\": \"#2a3f5f\"}, \"type\": \"carpet\"}], \"choropleth\": [{\"colorbar\": {\"outlinewidth\": 0, \"ticks\": \"\"}, \"type\": \"choropleth\"}], \"contour\": [{\"colorbar\": {\"outlinewidth\": 0, \"ticks\": \"\"}, \"colorscale\": [[0.0, \"#0d0887\"], [0.1111111111111111, \"#46039f\"], [0.2222222222222222, \"#7201a8\"], [0.3333333333333333, \"#9c179e\"], [0.4444444444444444, \"#bd3786\"], [0.5555555555555556, \"#d8576b\"], [0.6666666666666666, \"#ed7953\"], [0.7777777777777778, \"#fb9f3a\"], [0.8888888888888888, \"#fdca26\"], [1.0, \"#f0f921\"]], \"type\": \"contour\"}], \"contourcarpet\": [{\"colorbar\": {\"outlinewidth\": 0, \"ticks\": \"\"}, \"type\": \"contourcarpet\"}], \"heatmap\": [{\"colorbar\": {\"outlinewidth\": 0, \"ticks\": \"\"}, \"colorscale\": [[0.0, \"#0d0887\"], [0.1111111111111111, \"#46039f\"], [0.2222222222222222, \"#7201a8\"], [0.3333333333333333, \"#9c179e\"], [0.4444444444444444, \"#bd3786\"], [0.5555555555555556, \"#d8576b\"], [0.6666666666666666, \"#ed7953\"], [0.7777777777777778, \"#fb9f3a\"], [0.8888888888888888, \"#fdca26\"], [1.0, \"#f0f921\"]], \"type\": \"heatmap\"}], \"heatmapgl\": [{\"colorbar\": {\"outlinewidth\": 0, \"ticks\": \"\"}, \"colorscale\": [[0.0, \"#0d0887\"], [0.1111111111111111, \"#46039f\"], [0.2222222222222222, \"#7201a8\"], [0.3333333333333333, \"#9c179e\"], [0.4444444444444444, \"#bd3786\"], [0.5555555555555556, \"#d8576b\"], [0.6666666666666666, \"#ed7953\"], [0.7777777777777778, \"#fb9f3a\"], [0.8888888888888888, \"#fdca26\"], [1.0, \"#f0f921\"]], \"type\": \"heatmapgl\"}], \"histogram\": [{\"marker\": {\"colorbar\": {\"outlinewidth\": 0, \"ticks\": \"\"}}, \"type\": \"histogram\"}], \"histogram2d\": [{\"colorbar\": {\"outlinewidth\": 0, \"ticks\": \"\"}, \"colorscale\": [[0.0, \"#0d0887\"], [0.1111111111111111, \"#46039f\"], [0.2222222222222222, \"#7201a8\"], [0.3333333333333333, \"#9c179e\"], [0.4444444444444444, \"#bd3786\"], [0.5555555555555556, \"#d8576b\"], [0.6666666666666666, \"#ed7953\"], [0.7777777777777778, \"#fb9f3a\"], [0.8888888888888888, \"#fdca26\"], [1.0, \"#f0f921\"]], \"type\": \"histogram2d\"}], \"histogram2dcontour\": [{\"colorbar\": {\"outlinewidth\": 0, \"ticks\": \"\"}, \"colorscale\": [[0.0, \"#0d0887\"], [0.1111111111111111, \"#46039f\"], [0.2222222222222222, \"#7201a8\"], [0.3333333333333333, \"#9c179e\"], [0.4444444444444444, \"#bd3786\"], [0.5555555555555556, \"#d8576b\"], [0.6666666666666666, \"#ed7953\"], [0.7777777777777778, \"#fb9f3a\"], [0.8888888888888888, \"#fdca26\"], [1.0, \"#f0f921\"]], \"type\": \"histogram2dcontour\"}], \"mesh3d\": [{\"colorbar\": {\"outlinewidth\": 0, \"ticks\": \"\"}, \"type\": \"mesh3d\"}], \"parcoords\": [{\"line\": {\"colorbar\": {\"outlinewidth\": 0, \"ticks\": \"\"}}, \"type\": \"parcoords\"}], \"pie\": [{\"automargin\": true, \"type\": \"pie\"}], \"scatter\": [{\"marker\": {\"colorbar\": {\"outlinewidth\": 0, \"ticks\": \"\"}}, \"type\": \"scatter\"}], \"scatter3d\": [{\"line\": {\"colorbar\": {\"outlinewidth\": 0, \"ticks\": \"\"}}, \"marker\": {\"colorbar\": {\"outlinewidth\": 0, \"ticks\": \"\"}}, \"type\": \"scatter3d\"}], \"scattercarpet\": [{\"marker\": {\"colorbar\": {\"outlinewidth\": 0, \"ticks\": \"\"}}, \"type\": \"scattercarpet\"}], \"scattergeo\": [{\"marker\": {\"colorbar\": {\"outlinewidth\": 0, \"ticks\": \"\"}}, \"type\": \"scattergeo\"}], \"scattergl\": [{\"marker\": {\"colorbar\": {\"outlinewidth\": 0, \"ticks\": \"\"}}, \"type\": \"scattergl\"}], \"scattermapbox\": [{\"marker\": {\"colorbar\": {\"outlinewidth\": 0, \"ticks\": \"\"}}, \"type\": \"scattermapbox\"}], \"scatterpolar\": [{\"marker\": {\"colorbar\": {\"outlinewidth\": 0, \"ticks\": \"\"}}, \"type\": \"scatterpolar\"}], \"scatterpolargl\": [{\"marker\": {\"colorbar\": {\"outlinewidth\": 0, \"ticks\": \"\"}}, \"type\": \"scatterpolargl\"}], \"scatterternary\": [{\"marker\": {\"colorbar\": {\"outlinewidth\": 0, \"ticks\": \"\"}}, \"type\": \"scatterternary\"}], \"surface\": [{\"colorbar\": {\"outlinewidth\": 0, \"ticks\": \"\"}, \"colorscale\": [[0.0, \"#0d0887\"], [0.1111111111111111, \"#46039f\"], [0.2222222222222222, \"#7201a8\"], [0.3333333333333333, \"#9c179e\"], [0.4444444444444444, \"#bd3786\"], [0.5555555555555556, \"#d8576b\"], [0.6666666666666666, \"#ed7953\"], [0.7777777777777778, \"#fb9f3a\"], [0.8888888888888888, \"#fdca26\"], [1.0, \"#f0f921\"]], \"type\": \"surface\"}], \"table\": [{\"cells\": {\"fill\": {\"color\": \"#EBF0F8\"}, \"line\": {\"color\": \"white\"}}, \"header\": {\"fill\": {\"color\": \"#C8D4E3\"}, \"line\": {\"color\": \"white\"}}, \"type\": \"table\"}]}, \"layout\": {\"annotationdefaults\": {\"arrowcolor\": \"#2a3f5f\", \"arrowhead\": 0, \"arrowwidth\": 1}, \"autotypenumbers\": \"strict\", \"coloraxis\": {\"colorbar\": {\"outlinewidth\": 0, \"ticks\": \"\"}}, \"colorscale\": {\"diverging\": [[0, \"#8e0152\"], [0.1, \"#c51b7d\"], [0.2, \"#de77ae\"], [0.3, \"#f1b6da\"], [0.4, \"#fde0ef\"], [0.5, \"#f7f7f7\"], [0.6, \"#e6f5d0\"], [0.7, \"#b8e186\"], [0.8, \"#7fbc41\"], [0.9, \"#4d9221\"], [1, \"#276419\"]], \"sequential\": [[0.0, \"#0d0887\"], [0.1111111111111111, \"#46039f\"], [0.2222222222222222, \"#7201a8\"], [0.3333333333333333, \"#9c179e\"], [0.4444444444444444, \"#bd3786\"], [0.5555555555555556, \"#d8576b\"], [0.6666666666666666, \"#ed7953\"], [0.7777777777777778, \"#fb9f3a\"], [0.8888888888888888, \"#fdca26\"], [1.0, \"#f0f921\"]], \"sequentialminus\": [[0.0, \"#0d0887\"], [0.1111111111111111, \"#46039f\"], [0.2222222222222222, \"#7201a8\"], [0.3333333333333333, \"#9c179e\"], [0.4444444444444444, \"#bd3786\"], [0.5555555555555556, \"#d8576b\"], [0.6666666666666666, \"#ed7953\"], [0.7777777777777778, \"#fb9f3a\"], [0.8888888888888888, \"#fdca26\"], [1.0, \"#f0f921\"]]}, \"colorway\": [\"#636efa\", \"#EF553B\", \"#00cc96\", \"#ab63fa\", \"#FFA15A\", \"#19d3f3\", \"#FF6692\", \"#B6E880\", \"#FF97FF\", \"#FECB52\"], \"font\": {\"color\": \"#2a3f5f\"}, \"geo\": {\"bgcolor\": \"white\", \"lakecolor\": \"white\", \"landcolor\": \"#E5ECF6\", \"showlakes\": true, \"showland\": true, \"subunitcolor\": \"white\"}, \"hoverlabel\": {\"align\": \"left\"}, \"hovermode\": \"closest\", \"mapbox\": {\"style\": \"light\"}, \"paper_bgcolor\": \"white\", \"plot_bgcolor\": \"#E5ECF6\", \"polar\": {\"angularaxis\": {\"gridcolor\": \"white\", \"linecolor\": \"white\", \"ticks\": \"\"}, \"bgcolor\": \"#E5ECF6\", \"radialaxis\": {\"gridcolor\": \"white\", \"linecolor\": \"white\", \"ticks\": \"\"}}, \"scene\": {\"xaxis\": {\"backgroundcolor\": \"#E5ECF6\", \"gridcolor\": \"white\", \"gridwidth\": 2, \"linecolor\": \"white\", \"showbackground\": true, \"ticks\": \"\", \"zerolinecolor\": \"white\"}, \"yaxis\": {\"backgroundcolor\": \"#E5ECF6\", \"gridcolor\": \"white\", \"gridwidth\": 2, \"linecolor\": \"white\", \"showbackground\": true, \"ticks\": \"\", \"zerolinecolor\": \"white\"}, \"zaxis\": {\"backgroundcolor\": \"#E5ECF6\", \"gridcolor\": \"white\", \"gridwidth\": 2, \"linecolor\": \"white\", \"showbackground\": true, \"ticks\": \"\", \"zerolinecolor\": \"white\"}}, \"shapedefaults\": {\"line\": {\"color\": \"#2a3f5f\"}}, \"ternary\": {\"aaxis\": {\"gridcolor\": \"white\", \"linecolor\": \"white\", \"ticks\": \"\"}, \"baxis\": {\"gridcolor\": \"white\", \"linecolor\": \"white\", \"ticks\": \"\"}, \"bgcolor\": \"#E5ECF6\", \"caxis\": {\"gridcolor\": \"white\", \"linecolor\": \"white\", \"ticks\": \"\"}}, \"title\": {\"x\": 0.05}, \"xaxis\": {\"automargin\": true, \"gridcolor\": \"white\", \"linecolor\": \"white\", \"ticks\": \"\", \"title\": {\"standoff\": 15}, \"zerolinecolor\": \"white\", \"zerolinewidth\": 2}, \"yaxis\": {\"automargin\": true, \"gridcolor\": \"white\", \"linecolor\": \"white\", \"ticks\": \"\", \"title\": {\"standoff\": 15}, \"zerolinecolor\": \"white\", \"zerolinewidth\": 2}}}, \"title\": {\"font\": {\"color\": \"#4D5663\"}}, \"xaxis\": {\"gridcolor\": \"#E1E5ED\", \"showgrid\": true, \"tickfont\": {\"color\": \"#4D5663\"}, \"title\": {\"font\": {\"color\": \"#4D5663\"}, \"text\": \"\"}, \"zerolinecolor\": \"#E1E5ED\"}, \"yaxis\": {\"gridcolor\": \"#E1E5ED\", \"showgrid\": true, \"tickfont\": {\"color\": \"#4D5663\"}, \"title\": {\"font\": {\"color\": \"#4D5663\"}, \"text\": \"\"}, \"zerolinecolor\": \"#E1E5ED\"}},                        {\"showLink\": true, \"linkText\": \"Export to plot.ly\", \"plotlyServerURL\": \"https://plot.ly\", \"responsive\": true}                    ).then(function(){\n                            \nvar gd = document.getElementById('97f89ed3-cf70-44c9-ab6b-bed9212c6498');\nvar x = new MutationObserver(function (mutations, observer) {{\n        var display = window.getComputedStyle(gd).display;\n        if (!display || display === 'none') {{\n            console.log([gd, 'removed!']);\n            Plotly.purge(gd);\n            observer.disconnect();\n        }}\n}});\n\n// Listen for the removal of the full notebook cells\nvar notebookContainer = gd.closest('#notebook-container');\nif (notebookContainer) {{\n    x.observe(notebookContainer, {childList: true});\n}}\n\n// Listen for the clearing of the current output cell\nvar outputEl = gd.closest('.output');\nif (outputEl) {{\n    x.observe(outputEl, {childList: true});\n}}\n\n                        })                };                });            </script>        </div>"
     },
     "metadata": {}
    }
   ],
   "source": [
    "rates.iplot(kind = 'line')"
   ]
  },
  {
   "cell_type": "code",
   "execution_count": 114,
   "metadata": {},
   "outputs": [
    {
     "output_type": "execute_result",
     "data": {
      "text/plain": [
       "                     churn\n",
       "operating_system          \n",
       "Android           0.172314\n",
       "Chrome OS         0.000000\n",
       "Linux             0.011968\n",
       "Mac OS X          0.112452\n",
       "Ubuntu            0.333333\n",
       "Windows NT        0.187220\n",
       "iOS               0.218325"
      ],
      "text/html": "<div>\n<style scoped>\n    .dataframe tbody tr th:only-of-type {\n        vertical-align: middle;\n    }\n\n    .dataframe tbody tr th {\n        vertical-align: top;\n    }\n\n    .dataframe thead th {\n        text-align: right;\n    }\n</style>\n<table border=\"1\" class=\"dataframe\">\n  <thead>\n    <tr style=\"text-align: right;\">\n      <th></th>\n      <th>churn</th>\n    </tr>\n    <tr>\n      <th>operating_system</th>\n      <th></th>\n    </tr>\n  </thead>\n  <tbody>\n    <tr>\n      <th>Android</th>\n      <td>0.172314</td>\n    </tr>\n    <tr>\n      <th>Chrome OS</th>\n      <td>0.000000</td>\n    </tr>\n    <tr>\n      <th>Linux</th>\n      <td>0.011968</td>\n    </tr>\n    <tr>\n      <th>Mac OS X</th>\n      <td>0.112452</td>\n    </tr>\n    <tr>\n      <th>Ubuntu</th>\n      <td>0.333333</td>\n    </tr>\n    <tr>\n      <th>Windows NT</th>\n      <td>0.187220</td>\n    </tr>\n    <tr>\n      <th>iOS</th>\n      <td>0.218325</td>\n    </tr>\n  </tbody>\n</table>\n</div>"
     },
     "metadata": {},
     "execution_count": 114
    }
   ],
   "source": [
    "data_final.groupby('operating_system').mean()[['churn']]"
   ]
  },
  {
   "cell_type": "code",
   "execution_count": 118,
   "metadata": {},
   "outputs": [
    {
     "output_type": "display_data",
     "data": {
      "application/vnd.plotly.v1+json": {
       "config": {
        "linkText": "Export to plot.ly",
        "plotlyServerURL": "https://plot.ly",
        "showLink": true
       },
       "data": [
        {
         "line": {
          "color": "rgba(255, 153, 51, 1.0)",
          "dash": "solid",
          "shape": "linear",
          "width": 1.3
         },
         "mode": "lines",
         "name": "1.0",
         "text": "",
         "type": "scatter",
         "x": [
          0,
          1,
          2,
          3,
          4,
          5,
          6,
          7,
          8,
          9,
          10,
          11,
          12,
          13,
          14,
          15,
          16,
          17,
          18,
          19,
          20,
          21,
          22,
          23,
          24,
          26,
          28,
          30,
          32,
          33,
          34,
          35,
          36,
          39,
          42,
          44,
          45,
          48,
          52,
          56,
          60,
          64,
          68,
          69,
          72,
          75,
          80,
          93,
          96,
          99,
          108,
          112,
          128,
          135,
          145,
          147,
          196,
          271,
          288,
          298,
          466,
          473,
          597,
          630,
          660,
          758,
          844,
          1020,
          1044,
          1392,
          1934,
          4568,
          9530,
          15389
         ],
         "y": [
          1,
          0.9980065553660084,
          0.9794521860803891,
          0.9589618753713743,
          0.9589618753713743,
          0.9589618753713743,
          0.9589618753713743,
          0.9589618753713743,
          0.9589618753713743,
          0.9589618753713743,
          0.9589618753713743,
          0.9589618753713743,
          0.9589618753713743,
          0.9589618753713743,
          0.9589618753713743,
          0.9589618753713743,
          0.9589618753713743,
          0.9589618753713743,
          0.9589618753713743,
          0.9589618753713743,
          0.9589618753713743,
          0.9589618753713743,
          0.9589618753713743,
          0.9589618753713743,
          0.9589618753713743,
          0.9589618753713743,
          0.9589618753713743,
          0.9589618753713743,
          0.9589618753713743,
          0.9589618753713743,
          0.9589618753713743,
          0.9589618753713743,
          0.9589618753713743,
          0.9589618753713743,
          0.9589618753713743,
          0.9589618753713743,
          0.9589618753713743,
          0.9589618753713743,
          0.9589618753713743,
          0.9589618753713743,
          0.9589618753713743,
          0.9589618753713743,
          0.9589618753713743,
          0.9589618753713743,
          0.9589618753713743,
          0.9589618753713743,
          0.9589618753713743,
          0.9589618753713743,
          0.9589618753713743,
          0.9589618753713743,
          0.9589618753713743,
          0.9589618753713743,
          0.9589618753713743,
          0.9589618753713743,
          0.9589618753713743,
          0.9589618753713743,
          0.9589618753713743,
          0.9589618753713743,
          0.9589618753713743,
          0.9589618753713743,
          0.9589618753713743,
          0.9589618753713743,
          0.9589618753713743,
          0.9589618753713743,
          0.9589618753713743,
          0.9589618753713743,
          0.9589618753713743,
          0.9589618753713743,
          0.9589618753713743,
          0.9589618753713743,
          0.9589618753713743,
          0.9589618753713743,
          0.9589618753713743,
          0.9589618753713743
         ]
        },
        {
         "line": {
          "color": "rgba(55, 128, 191, 1.0)",
          "dash": "solid",
          "shape": "linear",
          "width": 1.3
         },
         "mode": "lines",
         "name": "2.0",
         "text": "",
         "type": "scatter",
         "x": [
          0,
          1,
          2,
          3,
          4,
          5,
          6,
          7,
          8,
          9,
          10,
          11,
          12,
          13,
          14,
          15,
          16,
          17,
          18,
          19,
          20,
          21,
          22,
          23,
          24,
          26,
          28,
          30,
          32,
          33,
          34,
          35,
          36,
          39,
          42,
          44,
          45,
          48,
          52,
          56,
          60,
          64,
          68,
          69,
          72,
          75,
          80,
          93,
          96,
          99,
          108,
          112,
          128,
          135,
          145,
          147,
          196,
          271,
          288,
          298,
          466,
          473,
          597,
          630,
          660,
          758,
          844,
          1020,
          1044,
          1392,
          1934,
          4568,
          9530,
          15389
         ],
         "y": [
          1,
          0.9723827874116888,
          0.7803468208092484,
          0.7508028259473343,
          0.7508028259473343,
          0.7508028259473343,
          0.7508028259473343,
          0.7508028259473343,
          0.7508028259473343,
          0.7508028259473343,
          0.7508028259473343,
          0.7508028259473343,
          0.7508028259473343,
          "",
          0.7508028259473343,
          0.7508028259473343,
          0.7508028259473343,
          "",
          "",
          "",
          0.7508028259473343,
          "",
          "",
          "",
          0.7508028259473343,
          "",
          "",
          "",
          0.7508028259473343,
          0.7508028259473343,
          "",
          "",
          0.7508028259473343,
          "",
          "",
          "",
          "",
          "",
          "",
          "",
          "",
          "",
          "",
          0.7508028259473343,
          "",
          "",
          "",
          "",
          "",
          "",
          0.7508028259473343,
          "",
          "",
          "",
          "",
          "",
          "",
          "",
          "",
          "",
          "",
          "",
          "",
          "",
          "",
          0.7508028259473343,
          "",
          "",
          "",
          0.7508028259473343,
          0.7508028259473343,
          "",
          "",
          0.7508028259473343
         ]
        },
        {
         "line": {
          "color": "rgba(50, 171, 96, 1.0)",
          "dash": "solid",
          "shape": "linear",
          "width": 1.3
         },
         "mode": "lines",
         "name": "4.0",
         "text": "",
         "type": "scatter",
         "x": [
          0,
          1,
          2,
          3,
          4,
          5,
          6,
          7,
          8,
          9,
          10,
          11,
          12,
          13,
          14,
          15,
          16,
          17,
          18,
          19,
          20,
          21,
          22,
          23,
          24,
          26,
          28,
          30,
          32,
          33,
          34,
          35,
          36,
          39,
          42,
          44,
          45,
          48,
          52,
          56,
          60,
          64,
          68,
          69,
          72,
          75,
          80,
          93,
          96,
          99,
          108,
          112,
          128,
          135,
          145,
          147,
          196,
          271,
          288,
          298,
          466,
          473,
          597,
          630,
          660,
          758,
          844,
          1020,
          1044,
          1392,
          1934,
          4568,
          9530,
          15389
         ],
         "y": [
          1,
          0.9942307692307693,
          0.946153846153846,
          0.8697115384615381,
          0.8697115384615381,
          0.8697115384615381,
          0.8697115384615381,
          0.8697115384615381,
          0.8697115384615381,
          0.8697115384615381,
          0.8697115384615381,
          0.8697115384615381,
          0.8697115384615381,
          0.8697115384615381,
          0.8697115384615381,
          0.8697115384615381,
          0.8697115384615381,
          0.8697115384615381,
          0.8697115384615381,
          0.8697115384615381,
          0.8697115384615381,
          "",
          0.8697115384615381,
          0.8697115384615381,
          0.8697115384615381,
          0.8697115384615381,
          "",
          "",
          0.8697115384615381,
          0.8697115384615381,
          0.8697115384615381,
          "",
          "",
          "",
          0.8697115384615381,
          0.8697115384615381,
          "",
          "",
          "",
          0.8697115384615381,
          "",
          "",
          "",
          0.8697115384615381,
          "",
          "",
          "",
          "",
          "",
          0.8697115384615381,
          "",
          "",
          "",
          "",
          "",
          0.8697115384615381,
          "",
          0.8697115384615381,
          "",
          0.8697115384615381,
          "",
          "",
          "",
          "",
          "",
          0.8697115384615381,
          "",
          "",
          "",
          "",
          0.8697115384615381,
          "",
          "",
          ""
         ]
        },
        {
         "line": {
          "color": "rgba(128, 0, 128, 1.0)",
          "dash": "solid",
          "shape": "linear",
          "width": 1.3
         },
         "mode": "lines",
         "name": "3.0",
         "text": "",
         "type": "scatter",
         "x": [
          0,
          1,
          2,
          3,
          4,
          5,
          6,
          7,
          8,
          9,
          10,
          11,
          12,
          13,
          14,
          15,
          16,
          17,
          18,
          19,
          20,
          21,
          22,
          23,
          24,
          26,
          28,
          30,
          32,
          33,
          34,
          35,
          36,
          39,
          42,
          44,
          45,
          48,
          52,
          56,
          60,
          64,
          68,
          69,
          72,
          75,
          80,
          93,
          96,
          99,
          108,
          112,
          128,
          135,
          145,
          147,
          196,
          271,
          288,
          298,
          466,
          473,
          597,
          630,
          660,
          758,
          844,
          1020,
          1044,
          1392,
          1934,
          4568,
          9530,
          15389
         ],
         "y": [
          1,
          0.962962962962963,
          0.9259259259259257,
          0.888888888888889,
          "",
          "",
          "",
          "",
          "",
          "",
          "",
          "",
          "",
          "",
          "",
          "",
          "",
          "",
          "",
          "",
          "",
          "",
          "",
          "",
          "",
          "",
          "",
          "",
          "",
          "",
          "",
          "",
          "",
          "",
          "",
          "",
          "",
          "",
          "",
          "",
          "",
          "",
          "",
          "",
          "",
          "",
          "",
          "",
          "",
          "",
          "",
          "",
          "",
          "",
          "",
          "",
          "",
          "",
          "",
          "",
          "",
          "",
          "",
          "",
          "",
          0.888888888888889,
          "",
          "",
          "",
          "",
          "",
          "",
          "",
          ""
         ]
        },
        {
         "line": {
          "color": "rgba(219, 64, 82, 1.0)",
          "dash": "solid",
          "shape": "linear",
          "width": 1.3
         },
         "mode": "lines",
         "name": "5.0",
         "text": "",
         "type": "scatter",
         "x": [
          0,
          1,
          2,
          3,
          4,
          5,
          6,
          7,
          8,
          9,
          10,
          11,
          12,
          13,
          14,
          15,
          16,
          17,
          18,
          19,
          20,
          21,
          22,
          23,
          24,
          26,
          28,
          30,
          32,
          33,
          34,
          35,
          36,
          39,
          42,
          44,
          45,
          48,
          52,
          56,
          60,
          64,
          68,
          69,
          72,
          75,
          80,
          93,
          96,
          99,
          108,
          112,
          128,
          135,
          145,
          147,
          196,
          271,
          288,
          298,
          466,
          473,
          597,
          630,
          660,
          758,
          844,
          1020,
          1044,
          1392,
          1934,
          4568,
          9530,
          15389
         ],
         "y": [
          1,
          "",
          "",
          "",
          "",
          "",
          "",
          "",
          "",
          "",
          "",
          "",
          "",
          "",
          "",
          "",
          "",
          "",
          "",
          "",
          "",
          "",
          "",
          "",
          "",
          "",
          "",
          "",
          "",
          "",
          "",
          "",
          "",
          "",
          "",
          "",
          "",
          "",
          "",
          "",
          "",
          "",
          "",
          "",
          "",
          "",
          "",
          "",
          "",
          "",
          "",
          "",
          "",
          "",
          "",
          "",
          "",
          1,
          "",
          "",
          "",
          "",
          "",
          "",
          "",
          "",
          "",
          "",
          "",
          "",
          1,
          "",
          "",
          ""
         ]
        },
        {
         "line": {
          "color": "rgba(0, 128, 128, 1.0)",
          "dash": "solid",
          "shape": "linear",
          "width": 1.3
         },
         "mode": "lines",
         "name": "8.0",
         "text": "",
         "type": "scatter",
         "x": [
          0,
          1,
          2,
          3,
          4,
          5,
          6,
          7,
          8,
          9,
          10,
          11,
          12,
          13,
          14,
          15,
          16,
          17,
          18,
          19,
          20,
          21,
          22,
          23,
          24,
          26,
          28,
          30,
          32,
          33,
          34,
          35,
          36,
          39,
          42,
          44,
          45,
          48,
          52,
          56,
          60,
          64,
          68,
          69,
          72,
          75,
          80,
          93,
          96,
          99,
          108,
          112,
          128,
          135,
          145,
          147,
          196,
          271,
          288,
          298,
          466,
          473,
          597,
          630,
          660,
          758,
          844,
          1020,
          1044,
          1392,
          1934,
          4568,
          9530,
          15389
         ],
         "y": [
          1,
          "",
          "",
          0,
          "",
          "",
          "",
          "",
          "",
          "",
          "",
          "",
          "",
          "",
          "",
          "",
          "",
          "",
          "",
          "",
          "",
          "",
          "",
          "",
          "",
          "",
          "",
          "",
          "",
          "",
          "",
          "",
          "",
          "",
          "",
          "",
          "",
          "",
          "",
          "",
          "",
          "",
          "",
          "",
          "",
          "",
          "",
          "",
          "",
          "",
          "",
          "",
          "",
          "",
          "",
          "",
          "",
          "",
          "",
          "",
          "",
          "",
          "",
          "",
          "",
          "",
          "",
          "",
          "",
          "",
          "",
          "",
          "",
          ""
         ]
        }
       ],
       "layout": {
        "legend": {
         "bgcolor": "#F5F6F9",
         "font": {
          "color": "#4D5663"
         }
        },
        "paper_bgcolor": "#F5F6F9",
        "plot_bgcolor": "#F5F6F9",
        "template": {
         "data": {
          "bar": [
           {
            "error_x": {
             "color": "#2a3f5f"
            },
            "error_y": {
             "color": "#2a3f5f"
            },
            "marker": {
             "line": {
              "color": "#E5ECF6",
              "width": 0.5
             }
            },
            "type": "bar"
           }
          ],
          "barpolar": [
           {
            "marker": {
             "line": {
              "color": "#E5ECF6",
              "width": 0.5
             }
            },
            "type": "barpolar"
           }
          ],
          "carpet": [
           {
            "aaxis": {
             "endlinecolor": "#2a3f5f",
             "gridcolor": "white",
             "linecolor": "white",
             "minorgridcolor": "white",
             "startlinecolor": "#2a3f5f"
            },
            "baxis": {
             "endlinecolor": "#2a3f5f",
             "gridcolor": "white",
             "linecolor": "white",
             "minorgridcolor": "white",
             "startlinecolor": "#2a3f5f"
            },
            "type": "carpet"
           }
          ],
          "choropleth": [
           {
            "colorbar": {
             "outlinewidth": 0,
             "ticks": ""
            },
            "type": "choropleth"
           }
          ],
          "contour": [
           {
            "colorbar": {
             "outlinewidth": 0,
             "ticks": ""
            },
            "colorscale": [
             [
              0,
              "#0d0887"
             ],
             [
              0.1111111111111111,
              "#46039f"
             ],
             [
              0.2222222222222222,
              "#7201a8"
             ],
             [
              0.3333333333333333,
              "#9c179e"
             ],
             [
              0.4444444444444444,
              "#bd3786"
             ],
             [
              0.5555555555555556,
              "#d8576b"
             ],
             [
              0.6666666666666666,
              "#ed7953"
             ],
             [
              0.7777777777777778,
              "#fb9f3a"
             ],
             [
              0.8888888888888888,
              "#fdca26"
             ],
             [
              1,
              "#f0f921"
             ]
            ],
            "type": "contour"
           }
          ],
          "contourcarpet": [
           {
            "colorbar": {
             "outlinewidth": 0,
             "ticks": ""
            },
            "type": "contourcarpet"
           }
          ],
          "heatmap": [
           {
            "colorbar": {
             "outlinewidth": 0,
             "ticks": ""
            },
            "colorscale": [
             [
              0,
              "#0d0887"
             ],
             [
              0.1111111111111111,
              "#46039f"
             ],
             [
              0.2222222222222222,
              "#7201a8"
             ],
             [
              0.3333333333333333,
              "#9c179e"
             ],
             [
              0.4444444444444444,
              "#bd3786"
             ],
             [
              0.5555555555555556,
              "#d8576b"
             ],
             [
              0.6666666666666666,
              "#ed7953"
             ],
             [
              0.7777777777777778,
              "#fb9f3a"
             ],
             [
              0.8888888888888888,
              "#fdca26"
             ],
             [
              1,
              "#f0f921"
             ]
            ],
            "type": "heatmap"
           }
          ],
          "heatmapgl": [
           {
            "colorbar": {
             "outlinewidth": 0,
             "ticks": ""
            },
            "colorscale": [
             [
              0,
              "#0d0887"
             ],
             [
              0.1111111111111111,
              "#46039f"
             ],
             [
              0.2222222222222222,
              "#7201a8"
             ],
             [
              0.3333333333333333,
              "#9c179e"
             ],
             [
              0.4444444444444444,
              "#bd3786"
             ],
             [
              0.5555555555555556,
              "#d8576b"
             ],
             [
              0.6666666666666666,
              "#ed7953"
             ],
             [
              0.7777777777777778,
              "#fb9f3a"
             ],
             [
              0.8888888888888888,
              "#fdca26"
             ],
             [
              1,
              "#f0f921"
             ]
            ],
            "type": "heatmapgl"
           }
          ],
          "histogram": [
           {
            "marker": {
             "colorbar": {
              "outlinewidth": 0,
              "ticks": ""
             }
            },
            "type": "histogram"
           }
          ],
          "histogram2d": [
           {
            "colorbar": {
             "outlinewidth": 0,
             "ticks": ""
            },
            "colorscale": [
             [
              0,
              "#0d0887"
             ],
             [
              0.1111111111111111,
              "#46039f"
             ],
             [
              0.2222222222222222,
              "#7201a8"
             ],
             [
              0.3333333333333333,
              "#9c179e"
             ],
             [
              0.4444444444444444,
              "#bd3786"
             ],
             [
              0.5555555555555556,
              "#d8576b"
             ],
             [
              0.6666666666666666,
              "#ed7953"
             ],
             [
              0.7777777777777778,
              "#fb9f3a"
             ],
             [
              0.8888888888888888,
              "#fdca26"
             ],
             [
              1,
              "#f0f921"
             ]
            ],
            "type": "histogram2d"
           }
          ],
          "histogram2dcontour": [
           {
            "colorbar": {
             "outlinewidth": 0,
             "ticks": ""
            },
            "colorscale": [
             [
              0,
              "#0d0887"
             ],
             [
              0.1111111111111111,
              "#46039f"
             ],
             [
              0.2222222222222222,
              "#7201a8"
             ],
             [
              0.3333333333333333,
              "#9c179e"
             ],
             [
              0.4444444444444444,
              "#bd3786"
             ],
             [
              0.5555555555555556,
              "#d8576b"
             ],
             [
              0.6666666666666666,
              "#ed7953"
             ],
             [
              0.7777777777777778,
              "#fb9f3a"
             ],
             [
              0.8888888888888888,
              "#fdca26"
             ],
             [
              1,
              "#f0f921"
             ]
            ],
            "type": "histogram2dcontour"
           }
          ],
          "mesh3d": [
           {
            "colorbar": {
             "outlinewidth": 0,
             "ticks": ""
            },
            "type": "mesh3d"
           }
          ],
          "parcoords": [
           {
            "line": {
             "colorbar": {
              "outlinewidth": 0,
              "ticks": ""
             }
            },
            "type": "parcoords"
           }
          ],
          "pie": [
           {
            "automargin": true,
            "type": "pie"
           }
          ],
          "scatter": [
           {
            "marker": {
             "colorbar": {
              "outlinewidth": 0,
              "ticks": ""
             }
            },
            "type": "scatter"
           }
          ],
          "scatter3d": [
           {
            "line": {
             "colorbar": {
              "outlinewidth": 0,
              "ticks": ""
             }
            },
            "marker": {
             "colorbar": {
              "outlinewidth": 0,
              "ticks": ""
             }
            },
            "type": "scatter3d"
           }
          ],
          "scattercarpet": [
           {
            "marker": {
             "colorbar": {
              "outlinewidth": 0,
              "ticks": ""
             }
            },
            "type": "scattercarpet"
           }
          ],
          "scattergeo": [
           {
            "marker": {
             "colorbar": {
              "outlinewidth": 0,
              "ticks": ""
             }
            },
            "type": "scattergeo"
           }
          ],
          "scattergl": [
           {
            "marker": {
             "colorbar": {
              "outlinewidth": 0,
              "ticks": ""
             }
            },
            "type": "scattergl"
           }
          ],
          "scattermapbox": [
           {
            "marker": {
             "colorbar": {
              "outlinewidth": 0,
              "ticks": ""
             }
            },
            "type": "scattermapbox"
           }
          ],
          "scatterpolar": [
           {
            "marker": {
             "colorbar": {
              "outlinewidth": 0,
              "ticks": ""
             }
            },
            "type": "scatterpolar"
           }
          ],
          "scatterpolargl": [
           {
            "marker": {
             "colorbar": {
              "outlinewidth": 0,
              "ticks": ""
             }
            },
            "type": "scatterpolargl"
           }
          ],
          "scatterternary": [
           {
            "marker": {
             "colorbar": {
              "outlinewidth": 0,
              "ticks": ""
             }
            },
            "type": "scatterternary"
           }
          ],
          "surface": [
           {
            "colorbar": {
             "outlinewidth": 0,
             "ticks": ""
            },
            "colorscale": [
             [
              0,
              "#0d0887"
             ],
             [
              0.1111111111111111,
              "#46039f"
             ],
             [
              0.2222222222222222,
              "#7201a8"
             ],
             [
              0.3333333333333333,
              "#9c179e"
             ],
             [
              0.4444444444444444,
              "#bd3786"
             ],
             [
              0.5555555555555556,
              "#d8576b"
             ],
             [
              0.6666666666666666,
              "#ed7953"
             ],
             [
              0.7777777777777778,
              "#fb9f3a"
             ],
             [
              0.8888888888888888,
              "#fdca26"
             ],
             [
              1,
              "#f0f921"
             ]
            ],
            "type": "surface"
           }
          ],
          "table": [
           {
            "cells": {
             "fill": {
              "color": "#EBF0F8"
             },
             "line": {
              "color": "white"
             }
            },
            "header": {
             "fill": {
              "color": "#C8D4E3"
             },
             "line": {
              "color": "white"
             }
            },
            "type": "table"
           }
          ]
         },
         "layout": {
          "annotationdefaults": {
           "arrowcolor": "#2a3f5f",
           "arrowhead": 0,
           "arrowwidth": 1
          },
          "autotypenumbers": "strict",
          "coloraxis": {
           "colorbar": {
            "outlinewidth": 0,
            "ticks": ""
           }
          },
          "colorscale": {
           "diverging": [
            [
             0,
             "#8e0152"
            ],
            [
             0.1,
             "#c51b7d"
            ],
            [
             0.2,
             "#de77ae"
            ],
            [
             0.3,
             "#f1b6da"
            ],
            [
             0.4,
             "#fde0ef"
            ],
            [
             0.5,
             "#f7f7f7"
            ],
            [
             0.6,
             "#e6f5d0"
            ],
            [
             0.7,
             "#b8e186"
            ],
            [
             0.8,
             "#7fbc41"
            ],
            [
             0.9,
             "#4d9221"
            ],
            [
             1,
             "#276419"
            ]
           ],
           "sequential": [
            [
             0,
             "#0d0887"
            ],
            [
             0.1111111111111111,
             "#46039f"
            ],
            [
             0.2222222222222222,
             "#7201a8"
            ],
            [
             0.3333333333333333,
             "#9c179e"
            ],
            [
             0.4444444444444444,
             "#bd3786"
            ],
            [
             0.5555555555555556,
             "#d8576b"
            ],
            [
             0.6666666666666666,
             "#ed7953"
            ],
            [
             0.7777777777777778,
             "#fb9f3a"
            ],
            [
             0.8888888888888888,
             "#fdca26"
            ],
            [
             1,
             "#f0f921"
            ]
           ],
           "sequentialminus": [
            [
             0,
             "#0d0887"
            ],
            [
             0.1111111111111111,
             "#46039f"
            ],
            [
             0.2222222222222222,
             "#7201a8"
            ],
            [
             0.3333333333333333,
             "#9c179e"
            ],
            [
             0.4444444444444444,
             "#bd3786"
            ],
            [
             0.5555555555555556,
             "#d8576b"
            ],
            [
             0.6666666666666666,
             "#ed7953"
            ],
            [
             0.7777777777777778,
             "#fb9f3a"
            ],
            [
             0.8888888888888888,
             "#fdca26"
            ],
            [
             1,
             "#f0f921"
            ]
           ]
          },
          "colorway": [
           "#636efa",
           "#EF553B",
           "#00cc96",
           "#ab63fa",
           "#FFA15A",
           "#19d3f3",
           "#FF6692",
           "#B6E880",
           "#FF97FF",
           "#FECB52"
          ],
          "font": {
           "color": "#2a3f5f"
          },
          "geo": {
           "bgcolor": "white",
           "lakecolor": "white",
           "landcolor": "#E5ECF6",
           "showlakes": true,
           "showland": true,
           "subunitcolor": "white"
          },
          "hoverlabel": {
           "align": "left"
          },
          "hovermode": "closest",
          "mapbox": {
           "style": "light"
          },
          "paper_bgcolor": "white",
          "plot_bgcolor": "#E5ECF6",
          "polar": {
           "angularaxis": {
            "gridcolor": "white",
            "linecolor": "white",
            "ticks": ""
           },
           "bgcolor": "#E5ECF6",
           "radialaxis": {
            "gridcolor": "white",
            "linecolor": "white",
            "ticks": ""
           }
          },
          "scene": {
           "xaxis": {
            "backgroundcolor": "#E5ECF6",
            "gridcolor": "white",
            "gridwidth": 2,
            "linecolor": "white",
            "showbackground": true,
            "ticks": "",
            "zerolinecolor": "white"
           },
           "yaxis": {
            "backgroundcolor": "#E5ECF6",
            "gridcolor": "white",
            "gridwidth": 2,
            "linecolor": "white",
            "showbackground": true,
            "ticks": "",
            "zerolinecolor": "white"
           },
           "zaxis": {
            "backgroundcolor": "#E5ECF6",
            "gridcolor": "white",
            "gridwidth": 2,
            "linecolor": "white",
            "showbackground": true,
            "ticks": "",
            "zerolinecolor": "white"
           }
          },
          "shapedefaults": {
           "line": {
            "color": "#2a3f5f"
           }
          },
          "ternary": {
           "aaxis": {
            "gridcolor": "white",
            "linecolor": "white",
            "ticks": ""
           },
           "baxis": {
            "gridcolor": "white",
            "linecolor": "white",
            "ticks": ""
           },
           "bgcolor": "#E5ECF6",
           "caxis": {
            "gridcolor": "white",
            "linecolor": "white",
            "ticks": ""
           }
          },
          "title": {
           "x": 0.05
          },
          "xaxis": {
           "automargin": true,
           "gridcolor": "white",
           "linecolor": "white",
           "ticks": "",
           "title": {
            "standoff": 15
           },
           "zerolinecolor": "white",
           "zerolinewidth": 2
          },
          "yaxis": {
           "automargin": true,
           "gridcolor": "white",
           "linecolor": "white",
           "ticks": "",
           "title": {
            "standoff": 15
           },
           "zerolinecolor": "white",
           "zerolinewidth": 2
          }
         }
        },
        "title": {
         "font": {
          "color": "#4D5663"
         }
        },
        "xaxis": {
         "gridcolor": "#E1E5ED",
         "showgrid": true,
         "tickfont": {
          "color": "#4D5663"
         },
         "title": {
          "font": {
           "color": "#4D5663"
          },
          "text": ""
         },
         "zerolinecolor": "#E1E5ED"
        },
        "yaxis": {
         "gridcolor": "#E1E5ED",
         "showgrid": true,
         "tickfont": {
          "color": "#4D5663"
         },
         "title": {
          "font": {
           "color": "#4D5663"
          },
          "text": ""
         },
         "zerolinecolor": "#E1E5ED"
        }
       }
      },
      "text/html": "<div>                            <div id=\"4c1d1e82-77fe-47b6-bea7-36297f68b590\" class=\"plotly-graph-div\" style=\"height:525px; width:100%;\"></div>            <script type=\"text/javascript\">                require([\"plotly\"], function(Plotly) {                    window.PLOTLYENV=window.PLOTLYENV || {};\n                    window.PLOTLYENV.BASE_URL='https://plot.ly';                                    if (document.getElementById(\"4c1d1e82-77fe-47b6-bea7-36297f68b590\")) {                    Plotly.newPlot(                        \"4c1d1e82-77fe-47b6-bea7-36297f68b590\",                        [{\"line\": {\"color\": \"rgba(255, 153, 51, 1.0)\", \"dash\": \"solid\", \"shape\": \"linear\", \"width\": 1.3}, \"mode\": \"lines\", \"name\": \"1.0\", \"text\": \"\", \"type\": \"scatter\", \"x\": [0.0, 1.0, 2.0, 3.0, 4.0, 5.0, 6.0, 7.0, 8.0, 9.0, 10.0, 11.0, 12.0, 13.0, 14.0, 15.0, 16.0, 17.0, 18.0, 19.0, 20.0, 21.0, 22.0, 23.0, 24.0, 26.0, 28.0, 30.0, 32.0, 33.0, 34.0, 35.0, 36.0, 39.0, 42.0, 44.0, 45.0, 48.0, 52.0, 56.0, 60.0, 64.0, 68.0, 69.0, 72.0, 75.0, 80.0, 93.0, 96.0, 99.0, 108.0, 112.0, 128.0, 135.0, 145.0, 147.0, 196.0, 271.0, 288.0, 298.0, 466.0, 473.0, 597.0, 630.0, 660.0, 758.0, 844.0, 1020.0, 1044.0, 1392.0, 1934.0, 4568.0, 9530.0, 15389.0], \"y\": [1.0, 0.9980065553660084, 0.9794521860803891, 0.9589618753713743, 0.9589618753713743, 0.9589618753713743, 0.9589618753713743, 0.9589618753713743, 0.9589618753713743, 0.9589618753713743, 0.9589618753713743, 0.9589618753713743, 0.9589618753713743, 0.9589618753713743, 0.9589618753713743, 0.9589618753713743, 0.9589618753713743, 0.9589618753713743, 0.9589618753713743, 0.9589618753713743, 0.9589618753713743, 0.9589618753713743, 0.9589618753713743, 0.9589618753713743, 0.9589618753713743, 0.9589618753713743, 0.9589618753713743, 0.9589618753713743, 0.9589618753713743, 0.9589618753713743, 0.9589618753713743, 0.9589618753713743, 0.9589618753713743, 0.9589618753713743, 0.9589618753713743, 0.9589618753713743, 0.9589618753713743, 0.9589618753713743, 0.9589618753713743, 0.9589618753713743, 0.9589618753713743, 0.9589618753713743, 0.9589618753713743, 0.9589618753713743, 0.9589618753713743, 0.9589618753713743, 0.9589618753713743, 0.9589618753713743, 0.9589618753713743, 0.9589618753713743, 0.9589618753713743, 0.9589618753713743, 0.9589618753713743, 0.9589618753713743, 0.9589618753713743, 0.9589618753713743, 0.9589618753713743, 0.9589618753713743, 0.9589618753713743, 0.9589618753713743, 0.9589618753713743, 0.9589618753713743, 0.9589618753713743, 0.9589618753713743, 0.9589618753713743, 0.9589618753713743, 0.9589618753713743, 0.9589618753713743, 0.9589618753713743, 0.9589618753713743, 0.9589618753713743, 0.9589618753713743, 0.9589618753713743, 0.9589618753713743]}, {\"line\": {\"color\": \"rgba(55, 128, 191, 1.0)\", \"dash\": \"solid\", \"shape\": \"linear\", \"width\": 1.3}, \"mode\": \"lines\", \"name\": \"2.0\", \"text\": \"\", \"type\": \"scatter\", \"x\": [0.0, 1.0, 2.0, 3.0, 4.0, 5.0, 6.0, 7.0, 8.0, 9.0, 10.0, 11.0, 12.0, 13.0, 14.0, 15.0, 16.0, 17.0, 18.0, 19.0, 20.0, 21.0, 22.0, 23.0, 24.0, 26.0, 28.0, 30.0, 32.0, 33.0, 34.0, 35.0, 36.0, 39.0, 42.0, 44.0, 45.0, 48.0, 52.0, 56.0, 60.0, 64.0, 68.0, 69.0, 72.0, 75.0, 80.0, 93.0, 96.0, 99.0, 108.0, 112.0, 128.0, 135.0, 145.0, 147.0, 196.0, 271.0, 288.0, 298.0, 466.0, 473.0, 597.0, 630.0, 660.0, 758.0, 844.0, 1020.0, 1044.0, 1392.0, 1934.0, 4568.0, 9530.0, 15389.0], \"y\": [1.0, 0.9723827874116888, 0.7803468208092484, 0.7508028259473343, 0.7508028259473343, 0.7508028259473343, 0.7508028259473343, 0.7508028259473343, 0.7508028259473343, 0.7508028259473343, 0.7508028259473343, 0.7508028259473343, 0.7508028259473343, \"\", 0.7508028259473343, 0.7508028259473343, 0.7508028259473343, \"\", \"\", \"\", 0.7508028259473343, \"\", \"\", \"\", 0.7508028259473343, \"\", \"\", \"\", 0.7508028259473343, 0.7508028259473343, \"\", \"\", 0.7508028259473343, \"\", \"\", \"\", \"\", \"\", \"\", \"\", \"\", \"\", \"\", 0.7508028259473343, \"\", \"\", \"\", \"\", \"\", \"\", 0.7508028259473343, \"\", \"\", \"\", \"\", \"\", \"\", \"\", \"\", \"\", \"\", \"\", \"\", \"\", \"\", 0.7508028259473343, \"\", \"\", \"\", 0.7508028259473343, 0.7508028259473343, \"\", \"\", 0.7508028259473343]}, {\"line\": {\"color\": \"rgba(50, 171, 96, 1.0)\", \"dash\": \"solid\", \"shape\": \"linear\", \"width\": 1.3}, \"mode\": \"lines\", \"name\": \"4.0\", \"text\": \"\", \"type\": \"scatter\", \"x\": [0.0, 1.0, 2.0, 3.0, 4.0, 5.0, 6.0, 7.0, 8.0, 9.0, 10.0, 11.0, 12.0, 13.0, 14.0, 15.0, 16.0, 17.0, 18.0, 19.0, 20.0, 21.0, 22.0, 23.0, 24.0, 26.0, 28.0, 30.0, 32.0, 33.0, 34.0, 35.0, 36.0, 39.0, 42.0, 44.0, 45.0, 48.0, 52.0, 56.0, 60.0, 64.0, 68.0, 69.0, 72.0, 75.0, 80.0, 93.0, 96.0, 99.0, 108.0, 112.0, 128.0, 135.0, 145.0, 147.0, 196.0, 271.0, 288.0, 298.0, 466.0, 473.0, 597.0, 630.0, 660.0, 758.0, 844.0, 1020.0, 1044.0, 1392.0, 1934.0, 4568.0, 9530.0, 15389.0], \"y\": [1.0, 0.9942307692307693, 0.946153846153846, 0.8697115384615381, 0.8697115384615381, 0.8697115384615381, 0.8697115384615381, 0.8697115384615381, 0.8697115384615381, 0.8697115384615381, 0.8697115384615381, 0.8697115384615381, 0.8697115384615381, 0.8697115384615381, 0.8697115384615381, 0.8697115384615381, 0.8697115384615381, 0.8697115384615381, 0.8697115384615381, 0.8697115384615381, 0.8697115384615381, \"\", 0.8697115384615381, 0.8697115384615381, 0.8697115384615381, 0.8697115384615381, \"\", \"\", 0.8697115384615381, 0.8697115384615381, 0.8697115384615381, \"\", \"\", \"\", 0.8697115384615381, 0.8697115384615381, \"\", \"\", \"\", 0.8697115384615381, \"\", \"\", \"\", 0.8697115384615381, \"\", \"\", \"\", \"\", \"\", 0.8697115384615381, \"\", \"\", \"\", \"\", \"\", 0.8697115384615381, \"\", 0.8697115384615381, \"\", 0.8697115384615381, \"\", \"\", \"\", \"\", \"\", 0.8697115384615381, \"\", \"\", \"\", \"\", 0.8697115384615381, \"\", \"\", \"\"]}, {\"line\": {\"color\": \"rgba(128, 0, 128, 1.0)\", \"dash\": \"solid\", \"shape\": \"linear\", \"width\": 1.3}, \"mode\": \"lines\", \"name\": \"3.0\", \"text\": \"\", \"type\": \"scatter\", \"x\": [0.0, 1.0, 2.0, 3.0, 4.0, 5.0, 6.0, 7.0, 8.0, 9.0, 10.0, 11.0, 12.0, 13.0, 14.0, 15.0, 16.0, 17.0, 18.0, 19.0, 20.0, 21.0, 22.0, 23.0, 24.0, 26.0, 28.0, 30.0, 32.0, 33.0, 34.0, 35.0, 36.0, 39.0, 42.0, 44.0, 45.0, 48.0, 52.0, 56.0, 60.0, 64.0, 68.0, 69.0, 72.0, 75.0, 80.0, 93.0, 96.0, 99.0, 108.0, 112.0, 128.0, 135.0, 145.0, 147.0, 196.0, 271.0, 288.0, 298.0, 466.0, 473.0, 597.0, 630.0, 660.0, 758.0, 844.0, 1020.0, 1044.0, 1392.0, 1934.0, 4568.0, 9530.0, 15389.0], \"y\": [1.0, 0.962962962962963, 0.9259259259259257, 0.888888888888889, \"\", \"\", \"\", \"\", \"\", \"\", \"\", \"\", \"\", \"\", \"\", \"\", \"\", \"\", \"\", \"\", \"\", \"\", \"\", \"\", \"\", \"\", \"\", \"\", \"\", \"\", \"\", \"\", \"\", \"\", \"\", \"\", \"\", \"\", \"\", \"\", \"\", \"\", \"\", \"\", \"\", \"\", \"\", \"\", \"\", \"\", \"\", \"\", \"\", \"\", \"\", \"\", \"\", \"\", \"\", \"\", \"\", \"\", \"\", \"\", \"\", 0.888888888888889, \"\", \"\", \"\", \"\", \"\", \"\", \"\", \"\"]}, {\"line\": {\"color\": \"rgba(219, 64, 82, 1.0)\", \"dash\": \"solid\", \"shape\": \"linear\", \"width\": 1.3}, \"mode\": \"lines\", \"name\": \"5.0\", \"text\": \"\", \"type\": \"scatter\", \"x\": [0.0, 1.0, 2.0, 3.0, 4.0, 5.0, 6.0, 7.0, 8.0, 9.0, 10.0, 11.0, 12.0, 13.0, 14.0, 15.0, 16.0, 17.0, 18.0, 19.0, 20.0, 21.0, 22.0, 23.0, 24.0, 26.0, 28.0, 30.0, 32.0, 33.0, 34.0, 35.0, 36.0, 39.0, 42.0, 44.0, 45.0, 48.0, 52.0, 56.0, 60.0, 64.0, 68.0, 69.0, 72.0, 75.0, 80.0, 93.0, 96.0, 99.0, 108.0, 112.0, 128.0, 135.0, 145.0, 147.0, 196.0, 271.0, 288.0, 298.0, 466.0, 473.0, 597.0, 630.0, 660.0, 758.0, 844.0, 1020.0, 1044.0, 1392.0, 1934.0, 4568.0, 9530.0, 15389.0], \"y\": [1.0, \"\", \"\", \"\", \"\", \"\", \"\", \"\", \"\", \"\", \"\", \"\", \"\", \"\", \"\", \"\", \"\", \"\", \"\", \"\", \"\", \"\", \"\", \"\", \"\", \"\", \"\", \"\", \"\", \"\", \"\", \"\", \"\", \"\", \"\", \"\", \"\", \"\", \"\", \"\", \"\", \"\", \"\", \"\", \"\", \"\", \"\", \"\", \"\", \"\", \"\", \"\", \"\", \"\", \"\", \"\", \"\", 1.0, \"\", \"\", \"\", \"\", \"\", \"\", \"\", \"\", \"\", \"\", \"\", \"\", 1.0, \"\", \"\", \"\"]}, {\"line\": {\"color\": \"rgba(0, 128, 128, 1.0)\", \"dash\": \"solid\", \"shape\": \"linear\", \"width\": 1.3}, \"mode\": \"lines\", \"name\": \"8.0\", \"text\": \"\", \"type\": \"scatter\", \"x\": [0.0, 1.0, 2.0, 3.0, 4.0, 5.0, 6.0, 7.0, 8.0, 9.0, 10.0, 11.0, 12.0, 13.0, 14.0, 15.0, 16.0, 17.0, 18.0, 19.0, 20.0, 21.0, 22.0, 23.0, 24.0, 26.0, 28.0, 30.0, 32.0, 33.0, 34.0, 35.0, 36.0, 39.0, 42.0, 44.0, 45.0, 48.0, 52.0, 56.0, 60.0, 64.0, 68.0, 69.0, 72.0, 75.0, 80.0, 93.0, 96.0, 99.0, 108.0, 112.0, 128.0, 135.0, 145.0, 147.0, 196.0, 271.0, 288.0, 298.0, 466.0, 473.0, 597.0, 630.0, 660.0, 758.0, 844.0, 1020.0, 1044.0, 1392.0, 1934.0, 4568.0, 9530.0, 15389.0], \"y\": [1.0, \"\", \"\", 0.0, \"\", \"\", \"\", \"\", \"\", \"\", \"\", \"\", \"\", \"\", \"\", \"\", \"\", \"\", \"\", \"\", \"\", \"\", \"\", \"\", \"\", \"\", \"\", \"\", \"\", \"\", \"\", \"\", \"\", \"\", \"\", \"\", \"\", \"\", \"\", \"\", \"\", \"\", \"\", \"\", \"\", \"\", \"\", \"\", \"\", \"\", \"\", \"\", \"\", \"\", \"\", \"\", \"\", \"\", \"\", \"\", \"\", \"\", \"\", \"\", \"\", \"\", \"\", \"\", \"\", \"\", \"\", \"\", \"\", \"\"]}],                        {\"legend\": {\"bgcolor\": \"#F5F6F9\", \"font\": {\"color\": \"#4D5663\"}}, \"paper_bgcolor\": \"#F5F6F9\", \"plot_bgcolor\": \"#F5F6F9\", \"template\": {\"data\": {\"bar\": [{\"error_x\": {\"color\": \"#2a3f5f\"}, \"error_y\": {\"color\": \"#2a3f5f\"}, \"marker\": {\"line\": {\"color\": \"#E5ECF6\", \"width\": 0.5}}, \"type\": \"bar\"}], \"barpolar\": [{\"marker\": {\"line\": {\"color\": \"#E5ECF6\", \"width\": 0.5}}, \"type\": \"barpolar\"}], \"carpet\": [{\"aaxis\": {\"endlinecolor\": \"#2a3f5f\", \"gridcolor\": \"white\", \"linecolor\": \"white\", \"minorgridcolor\": \"white\", \"startlinecolor\": \"#2a3f5f\"}, \"baxis\": {\"endlinecolor\": \"#2a3f5f\", \"gridcolor\": \"white\", \"linecolor\": \"white\", \"minorgridcolor\": \"white\", \"startlinecolor\": \"#2a3f5f\"}, \"type\": \"carpet\"}], \"choropleth\": [{\"colorbar\": {\"outlinewidth\": 0, \"ticks\": \"\"}, \"type\": \"choropleth\"}], \"contour\": [{\"colorbar\": {\"outlinewidth\": 0, \"ticks\": \"\"}, \"colorscale\": [[0.0, \"#0d0887\"], [0.1111111111111111, \"#46039f\"], [0.2222222222222222, \"#7201a8\"], [0.3333333333333333, \"#9c179e\"], [0.4444444444444444, \"#bd3786\"], [0.5555555555555556, \"#d8576b\"], [0.6666666666666666, \"#ed7953\"], [0.7777777777777778, \"#fb9f3a\"], [0.8888888888888888, \"#fdca26\"], [1.0, \"#f0f921\"]], \"type\": \"contour\"}], \"contourcarpet\": [{\"colorbar\": {\"outlinewidth\": 0, \"ticks\": \"\"}, \"type\": \"contourcarpet\"}], \"heatmap\": [{\"colorbar\": {\"outlinewidth\": 0, \"ticks\": \"\"}, \"colorscale\": [[0.0, \"#0d0887\"], [0.1111111111111111, \"#46039f\"], [0.2222222222222222, \"#7201a8\"], [0.3333333333333333, \"#9c179e\"], [0.4444444444444444, \"#bd3786\"], [0.5555555555555556, \"#d8576b\"], [0.6666666666666666, \"#ed7953\"], [0.7777777777777778, \"#fb9f3a\"], [0.8888888888888888, \"#fdca26\"], [1.0, \"#f0f921\"]], \"type\": \"heatmap\"}], \"heatmapgl\": [{\"colorbar\": {\"outlinewidth\": 0, \"ticks\": \"\"}, \"colorscale\": [[0.0, \"#0d0887\"], [0.1111111111111111, \"#46039f\"], [0.2222222222222222, \"#7201a8\"], [0.3333333333333333, \"#9c179e\"], [0.4444444444444444, \"#bd3786\"], [0.5555555555555556, \"#d8576b\"], [0.6666666666666666, \"#ed7953\"], [0.7777777777777778, \"#fb9f3a\"], [0.8888888888888888, \"#fdca26\"], [1.0, \"#f0f921\"]], \"type\": \"heatmapgl\"}], \"histogram\": [{\"marker\": {\"colorbar\": {\"outlinewidth\": 0, \"ticks\": \"\"}}, \"type\": \"histogram\"}], \"histogram2d\": [{\"colorbar\": {\"outlinewidth\": 0, \"ticks\": \"\"}, \"colorscale\": [[0.0, \"#0d0887\"], [0.1111111111111111, \"#46039f\"], [0.2222222222222222, \"#7201a8\"], [0.3333333333333333, \"#9c179e\"], [0.4444444444444444, \"#bd3786\"], [0.5555555555555556, \"#d8576b\"], [0.6666666666666666, \"#ed7953\"], [0.7777777777777778, \"#fb9f3a\"], [0.8888888888888888, \"#fdca26\"], [1.0, \"#f0f921\"]], \"type\": \"histogram2d\"}], \"histogram2dcontour\": [{\"colorbar\": {\"outlinewidth\": 0, \"ticks\": \"\"}, \"colorscale\": [[0.0, \"#0d0887\"], [0.1111111111111111, \"#46039f\"], [0.2222222222222222, \"#7201a8\"], [0.3333333333333333, \"#9c179e\"], [0.4444444444444444, \"#bd3786\"], [0.5555555555555556, \"#d8576b\"], [0.6666666666666666, \"#ed7953\"], [0.7777777777777778, \"#fb9f3a\"], [0.8888888888888888, \"#fdca26\"], [1.0, \"#f0f921\"]], \"type\": \"histogram2dcontour\"}], \"mesh3d\": [{\"colorbar\": {\"outlinewidth\": 0, \"ticks\": \"\"}, \"type\": \"mesh3d\"}], \"parcoords\": [{\"line\": {\"colorbar\": {\"outlinewidth\": 0, \"ticks\": \"\"}}, \"type\": \"parcoords\"}], \"pie\": [{\"automargin\": true, \"type\": \"pie\"}], \"scatter\": [{\"marker\": {\"colorbar\": {\"outlinewidth\": 0, \"ticks\": \"\"}}, \"type\": \"scatter\"}], \"scatter3d\": [{\"line\": {\"colorbar\": {\"outlinewidth\": 0, \"ticks\": \"\"}}, \"marker\": {\"colorbar\": {\"outlinewidth\": 0, \"ticks\": \"\"}}, \"type\": \"scatter3d\"}], \"scattercarpet\": [{\"marker\": {\"colorbar\": {\"outlinewidth\": 0, \"ticks\": \"\"}}, \"type\": \"scattercarpet\"}], \"scattergeo\": [{\"marker\": {\"colorbar\": {\"outlinewidth\": 0, \"ticks\": \"\"}}, \"type\": \"scattergeo\"}], \"scattergl\": [{\"marker\": {\"colorbar\": {\"outlinewidth\": 0, \"ticks\": \"\"}}, \"type\": \"scattergl\"}], \"scattermapbox\": [{\"marker\": {\"colorbar\": {\"outlinewidth\": 0, \"ticks\": \"\"}}, \"type\": \"scattermapbox\"}], \"scatterpolar\": [{\"marker\": {\"colorbar\": {\"outlinewidth\": 0, \"ticks\": \"\"}}, \"type\": \"scatterpolar\"}], \"scatterpolargl\": [{\"marker\": {\"colorbar\": {\"outlinewidth\": 0, \"ticks\": \"\"}}, \"type\": \"scatterpolargl\"}], \"scatterternary\": [{\"marker\": {\"colorbar\": {\"outlinewidth\": 0, \"ticks\": \"\"}}, \"type\": \"scatterternary\"}], \"surface\": [{\"colorbar\": {\"outlinewidth\": 0, \"ticks\": \"\"}, \"colorscale\": [[0.0, \"#0d0887\"], [0.1111111111111111, \"#46039f\"], [0.2222222222222222, \"#7201a8\"], [0.3333333333333333, \"#9c179e\"], [0.4444444444444444, \"#bd3786\"], [0.5555555555555556, \"#d8576b\"], [0.6666666666666666, \"#ed7953\"], [0.7777777777777778, \"#fb9f3a\"], [0.8888888888888888, \"#fdca26\"], [1.0, \"#f0f921\"]], \"type\": \"surface\"}], \"table\": [{\"cells\": {\"fill\": {\"color\": \"#EBF0F8\"}, \"line\": {\"color\": \"white\"}}, \"header\": {\"fill\": {\"color\": \"#C8D4E3\"}, \"line\": {\"color\": \"white\"}}, \"type\": \"table\"}]}, \"layout\": {\"annotationdefaults\": {\"arrowcolor\": \"#2a3f5f\", \"arrowhead\": 0, \"arrowwidth\": 1}, \"autotypenumbers\": \"strict\", \"coloraxis\": {\"colorbar\": {\"outlinewidth\": 0, \"ticks\": \"\"}}, \"colorscale\": {\"diverging\": [[0, \"#8e0152\"], [0.1, \"#c51b7d\"], [0.2, \"#de77ae\"], [0.3, \"#f1b6da\"], [0.4, \"#fde0ef\"], [0.5, \"#f7f7f7\"], [0.6, \"#e6f5d0\"], [0.7, \"#b8e186\"], [0.8, \"#7fbc41\"], [0.9, \"#4d9221\"], [1, \"#276419\"]], \"sequential\": [[0.0, \"#0d0887\"], [0.1111111111111111, \"#46039f\"], [0.2222222222222222, \"#7201a8\"], [0.3333333333333333, \"#9c179e\"], [0.4444444444444444, \"#bd3786\"], [0.5555555555555556, \"#d8576b\"], [0.6666666666666666, \"#ed7953\"], [0.7777777777777778, \"#fb9f3a\"], [0.8888888888888888, \"#fdca26\"], [1.0, \"#f0f921\"]], \"sequentialminus\": [[0.0, \"#0d0887\"], [0.1111111111111111, \"#46039f\"], [0.2222222222222222, \"#7201a8\"], [0.3333333333333333, \"#9c179e\"], [0.4444444444444444, \"#bd3786\"], [0.5555555555555556, \"#d8576b\"], [0.6666666666666666, \"#ed7953\"], [0.7777777777777778, \"#fb9f3a\"], [0.8888888888888888, \"#fdca26\"], [1.0, \"#f0f921\"]]}, \"colorway\": [\"#636efa\", \"#EF553B\", \"#00cc96\", \"#ab63fa\", \"#FFA15A\", \"#19d3f3\", \"#FF6692\", \"#B6E880\", \"#FF97FF\", \"#FECB52\"], \"font\": {\"color\": \"#2a3f5f\"}, \"geo\": {\"bgcolor\": \"white\", \"lakecolor\": \"white\", \"landcolor\": \"#E5ECF6\", \"showlakes\": true, \"showland\": true, \"subunitcolor\": \"white\"}, \"hoverlabel\": {\"align\": \"left\"}, \"hovermode\": \"closest\", \"mapbox\": {\"style\": \"light\"}, \"paper_bgcolor\": \"white\", \"plot_bgcolor\": \"#E5ECF6\", \"polar\": {\"angularaxis\": {\"gridcolor\": \"white\", \"linecolor\": \"white\", \"ticks\": \"\"}, \"bgcolor\": \"#E5ECF6\", \"radialaxis\": {\"gridcolor\": \"white\", \"linecolor\": \"white\", \"ticks\": \"\"}}, \"scene\": {\"xaxis\": {\"backgroundcolor\": \"#E5ECF6\", \"gridcolor\": \"white\", \"gridwidth\": 2, \"linecolor\": \"white\", \"showbackground\": true, \"ticks\": \"\", \"zerolinecolor\": \"white\"}, \"yaxis\": {\"backgroundcolor\": \"#E5ECF6\", \"gridcolor\": \"white\", \"gridwidth\": 2, \"linecolor\": \"white\", \"showbackground\": true, \"ticks\": \"\", \"zerolinecolor\": \"white\"}, \"zaxis\": {\"backgroundcolor\": \"#E5ECF6\", \"gridcolor\": \"white\", \"gridwidth\": 2, \"linecolor\": \"white\", \"showbackground\": true, \"ticks\": \"\", \"zerolinecolor\": \"white\"}}, \"shapedefaults\": {\"line\": {\"color\": \"#2a3f5f\"}}, \"ternary\": {\"aaxis\": {\"gridcolor\": \"white\", \"linecolor\": \"white\", \"ticks\": \"\"}, \"baxis\": {\"gridcolor\": \"white\", \"linecolor\": \"white\", \"ticks\": \"\"}, \"bgcolor\": \"#E5ECF6\", \"caxis\": {\"gridcolor\": \"white\", \"linecolor\": \"white\", \"ticks\": \"\"}}, \"title\": {\"x\": 0.05}, \"xaxis\": {\"automargin\": true, \"gridcolor\": \"white\", \"linecolor\": \"white\", \"ticks\": \"\", \"title\": {\"standoff\": 15}, \"zerolinecolor\": \"white\", \"zerolinewidth\": 2}, \"yaxis\": {\"automargin\": true, \"gridcolor\": \"white\", \"linecolor\": \"white\", \"ticks\": \"\", \"title\": {\"standoff\": 15}, \"zerolinecolor\": \"white\", \"zerolinewidth\": 2}}}, \"title\": {\"font\": {\"color\": \"#4D5663\"}}, \"xaxis\": {\"gridcolor\": \"#E1E5ED\", \"showgrid\": true, \"tickfont\": {\"color\": \"#4D5663\"}, \"title\": {\"font\": {\"color\": \"#4D5663\"}, \"text\": \"\"}, \"zerolinecolor\": \"#E1E5ED\"}, \"yaxis\": {\"gridcolor\": \"#E1E5ED\", \"showgrid\": true, \"tickfont\": {\"color\": \"#4D5663\"}, \"title\": {\"font\": {\"color\": \"#4D5663\"}, \"text\": \"\"}, \"zerolinecolor\": \"#E1E5ED\"}},                        {\"showLink\": true, \"linkText\": \"Export to plot.ly\", \"plotlyServerURL\": \"https://plot.ly\", \"responsive\": true}                    ).then(function(){\n                            \nvar gd = document.getElementById('4c1d1e82-77fe-47b6-bea7-36297f68b590');\nvar x = new MutationObserver(function (mutations, observer) {{\n        var display = window.getComputedStyle(gd).display;\n        if (!display || display === 'none') {{\n            console.log([gd, 'removed!']);\n            Plotly.purge(gd);\n            observer.disconnect();\n        }}\n}});\n\n// Listen for the removal of the full notebook cells\nvar notebookContainer = gd.closest('#notebook-container');\nif (notebookContainer) {{\n    x.observe(notebookContainer, {childList: true});\n}}\n\n// Listen for the clearing of the current output cell\nvar outputEl = gd.closest('.output');\nif (outputEl) {{\n    x.observe(outputEl, {childList: true});\n}}\n\n                        })                };                });            </script>        </div>"
     },
     "metadata": {}
    }
   ],
   "source": [
    "rates = survival(data_final.dropna(subset=['payment_method_data']),'payment_method_data', 'index_y', 'churn')\n",
    "rates.iplot(kind = 'line')"
   ]
  },
  {
   "cell_type": "code",
   "execution_count": 120,
   "metadata": {},
   "outputs": [
    {
     "output_type": "execute_result",
     "data": {
      "text/plain": [
       "                       churn                                             \n",
       "                       count      mean       std  min  25%  50%  75%  max\n",
       "payment_method_data                                                      \n",
       "1.0                  52171.0  0.041038  0.198380  0.0  0.0  0.0  0.0  1.0\n",
       "2.0                   1557.0  0.249197  0.432687  0.0  0.0  0.0  0.0  1.0\n",
       "3.0                     27.0  0.111111  0.320256  0.0  0.0  0.0  0.0  1.0\n",
       "4.0                   2080.0  0.130288  0.336701  0.0  0.0  0.0  0.0  1.0\n",
       "5.0                      7.0  0.000000  0.000000  0.0  0.0  0.0  0.0  0.0\n",
       "8.0                      2.0  1.000000  0.000000  1.0  1.0  1.0  1.0  1.0"
      ],
      "text/html": "<div>\n<style scoped>\n    .dataframe tbody tr th:only-of-type {\n        vertical-align: middle;\n    }\n\n    .dataframe tbody tr th {\n        vertical-align: top;\n    }\n\n    .dataframe thead tr th {\n        text-align: left;\n    }\n\n    .dataframe thead tr:last-of-type th {\n        text-align: right;\n    }\n</style>\n<table border=\"1\" class=\"dataframe\">\n  <thead>\n    <tr>\n      <th></th>\n      <th colspan=\"8\" halign=\"left\">churn</th>\n    </tr>\n    <tr>\n      <th></th>\n      <th>count</th>\n      <th>mean</th>\n      <th>std</th>\n      <th>min</th>\n      <th>25%</th>\n      <th>50%</th>\n      <th>75%</th>\n      <th>max</th>\n    </tr>\n    <tr>\n      <th>payment_method_data</th>\n      <th></th>\n      <th></th>\n      <th></th>\n      <th></th>\n      <th></th>\n      <th></th>\n      <th></th>\n      <th></th>\n    </tr>\n  </thead>\n  <tbody>\n    <tr>\n      <th>1.0</th>\n      <td>52171.0</td>\n      <td>0.041038</td>\n      <td>0.198380</td>\n      <td>0.0</td>\n      <td>0.0</td>\n      <td>0.0</td>\n      <td>0.0</td>\n      <td>1.0</td>\n    </tr>\n    <tr>\n      <th>2.0</th>\n      <td>1557.0</td>\n      <td>0.249197</td>\n      <td>0.432687</td>\n      <td>0.0</td>\n      <td>0.0</td>\n      <td>0.0</td>\n      <td>0.0</td>\n      <td>1.0</td>\n    </tr>\n    <tr>\n      <th>3.0</th>\n      <td>27.0</td>\n      <td>0.111111</td>\n      <td>0.320256</td>\n      <td>0.0</td>\n      <td>0.0</td>\n      <td>0.0</td>\n      <td>0.0</td>\n      <td>1.0</td>\n    </tr>\n    <tr>\n      <th>4.0</th>\n      <td>2080.0</td>\n      <td>0.130288</td>\n      <td>0.336701</td>\n      <td>0.0</td>\n      <td>0.0</td>\n      <td>0.0</td>\n      <td>0.0</td>\n      <td>1.0</td>\n    </tr>\n    <tr>\n      <th>5.0</th>\n      <td>7.0</td>\n      <td>0.000000</td>\n      <td>0.000000</td>\n      <td>0.0</td>\n      <td>0.0</td>\n      <td>0.0</td>\n      <td>0.0</td>\n      <td>0.0</td>\n    </tr>\n    <tr>\n      <th>8.0</th>\n      <td>2.0</td>\n      <td>1.000000</td>\n      <td>0.000000</td>\n      <td>1.0</td>\n      <td>1.0</td>\n      <td>1.0</td>\n      <td>1.0</td>\n      <td>1.0</td>\n    </tr>\n  </tbody>\n</table>\n</div>"
     },
     "metadata": {},
     "execution_count": 120
    }
   ],
   "source": [
    "data_final.groupby('payment_method_data').describe()[['churn']]"
   ]
  },
  {
   "cell_type": "code",
   "execution_count": 131,
   "metadata": {},
   "outputs": [
    {
     "output_type": "display_data",
     "data": {
      "application/vnd.plotly.v1+json": {
       "config": {
        "linkText": "Export to plot.ly",
        "plotlyServerURL": "https://plot.ly",
        "showLink": true
       },
       "data": [
        {
         "line": {
          "color": "rgba(255, 153, 51, 1.0)",
          "dash": "solid",
          "shape": "linear",
          "width": 1.3
         },
         "mode": "lines",
         "name": "1.0",
         "text": "",
         "type": "scatter",
         "x": [
          0,
          1,
          2,
          3,
          4,
          5,
          6,
          7,
          8,
          9,
          10,
          11,
          12,
          13,
          14,
          15,
          16,
          17,
          18,
          19,
          20,
          21,
          22,
          23,
          24,
          26,
          28,
          30,
          32,
          33,
          34,
          35,
          36,
          39,
          42,
          44,
          45,
          48,
          52,
          56,
          60,
          64,
          68,
          69,
          72,
          75,
          80,
          93,
          96,
          99,
          108,
          112,
          128,
          135,
          145,
          147,
          196,
          271,
          288,
          298,
          466,
          473,
          597,
          630,
          660,
          758,
          844,
          1020,
          1044,
          1392,
          1934,
          4568,
          9530,
          15389
         ],
         "y": [
          1,
          0.9980065553660084,
          0.9794521860803891,
          0.9589618753713743,
          0.9589618753713743,
          0.9589618753713743,
          0.9589618753713743,
          0.9589618753713743,
          0.9589618753713743,
          0.9589618753713743,
          0.9589618753713743,
          0.9589618753713743,
          0.9589618753713743,
          0.9589618753713743,
          0.9589618753713743,
          0.9589618753713743,
          0.9589618753713743,
          0.9589618753713743,
          0.9589618753713743,
          0.9589618753713743,
          0.9589618753713743,
          0.9589618753713743,
          0.9589618753713743,
          0.9589618753713743,
          0.9589618753713743,
          0.9589618753713743,
          0.9589618753713743,
          0.9589618753713743,
          0.9589618753713743,
          0.9589618753713743,
          0.9589618753713743,
          0.9589618753713743,
          0.9589618753713743,
          0.9589618753713743,
          0.9589618753713743,
          0.9589618753713743,
          0.9589618753713743,
          0.9589618753713743,
          0.9589618753713743,
          0.9589618753713743,
          0.9589618753713743,
          0.9589618753713743,
          0.9589618753713743,
          0.9589618753713743,
          0.9589618753713743,
          0.9589618753713743,
          0.9589618753713743,
          0.9589618753713743,
          0.9589618753713743,
          0.9589618753713743,
          0.9589618753713743,
          0.9589618753713743,
          0.9589618753713743,
          0.9589618753713743,
          0.9589618753713743,
          0.9589618753713743,
          0.9589618753713743,
          0.9589618753713743,
          0.9589618753713743,
          0.9589618753713743,
          0.9589618753713743,
          0.9589618753713743,
          0.9589618753713743,
          0.9589618753713743,
          0.9589618753713743,
          0.9589618753713743,
          0.9589618753713743,
          0.9589618753713743,
          0.9589618753713743,
          0.9589618753713743,
          0.9589618753713743,
          0.9589618753713743,
          0.9589618753713743,
          0.9589618753713743
         ]
        },
        {
         "line": {
          "color": "rgba(55, 128, 191, 1.0)",
          "dash": "solid",
          "shape": "linear",
          "width": 1.3
         },
         "mode": "lines",
         "name": "2.0",
         "text": "",
         "type": "scatter",
         "x": [
          0,
          1,
          2,
          3,
          4,
          5,
          6,
          7,
          8,
          9,
          10,
          11,
          12,
          13,
          14,
          15,
          16,
          17,
          18,
          19,
          20,
          21,
          22,
          23,
          24,
          26,
          28,
          30,
          32,
          33,
          34,
          35,
          36,
          39,
          42,
          44,
          45,
          48,
          52,
          56,
          60,
          64,
          68,
          69,
          72,
          75,
          80,
          93,
          96,
          99,
          108,
          112,
          128,
          135,
          145,
          147,
          196,
          271,
          288,
          298,
          466,
          473,
          597,
          630,
          660,
          758,
          844,
          1020,
          1044,
          1392,
          1934,
          4568,
          9530,
          15389
         ],
         "y": [
          1,
          0.9723827874116888,
          0.7803468208092484,
          0.7508028259473343,
          0.7508028259473343,
          0.7508028259473343,
          0.7508028259473343,
          0.7508028259473343,
          0.7508028259473343,
          0.7508028259473343,
          0.7508028259473343,
          0.7508028259473343,
          0.7508028259473343,
          "",
          0.7508028259473343,
          0.7508028259473343,
          0.7508028259473343,
          "",
          "",
          "",
          0.7508028259473343,
          "",
          "",
          "",
          0.7508028259473343,
          "",
          "",
          "",
          0.7508028259473343,
          0.7508028259473343,
          "",
          "",
          0.7508028259473343,
          "",
          "",
          "",
          "",
          "",
          "",
          "",
          "",
          "",
          "",
          0.7508028259473343,
          "",
          "",
          "",
          "",
          "",
          "",
          0.7508028259473343,
          "",
          "",
          "",
          "",
          "",
          "",
          "",
          "",
          "",
          "",
          "",
          "",
          "",
          "",
          0.7508028259473343,
          "",
          "",
          "",
          0.7508028259473343,
          0.7508028259473343,
          "",
          "",
          0.7508028259473343
         ]
        },
        {
         "line": {
          "color": "rgba(50, 171, 96, 1.0)",
          "dash": "solid",
          "shape": "linear",
          "width": 1.3
         },
         "mode": "lines",
         "name": "4.0",
         "text": "",
         "type": "scatter",
         "x": [
          0,
          1,
          2,
          3,
          4,
          5,
          6,
          7,
          8,
          9,
          10,
          11,
          12,
          13,
          14,
          15,
          16,
          17,
          18,
          19,
          20,
          21,
          22,
          23,
          24,
          26,
          28,
          30,
          32,
          33,
          34,
          35,
          36,
          39,
          42,
          44,
          45,
          48,
          52,
          56,
          60,
          64,
          68,
          69,
          72,
          75,
          80,
          93,
          96,
          99,
          108,
          112,
          128,
          135,
          145,
          147,
          196,
          271,
          288,
          298,
          466,
          473,
          597,
          630,
          660,
          758,
          844,
          1020,
          1044,
          1392,
          1934,
          4568,
          9530,
          15389
         ],
         "y": [
          1,
          0.9942307692307693,
          0.946153846153846,
          0.8697115384615381,
          0.8697115384615381,
          0.8697115384615381,
          0.8697115384615381,
          0.8697115384615381,
          0.8697115384615381,
          0.8697115384615381,
          0.8697115384615381,
          0.8697115384615381,
          0.8697115384615381,
          0.8697115384615381,
          0.8697115384615381,
          0.8697115384615381,
          0.8697115384615381,
          0.8697115384615381,
          0.8697115384615381,
          0.8697115384615381,
          0.8697115384615381,
          "",
          0.8697115384615381,
          0.8697115384615381,
          0.8697115384615381,
          0.8697115384615381,
          "",
          "",
          0.8697115384615381,
          0.8697115384615381,
          0.8697115384615381,
          "",
          "",
          "",
          0.8697115384615381,
          0.8697115384615381,
          "",
          "",
          "",
          0.8697115384615381,
          "",
          "",
          "",
          0.8697115384615381,
          "",
          "",
          "",
          "",
          "",
          0.8697115384615381,
          "",
          "",
          "",
          "",
          "",
          0.8697115384615381,
          "",
          0.8697115384615381,
          "",
          0.8697115384615381,
          "",
          "",
          "",
          "",
          "",
          0.8697115384615381,
          "",
          "",
          "",
          "",
          0.8697115384615381,
          "",
          "",
          ""
         ]
        },
        {
         "line": {
          "color": "rgba(128, 0, 128, 1.0)",
          "dash": "solid",
          "shape": "linear",
          "width": 1.3
         },
         "mode": "lines",
         "name": "3.0",
         "text": "",
         "type": "scatter",
         "x": [
          0,
          1,
          2,
          3,
          4,
          5,
          6,
          7,
          8,
          9,
          10,
          11,
          12,
          13,
          14,
          15,
          16,
          17,
          18,
          19,
          20,
          21,
          22,
          23,
          24,
          26,
          28,
          30,
          32,
          33,
          34,
          35,
          36,
          39,
          42,
          44,
          45,
          48,
          52,
          56,
          60,
          64,
          68,
          69,
          72,
          75,
          80,
          93,
          96,
          99,
          108,
          112,
          128,
          135,
          145,
          147,
          196,
          271,
          288,
          298,
          466,
          473,
          597,
          630,
          660,
          758,
          844,
          1020,
          1044,
          1392,
          1934,
          4568,
          9530,
          15389
         ],
         "y": [
          1,
          0.962962962962963,
          0.9259259259259257,
          0.888888888888889,
          "",
          "",
          "",
          "",
          "",
          "",
          "",
          "",
          "",
          "",
          "",
          "",
          "",
          "",
          "",
          "",
          "",
          "",
          "",
          "",
          "",
          "",
          "",
          "",
          "",
          "",
          "",
          "",
          "",
          "",
          "",
          "",
          "",
          "",
          "",
          "",
          "",
          "",
          "",
          "",
          "",
          "",
          "",
          "",
          "",
          "",
          "",
          "",
          "",
          "",
          "",
          "",
          "",
          "",
          "",
          "",
          "",
          "",
          "",
          "",
          "",
          0.888888888888889,
          "",
          "",
          "",
          "",
          "",
          "",
          "",
          ""
         ]
        },
        {
         "line": {
          "color": "rgba(219, 64, 82, 1.0)",
          "dash": "solid",
          "shape": "linear",
          "width": 1.3
         },
         "mode": "lines",
         "name": "5.0",
         "text": "",
         "type": "scatter",
         "x": [
          0,
          1,
          2,
          3,
          4,
          5,
          6,
          7,
          8,
          9,
          10,
          11,
          12,
          13,
          14,
          15,
          16,
          17,
          18,
          19,
          20,
          21,
          22,
          23,
          24,
          26,
          28,
          30,
          32,
          33,
          34,
          35,
          36,
          39,
          42,
          44,
          45,
          48,
          52,
          56,
          60,
          64,
          68,
          69,
          72,
          75,
          80,
          93,
          96,
          99,
          108,
          112,
          128,
          135,
          145,
          147,
          196,
          271,
          288,
          298,
          466,
          473,
          597,
          630,
          660,
          758,
          844,
          1020,
          1044,
          1392,
          1934,
          4568,
          9530,
          15389
         ],
         "y": [
          1,
          "",
          "",
          "",
          "",
          "",
          "",
          "",
          "",
          "",
          "",
          "",
          "",
          "",
          "",
          "",
          "",
          "",
          "",
          "",
          "",
          "",
          "",
          "",
          "",
          "",
          "",
          "",
          "",
          "",
          "",
          "",
          "",
          "",
          "",
          "",
          "",
          "",
          "",
          "",
          "",
          "",
          "",
          "",
          "",
          "",
          "",
          "",
          "",
          "",
          "",
          "",
          "",
          "",
          "",
          "",
          "",
          1,
          "",
          "",
          "",
          "",
          "",
          "",
          "",
          "",
          "",
          "",
          "",
          "",
          1,
          "",
          "",
          ""
         ]
        },
        {
         "line": {
          "color": "rgba(0, 128, 128, 1.0)",
          "dash": "solid",
          "shape": "linear",
          "width": 1.3
         },
         "mode": "lines",
         "name": "8.0",
         "text": "",
         "type": "scatter",
         "x": [
          0,
          1,
          2,
          3,
          4,
          5,
          6,
          7,
          8,
          9,
          10,
          11,
          12,
          13,
          14,
          15,
          16,
          17,
          18,
          19,
          20,
          21,
          22,
          23,
          24,
          26,
          28,
          30,
          32,
          33,
          34,
          35,
          36,
          39,
          42,
          44,
          45,
          48,
          52,
          56,
          60,
          64,
          68,
          69,
          72,
          75,
          80,
          93,
          96,
          99,
          108,
          112,
          128,
          135,
          145,
          147,
          196,
          271,
          288,
          298,
          466,
          473,
          597,
          630,
          660,
          758,
          844,
          1020,
          1044,
          1392,
          1934,
          4568,
          9530,
          15389
         ],
         "y": [
          1,
          "",
          "",
          0,
          "",
          "",
          "",
          "",
          "",
          "",
          "",
          "",
          "",
          "",
          "",
          "",
          "",
          "",
          "",
          "",
          "",
          "",
          "",
          "",
          "",
          "",
          "",
          "",
          "",
          "",
          "",
          "",
          "",
          "",
          "",
          "",
          "",
          "",
          "",
          "",
          "",
          "",
          "",
          "",
          "",
          "",
          "",
          "",
          "",
          "",
          "",
          "",
          "",
          "",
          "",
          "",
          "",
          "",
          "",
          "",
          "",
          "",
          "",
          "",
          "",
          "",
          "",
          "",
          "",
          "",
          "",
          "",
          "",
          ""
         ]
        }
       ],
       "layout": {
        "template": {
         "data": {
          "bar": [
           {
            "error_x": {
             "color": "#2a3f5f"
            },
            "error_y": {
             "color": "#2a3f5f"
            },
            "marker": {
             "line": {
              "color": "#E5ECF6",
              "width": 0.5
             }
            },
            "type": "bar"
           }
          ],
          "barpolar": [
           {
            "marker": {
             "line": {
              "color": "#E5ECF6",
              "width": 0.5
             }
            },
            "type": "barpolar"
           }
          ],
          "carpet": [
           {
            "aaxis": {
             "endlinecolor": "#2a3f5f",
             "gridcolor": "white",
             "linecolor": "white",
             "minorgridcolor": "white",
             "startlinecolor": "#2a3f5f"
            },
            "baxis": {
             "endlinecolor": "#2a3f5f",
             "gridcolor": "white",
             "linecolor": "white",
             "minorgridcolor": "white",
             "startlinecolor": "#2a3f5f"
            },
            "type": "carpet"
           }
          ],
          "choropleth": [
           {
            "colorbar": {
             "outlinewidth": 0,
             "ticks": ""
            },
            "type": "choropleth"
           }
          ],
          "contour": [
           {
            "colorbar": {
             "outlinewidth": 0,
             "ticks": ""
            },
            "colorscale": [
             [
              0,
              "#0d0887"
             ],
             [
              0.1111111111111111,
              "#46039f"
             ],
             [
              0.2222222222222222,
              "#7201a8"
             ],
             [
              0.3333333333333333,
              "#9c179e"
             ],
             [
              0.4444444444444444,
              "#bd3786"
             ],
             [
              0.5555555555555556,
              "#d8576b"
             ],
             [
              0.6666666666666666,
              "#ed7953"
             ],
             [
              0.7777777777777778,
              "#fb9f3a"
             ],
             [
              0.8888888888888888,
              "#fdca26"
             ],
             [
              1,
              "#f0f921"
             ]
            ],
            "type": "contour"
           }
          ],
          "contourcarpet": [
           {
            "colorbar": {
             "outlinewidth": 0,
             "ticks": ""
            },
            "type": "contourcarpet"
           }
          ],
          "heatmap": [
           {
            "colorbar": {
             "outlinewidth": 0,
             "ticks": ""
            },
            "colorscale": [
             [
              0,
              "#0d0887"
             ],
             [
              0.1111111111111111,
              "#46039f"
             ],
             [
              0.2222222222222222,
              "#7201a8"
             ],
             [
              0.3333333333333333,
              "#9c179e"
             ],
             [
              0.4444444444444444,
              "#bd3786"
             ],
             [
              0.5555555555555556,
              "#d8576b"
             ],
             [
              0.6666666666666666,
              "#ed7953"
             ],
             [
              0.7777777777777778,
              "#fb9f3a"
             ],
             [
              0.8888888888888888,
              "#fdca26"
             ],
             [
              1,
              "#f0f921"
             ]
            ],
            "type": "heatmap"
           }
          ],
          "heatmapgl": [
           {
            "colorbar": {
             "outlinewidth": 0,
             "ticks": ""
            },
            "colorscale": [
             [
              0,
              "#0d0887"
             ],
             [
              0.1111111111111111,
              "#46039f"
             ],
             [
              0.2222222222222222,
              "#7201a8"
             ],
             [
              0.3333333333333333,
              "#9c179e"
             ],
             [
              0.4444444444444444,
              "#bd3786"
             ],
             [
              0.5555555555555556,
              "#d8576b"
             ],
             [
              0.6666666666666666,
              "#ed7953"
             ],
             [
              0.7777777777777778,
              "#fb9f3a"
             ],
             [
              0.8888888888888888,
              "#fdca26"
             ],
             [
              1,
              "#f0f921"
             ]
            ],
            "type": "heatmapgl"
           }
          ],
          "histogram": [
           {
            "marker": {
             "colorbar": {
              "outlinewidth": 0,
              "ticks": ""
             }
            },
            "type": "histogram"
           }
          ],
          "histogram2d": [
           {
            "colorbar": {
             "outlinewidth": 0,
             "ticks": ""
            },
            "colorscale": [
             [
              0,
              "#0d0887"
             ],
             [
              0.1111111111111111,
              "#46039f"
             ],
             [
              0.2222222222222222,
              "#7201a8"
             ],
             [
              0.3333333333333333,
              "#9c179e"
             ],
             [
              0.4444444444444444,
              "#bd3786"
             ],
             [
              0.5555555555555556,
              "#d8576b"
             ],
             [
              0.6666666666666666,
              "#ed7953"
             ],
             [
              0.7777777777777778,
              "#fb9f3a"
             ],
             [
              0.8888888888888888,
              "#fdca26"
             ],
             [
              1,
              "#f0f921"
             ]
            ],
            "type": "histogram2d"
           }
          ],
          "histogram2dcontour": [
           {
            "colorbar": {
             "outlinewidth": 0,
             "ticks": ""
            },
            "colorscale": [
             [
              0,
              "#0d0887"
             ],
             [
              0.1111111111111111,
              "#46039f"
             ],
             [
              0.2222222222222222,
              "#7201a8"
             ],
             [
              0.3333333333333333,
              "#9c179e"
             ],
             [
              0.4444444444444444,
              "#bd3786"
             ],
             [
              0.5555555555555556,
              "#d8576b"
             ],
             [
              0.6666666666666666,
              "#ed7953"
             ],
             [
              0.7777777777777778,
              "#fb9f3a"
             ],
             [
              0.8888888888888888,
              "#fdca26"
             ],
             [
              1,
              "#f0f921"
             ]
            ],
            "type": "histogram2dcontour"
           }
          ],
          "mesh3d": [
           {
            "colorbar": {
             "outlinewidth": 0,
             "ticks": ""
            },
            "type": "mesh3d"
           }
          ],
          "parcoords": [
           {
            "line": {
             "colorbar": {
              "outlinewidth": 0,
              "ticks": ""
             }
            },
            "type": "parcoords"
           }
          ],
          "pie": [
           {
            "automargin": true,
            "type": "pie"
           }
          ],
          "scatter": [
           {
            "marker": {
             "colorbar": {
              "outlinewidth": 0,
              "ticks": ""
             }
            },
            "type": "scatter"
           }
          ],
          "scatter3d": [
           {
            "line": {
             "colorbar": {
              "outlinewidth": 0,
              "ticks": ""
             }
            },
            "marker": {
             "colorbar": {
              "outlinewidth": 0,
              "ticks": ""
             }
            },
            "type": "scatter3d"
           }
          ],
          "scattercarpet": [
           {
            "marker": {
             "colorbar": {
              "outlinewidth": 0,
              "ticks": ""
             }
            },
            "type": "scattercarpet"
           }
          ],
          "scattergeo": [
           {
            "marker": {
             "colorbar": {
              "outlinewidth": 0,
              "ticks": ""
             }
            },
            "type": "scattergeo"
           }
          ],
          "scattergl": [
           {
            "marker": {
             "colorbar": {
              "outlinewidth": 0,
              "ticks": ""
             }
            },
            "type": "scattergl"
           }
          ],
          "scattermapbox": [
           {
            "marker": {
             "colorbar": {
              "outlinewidth": 0,
              "ticks": ""
             }
            },
            "type": "scattermapbox"
           }
          ],
          "scatterpolar": [
           {
            "marker": {
             "colorbar": {
              "outlinewidth": 0,
              "ticks": ""
             }
            },
            "type": "scatterpolar"
           }
          ],
          "scatterpolargl": [
           {
            "marker": {
             "colorbar": {
              "outlinewidth": 0,
              "ticks": ""
             }
            },
            "type": "scatterpolargl"
           }
          ],
          "scatterternary": [
           {
            "marker": {
             "colorbar": {
              "outlinewidth": 0,
              "ticks": ""
             }
            },
            "type": "scatterternary"
           }
          ],
          "surface": [
           {
            "colorbar": {
             "outlinewidth": 0,
             "ticks": ""
            },
            "colorscale": [
             [
              0,
              "#0d0887"
             ],
             [
              0.1111111111111111,
              "#46039f"
             ],
             [
              0.2222222222222222,
              "#7201a8"
             ],
             [
              0.3333333333333333,
              "#9c179e"
             ],
             [
              0.4444444444444444,
              "#bd3786"
             ],
             [
              0.5555555555555556,
              "#d8576b"
             ],
             [
              0.6666666666666666,
              "#ed7953"
             ],
             [
              0.7777777777777778,
              "#fb9f3a"
             ],
             [
              0.8888888888888888,
              "#fdca26"
             ],
             [
              1,
              "#f0f921"
             ]
            ],
            "type": "surface"
           }
          ],
          "table": [
           {
            "cells": {
             "fill": {
              "color": "#EBF0F8"
             },
             "line": {
              "color": "white"
             }
            },
            "header": {
             "fill": {
              "color": "#C8D4E3"
             },
             "line": {
              "color": "white"
             }
            },
            "type": "table"
           }
          ]
         },
         "layout": {
          "annotationdefaults": {
           "arrowcolor": "#2a3f5f",
           "arrowhead": 0,
           "arrowwidth": 1
          },
          "autotypenumbers": "strict",
          "coloraxis": {
           "colorbar": {
            "outlinewidth": 0,
            "ticks": ""
           }
          },
          "colorscale": {
           "diverging": [
            [
             0,
             "#8e0152"
            ],
            [
             0.1,
             "#c51b7d"
            ],
            [
             0.2,
             "#de77ae"
            ],
            [
             0.3,
             "#f1b6da"
            ],
            [
             0.4,
             "#fde0ef"
            ],
            [
             0.5,
             "#f7f7f7"
            ],
            [
             0.6,
             "#e6f5d0"
            ],
            [
             0.7,
             "#b8e186"
            ],
            [
             0.8,
             "#7fbc41"
            ],
            [
             0.9,
             "#4d9221"
            ],
            [
             1,
             "#276419"
            ]
           ],
           "sequential": [
            [
             0,
             "#0d0887"
            ],
            [
             0.1111111111111111,
             "#46039f"
            ],
            [
             0.2222222222222222,
             "#7201a8"
            ],
            [
             0.3333333333333333,
             "#9c179e"
            ],
            [
             0.4444444444444444,
             "#bd3786"
            ],
            [
             0.5555555555555556,
             "#d8576b"
            ],
            [
             0.6666666666666666,
             "#ed7953"
            ],
            [
             0.7777777777777778,
             "#fb9f3a"
            ],
            [
             0.8888888888888888,
             "#fdca26"
            ],
            [
             1,
             "#f0f921"
            ]
           ],
           "sequentialminus": [
            [
             0,
             "#0d0887"
            ],
            [
             0.1111111111111111,
             "#46039f"
            ],
            [
             0.2222222222222222,
             "#7201a8"
            ],
            [
             0.3333333333333333,
             "#9c179e"
            ],
            [
             0.4444444444444444,
             "#bd3786"
            ],
            [
             0.5555555555555556,
             "#d8576b"
            ],
            [
             0.6666666666666666,
             "#ed7953"
            ],
            [
             0.7777777777777778,
             "#fb9f3a"
            ],
            [
             0.8888888888888888,
             "#fdca26"
            ],
            [
             1,
             "#f0f921"
            ]
           ]
          },
          "colorway": [
           "#636efa",
           "#EF553B",
           "#00cc96",
           "#ab63fa",
           "#FFA15A",
           "#19d3f3",
           "#FF6692",
           "#B6E880",
           "#FF97FF",
           "#FECB52"
          ],
          "font": {
           "color": "#2a3f5f"
          },
          "geo": {
           "bgcolor": "white",
           "lakecolor": "white",
           "landcolor": "#E5ECF6",
           "showlakes": true,
           "showland": true,
           "subunitcolor": "white"
          },
          "hoverlabel": {
           "align": "left"
          },
          "hovermode": "closest",
          "mapbox": {
           "style": "light"
          },
          "paper_bgcolor": "white",
          "plot_bgcolor": "#E5ECF6",
          "polar": {
           "angularaxis": {
            "gridcolor": "white",
            "linecolor": "white",
            "ticks": ""
           },
           "bgcolor": "#E5ECF6",
           "radialaxis": {
            "gridcolor": "white",
            "linecolor": "white",
            "ticks": ""
           }
          },
          "scene": {
           "xaxis": {
            "backgroundcolor": "#E5ECF6",
            "gridcolor": "white",
            "gridwidth": 2,
            "linecolor": "white",
            "showbackground": true,
            "ticks": "",
            "zerolinecolor": "white"
           },
           "yaxis": {
            "backgroundcolor": "#E5ECF6",
            "gridcolor": "white",
            "gridwidth": 2,
            "linecolor": "white",
            "showbackground": true,
            "ticks": "",
            "zerolinecolor": "white"
           },
           "zaxis": {
            "backgroundcolor": "#E5ECF6",
            "gridcolor": "white",
            "gridwidth": 2,
            "linecolor": "white",
            "showbackground": true,
            "ticks": "",
            "zerolinecolor": "white"
           }
          },
          "shapedefaults": {
           "line": {
            "color": "#2a3f5f"
           }
          },
          "ternary": {
           "aaxis": {
            "gridcolor": "white",
            "linecolor": "white",
            "ticks": ""
           },
           "baxis": {
            "gridcolor": "white",
            "linecolor": "white",
            "ticks": ""
           },
           "bgcolor": "#E5ECF6",
           "caxis": {
            "gridcolor": "white",
            "linecolor": "white",
            "ticks": ""
           }
          },
          "title": {
           "x": 0.05
          },
          "xaxis": {
           "automargin": true,
           "gridcolor": "white",
           "linecolor": "white",
           "ticks": "",
           "title": {
            "standoff": 15
           },
           "zerolinecolor": "white",
           "zerolinewidth": 2
          },
          "yaxis": {
           "automargin": true,
           "gridcolor": "white",
           "linecolor": "white",
           "ticks": "",
           "title": {
            "standoff": 15
           },
           "zerolinecolor": "white",
           "zerolinewidth": 2
          }
         }
        },
        "xaxis": {
         "range": [
          0,
          20
         ]
        },
        "yaxis": {
         "range": [
          0.5,
          1
         ]
        }
       }
      },
      "text/html": "<div>                            <div id=\"8d37ae80-d3f4-44e1-9108-56450935d709\" class=\"plotly-graph-div\" style=\"height:525px; width:100%;\"></div>            <script type=\"text/javascript\">                require([\"plotly\"], function(Plotly) {                    window.PLOTLYENV=window.PLOTLYENV || {};\n                    window.PLOTLYENV.BASE_URL='https://plot.ly';                                    if (document.getElementById(\"8d37ae80-d3f4-44e1-9108-56450935d709\")) {                    Plotly.newPlot(                        \"8d37ae80-d3f4-44e1-9108-56450935d709\",                        [{\"line\": {\"color\": \"rgba(255, 153, 51, 1.0)\", \"dash\": \"solid\", \"shape\": \"linear\", \"width\": 1.3}, \"mode\": \"lines\", \"name\": \"1.0\", \"text\": \"\", \"type\": \"scatter\", \"x\": [0.0, 1.0, 2.0, 3.0, 4.0, 5.0, 6.0, 7.0, 8.0, 9.0, 10.0, 11.0, 12.0, 13.0, 14.0, 15.0, 16.0, 17.0, 18.0, 19.0, 20.0, 21.0, 22.0, 23.0, 24.0, 26.0, 28.0, 30.0, 32.0, 33.0, 34.0, 35.0, 36.0, 39.0, 42.0, 44.0, 45.0, 48.0, 52.0, 56.0, 60.0, 64.0, 68.0, 69.0, 72.0, 75.0, 80.0, 93.0, 96.0, 99.0, 108.0, 112.0, 128.0, 135.0, 145.0, 147.0, 196.0, 271.0, 288.0, 298.0, 466.0, 473.0, 597.0, 630.0, 660.0, 758.0, 844.0, 1020.0, 1044.0, 1392.0, 1934.0, 4568.0, 9530.0, 15389.0], \"y\": [1.0, 0.9980065553660084, 0.9794521860803891, 0.9589618753713743, 0.9589618753713743, 0.9589618753713743, 0.9589618753713743, 0.9589618753713743, 0.9589618753713743, 0.9589618753713743, 0.9589618753713743, 0.9589618753713743, 0.9589618753713743, 0.9589618753713743, 0.9589618753713743, 0.9589618753713743, 0.9589618753713743, 0.9589618753713743, 0.9589618753713743, 0.9589618753713743, 0.9589618753713743, 0.9589618753713743, 0.9589618753713743, 0.9589618753713743, 0.9589618753713743, 0.9589618753713743, 0.9589618753713743, 0.9589618753713743, 0.9589618753713743, 0.9589618753713743, 0.9589618753713743, 0.9589618753713743, 0.9589618753713743, 0.9589618753713743, 0.9589618753713743, 0.9589618753713743, 0.9589618753713743, 0.9589618753713743, 0.9589618753713743, 0.9589618753713743, 0.9589618753713743, 0.9589618753713743, 0.9589618753713743, 0.9589618753713743, 0.9589618753713743, 0.9589618753713743, 0.9589618753713743, 0.9589618753713743, 0.9589618753713743, 0.9589618753713743, 0.9589618753713743, 0.9589618753713743, 0.9589618753713743, 0.9589618753713743, 0.9589618753713743, 0.9589618753713743, 0.9589618753713743, 0.9589618753713743, 0.9589618753713743, 0.9589618753713743, 0.9589618753713743, 0.9589618753713743, 0.9589618753713743, 0.9589618753713743, 0.9589618753713743, 0.9589618753713743, 0.9589618753713743, 0.9589618753713743, 0.9589618753713743, 0.9589618753713743, 0.9589618753713743, 0.9589618753713743, 0.9589618753713743, 0.9589618753713743]}, {\"line\": {\"color\": \"rgba(55, 128, 191, 1.0)\", \"dash\": \"solid\", \"shape\": \"linear\", \"width\": 1.3}, \"mode\": \"lines\", \"name\": \"2.0\", \"text\": \"\", \"type\": \"scatter\", \"x\": [0.0, 1.0, 2.0, 3.0, 4.0, 5.0, 6.0, 7.0, 8.0, 9.0, 10.0, 11.0, 12.0, 13.0, 14.0, 15.0, 16.0, 17.0, 18.0, 19.0, 20.0, 21.0, 22.0, 23.0, 24.0, 26.0, 28.0, 30.0, 32.0, 33.0, 34.0, 35.0, 36.0, 39.0, 42.0, 44.0, 45.0, 48.0, 52.0, 56.0, 60.0, 64.0, 68.0, 69.0, 72.0, 75.0, 80.0, 93.0, 96.0, 99.0, 108.0, 112.0, 128.0, 135.0, 145.0, 147.0, 196.0, 271.0, 288.0, 298.0, 466.0, 473.0, 597.0, 630.0, 660.0, 758.0, 844.0, 1020.0, 1044.0, 1392.0, 1934.0, 4568.0, 9530.0, 15389.0], \"y\": [1.0, 0.9723827874116888, 0.7803468208092484, 0.7508028259473343, 0.7508028259473343, 0.7508028259473343, 0.7508028259473343, 0.7508028259473343, 0.7508028259473343, 0.7508028259473343, 0.7508028259473343, 0.7508028259473343, 0.7508028259473343, \"\", 0.7508028259473343, 0.7508028259473343, 0.7508028259473343, \"\", \"\", \"\", 0.7508028259473343, \"\", \"\", \"\", 0.7508028259473343, \"\", \"\", \"\", 0.7508028259473343, 0.7508028259473343, \"\", \"\", 0.7508028259473343, \"\", \"\", \"\", \"\", \"\", \"\", \"\", \"\", \"\", \"\", 0.7508028259473343, \"\", \"\", \"\", \"\", \"\", \"\", 0.7508028259473343, \"\", \"\", \"\", \"\", \"\", \"\", \"\", \"\", \"\", \"\", \"\", \"\", \"\", \"\", 0.7508028259473343, \"\", \"\", \"\", 0.7508028259473343, 0.7508028259473343, \"\", \"\", 0.7508028259473343]}, {\"line\": {\"color\": \"rgba(50, 171, 96, 1.0)\", \"dash\": \"solid\", \"shape\": \"linear\", \"width\": 1.3}, \"mode\": \"lines\", \"name\": \"4.0\", \"text\": \"\", \"type\": \"scatter\", \"x\": [0.0, 1.0, 2.0, 3.0, 4.0, 5.0, 6.0, 7.0, 8.0, 9.0, 10.0, 11.0, 12.0, 13.0, 14.0, 15.0, 16.0, 17.0, 18.0, 19.0, 20.0, 21.0, 22.0, 23.0, 24.0, 26.0, 28.0, 30.0, 32.0, 33.0, 34.0, 35.0, 36.0, 39.0, 42.0, 44.0, 45.0, 48.0, 52.0, 56.0, 60.0, 64.0, 68.0, 69.0, 72.0, 75.0, 80.0, 93.0, 96.0, 99.0, 108.0, 112.0, 128.0, 135.0, 145.0, 147.0, 196.0, 271.0, 288.0, 298.0, 466.0, 473.0, 597.0, 630.0, 660.0, 758.0, 844.0, 1020.0, 1044.0, 1392.0, 1934.0, 4568.0, 9530.0, 15389.0], \"y\": [1.0, 0.9942307692307693, 0.946153846153846, 0.8697115384615381, 0.8697115384615381, 0.8697115384615381, 0.8697115384615381, 0.8697115384615381, 0.8697115384615381, 0.8697115384615381, 0.8697115384615381, 0.8697115384615381, 0.8697115384615381, 0.8697115384615381, 0.8697115384615381, 0.8697115384615381, 0.8697115384615381, 0.8697115384615381, 0.8697115384615381, 0.8697115384615381, 0.8697115384615381, \"\", 0.8697115384615381, 0.8697115384615381, 0.8697115384615381, 0.8697115384615381, \"\", \"\", 0.8697115384615381, 0.8697115384615381, 0.8697115384615381, \"\", \"\", \"\", 0.8697115384615381, 0.8697115384615381, \"\", \"\", \"\", 0.8697115384615381, \"\", \"\", \"\", 0.8697115384615381, \"\", \"\", \"\", \"\", \"\", 0.8697115384615381, \"\", \"\", \"\", \"\", \"\", 0.8697115384615381, \"\", 0.8697115384615381, \"\", 0.8697115384615381, \"\", \"\", \"\", \"\", \"\", 0.8697115384615381, \"\", \"\", \"\", \"\", 0.8697115384615381, \"\", \"\", \"\"]}, {\"line\": {\"color\": \"rgba(128, 0, 128, 1.0)\", \"dash\": \"solid\", \"shape\": \"linear\", \"width\": 1.3}, \"mode\": \"lines\", \"name\": \"3.0\", \"text\": \"\", \"type\": \"scatter\", \"x\": [0.0, 1.0, 2.0, 3.0, 4.0, 5.0, 6.0, 7.0, 8.0, 9.0, 10.0, 11.0, 12.0, 13.0, 14.0, 15.0, 16.0, 17.0, 18.0, 19.0, 20.0, 21.0, 22.0, 23.0, 24.0, 26.0, 28.0, 30.0, 32.0, 33.0, 34.0, 35.0, 36.0, 39.0, 42.0, 44.0, 45.0, 48.0, 52.0, 56.0, 60.0, 64.0, 68.0, 69.0, 72.0, 75.0, 80.0, 93.0, 96.0, 99.0, 108.0, 112.0, 128.0, 135.0, 145.0, 147.0, 196.0, 271.0, 288.0, 298.0, 466.0, 473.0, 597.0, 630.0, 660.0, 758.0, 844.0, 1020.0, 1044.0, 1392.0, 1934.0, 4568.0, 9530.0, 15389.0], \"y\": [1.0, 0.962962962962963, 0.9259259259259257, 0.888888888888889, \"\", \"\", \"\", \"\", \"\", \"\", \"\", \"\", \"\", \"\", \"\", \"\", \"\", \"\", \"\", \"\", \"\", \"\", \"\", \"\", \"\", \"\", \"\", \"\", \"\", \"\", \"\", \"\", \"\", \"\", \"\", \"\", \"\", \"\", \"\", \"\", \"\", \"\", \"\", \"\", \"\", \"\", \"\", \"\", \"\", \"\", \"\", \"\", \"\", \"\", \"\", \"\", \"\", \"\", \"\", \"\", \"\", \"\", \"\", \"\", \"\", 0.888888888888889, \"\", \"\", \"\", \"\", \"\", \"\", \"\", \"\"]}, {\"line\": {\"color\": \"rgba(219, 64, 82, 1.0)\", \"dash\": \"solid\", \"shape\": \"linear\", \"width\": 1.3}, \"mode\": \"lines\", \"name\": \"5.0\", \"text\": \"\", \"type\": \"scatter\", \"x\": [0.0, 1.0, 2.0, 3.0, 4.0, 5.0, 6.0, 7.0, 8.0, 9.0, 10.0, 11.0, 12.0, 13.0, 14.0, 15.0, 16.0, 17.0, 18.0, 19.0, 20.0, 21.0, 22.0, 23.0, 24.0, 26.0, 28.0, 30.0, 32.0, 33.0, 34.0, 35.0, 36.0, 39.0, 42.0, 44.0, 45.0, 48.0, 52.0, 56.0, 60.0, 64.0, 68.0, 69.0, 72.0, 75.0, 80.0, 93.0, 96.0, 99.0, 108.0, 112.0, 128.0, 135.0, 145.0, 147.0, 196.0, 271.0, 288.0, 298.0, 466.0, 473.0, 597.0, 630.0, 660.0, 758.0, 844.0, 1020.0, 1044.0, 1392.0, 1934.0, 4568.0, 9530.0, 15389.0], \"y\": [1.0, \"\", \"\", \"\", \"\", \"\", \"\", \"\", \"\", \"\", \"\", \"\", \"\", \"\", \"\", \"\", \"\", \"\", \"\", \"\", \"\", \"\", \"\", \"\", \"\", \"\", \"\", \"\", \"\", \"\", \"\", \"\", \"\", \"\", \"\", \"\", \"\", \"\", \"\", \"\", \"\", \"\", \"\", \"\", \"\", \"\", \"\", \"\", \"\", \"\", \"\", \"\", \"\", \"\", \"\", \"\", \"\", 1.0, \"\", \"\", \"\", \"\", \"\", \"\", \"\", \"\", \"\", \"\", \"\", \"\", 1.0, \"\", \"\", \"\"]}, {\"line\": {\"color\": \"rgba(0, 128, 128, 1.0)\", \"dash\": \"solid\", \"shape\": \"linear\", \"width\": 1.3}, \"mode\": \"lines\", \"name\": \"8.0\", \"text\": \"\", \"type\": \"scatter\", \"x\": [0.0, 1.0, 2.0, 3.0, 4.0, 5.0, 6.0, 7.0, 8.0, 9.0, 10.0, 11.0, 12.0, 13.0, 14.0, 15.0, 16.0, 17.0, 18.0, 19.0, 20.0, 21.0, 22.0, 23.0, 24.0, 26.0, 28.0, 30.0, 32.0, 33.0, 34.0, 35.0, 36.0, 39.0, 42.0, 44.0, 45.0, 48.0, 52.0, 56.0, 60.0, 64.0, 68.0, 69.0, 72.0, 75.0, 80.0, 93.0, 96.0, 99.0, 108.0, 112.0, 128.0, 135.0, 145.0, 147.0, 196.0, 271.0, 288.0, 298.0, 466.0, 473.0, 597.0, 630.0, 660.0, 758.0, 844.0, 1020.0, 1044.0, 1392.0, 1934.0, 4568.0, 9530.0, 15389.0], \"y\": [1.0, \"\", \"\", 0.0, \"\", \"\", \"\", \"\", \"\", \"\", \"\", \"\", \"\", \"\", \"\", \"\", \"\", \"\", \"\", \"\", \"\", \"\", \"\", \"\", \"\", \"\", \"\", \"\", \"\", \"\", \"\", \"\", \"\", \"\", \"\", \"\", \"\", \"\", \"\", \"\", \"\", \"\", \"\", \"\", \"\", \"\", \"\", \"\", \"\", \"\", \"\", \"\", \"\", \"\", \"\", \"\", \"\", \"\", \"\", \"\", \"\", \"\", \"\", \"\", \"\", \"\", \"\", \"\", \"\", \"\", \"\", \"\", \"\", \"\"]}],                        {\"template\": {\"data\": {\"bar\": [{\"error_x\": {\"color\": \"#2a3f5f\"}, \"error_y\": {\"color\": \"#2a3f5f\"}, \"marker\": {\"line\": {\"color\": \"#E5ECF6\", \"width\": 0.5}}, \"type\": \"bar\"}], \"barpolar\": [{\"marker\": {\"line\": {\"color\": \"#E5ECF6\", \"width\": 0.5}}, \"type\": \"barpolar\"}], \"carpet\": [{\"aaxis\": {\"endlinecolor\": \"#2a3f5f\", \"gridcolor\": \"white\", \"linecolor\": \"white\", \"minorgridcolor\": \"white\", \"startlinecolor\": \"#2a3f5f\"}, \"baxis\": {\"endlinecolor\": \"#2a3f5f\", \"gridcolor\": \"white\", \"linecolor\": \"white\", \"minorgridcolor\": \"white\", \"startlinecolor\": \"#2a3f5f\"}, \"type\": \"carpet\"}], \"choropleth\": [{\"colorbar\": {\"outlinewidth\": 0, \"ticks\": \"\"}, \"type\": \"choropleth\"}], \"contour\": [{\"colorbar\": {\"outlinewidth\": 0, \"ticks\": \"\"}, \"colorscale\": [[0.0, \"#0d0887\"], [0.1111111111111111, \"#46039f\"], [0.2222222222222222, \"#7201a8\"], [0.3333333333333333, \"#9c179e\"], [0.4444444444444444, \"#bd3786\"], [0.5555555555555556, \"#d8576b\"], [0.6666666666666666, \"#ed7953\"], [0.7777777777777778, \"#fb9f3a\"], [0.8888888888888888, \"#fdca26\"], [1.0, \"#f0f921\"]], \"type\": \"contour\"}], \"contourcarpet\": [{\"colorbar\": {\"outlinewidth\": 0, \"ticks\": \"\"}, \"type\": \"contourcarpet\"}], \"heatmap\": [{\"colorbar\": {\"outlinewidth\": 0, \"ticks\": \"\"}, \"colorscale\": [[0.0, \"#0d0887\"], [0.1111111111111111, \"#46039f\"], [0.2222222222222222, \"#7201a8\"], [0.3333333333333333, \"#9c179e\"], [0.4444444444444444, \"#bd3786\"], [0.5555555555555556, \"#d8576b\"], [0.6666666666666666, \"#ed7953\"], [0.7777777777777778, \"#fb9f3a\"], [0.8888888888888888, \"#fdca26\"], [1.0, \"#f0f921\"]], \"type\": \"heatmap\"}], \"heatmapgl\": [{\"colorbar\": {\"outlinewidth\": 0, \"ticks\": \"\"}, \"colorscale\": [[0.0, \"#0d0887\"], [0.1111111111111111, \"#46039f\"], [0.2222222222222222, \"#7201a8\"], [0.3333333333333333, \"#9c179e\"], [0.4444444444444444, \"#bd3786\"], [0.5555555555555556, \"#d8576b\"], [0.6666666666666666, \"#ed7953\"], [0.7777777777777778, \"#fb9f3a\"], [0.8888888888888888, \"#fdca26\"], [1.0, \"#f0f921\"]], \"type\": \"heatmapgl\"}], \"histogram\": [{\"marker\": {\"colorbar\": {\"outlinewidth\": 0, \"ticks\": \"\"}}, \"type\": \"histogram\"}], \"histogram2d\": [{\"colorbar\": {\"outlinewidth\": 0, \"ticks\": \"\"}, \"colorscale\": [[0.0, \"#0d0887\"], [0.1111111111111111, \"#46039f\"], [0.2222222222222222, \"#7201a8\"], [0.3333333333333333, \"#9c179e\"], [0.4444444444444444, \"#bd3786\"], [0.5555555555555556, \"#d8576b\"], [0.6666666666666666, \"#ed7953\"], [0.7777777777777778, \"#fb9f3a\"], [0.8888888888888888, \"#fdca26\"], [1.0, \"#f0f921\"]], \"type\": \"histogram2d\"}], \"histogram2dcontour\": [{\"colorbar\": {\"outlinewidth\": 0, \"ticks\": \"\"}, \"colorscale\": [[0.0, \"#0d0887\"], [0.1111111111111111, \"#46039f\"], [0.2222222222222222, \"#7201a8\"], [0.3333333333333333, \"#9c179e\"], [0.4444444444444444, \"#bd3786\"], [0.5555555555555556, \"#d8576b\"], [0.6666666666666666, \"#ed7953\"], [0.7777777777777778, \"#fb9f3a\"], [0.8888888888888888, \"#fdca26\"], [1.0, \"#f0f921\"]], \"type\": \"histogram2dcontour\"}], \"mesh3d\": [{\"colorbar\": {\"outlinewidth\": 0, \"ticks\": \"\"}, \"type\": \"mesh3d\"}], \"parcoords\": [{\"line\": {\"colorbar\": {\"outlinewidth\": 0, \"ticks\": \"\"}}, \"type\": \"parcoords\"}], \"pie\": [{\"automargin\": true, \"type\": \"pie\"}], \"scatter\": [{\"marker\": {\"colorbar\": {\"outlinewidth\": 0, \"ticks\": \"\"}}, \"type\": \"scatter\"}], \"scatter3d\": [{\"line\": {\"colorbar\": {\"outlinewidth\": 0, \"ticks\": \"\"}}, \"marker\": {\"colorbar\": {\"outlinewidth\": 0, \"ticks\": \"\"}}, \"type\": \"scatter3d\"}], \"scattercarpet\": [{\"marker\": {\"colorbar\": {\"outlinewidth\": 0, \"ticks\": \"\"}}, \"type\": \"scattercarpet\"}], \"scattergeo\": [{\"marker\": {\"colorbar\": {\"outlinewidth\": 0, \"ticks\": \"\"}}, \"type\": \"scattergeo\"}], \"scattergl\": [{\"marker\": {\"colorbar\": {\"outlinewidth\": 0, \"ticks\": \"\"}}, \"type\": \"scattergl\"}], \"scattermapbox\": [{\"marker\": {\"colorbar\": {\"outlinewidth\": 0, \"ticks\": \"\"}}, \"type\": \"scattermapbox\"}], \"scatterpolar\": [{\"marker\": {\"colorbar\": {\"outlinewidth\": 0, \"ticks\": \"\"}}, \"type\": \"scatterpolar\"}], \"scatterpolargl\": [{\"marker\": {\"colorbar\": {\"outlinewidth\": 0, \"ticks\": \"\"}}, \"type\": \"scatterpolargl\"}], \"scatterternary\": [{\"marker\": {\"colorbar\": {\"outlinewidth\": 0, \"ticks\": \"\"}}, \"type\": \"scatterternary\"}], \"surface\": [{\"colorbar\": {\"outlinewidth\": 0, \"ticks\": \"\"}, \"colorscale\": [[0.0, \"#0d0887\"], [0.1111111111111111, \"#46039f\"], [0.2222222222222222, \"#7201a8\"], [0.3333333333333333, \"#9c179e\"], [0.4444444444444444, \"#bd3786\"], [0.5555555555555556, \"#d8576b\"], [0.6666666666666666, \"#ed7953\"], [0.7777777777777778, \"#fb9f3a\"], [0.8888888888888888, \"#fdca26\"], [1.0, \"#f0f921\"]], \"type\": \"surface\"}], \"table\": [{\"cells\": {\"fill\": {\"color\": \"#EBF0F8\"}, \"line\": {\"color\": \"white\"}}, \"header\": {\"fill\": {\"color\": \"#C8D4E3\"}, \"line\": {\"color\": \"white\"}}, \"type\": \"table\"}]}, \"layout\": {\"annotationdefaults\": {\"arrowcolor\": \"#2a3f5f\", \"arrowhead\": 0, \"arrowwidth\": 1}, \"autotypenumbers\": \"strict\", \"coloraxis\": {\"colorbar\": {\"outlinewidth\": 0, \"ticks\": \"\"}}, \"colorscale\": {\"diverging\": [[0, \"#8e0152\"], [0.1, \"#c51b7d\"], [0.2, \"#de77ae\"], [0.3, \"#f1b6da\"], [0.4, \"#fde0ef\"], [0.5, \"#f7f7f7\"], [0.6, \"#e6f5d0\"], [0.7, \"#b8e186\"], [0.8, \"#7fbc41\"], [0.9, \"#4d9221\"], [1, \"#276419\"]], \"sequential\": [[0.0, \"#0d0887\"], [0.1111111111111111, \"#46039f\"], [0.2222222222222222, \"#7201a8\"], [0.3333333333333333, \"#9c179e\"], [0.4444444444444444, \"#bd3786\"], [0.5555555555555556, \"#d8576b\"], [0.6666666666666666, \"#ed7953\"], [0.7777777777777778, \"#fb9f3a\"], [0.8888888888888888, \"#fdca26\"], [1.0, \"#f0f921\"]], \"sequentialminus\": [[0.0, \"#0d0887\"], [0.1111111111111111, \"#46039f\"], [0.2222222222222222, \"#7201a8\"], [0.3333333333333333, \"#9c179e\"], [0.4444444444444444, \"#bd3786\"], [0.5555555555555556, \"#d8576b\"], [0.6666666666666666, \"#ed7953\"], [0.7777777777777778, \"#fb9f3a\"], [0.8888888888888888, \"#fdca26\"], [1.0, \"#f0f921\"]]}, \"colorway\": [\"#636efa\", \"#EF553B\", \"#00cc96\", \"#ab63fa\", \"#FFA15A\", \"#19d3f3\", \"#FF6692\", \"#B6E880\", \"#FF97FF\", \"#FECB52\"], \"font\": {\"color\": \"#2a3f5f\"}, \"geo\": {\"bgcolor\": \"white\", \"lakecolor\": \"white\", \"landcolor\": \"#E5ECF6\", \"showlakes\": true, \"showland\": true, \"subunitcolor\": \"white\"}, \"hoverlabel\": {\"align\": \"left\"}, \"hovermode\": \"closest\", \"mapbox\": {\"style\": \"light\"}, \"paper_bgcolor\": \"white\", \"plot_bgcolor\": \"#E5ECF6\", \"polar\": {\"angularaxis\": {\"gridcolor\": \"white\", \"linecolor\": \"white\", \"ticks\": \"\"}, \"bgcolor\": \"#E5ECF6\", \"radialaxis\": {\"gridcolor\": \"white\", \"linecolor\": \"white\", \"ticks\": \"\"}}, \"scene\": {\"xaxis\": {\"backgroundcolor\": \"#E5ECF6\", \"gridcolor\": \"white\", \"gridwidth\": 2, \"linecolor\": \"white\", \"showbackground\": true, \"ticks\": \"\", \"zerolinecolor\": \"white\"}, \"yaxis\": {\"backgroundcolor\": \"#E5ECF6\", \"gridcolor\": \"white\", \"gridwidth\": 2, \"linecolor\": \"white\", \"showbackground\": true, \"ticks\": \"\", \"zerolinecolor\": \"white\"}, \"zaxis\": {\"backgroundcolor\": \"#E5ECF6\", \"gridcolor\": \"white\", \"gridwidth\": 2, \"linecolor\": \"white\", \"showbackground\": true, \"ticks\": \"\", \"zerolinecolor\": \"white\"}}, \"shapedefaults\": {\"line\": {\"color\": \"#2a3f5f\"}}, \"ternary\": {\"aaxis\": {\"gridcolor\": \"white\", \"linecolor\": \"white\", \"ticks\": \"\"}, \"baxis\": {\"gridcolor\": \"white\", \"linecolor\": \"white\", \"ticks\": \"\"}, \"bgcolor\": \"#E5ECF6\", \"caxis\": {\"gridcolor\": \"white\", \"linecolor\": \"white\", \"ticks\": \"\"}}, \"title\": {\"x\": 0.05}, \"xaxis\": {\"automargin\": true, \"gridcolor\": \"white\", \"linecolor\": \"white\", \"ticks\": \"\", \"title\": {\"standoff\": 15}, \"zerolinecolor\": \"white\", \"zerolinewidth\": 2}, \"yaxis\": {\"automargin\": true, \"gridcolor\": \"white\", \"linecolor\": \"white\", \"ticks\": \"\", \"title\": {\"standoff\": 15}, \"zerolinecolor\": \"white\", \"zerolinewidth\": 2}}}, \"xaxis\": {\"range\": [0, 20]}, \"yaxis\": {\"range\": [0.5, 1]}},                        {\"showLink\": true, \"linkText\": \"Export to plot.ly\", \"plotlyServerURL\": \"https://plot.ly\", \"responsive\": true}                    ).then(function(){\n                            \nvar gd = document.getElementById('8d37ae80-d3f4-44e1-9108-56450935d709');\nvar x = new MutationObserver(function (mutations, observer) {{\n        var display = window.getComputedStyle(gd).display;\n        if (!display || display === 'none') {{\n            console.log([gd, 'removed!']);\n            Plotly.purge(gd);\n            observer.disconnect();\n        }}\n}});\n\n// Listen for the removal of the full notebook cells\nvar notebookContainer = gd.closest('#notebook-container');\nif (notebookContainer) {{\n    x.observe(notebookContainer, {childList: true});\n}}\n\n// Listen for the clearing of the current output cell\nvar outputEl = gd.closest('.output');\nif (outputEl) {{\n    x.observe(outputEl, {childList: true});\n}}\n\n                        })                };                });            </script>        </div>"
     },
     "metadata": {}
    }
   ],
   "source": [
    "\n",
    "import plotly.graph_objs as go\n",
    "layout = go.Layout( xaxis=dict(range=[0, 20]) , yaxis=dict(range=[0.5, 1])) \n",
    "\n",
    "rates.iplot(kind = 'line', yTitle='Retention Rate', xTitle='N donations', layout=layout)\n"
   ]
  },
  {
   "cell_type": "code",
   "execution_count": null,
   "metadata": {},
   "outputs": [],
   "source": [
    "# 1 Analise de variaveis \n",
    "# 2 Rodar arvore de decisão simples (uma vez que tenho muitas variáveis) - Decision Tree Classifier (limpar os missings, começar inputando com a média, quando categorica com  o mais frequente etc etc)"
   ]
  },
  {
   "cell_type": "code",
   "execution_count": 132,
   "metadata": {},
   "outputs": [],
   "source": [
    "from sklearn.pipeline import Pipeline"
   ]
  },
  {
   "cell_type": "code",
   "execution_count": 133,
   "metadata": {},
   "outputs": [],
   "source": [
    "from sklearn.tree import DecisionTreeClassifier, plot_tree"
   ]
  },
  {
   "cell_type": "code",
   "execution_count": 134,
   "metadata": {},
   "outputs": [],
   "source": [
    "from sklearn.impute import SimpleImputer"
   ]
  },
  {
   "cell_type": "code",
   "execution_count": 151,
   "metadata": {},
   "outputs": [],
   "source": [
    "# um pipeline para tratar os dados de acordo com o tipo de variaveis (numericas ou categoricas, ou posso fazer a partir de um fit transform e rodar a decision tree) \n",
    "pipeline = Pipeline(steps=[\n",
    "    ('imputer', SimpleImputer(strategy='median')),\n",
    "    ('model', DecisionTreeClassifier(max_depth=3))\n",
    "    ])"
   ]
  },
  {
   "cell_type": "code",
   "execution_count": 152,
   "metadata": {},
   "outputs": [
    {
     "output_type": "execute_result",
     "data": {
      "text/plain": [
       "       conversion_amount  organization_id  payment_method_data\n",
       "52880               4.00                1                  1.0\n",
       "10771               3.65                1                  1.0\n",
       "18692              24.00                1                  1.0\n",
       "14585               3.65                1                  1.0\n",
       "38278               0.01                1                  1.0\n",
       "...                  ...              ...                  ...\n",
       "59158           50000.00               18                  4.0\n",
       "65745          155000.00               47                  NaN\n",
       "55880           30000.00               64                  NaN\n",
       "56834              25.78               71                  NaN\n",
       "2732                3.66                1                  1.0\n",
       "\n",
       "[44433 rows x 3 columns]"
      ],
      "text/html": "<div>\n<style scoped>\n    .dataframe tbody tr th:only-of-type {\n        vertical-align: middle;\n    }\n\n    .dataframe tbody tr th {\n        vertical-align: top;\n    }\n\n    .dataframe thead th {\n        text-align: right;\n    }\n</style>\n<table border=\"1\" class=\"dataframe\">\n  <thead>\n    <tr style=\"text-align: right;\">\n      <th></th>\n      <th>conversion_amount</th>\n      <th>organization_id</th>\n      <th>payment_method_data</th>\n    </tr>\n  </thead>\n  <tbody>\n    <tr>\n      <th>52880</th>\n      <td>4.00</td>\n      <td>1</td>\n      <td>1.0</td>\n    </tr>\n    <tr>\n      <th>10771</th>\n      <td>3.65</td>\n      <td>1</td>\n      <td>1.0</td>\n    </tr>\n    <tr>\n      <th>18692</th>\n      <td>24.00</td>\n      <td>1</td>\n      <td>1.0</td>\n    </tr>\n    <tr>\n      <th>14585</th>\n      <td>3.65</td>\n      <td>1</td>\n      <td>1.0</td>\n    </tr>\n    <tr>\n      <th>38278</th>\n      <td>0.01</td>\n      <td>1</td>\n      <td>1.0</td>\n    </tr>\n    <tr>\n      <th>...</th>\n      <td>...</td>\n      <td>...</td>\n      <td>...</td>\n    </tr>\n    <tr>\n      <th>59158</th>\n      <td>50000.00</td>\n      <td>18</td>\n      <td>4.0</td>\n    </tr>\n    <tr>\n      <th>65745</th>\n      <td>155000.00</td>\n      <td>47</td>\n      <td>NaN</td>\n    </tr>\n    <tr>\n      <th>55880</th>\n      <td>30000.00</td>\n      <td>64</td>\n      <td>NaN</td>\n    </tr>\n    <tr>\n      <th>56834</th>\n      <td>25.78</td>\n      <td>71</td>\n      <td>NaN</td>\n    </tr>\n    <tr>\n      <th>2732</th>\n      <td>3.66</td>\n      <td>1</td>\n      <td>1.0</td>\n    </tr>\n  </tbody>\n</table>\n<p>44433 rows × 3 columns</p>\n</div>"
     },
     "metadata": {},
     "execution_count": 152
    }
   ],
   "source": [
    "X_train.select_dtypes(exclude='object')[['conversion_amount','organization_id','payment_method_data']]#[['gateway', 'operating_system']]\n",
    "\n"
   ]
  },
  {
   "cell_type": "code",
   "execution_count": 153,
   "metadata": {},
   "outputs": [
    {
     "output_type": "execute_result",
     "data": {
      "text/plain": [
       "Pipeline(steps=[('imputer', SimpleImputer(strategy='median')),\n",
       "                ('model', DecisionTreeClassifier(max_depth=3))])"
      ]
     },
     "metadata": {},
     "execution_count": 153
    }
   ],
   "source": [
    "pipeline.fit(X_train.select_dtypes(exclude='object')[['conversion_amount','organization_id','payment_method_data']], y_train)\n"
   ]
  },
  {
   "cell_type": "code",
   "execution_count": 159,
   "metadata": {},
   "outputs": [],
   "source": [
    "x = pipeline.named_steps['imputer']\n"
   ]
  },
  {
   "cell_type": "code",
   "execution_count": 160,
   "metadata": {},
   "outputs": [
    {
     "output_type": "execute_result",
     "data": {
      "text/plain": [
       "SimpleImputer(strategy='median')"
      ]
     },
     "metadata": {},
     "execution_count": 160
    }
   ],
   "source": []
  },
  {
   "cell_type": "code",
   "execution_count": 164,
   "metadata": {},
   "outputs": [
    {
     "output_type": "display_data",
     "data": {
      "text/plain": "<Figure size 1440x1080 with 1 Axes>",
      "image/svg+xml": "<?xml version=\"1.0\" encoding=\"utf-8\" standalone=\"no\"?>\n<!DOCTYPE svg PUBLIC \"-//W3C//DTD SVG 1.1//EN\"\n  \"http://www.w3.org/Graphics/SVG/1.1/DTD/svg11.dtd\">\n<!-- Created with matplotlib (https://matplotlib.org/) -->\n<svg height=\"829.8pt\" version=\"1.1\" viewBox=\"0 0 1130.4 829.8\" width=\"1130.4pt\" xmlns=\"http://www.w3.org/2000/svg\" xmlns:xlink=\"http://www.w3.org/1999/xlink\">\n <defs>\n  <style type=\"text/css\">\n*{stroke-linecap:butt;stroke-linejoin:round;}\n  </style>\n </defs>\n <g id=\"figure_1\">\n  <g id=\"patch_1\">\n   <path d=\"M 0 829.8 \nL 1130.4 829.8 \nL 1130.4 0 \nL 0 0 \nz\n\" style=\"fill:none;\"/>\n  </g>\n  <g id=\"axes_1\">\n   <g id=\"patch_2\">\n    <path d=\"M 83.35612 701.952596 \nQ 114.522899 610.865172 146.051627 518.719923 \n\" style=\"fill:none;stroke:#000000;stroke-linecap:round;\"/>\n    <path d=\"M 85.785739 699.561189 \nL 83.35612 701.952596 \nL 82.900766 698.574057 \n\" style=\"fill:none;stroke:#000000;stroke-linecap:round;\"/>\n   </g>\n   <g id=\"text_1\">\n    <g id=\"patch_3\">\n     <path d=\"M 30.65308 735.949011 \nL 123.24692 735.949011 \nL 123.24692 705.400989 \nL 30.65308 705.400989 \nz\n\" style=\"fill:#e6843e;stroke:#000000;stroke-linejoin:miter;\"/>\n    </g>\n    <!-- gini = 0.045 -->\n    <defs>\n     <path d=\"M 45.40625 27.984375 \nQ 45.40625 37.75 41.375 43.109375 \nQ 37.359375 48.484375 30.078125 48.484375 \nQ 22.859375 48.484375 18.828125 43.109375 \nQ 14.796875 37.75 14.796875 27.984375 \nQ 14.796875 18.265625 18.828125 12.890625 \nQ 22.859375 7.515625 30.078125 7.515625 \nQ 37.359375 7.515625 41.375 12.890625 \nQ 45.40625 18.265625 45.40625 27.984375 \nz\nM 54.390625 6.78125 \nQ 54.390625 -7.171875 48.1875 -13.984375 \nQ 42 -20.796875 29.203125 -20.796875 \nQ 24.46875 -20.796875 20.265625 -20.09375 \nQ 16.0625 -19.390625 12.109375 -17.921875 \nL 12.109375 -9.1875 \nQ 16.0625 -11.328125 19.921875 -12.34375 \nQ 23.78125 -13.375 27.78125 -13.375 \nQ 36.625 -13.375 41.015625 -8.765625 \nQ 45.40625 -4.15625 45.40625 5.171875 \nL 45.40625 9.625 \nQ 42.625 4.78125 38.28125 2.390625 \nQ 33.9375 0 27.875 0 \nQ 17.828125 0 11.671875 7.65625 \nQ 5.515625 15.328125 5.515625 27.984375 \nQ 5.515625 40.671875 11.671875 48.328125 \nQ 17.828125 56 27.875 56 \nQ 33.9375 56 38.28125 53.609375 \nQ 42.625 51.21875 45.40625 46.390625 \nL 45.40625 54.6875 \nL 54.390625 54.6875 \nz\n\" id=\"DejaVuSans-103\"/>\n     <path d=\"M 9.421875 54.6875 \nL 18.40625 54.6875 \nL 18.40625 0 \nL 9.421875 0 \nz\nM 9.421875 75.984375 \nL 18.40625 75.984375 \nL 18.40625 64.59375 \nL 9.421875 64.59375 \nz\n\" id=\"DejaVuSans-105\"/>\n     <path d=\"M 54.890625 33.015625 \nL 54.890625 0 \nL 45.90625 0 \nL 45.90625 32.71875 \nQ 45.90625 40.484375 42.875 44.328125 \nQ 39.84375 48.1875 33.796875 48.1875 \nQ 26.515625 48.1875 22.3125 43.546875 \nQ 18.109375 38.921875 18.109375 30.90625 \nL 18.109375 0 \nL 9.078125 0 \nL 9.078125 54.6875 \nL 18.109375 54.6875 \nL 18.109375 46.1875 \nQ 21.34375 51.125 25.703125 53.5625 \nQ 30.078125 56 35.796875 56 \nQ 45.21875 56 50.046875 50.171875 \nQ 54.890625 44.34375 54.890625 33.015625 \nz\n\" id=\"DejaVuSans-110\"/>\n     <path id=\"DejaVuSans-32\"/>\n     <path d=\"M 10.59375 45.40625 \nL 73.1875 45.40625 \nL 73.1875 37.203125 \nL 10.59375 37.203125 \nz\nM 10.59375 25.484375 \nL 73.1875 25.484375 \nL 73.1875 17.1875 \nL 10.59375 17.1875 \nz\n\" id=\"DejaVuSans-61\"/>\n     <path d=\"M 31.78125 66.40625 \nQ 24.171875 66.40625 20.328125 58.90625 \nQ 16.5 51.421875 16.5 36.375 \nQ 16.5 21.390625 20.328125 13.890625 \nQ 24.171875 6.390625 31.78125 6.390625 \nQ 39.453125 6.390625 43.28125 13.890625 \nQ 47.125 21.390625 47.125 36.375 \nQ 47.125 51.421875 43.28125 58.90625 \nQ 39.453125 66.40625 31.78125 66.40625 \nz\nM 31.78125 74.21875 \nQ 44.046875 74.21875 50.515625 64.515625 \nQ 56.984375 54.828125 56.984375 36.375 \nQ 56.984375 17.96875 50.515625 8.265625 \nQ 44.046875 -1.421875 31.78125 -1.421875 \nQ 19.53125 -1.421875 13.0625 8.265625 \nQ 6.59375 17.96875 6.59375 36.375 \nQ 6.59375 54.828125 13.0625 64.515625 \nQ 19.53125 74.21875 31.78125 74.21875 \nz\n\" id=\"DejaVuSans-48\"/>\n     <path d=\"M 10.6875 12.40625 \nL 21 12.40625 \nL 21 0 \nL 10.6875 0 \nz\n\" id=\"DejaVuSans-46\"/>\n     <path d=\"M 37.796875 64.3125 \nL 12.890625 25.390625 \nL 37.796875 25.390625 \nz\nM 35.203125 72.90625 \nL 47.609375 72.90625 \nL 47.609375 25.390625 \nL 58.015625 25.390625 \nL 58.015625 17.1875 \nL 47.609375 17.1875 \nL 47.609375 0 \nL 37.796875 0 \nL 37.796875 17.1875 \nL 4.890625 17.1875 \nL 4.890625 26.703125 \nz\n\" id=\"DejaVuSans-52\"/>\n     <path d=\"M 10.796875 72.90625 \nL 49.515625 72.90625 \nL 49.515625 64.59375 \nL 19.828125 64.59375 \nL 19.828125 46.734375 \nQ 21.96875 47.46875 24.109375 47.828125 \nQ 26.265625 48.1875 28.421875 48.1875 \nQ 40.625 48.1875 47.75 41.5 \nQ 54.890625 34.8125 54.890625 23.390625 \nQ 54.890625 11.625 47.5625 5.09375 \nQ 40.234375 -1.421875 26.90625 -1.421875 \nQ 22.3125 -1.421875 17.546875 -0.640625 \nQ 12.796875 0.140625 7.71875 1.703125 \nL 7.71875 11.625 \nQ 12.109375 9.234375 16.796875 8.0625 \nQ 21.484375 6.890625 26.703125 6.890625 \nQ 35.15625 6.890625 40.078125 11.328125 \nQ 45.015625 15.765625 45.015625 23.390625 \nQ 45.015625 31 40.078125 35.4375 \nQ 35.15625 39.890625 26.703125 39.890625 \nQ 22.75 39.890625 18.8125 39.015625 \nQ 14.890625 38.140625 10.796875 36.28125 \nz\n\" id=\"DejaVuSans-53\"/>\n    </defs>\n    <g transform=\"translate(53.468929 714.242421)scale(0.07623 -0.07623)\">\n     <use xlink:href=\"#DejaVuSans-103\"/>\n     <use x=\"63.476562\" xlink:href=\"#DejaVuSans-105\"/>\n     <use x=\"91.259766\" xlink:href=\"#DejaVuSans-110\"/>\n     <use x=\"154.638672\" xlink:href=\"#DejaVuSans-105\"/>\n     <use x=\"182.421875\" xlink:href=\"#DejaVuSans-32\"/>\n     <use x=\"214.208984\" xlink:href=\"#DejaVuSans-61\"/>\n     <use x=\"297.998047\" xlink:href=\"#DejaVuSans-32\"/>\n     <use x=\"329.785156\" xlink:href=\"#DejaVuSans-48\"/>\n     <use x=\"393.408203\" xlink:href=\"#DejaVuSans-46\"/>\n     <use x=\"425.195312\" xlink:href=\"#DejaVuSans-48\"/>\n     <use x=\"488.818359\" xlink:href=\"#DejaVuSans-52\"/>\n     <use x=\"552.441406\" xlink:href=\"#DejaVuSans-53\"/>\n    </g>\n    <!-- samples = 0.5% -->\n    <defs>\n     <path d=\"M 44.28125 53.078125 \nL 44.28125 44.578125 \nQ 40.484375 46.53125 36.375 47.5 \nQ 32.28125 48.484375 27.875 48.484375 \nQ 21.1875 48.484375 17.84375 46.4375 \nQ 14.5 44.390625 14.5 40.28125 \nQ 14.5 37.15625 16.890625 35.375 \nQ 19.28125 33.59375 26.515625 31.984375 \nL 29.59375 31.296875 \nQ 39.15625 29.25 43.1875 25.515625 \nQ 47.21875 21.78125 47.21875 15.09375 \nQ 47.21875 7.46875 41.1875 3.015625 \nQ 35.15625 -1.421875 24.609375 -1.421875 \nQ 20.21875 -1.421875 15.453125 -0.5625 \nQ 10.6875 0.296875 5.421875 2 \nL 5.421875 11.28125 \nQ 10.40625 8.6875 15.234375 7.390625 \nQ 20.0625 6.109375 24.8125 6.109375 \nQ 31.15625 6.109375 34.5625 8.28125 \nQ 37.984375 10.453125 37.984375 14.40625 \nQ 37.984375 18.0625 35.515625 20.015625 \nQ 33.0625 21.96875 24.703125 23.78125 \nL 21.578125 24.515625 \nQ 13.234375 26.265625 9.515625 29.90625 \nQ 5.8125 33.546875 5.8125 39.890625 \nQ 5.8125 47.609375 11.28125 51.796875 \nQ 16.75 56 26.8125 56 \nQ 31.78125 56 36.171875 55.265625 \nQ 40.578125 54.546875 44.28125 53.078125 \nz\n\" id=\"DejaVuSans-115\"/>\n     <path d=\"M 34.28125 27.484375 \nQ 23.390625 27.484375 19.1875 25 \nQ 14.984375 22.515625 14.984375 16.5 \nQ 14.984375 11.71875 18.140625 8.90625 \nQ 21.296875 6.109375 26.703125 6.109375 \nQ 34.1875 6.109375 38.703125 11.40625 \nQ 43.21875 16.703125 43.21875 25.484375 \nL 43.21875 27.484375 \nz\nM 52.203125 31.203125 \nL 52.203125 0 \nL 43.21875 0 \nL 43.21875 8.296875 \nQ 40.140625 3.328125 35.546875 0.953125 \nQ 30.953125 -1.421875 24.3125 -1.421875 \nQ 15.921875 -1.421875 10.953125 3.296875 \nQ 6 8.015625 6 15.921875 \nQ 6 25.140625 12.171875 29.828125 \nQ 18.359375 34.515625 30.609375 34.515625 \nL 43.21875 34.515625 \nL 43.21875 35.40625 \nQ 43.21875 41.609375 39.140625 45 \nQ 35.0625 48.390625 27.6875 48.390625 \nQ 23 48.390625 18.546875 47.265625 \nQ 14.109375 46.140625 10.015625 43.890625 \nL 10.015625 52.203125 \nQ 14.9375 54.109375 19.578125 55.046875 \nQ 24.21875 56 28.609375 56 \nQ 40.484375 56 46.34375 49.84375 \nQ 52.203125 43.703125 52.203125 31.203125 \nz\n\" id=\"DejaVuSans-97\"/>\n     <path d=\"M 52 44.1875 \nQ 55.375 50.25 60.0625 53.125 \nQ 64.75 56 71.09375 56 \nQ 79.640625 56 84.28125 50.015625 \nQ 88.921875 44.046875 88.921875 33.015625 \nL 88.921875 0 \nL 79.890625 0 \nL 79.890625 32.71875 \nQ 79.890625 40.578125 77.09375 44.375 \nQ 74.3125 48.1875 68.609375 48.1875 \nQ 61.625 48.1875 57.5625 43.546875 \nQ 53.515625 38.921875 53.515625 30.90625 \nL 53.515625 0 \nL 44.484375 0 \nL 44.484375 32.71875 \nQ 44.484375 40.625 41.703125 44.40625 \nQ 38.921875 48.1875 33.109375 48.1875 \nQ 26.21875 48.1875 22.15625 43.53125 \nQ 18.109375 38.875 18.109375 30.90625 \nL 18.109375 0 \nL 9.078125 0 \nL 9.078125 54.6875 \nL 18.109375 54.6875 \nL 18.109375 46.1875 \nQ 21.1875 51.21875 25.484375 53.609375 \nQ 29.78125 56 35.6875 56 \nQ 41.65625 56 45.828125 52.96875 \nQ 50 49.953125 52 44.1875 \nz\n\" id=\"DejaVuSans-109\"/>\n     <path d=\"M 18.109375 8.203125 \nL 18.109375 -20.796875 \nL 9.078125 -20.796875 \nL 9.078125 54.6875 \nL 18.109375 54.6875 \nL 18.109375 46.390625 \nQ 20.953125 51.265625 25.265625 53.625 \nQ 29.59375 56 35.59375 56 \nQ 45.5625 56 51.78125 48.09375 \nQ 58.015625 40.1875 58.015625 27.296875 \nQ 58.015625 14.40625 51.78125 6.484375 \nQ 45.5625 -1.421875 35.59375 -1.421875 \nQ 29.59375 -1.421875 25.265625 0.953125 \nQ 20.953125 3.328125 18.109375 8.203125 \nz\nM 48.6875 27.296875 \nQ 48.6875 37.203125 44.609375 42.84375 \nQ 40.53125 48.484375 33.40625 48.484375 \nQ 26.265625 48.484375 22.1875 42.84375 \nQ 18.109375 37.203125 18.109375 27.296875 \nQ 18.109375 17.390625 22.1875 11.75 \nQ 26.265625 6.109375 33.40625 6.109375 \nQ 40.53125 6.109375 44.609375 11.75 \nQ 48.6875 17.390625 48.6875 27.296875 \nz\n\" id=\"DejaVuSans-112\"/>\n     <path d=\"M 9.421875 75.984375 \nL 18.40625 75.984375 \nL 18.40625 0 \nL 9.421875 0 \nz\n\" id=\"DejaVuSans-108\"/>\n     <path d=\"M 56.203125 29.59375 \nL 56.203125 25.203125 \nL 14.890625 25.203125 \nQ 15.484375 15.921875 20.484375 11.0625 \nQ 25.484375 6.203125 34.421875 6.203125 \nQ 39.59375 6.203125 44.453125 7.46875 \nQ 49.3125 8.734375 54.109375 11.28125 \nL 54.109375 2.78125 \nQ 49.265625 0.734375 44.1875 -0.34375 \nQ 39.109375 -1.421875 33.890625 -1.421875 \nQ 20.796875 -1.421875 13.15625 6.1875 \nQ 5.515625 13.8125 5.515625 26.8125 \nQ 5.515625 40.234375 12.765625 48.109375 \nQ 20.015625 56 32.328125 56 \nQ 43.359375 56 49.78125 48.890625 \nQ 56.203125 41.796875 56.203125 29.59375 \nz\nM 47.21875 32.234375 \nQ 47.125 39.59375 43.09375 43.984375 \nQ 39.0625 48.390625 32.421875 48.390625 \nQ 24.90625 48.390625 20.390625 44.140625 \nQ 15.875 39.890625 15.1875 32.171875 \nz\n\" id=\"DejaVuSans-101\"/>\n     <path d=\"M 72.703125 32.078125 \nQ 68.453125 32.078125 66.03125 28.46875 \nQ 63.625 24.859375 63.625 18.40625 \nQ 63.625 12.0625 66.03125 8.421875 \nQ 68.453125 4.78125 72.703125 4.78125 \nQ 76.859375 4.78125 79.265625 8.421875 \nQ 81.6875 12.0625 81.6875 18.40625 \nQ 81.6875 24.8125 79.265625 28.4375 \nQ 76.859375 32.078125 72.703125 32.078125 \nz\nM 72.703125 38.28125 \nQ 80.421875 38.28125 84.953125 32.90625 \nQ 89.5 27.546875 89.5 18.40625 \nQ 89.5 9.28125 84.9375 3.921875 \nQ 80.375 -1.421875 72.703125 -1.421875 \nQ 64.890625 -1.421875 60.34375 3.921875 \nQ 55.8125 9.28125 55.8125 18.40625 \nQ 55.8125 27.59375 60.375 32.9375 \nQ 64.9375 38.28125 72.703125 38.28125 \nz\nM 22.3125 68.015625 \nQ 18.109375 68.015625 15.6875 64.375 \nQ 13.28125 60.75 13.28125 54.390625 \nQ 13.28125 47.953125 15.671875 44.328125 \nQ 18.0625 40.71875 22.3125 40.71875 \nQ 26.5625 40.71875 28.96875 44.328125 \nQ 31.390625 47.953125 31.390625 54.390625 \nQ 31.390625 60.6875 28.953125 64.34375 \nQ 26.515625 68.015625 22.3125 68.015625 \nz\nM 66.40625 74.21875 \nL 74.21875 74.21875 \nL 28.609375 -1.421875 \nL 20.796875 -1.421875 \nz\nM 22.3125 74.21875 \nQ 30.03125 74.21875 34.609375 68.875 \nQ 39.203125 63.53125 39.203125 54.390625 \nQ 39.203125 45.171875 34.640625 39.84375 \nQ 30.078125 34.515625 22.3125 34.515625 \nQ 14.546875 34.515625 10.03125 39.859375 \nQ 5.515625 45.21875 5.515625 54.390625 \nQ 5.515625 63.484375 10.046875 68.84375 \nQ 14.59375 74.21875 22.3125 74.21875 \nz\n\" id=\"DejaVuSans-37\"/>\n    </defs>\n    <g transform=\"translate(45.807268 722.778458)scale(0.07623 -0.07623)\">\n     <use xlink:href=\"#DejaVuSans-115\"/>\n     <use x=\"52.099609\" xlink:href=\"#DejaVuSans-97\"/>\n     <use x=\"113.378906\" xlink:href=\"#DejaVuSans-109\"/>\n     <use x=\"210.791016\" xlink:href=\"#DejaVuSans-112\"/>\n     <use x=\"274.267578\" xlink:href=\"#DejaVuSans-108\"/>\n     <use x=\"302.050781\" xlink:href=\"#DejaVuSans-101\"/>\n     <use x=\"363.574219\" xlink:href=\"#DejaVuSans-115\"/>\n     <use x=\"415.673828\" xlink:href=\"#DejaVuSans-32\"/>\n     <use x=\"447.460938\" xlink:href=\"#DejaVuSans-61\"/>\n     <use x=\"531.25\" xlink:href=\"#DejaVuSans-32\"/>\n     <use x=\"563.037109\" xlink:href=\"#DejaVuSans-48\"/>\n     <use x=\"626.660156\" xlink:href=\"#DejaVuSans-46\"/>\n     <use x=\"658.447266\" xlink:href=\"#DejaVuSans-53\"/>\n     <use x=\"722.070312\" xlink:href=\"#DejaVuSans-37\"/>\n    </g>\n    <!-- value = [0.977, 0.023] -->\n    <defs>\n     <path d=\"M 2.984375 54.6875 \nL 12.5 54.6875 \nL 29.59375 8.796875 \nL 46.6875 54.6875 \nL 56.203125 54.6875 \nL 35.6875 0 \nL 23.484375 0 \nz\n\" id=\"DejaVuSans-118\"/>\n     <path d=\"M 8.5 21.578125 \nL 8.5 54.6875 \nL 17.484375 54.6875 \nL 17.484375 21.921875 \nQ 17.484375 14.15625 20.5 10.265625 \nQ 23.53125 6.390625 29.59375 6.390625 \nQ 36.859375 6.390625 41.078125 11.03125 \nQ 45.3125 15.671875 45.3125 23.6875 \nL 45.3125 54.6875 \nL 54.296875 54.6875 \nL 54.296875 0 \nL 45.3125 0 \nL 45.3125 8.40625 \nQ 42.046875 3.421875 37.71875 1 \nQ 33.40625 -1.421875 27.6875 -1.421875 \nQ 18.265625 -1.421875 13.375 4.4375 \nQ 8.5 10.296875 8.5 21.578125 \nz\nM 31.109375 56 \nz\n\" id=\"DejaVuSans-117\"/>\n     <path d=\"M 8.59375 75.984375 \nL 29.296875 75.984375 \nL 29.296875 69 \nL 17.578125 69 \nL 17.578125 -6.203125 \nL 29.296875 -6.203125 \nL 29.296875 -13.1875 \nL 8.59375 -13.1875 \nz\n\" id=\"DejaVuSans-91\"/>\n     <path d=\"M 10.984375 1.515625 \nL 10.984375 10.5 \nQ 14.703125 8.734375 18.5 7.8125 \nQ 22.3125 6.890625 25.984375 6.890625 \nQ 35.75 6.890625 40.890625 13.453125 \nQ 46.046875 20.015625 46.78125 33.40625 \nQ 43.953125 29.203125 39.59375 26.953125 \nQ 35.25 24.703125 29.984375 24.703125 \nQ 19.046875 24.703125 12.671875 31.3125 \nQ 6.296875 37.9375 6.296875 49.421875 \nQ 6.296875 60.640625 12.9375 67.421875 \nQ 19.578125 74.21875 30.609375 74.21875 \nQ 43.265625 74.21875 49.921875 64.515625 \nQ 56.59375 54.828125 56.59375 36.375 \nQ 56.59375 19.140625 48.40625 8.859375 \nQ 40.234375 -1.421875 26.421875 -1.421875 \nQ 22.703125 -1.421875 18.890625 -0.6875 \nQ 15.09375 0.046875 10.984375 1.515625 \nz\nM 30.609375 32.421875 \nQ 37.25 32.421875 41.125 36.953125 \nQ 45.015625 41.5 45.015625 49.421875 \nQ 45.015625 57.28125 41.125 61.84375 \nQ 37.25 66.40625 30.609375 66.40625 \nQ 23.96875 66.40625 20.09375 61.84375 \nQ 16.21875 57.28125 16.21875 49.421875 \nQ 16.21875 41.5 20.09375 36.953125 \nQ 23.96875 32.421875 30.609375 32.421875 \nz\n\" id=\"DejaVuSans-57\"/>\n     <path d=\"M 8.203125 72.90625 \nL 55.078125 72.90625 \nL 55.078125 68.703125 \nL 28.609375 0 \nL 18.3125 0 \nL 43.21875 64.59375 \nL 8.203125 64.59375 \nz\n\" id=\"DejaVuSans-55\"/>\n     <path d=\"M 11.71875 12.40625 \nL 22.015625 12.40625 \nL 22.015625 4 \nL 14.015625 -11.625 \nL 7.71875 -11.625 \nL 11.71875 4 \nz\n\" id=\"DejaVuSans-44\"/>\n     <path d=\"M 19.1875 8.296875 \nL 53.609375 8.296875 \nL 53.609375 0 \nL 7.328125 0 \nL 7.328125 8.296875 \nQ 12.9375 14.109375 22.625 23.890625 \nQ 32.328125 33.6875 34.8125 36.53125 \nQ 39.546875 41.84375 41.421875 45.53125 \nQ 43.3125 49.21875 43.3125 52.78125 \nQ 43.3125 58.59375 39.234375 62.25 \nQ 35.15625 65.921875 28.609375 65.921875 \nQ 23.96875 65.921875 18.8125 64.3125 \nQ 13.671875 62.703125 7.8125 59.421875 \nL 7.8125 69.390625 \nQ 13.765625 71.78125 18.9375 73 \nQ 24.125 74.21875 28.421875 74.21875 \nQ 39.75 74.21875 46.484375 68.546875 \nQ 53.21875 62.890625 53.21875 53.421875 \nQ 53.21875 48.921875 51.53125 44.890625 \nQ 49.859375 40.875 45.40625 35.40625 \nQ 44.1875 33.984375 37.640625 27.21875 \nQ 31.109375 20.453125 19.1875 8.296875 \nz\n\" id=\"DejaVuSans-50\"/>\n     <path d=\"M 40.578125 39.3125 \nQ 47.65625 37.796875 51.625 33 \nQ 55.609375 28.21875 55.609375 21.1875 \nQ 55.609375 10.40625 48.1875 4.484375 \nQ 40.765625 -1.421875 27.09375 -1.421875 \nQ 22.515625 -1.421875 17.65625 -0.515625 \nQ 12.796875 0.390625 7.625 2.203125 \nL 7.625 11.71875 \nQ 11.71875 9.328125 16.59375 8.109375 \nQ 21.484375 6.890625 26.8125 6.890625 \nQ 36.078125 6.890625 40.9375 10.546875 \nQ 45.796875 14.203125 45.796875 21.1875 \nQ 45.796875 27.640625 41.28125 31.265625 \nQ 36.765625 34.90625 28.71875 34.90625 \nL 20.21875 34.90625 \nL 20.21875 43.015625 \nL 29.109375 43.015625 \nQ 36.375 43.015625 40.234375 45.921875 \nQ 44.09375 48.828125 44.09375 54.296875 \nQ 44.09375 59.90625 40.109375 62.90625 \nQ 36.140625 65.921875 28.71875 65.921875 \nQ 24.65625 65.921875 20.015625 65.03125 \nQ 15.375 64.15625 9.8125 62.3125 \nL 9.8125 71.09375 \nQ 15.4375 72.65625 20.34375 73.4375 \nQ 25.25 74.21875 29.59375 74.21875 \nQ 40.828125 74.21875 47.359375 69.109375 \nQ 53.90625 64.015625 53.90625 55.328125 \nQ 53.90625 49.265625 50.4375 45.09375 \nQ 46.96875 40.921875 40.578125 39.3125 \nz\n\" id=\"DejaVuSans-51\"/>\n     <path d=\"M 30.421875 75.984375 \nL 30.421875 -13.1875 \nL 9.71875 -13.1875 \nL 9.71875 -6.203125 \nL 21.390625 -6.203125 \nL 21.390625 69 \nL 9.71875 69 \nL 9.71875 75.984375 \nz\n\" id=\"DejaVuSans-93\"/>\n    </defs>\n    <g transform=\"translate(33.702261 731.314495)scale(0.07623 -0.07623)\">\n     <use xlink:href=\"#DejaVuSans-118\"/>\n     <use x=\"59.179688\" xlink:href=\"#DejaVuSans-97\"/>\n     <use x=\"120.458984\" xlink:href=\"#DejaVuSans-108\"/>\n     <use x=\"148.242188\" xlink:href=\"#DejaVuSans-117\"/>\n     <use x=\"211.621094\" xlink:href=\"#DejaVuSans-101\"/>\n     <use x=\"273.144531\" xlink:href=\"#DejaVuSans-32\"/>\n     <use x=\"304.931641\" xlink:href=\"#DejaVuSans-61\"/>\n     <use x=\"388.720703\" xlink:href=\"#DejaVuSans-32\"/>\n     <use x=\"420.507812\" xlink:href=\"#DejaVuSans-91\"/>\n     <use x=\"459.521484\" xlink:href=\"#DejaVuSans-48\"/>\n     <use x=\"523.144531\" xlink:href=\"#DejaVuSans-46\"/>\n     <use x=\"554.931641\" xlink:href=\"#DejaVuSans-57\"/>\n     <use x=\"618.554688\" xlink:href=\"#DejaVuSans-55\"/>\n     <use x=\"682.177734\" xlink:href=\"#DejaVuSans-55\"/>\n     <use x=\"745.800781\" xlink:href=\"#DejaVuSans-44\"/>\n     <use x=\"777.587891\" xlink:href=\"#DejaVuSans-32\"/>\n     <use x=\"809.375\" xlink:href=\"#DejaVuSans-48\"/>\n     <use x=\"872.998047\" xlink:href=\"#DejaVuSans-46\"/>\n     <use x=\"904.785156\" xlink:href=\"#DejaVuSans-48\"/>\n     <use x=\"968.408203\" xlink:href=\"#DejaVuSans-50\"/>\n     <use x=\"1032.03125\" xlink:href=\"#DejaVuSans-51\"/>\n     <use x=\"1095.654297\" xlink:href=\"#DejaVuSans-93\"/>\n    </g>\n   </g>\n   <g id=\"patch_4\">\n    <path d=\"M 210.04388 701.952596 \nQ 178.877101 610.865172 147.348373 518.719923 \n\" style=\"fill:none;stroke:#000000;stroke-linecap:round;\"/>\n    <path d=\"M 210.499234 698.574057 \nL 210.04388 701.952596 \nL 207.614261 699.561189 \n\" style=\"fill:none;stroke:#000000;stroke-linecap:round;\"/>\n   </g>\n   <g id=\"text_2\">\n    <g id=\"patch_5\">\n     <path d=\"M 170.15308 735.949011 \nL 262.74692 735.949011 \nL 262.74692 705.400989 \nL 170.15308 705.400989 \nz\n\" style=\"fill:#e5813a;stroke:#000000;stroke-linejoin:miter;\"/>\n    </g>\n    <!-- gini = 0.007 -->\n    <g transform=\"translate(192.968929 714.242421)scale(0.07623 -0.07623)\">\n     <use xlink:href=\"#DejaVuSans-103\"/>\n     <use x=\"63.476562\" xlink:href=\"#DejaVuSans-105\"/>\n     <use x=\"91.259766\" xlink:href=\"#DejaVuSans-110\"/>\n     <use x=\"154.638672\" xlink:href=\"#DejaVuSans-105\"/>\n     <use x=\"182.421875\" xlink:href=\"#DejaVuSans-32\"/>\n     <use x=\"214.208984\" xlink:href=\"#DejaVuSans-61\"/>\n     <use x=\"297.998047\" xlink:href=\"#DejaVuSans-32\"/>\n     <use x=\"329.785156\" xlink:href=\"#DejaVuSans-48\"/>\n     <use x=\"393.408203\" xlink:href=\"#DejaVuSans-46\"/>\n     <use x=\"425.195312\" xlink:href=\"#DejaVuSans-48\"/>\n     <use x=\"488.818359\" xlink:href=\"#DejaVuSans-48\"/>\n     <use x=\"552.441406\" xlink:href=\"#DejaVuSans-55\"/>\n    </g>\n    <!-- samples = 69.7% -->\n    <defs>\n     <path d=\"M 33.015625 40.375 \nQ 26.375 40.375 22.484375 35.828125 \nQ 18.609375 31.296875 18.609375 23.390625 \nQ 18.609375 15.53125 22.484375 10.953125 \nQ 26.375 6.390625 33.015625 6.390625 \nQ 39.65625 6.390625 43.53125 10.953125 \nQ 47.40625 15.53125 47.40625 23.390625 \nQ 47.40625 31.296875 43.53125 35.828125 \nQ 39.65625 40.375 33.015625 40.375 \nz\nM 52.59375 71.296875 \nL 52.59375 62.3125 \nQ 48.875 64.0625 45.09375 64.984375 \nQ 41.3125 65.921875 37.59375 65.921875 \nQ 27.828125 65.921875 22.671875 59.328125 \nQ 17.53125 52.734375 16.796875 39.40625 \nQ 19.671875 43.65625 24.015625 45.921875 \nQ 28.375 48.1875 33.59375 48.1875 \nQ 44.578125 48.1875 50.953125 41.515625 \nQ 57.328125 34.859375 57.328125 23.390625 \nQ 57.328125 12.15625 50.6875 5.359375 \nQ 44.046875 -1.421875 33.015625 -1.421875 \nQ 20.359375 -1.421875 13.671875 8.265625 \nQ 6.984375 17.96875 6.984375 36.375 \nQ 6.984375 53.65625 15.1875 63.9375 \nQ 23.390625 74.21875 37.203125 74.21875 \nQ 40.921875 74.21875 44.703125 73.484375 \nQ 48.484375 72.75 52.59375 71.296875 \nz\n\" id=\"DejaVuSans-54\"/>\n    </defs>\n    <g transform=\"translate(182.882217 722.778458)scale(0.07623 -0.07623)\">\n     <use xlink:href=\"#DejaVuSans-115\"/>\n     <use x=\"52.099609\" xlink:href=\"#DejaVuSans-97\"/>\n     <use x=\"113.378906\" xlink:href=\"#DejaVuSans-109\"/>\n     <use x=\"210.791016\" xlink:href=\"#DejaVuSans-112\"/>\n     <use x=\"274.267578\" xlink:href=\"#DejaVuSans-108\"/>\n     <use x=\"302.050781\" xlink:href=\"#DejaVuSans-101\"/>\n     <use x=\"363.574219\" xlink:href=\"#DejaVuSans-115\"/>\n     <use x=\"415.673828\" xlink:href=\"#DejaVuSans-32\"/>\n     <use x=\"447.460938\" xlink:href=\"#DejaVuSans-61\"/>\n     <use x=\"531.25\" xlink:href=\"#DejaVuSans-32\"/>\n     <use x=\"563.037109\" xlink:href=\"#DejaVuSans-54\"/>\n     <use x=\"626.660156\" xlink:href=\"#DejaVuSans-57\"/>\n     <use x=\"690.283203\" xlink:href=\"#DejaVuSans-46\"/>\n     <use x=\"722.070312\" xlink:href=\"#DejaVuSans-55\"/>\n     <use x=\"785.693359\" xlink:href=\"#DejaVuSans-37\"/>\n    </g>\n    <!-- value = [0.996, 0.004] -->\n    <g transform=\"translate(173.202261 731.314495)scale(0.07623 -0.07623)\">\n     <use xlink:href=\"#DejaVuSans-118\"/>\n     <use x=\"59.179688\" xlink:href=\"#DejaVuSans-97\"/>\n     <use x=\"120.458984\" xlink:href=\"#DejaVuSans-108\"/>\n     <use x=\"148.242188\" xlink:href=\"#DejaVuSans-117\"/>\n     <use x=\"211.621094\" xlink:href=\"#DejaVuSans-101\"/>\n     <use x=\"273.144531\" xlink:href=\"#DejaVuSans-32\"/>\n     <use x=\"304.931641\" xlink:href=\"#DejaVuSans-61\"/>\n     <use x=\"388.720703\" xlink:href=\"#DejaVuSans-32\"/>\n     <use x=\"420.507812\" xlink:href=\"#DejaVuSans-91\"/>\n     <use x=\"459.521484\" xlink:href=\"#DejaVuSans-48\"/>\n     <use x=\"523.144531\" xlink:href=\"#DejaVuSans-46\"/>\n     <use x=\"554.931641\" xlink:href=\"#DejaVuSans-57\"/>\n     <use x=\"618.554688\" xlink:href=\"#DejaVuSans-57\"/>\n     <use x=\"682.177734\" xlink:href=\"#DejaVuSans-54\"/>\n     <use x=\"745.800781\" xlink:href=\"#DejaVuSans-44\"/>\n     <use x=\"777.587891\" xlink:href=\"#DejaVuSans-32\"/>\n     <use x=\"809.375\" xlink:href=\"#DejaVuSans-48\"/>\n     <use x=\"872.998047\" xlink:href=\"#DejaVuSans-46\"/>\n     <use x=\"904.785156\" xlink:href=\"#DejaVuSans-48\"/>\n     <use x=\"968.408203\" xlink:href=\"#DejaVuSans-48\"/>\n     <use x=\"1032.03125\" xlink:href=\"#DejaVuSans-52\"/>\n     <use x=\"1095.654297\" xlink:href=\"#DejaVuSans-93\"/>\n    </g>\n   </g>\n   <g id=\"patch_6\">\n    <path d=\"M 362.35612 701.952596 \nQ 393.522899 610.865172 425.051627 518.719923 \n\" style=\"fill:none;stroke:#000000;stroke-linecap:round;\"/>\n    <path d=\"M 364.785739 699.561189 \nL 362.35612 701.952596 \nL 361.900766 698.574057 \n\" style=\"fill:none;stroke:#000000;stroke-linecap:round;\"/>\n   </g>\n   <g id=\"text_3\">\n    <g id=\"patch_7\">\n     <path d=\"M 319.353285 735.949011 \nL 392.546715 735.949011 \nL 392.546715 705.400989 \nL 319.353285 705.400989 \nz\n\" style=\"fill:#399de5;stroke:#000000;stroke-linejoin:miter;\"/>\n    </g>\n    <!-- gini = 0.0 -->\n    <g transform=\"translate(337.319032 714.242421)scale(0.07623 -0.07623)\">\n     <use xlink:href=\"#DejaVuSans-103\"/>\n     <use x=\"63.476562\" xlink:href=\"#DejaVuSans-105\"/>\n     <use x=\"91.259766\" xlink:href=\"#DejaVuSans-110\"/>\n     <use x=\"154.638672\" xlink:href=\"#DejaVuSans-105\"/>\n     <use x=\"182.421875\" xlink:href=\"#DejaVuSans-32\"/>\n     <use x=\"214.208984\" xlink:href=\"#DejaVuSans-61\"/>\n     <use x=\"297.998047\" xlink:href=\"#DejaVuSans-32\"/>\n     <use x=\"329.785156\" xlink:href=\"#DejaVuSans-48\"/>\n     <use x=\"393.408203\" xlink:href=\"#DejaVuSans-46\"/>\n     <use x=\"425.195312\" xlink:href=\"#DejaVuSans-48\"/>\n    </g>\n    <!-- samples = 0.0% -->\n    <g transform=\"translate(324.807268 722.778458)scale(0.07623 -0.07623)\">\n     <use xlink:href=\"#DejaVuSans-115\"/>\n     <use x=\"52.099609\" xlink:href=\"#DejaVuSans-97\"/>\n     <use x=\"113.378906\" xlink:href=\"#DejaVuSans-109\"/>\n     <use x=\"210.791016\" xlink:href=\"#DejaVuSans-112\"/>\n     <use x=\"274.267578\" xlink:href=\"#DejaVuSans-108\"/>\n     <use x=\"302.050781\" xlink:href=\"#DejaVuSans-101\"/>\n     <use x=\"363.574219\" xlink:href=\"#DejaVuSans-115\"/>\n     <use x=\"415.673828\" xlink:href=\"#DejaVuSans-32\"/>\n     <use x=\"447.460938\" xlink:href=\"#DejaVuSans-61\"/>\n     <use x=\"531.25\" xlink:href=\"#DejaVuSans-32\"/>\n     <use x=\"563.037109\" xlink:href=\"#DejaVuSans-48\"/>\n     <use x=\"626.660156\" xlink:href=\"#DejaVuSans-46\"/>\n     <use x=\"658.447266\" xlink:href=\"#DejaVuSans-48\"/>\n     <use x=\"722.070312\" xlink:href=\"#DejaVuSans-37\"/>\n    </g>\n    <!-- value = [0.0, 1.0] -->\n    <defs>\n     <path d=\"M 12.40625 8.296875 \nL 28.515625 8.296875 \nL 28.515625 63.921875 \nL 10.984375 60.40625 \nL 10.984375 69.390625 \nL 28.421875 72.90625 \nL 38.28125 72.90625 \nL 38.28125 8.296875 \nL 54.390625 8.296875 \nL 54.390625 0 \nL 12.40625 0 \nz\n\" id=\"DejaVuSans-49\"/>\n    </defs>\n    <g transform=\"translate(322.402465 731.314495)scale(0.07623 -0.07623)\">\n     <use xlink:href=\"#DejaVuSans-118\"/>\n     <use x=\"59.179688\" xlink:href=\"#DejaVuSans-97\"/>\n     <use x=\"120.458984\" xlink:href=\"#DejaVuSans-108\"/>\n     <use x=\"148.242188\" xlink:href=\"#DejaVuSans-117\"/>\n     <use x=\"211.621094\" xlink:href=\"#DejaVuSans-101\"/>\n     <use x=\"273.144531\" xlink:href=\"#DejaVuSans-32\"/>\n     <use x=\"304.931641\" xlink:href=\"#DejaVuSans-61\"/>\n     <use x=\"388.720703\" xlink:href=\"#DejaVuSans-32\"/>\n     <use x=\"420.507812\" xlink:href=\"#DejaVuSans-91\"/>\n     <use x=\"459.521484\" xlink:href=\"#DejaVuSans-48\"/>\n     <use x=\"523.144531\" xlink:href=\"#DejaVuSans-46\"/>\n     <use x=\"554.931641\" xlink:href=\"#DejaVuSans-48\"/>\n     <use x=\"618.554688\" xlink:href=\"#DejaVuSans-44\"/>\n     <use x=\"650.341797\" xlink:href=\"#DejaVuSans-32\"/>\n     <use x=\"682.128906\" xlink:href=\"#DejaVuSans-49\"/>\n     <use x=\"745.751953\" xlink:href=\"#DejaVuSans-46\"/>\n     <use x=\"777.539062\" xlink:href=\"#DejaVuSans-48\"/>\n     <use x=\"841.162109\" xlink:href=\"#DejaVuSans-93\"/>\n    </g>\n   </g>\n   <g id=\"patch_8\">\n    <path d=\"M 489.04388 701.952596 \nQ 457.877101 610.865172 426.348373 518.719923 \n\" style=\"fill:none;stroke:#000000;stroke-linecap:round;\"/>\n    <path d=\"M 489.499234 698.574057 \nL 489.04388 701.952596 \nL 486.614261 699.561189 \n\" style=\"fill:none;stroke:#000000;stroke-linecap:round;\"/>\n   </g>\n   <g id=\"text_4\">\n    <g id=\"patch_9\">\n     <path d=\"M 458.853285 735.949011 \nL 532.046715 735.949011 \nL 532.046715 705.400989 \nL 458.853285 705.400989 \nz\n\" style=\"fill:#e58139;stroke:#000000;stroke-linejoin:miter;\"/>\n    </g>\n    <!-- gini = 0.0 -->\n    <g transform=\"translate(476.819032 714.242421)scale(0.07623 -0.07623)\">\n     <use xlink:href=\"#DejaVuSans-103\"/>\n     <use x=\"63.476562\" xlink:href=\"#DejaVuSans-105\"/>\n     <use x=\"91.259766\" xlink:href=\"#DejaVuSans-110\"/>\n     <use x=\"154.638672\" xlink:href=\"#DejaVuSans-105\"/>\n     <use x=\"182.421875\" xlink:href=\"#DejaVuSans-32\"/>\n     <use x=\"214.208984\" xlink:href=\"#DejaVuSans-61\"/>\n     <use x=\"297.998047\" xlink:href=\"#DejaVuSans-32\"/>\n     <use x=\"329.785156\" xlink:href=\"#DejaVuSans-48\"/>\n     <use x=\"393.408203\" xlink:href=\"#DejaVuSans-46\"/>\n     <use x=\"425.195312\" xlink:href=\"#DejaVuSans-48\"/>\n    </g>\n    <!-- samples = 0.0% -->\n    <g transform=\"translate(464.307268 722.778458)scale(0.07623 -0.07623)\">\n     <use xlink:href=\"#DejaVuSans-115\"/>\n     <use x=\"52.099609\" xlink:href=\"#DejaVuSans-97\"/>\n     <use x=\"113.378906\" xlink:href=\"#DejaVuSans-109\"/>\n     <use x=\"210.791016\" xlink:href=\"#DejaVuSans-112\"/>\n     <use x=\"274.267578\" xlink:href=\"#DejaVuSans-108\"/>\n     <use x=\"302.050781\" xlink:href=\"#DejaVuSans-101\"/>\n     <use x=\"363.574219\" xlink:href=\"#DejaVuSans-115\"/>\n     <use x=\"415.673828\" xlink:href=\"#DejaVuSans-32\"/>\n     <use x=\"447.460938\" xlink:href=\"#DejaVuSans-61\"/>\n     <use x=\"531.25\" xlink:href=\"#DejaVuSans-32\"/>\n     <use x=\"563.037109\" xlink:href=\"#DejaVuSans-48\"/>\n     <use x=\"626.660156\" xlink:href=\"#DejaVuSans-46\"/>\n     <use x=\"658.447266\" xlink:href=\"#DejaVuSans-48\"/>\n     <use x=\"722.070312\" xlink:href=\"#DejaVuSans-37\"/>\n    </g>\n    <!-- value = [1.0, 0.0] -->\n    <g transform=\"translate(461.902465 731.314495)scale(0.07623 -0.07623)\">\n     <use xlink:href=\"#DejaVuSans-118\"/>\n     <use x=\"59.179688\" xlink:href=\"#DejaVuSans-97\"/>\n     <use x=\"120.458984\" xlink:href=\"#DejaVuSans-108\"/>\n     <use x=\"148.242188\" xlink:href=\"#DejaVuSans-117\"/>\n     <use x=\"211.621094\" xlink:href=\"#DejaVuSans-101\"/>\n     <use x=\"273.144531\" xlink:href=\"#DejaVuSans-32\"/>\n     <use x=\"304.931641\" xlink:href=\"#DejaVuSans-61\"/>\n     <use x=\"388.720703\" xlink:href=\"#DejaVuSans-32\"/>\n     <use x=\"420.507812\" xlink:href=\"#DejaVuSans-91\"/>\n     <use x=\"459.521484\" xlink:href=\"#DejaVuSans-49\"/>\n     <use x=\"523.144531\" xlink:href=\"#DejaVuSans-46\"/>\n     <use x=\"554.931641\" xlink:href=\"#DejaVuSans-48\"/>\n     <use x=\"618.554688\" xlink:href=\"#DejaVuSans-44\"/>\n     <use x=\"650.341797\" xlink:href=\"#DejaVuSans-32\"/>\n     <use x=\"682.128906\" xlink:href=\"#DejaVuSans-48\"/>\n     <use x=\"745.751953\" xlink:href=\"#DejaVuSans-46\"/>\n     <use x=\"777.539062\" xlink:href=\"#DejaVuSans-48\"/>\n     <use x=\"841.162109\" xlink:href=\"#DejaVuSans-93\"/>\n    </g>\n   </g>\n   <g id=\"patch_10\">\n    <path d=\"M 641.35612 701.952596 \nQ 672.522899 610.865172 704.051627 518.719923 \n\" style=\"fill:none;stroke:#000000;stroke-linecap:round;\"/>\n    <path d=\"M 643.785739 699.561189 \nL 641.35612 701.952596 \nL 640.900766 698.574057 \n\" style=\"fill:none;stroke:#000000;stroke-linecap:round;\"/>\n   </g>\n   <g id=\"text_5\">\n    <g id=\"patch_11\">\n     <path d=\"M 588.65308 735.949011 \nL 681.24692 735.949011 \nL 681.24692 705.400989 \nL 588.65308 705.400989 \nz\n\" style=\"fill:#e89153;stroke:#000000;stroke-linejoin:miter;\"/>\n    </g>\n    <!-- gini = 0.202 -->\n    <g transform=\"translate(611.468929 714.242421)scale(0.07623 -0.07623)\">\n     <use xlink:href=\"#DejaVuSans-103\"/>\n     <use x=\"63.476562\" xlink:href=\"#DejaVuSans-105\"/>\n     <use x=\"91.259766\" xlink:href=\"#DejaVuSans-110\"/>\n     <use x=\"154.638672\" xlink:href=\"#DejaVuSans-105\"/>\n     <use x=\"182.421875\" xlink:href=\"#DejaVuSans-32\"/>\n     <use x=\"214.208984\" xlink:href=\"#DejaVuSans-61\"/>\n     <use x=\"297.998047\" xlink:href=\"#DejaVuSans-32\"/>\n     <use x=\"329.785156\" xlink:href=\"#DejaVuSans-48\"/>\n     <use x=\"393.408203\" xlink:href=\"#DejaVuSans-46\"/>\n     <use x=\"425.195312\" xlink:href=\"#DejaVuSans-50\"/>\n     <use x=\"488.818359\" xlink:href=\"#DejaVuSans-48\"/>\n     <use x=\"552.441406\" xlink:href=\"#DejaVuSans-50\"/>\n    </g>\n    <!-- samples = 11.9% -->\n    <g transform=\"translate(601.382217 722.778458)scale(0.07623 -0.07623)\">\n     <use xlink:href=\"#DejaVuSans-115\"/>\n     <use x=\"52.099609\" xlink:href=\"#DejaVuSans-97\"/>\n     <use x=\"113.378906\" xlink:href=\"#DejaVuSans-109\"/>\n     <use x=\"210.791016\" xlink:href=\"#DejaVuSans-112\"/>\n     <use x=\"274.267578\" xlink:href=\"#DejaVuSans-108\"/>\n     <use x=\"302.050781\" xlink:href=\"#DejaVuSans-101\"/>\n     <use x=\"363.574219\" xlink:href=\"#DejaVuSans-115\"/>\n     <use x=\"415.673828\" xlink:href=\"#DejaVuSans-32\"/>\n     <use x=\"447.460938\" xlink:href=\"#DejaVuSans-61\"/>\n     <use x=\"531.25\" xlink:href=\"#DejaVuSans-32\"/>\n     <use x=\"563.037109\" xlink:href=\"#DejaVuSans-49\"/>\n     <use x=\"626.660156\" xlink:href=\"#DejaVuSans-49\"/>\n     <use x=\"690.283203\" xlink:href=\"#DejaVuSans-46\"/>\n     <use x=\"722.070312\" xlink:href=\"#DejaVuSans-57\"/>\n     <use x=\"785.693359\" xlink:href=\"#DejaVuSans-37\"/>\n    </g>\n    <!-- value = [0.886, 0.114] -->\n    <defs>\n     <path d=\"M 31.78125 34.625 \nQ 24.75 34.625 20.71875 30.859375 \nQ 16.703125 27.09375 16.703125 20.515625 \nQ 16.703125 13.921875 20.71875 10.15625 \nQ 24.75 6.390625 31.78125 6.390625 \nQ 38.8125 6.390625 42.859375 10.171875 \nQ 46.921875 13.96875 46.921875 20.515625 \nQ 46.921875 27.09375 42.890625 30.859375 \nQ 38.875 34.625 31.78125 34.625 \nz\nM 21.921875 38.8125 \nQ 15.578125 40.375 12.03125 44.71875 \nQ 8.5 49.078125 8.5 55.328125 \nQ 8.5 64.0625 14.71875 69.140625 \nQ 20.953125 74.21875 31.78125 74.21875 \nQ 42.671875 74.21875 48.875 69.140625 \nQ 55.078125 64.0625 55.078125 55.328125 \nQ 55.078125 49.078125 51.53125 44.71875 \nQ 48 40.375 41.703125 38.8125 \nQ 48.828125 37.15625 52.796875 32.3125 \nQ 56.78125 27.484375 56.78125 20.515625 \nQ 56.78125 9.90625 50.3125 4.234375 \nQ 43.84375 -1.421875 31.78125 -1.421875 \nQ 19.734375 -1.421875 13.25 4.234375 \nQ 6.78125 9.90625 6.78125 20.515625 \nQ 6.78125 27.484375 10.78125 32.3125 \nQ 14.796875 37.15625 21.921875 38.8125 \nz\nM 18.3125 54.390625 \nQ 18.3125 48.734375 21.84375 45.5625 \nQ 25.390625 42.390625 31.78125 42.390625 \nQ 38.140625 42.390625 41.71875 45.5625 \nQ 45.3125 48.734375 45.3125 54.390625 \nQ 45.3125 60.0625 41.71875 63.234375 \nQ 38.140625 66.40625 31.78125 66.40625 \nQ 25.390625 66.40625 21.84375 63.234375 \nQ 18.3125 60.0625 18.3125 54.390625 \nz\n\" id=\"DejaVuSans-56\"/>\n    </defs>\n    <g transform=\"translate(591.702261 731.314495)scale(0.07623 -0.07623)\">\n     <use xlink:href=\"#DejaVuSans-118\"/>\n     <use x=\"59.179688\" xlink:href=\"#DejaVuSans-97\"/>\n     <use x=\"120.458984\" xlink:href=\"#DejaVuSans-108\"/>\n     <use x=\"148.242188\" xlink:href=\"#DejaVuSans-117\"/>\n     <use x=\"211.621094\" xlink:href=\"#DejaVuSans-101\"/>\n     <use x=\"273.144531\" xlink:href=\"#DejaVuSans-32\"/>\n     <use x=\"304.931641\" xlink:href=\"#DejaVuSans-61\"/>\n     <use x=\"388.720703\" xlink:href=\"#DejaVuSans-32\"/>\n     <use x=\"420.507812\" xlink:href=\"#DejaVuSans-91\"/>\n     <use x=\"459.521484\" xlink:href=\"#DejaVuSans-48\"/>\n     <use x=\"523.144531\" xlink:href=\"#DejaVuSans-46\"/>\n     <use x=\"554.931641\" xlink:href=\"#DejaVuSans-56\"/>\n     <use x=\"618.554688\" xlink:href=\"#DejaVuSans-56\"/>\n     <use x=\"682.177734\" xlink:href=\"#DejaVuSans-54\"/>\n     <use x=\"745.800781\" xlink:href=\"#DejaVuSans-44\"/>\n     <use x=\"777.587891\" xlink:href=\"#DejaVuSans-32\"/>\n     <use x=\"809.375\" xlink:href=\"#DejaVuSans-48\"/>\n     <use x=\"872.998047\" xlink:href=\"#DejaVuSans-46\"/>\n     <use x=\"904.785156\" xlink:href=\"#DejaVuSans-49\"/>\n     <use x=\"968.408203\" xlink:href=\"#DejaVuSans-49\"/>\n     <use x=\"1032.03125\" xlink:href=\"#DejaVuSans-52\"/>\n     <use x=\"1095.654297\" xlink:href=\"#DejaVuSans-93\"/>\n    </g>\n   </g>\n   <g id=\"patch_12\">\n    <path d=\"M 768.04388 701.952596 \nQ 736.877101 610.865172 705.348373 518.719923 \n\" style=\"fill:none;stroke:#000000;stroke-linecap:round;\"/>\n    <path d=\"M 768.499234 698.574057 \nL 768.04388 701.952596 \nL 765.614261 699.561189 \n\" style=\"fill:none;stroke:#000000;stroke-linecap:round;\"/>\n   </g>\n   <g id=\"text_6\">\n    <g id=\"patch_13\">\n     <path d=\"M 728.15308 735.949011 \nL 820.74692 735.949011 \nL 820.74692 705.400989 \nL 728.15308 705.400989 \nz\n\" style=\"fill:#edaa79;stroke:#000000;stroke-linejoin:miter;\"/>\n    </g>\n    <!-- gini = 0.37 -->\n    <g transform=\"translate(753.393981 714.242421)scale(0.07623 -0.07623)\">\n     <use xlink:href=\"#DejaVuSans-103\"/>\n     <use x=\"63.476562\" xlink:href=\"#DejaVuSans-105\"/>\n     <use x=\"91.259766\" xlink:href=\"#DejaVuSans-110\"/>\n     <use x=\"154.638672\" xlink:href=\"#DejaVuSans-105\"/>\n     <use x=\"182.421875\" xlink:href=\"#DejaVuSans-32\"/>\n     <use x=\"214.208984\" xlink:href=\"#DejaVuSans-61\"/>\n     <use x=\"297.998047\" xlink:href=\"#DejaVuSans-32\"/>\n     <use x=\"329.785156\" xlink:href=\"#DejaVuSans-48\"/>\n     <use x=\"393.408203\" xlink:href=\"#DejaVuSans-46\"/>\n     <use x=\"425.195312\" xlink:href=\"#DejaVuSans-51\"/>\n     <use x=\"488.818359\" xlink:href=\"#DejaVuSans-55\"/>\n    </g>\n    <!-- samples = 13.1% -->\n    <g transform=\"translate(740.882217 722.778458)scale(0.07623 -0.07623)\">\n     <use xlink:href=\"#DejaVuSans-115\"/>\n     <use x=\"52.099609\" xlink:href=\"#DejaVuSans-97\"/>\n     <use x=\"113.378906\" xlink:href=\"#DejaVuSans-109\"/>\n     <use x=\"210.791016\" xlink:href=\"#DejaVuSans-112\"/>\n     <use x=\"274.267578\" xlink:href=\"#DejaVuSans-108\"/>\n     <use x=\"302.050781\" xlink:href=\"#DejaVuSans-101\"/>\n     <use x=\"363.574219\" xlink:href=\"#DejaVuSans-115\"/>\n     <use x=\"415.673828\" xlink:href=\"#DejaVuSans-32\"/>\n     <use x=\"447.460938\" xlink:href=\"#DejaVuSans-61\"/>\n     <use x=\"531.25\" xlink:href=\"#DejaVuSans-32\"/>\n     <use x=\"563.037109\" xlink:href=\"#DejaVuSans-49\"/>\n     <use x=\"626.660156\" xlink:href=\"#DejaVuSans-51\"/>\n     <use x=\"690.283203\" xlink:href=\"#DejaVuSans-46\"/>\n     <use x=\"722.070312\" xlink:href=\"#DejaVuSans-49\"/>\n     <use x=\"785.693359\" xlink:href=\"#DejaVuSans-37\"/>\n    </g>\n    <!-- value = [0.755, 0.245] -->\n    <g transform=\"translate(731.202261 731.314495)scale(0.07623 -0.07623)\">\n     <use xlink:href=\"#DejaVuSans-118\"/>\n     <use x=\"59.179688\" xlink:href=\"#DejaVuSans-97\"/>\n     <use x=\"120.458984\" xlink:href=\"#DejaVuSans-108\"/>\n     <use x=\"148.242188\" xlink:href=\"#DejaVuSans-117\"/>\n     <use x=\"211.621094\" xlink:href=\"#DejaVuSans-101\"/>\n     <use x=\"273.144531\" xlink:href=\"#DejaVuSans-32\"/>\n     <use x=\"304.931641\" xlink:href=\"#DejaVuSans-61\"/>\n     <use x=\"388.720703\" xlink:href=\"#DejaVuSans-32\"/>\n     <use x=\"420.507812\" xlink:href=\"#DejaVuSans-91\"/>\n     <use x=\"459.521484\" xlink:href=\"#DejaVuSans-48\"/>\n     <use x=\"523.144531\" xlink:href=\"#DejaVuSans-46\"/>\n     <use x=\"554.931641\" xlink:href=\"#DejaVuSans-55\"/>\n     <use x=\"618.554688\" xlink:href=\"#DejaVuSans-53\"/>\n     <use x=\"682.177734\" xlink:href=\"#DejaVuSans-53\"/>\n     <use x=\"745.800781\" xlink:href=\"#DejaVuSans-44\"/>\n     <use x=\"777.587891\" xlink:href=\"#DejaVuSans-32\"/>\n     <use x=\"809.375\" xlink:href=\"#DejaVuSans-48\"/>\n     <use x=\"872.998047\" xlink:href=\"#DejaVuSans-46\"/>\n     <use x=\"904.785156\" xlink:href=\"#DejaVuSans-50\"/>\n     <use x=\"968.408203\" xlink:href=\"#DejaVuSans-52\"/>\n     <use x=\"1032.03125\" xlink:href=\"#DejaVuSans-53\"/>\n     <use x=\"1095.654297\" xlink:href=\"#DejaVuSans-93\"/>\n    </g>\n   </g>\n   <g id=\"patch_14\">\n    <path d=\"M 920.35612 701.952596 \nQ 951.522899 610.865172 983.051627 518.719923 \n\" style=\"fill:none;stroke:#000000;stroke-linecap:round;\"/>\n    <path d=\"M 922.785739 699.561189 \nL 920.35612 701.952596 \nL 919.900766 698.574057 \n\" style=\"fill:none;stroke:#000000;stroke-linecap:round;\"/>\n   </g>\n   <g id=\"text_7\">\n    <g id=\"patch_15\">\n     <path d=\"M 867.65308 735.949011 \nL 960.24692 735.949011 \nL 960.24692 705.400989 \nL 867.65308 705.400989 \nz\n\" style=\"fill:#fef9f5;stroke:#000000;stroke-linejoin:miter;\"/>\n    </g>\n    <!-- gini = 0.5 -->\n    <g transform=\"translate(895.319032 714.242421)scale(0.07623 -0.07623)\">\n     <use xlink:href=\"#DejaVuSans-103\"/>\n     <use x=\"63.476562\" xlink:href=\"#DejaVuSans-105\"/>\n     <use x=\"91.259766\" xlink:href=\"#DejaVuSans-110\"/>\n     <use x=\"154.638672\" xlink:href=\"#DejaVuSans-105\"/>\n     <use x=\"182.421875\" xlink:href=\"#DejaVuSans-32\"/>\n     <use x=\"214.208984\" xlink:href=\"#DejaVuSans-61\"/>\n     <use x=\"297.998047\" xlink:href=\"#DejaVuSans-32\"/>\n     <use x=\"329.785156\" xlink:href=\"#DejaVuSans-48\"/>\n     <use x=\"393.408203\" xlink:href=\"#DejaVuSans-46\"/>\n     <use x=\"425.195312\" xlink:href=\"#DejaVuSans-53\"/>\n    </g>\n    <!-- samples = 2.6% -->\n    <g transform=\"translate(882.807268 722.778458)scale(0.07623 -0.07623)\">\n     <use xlink:href=\"#DejaVuSans-115\"/>\n     <use x=\"52.099609\" xlink:href=\"#DejaVuSans-97\"/>\n     <use x=\"113.378906\" xlink:href=\"#DejaVuSans-109\"/>\n     <use x=\"210.791016\" xlink:href=\"#DejaVuSans-112\"/>\n     <use x=\"274.267578\" xlink:href=\"#DejaVuSans-108\"/>\n     <use x=\"302.050781\" xlink:href=\"#DejaVuSans-101\"/>\n     <use x=\"363.574219\" xlink:href=\"#DejaVuSans-115\"/>\n     <use x=\"415.673828\" xlink:href=\"#DejaVuSans-32\"/>\n     <use x=\"447.460938\" xlink:href=\"#DejaVuSans-61\"/>\n     <use x=\"531.25\" xlink:href=\"#DejaVuSans-32\"/>\n     <use x=\"563.037109\" xlink:href=\"#DejaVuSans-50\"/>\n     <use x=\"626.660156\" xlink:href=\"#DejaVuSans-46\"/>\n     <use x=\"658.447266\" xlink:href=\"#DejaVuSans-54\"/>\n     <use x=\"722.070312\" xlink:href=\"#DejaVuSans-37\"/>\n    </g>\n    <!-- value = [0.513, 0.487] -->\n    <g transform=\"translate(870.702261 731.314495)scale(0.07623 -0.07623)\">\n     <use xlink:href=\"#DejaVuSans-118\"/>\n     <use x=\"59.179688\" xlink:href=\"#DejaVuSans-97\"/>\n     <use x=\"120.458984\" xlink:href=\"#DejaVuSans-108\"/>\n     <use x=\"148.242188\" xlink:href=\"#DejaVuSans-117\"/>\n     <use x=\"211.621094\" xlink:href=\"#DejaVuSans-101\"/>\n     <use x=\"273.144531\" xlink:href=\"#DejaVuSans-32\"/>\n     <use x=\"304.931641\" xlink:href=\"#DejaVuSans-61\"/>\n     <use x=\"388.720703\" xlink:href=\"#DejaVuSans-32\"/>\n     <use x=\"420.507812\" xlink:href=\"#DejaVuSans-91\"/>\n     <use x=\"459.521484\" xlink:href=\"#DejaVuSans-48\"/>\n     <use x=\"523.144531\" xlink:href=\"#DejaVuSans-46\"/>\n     <use x=\"554.931641\" xlink:href=\"#DejaVuSans-53\"/>\n     <use x=\"618.554688\" xlink:href=\"#DejaVuSans-49\"/>\n     <use x=\"682.177734\" xlink:href=\"#DejaVuSans-51\"/>\n     <use x=\"745.800781\" xlink:href=\"#DejaVuSans-44\"/>\n     <use x=\"777.587891\" xlink:href=\"#DejaVuSans-32\"/>\n     <use x=\"809.375\" xlink:href=\"#DejaVuSans-48\"/>\n     <use x=\"872.998047\" xlink:href=\"#DejaVuSans-46\"/>\n     <use x=\"904.785156\" xlink:href=\"#DejaVuSans-52\"/>\n     <use x=\"968.408203\" xlink:href=\"#DejaVuSans-56\"/>\n     <use x=\"1032.03125\" xlink:href=\"#DejaVuSans-55\"/>\n     <use x=\"1095.654297\" xlink:href=\"#DejaVuSans-93\"/>\n    </g>\n   </g>\n   <g id=\"patch_16\">\n    <path d=\"M 1047.04388 701.952596 \nQ 1015.877101 610.865172 984.348373 518.719923 \n\" style=\"fill:none;stroke:#000000;stroke-linecap:round;\"/>\n    <path d=\"M 1047.499234 698.574057 \nL 1047.04388 701.952596 \nL 1044.614261 699.561189 \n\" style=\"fill:none;stroke:#000000;stroke-linecap:round;\"/>\n   </g>\n   <g id=\"text_8\">\n    <g id=\"patch_17\">\n     <path d=\"M 1007.15308 735.949011 \nL 1099.74692 735.949011 \nL 1099.74692 705.400989 \nL 1007.15308 705.400989 \nz\n\" style=\"fill:#e99356;stroke:#000000;stroke-linejoin:miter;\"/>\n    </g>\n    <!-- gini = 0.223 -->\n    <g transform=\"translate(1029.968929 714.242421)scale(0.07623 -0.07623)\">\n     <use xlink:href=\"#DejaVuSans-103\"/>\n     <use x=\"63.476562\" xlink:href=\"#DejaVuSans-105\"/>\n     <use x=\"91.259766\" xlink:href=\"#DejaVuSans-110\"/>\n     <use x=\"154.638672\" xlink:href=\"#DejaVuSans-105\"/>\n     <use x=\"182.421875\" xlink:href=\"#DejaVuSans-32\"/>\n     <use x=\"214.208984\" xlink:href=\"#DejaVuSans-61\"/>\n     <use x=\"297.998047\" xlink:href=\"#DejaVuSans-32\"/>\n     <use x=\"329.785156\" xlink:href=\"#DejaVuSans-48\"/>\n     <use x=\"393.408203\" xlink:href=\"#DejaVuSans-46\"/>\n     <use x=\"425.195312\" xlink:href=\"#DejaVuSans-50\"/>\n     <use x=\"488.818359\" xlink:href=\"#DejaVuSans-50\"/>\n     <use x=\"552.441406\" xlink:href=\"#DejaVuSans-51\"/>\n    </g>\n    <!-- samples = 2.3% -->\n    <g transform=\"translate(1022.307268 722.778458)scale(0.07623 -0.07623)\">\n     <use xlink:href=\"#DejaVuSans-115\"/>\n     <use x=\"52.099609\" xlink:href=\"#DejaVuSans-97\"/>\n     <use x=\"113.378906\" xlink:href=\"#DejaVuSans-109\"/>\n     <use x=\"210.791016\" xlink:href=\"#DejaVuSans-112\"/>\n     <use x=\"274.267578\" xlink:href=\"#DejaVuSans-108\"/>\n     <use x=\"302.050781\" xlink:href=\"#DejaVuSans-101\"/>\n     <use x=\"363.574219\" xlink:href=\"#DejaVuSans-115\"/>\n     <use x=\"415.673828\" xlink:href=\"#DejaVuSans-32\"/>\n     <use x=\"447.460938\" xlink:href=\"#DejaVuSans-61\"/>\n     <use x=\"531.25\" xlink:href=\"#DejaVuSans-32\"/>\n     <use x=\"563.037109\" xlink:href=\"#DejaVuSans-50\"/>\n     <use x=\"626.660156\" xlink:href=\"#DejaVuSans-46\"/>\n     <use x=\"658.447266\" xlink:href=\"#DejaVuSans-51\"/>\n     <use x=\"722.070312\" xlink:href=\"#DejaVuSans-37\"/>\n    </g>\n    <!-- value = [0.872, 0.128] -->\n    <g transform=\"translate(1010.202261 731.314495)scale(0.07623 -0.07623)\">\n     <use xlink:href=\"#DejaVuSans-118\"/>\n     <use x=\"59.179688\" xlink:href=\"#DejaVuSans-97\"/>\n     <use x=\"120.458984\" xlink:href=\"#DejaVuSans-108\"/>\n     <use x=\"148.242188\" xlink:href=\"#DejaVuSans-117\"/>\n     <use x=\"211.621094\" xlink:href=\"#DejaVuSans-101\"/>\n     <use x=\"273.144531\" xlink:href=\"#DejaVuSans-32\"/>\n     <use x=\"304.931641\" xlink:href=\"#DejaVuSans-61\"/>\n     <use x=\"388.720703\" xlink:href=\"#DejaVuSans-32\"/>\n     <use x=\"420.507812\" xlink:href=\"#DejaVuSans-91\"/>\n     <use x=\"459.521484\" xlink:href=\"#DejaVuSans-48\"/>\n     <use x=\"523.144531\" xlink:href=\"#DejaVuSans-46\"/>\n     <use x=\"554.931641\" xlink:href=\"#DejaVuSans-56\"/>\n     <use x=\"618.554688\" xlink:href=\"#DejaVuSans-55\"/>\n     <use x=\"682.177734\" xlink:href=\"#DejaVuSans-50\"/>\n     <use x=\"745.800781\" xlink:href=\"#DejaVuSans-44\"/>\n     <use x=\"777.587891\" xlink:href=\"#DejaVuSans-32\"/>\n     <use x=\"809.375\" xlink:href=\"#DejaVuSans-48\"/>\n     <use x=\"872.998047\" xlink:href=\"#DejaVuSans-46\"/>\n     <use x=\"904.785156\" xlink:href=\"#DejaVuSans-49\"/>\n     <use x=\"968.408203\" xlink:href=\"#DejaVuSans-50\"/>\n     <use x=\"1032.03125\" xlink:href=\"#DejaVuSans-56\"/>\n     <use x=\"1095.654297\" xlink:href=\"#DejaVuSans-93\"/>\n    </g>\n   </g>\n   <g id=\"patch_18\">\n    <path d=\"M 162.391639 493.89496 \nQ 223.415222 404.721789 285.070214 314.625946 \n\" style=\"fill:none;stroke:#000000;stroke-linecap:round;\"/>\n    <path d=\"M 165.371848 492.239597 \nL 162.391639 493.89496 \nL 162.855474 490.517575 \n\" style=\"fill:none;stroke:#000000;stroke-linecap:round;\"/>\n   </g>\n   <g id=\"text_9\">\n    <g id=\"patch_19\">\n     <path d=\"M 86.513826 536.473037 \nL 206.886174 536.473037 \nL 206.886174 496.96495 \nL 86.513826 496.96495 \nz\n\" style=\"fill:#e5813a;stroke:#000000;stroke-linejoin:miter;\"/>\n    </g>\n    <!-- conversion_amount &lt;= 0.005 -->\n    <defs>\n     <path d=\"M 48.78125 52.59375 \nL 48.78125 44.1875 \nQ 44.96875 46.296875 41.140625 47.34375 \nQ 37.3125 48.390625 33.40625 48.390625 \nQ 24.65625 48.390625 19.8125 42.84375 \nQ 14.984375 37.3125 14.984375 27.296875 \nQ 14.984375 17.28125 19.8125 11.734375 \nQ 24.65625 6.203125 33.40625 6.203125 \nQ 37.3125 6.203125 41.140625 7.25 \nQ 44.96875 8.296875 48.78125 10.40625 \nL 48.78125 2.09375 \nQ 45.015625 0.34375 40.984375 -0.53125 \nQ 36.96875 -1.421875 32.421875 -1.421875 \nQ 20.0625 -1.421875 12.78125 6.34375 \nQ 5.515625 14.109375 5.515625 27.296875 \nQ 5.515625 40.671875 12.859375 48.328125 \nQ 20.21875 56 33.015625 56 \nQ 37.15625 56 41.109375 55.140625 \nQ 45.0625 54.296875 48.78125 52.59375 \nz\n\" id=\"DejaVuSans-99\"/>\n     <path d=\"M 30.609375 48.390625 \nQ 23.390625 48.390625 19.1875 42.75 \nQ 14.984375 37.109375 14.984375 27.296875 \nQ 14.984375 17.484375 19.15625 11.84375 \nQ 23.34375 6.203125 30.609375 6.203125 \nQ 37.796875 6.203125 41.984375 11.859375 \nQ 46.1875 17.53125 46.1875 27.296875 \nQ 46.1875 37.015625 41.984375 42.703125 \nQ 37.796875 48.390625 30.609375 48.390625 \nz\nM 30.609375 56 \nQ 42.328125 56 49.015625 48.375 \nQ 55.71875 40.765625 55.71875 27.296875 \nQ 55.71875 13.875 49.015625 6.21875 \nQ 42.328125 -1.421875 30.609375 -1.421875 \nQ 18.84375 -1.421875 12.171875 6.21875 \nQ 5.515625 13.875 5.515625 27.296875 \nQ 5.515625 40.765625 12.171875 48.375 \nQ 18.84375 56 30.609375 56 \nz\n\" id=\"DejaVuSans-111\"/>\n     <path d=\"M 41.109375 46.296875 \nQ 39.59375 47.171875 37.8125 47.578125 \nQ 36.03125 48 33.890625 48 \nQ 26.265625 48 22.1875 43.046875 \nQ 18.109375 38.09375 18.109375 28.8125 \nL 18.109375 0 \nL 9.078125 0 \nL 9.078125 54.6875 \nL 18.109375 54.6875 \nL 18.109375 46.1875 \nQ 20.953125 51.171875 25.484375 53.578125 \nQ 30.03125 56 36.53125 56 \nQ 37.453125 56 38.578125 55.875 \nQ 39.703125 55.765625 41.0625 55.515625 \nz\n\" id=\"DejaVuSans-114\"/>\n     <path d=\"M 50.984375 -16.609375 \nL 50.984375 -23.578125 \nL -0.984375 -23.578125 \nL -0.984375 -16.609375 \nz\n\" id=\"DejaVuSans-95\"/>\n     <path d=\"M 18.3125 70.21875 \nL 18.3125 54.6875 \nL 36.8125 54.6875 \nL 36.8125 47.703125 \nL 18.3125 47.703125 \nL 18.3125 18.015625 \nQ 18.3125 11.328125 20.140625 9.421875 \nQ 21.96875 7.515625 27.59375 7.515625 \nL 36.8125 7.515625 \nL 36.8125 0 \nL 27.59375 0 \nQ 17.1875 0 13.234375 3.875 \nQ 9.28125 7.765625 9.28125 18.015625 \nL 9.28125 47.703125 \nL 2.6875 47.703125 \nL 2.6875 54.6875 \nL 9.28125 54.6875 \nL 9.28125 70.21875 \nz\n\" id=\"DejaVuSans-116\"/>\n     <path d=\"M 73.1875 49.21875 \nL 22.796875 31.296875 \nL 73.1875 13.484375 \nL 73.1875 4.59375 \nL 10.59375 27.296875 \nL 10.59375 35.40625 \nL 73.1875 58.109375 \nz\n\" id=\"DejaVuSans-60\"/>\n    </defs>\n    <g transform=\"translate(89.563006 506.018395)scale(0.07623 -0.07623)\">\n     <use xlink:href=\"#DejaVuSans-99\"/>\n     <use x=\"54.980469\" xlink:href=\"#DejaVuSans-111\"/>\n     <use x=\"116.162109\" xlink:href=\"#DejaVuSans-110\"/>\n     <use x=\"179.541016\" xlink:href=\"#DejaVuSans-118\"/>\n     <use x=\"238.720703\" xlink:href=\"#DejaVuSans-101\"/>\n     <use x=\"300.244141\" xlink:href=\"#DejaVuSans-114\"/>\n     <use x=\"341.357422\" xlink:href=\"#DejaVuSans-115\"/>\n     <use x=\"393.457031\" xlink:href=\"#DejaVuSans-105\"/>\n     <use x=\"421.240234\" xlink:href=\"#DejaVuSans-111\"/>\n     <use x=\"482.421875\" xlink:href=\"#DejaVuSans-110\"/>\n     <use x=\"545.800781\" xlink:href=\"#DejaVuSans-95\"/>\n     <use x=\"595.800781\" xlink:href=\"#DejaVuSans-97\"/>\n     <use x=\"657.080078\" xlink:href=\"#DejaVuSans-109\"/>\n     <use x=\"754.492188\" xlink:href=\"#DejaVuSans-111\"/>\n     <use x=\"815.673828\" xlink:href=\"#DejaVuSans-117\"/>\n     <use x=\"879.052734\" xlink:href=\"#DejaVuSans-110\"/>\n     <use x=\"942.431641\" xlink:href=\"#DejaVuSans-116\"/>\n     <use x=\"981.640625\" xlink:href=\"#DejaVuSans-32\"/>\n     <use x=\"1013.427734\" xlink:href=\"#DejaVuSans-60\"/>\n     <use x=\"1097.216797\" xlink:href=\"#DejaVuSans-61\"/>\n     <use x=\"1181.005859\" xlink:href=\"#DejaVuSans-32\"/>\n     <use x=\"1212.792969\" xlink:href=\"#DejaVuSans-48\"/>\n     <use x=\"1276.416016\" xlink:href=\"#DejaVuSans-46\"/>\n     <use x=\"1308.203125\" xlink:href=\"#DejaVuSans-48\"/>\n     <use x=\"1371.826172\" xlink:href=\"#DejaVuSans-48\"/>\n     <use x=\"1435.449219\" xlink:href=\"#DejaVuSans-53\"/>\n    </g>\n    <!-- gini = 0.008 -->\n    <g transform=\"translate(123.218929 514.766446)scale(0.07623 -0.07623)\">\n     <use xlink:href=\"#DejaVuSans-103\"/>\n     <use x=\"63.476562\" xlink:href=\"#DejaVuSans-105\"/>\n     <use x=\"91.259766\" xlink:href=\"#DejaVuSans-110\"/>\n     <use x=\"154.638672\" xlink:href=\"#DejaVuSans-105\"/>\n     <use x=\"182.421875\" xlink:href=\"#DejaVuSans-32\"/>\n     <use x=\"214.208984\" xlink:href=\"#DejaVuSans-61\"/>\n     <use x=\"297.998047\" xlink:href=\"#DejaVuSans-32\"/>\n     <use x=\"329.785156\" xlink:href=\"#DejaVuSans-48\"/>\n     <use x=\"393.408203\" xlink:href=\"#DejaVuSans-46\"/>\n     <use x=\"425.195312\" xlink:href=\"#DejaVuSans-48\"/>\n     <use x=\"488.818359\" xlink:href=\"#DejaVuSans-48\"/>\n     <use x=\"552.441406\" xlink:href=\"#DejaVuSans-56\"/>\n    </g>\n    <!-- samples = 70.2% -->\n    <g transform=\"translate(113.132217 523.302483)scale(0.07623 -0.07623)\">\n     <use xlink:href=\"#DejaVuSans-115\"/>\n     <use x=\"52.099609\" xlink:href=\"#DejaVuSans-97\"/>\n     <use x=\"113.378906\" xlink:href=\"#DejaVuSans-109\"/>\n     <use x=\"210.791016\" xlink:href=\"#DejaVuSans-112\"/>\n     <use x=\"274.267578\" xlink:href=\"#DejaVuSans-108\"/>\n     <use x=\"302.050781\" xlink:href=\"#DejaVuSans-101\"/>\n     <use x=\"363.574219\" xlink:href=\"#DejaVuSans-115\"/>\n     <use x=\"415.673828\" xlink:href=\"#DejaVuSans-32\"/>\n     <use x=\"447.460938\" xlink:href=\"#DejaVuSans-61\"/>\n     <use x=\"531.25\" xlink:href=\"#DejaVuSans-32\"/>\n     <use x=\"563.037109\" xlink:href=\"#DejaVuSans-55\"/>\n     <use x=\"626.660156\" xlink:href=\"#DejaVuSans-48\"/>\n     <use x=\"690.283203\" xlink:href=\"#DejaVuSans-46\"/>\n     <use x=\"722.070312\" xlink:href=\"#DejaVuSans-50\"/>\n     <use x=\"785.693359\" xlink:href=\"#DejaVuSans-37\"/>\n    </g>\n    <!-- value = [0.996, 0.004] -->\n    <g transform=\"translate(103.452261 531.838521)scale(0.07623 -0.07623)\">\n     <use xlink:href=\"#DejaVuSans-118\"/>\n     <use x=\"59.179688\" xlink:href=\"#DejaVuSans-97\"/>\n     <use x=\"120.458984\" xlink:href=\"#DejaVuSans-108\"/>\n     <use x=\"148.242188\" xlink:href=\"#DejaVuSans-117\"/>\n     <use x=\"211.621094\" xlink:href=\"#DejaVuSans-101\"/>\n     <use x=\"273.144531\" xlink:href=\"#DejaVuSans-32\"/>\n     <use x=\"304.931641\" xlink:href=\"#DejaVuSans-61\"/>\n     <use x=\"388.720703\" xlink:href=\"#DejaVuSans-32\"/>\n     <use x=\"420.507812\" xlink:href=\"#DejaVuSans-91\"/>\n     <use x=\"459.521484\" xlink:href=\"#DejaVuSans-48\"/>\n     <use x=\"523.144531\" xlink:href=\"#DejaVuSans-46\"/>\n     <use x=\"554.931641\" xlink:href=\"#DejaVuSans-57\"/>\n     <use x=\"618.554688\" xlink:href=\"#DejaVuSans-57\"/>\n     <use x=\"682.177734\" xlink:href=\"#DejaVuSans-54\"/>\n     <use x=\"745.800781\" xlink:href=\"#DejaVuSans-44\"/>\n     <use x=\"777.587891\" xlink:href=\"#DejaVuSans-32\"/>\n     <use x=\"809.375\" xlink:href=\"#DejaVuSans-48\"/>\n     <use x=\"872.998047\" xlink:href=\"#DejaVuSans-46\"/>\n     <use x=\"904.785156\" xlink:href=\"#DejaVuSans-48\"/>\n     <use x=\"968.408203\" xlink:href=\"#DejaVuSans-48\"/>\n     <use x=\"1032.03125\" xlink:href=\"#DejaVuSans-52\"/>\n     <use x=\"1095.654297\" xlink:href=\"#DejaVuSans-93\"/>\n    </g>\n   </g>\n   <g id=\"patch_20\">\n    <path d=\"M 410.008361 493.89496 \nQ 348.984778 404.721789 287.329786 314.625946 \n\" style=\"fill:none;stroke:#000000;stroke-linecap:round;\"/>\n    <path d=\"M 409.544526 490.517575 \nL 410.008361 493.89496 \nL 407.028152 492.239597 \n\" style=\"fill:none;stroke:#000000;stroke-linecap:round;\"/>\n   </g>\n   <g id=\"text_10\">\n    <g id=\"patch_21\">\n     <path d=\"M 358.238672 536.473037 \nL 493.161328 536.473037 \nL 493.161328 496.96495 \nL 358.238672 496.96495 \nz\n\" style=\"fill:#bddef6;stroke:#000000;stroke-linejoin:miter;\"/>\n    </g>\n    <!-- conversion_amount &lt;= 15345.54 -->\n    <g transform=\"translate(361.287852 506.018395)scale(0.07623 -0.07623)\">\n     <use xlink:href=\"#DejaVuSans-99\"/>\n     <use x=\"54.980469\" xlink:href=\"#DejaVuSans-111\"/>\n     <use x=\"116.162109\" xlink:href=\"#DejaVuSans-110\"/>\n     <use x=\"179.541016\" xlink:href=\"#DejaVuSans-118\"/>\n     <use x=\"238.720703\" xlink:href=\"#DejaVuSans-101\"/>\n     <use x=\"300.244141\" xlink:href=\"#DejaVuSans-114\"/>\n     <use x=\"341.357422\" xlink:href=\"#DejaVuSans-115\"/>\n     <use x=\"393.457031\" xlink:href=\"#DejaVuSans-105\"/>\n     <use x=\"421.240234\" xlink:href=\"#DejaVuSans-111\"/>\n     <use x=\"482.421875\" xlink:href=\"#DejaVuSans-110\"/>\n     <use x=\"545.800781\" xlink:href=\"#DejaVuSans-95\"/>\n     <use x=\"595.800781\" xlink:href=\"#DejaVuSans-97\"/>\n     <use x=\"657.080078\" xlink:href=\"#DejaVuSans-109\"/>\n     <use x=\"754.492188\" xlink:href=\"#DejaVuSans-111\"/>\n     <use x=\"815.673828\" xlink:href=\"#DejaVuSans-117\"/>\n     <use x=\"879.052734\" xlink:href=\"#DejaVuSans-110\"/>\n     <use x=\"942.431641\" xlink:href=\"#DejaVuSans-116\"/>\n     <use x=\"981.640625\" xlink:href=\"#DejaVuSans-32\"/>\n     <use x=\"1013.427734\" xlink:href=\"#DejaVuSans-60\"/>\n     <use x=\"1097.216797\" xlink:href=\"#DejaVuSans-61\"/>\n     <use x=\"1181.005859\" xlink:href=\"#DejaVuSans-32\"/>\n     <use x=\"1212.792969\" xlink:href=\"#DejaVuSans-49\"/>\n     <use x=\"1276.416016\" xlink:href=\"#DejaVuSans-53\"/>\n     <use x=\"1340.039062\" xlink:href=\"#DejaVuSans-51\"/>\n     <use x=\"1403.662109\" xlink:href=\"#DejaVuSans-52\"/>\n     <use x=\"1467.285156\" xlink:href=\"#DejaVuSans-53\"/>\n     <use x=\"1530.908203\" xlink:href=\"#DejaVuSans-46\"/>\n     <use x=\"1562.695312\" xlink:href=\"#DejaVuSans-53\"/>\n     <use x=\"1626.318359\" xlink:href=\"#DejaVuSans-52\"/>\n    </g>\n    <!-- gini = 0.48 -->\n    <g transform=\"translate(404.643981 514.766446)scale(0.07623 -0.07623)\">\n     <use xlink:href=\"#DejaVuSans-103\"/>\n     <use x=\"63.476562\" xlink:href=\"#DejaVuSans-105\"/>\n     <use x=\"91.259766\" xlink:href=\"#DejaVuSans-110\"/>\n     <use x=\"154.638672\" xlink:href=\"#DejaVuSans-105\"/>\n     <use x=\"182.421875\" xlink:href=\"#DejaVuSans-32\"/>\n     <use x=\"214.208984\" xlink:href=\"#DejaVuSans-61\"/>\n     <use x=\"297.998047\" xlink:href=\"#DejaVuSans-32\"/>\n     <use x=\"329.785156\" xlink:href=\"#DejaVuSans-48\"/>\n     <use x=\"393.408203\" xlink:href=\"#DejaVuSans-46\"/>\n     <use x=\"425.195312\" xlink:href=\"#DejaVuSans-52\"/>\n     <use x=\"488.818359\" xlink:href=\"#DejaVuSans-56\"/>\n    </g>\n    <!-- samples = 0.0% -->\n    <g transform=\"translate(394.557268 523.302483)scale(0.07623 -0.07623)\">\n     <use xlink:href=\"#DejaVuSans-115\"/>\n     <use x=\"52.099609\" xlink:href=\"#DejaVuSans-97\"/>\n     <use x=\"113.378906\" xlink:href=\"#DejaVuSans-109\"/>\n     <use x=\"210.791016\" xlink:href=\"#DejaVuSans-112\"/>\n     <use x=\"274.267578\" xlink:href=\"#DejaVuSans-108\"/>\n     <use x=\"302.050781\" xlink:href=\"#DejaVuSans-101\"/>\n     <use x=\"363.574219\" xlink:href=\"#DejaVuSans-115\"/>\n     <use x=\"415.673828\" xlink:href=\"#DejaVuSans-32\"/>\n     <use x=\"447.460938\" xlink:href=\"#DejaVuSans-61\"/>\n     <use x=\"531.25\" xlink:href=\"#DejaVuSans-32\"/>\n     <use x=\"563.037109\" xlink:href=\"#DejaVuSans-48\"/>\n     <use x=\"626.660156\" xlink:href=\"#DejaVuSans-46\"/>\n     <use x=\"658.447266\" xlink:href=\"#DejaVuSans-48\"/>\n     <use x=\"722.070312\" xlink:href=\"#DejaVuSans-37\"/>\n    </g>\n    <!-- value = [0.4, 0.6] -->\n    <g transform=\"translate(392.152465 531.838521)scale(0.07623 -0.07623)\">\n     <use xlink:href=\"#DejaVuSans-118\"/>\n     <use x=\"59.179688\" xlink:href=\"#DejaVuSans-97\"/>\n     <use x=\"120.458984\" xlink:href=\"#DejaVuSans-108\"/>\n     <use x=\"148.242188\" xlink:href=\"#DejaVuSans-117\"/>\n     <use x=\"211.621094\" xlink:href=\"#DejaVuSans-101\"/>\n     <use x=\"273.144531\" xlink:href=\"#DejaVuSans-32\"/>\n     <use x=\"304.931641\" xlink:href=\"#DejaVuSans-61\"/>\n     <use x=\"388.720703\" xlink:href=\"#DejaVuSans-32\"/>\n     <use x=\"420.507812\" xlink:href=\"#DejaVuSans-91\"/>\n     <use x=\"459.521484\" xlink:href=\"#DejaVuSans-48\"/>\n     <use x=\"523.144531\" xlink:href=\"#DejaVuSans-46\"/>\n     <use x=\"554.931641\" xlink:href=\"#DejaVuSans-52\"/>\n     <use x=\"618.554688\" xlink:href=\"#DejaVuSans-44\"/>\n     <use x=\"650.341797\" xlink:href=\"#DejaVuSans-32\"/>\n     <use x=\"682.128906\" xlink:href=\"#DejaVuSans-48\"/>\n     <use x=\"745.751953\" xlink:href=\"#DejaVuSans-46\"/>\n     <use x=\"777.539062\" xlink:href=\"#DejaVuSans-54\"/>\n     <use x=\"841.162109\" xlink:href=\"#DejaVuSans-93\"/>\n    </g>\n   </g>\n   <g id=\"patch_22\">\n    <path d=\"M 720.391639 493.89496 \nQ 781.415222 404.721789 843.070214 314.625946 \n\" style=\"fill:none;stroke:#000000;stroke-linecap:round;\"/>\n    <path d=\"M 723.371848 492.239597 \nL 720.391639 493.89496 \nL 720.855474 490.517575 \n\" style=\"fill:none;stroke:#000000;stroke-linecap:round;\"/>\n   </g>\n   <g id=\"text_11\">\n    <g id=\"patch_23\">\n     <path d=\"M 634.813621 536.473037 \nL 774.586379 536.473037 \nL 774.586379 496.96495 \nL 634.813621 496.96495 \nz\n\" style=\"fill:#eb9d65;stroke:#000000;stroke-linejoin:miter;\"/>\n    </g>\n    <!-- conversion_amount &lt;= 19443.885 -->\n    <g transform=\"translate(637.862801 506.018395)scale(0.07623 -0.07623)\">\n     <use xlink:href=\"#DejaVuSans-99\"/>\n     <use x=\"54.980469\" xlink:href=\"#DejaVuSans-111\"/>\n     <use x=\"116.162109\" xlink:href=\"#DejaVuSans-110\"/>\n     <use x=\"179.541016\" xlink:href=\"#DejaVuSans-118\"/>\n     <use x=\"238.720703\" xlink:href=\"#DejaVuSans-101\"/>\n     <use x=\"300.244141\" xlink:href=\"#DejaVuSans-114\"/>\n     <use x=\"341.357422\" xlink:href=\"#DejaVuSans-115\"/>\n     <use x=\"393.457031\" xlink:href=\"#DejaVuSans-105\"/>\n     <use x=\"421.240234\" xlink:href=\"#DejaVuSans-111\"/>\n     <use x=\"482.421875\" xlink:href=\"#DejaVuSans-110\"/>\n     <use x=\"545.800781\" xlink:href=\"#DejaVuSans-95\"/>\n     <use x=\"595.800781\" xlink:href=\"#DejaVuSans-97\"/>\n     <use x=\"657.080078\" xlink:href=\"#DejaVuSans-109\"/>\n     <use x=\"754.492188\" xlink:href=\"#DejaVuSans-111\"/>\n     <use x=\"815.673828\" xlink:href=\"#DejaVuSans-117\"/>\n     <use x=\"879.052734\" xlink:href=\"#DejaVuSans-110\"/>\n     <use x=\"942.431641\" xlink:href=\"#DejaVuSans-116\"/>\n     <use x=\"981.640625\" xlink:href=\"#DejaVuSans-32\"/>\n     <use x=\"1013.427734\" xlink:href=\"#DejaVuSans-60\"/>\n     <use x=\"1097.216797\" xlink:href=\"#DejaVuSans-61\"/>\n     <use x=\"1181.005859\" xlink:href=\"#DejaVuSans-32\"/>\n     <use x=\"1212.792969\" xlink:href=\"#DejaVuSans-49\"/>\n     <use x=\"1276.416016\" xlink:href=\"#DejaVuSans-57\"/>\n     <use x=\"1340.039062\" xlink:href=\"#DejaVuSans-52\"/>\n     <use x=\"1403.662109\" xlink:href=\"#DejaVuSans-52\"/>\n     <use x=\"1467.285156\" xlink:href=\"#DejaVuSans-51\"/>\n     <use x=\"1530.908203\" xlink:href=\"#DejaVuSans-46\"/>\n     <use x=\"1562.695312\" xlink:href=\"#DejaVuSans-56\"/>\n     <use x=\"1626.318359\" xlink:href=\"#DejaVuSans-56\"/>\n     <use x=\"1689.941406\" xlink:href=\"#DejaVuSans-53\"/>\n    </g>\n    <!-- gini = 0.298 -->\n    <g transform=\"translate(681.218929 514.766446)scale(0.07623 -0.07623)\">\n     <use xlink:href=\"#DejaVuSans-103\"/>\n     <use x=\"63.476562\" xlink:href=\"#DejaVuSans-105\"/>\n     <use x=\"91.259766\" xlink:href=\"#DejaVuSans-110\"/>\n     <use x=\"154.638672\" xlink:href=\"#DejaVuSans-105\"/>\n     <use x=\"182.421875\" xlink:href=\"#DejaVuSans-32\"/>\n     <use x=\"214.208984\" xlink:href=\"#DejaVuSans-61\"/>\n     <use x=\"297.998047\" xlink:href=\"#DejaVuSans-32\"/>\n     <use x=\"329.785156\" xlink:href=\"#DejaVuSans-48\"/>\n     <use x=\"393.408203\" xlink:href=\"#DejaVuSans-46\"/>\n     <use x=\"425.195312\" xlink:href=\"#DejaVuSans-50\"/>\n     <use x=\"488.818359\" xlink:href=\"#DejaVuSans-57\"/>\n     <use x=\"552.441406\" xlink:href=\"#DejaVuSans-56\"/>\n    </g>\n    <!-- samples = 25.0% -->\n    <g transform=\"translate(671.132217 523.302483)scale(0.07623 -0.07623)\">\n     <use xlink:href=\"#DejaVuSans-115\"/>\n     <use x=\"52.099609\" xlink:href=\"#DejaVuSans-97\"/>\n     <use x=\"113.378906\" xlink:href=\"#DejaVuSans-109\"/>\n     <use x=\"210.791016\" xlink:href=\"#DejaVuSans-112\"/>\n     <use x=\"274.267578\" xlink:href=\"#DejaVuSans-108\"/>\n     <use x=\"302.050781\" xlink:href=\"#DejaVuSans-101\"/>\n     <use x=\"363.574219\" xlink:href=\"#DejaVuSans-115\"/>\n     <use x=\"415.673828\" xlink:href=\"#DejaVuSans-32\"/>\n     <use x=\"447.460938\" xlink:href=\"#DejaVuSans-61\"/>\n     <use x=\"531.25\" xlink:href=\"#DejaVuSans-32\"/>\n     <use x=\"563.037109\" xlink:href=\"#DejaVuSans-50\"/>\n     <use x=\"626.660156\" xlink:href=\"#DejaVuSans-53\"/>\n     <use x=\"690.283203\" xlink:href=\"#DejaVuSans-46\"/>\n     <use x=\"722.070312\" xlink:href=\"#DejaVuSans-48\"/>\n     <use x=\"785.693359\" xlink:href=\"#DejaVuSans-37\"/>\n    </g>\n    <!-- value = [0.817, 0.183] -->\n    <g transform=\"translate(661.452261 531.838521)scale(0.07623 -0.07623)\">\n     <use xlink:href=\"#DejaVuSans-118\"/>\n     <use x=\"59.179688\" xlink:href=\"#DejaVuSans-97\"/>\n     <use x=\"120.458984\" xlink:href=\"#DejaVuSans-108\"/>\n     <use x=\"148.242188\" xlink:href=\"#DejaVuSans-117\"/>\n     <use x=\"211.621094\" xlink:href=\"#DejaVuSans-101\"/>\n     <use x=\"273.144531\" xlink:href=\"#DejaVuSans-32\"/>\n     <use x=\"304.931641\" xlink:href=\"#DejaVuSans-61\"/>\n     <use x=\"388.720703\" xlink:href=\"#DejaVuSans-32\"/>\n     <use x=\"420.507812\" xlink:href=\"#DejaVuSans-91\"/>\n     <use x=\"459.521484\" xlink:href=\"#DejaVuSans-48\"/>\n     <use x=\"523.144531\" xlink:href=\"#DejaVuSans-46\"/>\n     <use x=\"554.931641\" xlink:href=\"#DejaVuSans-56\"/>\n     <use x=\"618.554688\" xlink:href=\"#DejaVuSans-49\"/>\n     <use x=\"682.177734\" xlink:href=\"#DejaVuSans-55\"/>\n     <use x=\"745.800781\" xlink:href=\"#DejaVuSans-44\"/>\n     <use x=\"777.587891\" xlink:href=\"#DejaVuSans-32\"/>\n     <use x=\"809.375\" xlink:href=\"#DejaVuSans-48\"/>\n     <use x=\"872.998047\" xlink:href=\"#DejaVuSans-46\"/>\n     <use x=\"904.785156\" xlink:href=\"#DejaVuSans-49\"/>\n     <use x=\"968.408203\" xlink:href=\"#DejaVuSans-56\"/>\n     <use x=\"1032.03125\" xlink:href=\"#DejaVuSans-51\"/>\n     <use x=\"1095.654297\" xlink:href=\"#DejaVuSans-93\"/>\n    </g>\n   </g>\n   <g id=\"patch_24\">\n    <path d=\"M 968.008361 493.89496 \nQ 906.984778 404.721789 845.329786 314.625946 \n\" style=\"fill:none;stroke:#000000;stroke-linecap:round;\"/>\n    <path d=\"M 967.544526 490.517575 \nL 968.008361 493.89496 \nL 965.028152 492.239597 \n\" style=\"fill:none;stroke:#000000;stroke-linecap:round;\"/>\n   </g>\n   <g id=\"text_12\">\n    <g id=\"patch_25\">\n     <path d=\"M 923.513826 536.473037 \nL 1043.886174 536.473037 \nL 1043.886174 496.96495 \nL 923.513826 496.96495 \nz\n\" style=\"fill:#f1bc95;stroke:#000000;stroke-linejoin:miter;\"/>\n    </g>\n    <!-- conversion_amount &lt;= 160.0 -->\n    <g transform=\"translate(926.563006 506.018395)scale(0.07623 -0.07623)\">\n     <use xlink:href=\"#DejaVuSans-99\"/>\n     <use x=\"54.980469\" xlink:href=\"#DejaVuSans-111\"/>\n     <use x=\"116.162109\" xlink:href=\"#DejaVuSans-110\"/>\n     <use x=\"179.541016\" xlink:href=\"#DejaVuSans-118\"/>\n     <use x=\"238.720703\" xlink:href=\"#DejaVuSans-101\"/>\n     <use x=\"300.244141\" xlink:href=\"#DejaVuSans-114\"/>\n     <use x=\"341.357422\" xlink:href=\"#DejaVuSans-115\"/>\n     <use x=\"393.457031\" xlink:href=\"#DejaVuSans-105\"/>\n     <use x=\"421.240234\" xlink:href=\"#DejaVuSans-111\"/>\n     <use x=\"482.421875\" xlink:href=\"#DejaVuSans-110\"/>\n     <use x=\"545.800781\" xlink:href=\"#DejaVuSans-95\"/>\n     <use x=\"595.800781\" xlink:href=\"#DejaVuSans-97\"/>\n     <use x=\"657.080078\" xlink:href=\"#DejaVuSans-109\"/>\n     <use x=\"754.492188\" xlink:href=\"#DejaVuSans-111\"/>\n     <use x=\"815.673828\" xlink:href=\"#DejaVuSans-117\"/>\n     <use x=\"879.052734\" xlink:href=\"#DejaVuSans-110\"/>\n     <use x=\"942.431641\" xlink:href=\"#DejaVuSans-116\"/>\n     <use x=\"981.640625\" xlink:href=\"#DejaVuSans-32\"/>\n     <use x=\"1013.427734\" xlink:href=\"#DejaVuSans-60\"/>\n     <use x=\"1097.216797\" xlink:href=\"#DejaVuSans-61\"/>\n     <use x=\"1181.005859\" xlink:href=\"#DejaVuSans-32\"/>\n     <use x=\"1212.792969\" xlink:href=\"#DejaVuSans-49\"/>\n     <use x=\"1276.416016\" xlink:href=\"#DejaVuSans-54\"/>\n     <use x=\"1340.039062\" xlink:href=\"#DejaVuSans-48\"/>\n     <use x=\"1403.662109\" xlink:href=\"#DejaVuSans-46\"/>\n     <use x=\"1435.449219\" xlink:href=\"#DejaVuSans-48\"/>\n    </g>\n    <!-- gini = 0.434 -->\n    <g transform=\"translate(960.218929 514.766446)scale(0.07623 -0.07623)\">\n     <use xlink:href=\"#DejaVuSans-103\"/>\n     <use x=\"63.476562\" xlink:href=\"#DejaVuSans-105\"/>\n     <use x=\"91.259766\" xlink:href=\"#DejaVuSans-110\"/>\n     <use x=\"154.638672\" xlink:href=\"#DejaVuSans-105\"/>\n     <use x=\"182.421875\" xlink:href=\"#DejaVuSans-32\"/>\n     <use x=\"214.208984\" xlink:href=\"#DejaVuSans-61\"/>\n     <use x=\"297.998047\" xlink:href=\"#DejaVuSans-32\"/>\n     <use x=\"329.785156\" xlink:href=\"#DejaVuSans-48\"/>\n     <use x=\"393.408203\" xlink:href=\"#DejaVuSans-46\"/>\n     <use x=\"425.195312\" xlink:href=\"#DejaVuSans-52\"/>\n     <use x=\"488.818359\" xlink:href=\"#DejaVuSans-51\"/>\n     <use x=\"552.441406\" xlink:href=\"#DejaVuSans-52\"/>\n    </g>\n    <!-- samples = 4.8% -->\n    <g transform=\"translate(952.557268 523.302483)scale(0.07623 -0.07623)\">\n     <use xlink:href=\"#DejaVuSans-115\"/>\n     <use x=\"52.099609\" xlink:href=\"#DejaVuSans-97\"/>\n     <use x=\"113.378906\" xlink:href=\"#DejaVuSans-109\"/>\n     <use x=\"210.791016\" xlink:href=\"#DejaVuSans-112\"/>\n     <use x=\"274.267578\" xlink:href=\"#DejaVuSans-108\"/>\n     <use x=\"302.050781\" xlink:href=\"#DejaVuSans-101\"/>\n     <use x=\"363.574219\" xlink:href=\"#DejaVuSans-115\"/>\n     <use x=\"415.673828\" xlink:href=\"#DejaVuSans-32\"/>\n     <use x=\"447.460938\" xlink:href=\"#DejaVuSans-61\"/>\n     <use x=\"531.25\" xlink:href=\"#DejaVuSans-32\"/>\n     <use x=\"563.037109\" xlink:href=\"#DejaVuSans-52\"/>\n     <use x=\"626.660156\" xlink:href=\"#DejaVuSans-46\"/>\n     <use x=\"658.447266\" xlink:href=\"#DejaVuSans-56\"/>\n     <use x=\"722.070312\" xlink:href=\"#DejaVuSans-37\"/>\n    </g>\n    <!-- value = [0.682, 0.318] -->\n    <g transform=\"translate(940.452261 531.838521)scale(0.07623 -0.07623)\">\n     <use xlink:href=\"#DejaVuSans-118\"/>\n     <use x=\"59.179688\" xlink:href=\"#DejaVuSans-97\"/>\n     <use x=\"120.458984\" xlink:href=\"#DejaVuSans-108\"/>\n     <use x=\"148.242188\" xlink:href=\"#DejaVuSans-117\"/>\n     <use x=\"211.621094\" xlink:href=\"#DejaVuSans-101\"/>\n     <use x=\"273.144531\" xlink:href=\"#DejaVuSans-32\"/>\n     <use x=\"304.931641\" xlink:href=\"#DejaVuSans-61\"/>\n     <use x=\"388.720703\" xlink:href=\"#DejaVuSans-32\"/>\n     <use x=\"420.507812\" xlink:href=\"#DejaVuSans-91\"/>\n     <use x=\"459.521484\" xlink:href=\"#DejaVuSans-48\"/>\n     <use x=\"523.144531\" xlink:href=\"#DejaVuSans-46\"/>\n     <use x=\"554.931641\" xlink:href=\"#DejaVuSans-54\"/>\n     <use x=\"618.554688\" xlink:href=\"#DejaVuSans-56\"/>\n     <use x=\"682.177734\" xlink:href=\"#DejaVuSans-50\"/>\n     <use x=\"745.800781\" xlink:href=\"#DejaVuSans-44\"/>\n     <use x=\"777.587891\" xlink:href=\"#DejaVuSans-32\"/>\n     <use x=\"809.375\" xlink:href=\"#DejaVuSans-48\"/>\n     <use x=\"872.998047\" xlink:href=\"#DejaVuSans-46\"/>\n     <use x=\"904.785156\" xlink:href=\"#DejaVuSans-51\"/>\n     <use x=\"968.408203\" xlink:href=\"#DejaVuSans-49\"/>\n     <use x=\"1032.03125\" xlink:href=\"#DejaVuSans-56\"/>\n     <use x=\"1095.654297\" xlink:href=\"#DejaVuSans-93\"/>\n    </g>\n   </g>\n   <g id=\"patch_26\">\n    <path d=\"M 316.581536 290.776878 \nQ 439.630325 200.871875 563.581859 110.307287 \n\" style=\"fill:none;stroke:#000000;stroke-linecap:round;\"/>\n    <path d=\"M 319.942997 290.209023 \nL 316.581536 290.776878 \nL 318.144129 287.746996 \n\" style=\"fill:none;stroke:#000000;stroke-linecap:round;\"/>\n   </g>\n   <g id=\"text_13\">\n    <g id=\"patch_27\">\n     <path d=\"M 221.163723 332.623037 \nL 351.236277 332.623037 \nL 351.236277 293.11495 \nL 221.163723 293.11495 \nz\n\" style=\"fill:#e5813a;stroke:#000000;stroke-linejoin:miter;\"/>\n    </g>\n    <!-- conversion_amount &lt;= 5185.04 -->\n    <g transform=\"translate(224.212903 302.168395)scale(0.07623 -0.07623)\">\n     <use xlink:href=\"#DejaVuSans-99\"/>\n     <use x=\"54.980469\" xlink:href=\"#DejaVuSans-111\"/>\n     <use x=\"116.162109\" xlink:href=\"#DejaVuSans-110\"/>\n     <use x=\"179.541016\" xlink:href=\"#DejaVuSans-118\"/>\n     <use x=\"238.720703\" xlink:href=\"#DejaVuSans-101\"/>\n     <use x=\"300.244141\" xlink:href=\"#DejaVuSans-114\"/>\n     <use x=\"341.357422\" xlink:href=\"#DejaVuSans-115\"/>\n     <use x=\"393.457031\" xlink:href=\"#DejaVuSans-105\"/>\n     <use x=\"421.240234\" xlink:href=\"#DejaVuSans-111\"/>\n     <use x=\"482.421875\" xlink:href=\"#DejaVuSans-110\"/>\n     <use x=\"545.800781\" xlink:href=\"#DejaVuSans-95\"/>\n     <use x=\"595.800781\" xlink:href=\"#DejaVuSans-97\"/>\n     <use x=\"657.080078\" xlink:href=\"#DejaVuSans-109\"/>\n     <use x=\"754.492188\" xlink:href=\"#DejaVuSans-111\"/>\n     <use x=\"815.673828\" xlink:href=\"#DejaVuSans-117\"/>\n     <use x=\"879.052734\" xlink:href=\"#DejaVuSans-110\"/>\n     <use x=\"942.431641\" xlink:href=\"#DejaVuSans-116\"/>\n     <use x=\"981.640625\" xlink:href=\"#DejaVuSans-32\"/>\n     <use x=\"1013.427734\" xlink:href=\"#DejaVuSans-60\"/>\n     <use x=\"1097.216797\" xlink:href=\"#DejaVuSans-61\"/>\n     <use x=\"1181.005859\" xlink:href=\"#DejaVuSans-32\"/>\n     <use x=\"1212.792969\" xlink:href=\"#DejaVuSans-53\"/>\n     <use x=\"1276.416016\" xlink:href=\"#DejaVuSans-49\"/>\n     <use x=\"1340.039062\" xlink:href=\"#DejaVuSans-56\"/>\n     <use x=\"1403.662109\" xlink:href=\"#DejaVuSans-53\"/>\n     <use x=\"1467.285156\" xlink:href=\"#DejaVuSans-46\"/>\n     <use x=\"1499.072266\" xlink:href=\"#DejaVuSans-48\"/>\n     <use x=\"1562.695312\" xlink:href=\"#DejaVuSans-52\"/>\n    </g>\n    <!-- gini = 0.008 -->\n    <g transform=\"translate(262.718929 310.916446)scale(0.07623 -0.07623)\">\n     <use xlink:href=\"#DejaVuSans-103\"/>\n     <use x=\"63.476562\" xlink:href=\"#DejaVuSans-105\"/>\n     <use x=\"91.259766\" xlink:href=\"#DejaVuSans-110\"/>\n     <use x=\"154.638672\" xlink:href=\"#DejaVuSans-105\"/>\n     <use x=\"182.421875\" xlink:href=\"#DejaVuSans-32\"/>\n     <use x=\"214.208984\" xlink:href=\"#DejaVuSans-61\"/>\n     <use x=\"297.998047\" xlink:href=\"#DejaVuSans-32\"/>\n     <use x=\"329.785156\" xlink:href=\"#DejaVuSans-48\"/>\n     <use x=\"393.408203\" xlink:href=\"#DejaVuSans-46\"/>\n     <use x=\"425.195312\" xlink:href=\"#DejaVuSans-48\"/>\n     <use x=\"488.818359\" xlink:href=\"#DejaVuSans-48\"/>\n     <use x=\"552.441406\" xlink:href=\"#DejaVuSans-56\"/>\n    </g>\n    <!-- samples = 70.2% -->\n    <g transform=\"translate(252.632217 319.452483)scale(0.07623 -0.07623)\">\n     <use xlink:href=\"#DejaVuSans-115\"/>\n     <use x=\"52.099609\" xlink:href=\"#DejaVuSans-97\"/>\n     <use x=\"113.378906\" xlink:href=\"#DejaVuSans-109\"/>\n     <use x=\"210.791016\" xlink:href=\"#DejaVuSans-112\"/>\n     <use x=\"274.267578\" xlink:href=\"#DejaVuSans-108\"/>\n     <use x=\"302.050781\" xlink:href=\"#DejaVuSans-101\"/>\n     <use x=\"363.574219\" xlink:href=\"#DejaVuSans-115\"/>\n     <use x=\"415.673828\" xlink:href=\"#DejaVuSans-32\"/>\n     <use x=\"447.460938\" xlink:href=\"#DejaVuSans-61\"/>\n     <use x=\"531.25\" xlink:href=\"#DejaVuSans-32\"/>\n     <use x=\"563.037109\" xlink:href=\"#DejaVuSans-55\"/>\n     <use x=\"626.660156\" xlink:href=\"#DejaVuSans-48\"/>\n     <use x=\"690.283203\" xlink:href=\"#DejaVuSans-46\"/>\n     <use x=\"722.070312\" xlink:href=\"#DejaVuSans-50\"/>\n     <use x=\"785.693359\" xlink:href=\"#DejaVuSans-37\"/>\n    </g>\n    <!-- value = [0.996, 0.004] -->\n    <g transform=\"translate(242.952261 327.988521)scale(0.07623 -0.07623)\">\n     <use xlink:href=\"#DejaVuSans-118\"/>\n     <use x=\"59.179688\" xlink:href=\"#DejaVuSans-97\"/>\n     <use x=\"120.458984\" xlink:href=\"#DejaVuSans-108\"/>\n     <use x=\"148.242188\" xlink:href=\"#DejaVuSans-117\"/>\n     <use x=\"211.621094\" xlink:href=\"#DejaVuSans-101\"/>\n     <use x=\"273.144531\" xlink:href=\"#DejaVuSans-32\"/>\n     <use x=\"304.931641\" xlink:href=\"#DejaVuSans-61\"/>\n     <use x=\"388.720703\" xlink:href=\"#DejaVuSans-32\"/>\n     <use x=\"420.507812\" xlink:href=\"#DejaVuSans-91\"/>\n     <use x=\"459.521484\" xlink:href=\"#DejaVuSans-48\"/>\n     <use x=\"523.144531\" xlink:href=\"#DejaVuSans-46\"/>\n     <use x=\"554.931641\" xlink:href=\"#DejaVuSans-57\"/>\n     <use x=\"618.554688\" xlink:href=\"#DejaVuSans-57\"/>\n     <use x=\"682.177734\" xlink:href=\"#DejaVuSans-54\"/>\n     <use x=\"745.800781\" xlink:href=\"#DejaVuSans-44\"/>\n     <use x=\"777.587891\" xlink:href=\"#DejaVuSans-32\"/>\n     <use x=\"809.375\" xlink:href=\"#DejaVuSans-48\"/>\n     <use x=\"872.998047\" xlink:href=\"#DejaVuSans-46\"/>\n     <use x=\"904.785156\" xlink:href=\"#DejaVuSans-48\"/>\n     <use x=\"968.408203\" xlink:href=\"#DejaVuSans-48\"/>\n     <use x=\"1032.03125\" xlink:href=\"#DejaVuSans-52\"/>\n     <use x=\"1095.654297\" xlink:href=\"#DejaVuSans-93\"/>\n    </g>\n   </g>\n   <g id=\"patch_28\">\n    <path d=\"M 813.818464 290.776878 \nQ 690.769675 200.871875 566.818141 110.307287 \n\" style=\"fill:none;stroke:#000000;stroke-linecap:round;\"/>\n    <path d=\"M 812.255871 287.746996 \nL 813.818464 290.776878 \nL 810.457003 290.209023 \n\" style=\"fill:none;stroke:#000000;stroke-linecap:round;\"/>\n   </g>\n   <g id=\"text_14\">\n    <g id=\"patch_29\">\n     <path d=\"M 794.770524 332.623037 \nL 893.629476 332.623037 \nL 893.629476 293.11495 \nL 794.770524 293.11495 \nz\n\" style=\"fill:#eca16c;stroke:#000000;stroke-linejoin:miter;\"/>\n    </g>\n    <!-- organization_id &lt;= 49.0 -->\n    <defs>\n     <path d=\"M 5.515625 54.6875 \nL 48.1875 54.6875 \nL 48.1875 46.484375 \nL 14.40625 7.171875 \nL 48.1875 7.171875 \nL 48.1875 0 \nL 4.296875 0 \nL 4.296875 8.203125 \nL 38.09375 47.515625 \nL 5.515625 47.515625 \nz\n\" id=\"DejaVuSans-122\"/>\n     <path d=\"M 45.40625 46.390625 \nL 45.40625 75.984375 \nL 54.390625 75.984375 \nL 54.390625 0 \nL 45.40625 0 \nL 45.40625 8.203125 \nQ 42.578125 3.328125 38.25 0.953125 \nQ 33.9375 -1.421875 27.875 -1.421875 \nQ 17.96875 -1.421875 11.734375 6.484375 \nQ 5.515625 14.40625 5.515625 27.296875 \nQ 5.515625 40.1875 11.734375 48.09375 \nQ 17.96875 56 27.875 56 \nQ 33.9375 56 38.25 53.625 \nQ 42.578125 51.265625 45.40625 46.390625 \nz\nM 14.796875 27.296875 \nQ 14.796875 17.390625 18.875 11.75 \nQ 22.953125 6.109375 30.078125 6.109375 \nQ 37.203125 6.109375 41.296875 11.75 \nQ 45.40625 17.390625 45.40625 27.296875 \nQ 45.40625 37.203125 41.296875 42.84375 \nQ 37.203125 48.484375 30.078125 48.484375 \nQ 22.953125 48.484375 18.875 42.84375 \nQ 14.796875 37.203125 14.796875 27.296875 \nz\n\" id=\"DejaVuSans-100\"/>\n    </defs>\n    <g transform=\"translate(797.819704 302.168395)scale(0.07623 -0.07623)\">\n     <use xlink:href=\"#DejaVuSans-111\"/>\n     <use x=\"61.181641\" xlink:href=\"#DejaVuSans-114\"/>\n     <use x=\"100.544922\" xlink:href=\"#DejaVuSans-103\"/>\n     <use x=\"164.021484\" xlink:href=\"#DejaVuSans-97\"/>\n     <use x=\"225.300781\" xlink:href=\"#DejaVuSans-110\"/>\n     <use x=\"288.679688\" xlink:href=\"#DejaVuSans-105\"/>\n     <use x=\"316.462891\" xlink:href=\"#DejaVuSans-122\"/>\n     <use x=\"368.953125\" xlink:href=\"#DejaVuSans-97\"/>\n     <use x=\"430.232422\" xlink:href=\"#DejaVuSans-116\"/>\n     <use x=\"469.441406\" xlink:href=\"#DejaVuSans-105\"/>\n     <use x=\"497.224609\" xlink:href=\"#DejaVuSans-111\"/>\n     <use x=\"558.40625\" xlink:href=\"#DejaVuSans-110\"/>\n     <use x=\"621.785156\" xlink:href=\"#DejaVuSans-95\"/>\n     <use x=\"671.785156\" xlink:href=\"#DejaVuSans-105\"/>\n     <use x=\"699.568359\" xlink:href=\"#DejaVuSans-100\"/>\n     <use x=\"763.044922\" xlink:href=\"#DejaVuSans-32\"/>\n     <use x=\"794.832031\" xlink:href=\"#DejaVuSans-60\"/>\n     <use x=\"878.621094\" xlink:href=\"#DejaVuSans-61\"/>\n     <use x=\"962.410156\" xlink:href=\"#DejaVuSans-32\"/>\n     <use x=\"994.197266\" xlink:href=\"#DejaVuSans-52\"/>\n     <use x=\"1057.820312\" xlink:href=\"#DejaVuSans-57\"/>\n     <use x=\"1121.443359\" xlink:href=\"#DejaVuSans-46\"/>\n     <use x=\"1153.230469\" xlink:href=\"#DejaVuSans-48\"/>\n    </g>\n    <!-- gini = 0.325 -->\n    <g transform=\"translate(820.718929 310.916446)scale(0.07623 -0.07623)\">\n     <use xlink:href=\"#DejaVuSans-103\"/>\n     <use x=\"63.476562\" xlink:href=\"#DejaVuSans-105\"/>\n     <use x=\"91.259766\" xlink:href=\"#DejaVuSans-110\"/>\n     <use x=\"154.638672\" xlink:href=\"#DejaVuSans-105\"/>\n     <use x=\"182.421875\" xlink:href=\"#DejaVuSans-32\"/>\n     <use x=\"214.208984\" xlink:href=\"#DejaVuSans-61\"/>\n     <use x=\"297.998047\" xlink:href=\"#DejaVuSans-32\"/>\n     <use x=\"329.785156\" xlink:href=\"#DejaVuSans-48\"/>\n     <use x=\"393.408203\" xlink:href=\"#DejaVuSans-46\"/>\n     <use x=\"425.195312\" xlink:href=\"#DejaVuSans-51\"/>\n     <use x=\"488.818359\" xlink:href=\"#DejaVuSans-50\"/>\n     <use x=\"552.441406\" xlink:href=\"#DejaVuSans-53\"/>\n    </g>\n    <!-- samples = 29.8% -->\n    <g transform=\"translate(810.632217 319.452483)scale(0.07623 -0.07623)\">\n     <use xlink:href=\"#DejaVuSans-115\"/>\n     <use x=\"52.099609\" xlink:href=\"#DejaVuSans-97\"/>\n     <use x=\"113.378906\" xlink:href=\"#DejaVuSans-109\"/>\n     <use x=\"210.791016\" xlink:href=\"#DejaVuSans-112\"/>\n     <use x=\"274.267578\" xlink:href=\"#DejaVuSans-108\"/>\n     <use x=\"302.050781\" xlink:href=\"#DejaVuSans-101\"/>\n     <use x=\"363.574219\" xlink:href=\"#DejaVuSans-115\"/>\n     <use x=\"415.673828\" xlink:href=\"#DejaVuSans-32\"/>\n     <use x=\"447.460938\" xlink:href=\"#DejaVuSans-61\"/>\n     <use x=\"531.25\" xlink:href=\"#DejaVuSans-32\"/>\n     <use x=\"563.037109\" xlink:href=\"#DejaVuSans-50\"/>\n     <use x=\"626.660156\" xlink:href=\"#DejaVuSans-57\"/>\n     <use x=\"690.283203\" xlink:href=\"#DejaVuSans-46\"/>\n     <use x=\"722.070312\" xlink:href=\"#DejaVuSans-56\"/>\n     <use x=\"785.693359\" xlink:href=\"#DejaVuSans-37\"/>\n    </g>\n    <!-- value = [0.795, 0.205] -->\n    <g transform=\"translate(800.952261 327.988521)scale(0.07623 -0.07623)\">\n     <use xlink:href=\"#DejaVuSans-118\"/>\n     <use x=\"59.179688\" xlink:href=\"#DejaVuSans-97\"/>\n     <use x=\"120.458984\" xlink:href=\"#DejaVuSans-108\"/>\n     <use x=\"148.242188\" xlink:href=\"#DejaVuSans-117\"/>\n     <use x=\"211.621094\" xlink:href=\"#DejaVuSans-101\"/>\n     <use x=\"273.144531\" xlink:href=\"#DejaVuSans-32\"/>\n     <use x=\"304.931641\" xlink:href=\"#DejaVuSans-61\"/>\n     <use x=\"388.720703\" xlink:href=\"#DejaVuSans-32\"/>\n     <use x=\"420.507812\" xlink:href=\"#DejaVuSans-91\"/>\n     <use x=\"459.521484\" xlink:href=\"#DejaVuSans-48\"/>\n     <use x=\"523.144531\" xlink:href=\"#DejaVuSans-46\"/>\n     <use x=\"554.931641\" xlink:href=\"#DejaVuSans-55\"/>\n     <use x=\"618.554688\" xlink:href=\"#DejaVuSans-57\"/>\n     <use x=\"682.177734\" xlink:href=\"#DejaVuSans-53\"/>\n     <use x=\"745.800781\" xlink:href=\"#DejaVuSans-44\"/>\n     <use x=\"777.587891\" xlink:href=\"#DejaVuSans-32\"/>\n     <use x=\"809.375\" xlink:href=\"#DejaVuSans-48\"/>\n     <use x=\"872.998047\" xlink:href=\"#DejaVuSans-46\"/>\n     <use x=\"904.785156\" xlink:href=\"#DejaVuSans-50\"/>\n     <use x=\"968.408203\" xlink:href=\"#DejaVuSans-48\"/>\n     <use x=\"1032.03125\" xlink:href=\"#DejaVuSans-53\"/>\n     <use x=\"1095.654297\" xlink:href=\"#DejaVuSans-93\"/>\n    </g>\n   </g>\n   <g id=\"text_15\">\n    <g id=\"patch_30\">\n     <path d=\"M 518.195575 128.773037 \nL 612.204425 128.773037 \nL 612.204425 89.26495 \nL 518.195575 89.26495 \nz\n\" style=\"fill:#e78a46;stroke:#000000;stroke-linejoin:miter;\"/>\n    </g>\n    <!-- organization_id &lt;= 1.5 -->\n    <g transform=\"translate(521.244755 98.318395)scale(0.07623 -0.07623)\">\n     <use xlink:href=\"#DejaVuSans-111\"/>\n     <use x=\"61.181641\" xlink:href=\"#DejaVuSans-114\"/>\n     <use x=\"100.544922\" xlink:href=\"#DejaVuSans-103\"/>\n     <use x=\"164.021484\" xlink:href=\"#DejaVuSans-97\"/>\n     <use x=\"225.300781\" xlink:href=\"#DejaVuSans-110\"/>\n     <use x=\"288.679688\" xlink:href=\"#DejaVuSans-105\"/>\n     <use x=\"316.462891\" xlink:href=\"#DejaVuSans-122\"/>\n     <use x=\"368.953125\" xlink:href=\"#DejaVuSans-97\"/>\n     <use x=\"430.232422\" xlink:href=\"#DejaVuSans-116\"/>\n     <use x=\"469.441406\" xlink:href=\"#DejaVuSans-105\"/>\n     <use x=\"497.224609\" xlink:href=\"#DejaVuSans-111\"/>\n     <use x=\"558.40625\" xlink:href=\"#DejaVuSans-110\"/>\n     <use x=\"621.785156\" xlink:href=\"#DejaVuSans-95\"/>\n     <use x=\"671.785156\" xlink:href=\"#DejaVuSans-105\"/>\n     <use x=\"699.568359\" xlink:href=\"#DejaVuSans-100\"/>\n     <use x=\"763.044922\" xlink:href=\"#DejaVuSans-32\"/>\n     <use x=\"794.832031\" xlink:href=\"#DejaVuSans-60\"/>\n     <use x=\"878.621094\" xlink:href=\"#DejaVuSans-61\"/>\n     <use x=\"962.410156\" xlink:href=\"#DejaVuSans-32\"/>\n     <use x=\"994.197266\" xlink:href=\"#DejaVuSans-49\"/>\n     <use x=\"1057.820312\" xlink:href=\"#DejaVuSans-46\"/>\n     <use x=\"1089.607422\" xlink:href=\"#DejaVuSans-53\"/>\n    </g>\n    <!-- gini = 0.119 -->\n    <g transform=\"translate(541.718929 107.066446)scale(0.07623 -0.07623)\">\n     <use xlink:href=\"#DejaVuSans-103\"/>\n     <use x=\"63.476562\" xlink:href=\"#DejaVuSans-105\"/>\n     <use x=\"91.259766\" xlink:href=\"#DejaVuSans-110\"/>\n     <use x=\"154.638672\" xlink:href=\"#DejaVuSans-105\"/>\n     <use x=\"182.421875\" xlink:href=\"#DejaVuSans-32\"/>\n     <use x=\"214.208984\" xlink:href=\"#DejaVuSans-61\"/>\n     <use x=\"297.998047\" xlink:href=\"#DejaVuSans-32\"/>\n     <use x=\"329.785156\" xlink:href=\"#DejaVuSans-48\"/>\n     <use x=\"393.408203\" xlink:href=\"#DejaVuSans-46\"/>\n     <use x=\"425.195312\" xlink:href=\"#DejaVuSans-49\"/>\n     <use x=\"488.818359\" xlink:href=\"#DejaVuSans-49\"/>\n     <use x=\"552.441406\" xlink:href=\"#DejaVuSans-57\"/>\n    </g>\n    <!-- samples = 100.0% -->\n    <g transform=\"translate(529.207166 115.602483)scale(0.07623 -0.07623)\">\n     <use xlink:href=\"#DejaVuSans-115\"/>\n     <use x=\"52.099609\" xlink:href=\"#DejaVuSans-97\"/>\n     <use x=\"113.378906\" xlink:href=\"#DejaVuSans-109\"/>\n     <use x=\"210.791016\" xlink:href=\"#DejaVuSans-112\"/>\n     <use x=\"274.267578\" xlink:href=\"#DejaVuSans-108\"/>\n     <use x=\"302.050781\" xlink:href=\"#DejaVuSans-101\"/>\n     <use x=\"363.574219\" xlink:href=\"#DejaVuSans-115\"/>\n     <use x=\"415.673828\" xlink:href=\"#DejaVuSans-32\"/>\n     <use x=\"447.460938\" xlink:href=\"#DejaVuSans-61\"/>\n     <use x=\"531.25\" xlink:href=\"#DejaVuSans-32\"/>\n     <use x=\"563.037109\" xlink:href=\"#DejaVuSans-49\"/>\n     <use x=\"626.660156\" xlink:href=\"#DejaVuSans-48\"/>\n     <use x=\"690.283203\" xlink:href=\"#DejaVuSans-48\"/>\n     <use x=\"753.90625\" xlink:href=\"#DejaVuSans-46\"/>\n     <use x=\"785.693359\" xlink:href=\"#DejaVuSans-48\"/>\n     <use x=\"849.316406\" xlink:href=\"#DejaVuSans-37\"/>\n    </g>\n    <!-- value = [0.936, 0.064] -->\n    <g transform=\"translate(521.952261 124.138521)scale(0.07623 -0.07623)\">\n     <use xlink:href=\"#DejaVuSans-118\"/>\n     <use x=\"59.179688\" xlink:href=\"#DejaVuSans-97\"/>\n     <use x=\"120.458984\" xlink:href=\"#DejaVuSans-108\"/>\n     <use x=\"148.242188\" xlink:href=\"#DejaVuSans-117\"/>\n     <use x=\"211.621094\" xlink:href=\"#DejaVuSans-101\"/>\n     <use x=\"273.144531\" xlink:href=\"#DejaVuSans-32\"/>\n     <use x=\"304.931641\" xlink:href=\"#DejaVuSans-61\"/>\n     <use x=\"388.720703\" xlink:href=\"#DejaVuSans-32\"/>\n     <use x=\"420.507812\" xlink:href=\"#DejaVuSans-91\"/>\n     <use x=\"459.521484\" xlink:href=\"#DejaVuSans-48\"/>\n     <use x=\"523.144531\" xlink:href=\"#DejaVuSans-46\"/>\n     <use x=\"554.931641\" xlink:href=\"#DejaVuSans-57\"/>\n     <use x=\"618.554688\" xlink:href=\"#DejaVuSans-51\"/>\n     <use x=\"682.177734\" xlink:href=\"#DejaVuSans-54\"/>\n     <use x=\"745.800781\" xlink:href=\"#DejaVuSans-44\"/>\n     <use x=\"777.587891\" xlink:href=\"#DejaVuSans-32\"/>\n     <use x=\"809.375\" xlink:href=\"#DejaVuSans-48\"/>\n     <use x=\"872.998047\" xlink:href=\"#DejaVuSans-46\"/>\n     <use x=\"904.785156\" xlink:href=\"#DejaVuSans-48\"/>\n     <use x=\"968.408203\" xlink:href=\"#DejaVuSans-54\"/>\n     <use x=\"1032.03125\" xlink:href=\"#DejaVuSans-52\"/>\n     <use x=\"1095.654297\" xlink:href=\"#DejaVuSans-93\"/>\n    </g>\n   </g>\n  </g>\n </g>\n</svg>\n",
      "image/png": "[encoded data removed]"
     },
     "metadata": {
      "needs_background": "light"
     }
    }
   ],
   "source": [
    "\n",
    "plt.figure(figsize=(20,15))\n",
    "plot_tree(pipeline.named_steps['model'], feature_names=['conversion_amount','organization_id','payment_method_data'], filled=True, proportion=True);\n",
    "\n"
   ]
  },
  {
   "cell_type": "code",
   "execution_count": null,
   "metadata": {},
   "outputs": [],
   "source": []
  }
 ]
}