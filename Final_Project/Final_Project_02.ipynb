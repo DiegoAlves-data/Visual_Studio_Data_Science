{
 "metadata": {
  "language_info": {
   "codemirror_mode": {
    "name": "ipython",
    "version": 3
   },
   "file_extension": ".py",
   "mimetype": "text/x-python",
   "name": "python",
   "nbconvert_exporter": "python",
   "pygments_lexer": "ipython3",
   "version": "3.8.3-final"
  },
  "orig_nbformat": 2,
  "kernelspec": {
   "name": "python3",
   "display_name": "Python 3",
   "language": "python"
  }
 },
 "nbformat": 4,
 "nbformat_minor": 2,
 "cells": [
  {
   "cell_type": "code",
   "execution_count": 49,
   "metadata": {},
   "outputs": [],
   "source": [
    "import pandas as pd \n",
    "import numpy as np \n",
    "import tqdm as tqdm \n",
    "import matplotlib as plt \n",
    "import missingno\n",
    "import seaborn as sns\n",
    "import warnings\n",
    "import json \n",
    "warnings.filterwarnings('ignore') "
   ]
  },
  {
   "cell_type": "code",
   "execution_count": null,
   "metadata": {},
   "outputs": [],
   "source": [
    "# Importando as bases de dados"
   ]
  },
  {
   "cell_type": "code",
   "execution_count": 4,
   "metadata": {},
   "outputs": [],
   "source": [
    "data_01 = pd.read_csv ('/Users/diegorodrigues/Documents/Iron_Hack/Part_Time_Jul_2020/000_Projects/Final/BBDD/12-12/data_01.csv')"
   ]
  },
  {
   "cell_type": "code",
   "execution_count": 5,
   "metadata": {},
   "outputs": [],
   "source": [
    "data_02 = pd.read_csv ('/Users/diegorodrigues/Documents/Iron_Hack/Part_Time_Jul_2020/000_Projects/Final/BBDD/12-12/data_02.csv')"
   ]
  },
  {
   "cell_type": "code",
   "execution_count": 6,
   "metadata": {},
   "outputs": [],
   "source": [
    "data_03 = pd.read_csv ('/Users/diegorodrigues/Documents/Iron_Hack/Part_Time_Jul_2020/000_Projects/Final/BBDD/12-12/data_03.csv')"
   ]
  },
  {
   "cell_type": "code",
   "execution_count": 7,
   "metadata": {},
   "outputs": [],
   "source": [
    "data_04 = pd.read_csv ('/Users/diegorodrigues/Documents/Iron_Hack/Part_Time_Jul_2020/000_Projects/Final/BBDD/12-12/data_04.csv')"
   ]
  },
  {
   "cell_type": "code",
   "execution_count": 8,
   "metadata": {},
   "outputs": [],
   "source": [
    "data_05 = pd.read_csv ('/Users/diegorodrigues/Documents/Iron_Hack/Part_Time_Jul_2020/000_Projects/Final/BBDD/12-12/data_05.csv')"
   ]
  },
  {
   "cell_type": "code",
   "execution_count": 9,
   "metadata": {},
   "outputs": [],
   "source": [
    "data_06 = pd.read_csv ('/Users/diegorodrigues/Documents/Iron_Hack/Part_Time_Jul_2020/000_Projects/Final/BBDD/12-12/data_06.csv')"
   ]
  },
  {
   "cell_type": "code",
   "execution_count": 10,
   "metadata": {},
   "outputs": [],
   "source": [
    "data_07 = pd.read_csv ('/Users/diegorodrigues/Documents/Iron_Hack/Part_Time_Jul_2020/000_Projects/Final/BBDD/12-12/data_07.csv')"
   ]
  },
  {
   "cell_type": "code",
   "execution_count": 11,
   "metadata": {},
   "outputs": [],
   "source": [
    "data_08 = pd.read_csv ('/Users/diegorodrigues/Documents/Iron_Hack/Part_Time_Jul_2020/000_Projects/Final/BBDD/12-12/data_08.csv')"
   ]
  },
  {
   "cell_type": "code",
   "execution_count": 14,
   "metadata": {},
   "outputs": [],
   "source": [
    "data_09 = pd.read_csv ('/Users/diegorodrigues/Documents/Iron_Hack/Part_Time_Jul_2020/000_Projects/Final/BBDD/12-12/data_09.csv')"
   ]
  },
  {
   "cell_type": "code",
   "execution_count": 13,
   "metadata": {},
   "outputs": [],
   "source": [
    "data_10 = pd.read_csv ('/Users/diegorodrigues/Documents/Iron_Hack/Part_Time_Jul_2020/000_Projects/Final/BBDD/12-12/data_10.csv')"
   ]
  },
  {
   "cell_type": "code",
   "execution_count": 15,
   "metadata": {},
   "outputs": [],
   "source": [
    "data_11 = pd.read_csv ('/Users/diegorodrigues/Documents/Iron_Hack/Part_Time_Jul_2020/000_Projects/Final/BBDD/12-12/data_11.csv')"
   ]
  },
  {
   "cell_type": "code",
   "execution_count": 16,
   "metadata": {},
   "outputs": [],
   "source": [
    "data_12 = pd.read_csv ('/Users/diegorodrigues/Documents/Iron_Hack/Part_Time_Jul_2020/000_Projects/Final/BBDD/12-12/data_12.csv')"
   ]
  },
  {
   "cell_type": "code",
   "execution_count": 17,
   "metadata": {},
   "outputs": [],
   "source": [
    "data_13 = pd.read_csv ('/Users/diegorodrigues/Documents/Iron_Hack/Part_Time_Jul_2020/000_Projects/Final/BBDD/12-12/data_13.csv')"
   ]
  },
  {
   "cell_type": "code",
   "execution_count": 18,
   "metadata": {},
   "outputs": [],
   "source": [
    "data_14 = pd.read_csv ('/Users/diegorodrigues/Documents/Iron_Hack/Part_Time_Jul_2020/000_Projects/Final/BBDD/12-12/data_14.csv')"
   ]
  },
  {
   "cell_type": "code",
   "execution_count": 19,
   "metadata": {},
   "outputs": [],
   "source": [
    "data_15 = pd.read_csv ('/Users/diegorodrigues/Documents/Iron_Hack/Part_Time_Jul_2020/000_Projects/Final/BBDD/12-12/data_15.csv')"
   ]
  },
  {
   "cell_type": "code",
   "execution_count": 20,
   "metadata": {},
   "outputs": [],
   "source": [
    "data_16 = pd.read_csv ('/Users/diegorodrigues/Documents/Iron_Hack/Part_Time_Jul_2020/000_Projects/Final/BBDD/12-12/data_16.csv')"
   ]
  },
  {
   "cell_type": "code",
   "execution_count": 22,
   "metadata": {},
   "outputs": [],
   "source": [
    "data_17 = pd.read_csv ('/Users/diegorodrigues/Documents/Iron_Hack/Part_Time_Jul_2020/000_Projects/Final/BBDD/12-12/data_17.csv')"
   ]
  },
  {
   "cell_type": "code",
   "execution_count": 23,
   "metadata": {},
   "outputs": [],
   "source": [
    "data_18 = pd.read_csv ('/Users/diegorodrigues/Documents/Iron_Hack/Part_Time_Jul_2020/000_Projects/Final/BBDD/12-12/data_18.csv')"
   ]
  },
  {
   "cell_type": "code",
   "execution_count": 24,
   "metadata": {},
   "outputs": [],
   "source": [
    "data_19 = pd.read_csv ('/Users/diegorodrigues/Documents/Iron_Hack/Part_Time_Jul_2020/000_Projects/Final/BBDD/12-12/data_19.csv')"
   ]
  },
  {
   "cell_type": "code",
   "execution_count": null,
   "metadata": {},
   "outputs": [],
   "source": [
    "# concatenando os 19 dataframes em um"
   ]
  },
  {
   "cell_type": "code",
   "execution_count": 28,
   "metadata": {},
   "outputs": [],
   "source": [
    "df = pd.concat ([data_01, data_02, data_03, data_04, data_05, data_06, data_07, data_08, data_08, data_09, data_10, data_11, data_12, data_13, data_14, data_15, data_16, data_17, data_18, data_19])"
   ]
  },
  {
   "cell_type": "code",
   "execution_count": 29,
   "metadata": {},
   "outputs": [
    {
     "output_type": "execute_result",
     "data": {
      "text/plain": [
       "(1938916, 52)"
      ]
     },
     "metadata": {},
     "execution_count": 29
    }
   ],
   "source": [
    "df.shape"
   ]
  },
  {
   "cell_type": "code",
   "execution_count": 30,
   "metadata": {},
   "outputs": [
    {
     "output_type": "execute_result",
     "data": {
      "text/plain": [
       "Index(['lead_idd', 'person_id', 'organization_idd', 'event_id', 'data',\n",
       "       'description', 'id', 'is_subscription', 'amount', 'conversion_amount',\n",
       "       'appeal', 'fund', 'url_landing', 'utm_campaign', 'utm_source',\n",
       "       'utm_medium', 'utm_content', 'utm_term', 'transaction_gateway_code',\n",
       "       'monthly_plan_charge', 'subscription_gateway_code', 'state', 'status',\n",
       "       'created_at', 'updated_at', 'deleted_at', 'next_payment_date',\n",
       "       'gateway_organization_id', 'campaign_id', 'gateway_currency_id',\n",
       "       'lead_id', 'organization_id', 'form_id', 'gatawey_json_response',\n",
       "       'is_from_webhook', 'is_intent', 'payment_method', 'is_manual',\n",
       "       'metadata', 'module', 'is_imported', 'ip', 'payment_gateway_request',\n",
       "       'petition_id', 'payment_method_id', 'tax_relief', 'campaign_code_id',\n",
       "       'dpo_gift_id', 'frequency_id', 'subscription_cycle_number',\n",
       "       'landing_id', 'rng'],\n",
       "      dtype='object')"
      ]
     },
     "metadata": {},
     "execution_count": 30
    }
   ],
   "source": [
    "df.columns"
   ]
  },
  {
   "cell_type": "code",
   "execution_count": 31,
   "metadata": {},
   "outputs": [
    {
     "output_type": "execute_result",
     "data": {
      "text/plain": [
       "lead_idd                           0\n",
       "person_id                          0\n",
       "organization_idd                   0\n",
       "event_id                           0\n",
       "data                               0\n",
       "description                        0\n",
       "id                                 0\n",
       "is_subscription                    0\n",
       "amount                             0\n",
       "conversion_amount                  0\n",
       "appeal                       1938916\n",
       "fund                         1938916\n",
       "url_landing                  1253506\n",
       "utm_campaign                 1860395\n",
       "utm_source                   1863765\n",
       "utm_medium                   1858800\n",
       "utm_content                  1903539\n",
       "utm_term                     1905759\n",
       "transaction_gateway_code       82783\n",
       "monthly_plan_charge                0\n",
       "subscription_gateway_code     636227\n",
       "state                              0\n",
       "status                             0\n",
       "created_at                         0\n",
       "updated_at                         0\n",
       "deleted_at                   1938886\n",
       "next_payment_date            1553232\n",
       "gateway_organization_id       695409\n",
       "campaign_id                      604\n",
       "gateway_currency_id                4\n",
       "lead_id                            0\n",
       "organization_id                    0\n",
       "form_id                         1379\n",
       "gatawey_json_response          15359\n",
       "is_from_webhook                    0\n",
       "is_intent                          0\n",
       "payment_method                     0\n",
       "is_manual                          0\n",
       "metadata                     1381002\n",
       "module                             0\n",
       "is_imported                        0\n",
       "ip                           1679203\n",
       "payment_gateway_request      1746999\n",
       "petition_id                  1938916\n",
       "payment_method_id            1415844\n",
       "tax_relief                   1937883\n",
       "campaign_code_id             1923322\n",
       "dpo_gift_id                  1928178\n",
       "frequency_id                   56634\n",
       "subscription_cycle_number          0\n",
       "landing_id                   1938916\n",
       "rng                                0\n",
       "dtype: int64"
      ]
     },
     "metadata": {},
     "execution_count": 31
    }
   ],
   "source": [
    "df.isnull().sum()"
   ]
  },
  {
   "cell_type": "code",
   "execution_count": 33,
   "metadata": {},
   "outputs": [],
   "source": [
    "df_1 = df.drop (['appeal', 'fund', 'url_landing', 'utm_campaign', 'utm_source', 'utm_medium', 'utm_content', 'utm_content', 'utm_term', 'deleted_at', 'form_id', 'metadata', 'payment_gateway_request', 'petition_id', 'tax_relief', 'campaign_code_id', 'dpo_gift_id', 'landing_id'], axis=1)"
   ]
  },
  {
   "cell_type": "code",
   "execution_count": 35,
   "metadata": {},
   "outputs": [
    {
     "output_type": "execute_result",
     "data": {
      "text/plain": [
       "   lead_idd  person_id  organization_idd  event_id  \\\n",
       "0     33963      33771                18    827957   \n",
       "1     33963      33771                18    826679   \n",
       "2     33963      33771                18    836941   \n",
       "3     33963      33771                18    830093   \n",
       "4     33963      33771                18    839621   \n",
       "\n",
       "                                                data  \\\n",
       "0  {\"lead_id\":33963,\"campaign_id\":101,\"form_id\":4...   \n",
       "1  {\"lead_id\":33963,\"campaign_id\":101,\"form_id\":4...   \n",
       "2  {\"lead_id\":33963,\"campaign_id\":101,\"form_id\":4...   \n",
       "3  {\"lead_id\":33963,\"campaign_id\":101,\"form_id\":4...   \n",
       "4  {\"lead_id\":33963,\"campaign_id\":101,\"form_id\":4...   \n",
       "\n",
       "                  description     id  is_subscription   amount  \\\n",
       "0  DONATIONFAILED_WEBHOOK: 51  83884            False  50000.0   \n",
       "1  DONATIONFAILED_WEBHOOK: 51  83884            False  50000.0   \n",
       "2  DONATIONFAILED_WEBHOOK: 51  83884            False  50000.0   \n",
       "3  DONATIONFAILED_WEBHOOK: 51  83884            False  50000.0   \n",
       "4  DONATIONFAILED_WEBHOOK: 51  83884            False  50000.0   \n",
       "\n",
       "   conversion_amount  ... is_intent  payment_method is_manual  module  \\\n",
       "0            50000.0  ...     False               1     False       1   \n",
       "1            50000.0  ...     False               1     False       1   \n",
       "2            50000.0  ...     False               1     False       1   \n",
       "3            50000.0  ...     False               1     False       1   \n",
       "4            50000.0  ...     False               1     False       1   \n",
       "\n",
       "   is_imported   ip payment_method_id frequency_id  subscription_cycle_number  \\\n",
       "0        False  NaN               NaN          2.0                          2   \n",
       "1        False  NaN               NaN          2.0                          2   \n",
       "2        False  NaN               NaN          2.0                          2   \n",
       "3        False  NaN               NaN          2.0                          2   \n",
       "4        False  NaN               NaN          2.0                          2   \n",
       "\n",
       "        rng  \n",
       "0  0.734023  \n",
       "1  0.095331  \n",
       "2  0.253496  \n",
       "3  0.748214  \n",
       "4  0.800436  \n",
       "\n",
       "[5 rows x 35 columns]"
      ],
      "text/html": "<div>\n<style scoped>\n    .dataframe tbody tr th:only-of-type {\n        vertical-align: middle;\n    }\n\n    .dataframe tbody tr th {\n        vertical-align: top;\n    }\n\n    .dataframe thead th {\n        text-align: right;\n    }\n</style>\n<table border=\"1\" class=\"dataframe\">\n  <thead>\n    <tr style=\"text-align: right;\">\n      <th></th>\n      <th>lead_idd</th>\n      <th>person_id</th>\n      <th>organization_idd</th>\n      <th>event_id</th>\n      <th>data</th>\n      <th>description</th>\n      <th>id</th>\n      <th>is_subscription</th>\n      <th>amount</th>\n      <th>conversion_amount</th>\n      <th>...</th>\n      <th>is_intent</th>\n      <th>payment_method</th>\n      <th>is_manual</th>\n      <th>module</th>\n      <th>is_imported</th>\n      <th>ip</th>\n      <th>payment_method_id</th>\n      <th>frequency_id</th>\n      <th>subscription_cycle_number</th>\n      <th>rng</th>\n    </tr>\n  </thead>\n  <tbody>\n    <tr>\n      <th>0</th>\n      <td>33963</td>\n      <td>33771</td>\n      <td>18</td>\n      <td>827957</td>\n      <td>{\"lead_id\":33963,\"campaign_id\":101,\"form_id\":4...</td>\n      <td>DONATIONFAILED_WEBHOOK: 51</td>\n      <td>83884</td>\n      <td>False</td>\n      <td>50000.0</td>\n      <td>50000.0</td>\n      <td>...</td>\n      <td>False</td>\n      <td>1</td>\n      <td>False</td>\n      <td>1</td>\n      <td>False</td>\n      <td>NaN</td>\n      <td>NaN</td>\n      <td>2.0</td>\n      <td>2</td>\n      <td>0.734023</td>\n    </tr>\n    <tr>\n      <th>1</th>\n      <td>33963</td>\n      <td>33771</td>\n      <td>18</td>\n      <td>826679</td>\n      <td>{\"lead_id\":33963,\"campaign_id\":101,\"form_id\":4...</td>\n      <td>DONATIONFAILED_WEBHOOK: 51</td>\n      <td>83884</td>\n      <td>False</td>\n      <td>50000.0</td>\n      <td>50000.0</td>\n      <td>...</td>\n      <td>False</td>\n      <td>1</td>\n      <td>False</td>\n      <td>1</td>\n      <td>False</td>\n      <td>NaN</td>\n      <td>NaN</td>\n      <td>2.0</td>\n      <td>2</td>\n      <td>0.095331</td>\n    </tr>\n    <tr>\n      <th>2</th>\n      <td>33963</td>\n      <td>33771</td>\n      <td>18</td>\n      <td>836941</td>\n      <td>{\"lead_id\":33963,\"campaign_id\":101,\"form_id\":4...</td>\n      <td>DONATIONFAILED_WEBHOOK: 51</td>\n      <td>83884</td>\n      <td>False</td>\n      <td>50000.0</td>\n      <td>50000.0</td>\n      <td>...</td>\n      <td>False</td>\n      <td>1</td>\n      <td>False</td>\n      <td>1</td>\n      <td>False</td>\n      <td>NaN</td>\n      <td>NaN</td>\n      <td>2.0</td>\n      <td>2</td>\n      <td>0.253496</td>\n    </tr>\n    <tr>\n      <th>3</th>\n      <td>33963</td>\n      <td>33771</td>\n      <td>18</td>\n      <td>830093</td>\n      <td>{\"lead_id\":33963,\"campaign_id\":101,\"form_id\":4...</td>\n      <td>DONATIONFAILED_WEBHOOK: 51</td>\n      <td>83884</td>\n      <td>False</td>\n      <td>50000.0</td>\n      <td>50000.0</td>\n      <td>...</td>\n      <td>False</td>\n      <td>1</td>\n      <td>False</td>\n      <td>1</td>\n      <td>False</td>\n      <td>NaN</td>\n      <td>NaN</td>\n      <td>2.0</td>\n      <td>2</td>\n      <td>0.748214</td>\n    </tr>\n    <tr>\n      <th>4</th>\n      <td>33963</td>\n      <td>33771</td>\n      <td>18</td>\n      <td>839621</td>\n      <td>{\"lead_id\":33963,\"campaign_id\":101,\"form_id\":4...</td>\n      <td>DONATIONFAILED_WEBHOOK: 51</td>\n      <td>83884</td>\n      <td>False</td>\n      <td>50000.0</td>\n      <td>50000.0</td>\n      <td>...</td>\n      <td>False</td>\n      <td>1</td>\n      <td>False</td>\n      <td>1</td>\n      <td>False</td>\n      <td>NaN</td>\n      <td>NaN</td>\n      <td>2.0</td>\n      <td>2</td>\n      <td>0.800436</td>\n    </tr>\n  </tbody>\n</table>\n<p>5 rows × 35 columns</p>\n</div>"
     },
     "metadata": {},
     "execution_count": 35
    }
   ],
   "source": [
    "df_1.head()"
   ]
  },
  {
   "cell_type": "code",
   "execution_count": null,
   "metadata": {},
   "outputs": [],
   "source": [
    "# Obtener donaciones únicas:\n",
    "\n",
    "                is_subscription: false,\n",
    "\n",
    "                monthly_plan_charge: false,\n",
    "\n",
    "                is_intent: false,\n",
    "\n",
    "                state: 2\n",
    "\n",
    "                \n",
    "\n",
    "                \n",
    "\n",
    "                Obtener recurrencias:\n",
    "\n",
    "                \n",
    "\n",
    "                is_subscription: true,\n",
    "\n",
    "                monthly_plan_charge: false,\n",
    "\n",
    "                is_intent: false,\n",
    "\n",
    "                state: 3\n",
    "\n",
    "                \n",
    "\n",
    "                Obtener cargos de suscripción:\n",
    "\n",
    "                \n",
    "\n",
    "                is_subscription: false,\n",
    "\n",
    "                monthly_plan_charge: true,\n",
    "\n",
    "                is_intent: false,\n",
    "\n",
    "                state: 2 "
   ]
  },
  {
   "cell_type": "code",
   "execution_count": null,
   "metadata": {},
   "outputs": [],
   "source": [
    "# filtrando apenas as doações recorrentes"
   ]
  },
  {
   "cell_type": "code",
   "execution_count": 44,
   "metadata": {},
   "outputs": [],
   "source": [
    "mask_recurrents = (df_1['is_subscription'] == True) & (df_1['monthly_plan_charge'] == False) & (df_1['is_intent'] == False) & (df_1['state'] == 3)"
   ]
  },
  {
   "cell_type": "code",
   "execution_count": 63,
   "metadata": {},
   "outputs": [],
   "source": [
    "recurrents = df_1.loc[mask_recurrents, :]"
   ]
  },
  {
   "cell_type": "code",
   "execution_count": 64,
   "metadata": {},
   "outputs": [
    {
     "output_type": "execute_result",
     "data": {
      "text/plain": [
       "      lead_idd  person_id  organization_idd  event_id  \\\n",
       "1369     33963      33771                18    827957   \n",
       "1370     33963      33771                18    826679   \n",
       "1371     33963      33771                18    836941   \n",
       "1372     33963      33771                18    830093   \n",
       "1373     33963      33771                18    839621   \n",
       "\n",
       "                                                   data  \\\n",
       "1369  {\"lead_id\":33963,\"campaign_id\":101,\"form_id\":4...   \n",
       "1370  {\"lead_id\":33963,\"campaign_id\":101,\"form_id\":4...   \n",
       "1371  {\"lead_id\":33963,\"campaign_id\":101,\"form_id\":4...   \n",
       "1372  {\"lead_id\":33963,\"campaign_id\":101,\"form_id\":4...   \n",
       "1373  {\"lead_id\":33963,\"campaign_id\":101,\"form_id\":4...   \n",
       "\n",
       "                     description     id  is_subscription   amount  \\\n",
       "1369  DONATIONFAILED_WEBHOOK: 51  70711             True  50000.0   \n",
       "1370  DONATIONFAILED_WEBHOOK: 51  70711             True  50000.0   \n",
       "1371  DONATIONFAILED_WEBHOOK: 51  70711             True  50000.0   \n",
       "1372  DONATIONFAILED_WEBHOOK: 51  70711             True  50000.0   \n",
       "1373  DONATIONFAILED_WEBHOOK: 51  70711             True  50000.0   \n",
       "\n",
       "      conversion_amount  ... is_intent  payment_method is_manual  module  \\\n",
       "1369            50000.0  ...     False               1     False       1   \n",
       "1370            50000.0  ...     False               1     False       1   \n",
       "1371            50000.0  ...     False               1     False       1   \n",
       "1372            50000.0  ...     False               1     False       1   \n",
       "1373            50000.0  ...     False               1     False       1   \n",
       "\n",
       "      is_imported             ip payment_method_id frequency_id  \\\n",
       "1369        False  186.28.173.92               NaN          2.0   \n",
       "1370        False  186.28.173.92               NaN          2.0   \n",
       "1371        False  186.28.173.92               NaN          2.0   \n",
       "1372        False  186.28.173.92               NaN          2.0   \n",
       "1373        False  186.28.173.92               NaN          2.0   \n",
       "\n",
       "      subscription_cycle_number       rng  \n",
       "1369                          7  0.434643  \n",
       "1370                          7  0.287592  \n",
       "1371                          7  0.994683  \n",
       "1372                          7  0.002717  \n",
       "1373                          7  0.480003  \n",
       "\n",
       "[5 rows x 35 columns]"
      ],
      "text/html": "<div>\n<style scoped>\n    .dataframe tbody tr th:only-of-type {\n        vertical-align: middle;\n    }\n\n    .dataframe tbody tr th {\n        vertical-align: top;\n    }\n\n    .dataframe thead th {\n        text-align: right;\n    }\n</style>\n<table border=\"1\" class=\"dataframe\">\n  <thead>\n    <tr style=\"text-align: right;\">\n      <th></th>\n      <th>lead_idd</th>\n      <th>person_id</th>\n      <th>organization_idd</th>\n      <th>event_id</th>\n      <th>data</th>\n      <th>description</th>\n      <th>id</th>\n      <th>is_subscription</th>\n      <th>amount</th>\n      <th>conversion_amount</th>\n      <th>...</th>\n      <th>is_intent</th>\n      <th>payment_method</th>\n      <th>is_manual</th>\n      <th>module</th>\n      <th>is_imported</th>\n      <th>ip</th>\n      <th>payment_method_id</th>\n      <th>frequency_id</th>\n      <th>subscription_cycle_number</th>\n      <th>rng</th>\n    </tr>\n  </thead>\n  <tbody>\n    <tr>\n      <th>1369</th>\n      <td>33963</td>\n      <td>33771</td>\n      <td>18</td>\n      <td>827957</td>\n      <td>{\"lead_id\":33963,\"campaign_id\":101,\"form_id\":4...</td>\n      <td>DONATIONFAILED_WEBHOOK: 51</td>\n      <td>70711</td>\n      <td>True</td>\n      <td>50000.0</td>\n      <td>50000.0</td>\n      <td>...</td>\n      <td>False</td>\n      <td>1</td>\n      <td>False</td>\n      <td>1</td>\n      <td>False</td>\n      <td>186.28.173.92</td>\n      <td>NaN</td>\n      <td>2.0</td>\n      <td>7</td>\n      <td>0.434643</td>\n    </tr>\n    <tr>\n      <th>1370</th>\n      <td>33963</td>\n      <td>33771</td>\n      <td>18</td>\n      <td>826679</td>\n      <td>{\"lead_id\":33963,\"campaign_id\":101,\"form_id\":4...</td>\n      <td>DONATIONFAILED_WEBHOOK: 51</td>\n      <td>70711</td>\n      <td>True</td>\n      <td>50000.0</td>\n      <td>50000.0</td>\n      <td>...</td>\n      <td>False</td>\n      <td>1</td>\n      <td>False</td>\n      <td>1</td>\n      <td>False</td>\n      <td>186.28.173.92</td>\n      <td>NaN</td>\n      <td>2.0</td>\n      <td>7</td>\n      <td>0.287592</td>\n    </tr>\n    <tr>\n      <th>1371</th>\n      <td>33963</td>\n      <td>33771</td>\n      <td>18</td>\n      <td>836941</td>\n      <td>{\"lead_id\":33963,\"campaign_id\":101,\"form_id\":4...</td>\n      <td>DONATIONFAILED_WEBHOOK: 51</td>\n      <td>70711</td>\n      <td>True</td>\n      <td>50000.0</td>\n      <td>50000.0</td>\n      <td>...</td>\n      <td>False</td>\n      <td>1</td>\n      <td>False</td>\n      <td>1</td>\n      <td>False</td>\n      <td>186.28.173.92</td>\n      <td>NaN</td>\n      <td>2.0</td>\n      <td>7</td>\n      <td>0.994683</td>\n    </tr>\n    <tr>\n      <th>1372</th>\n      <td>33963</td>\n      <td>33771</td>\n      <td>18</td>\n      <td>830093</td>\n      <td>{\"lead_id\":33963,\"campaign_id\":101,\"form_id\":4...</td>\n      <td>DONATIONFAILED_WEBHOOK: 51</td>\n      <td>70711</td>\n      <td>True</td>\n      <td>50000.0</td>\n      <td>50000.0</td>\n      <td>...</td>\n      <td>False</td>\n      <td>1</td>\n      <td>False</td>\n      <td>1</td>\n      <td>False</td>\n      <td>186.28.173.92</td>\n      <td>NaN</td>\n      <td>2.0</td>\n      <td>7</td>\n      <td>0.002717</td>\n    </tr>\n    <tr>\n      <th>1373</th>\n      <td>33963</td>\n      <td>33771</td>\n      <td>18</td>\n      <td>839621</td>\n      <td>{\"lead_id\":33963,\"campaign_id\":101,\"form_id\":4...</td>\n      <td>DONATIONFAILED_WEBHOOK: 51</td>\n      <td>70711</td>\n      <td>True</td>\n      <td>50000.0</td>\n      <td>50000.0</td>\n      <td>...</td>\n      <td>False</td>\n      <td>1</td>\n      <td>False</td>\n      <td>1</td>\n      <td>False</td>\n      <td>186.28.173.92</td>\n      <td>NaN</td>\n      <td>2.0</td>\n      <td>7</td>\n      <td>0.480003</td>\n    </tr>\n  </tbody>\n</table>\n<p>5 rows × 35 columns</p>\n</div>"
     },
     "metadata": {},
     "execution_count": 64
    }
   ],
   "source": [
    "recurrents.head()"
   ]
  },
  {
   "cell_type": "code",
   "execution_count": 65,
   "metadata": {},
   "outputs": [],
   "source": [
    "recurrents = recurrents.reset_index()"
   ]
  },
  {
   "cell_type": "code",
   "execution_count": 66,
   "metadata": {},
   "outputs": [
    {
     "output_type": "execute_result",
     "data": {
      "text/plain": [
       "(72573, 36)"
      ]
     },
     "metadata": {},
     "execution_count": 66
    }
   ],
   "source": [
    "recurrents.shape"
   ]
  },
  {
   "cell_type": "code",
   "execution_count": 70,
   "metadata": {},
   "outputs": [],
   "source": [
    "# extraindo os Json da coluna Data e salvando em um novo dataset"
   ]
  },
  {
   "cell_type": "code",
   "execution_count": 51,
   "metadata": {},
   "outputs": [],
   "source": [
    "def transform (x):\n",
    "    return json.loads (x)"
   ]
  },
  {
   "cell_type": "code",
   "execution_count": 53,
   "metadata": {},
   "outputs": [],
   "source": [
    "y = recurrents['data'].apply(transform)"
   ]
  },
  {
   "cell_type": "code",
   "execution_count": 54,
   "metadata": {},
   "outputs": [],
   "source": [
    "data = pd.json_normalize(y)"
   ]
  },
  {
   "cell_type": "code",
   "execution_count": 55,
   "metadata": {},
   "outputs": [
    {
     "output_type": "execute_result",
     "data": {
      "text/plain": [
       "   lead_id campaign_id  form_id                           url_landing  \\\n",
       "0    33963         101    440.0  https://donar.cruzrojabogota.org.co/   \n",
       "1    33963         101    440.0  https://donar.cruzrojabogota.org.co/   \n",
       "2    33963         101    440.0  https://donar.cruzrojabogota.org.co/   \n",
       "3    33963         101    440.0  https://donar.cruzrojabogota.org.co/   \n",
       "4    33963         101    440.0  https://donar.cruzrojabogota.org.co/   \n",
       "\n",
       "  utm_campaign utm_source utm_medium utm_content utm_term    amount  ...  \\\n",
       "0         None       None       None        None     None  50000.00  ...   \n",
       "1         None       None       None        None     None  50000.00  ...   \n",
       "2         None       None       None        None     None  50000.00  ...   \n",
       "3         None       None       None        None     None  50000.00  ...   \n",
       "4         None       None       None        None     None  50000.00  ...   \n",
       "\n",
       "  reference_metadata.PRODUCTO  reference_metadata.DESCRIPCIÓN PRODUCTO  \\\n",
       "0                         NaN                                      NaN   \n",
       "1                         NaN                                      NaN   \n",
       "2                         NaN                                      NaN   \n",
       "3                         NaN                                      NaN   \n",
       "4                         NaN                                      NaN   \n",
       "\n",
       "  reference_metadata.ID PRODUCTO  reference_metadata.UNIDADES  \\\n",
       "0                            NaN                          NaN   \n",
       "1                            NaN                          NaN   \n",
       "2                            NaN                          NaN   \n",
       "3                            NaN                          NaN   \n",
       "4                            NaN                          NaN   \n",
       "\n",
       "  reference_metadata.PRECIO UNIDAD  reference_metadata.DESCUENTO  \\\n",
       "0                              NaN                           NaN   \n",
       "1                              NaN                           NaN   \n",
       "2                              NaN                           NaN   \n",
       "3                              NaN                           NaN   \n",
       "4                              NaN                           NaN   \n",
       "\n",
       "  reference_metadata.PRECIO CON DESCUENTO campaign_code_id metadata.quantity  \\\n",
       "0                                     NaN              NaN               NaN   \n",
       "1                                     NaN              NaN               NaN   \n",
       "2                                     NaN              NaN               NaN   \n",
       "3                                     NaN              NaN               NaN   \n",
       "4                                     NaN              NaN               NaN   \n",
       "\n",
       "  reference_metadata.quantity  \n",
       "0                         NaN  \n",
       "1                         NaN  \n",
       "2                         NaN  \n",
       "3                         NaN  \n",
       "4                         NaN  \n",
       "\n",
       "[5 rows x 106 columns]"
      ],
      "text/html": "<div>\n<style scoped>\n    .dataframe tbody tr th:only-of-type {\n        vertical-align: middle;\n    }\n\n    .dataframe tbody tr th {\n        vertical-align: top;\n    }\n\n    .dataframe thead th {\n        text-align: right;\n    }\n</style>\n<table border=\"1\" class=\"dataframe\">\n  <thead>\n    <tr style=\"text-align: right;\">\n      <th></th>\n      <th>lead_id</th>\n      <th>campaign_id</th>\n      <th>form_id</th>\n      <th>url_landing</th>\n      <th>utm_campaign</th>\n      <th>utm_source</th>\n      <th>utm_medium</th>\n      <th>utm_content</th>\n      <th>utm_term</th>\n      <th>amount</th>\n      <th>...</th>\n      <th>reference_metadata.PRODUCTO</th>\n      <th>reference_metadata.DESCRIPCIÓN PRODUCTO</th>\n      <th>reference_metadata.ID PRODUCTO</th>\n      <th>reference_metadata.UNIDADES</th>\n      <th>reference_metadata.PRECIO UNIDAD</th>\n      <th>reference_metadata.DESCUENTO</th>\n      <th>reference_metadata.PRECIO CON DESCUENTO</th>\n      <th>campaign_code_id</th>\n      <th>metadata.quantity</th>\n      <th>reference_metadata.quantity</th>\n    </tr>\n  </thead>\n  <tbody>\n    <tr>\n      <th>0</th>\n      <td>33963</td>\n      <td>101</td>\n      <td>440.0</td>\n      <td>https://donar.cruzrojabogota.org.co/</td>\n      <td>None</td>\n      <td>None</td>\n      <td>None</td>\n      <td>None</td>\n      <td>None</td>\n      <td>50000.00</td>\n      <td>...</td>\n      <td>NaN</td>\n      <td>NaN</td>\n      <td>NaN</td>\n      <td>NaN</td>\n      <td>NaN</td>\n      <td>NaN</td>\n      <td>NaN</td>\n      <td>NaN</td>\n      <td>NaN</td>\n      <td>NaN</td>\n    </tr>\n    <tr>\n      <th>1</th>\n      <td>33963</td>\n      <td>101</td>\n      <td>440.0</td>\n      <td>https://donar.cruzrojabogota.org.co/</td>\n      <td>None</td>\n      <td>None</td>\n      <td>None</td>\n      <td>None</td>\n      <td>None</td>\n      <td>50000.00</td>\n      <td>...</td>\n      <td>NaN</td>\n      <td>NaN</td>\n      <td>NaN</td>\n      <td>NaN</td>\n      <td>NaN</td>\n      <td>NaN</td>\n      <td>NaN</td>\n      <td>NaN</td>\n      <td>NaN</td>\n      <td>NaN</td>\n    </tr>\n    <tr>\n      <th>2</th>\n      <td>33963</td>\n      <td>101</td>\n      <td>440.0</td>\n      <td>https://donar.cruzrojabogota.org.co/</td>\n      <td>None</td>\n      <td>None</td>\n      <td>None</td>\n      <td>None</td>\n      <td>None</td>\n      <td>50000.00</td>\n      <td>...</td>\n      <td>NaN</td>\n      <td>NaN</td>\n      <td>NaN</td>\n      <td>NaN</td>\n      <td>NaN</td>\n      <td>NaN</td>\n      <td>NaN</td>\n      <td>NaN</td>\n      <td>NaN</td>\n      <td>NaN</td>\n    </tr>\n    <tr>\n      <th>3</th>\n      <td>33963</td>\n      <td>101</td>\n      <td>440.0</td>\n      <td>https://donar.cruzrojabogota.org.co/</td>\n      <td>None</td>\n      <td>None</td>\n      <td>None</td>\n      <td>None</td>\n      <td>None</td>\n      <td>50000.00</td>\n      <td>...</td>\n      <td>NaN</td>\n      <td>NaN</td>\n      <td>NaN</td>\n      <td>NaN</td>\n      <td>NaN</td>\n      <td>NaN</td>\n      <td>NaN</td>\n      <td>NaN</td>\n      <td>NaN</td>\n      <td>NaN</td>\n    </tr>\n    <tr>\n      <th>4</th>\n      <td>33963</td>\n      <td>101</td>\n      <td>440.0</td>\n      <td>https://donar.cruzrojabogota.org.co/</td>\n      <td>None</td>\n      <td>None</td>\n      <td>None</td>\n      <td>None</td>\n      <td>None</td>\n      <td>50000.00</td>\n      <td>...</td>\n      <td>NaN</td>\n      <td>NaN</td>\n      <td>NaN</td>\n      <td>NaN</td>\n      <td>NaN</td>\n      <td>NaN</td>\n      <td>NaN</td>\n      <td>NaN</td>\n      <td>NaN</td>\n      <td>NaN</td>\n    </tr>\n  </tbody>\n</table>\n<p>5 rows × 106 columns</p>\n</div>"
     },
     "metadata": {},
     "execution_count": 55
    }
   ],
   "source": [
    "data.head()"
   ]
  },
  {
   "cell_type": "code",
   "execution_count": 71,
   "metadata": {},
   "outputs": [],
   "source": [
    "# Concatenando os 2 data sets"
   ]
  },
  {
   "cell_type": "code",
   "execution_count": 67,
   "metadata": {},
   "outputs": [],
   "source": [
    "df_recur = pd.concat ([recurrents, data], axis=1)"
   ]
  },
  {
   "cell_type": "code",
   "execution_count": 68,
   "metadata": {},
   "outputs": [
    {
     "output_type": "execute_result",
     "data": {
      "text/plain": [
       "(72573, 142)"
      ]
     },
     "metadata": {},
     "execution_count": 68
    }
   ],
   "source": [
    "df_recur.shape"
   ]
  },
  {
   "cell_type": "code",
   "execution_count": 69,
   "metadata": {},
   "outputs": [
    {
     "output_type": "execute_result",
     "data": {
      "text/plain": [
       "   index  lead_idd  person_id  organization_idd  event_id  \\\n",
       "0   1369     33963      33771                18    827957   \n",
       "1   1370     33963      33771                18    826679   \n",
       "2   1371     33963      33771                18    836941   \n",
       "3   1372     33963      33771                18    830093   \n",
       "4   1373     33963      33771                18    839621   \n",
       "\n",
       "                                                data  \\\n",
       "0  {\"lead_id\":33963,\"campaign_id\":101,\"form_id\":4...   \n",
       "1  {\"lead_id\":33963,\"campaign_id\":101,\"form_id\":4...   \n",
       "2  {\"lead_id\":33963,\"campaign_id\":101,\"form_id\":4...   \n",
       "3  {\"lead_id\":33963,\"campaign_id\":101,\"form_id\":4...   \n",
       "4  {\"lead_id\":33963,\"campaign_id\":101,\"form_id\":4...   \n",
       "\n",
       "                  description     id  is_subscription   amount  ...  \\\n",
       "0  DONATIONFAILED_WEBHOOK: 51  70711             True  50000.0  ...   \n",
       "1  DONATIONFAILED_WEBHOOK: 51  70711             True  50000.0  ...   \n",
       "2  DONATIONFAILED_WEBHOOK: 51  70711             True  50000.0  ...   \n",
       "3  DONATIONFAILED_WEBHOOK: 51  70711             True  50000.0  ...   \n",
       "4  DONATIONFAILED_WEBHOOK: 51  70711             True  50000.0  ...   \n",
       "\n",
       "   reference_metadata.PRODUCTO reference_metadata.DESCRIPCIÓN PRODUCTO  \\\n",
       "0                          NaN                                     NaN   \n",
       "1                          NaN                                     NaN   \n",
       "2                          NaN                                     NaN   \n",
       "3                          NaN                                     NaN   \n",
       "4                          NaN                                     NaN   \n",
       "\n",
       "   reference_metadata.ID PRODUCTO reference_metadata.UNIDADES  \\\n",
       "0                             NaN                         NaN   \n",
       "1                             NaN                         NaN   \n",
       "2                             NaN                         NaN   \n",
       "3                             NaN                         NaN   \n",
       "4                             NaN                         NaN   \n",
       "\n",
       "   reference_metadata.PRECIO UNIDAD  reference_metadata.DESCUENTO  \\\n",
       "0                               NaN                           NaN   \n",
       "1                               NaN                           NaN   \n",
       "2                               NaN                           NaN   \n",
       "3                               NaN                           NaN   \n",
       "4                               NaN                           NaN   \n",
       "\n",
       "  reference_metadata.PRECIO CON DESCUENTO campaign_code_id metadata.quantity  \\\n",
       "0                                     NaN              NaN               NaN   \n",
       "1                                     NaN              NaN               NaN   \n",
       "2                                     NaN              NaN               NaN   \n",
       "3                                     NaN              NaN               NaN   \n",
       "4                                     NaN              NaN               NaN   \n",
       "\n",
       "   reference_metadata.quantity  \n",
       "0                          NaN  \n",
       "1                          NaN  \n",
       "2                          NaN  \n",
       "3                          NaN  \n",
       "4                          NaN  \n",
       "\n",
       "[5 rows x 142 columns]"
      ],
      "text/html": "<div>\n<style scoped>\n    .dataframe tbody tr th:only-of-type {\n        vertical-align: middle;\n    }\n\n    .dataframe tbody tr th {\n        vertical-align: top;\n    }\n\n    .dataframe thead th {\n        text-align: right;\n    }\n</style>\n<table border=\"1\" class=\"dataframe\">\n  <thead>\n    <tr style=\"text-align: right;\">\n      <th></th>\n      <th>index</th>\n      <th>lead_idd</th>\n      <th>person_id</th>\n      <th>organization_idd</th>\n      <th>event_id</th>\n      <th>data</th>\n      <th>description</th>\n      <th>id</th>\n      <th>is_subscription</th>\n      <th>amount</th>\n      <th>...</th>\n      <th>reference_metadata.PRODUCTO</th>\n      <th>reference_metadata.DESCRIPCIÓN PRODUCTO</th>\n      <th>reference_metadata.ID PRODUCTO</th>\n      <th>reference_metadata.UNIDADES</th>\n      <th>reference_metadata.PRECIO UNIDAD</th>\n      <th>reference_metadata.DESCUENTO</th>\n      <th>reference_metadata.PRECIO CON DESCUENTO</th>\n      <th>campaign_code_id</th>\n      <th>metadata.quantity</th>\n      <th>reference_metadata.quantity</th>\n    </tr>\n  </thead>\n  <tbody>\n    <tr>\n      <th>0</th>\n      <td>1369</td>\n      <td>33963</td>\n      <td>33771</td>\n      <td>18</td>\n      <td>827957</td>\n      <td>{\"lead_id\":33963,\"campaign_id\":101,\"form_id\":4...</td>\n      <td>DONATIONFAILED_WEBHOOK: 51</td>\n      <td>70711</td>\n      <td>True</td>\n      <td>50000.0</td>\n      <td>...</td>\n      <td>NaN</td>\n      <td>NaN</td>\n      <td>NaN</td>\n      <td>NaN</td>\n      <td>NaN</td>\n      <td>NaN</td>\n      <td>NaN</td>\n      <td>NaN</td>\n      <td>NaN</td>\n      <td>NaN</td>\n    </tr>\n    <tr>\n      <th>1</th>\n      <td>1370</td>\n      <td>33963</td>\n      <td>33771</td>\n      <td>18</td>\n      <td>826679</td>\n      <td>{\"lead_id\":33963,\"campaign_id\":101,\"form_id\":4...</td>\n      <td>DONATIONFAILED_WEBHOOK: 51</td>\n      <td>70711</td>\n      <td>True</td>\n      <td>50000.0</td>\n      <td>...</td>\n      <td>NaN</td>\n      <td>NaN</td>\n      <td>NaN</td>\n      <td>NaN</td>\n      <td>NaN</td>\n      <td>NaN</td>\n      <td>NaN</td>\n      <td>NaN</td>\n      <td>NaN</td>\n      <td>NaN</td>\n    </tr>\n    <tr>\n      <th>2</th>\n      <td>1371</td>\n      <td>33963</td>\n      <td>33771</td>\n      <td>18</td>\n      <td>836941</td>\n      <td>{\"lead_id\":33963,\"campaign_id\":101,\"form_id\":4...</td>\n      <td>DONATIONFAILED_WEBHOOK: 51</td>\n      <td>70711</td>\n      <td>True</td>\n      <td>50000.0</td>\n      <td>...</td>\n      <td>NaN</td>\n      <td>NaN</td>\n      <td>NaN</td>\n      <td>NaN</td>\n      <td>NaN</td>\n      <td>NaN</td>\n      <td>NaN</td>\n      <td>NaN</td>\n      <td>NaN</td>\n      <td>NaN</td>\n    </tr>\n    <tr>\n      <th>3</th>\n      <td>1372</td>\n      <td>33963</td>\n      <td>33771</td>\n      <td>18</td>\n      <td>830093</td>\n      <td>{\"lead_id\":33963,\"campaign_id\":101,\"form_id\":4...</td>\n      <td>DONATIONFAILED_WEBHOOK: 51</td>\n      <td>70711</td>\n      <td>True</td>\n      <td>50000.0</td>\n      <td>...</td>\n      <td>NaN</td>\n      <td>NaN</td>\n      <td>NaN</td>\n      <td>NaN</td>\n      <td>NaN</td>\n      <td>NaN</td>\n      <td>NaN</td>\n      <td>NaN</td>\n      <td>NaN</td>\n      <td>NaN</td>\n    </tr>\n    <tr>\n      <th>4</th>\n      <td>1373</td>\n      <td>33963</td>\n      <td>33771</td>\n      <td>18</td>\n      <td>839621</td>\n      <td>{\"lead_id\":33963,\"campaign_id\":101,\"form_id\":4...</td>\n      <td>DONATIONFAILED_WEBHOOK: 51</td>\n      <td>70711</td>\n      <td>True</td>\n      <td>50000.0</td>\n      <td>...</td>\n      <td>NaN</td>\n      <td>NaN</td>\n      <td>NaN</td>\n      <td>NaN</td>\n      <td>NaN</td>\n      <td>NaN</td>\n      <td>NaN</td>\n      <td>NaN</td>\n      <td>NaN</td>\n      <td>NaN</td>\n    </tr>\n  </tbody>\n</table>\n<p>5 rows × 142 columns</p>\n</div>"
     },
     "metadata": {},
     "execution_count": 69
    }
   ],
   "source": [
    "df_recur.head()"
   ]
  },
  {
   "cell_type": "code",
   "execution_count": 72,
   "metadata": {},
   "outputs": [
    {
     "output_type": "execute_result",
     "data": {
      "text/plain": [
       "Index(['index', 'lead_idd', 'person_id', 'organization_idd', 'event_id',\n",
       "       'data', 'description', 'id', 'is_subscription', 'amount',\n",
       "       ...\n",
       "       'reference_metadata.PRODUCTO',\n",
       "       'reference_metadata.DESCRIPCIÓN PRODUCTO',\n",
       "       'reference_metadata.ID PRODUCTO', 'reference_metadata.UNIDADES',\n",
       "       'reference_metadata.PRECIO UNIDAD', 'reference_metadata.DESCUENTO',\n",
       "       'reference_metadata.PRECIO CON DESCUENTO', 'campaign_code_id',\n",
       "       'metadata.quantity', 'reference_metadata.quantity'],\n",
       "      dtype='object', length=142)"
      ]
     },
     "metadata": {},
     "execution_count": 72
    }
   ],
   "source": [
    "df_recur.columns"
   ]
  },
  {
   "cell_type": "code",
   "execution_count": null,
   "metadata": {},
   "outputs": [],
   "source": [
    "# Comparando as colunas para entender duplicados"
   ]
  },
  {
   "cell_type": "code",
   "execution_count": 78,
   "metadata": {},
   "outputs": [
    {
     "output_type": "execute_result",
     "data": {
      "text/plain": [
       "False"
      ]
     },
     "metadata": {},
     "execution_count": 78
    }
   ],
   "source": [
    "df_recur.equals (['reference_metadata.countryAndCity', 'metadata.countryAndCity'])"
   ]
  },
  {
   "cell_type": "code",
   "execution_count": 76,
   "metadata": {},
   "outputs": [
    {
     "output_type": "execute_result",
     "data": {
      "text/plain": [
       "(72573,)"
      ]
     },
     "metadata": {},
     "execution_count": 76
    }
   ],
   "source": [
    "df_recur['reference_metadata.countryAndCity'].shape"
   ]
  },
  {
   "cell_type": "code",
   "execution_count": 77,
   "metadata": {},
   "outputs": [
    {
     "output_type": "execute_result",
     "data": {
      "text/plain": [
       "(72573,)"
      ]
     },
     "metadata": {},
     "execution_count": 77
    }
   ],
   "source": [
    "df_recur['metadata.countryAndCity'].shape"
   ]
  },
  {
   "cell_type": "code",
   "execution_count": 83,
   "metadata": {},
   "outputs": [
    {
     "output_type": "execute_result",
     "data": {
      "text/plain": [
       "       reference_metadata.countryAndCity            metadata.countryAndCity\n",
       "0        Colombia@@Bogotá@@3688685@@null                                NaN\n",
       "1        Colombia@@Bogotá@@3688685@@null                                NaN\n",
       "2        Colombia@@Bogotá@@3688685@@null                                NaN\n",
       "3        Colombia@@Bogotá@@3688685@@null                                NaN\n",
       "4        Colombia@@Bogotá@@3688685@@null                                NaN\n",
       "...                                  ...                                ...\n",
       "72568                                NaN          Peru@@Lima@@3936451@@null\n",
       "72569  Colombia@@Medellín@@3689815@@null                                NaN\n",
       "72570                                NaN  Colombia@@Medellín@@3689815@@null\n",
       "72571  Colombia@@Medellín@@3689815@@null  Colombia@@Medellín@@3689815@@null\n",
       "72572                                NaN                                NaN\n",
       "\n",
       "[72573 rows x 2 columns]"
      ],
      "text/html": "<div>\n<style scoped>\n    .dataframe tbody tr th:only-of-type {\n        vertical-align: middle;\n    }\n\n    .dataframe tbody tr th {\n        vertical-align: top;\n    }\n\n    .dataframe thead th {\n        text-align: right;\n    }\n</style>\n<table border=\"1\" class=\"dataframe\">\n  <thead>\n    <tr style=\"text-align: right;\">\n      <th></th>\n      <th>reference_metadata.countryAndCity</th>\n      <th>metadata.countryAndCity</th>\n    </tr>\n  </thead>\n  <tbody>\n    <tr>\n      <th>0</th>\n      <td>Colombia@@Bogotá@@3688685@@null</td>\n      <td>NaN</td>\n    </tr>\n    <tr>\n      <th>1</th>\n      <td>Colombia@@Bogotá@@3688685@@null</td>\n      <td>NaN</td>\n    </tr>\n    <tr>\n      <th>2</th>\n      <td>Colombia@@Bogotá@@3688685@@null</td>\n      <td>NaN</td>\n    </tr>\n    <tr>\n      <th>3</th>\n      <td>Colombia@@Bogotá@@3688685@@null</td>\n      <td>NaN</td>\n    </tr>\n    <tr>\n      <th>4</th>\n      <td>Colombia@@Bogotá@@3688685@@null</td>\n      <td>NaN</td>\n    </tr>\n    <tr>\n      <th>...</th>\n      <td>...</td>\n      <td>...</td>\n    </tr>\n    <tr>\n      <th>72568</th>\n      <td>NaN</td>\n      <td>Peru@@Lima@@3936451@@null</td>\n    </tr>\n    <tr>\n      <th>72569</th>\n      <td>Colombia@@Medellín@@3689815@@null</td>\n      <td>NaN</td>\n    </tr>\n    <tr>\n      <th>72570</th>\n      <td>NaN</td>\n      <td>Colombia@@Medellín@@3689815@@null</td>\n    </tr>\n    <tr>\n      <th>72571</th>\n      <td>Colombia@@Medellín@@3689815@@null</td>\n      <td>Colombia@@Medellín@@3689815@@null</td>\n    </tr>\n    <tr>\n      <th>72572</th>\n      <td>NaN</td>\n      <td>NaN</td>\n    </tr>\n  </tbody>\n</table>\n<p>72573 rows × 2 columns</p>\n</div>"
     },
     "metadata": {},
     "execution_count": 83
    }
   ],
   "source": [
    "df_recur [['reference_metadata.countryAndCity','metadata.countryAndCity']]"
   ]
  },
  {
   "cell_type": "code",
   "execution_count": 84,
   "metadata": {},
   "outputs": [
    {
     "output_type": "execute_result",
     "data": {
      "text/plain": [
       "      reference_metadata.operatingSystemName metadata.operatingSystemName\n",
       "0                                 Windows NT                          NaN\n",
       "1                                 Windows NT                          NaN\n",
       "2                                 Windows NT                          NaN\n",
       "3                                 Windows NT                          NaN\n",
       "4                                 Windows NT                          NaN\n",
       "...                                      ...                          ...\n",
       "72568                                    NaN                   Windows NT\n",
       "72569                                Android                          NaN\n",
       "72570                                    NaN                      Android\n",
       "72571                                Android                      Android\n",
       "72572                                    NaN                          NaN\n",
       "\n",
       "[72573 rows x 2 columns]"
      ],
      "text/html": "<div>\n<style scoped>\n    .dataframe tbody tr th:only-of-type {\n        vertical-align: middle;\n    }\n\n    .dataframe tbody tr th {\n        vertical-align: top;\n    }\n\n    .dataframe thead th {\n        text-align: right;\n    }\n</style>\n<table border=\"1\" class=\"dataframe\">\n  <thead>\n    <tr style=\"text-align: right;\">\n      <th></th>\n      <th>reference_metadata.operatingSystemName</th>\n      <th>metadata.operatingSystemName</th>\n    </tr>\n  </thead>\n  <tbody>\n    <tr>\n      <th>0</th>\n      <td>Windows NT</td>\n      <td>NaN</td>\n    </tr>\n    <tr>\n      <th>1</th>\n      <td>Windows NT</td>\n      <td>NaN</td>\n    </tr>\n    <tr>\n      <th>2</th>\n      <td>Windows NT</td>\n      <td>NaN</td>\n    </tr>\n    <tr>\n      <th>3</th>\n      <td>Windows NT</td>\n      <td>NaN</td>\n    </tr>\n    <tr>\n      <th>4</th>\n      <td>Windows NT</td>\n      <td>NaN</td>\n    </tr>\n    <tr>\n      <th>...</th>\n      <td>...</td>\n      <td>...</td>\n    </tr>\n    <tr>\n      <th>72568</th>\n      <td>NaN</td>\n      <td>Windows NT</td>\n    </tr>\n    <tr>\n      <th>72569</th>\n      <td>Android</td>\n      <td>NaN</td>\n    </tr>\n    <tr>\n      <th>72570</th>\n      <td>NaN</td>\n      <td>Android</td>\n    </tr>\n    <tr>\n      <th>72571</th>\n      <td>Android</td>\n      <td>Android</td>\n    </tr>\n    <tr>\n      <th>72572</th>\n      <td>NaN</td>\n      <td>NaN</td>\n    </tr>\n  </tbody>\n</table>\n<p>72573 rows × 2 columns</p>\n</div>"
     },
     "metadata": {},
     "execution_count": 84
    }
   ],
   "source": [
    "df_recur [['reference_metadata.operatingSystemName','metadata.operatingSystemName']]"
   ]
  },
  {
   "cell_type": "code",
   "execution_count": null,
   "metadata": {},
   "outputs": [],
   "source": []
  },
  {
   "cell_type": "code",
   "execution_count": null,
   "metadata": {},
   "outputs": [],
   "source": []
  },
  {
   "cell_type": "code",
   "execution_count": 73,
   "metadata": {},
   "outputs": [
    {
     "output_type": "stream",
     "name": "stdout",
     "text": [
      "index\nlead_idd\nperson_id\norganization_idd\nevent_id\ndata\ndescription\nid\nis_subscription\namount\nconversion_amount\ntransaction_gateway_code\nmonthly_plan_charge\nsubscription_gateway_code\nstate\nstatus\ncreated_at\nupdated_at\nnext_payment_date\ngateway_organization_id\ncampaign_id\ngateway_currency_id\nlead_id\norganization_id\ngatawey_json_response\nis_from_webhook\nis_intent\npayment_method\nis_manual\nmodule\nis_imported\nip\npayment_method_id\nfrequency_id\nsubscription_cycle_number\nrng\nlead_id\ncampaign_id\nform_id\nurl_landing\nutm_campaign\nutm_source\nutm_medium\nutm_content\nutm_term\namount\nconversion_amount\npayment_method\ngateway\ngatewayId\ntransaction_gateway_code\nreference_id\ncampaign\nform\nis_subscription\nmonthly_plan_charge\nreference_metadata.organizationId\nreference_metadata.countryAndCity\nreference_metadata.deviceCategory\nreference_metadata.userIp\nreference_metadata.userLocation.lon\nreference_metadata.userLocation.lat\nreference_metadata.operatingSystemFamily\nreference_metadata.operatingSystemName\nreference_metadata.sessionAdminSubDiv1\nreference_metadata.sessionCity\nreference_metadata.sessionCountryCode\nreference_metadata.sessionCountryName\nreference_metadata.userAgent\nreference_metadata.userAgentName\nreference_metadata.userAgentNameAndVersion\nreference_metadata.userAgentVersion\nreference_metadata.userWindowResolution\nreference_metadata.urlLanding\ncurrency.id\ncurrency.name\ncurrency.code\ncurrency.symbol\ncurrency.conversion_amount\ncurrency.created_at\ncurrency.updated_at\nreference_metadata\nreference_metadata.sessionIsp\nreference_metadata.utmCampaign\nreference_metadata.utmSource\nreference_metadata.utmMedium\ndonation_certificate_id\ndonation_id\ndonation_ids\ndonation_certificate_batch_id\nmetadata\nmetadata.organizationId\nmetadata.countryAndCity\nmetadata.deviceCategory\nmetadata.userIp\nmetadata.userLocation.lon\nmetadata.userLocation.lat\nmetadata.operatingSystemFamily\nmetadata.operatingSystemName\nmetadata.sessionAdminSubDiv1\nmetadata.sessionCity\nmetadata.sessionCountryCode\nmetadata.sessionCountryName\nmetadata.sessionIsp\nmetadata.userAgent\nmetadata.userAgentName\nmetadata.userAgentNameAndVersion\nmetadata.userAgentVersion\nmetadata.userWindowResolution\nmetadata.urlLanding\nmetadata.gateway.name\nmetadata.amount\nmetadata.is_subscription\nmetadata.form.name\nmetadata.campaign.name\nreference_metadata.gateway.name\nreference_metadata.amount\nreference_metadata.is_subscription\nreference_metadata.form.name\nreference_metadata.campaign.name\nreference_metadata.utmContent\nreference_metadata.utmTerm\nmetadata.utmCampaign\nmetadata.utmSource\nmetadata.utmMedium\nmetadata.utmContent\nmetadata.utmTerm\nreference_metadata.sessionAdminSubDiv2\nmetadata.sessionAdminSubDiv2\nreference_metadata.ID TIENDA\nreference_metadata.TIENDA\nreference_metadata.ID RAPPITENDERO\nreference_metadata.PRODUCTO\nreference_metadata.DESCRIPCIÓN PRODUCTO\nreference_metadata.ID PRODUCTO\nreference_metadata.UNIDADES\nreference_metadata.PRECIO UNIDAD\nreference_metadata.DESCUENTO\nreference_metadata.PRECIO CON DESCUENTO\ncampaign_code_id\nmetadata.quantity\nreference_metadata.quantity\n"
     ]
    }
   ],
   "source": [
    "for i in df_recur.columns:\n",
    "    print (i)"
   ]
  },
  {
   "cell_type": "code",
   "execution_count": 135,
   "metadata": {},
   "outputs": [],
   "source": [
    "df_recur_clean = df_recur.drop (['lead_id', 'campaign_id', 'form_id', 'url_landing', 'utm_campaign', 'utm_source', 'utm_medium', 'utm_content', 'utm_term', 'gatewayId', 'transaction_gateway_code', 'reference_id', 'campaign', 'form', 'reference_metadata.organizationId', 'metadata.organizationId' , 'reference_metadata.userIp', 'metadata.userIp','reference_metadata.sessionAdminSubDiv1', 'metadata.sessionAdminSubDiv1', 'reference_metadata.userAgent', 'metadata.userAgent', 'reference_metadata.userAgentNameAndVersion', 'metadata.userAgentNameAndVersion', 'reference_metadata.userAgentVersion', 'metadata.userAgentVersion', 'reference_metadata.urlLanding', 'metadata.urlLanding', 'currency.created_at', 'currency.updated_at', 'reference_metadata', 'reference_metadata.sessionIsp', 'reference_metadata.utmCampaign', 'reference_metadata.utmSource', 'reference_metadata.utmMedium', 'donation_certificate_id', 'donation_id', 'donation_ids', 'donation_certificate_batch_id', 'metadata', 'metadata.organizationId', 'metadata.urlLanding', 'metadata.form.name', 'metadata.campaign.name', 'reference_metadata.gateway.name', 'reference_metadata.amount', 'reference_metadata.is_subscription', 'reference_metadata.form.name', 'reference_metadata.campaign.name', 'reference_metadata.utmContent', 'reference_metadata.utmTerm', 'metadata.utmCampaign', 'metadata.utmSource', 'metadata.utmMedium', 'metadata.utmContent', 'metadata.utmTerm', 'reference_metadata.sessionAdminSubDiv2','reference_metadata.ID TIENDA', 'reference_metadata.TIENDA', 'reference_metadata.ID RAPPITENDERO', 'reference_metadata.PRODUCTO', 'reference_metadata.DESCRIPCIÓN PRODUCTO', 'reference_metadata.ID PRODUCTO', 'reference_metadata.PRODUCTO', 'reference_metadata.DESCRIPCIÓN PRODUCTO', 'reference_metadata.ID PRODUCTO', 'reference_metadata.UNIDADES', 'reference_metadata.PRECIO UNIDAD' , 'reference_metadata.DESCUENTO', 'reference_metadata.PRECIO CON DESCUENTO', 'campaign_code_id', 'metadata.quantity' , 'reference_metadata.quantity'], axis = 1)"
   ]
  },
  {
   "cell_type": "code",
   "execution_count": 136,
   "metadata": {},
   "outputs": [
    {
     "output_type": "execute_result",
     "data": {
      "text/plain": [
       "(72573, 71)"
      ]
     },
     "metadata": {},
     "execution_count": 136
    }
   ],
   "source": [
    "df_recur_clean.shape"
   ]
  },
  {
   "cell_type": "code",
   "execution_count": 137,
   "metadata": {},
   "outputs": [
    {
     "output_type": "execute_result",
     "data": {
      "text/plain": [
       "Index(['index', 'lead_idd', 'person_id', 'organization_idd', 'event_id',\n",
       "       'data', 'description', 'id', 'is_subscription', 'amount',\n",
       "       'conversion_amount', 'monthly_plan_charge', 'subscription_gateway_code',\n",
       "       'state', 'status', 'created_at', 'updated_at', 'next_payment_date',\n",
       "       'gateway_organization_id', 'gateway_currency_id', 'organization_id',\n",
       "       'gatawey_json_response', 'is_from_webhook', 'is_intent',\n",
       "       'payment_method', 'is_manual', 'module', 'is_imported', 'ip',\n",
       "       'payment_method_id', 'frequency_id', 'subscription_cycle_number', 'rng',\n",
       "       'amount', 'conversion_amount', 'payment_method', 'gateway',\n",
       "       'is_subscription', 'monthly_plan_charge',\n",
       "       'reference_metadata.countryAndCity',\n",
       "       'reference_metadata.deviceCategory',\n",
       "       'reference_metadata.userLocation.lon',\n",
       "       'reference_metadata.userLocation.lat',\n",
       "       'reference_metadata.operatingSystemFamily',\n",
       "       'reference_metadata.operatingSystemName',\n",
       "       'reference_metadata.sessionCity',\n",
       "       'reference_metadata.sessionCountryCode',\n",
       "       'reference_metadata.sessionCountryName',\n",
       "       'reference_metadata.userAgentName',\n",
       "       'reference_metadata.userWindowResolution', 'currency.id',\n",
       "       'currency.name', 'currency.code', 'currency.symbol',\n",
       "       'currency.conversion_amount', 'metadata.countryAndCity',\n",
       "       'metadata.deviceCategory', 'metadata.userLocation.lon',\n",
       "       'metadata.userLocation.lat', 'metadata.operatingSystemFamily',\n",
       "       'metadata.operatingSystemName', 'metadata.sessionCity',\n",
       "       'metadata.sessionCountryCode', 'metadata.sessionCountryName',\n",
       "       'metadata.sessionIsp', 'metadata.userAgentName',\n",
       "       'metadata.userWindowResolution', 'metadata.gateway.name',\n",
       "       'metadata.amount', 'metadata.is_subscription',\n",
       "       'metadata.sessionAdminSubDiv2'],\n",
       "      dtype='object')"
      ]
     },
     "metadata": {},
     "execution_count": 137
    }
   ],
   "source": [
    "df_recur_clean.columns"
   ]
  },
  {
   "cell_type": "code",
   "execution_count": 122,
   "metadata": {},
   "outputs": [],
   "source": [
    "# unindo 2 columnas com mesmas respostas em linhas diferentes - com um problema relacionado aos valores NaN. "
   ]
  },
  {
   "cell_type": "code",
   "execution_count": 128,
   "metadata": {},
   "outputs": [],
   "source": [
    "# df_recur_clean[['metadata.operatingSystemName', 'reference_metadata.operatingSystemName']].fillna ('' , inplace=True)"
   ]
  },
  {
   "cell_type": "code",
   "execution_count": 161,
   "metadata": {},
   "outputs": [],
   "source": [
    "# df_recur_clean['operating_system'] = df_recur_clean[['metadata.operatingSystemName', 'reference_metadata.operatingSystemName']].agg ('-'.join, axis = 1)"
   ]
  },
  {
   "cell_type": "code",
   "execution_count": 147,
   "metadata": {},
   "outputs": [],
   "source": [
    "#criando uma nova coluna que recebe as informações das 2 colunas e une com um hifen as duas informações \n",
    "df_recur_clean['operating_system'] = df_recur_clean['metadata.operatingSystemName'].astype(str) + ' - ' +  df_recur_clean ['reference_metadata.operatingSystemName'].astype(str)"
   ]
  },
  {
   "cell_type": "code",
   "execution_count": 148,
   "metadata": {},
   "outputs": [
    {
     "output_type": "execute_result",
     "data": {
      "text/plain": [
       "nan - nan                  54674\n",
       "nan - Windows NT            4264\n",
       "nan - Mac OS X              2139\n",
       "nan - Android               2096\n",
       "Windows NT - nan            1695\n",
       "nan - iOS                   1485\n",
       "Windows NT - Windows NT     1412\n",
       "Mac OS X - nan              1076\n",
       "Mac OS X - Mac OS X          769\n",
       "nan - Linux                  742\n",
       "Android - nan                738\n",
       "Android - Android            663\n",
       "iOS - nan                    425\n",
       "iOS - iOS                    371\n",
       "Linux - Linux                  6\n",
       "nan - Chrome OS                5\n",
       "Linux - nan                    4\n",
       "nan - Ubuntu                   4\n",
       "Chrome OS - Chrome OS          2\n",
       "Ubuntu - nan                   1\n",
       "Chrome OS - nan                1\n",
       "Ubuntu - Ubuntu                1\n",
       "Name: operating_system, dtype: int64"
      ]
     },
     "metadata": {},
     "execution_count": 148
    }
   ],
   "source": [
    "df_recur_clean['operating_system'].value_counts()"
   ]
  },
  {
   "cell_type": "code",
   "execution_count": 149,
   "metadata": {},
   "outputs": [],
   "source": [
    "# criei um novo dataset para facilitar o acréscimo das colunas \n",
    "teste = df_recur_clean[['metadata.operatingSystemName', 'reference_metadata.operatingSystemName']].fillna ('')"
   ]
  },
  {
   "cell_type": "code",
   "execution_count": 159,
   "metadata": {},
   "outputs": [],
   "source": [
    "teste['operating_system'] = teste['metadata.operatingSystemName'].astype(str) + '-' +  teste ['reference_metadata.operatingSystemName'].astype(str)"
   ]
  },
  {
   "cell_type": "code",
   "execution_count": 160,
   "metadata": {},
   "outputs": [
    {
     "output_type": "execute_result",
     "data": {
      "text/plain": [
       "-                        54674\n",
       "-Windows NT               4264\n",
       "-Mac OS X                 2139\n",
       "-Android                  2096\n",
       "Windows NT-               1695\n",
       "-iOS                      1485\n",
       "Windows NT-Windows NT     1412\n",
       "Mac OS X-                 1076\n",
       "Mac OS X-Mac OS X          769\n",
       "-Linux                     742\n",
       "Android-                   738\n",
       "Android-Android            663\n",
       "iOS-                       425\n",
       "iOS-iOS                    371\n",
       "Linux-Linux                  6\n",
       "-Chrome OS                   5\n",
       "-Ubuntu                      4\n",
       "Linux-                       4\n",
       "Chrome OS-Chrome OS          2\n",
       "Ubuntu-                      1\n",
       "Chrome OS-                   1\n",
       "Ubuntu-Ubuntu                1\n",
       "Name: operating_system, dtype: int64"
      ]
     },
     "metadata": {},
     "execution_count": 160
    }
   ],
   "source": [
    "teste['operating_system'].value_counts()"
   ]
  },
  {
   "cell_type": "code",
   "execution_count": null,
   "metadata": {},
   "outputs": [],
   "source": []
  }
 ]
}