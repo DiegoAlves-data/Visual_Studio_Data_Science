{
 "metadata": {
  "language_info": {
   "codemirror_mode": {
    "name": "ipython",
    "version": 3
   },
   "file_extension": ".py",
   "mimetype": "text/x-python",
   "name": "python",
   "nbconvert_exporter": "python",
   "pygments_lexer": "ipython3",
   "version": "3.8.3-final"
  },
  "orig_nbformat": 2,
  "kernelspec": {
   "name": "python3",
   "display_name": "Python 3",
   "language": "python"
  }
 },
 "nbformat": 4,
 "nbformat_minor": 2,
 "cells": [
  {
   "cell_type": "code",
   "execution_count": 107,
   "metadata": {},
   "outputs": [],
   "source": [
    "import pandas as pd \n",
    "import numpy as np \n",
    "import tqdm as tqdm \n",
    "import matplotlib.pyplot as plt \n",
    "import missingno\n",
    "import seaborn as sns\n",
    "import warnings\n",
    "import json \n",
    "import re\n",
    "\n",
    "warnings.filterwarnings('ignore') "
   ]
  },
  {
   "cell_type": "code",
   "execution_count": 2,
   "metadata": {},
   "outputs": [],
   "source": [
    "# Importando as bases de dados"
   ]
  },
  {
   "cell_type": "code",
   "execution_count": 3,
   "metadata": {},
   "outputs": [],
   "source": [
    "data_01 = pd.read_csv ('/Users/diegorodrigues/Documents/Iron_Hack/Part_Time_Jul_2020/000_Projects/Final/BBDD/12-12/data_01.csv')"
   ]
  },
  {
   "cell_type": "code",
   "execution_count": 4,
   "metadata": {},
   "outputs": [],
   "source": [
    "data_02 = pd.read_csv ('/Users/diegorodrigues/Documents/Iron_Hack/Part_Time_Jul_2020/000_Projects/Final/BBDD/12-12/data_02.csv')"
   ]
  },
  {
   "cell_type": "code",
   "execution_count": 5,
   "metadata": {},
   "outputs": [],
   "source": [
    "data_03 = pd.read_csv ('/Users/diegorodrigues/Documents/Iron_Hack/Part_Time_Jul_2020/000_Projects/Final/BBDD/12-12/data_03.csv')"
   ]
  },
  {
   "cell_type": "code",
   "execution_count": 6,
   "metadata": {},
   "outputs": [],
   "source": [
    "data_04 = pd.read_csv ('/Users/diegorodrigues/Documents/Iron_Hack/Part_Time_Jul_2020/000_Projects/Final/BBDD/12-12/data_04.csv')"
   ]
  },
  {
   "cell_type": "code",
   "execution_count": 7,
   "metadata": {},
   "outputs": [],
   "source": [
    "data_05 = pd.read_csv ('/Users/diegorodrigues/Documents/Iron_Hack/Part_Time_Jul_2020/000_Projects/Final/BBDD/12-12/data_05.csv')"
   ]
  },
  {
   "cell_type": "code",
   "execution_count": 8,
   "metadata": {},
   "outputs": [],
   "source": [
    "data_06 = pd.read_csv ('/Users/diegorodrigues/Documents/Iron_Hack/Part_Time_Jul_2020/000_Projects/Final/BBDD/12-12/data_06.csv')"
   ]
  },
  {
   "cell_type": "code",
   "execution_count": 9,
   "metadata": {},
   "outputs": [],
   "source": [
    "data_07 = pd.read_csv ('/Users/diegorodrigues/Documents/Iron_Hack/Part_Time_Jul_2020/000_Projects/Final/BBDD/12-12/data_07.csv')"
   ]
  },
  {
   "cell_type": "code",
   "execution_count": 10,
   "metadata": {},
   "outputs": [],
   "source": [
    "data_08 = pd.read_csv ('/Users/diegorodrigues/Documents/Iron_Hack/Part_Time_Jul_2020/000_Projects/Final/BBDD/12-12/data_08.csv')"
   ]
  },
  {
   "cell_type": "code",
   "execution_count": 11,
   "metadata": {},
   "outputs": [],
   "source": [
    "data_09 = pd.read_csv ('/Users/diegorodrigues/Documents/Iron_Hack/Part_Time_Jul_2020/000_Projects/Final/BBDD/12-12/data_09.csv')"
   ]
  },
  {
   "cell_type": "code",
   "execution_count": 12,
   "metadata": {},
   "outputs": [],
   "source": [
    "data_10 = pd.read_csv ('/Users/diegorodrigues/Documents/Iron_Hack/Part_Time_Jul_2020/000_Projects/Final/BBDD/12-12/data_10.csv')"
   ]
  },
  {
   "cell_type": "code",
   "execution_count": 13,
   "metadata": {},
   "outputs": [],
   "source": [
    "data_11 = pd.read_csv ('/Users/diegorodrigues/Documents/Iron_Hack/Part_Time_Jul_2020/000_Projects/Final/BBDD/12-12/data_11.csv')"
   ]
  },
  {
   "cell_type": "code",
   "execution_count": 14,
   "metadata": {},
   "outputs": [],
   "source": [
    "data_12 = pd.read_csv ('/Users/diegorodrigues/Documents/Iron_Hack/Part_Time_Jul_2020/000_Projects/Final/BBDD/12-12/data_12.csv')"
   ]
  },
  {
   "cell_type": "code",
   "execution_count": 15,
   "metadata": {},
   "outputs": [],
   "source": [
    "data_13 = pd.read_csv ('/Users/diegorodrigues/Documents/Iron_Hack/Part_Time_Jul_2020/000_Projects/Final/BBDD/12-12/data_13.csv')"
   ]
  },
  {
   "cell_type": "code",
   "execution_count": 16,
   "metadata": {},
   "outputs": [],
   "source": [
    "data_14 = pd.read_csv ('/Users/diegorodrigues/Documents/Iron_Hack/Part_Time_Jul_2020/000_Projects/Final/BBDD/12-12/data_14.csv')"
   ]
  },
  {
   "cell_type": "code",
   "execution_count": 17,
   "metadata": {},
   "outputs": [],
   "source": [
    "data_15 = pd.read_csv ('/Users/diegorodrigues/Documents/Iron_Hack/Part_Time_Jul_2020/000_Projects/Final/BBDD/12-12/data_15.csv')"
   ]
  },
  {
   "cell_type": "code",
   "execution_count": 18,
   "metadata": {},
   "outputs": [],
   "source": [
    "data_16 = pd.read_csv ('/Users/diegorodrigues/Documents/Iron_Hack/Part_Time_Jul_2020/000_Projects/Final/BBDD/12-12/data_16.csv')"
   ]
  },
  {
   "cell_type": "code",
   "execution_count": 19,
   "metadata": {},
   "outputs": [],
   "source": [
    "data_17 = pd.read_csv ('/Users/diegorodrigues/Documents/Iron_Hack/Part_Time_Jul_2020/000_Projects/Final/BBDD/12-12/data_17.csv')"
   ]
  },
  {
   "cell_type": "code",
   "execution_count": 20,
   "metadata": {},
   "outputs": [],
   "source": [
    "data_18 = pd.read_csv ('/Users/diegorodrigues/Documents/Iron_Hack/Part_Time_Jul_2020/000_Projects/Final/BBDD/12-12/data_18.csv')"
   ]
  },
  {
   "cell_type": "code",
   "execution_count": 21,
   "metadata": {},
   "outputs": [],
   "source": [
    "data_19 = pd.read_csv ('/Users/diegorodrigues/Documents/Iron_Hack/Part_Time_Jul_2020/000_Projects/Final/BBDD/12-12/data_19.csv')"
   ]
  },
  {
   "cell_type": "code",
   "execution_count": 22,
   "metadata": {},
   "outputs": [],
   "source": [
    "# concatenando os 19 dataframes em um"
   ]
  },
  {
   "cell_type": "code",
   "execution_count": 34,
   "metadata": {},
   "outputs": [],
   "source": [
    "df = pd.concat ([data_01, data_02, data_03, data_04, data_05, data_06, data_07, data_08, data_08, data_09, data_10, data_11, data_12, data_13, data_14, data_15, data_16, data_17, data_18, data_19])"
   ]
  },
  {
   "cell_type": "code",
   "execution_count": 35,
   "metadata": {},
   "outputs": [
    {
     "output_type": "execute_result",
     "data": {
      "text/plain": [
       "(1938916, 52)"
      ]
     },
     "metadata": {},
     "execution_count": 35
    }
   ],
   "source": [
    "df.shape"
   ]
  },
  {
   "cell_type": "code",
   "execution_count": 36,
   "metadata": {},
   "outputs": [
    {
     "output_type": "execute_result",
     "data": {
      "text/plain": [
       "Index(['lead_idd', 'person_id', 'organization_idd', 'event_id', 'data',\n",
       "       'description', 'id', 'is_subscription', 'amount', 'conversion_amount',\n",
       "       'appeal', 'fund', 'url_landing', 'utm_campaign', 'utm_source',\n",
       "       'utm_medium', 'utm_content', 'utm_term', 'transaction_gateway_code',\n",
       "       'monthly_plan_charge', 'subscription_gateway_code', 'state', 'status',\n",
       "       'created_at', 'updated_at', 'deleted_at', 'next_payment_date',\n",
       "       'gateway_organization_id', 'campaign_id', 'gateway_currency_id',\n",
       "       'lead_id', 'organization_id', 'form_id', 'gatawey_json_response',\n",
       "       'is_from_webhook', 'is_intent', 'payment_method', 'is_manual',\n",
       "       'metadata', 'module', 'is_imported', 'ip', 'payment_gateway_request',\n",
       "       'petition_id', 'payment_method_id', 'tax_relief', 'campaign_code_id',\n",
       "       'dpo_gift_id', 'frequency_id', 'subscription_cycle_number',\n",
       "       'landing_id', 'rng'],\n",
       "      dtype='object')"
      ]
     },
     "metadata": {},
     "execution_count": 36
    }
   ],
   "source": [
    "df.columns"
   ]
  },
  {
   "cell_type": "code",
   "execution_count": 37,
   "metadata": {},
   "outputs": [
    {
     "output_type": "execute_result",
     "data": {
      "text/plain": [
       "lead_idd                           0\n",
       "person_id                          0\n",
       "organization_idd                   0\n",
       "event_id                           0\n",
       "data                               0\n",
       "description                        0\n",
       "id                                 0\n",
       "is_subscription                    0\n",
       "amount                             0\n",
       "conversion_amount                  0\n",
       "appeal                       1938916\n",
       "fund                         1938916\n",
       "url_landing                  1253506\n",
       "utm_campaign                 1860395\n",
       "utm_source                   1863765\n",
       "utm_medium                   1858800\n",
       "utm_content                  1903539\n",
       "utm_term                     1905759\n",
       "transaction_gateway_code       82783\n",
       "monthly_plan_charge                0\n",
       "subscription_gateway_code     636227\n",
       "state                              0\n",
       "status                             0\n",
       "created_at                         0\n",
       "updated_at                         0\n",
       "deleted_at                   1938886\n",
       "next_payment_date            1553232\n",
       "gateway_organization_id       695409\n",
       "campaign_id                      604\n",
       "gateway_currency_id                4\n",
       "lead_id                            0\n",
       "organization_id                    0\n",
       "form_id                         1379\n",
       "gatawey_json_response          15359\n",
       "is_from_webhook                    0\n",
       "is_intent                          0\n",
       "payment_method                     0\n",
       "is_manual                          0\n",
       "metadata                     1381002\n",
       "module                             0\n",
       "is_imported                        0\n",
       "ip                           1679203\n",
       "payment_gateway_request      1746999\n",
       "petition_id                  1938916\n",
       "payment_method_id            1415844\n",
       "tax_relief                   1937883\n",
       "campaign_code_id             1923322\n",
       "dpo_gift_id                  1928178\n",
       "frequency_id                   56634\n",
       "subscription_cycle_number          0\n",
       "landing_id                   1938916\n",
       "rng                                0\n",
       "dtype: int64"
      ]
     },
     "metadata": {},
     "execution_count": 37
    }
   ],
   "source": [
    "df.isnull().sum()"
   ]
  },
  {
   "cell_type": "code",
   "execution_count": 38,
   "metadata": {},
   "outputs": [],
   "source": [
    "df_1 = df.drop (['appeal', 'fund', 'url_landing', 'utm_campaign', 'utm_source', 'utm_medium', 'utm_content', 'utm_content', 'utm_term', 'deleted_at', 'form_id', 'metadata', 'payment_gateway_request', 'petition_id', 'tax_relief', 'campaign_code_id', 'dpo_gift_id', 'landing_id'], axis=1)"
   ]
  },
  {
   "cell_type": "code",
   "execution_count": 39,
   "metadata": {},
   "outputs": [
    {
     "output_type": "execute_result",
     "data": {
      "text/plain": [
       "   lead_idd  person_id  organization_idd  event_id  \\\n",
       "0     33963      33771                18    827957   \n",
       "1     33963      33771                18    826679   \n",
       "2     33963      33771                18    836941   \n",
       "3     33963      33771                18    830093   \n",
       "4     33963      33771                18    839621   \n",
       "\n",
       "                                                data  \\\n",
       "0  {\"lead_id\":33963,\"campaign_id\":101,\"form_id\":4...   \n",
       "1  {\"lead_id\":33963,\"campaign_id\":101,\"form_id\":4...   \n",
       "2  {\"lead_id\":33963,\"campaign_id\":101,\"form_id\":4...   \n",
       "3  {\"lead_id\":33963,\"campaign_id\":101,\"form_id\":4...   \n",
       "4  {\"lead_id\":33963,\"campaign_id\":101,\"form_id\":4...   \n",
       "\n",
       "                  description     id  is_subscription   amount  \\\n",
       "0  DONATIONFAILED_WEBHOOK: 51  83884            False  50000.0   \n",
       "1  DONATIONFAILED_WEBHOOK: 51  83884            False  50000.0   \n",
       "2  DONATIONFAILED_WEBHOOK: 51  83884            False  50000.0   \n",
       "3  DONATIONFAILED_WEBHOOK: 51  83884            False  50000.0   \n",
       "4  DONATIONFAILED_WEBHOOK: 51  83884            False  50000.0   \n",
       "\n",
       "   conversion_amount  ... is_intent  payment_method is_manual  module  \\\n",
       "0            50000.0  ...     False               1     False       1   \n",
       "1            50000.0  ...     False               1     False       1   \n",
       "2            50000.0  ...     False               1     False       1   \n",
       "3            50000.0  ...     False               1     False       1   \n",
       "4            50000.0  ...     False               1     False       1   \n",
       "\n",
       "   is_imported   ip payment_method_id frequency_id  subscription_cycle_number  \\\n",
       "0        False  NaN               NaN          2.0                          2   \n",
       "1        False  NaN               NaN          2.0                          2   \n",
       "2        False  NaN               NaN          2.0                          2   \n",
       "3        False  NaN               NaN          2.0                          2   \n",
       "4        False  NaN               NaN          2.0                          2   \n",
       "\n",
       "        rng  \n",
       "0  0.734023  \n",
       "1  0.095331  \n",
       "2  0.253496  \n",
       "3  0.748214  \n",
       "4  0.800436  \n",
       "\n",
       "[5 rows x 35 columns]"
      ],
      "text/html": "<div>\n<style scoped>\n    .dataframe tbody tr th:only-of-type {\n        vertical-align: middle;\n    }\n\n    .dataframe tbody tr th {\n        vertical-align: top;\n    }\n\n    .dataframe thead th {\n        text-align: right;\n    }\n</style>\n<table border=\"1\" class=\"dataframe\">\n  <thead>\n    <tr style=\"text-align: right;\">\n      <th></th>\n      <th>lead_idd</th>\n      <th>person_id</th>\n      <th>organization_idd</th>\n      <th>event_id</th>\n      <th>data</th>\n      <th>description</th>\n      <th>id</th>\n      <th>is_subscription</th>\n      <th>amount</th>\n      <th>conversion_amount</th>\n      <th>...</th>\n      <th>is_intent</th>\n      <th>payment_method</th>\n      <th>is_manual</th>\n      <th>module</th>\n      <th>is_imported</th>\n      <th>ip</th>\n      <th>payment_method_id</th>\n      <th>frequency_id</th>\n      <th>subscription_cycle_number</th>\n      <th>rng</th>\n    </tr>\n  </thead>\n  <tbody>\n    <tr>\n      <th>0</th>\n      <td>33963</td>\n      <td>33771</td>\n      <td>18</td>\n      <td>827957</td>\n      <td>{\"lead_id\":33963,\"campaign_id\":101,\"form_id\":4...</td>\n      <td>DONATIONFAILED_WEBHOOK: 51</td>\n      <td>83884</td>\n      <td>False</td>\n      <td>50000.0</td>\n      <td>50000.0</td>\n      <td>...</td>\n      <td>False</td>\n      <td>1</td>\n      <td>False</td>\n      <td>1</td>\n      <td>False</td>\n      <td>NaN</td>\n      <td>NaN</td>\n      <td>2.0</td>\n      <td>2</td>\n      <td>0.734023</td>\n    </tr>\n    <tr>\n      <th>1</th>\n      <td>33963</td>\n      <td>33771</td>\n      <td>18</td>\n      <td>826679</td>\n      <td>{\"lead_id\":33963,\"campaign_id\":101,\"form_id\":4...</td>\n      <td>DONATIONFAILED_WEBHOOK: 51</td>\n      <td>83884</td>\n      <td>False</td>\n      <td>50000.0</td>\n      <td>50000.0</td>\n      <td>...</td>\n      <td>False</td>\n      <td>1</td>\n      <td>False</td>\n      <td>1</td>\n      <td>False</td>\n      <td>NaN</td>\n      <td>NaN</td>\n      <td>2.0</td>\n      <td>2</td>\n      <td>0.095331</td>\n    </tr>\n    <tr>\n      <th>2</th>\n      <td>33963</td>\n      <td>33771</td>\n      <td>18</td>\n      <td>836941</td>\n      <td>{\"lead_id\":33963,\"campaign_id\":101,\"form_id\":4...</td>\n      <td>DONATIONFAILED_WEBHOOK: 51</td>\n      <td>83884</td>\n      <td>False</td>\n      <td>50000.0</td>\n      <td>50000.0</td>\n      <td>...</td>\n      <td>False</td>\n      <td>1</td>\n      <td>False</td>\n      <td>1</td>\n      <td>False</td>\n      <td>NaN</td>\n      <td>NaN</td>\n      <td>2.0</td>\n      <td>2</td>\n      <td>0.253496</td>\n    </tr>\n    <tr>\n      <th>3</th>\n      <td>33963</td>\n      <td>33771</td>\n      <td>18</td>\n      <td>830093</td>\n      <td>{\"lead_id\":33963,\"campaign_id\":101,\"form_id\":4...</td>\n      <td>DONATIONFAILED_WEBHOOK: 51</td>\n      <td>83884</td>\n      <td>False</td>\n      <td>50000.0</td>\n      <td>50000.0</td>\n      <td>...</td>\n      <td>False</td>\n      <td>1</td>\n      <td>False</td>\n      <td>1</td>\n      <td>False</td>\n      <td>NaN</td>\n      <td>NaN</td>\n      <td>2.0</td>\n      <td>2</td>\n      <td>0.748214</td>\n    </tr>\n    <tr>\n      <th>4</th>\n      <td>33963</td>\n      <td>33771</td>\n      <td>18</td>\n      <td>839621</td>\n      <td>{\"lead_id\":33963,\"campaign_id\":101,\"form_id\":4...</td>\n      <td>DONATIONFAILED_WEBHOOK: 51</td>\n      <td>83884</td>\n      <td>False</td>\n      <td>50000.0</td>\n      <td>50000.0</td>\n      <td>...</td>\n      <td>False</td>\n      <td>1</td>\n      <td>False</td>\n      <td>1</td>\n      <td>False</td>\n      <td>NaN</td>\n      <td>NaN</td>\n      <td>2.0</td>\n      <td>2</td>\n      <td>0.800436</td>\n    </tr>\n  </tbody>\n</table>\n<p>5 rows × 35 columns</p>\n</div>"
     },
     "metadata": {},
     "execution_count": 39
    }
   ],
   "source": [
    "df_1.head()"
   ]
  },
  {
   "cell_type": "code",
   "execution_count": 40,
   "metadata": {},
   "outputs": [
    {
     "output_type": "error",
     "ename": "IndentationError",
     "evalue": "unexpected indent (<ipython-input-40-cc093537dfff>, line 3)",
     "traceback": [
      "\u001b[0;36m  File \u001b[0;32m\"<ipython-input-40-cc093537dfff>\"\u001b[0;36m, line \u001b[0;32m3\u001b[0m\n\u001b[0;31m    is_subscription: false,\u001b[0m\n\u001b[0m    ^\u001b[0m\n\u001b[0;31mIndentationError\u001b[0m\u001b[0;31m:\u001b[0m unexpected indent\n"
     ]
    }
   ],
   "source": [
    "# Obtener donaciones únicas:\n",
    "\n",
    "                is_subscription: false,\n",
    "\n",
    "                monthly_plan_charge: false,\n",
    "\n",
    "                is_intent: false,\n",
    "\n",
    "                state: 2\n",
    "\n",
    "                \n",
    "\n",
    "                \n",
    "\n",
    "                Obtener recurrencias:\n",
    "\n",
    "                \n",
    "\n",
    "                is_subscription: true,\n",
    "\n",
    "                monthly_plan_charge: false,\n",
    "\n",
    "                is_intent: false,\n",
    "\n",
    "                state: 3\n",
    "\n",
    "                \n",
    "\n",
    "                Obtener cargos de suscripción:\n",
    "\n",
    "                \n",
    "\n",
    "                is_subscription: false,\n",
    "\n",
    "                monthly_plan_charge: true,\n",
    "\n",
    "                is_intent: false,\n",
    "\n",
    "                state: 2 "
   ]
  },
  {
   "cell_type": "code",
   "execution_count": 41,
   "metadata": {},
   "outputs": [],
   "source": [
    "# filtrando apenas as doações recorrentes"
   ]
  },
  {
   "cell_type": "code",
   "execution_count": 42,
   "metadata": {},
   "outputs": [],
   "source": [
    "mask_recurrents = (df_1['is_subscription'] == True) & (df_1['monthly_plan_charge'] == False) & (df_1['is_intent'] == False) & (df_1['state'] == 3)"
   ]
  },
  {
   "cell_type": "code",
   "execution_count": 43,
   "metadata": {},
   "outputs": [],
   "source": [
    "recurrents = df_1.loc[mask_recurrents, :]"
   ]
  },
  {
   "cell_type": "code",
   "execution_count": 44,
   "metadata": {},
   "outputs": [
    {
     "output_type": "execute_result",
     "data": {
      "text/plain": [
       "      lead_idd  person_id  organization_idd  event_id  \\\n",
       "1369     33963      33771                18    827957   \n",
       "1370     33963      33771                18    826679   \n",
       "1371     33963      33771                18    836941   \n",
       "1372     33963      33771                18    830093   \n",
       "1373     33963      33771                18    839621   \n",
       "\n",
       "                                                   data  \\\n",
       "1369  {\"lead_id\":33963,\"campaign_id\":101,\"form_id\":4...   \n",
       "1370  {\"lead_id\":33963,\"campaign_id\":101,\"form_id\":4...   \n",
       "1371  {\"lead_id\":33963,\"campaign_id\":101,\"form_id\":4...   \n",
       "1372  {\"lead_id\":33963,\"campaign_id\":101,\"form_id\":4...   \n",
       "1373  {\"lead_id\":33963,\"campaign_id\":101,\"form_id\":4...   \n",
       "\n",
       "                     description     id  is_subscription   amount  \\\n",
       "1369  DONATIONFAILED_WEBHOOK: 51  70711             True  50000.0   \n",
       "1370  DONATIONFAILED_WEBHOOK: 51  70711             True  50000.0   \n",
       "1371  DONATIONFAILED_WEBHOOK: 51  70711             True  50000.0   \n",
       "1372  DONATIONFAILED_WEBHOOK: 51  70711             True  50000.0   \n",
       "1373  DONATIONFAILED_WEBHOOK: 51  70711             True  50000.0   \n",
       "\n",
       "      conversion_amount  ... is_intent  payment_method is_manual  module  \\\n",
       "1369            50000.0  ...     False               1     False       1   \n",
       "1370            50000.0  ...     False               1     False       1   \n",
       "1371            50000.0  ...     False               1     False       1   \n",
       "1372            50000.0  ...     False               1     False       1   \n",
       "1373            50000.0  ...     False               1     False       1   \n",
       "\n",
       "      is_imported             ip payment_method_id frequency_id  \\\n",
       "1369        False  186.28.173.92               NaN          2.0   \n",
       "1370        False  186.28.173.92               NaN          2.0   \n",
       "1371        False  186.28.173.92               NaN          2.0   \n",
       "1372        False  186.28.173.92               NaN          2.0   \n",
       "1373        False  186.28.173.92               NaN          2.0   \n",
       "\n",
       "      subscription_cycle_number       rng  \n",
       "1369                          7  0.434643  \n",
       "1370                          7  0.287592  \n",
       "1371                          7  0.994683  \n",
       "1372                          7  0.002717  \n",
       "1373                          7  0.480003  \n",
       "\n",
       "[5 rows x 35 columns]"
      ],
      "text/html": "<div>\n<style scoped>\n    .dataframe tbody tr th:only-of-type {\n        vertical-align: middle;\n    }\n\n    .dataframe tbody tr th {\n        vertical-align: top;\n    }\n\n    .dataframe thead th {\n        text-align: right;\n    }\n</style>\n<table border=\"1\" class=\"dataframe\">\n  <thead>\n    <tr style=\"text-align: right;\">\n      <th></th>\n      <th>lead_idd</th>\n      <th>person_id</th>\n      <th>organization_idd</th>\n      <th>event_id</th>\n      <th>data</th>\n      <th>description</th>\n      <th>id</th>\n      <th>is_subscription</th>\n      <th>amount</th>\n      <th>conversion_amount</th>\n      <th>...</th>\n      <th>is_intent</th>\n      <th>payment_method</th>\n      <th>is_manual</th>\n      <th>module</th>\n      <th>is_imported</th>\n      <th>ip</th>\n      <th>payment_method_id</th>\n      <th>frequency_id</th>\n      <th>subscription_cycle_number</th>\n      <th>rng</th>\n    </tr>\n  </thead>\n  <tbody>\n    <tr>\n      <th>1369</th>\n      <td>33963</td>\n      <td>33771</td>\n      <td>18</td>\n      <td>827957</td>\n      <td>{\"lead_id\":33963,\"campaign_id\":101,\"form_id\":4...</td>\n      <td>DONATIONFAILED_WEBHOOK: 51</td>\n      <td>70711</td>\n      <td>True</td>\n      <td>50000.0</td>\n      <td>50000.0</td>\n      <td>...</td>\n      <td>False</td>\n      <td>1</td>\n      <td>False</td>\n      <td>1</td>\n      <td>False</td>\n      <td>186.28.173.92</td>\n      <td>NaN</td>\n      <td>2.0</td>\n      <td>7</td>\n      <td>0.434643</td>\n    </tr>\n    <tr>\n      <th>1370</th>\n      <td>33963</td>\n      <td>33771</td>\n      <td>18</td>\n      <td>826679</td>\n      <td>{\"lead_id\":33963,\"campaign_id\":101,\"form_id\":4...</td>\n      <td>DONATIONFAILED_WEBHOOK: 51</td>\n      <td>70711</td>\n      <td>True</td>\n      <td>50000.0</td>\n      <td>50000.0</td>\n      <td>...</td>\n      <td>False</td>\n      <td>1</td>\n      <td>False</td>\n      <td>1</td>\n      <td>False</td>\n      <td>186.28.173.92</td>\n      <td>NaN</td>\n      <td>2.0</td>\n      <td>7</td>\n      <td>0.287592</td>\n    </tr>\n    <tr>\n      <th>1371</th>\n      <td>33963</td>\n      <td>33771</td>\n      <td>18</td>\n      <td>836941</td>\n      <td>{\"lead_id\":33963,\"campaign_id\":101,\"form_id\":4...</td>\n      <td>DONATIONFAILED_WEBHOOK: 51</td>\n      <td>70711</td>\n      <td>True</td>\n      <td>50000.0</td>\n      <td>50000.0</td>\n      <td>...</td>\n      <td>False</td>\n      <td>1</td>\n      <td>False</td>\n      <td>1</td>\n      <td>False</td>\n      <td>186.28.173.92</td>\n      <td>NaN</td>\n      <td>2.0</td>\n      <td>7</td>\n      <td>0.994683</td>\n    </tr>\n    <tr>\n      <th>1372</th>\n      <td>33963</td>\n      <td>33771</td>\n      <td>18</td>\n      <td>830093</td>\n      <td>{\"lead_id\":33963,\"campaign_id\":101,\"form_id\":4...</td>\n      <td>DONATIONFAILED_WEBHOOK: 51</td>\n      <td>70711</td>\n      <td>True</td>\n      <td>50000.0</td>\n      <td>50000.0</td>\n      <td>...</td>\n      <td>False</td>\n      <td>1</td>\n      <td>False</td>\n      <td>1</td>\n      <td>False</td>\n      <td>186.28.173.92</td>\n      <td>NaN</td>\n      <td>2.0</td>\n      <td>7</td>\n      <td>0.002717</td>\n    </tr>\n    <tr>\n      <th>1373</th>\n      <td>33963</td>\n      <td>33771</td>\n      <td>18</td>\n      <td>839621</td>\n      <td>{\"lead_id\":33963,\"campaign_id\":101,\"form_id\":4...</td>\n      <td>DONATIONFAILED_WEBHOOK: 51</td>\n      <td>70711</td>\n      <td>True</td>\n      <td>50000.0</td>\n      <td>50000.0</td>\n      <td>...</td>\n      <td>False</td>\n      <td>1</td>\n      <td>False</td>\n      <td>1</td>\n      <td>False</td>\n      <td>186.28.173.92</td>\n      <td>NaN</td>\n      <td>2.0</td>\n      <td>7</td>\n      <td>0.480003</td>\n    </tr>\n  </tbody>\n</table>\n<p>5 rows × 35 columns</p>\n</div>"
     },
     "metadata": {},
     "execution_count": 44
    }
   ],
   "source": [
    "recurrents.head()"
   ]
  },
  {
   "cell_type": "code",
   "execution_count": 45,
   "metadata": {},
   "outputs": [],
   "source": [
    "recurrents = recurrents.reset_index()"
   ]
  },
  {
   "cell_type": "code",
   "execution_count": 46,
   "metadata": {},
   "outputs": [
    {
     "output_type": "execute_result",
     "data": {
      "text/plain": [
       "(72573, 36)"
      ]
     },
     "metadata": {},
     "execution_count": 46
    }
   ],
   "source": [
    "recurrents.shape"
   ]
  },
  {
   "cell_type": "code",
   "execution_count": 47,
   "metadata": {},
   "outputs": [],
   "source": [
    "# extraindo os Json da coluna Data e salvando em um novo dataset"
   ]
  },
  {
   "cell_type": "code",
   "execution_count": 48,
   "metadata": {},
   "outputs": [],
   "source": [
    "def transform (x):\n",
    "    return json.loads (x)"
   ]
  },
  {
   "cell_type": "code",
   "execution_count": 49,
   "metadata": {},
   "outputs": [],
   "source": [
    "y = recurrents['data'].apply(transform)"
   ]
  },
  {
   "cell_type": "code",
   "execution_count": 50,
   "metadata": {},
   "outputs": [],
   "source": [
    "data = pd.json_normalize(y)"
   ]
  },
  {
   "cell_type": "code",
   "execution_count": 51,
   "metadata": {},
   "outputs": [
    {
     "output_type": "execute_result",
     "data": {
      "text/plain": [
       "   lead_id campaign_id  form_id                           url_landing  \\\n",
       "0    33963         101    440.0  https://donar.cruzrojabogota.org.co/   \n",
       "1    33963         101    440.0  https://donar.cruzrojabogota.org.co/   \n",
       "2    33963         101    440.0  https://donar.cruzrojabogota.org.co/   \n",
       "3    33963         101    440.0  https://donar.cruzrojabogota.org.co/   \n",
       "4    33963         101    440.0  https://donar.cruzrojabogota.org.co/   \n",
       "\n",
       "  utm_campaign utm_source utm_medium utm_content utm_term    amount  ...  \\\n",
       "0         None       None       None        None     None  50000.00  ...   \n",
       "1         None       None       None        None     None  50000.00  ...   \n",
       "2         None       None       None        None     None  50000.00  ...   \n",
       "3         None       None       None        None     None  50000.00  ...   \n",
       "4         None       None       None        None     None  50000.00  ...   \n",
       "\n",
       "  reference_metadata.PRODUCTO  reference_metadata.DESCRIPCIÓN PRODUCTO  \\\n",
       "0                         NaN                                      NaN   \n",
       "1                         NaN                                      NaN   \n",
       "2                         NaN                                      NaN   \n",
       "3                         NaN                                      NaN   \n",
       "4                         NaN                                      NaN   \n",
       "\n",
       "  reference_metadata.ID PRODUCTO  reference_metadata.UNIDADES  \\\n",
       "0                            NaN                          NaN   \n",
       "1                            NaN                          NaN   \n",
       "2                            NaN                          NaN   \n",
       "3                            NaN                          NaN   \n",
       "4                            NaN                          NaN   \n",
       "\n",
       "  reference_metadata.PRECIO UNIDAD  reference_metadata.DESCUENTO  \\\n",
       "0                              NaN                           NaN   \n",
       "1                              NaN                           NaN   \n",
       "2                              NaN                           NaN   \n",
       "3                              NaN                           NaN   \n",
       "4                              NaN                           NaN   \n",
       "\n",
       "  reference_metadata.PRECIO CON DESCUENTO campaign_code_id metadata.quantity  \\\n",
       "0                                     NaN              NaN               NaN   \n",
       "1                                     NaN              NaN               NaN   \n",
       "2                                     NaN              NaN               NaN   \n",
       "3                                     NaN              NaN               NaN   \n",
       "4                                     NaN              NaN               NaN   \n",
       "\n",
       "  reference_metadata.quantity  \n",
       "0                         NaN  \n",
       "1                         NaN  \n",
       "2                         NaN  \n",
       "3                         NaN  \n",
       "4                         NaN  \n",
       "\n",
       "[5 rows x 106 columns]"
      ],
      "text/html": "<div>\n<style scoped>\n    .dataframe tbody tr th:only-of-type {\n        vertical-align: middle;\n    }\n\n    .dataframe tbody tr th {\n        vertical-align: top;\n    }\n\n    .dataframe thead th {\n        text-align: right;\n    }\n</style>\n<table border=\"1\" class=\"dataframe\">\n  <thead>\n    <tr style=\"text-align: right;\">\n      <th></th>\n      <th>lead_id</th>\n      <th>campaign_id</th>\n      <th>form_id</th>\n      <th>url_landing</th>\n      <th>utm_campaign</th>\n      <th>utm_source</th>\n      <th>utm_medium</th>\n      <th>utm_content</th>\n      <th>utm_term</th>\n      <th>amount</th>\n      <th>...</th>\n      <th>reference_metadata.PRODUCTO</th>\n      <th>reference_metadata.DESCRIPCIÓN PRODUCTO</th>\n      <th>reference_metadata.ID PRODUCTO</th>\n      <th>reference_metadata.UNIDADES</th>\n      <th>reference_metadata.PRECIO UNIDAD</th>\n      <th>reference_metadata.DESCUENTO</th>\n      <th>reference_metadata.PRECIO CON DESCUENTO</th>\n      <th>campaign_code_id</th>\n      <th>metadata.quantity</th>\n      <th>reference_metadata.quantity</th>\n    </tr>\n  </thead>\n  <tbody>\n    <tr>\n      <th>0</th>\n      <td>33963</td>\n      <td>101</td>\n      <td>440.0</td>\n      <td>https://donar.cruzrojabogota.org.co/</td>\n      <td>None</td>\n      <td>None</td>\n      <td>None</td>\n      <td>None</td>\n      <td>None</td>\n      <td>50000.00</td>\n      <td>...</td>\n      <td>NaN</td>\n      <td>NaN</td>\n      <td>NaN</td>\n      <td>NaN</td>\n      <td>NaN</td>\n      <td>NaN</td>\n      <td>NaN</td>\n      <td>NaN</td>\n      <td>NaN</td>\n      <td>NaN</td>\n    </tr>\n    <tr>\n      <th>1</th>\n      <td>33963</td>\n      <td>101</td>\n      <td>440.0</td>\n      <td>https://donar.cruzrojabogota.org.co/</td>\n      <td>None</td>\n      <td>None</td>\n      <td>None</td>\n      <td>None</td>\n      <td>None</td>\n      <td>50000.00</td>\n      <td>...</td>\n      <td>NaN</td>\n      <td>NaN</td>\n      <td>NaN</td>\n      <td>NaN</td>\n      <td>NaN</td>\n      <td>NaN</td>\n      <td>NaN</td>\n      <td>NaN</td>\n      <td>NaN</td>\n      <td>NaN</td>\n    </tr>\n    <tr>\n      <th>2</th>\n      <td>33963</td>\n      <td>101</td>\n      <td>440.0</td>\n      <td>https://donar.cruzrojabogota.org.co/</td>\n      <td>None</td>\n      <td>None</td>\n      <td>None</td>\n      <td>None</td>\n      <td>None</td>\n      <td>50000.00</td>\n      <td>...</td>\n      <td>NaN</td>\n      <td>NaN</td>\n      <td>NaN</td>\n      <td>NaN</td>\n      <td>NaN</td>\n      <td>NaN</td>\n      <td>NaN</td>\n      <td>NaN</td>\n      <td>NaN</td>\n      <td>NaN</td>\n    </tr>\n    <tr>\n      <th>3</th>\n      <td>33963</td>\n      <td>101</td>\n      <td>440.0</td>\n      <td>https://donar.cruzrojabogota.org.co/</td>\n      <td>None</td>\n      <td>None</td>\n      <td>None</td>\n      <td>None</td>\n      <td>None</td>\n      <td>50000.00</td>\n      <td>...</td>\n      <td>NaN</td>\n      <td>NaN</td>\n      <td>NaN</td>\n      <td>NaN</td>\n      <td>NaN</td>\n      <td>NaN</td>\n      <td>NaN</td>\n      <td>NaN</td>\n      <td>NaN</td>\n      <td>NaN</td>\n    </tr>\n    <tr>\n      <th>4</th>\n      <td>33963</td>\n      <td>101</td>\n      <td>440.0</td>\n      <td>https://donar.cruzrojabogota.org.co/</td>\n      <td>None</td>\n      <td>None</td>\n      <td>None</td>\n      <td>None</td>\n      <td>None</td>\n      <td>50000.00</td>\n      <td>...</td>\n      <td>NaN</td>\n      <td>NaN</td>\n      <td>NaN</td>\n      <td>NaN</td>\n      <td>NaN</td>\n      <td>NaN</td>\n      <td>NaN</td>\n      <td>NaN</td>\n      <td>NaN</td>\n      <td>NaN</td>\n    </tr>\n  </tbody>\n</table>\n<p>5 rows × 106 columns</p>\n</div>"
     },
     "metadata": {},
     "execution_count": 51
    }
   ],
   "source": [
    "data.head()"
   ]
  },
  {
   "cell_type": "code",
   "execution_count": 52,
   "metadata": {},
   "outputs": [],
   "source": [
    "# Concatenando os 2 data sets"
   ]
  },
  {
   "cell_type": "code",
   "execution_count": 53,
   "metadata": {},
   "outputs": [],
   "source": [
    "df_recur = pd.concat ([recurrents, data], axis=1)"
   ]
  },
  {
   "cell_type": "code",
   "execution_count": 54,
   "metadata": {},
   "outputs": [
    {
     "output_type": "execute_result",
     "data": {
      "text/plain": [
       "(72573, 142)"
      ]
     },
     "metadata": {},
     "execution_count": 54
    }
   ],
   "source": [
    "df_recur.shape"
   ]
  },
  {
   "cell_type": "code",
   "execution_count": 55,
   "metadata": {},
   "outputs": [
    {
     "output_type": "execute_result",
     "data": {
      "text/plain": [
       "   index  lead_idd  person_id  organization_idd  event_id  \\\n",
       "0   1369     33963      33771                18    827957   \n",
       "1   1370     33963      33771                18    826679   \n",
       "2   1371     33963      33771                18    836941   \n",
       "3   1372     33963      33771                18    830093   \n",
       "4   1373     33963      33771                18    839621   \n",
       "\n",
       "                                                data  \\\n",
       "0  {\"lead_id\":33963,\"campaign_id\":101,\"form_id\":4...   \n",
       "1  {\"lead_id\":33963,\"campaign_id\":101,\"form_id\":4...   \n",
       "2  {\"lead_id\":33963,\"campaign_id\":101,\"form_id\":4...   \n",
       "3  {\"lead_id\":33963,\"campaign_id\":101,\"form_id\":4...   \n",
       "4  {\"lead_id\":33963,\"campaign_id\":101,\"form_id\":4...   \n",
       "\n",
       "                  description     id  is_subscription   amount  ...  \\\n",
       "0  DONATIONFAILED_WEBHOOK: 51  70711             True  50000.0  ...   \n",
       "1  DONATIONFAILED_WEBHOOK: 51  70711             True  50000.0  ...   \n",
       "2  DONATIONFAILED_WEBHOOK: 51  70711             True  50000.0  ...   \n",
       "3  DONATIONFAILED_WEBHOOK: 51  70711             True  50000.0  ...   \n",
       "4  DONATIONFAILED_WEBHOOK: 51  70711             True  50000.0  ...   \n",
       "\n",
       "   reference_metadata.PRODUCTO reference_metadata.DESCRIPCIÓN PRODUCTO  \\\n",
       "0                          NaN                                     NaN   \n",
       "1                          NaN                                     NaN   \n",
       "2                          NaN                                     NaN   \n",
       "3                          NaN                                     NaN   \n",
       "4                          NaN                                     NaN   \n",
       "\n",
       "   reference_metadata.ID PRODUCTO reference_metadata.UNIDADES  \\\n",
       "0                             NaN                         NaN   \n",
       "1                             NaN                         NaN   \n",
       "2                             NaN                         NaN   \n",
       "3                             NaN                         NaN   \n",
       "4                             NaN                         NaN   \n",
       "\n",
       "   reference_metadata.PRECIO UNIDAD  reference_metadata.DESCUENTO  \\\n",
       "0                               NaN                           NaN   \n",
       "1                               NaN                           NaN   \n",
       "2                               NaN                           NaN   \n",
       "3                               NaN                           NaN   \n",
       "4                               NaN                           NaN   \n",
       "\n",
       "  reference_metadata.PRECIO CON DESCUENTO campaign_code_id metadata.quantity  \\\n",
       "0                                     NaN              NaN               NaN   \n",
       "1                                     NaN              NaN               NaN   \n",
       "2                                     NaN              NaN               NaN   \n",
       "3                                     NaN              NaN               NaN   \n",
       "4                                     NaN              NaN               NaN   \n",
       "\n",
       "   reference_metadata.quantity  \n",
       "0                          NaN  \n",
       "1                          NaN  \n",
       "2                          NaN  \n",
       "3                          NaN  \n",
       "4                          NaN  \n",
       "\n",
       "[5 rows x 142 columns]"
      ],
      "text/html": "<div>\n<style scoped>\n    .dataframe tbody tr th:only-of-type {\n        vertical-align: middle;\n    }\n\n    .dataframe tbody tr th {\n        vertical-align: top;\n    }\n\n    .dataframe thead th {\n        text-align: right;\n    }\n</style>\n<table border=\"1\" class=\"dataframe\">\n  <thead>\n    <tr style=\"text-align: right;\">\n      <th></th>\n      <th>index</th>\n      <th>lead_idd</th>\n      <th>person_id</th>\n      <th>organization_idd</th>\n      <th>event_id</th>\n      <th>data</th>\n      <th>description</th>\n      <th>id</th>\n      <th>is_subscription</th>\n      <th>amount</th>\n      <th>...</th>\n      <th>reference_metadata.PRODUCTO</th>\n      <th>reference_metadata.DESCRIPCIÓN PRODUCTO</th>\n      <th>reference_metadata.ID PRODUCTO</th>\n      <th>reference_metadata.UNIDADES</th>\n      <th>reference_metadata.PRECIO UNIDAD</th>\n      <th>reference_metadata.DESCUENTO</th>\n      <th>reference_metadata.PRECIO CON DESCUENTO</th>\n      <th>campaign_code_id</th>\n      <th>metadata.quantity</th>\n      <th>reference_metadata.quantity</th>\n    </tr>\n  </thead>\n  <tbody>\n    <tr>\n      <th>0</th>\n      <td>1369</td>\n      <td>33963</td>\n      <td>33771</td>\n      <td>18</td>\n      <td>827957</td>\n      <td>{\"lead_id\":33963,\"campaign_id\":101,\"form_id\":4...</td>\n      <td>DONATIONFAILED_WEBHOOK: 51</td>\n      <td>70711</td>\n      <td>True</td>\n      <td>50000.0</td>\n      <td>...</td>\n      <td>NaN</td>\n      <td>NaN</td>\n      <td>NaN</td>\n      <td>NaN</td>\n      <td>NaN</td>\n      <td>NaN</td>\n      <td>NaN</td>\n      <td>NaN</td>\n      <td>NaN</td>\n      <td>NaN</td>\n    </tr>\n    <tr>\n      <th>1</th>\n      <td>1370</td>\n      <td>33963</td>\n      <td>33771</td>\n      <td>18</td>\n      <td>826679</td>\n      <td>{\"lead_id\":33963,\"campaign_id\":101,\"form_id\":4...</td>\n      <td>DONATIONFAILED_WEBHOOK: 51</td>\n      <td>70711</td>\n      <td>True</td>\n      <td>50000.0</td>\n      <td>...</td>\n      <td>NaN</td>\n      <td>NaN</td>\n      <td>NaN</td>\n      <td>NaN</td>\n      <td>NaN</td>\n      <td>NaN</td>\n      <td>NaN</td>\n      <td>NaN</td>\n      <td>NaN</td>\n      <td>NaN</td>\n    </tr>\n    <tr>\n      <th>2</th>\n      <td>1371</td>\n      <td>33963</td>\n      <td>33771</td>\n      <td>18</td>\n      <td>836941</td>\n      <td>{\"lead_id\":33963,\"campaign_id\":101,\"form_id\":4...</td>\n      <td>DONATIONFAILED_WEBHOOK: 51</td>\n      <td>70711</td>\n      <td>True</td>\n      <td>50000.0</td>\n      <td>...</td>\n      <td>NaN</td>\n      <td>NaN</td>\n      <td>NaN</td>\n      <td>NaN</td>\n      <td>NaN</td>\n      <td>NaN</td>\n      <td>NaN</td>\n      <td>NaN</td>\n      <td>NaN</td>\n      <td>NaN</td>\n    </tr>\n    <tr>\n      <th>3</th>\n      <td>1372</td>\n      <td>33963</td>\n      <td>33771</td>\n      <td>18</td>\n      <td>830093</td>\n      <td>{\"lead_id\":33963,\"campaign_id\":101,\"form_id\":4...</td>\n      <td>DONATIONFAILED_WEBHOOK: 51</td>\n      <td>70711</td>\n      <td>True</td>\n      <td>50000.0</td>\n      <td>...</td>\n      <td>NaN</td>\n      <td>NaN</td>\n      <td>NaN</td>\n      <td>NaN</td>\n      <td>NaN</td>\n      <td>NaN</td>\n      <td>NaN</td>\n      <td>NaN</td>\n      <td>NaN</td>\n      <td>NaN</td>\n    </tr>\n    <tr>\n      <th>4</th>\n      <td>1373</td>\n      <td>33963</td>\n      <td>33771</td>\n      <td>18</td>\n      <td>839621</td>\n      <td>{\"lead_id\":33963,\"campaign_id\":101,\"form_id\":4...</td>\n      <td>DONATIONFAILED_WEBHOOK: 51</td>\n      <td>70711</td>\n      <td>True</td>\n      <td>50000.0</td>\n      <td>...</td>\n      <td>NaN</td>\n      <td>NaN</td>\n      <td>NaN</td>\n      <td>NaN</td>\n      <td>NaN</td>\n      <td>NaN</td>\n      <td>NaN</td>\n      <td>NaN</td>\n      <td>NaN</td>\n      <td>NaN</td>\n    </tr>\n  </tbody>\n</table>\n<p>5 rows × 142 columns</p>\n</div>"
     },
     "metadata": {},
     "execution_count": 55
    }
   ],
   "source": [
    "df_recur.head()"
   ]
  },
  {
   "cell_type": "code",
   "execution_count": 56,
   "metadata": {},
   "outputs": [
    {
     "output_type": "execute_result",
     "data": {
      "text/plain": [
       "Index(['index', 'lead_idd', 'person_id', 'organization_idd', 'event_id',\n",
       "       'data', 'description', 'id', 'is_subscription', 'amount',\n",
       "       ...\n",
       "       'reference_metadata.PRODUCTO',\n",
       "       'reference_metadata.DESCRIPCIÓN PRODUCTO',\n",
       "       'reference_metadata.ID PRODUCTO', 'reference_metadata.UNIDADES',\n",
       "       'reference_metadata.PRECIO UNIDAD', 'reference_metadata.DESCUENTO',\n",
       "       'reference_metadata.PRECIO CON DESCUENTO', 'campaign_code_id',\n",
       "       'metadata.quantity', 'reference_metadata.quantity'],\n",
       "      dtype='object', length=142)"
      ]
     },
     "metadata": {},
     "execution_count": 56
    }
   ],
   "source": [
    "df_recur.columns"
   ]
  },
  {
   "cell_type": "code",
   "execution_count": 57,
   "metadata": {},
   "outputs": [],
   "source": [
    "# Comparando as colunas para entender duplicados"
   ]
  },
  {
   "cell_type": "code",
   "execution_count": 58,
   "metadata": {},
   "outputs": [
    {
     "output_type": "execute_result",
     "data": {
      "text/plain": [
       "False"
      ]
     },
     "metadata": {},
     "execution_count": 58
    }
   ],
   "source": [
    "df_recur.equals (['reference_metadata.countryAndCity', 'metadata.countryAndCity'])"
   ]
  },
  {
   "cell_type": "code",
   "execution_count": 59,
   "metadata": {},
   "outputs": [
    {
     "output_type": "execute_result",
     "data": {
      "text/plain": [
       "(72573,)"
      ]
     },
     "metadata": {},
     "execution_count": 59
    }
   ],
   "source": [
    "df_recur['reference_metadata.countryAndCity'].shape"
   ]
  },
  {
   "cell_type": "code",
   "execution_count": 60,
   "metadata": {},
   "outputs": [
    {
     "output_type": "execute_result",
     "data": {
      "text/plain": [
       "(72573,)"
      ]
     },
     "metadata": {},
     "execution_count": 60
    }
   ],
   "source": [
    "df_recur['metadata.countryAndCity'].shape"
   ]
  },
  {
   "cell_type": "code",
   "execution_count": 61,
   "metadata": {},
   "outputs": [
    {
     "output_type": "execute_result",
     "data": {
      "text/plain": [
       "       reference_metadata.countryAndCity            metadata.countryAndCity\n",
       "0        Colombia@@Bogotá@@3688685@@null                                NaN\n",
       "1        Colombia@@Bogotá@@3688685@@null                                NaN\n",
       "2        Colombia@@Bogotá@@3688685@@null                                NaN\n",
       "3        Colombia@@Bogotá@@3688685@@null                                NaN\n",
       "4        Colombia@@Bogotá@@3688685@@null                                NaN\n",
       "...                                  ...                                ...\n",
       "72568                                NaN          Peru@@Lima@@3936451@@null\n",
       "72569  Colombia@@Medellín@@3689815@@null                                NaN\n",
       "72570                                NaN  Colombia@@Medellín@@3689815@@null\n",
       "72571  Colombia@@Medellín@@3689815@@null  Colombia@@Medellín@@3689815@@null\n",
       "72572                                NaN                                NaN\n",
       "\n",
       "[72573 rows x 2 columns]"
      ],
      "text/html": "<div>\n<style scoped>\n    .dataframe tbody tr th:only-of-type {\n        vertical-align: middle;\n    }\n\n    .dataframe tbody tr th {\n        vertical-align: top;\n    }\n\n    .dataframe thead th {\n        text-align: right;\n    }\n</style>\n<table border=\"1\" class=\"dataframe\">\n  <thead>\n    <tr style=\"text-align: right;\">\n      <th></th>\n      <th>reference_metadata.countryAndCity</th>\n      <th>metadata.countryAndCity</th>\n    </tr>\n  </thead>\n  <tbody>\n    <tr>\n      <th>0</th>\n      <td>Colombia@@Bogotá@@3688685@@null</td>\n      <td>NaN</td>\n    </tr>\n    <tr>\n      <th>1</th>\n      <td>Colombia@@Bogotá@@3688685@@null</td>\n      <td>NaN</td>\n    </tr>\n    <tr>\n      <th>2</th>\n      <td>Colombia@@Bogotá@@3688685@@null</td>\n      <td>NaN</td>\n    </tr>\n    <tr>\n      <th>3</th>\n      <td>Colombia@@Bogotá@@3688685@@null</td>\n      <td>NaN</td>\n    </tr>\n    <tr>\n      <th>4</th>\n      <td>Colombia@@Bogotá@@3688685@@null</td>\n      <td>NaN</td>\n    </tr>\n    <tr>\n      <th>...</th>\n      <td>...</td>\n      <td>...</td>\n    </tr>\n    <tr>\n      <th>72568</th>\n      <td>NaN</td>\n      <td>Peru@@Lima@@3936451@@null</td>\n    </tr>\n    <tr>\n      <th>72569</th>\n      <td>Colombia@@Medellín@@3689815@@null</td>\n      <td>NaN</td>\n    </tr>\n    <tr>\n      <th>72570</th>\n      <td>NaN</td>\n      <td>Colombia@@Medellín@@3689815@@null</td>\n    </tr>\n    <tr>\n      <th>72571</th>\n      <td>Colombia@@Medellín@@3689815@@null</td>\n      <td>Colombia@@Medellín@@3689815@@null</td>\n    </tr>\n    <tr>\n      <th>72572</th>\n      <td>NaN</td>\n      <td>NaN</td>\n    </tr>\n  </tbody>\n</table>\n<p>72573 rows × 2 columns</p>\n</div>"
     },
     "metadata": {},
     "execution_count": 61
    }
   ],
   "source": [
    "df_recur [['reference_metadata.countryAndCity','metadata.countryAndCity']]"
   ]
  },
  {
   "cell_type": "code",
   "execution_count": 62,
   "metadata": {},
   "outputs": [
    {
     "output_type": "execute_result",
     "data": {
      "text/plain": [
       "      reference_metadata.operatingSystemName metadata.operatingSystemName\n",
       "0                                 Windows NT                          NaN\n",
       "1                                 Windows NT                          NaN\n",
       "2                                 Windows NT                          NaN\n",
       "3                                 Windows NT                          NaN\n",
       "4                                 Windows NT                          NaN\n",
       "...                                      ...                          ...\n",
       "72568                                    NaN                   Windows NT\n",
       "72569                                Android                          NaN\n",
       "72570                                    NaN                      Android\n",
       "72571                                Android                      Android\n",
       "72572                                    NaN                          NaN\n",
       "\n",
       "[72573 rows x 2 columns]"
      ],
      "text/html": "<div>\n<style scoped>\n    .dataframe tbody tr th:only-of-type {\n        vertical-align: middle;\n    }\n\n    .dataframe tbody tr th {\n        vertical-align: top;\n    }\n\n    .dataframe thead th {\n        text-align: right;\n    }\n</style>\n<table border=\"1\" class=\"dataframe\">\n  <thead>\n    <tr style=\"text-align: right;\">\n      <th></th>\n      <th>reference_metadata.operatingSystemName</th>\n      <th>metadata.operatingSystemName</th>\n    </tr>\n  </thead>\n  <tbody>\n    <tr>\n      <th>0</th>\n      <td>Windows NT</td>\n      <td>NaN</td>\n    </tr>\n    <tr>\n      <th>1</th>\n      <td>Windows NT</td>\n      <td>NaN</td>\n    </tr>\n    <tr>\n      <th>2</th>\n      <td>Windows NT</td>\n      <td>NaN</td>\n    </tr>\n    <tr>\n      <th>3</th>\n      <td>Windows NT</td>\n      <td>NaN</td>\n    </tr>\n    <tr>\n      <th>4</th>\n      <td>Windows NT</td>\n      <td>NaN</td>\n    </tr>\n    <tr>\n      <th>...</th>\n      <td>...</td>\n      <td>...</td>\n    </tr>\n    <tr>\n      <th>72568</th>\n      <td>NaN</td>\n      <td>Windows NT</td>\n    </tr>\n    <tr>\n      <th>72569</th>\n      <td>Android</td>\n      <td>NaN</td>\n    </tr>\n    <tr>\n      <th>72570</th>\n      <td>NaN</td>\n      <td>Android</td>\n    </tr>\n    <tr>\n      <th>72571</th>\n      <td>Android</td>\n      <td>Android</td>\n    </tr>\n    <tr>\n      <th>72572</th>\n      <td>NaN</td>\n      <td>NaN</td>\n    </tr>\n  </tbody>\n</table>\n<p>72573 rows × 2 columns</p>\n</div>"
     },
     "metadata": {},
     "execution_count": 62
    }
   ],
   "source": [
    "df_recur [['reference_metadata.operatingSystemName','metadata.operatingSystemName']]"
   ]
  },
  {
   "cell_type": "code",
   "execution_count": null,
   "metadata": {},
   "outputs": [],
   "source": []
  },
  {
   "cell_type": "code",
   "execution_count": null,
   "metadata": {},
   "outputs": [],
   "source": []
  },
  {
   "cell_type": "code",
   "execution_count": 63,
   "metadata": {},
   "outputs": [
    {
     "output_type": "stream",
     "name": "stdout",
     "text": [
      "index\nlead_idd\nperson_id\norganization_idd\nevent_id\ndata\ndescription\nid\nis_subscription\namount\nconversion_amount\ntransaction_gateway_code\nmonthly_plan_charge\nsubscription_gateway_code\nstate\nstatus\ncreated_at\nupdated_at\nnext_payment_date\ngateway_organization_id\ncampaign_id\ngateway_currency_id\nlead_id\norganization_id\ngatawey_json_response\nis_from_webhook\nis_intent\npayment_method\nis_manual\nmodule\nis_imported\nip\npayment_method_id\nfrequency_id\nsubscription_cycle_number\nrng\nlead_id\ncampaign_id\nform_id\nurl_landing\nutm_campaign\nutm_source\nutm_medium\nutm_content\nutm_term\namount\nconversion_amount\npayment_method\ngateway\ngatewayId\ntransaction_gateway_code\nreference_id\ncampaign\nform\nis_subscription\nmonthly_plan_charge\nreference_metadata.organizationId\nreference_metadata.countryAndCity\nreference_metadata.deviceCategory\nreference_metadata.userIp\nreference_metadata.userLocation.lon\nreference_metadata.userLocation.lat\nreference_metadata.operatingSystemFamily\nreference_metadata.operatingSystemName\nreference_metadata.sessionAdminSubDiv1\nreference_metadata.sessionCity\nreference_metadata.sessionCountryCode\nreference_metadata.sessionCountryName\nreference_metadata.userAgent\nreference_metadata.userAgentName\nreference_metadata.userAgentNameAndVersion\nreference_metadata.userAgentVersion\nreference_metadata.userWindowResolution\nreference_metadata.urlLanding\ncurrency.id\ncurrency.name\ncurrency.code\ncurrency.symbol\ncurrency.conversion_amount\ncurrency.created_at\ncurrency.updated_at\nreference_metadata\nreference_metadata.sessionIsp\nreference_metadata.utmCampaign\nreference_metadata.utmSource\nreference_metadata.utmMedium\ndonation_certificate_id\ndonation_id\ndonation_ids\ndonation_certificate_batch_id\nmetadata\nmetadata.organizationId\nmetadata.countryAndCity\nmetadata.deviceCategory\nmetadata.userIp\nmetadata.userLocation.lon\nmetadata.userLocation.lat\nmetadata.operatingSystemFamily\nmetadata.operatingSystemName\nmetadata.sessionAdminSubDiv1\nmetadata.sessionCity\nmetadata.sessionCountryCode\nmetadata.sessionCountryName\nmetadata.sessionIsp\nmetadata.userAgent\nmetadata.userAgentName\nmetadata.userAgentNameAndVersion\nmetadata.userAgentVersion\nmetadata.userWindowResolution\nmetadata.urlLanding\nmetadata.gateway.name\nmetadata.amount\nmetadata.is_subscription\nmetadata.form.name\nmetadata.campaign.name\nreference_metadata.gateway.name\nreference_metadata.amount\nreference_metadata.is_subscription\nreference_metadata.form.name\nreference_metadata.campaign.name\nreference_metadata.utmContent\nreference_metadata.utmTerm\nmetadata.utmCampaign\nmetadata.utmSource\nmetadata.utmMedium\nmetadata.utmContent\nmetadata.utmTerm\nreference_metadata.sessionAdminSubDiv2\nmetadata.sessionAdminSubDiv2\nreference_metadata.ID TIENDA\nreference_metadata.TIENDA\nreference_metadata.ID RAPPITENDERO\nreference_metadata.PRODUCTO\nreference_metadata.DESCRIPCIÓN PRODUCTO\nreference_metadata.ID PRODUCTO\nreference_metadata.UNIDADES\nreference_metadata.PRECIO UNIDAD\nreference_metadata.DESCUENTO\nreference_metadata.PRECIO CON DESCUENTO\ncampaign_code_id\nmetadata.quantity\nreference_metadata.quantity\n"
     ]
    }
   ],
   "source": [
    "for i in df_recur.columns:\n",
    "    print (i)"
   ]
  },
  {
   "cell_type": "code",
   "execution_count": 64,
   "metadata": {},
   "outputs": [],
   "source": [
    "df_recur_clean = df_recur.drop (['lead_id', 'campaign_id', 'form_id', 'url_landing', 'utm_campaign', 'utm_source', 'utm_medium', 'utm_content', 'utm_term', 'gatewayId', 'transaction_gateway_code', 'reference_id', 'campaign', 'form', 'reference_metadata.organizationId', 'metadata.organizationId' , 'reference_metadata.userIp', 'metadata.userIp','reference_metadata.sessionAdminSubDiv1', 'metadata.sessionAdminSubDiv1', 'reference_metadata.userAgent', 'metadata.userAgent', 'reference_metadata.userAgentNameAndVersion', 'metadata.userAgentNameAndVersion', 'reference_metadata.userAgentVersion', 'metadata.userAgentVersion', 'reference_metadata.urlLanding', 'metadata.urlLanding', 'currency.created_at', 'currency.updated_at', 'reference_metadata', 'reference_metadata.sessionIsp', 'reference_metadata.utmCampaign', 'reference_metadata.utmSource', 'reference_metadata.utmMedium', 'donation_certificate_id', 'donation_id', 'donation_ids', 'donation_certificate_batch_id', 'metadata', 'metadata.organizationId', 'metadata.urlLanding', 'metadata.form.name', 'metadata.campaign.name', 'reference_metadata.gateway.name', 'reference_metadata.amount', 'reference_metadata.is_subscription', 'reference_metadata.form.name', 'reference_metadata.campaign.name', 'reference_metadata.utmContent', 'reference_metadata.utmTerm', 'metadata.utmCampaign', 'metadata.utmSource', 'metadata.utmMedium', 'metadata.utmContent', 'metadata.utmTerm', 'reference_metadata.sessionAdminSubDiv2','reference_metadata.ID TIENDA', 'reference_metadata.TIENDA', 'reference_metadata.ID RAPPITENDERO', 'reference_metadata.PRODUCTO', 'reference_metadata.DESCRIPCIÓN PRODUCTO', 'reference_metadata.ID PRODUCTO', 'reference_metadata.PRODUCTO', 'reference_metadata.DESCRIPCIÓN PRODUCTO', 'reference_metadata.ID PRODUCTO', 'reference_metadata.UNIDADES', 'reference_metadata.PRECIO UNIDAD' , 'reference_metadata.DESCUENTO', 'reference_metadata.PRECIO CON DESCUENTO', 'campaign_code_id', 'metadata.quantity' , 'reference_metadata.quantity'], axis = 1)"
   ]
  },
  {
   "cell_type": "code",
   "execution_count": 65,
   "metadata": {},
   "outputs": [
    {
     "output_type": "execute_result",
     "data": {
      "text/plain": [
       "(72573, 71)"
      ]
     },
     "metadata": {},
     "execution_count": 65
    }
   ],
   "source": [
    "df_recur_clean.shape"
   ]
  },
  {
   "cell_type": "code",
   "execution_count": 66,
   "metadata": {},
   "outputs": [
    {
     "output_type": "execute_result",
     "data": {
      "text/plain": [
       "Index(['index', 'lead_idd', 'person_id', 'organization_idd', 'event_id',\n",
       "       'data', 'description', 'id', 'is_subscription', 'amount',\n",
       "       'conversion_amount', 'monthly_plan_charge', 'subscription_gateway_code',\n",
       "       'state', 'status', 'created_at', 'updated_at', 'next_payment_date',\n",
       "       'gateway_organization_id', 'gateway_currency_id', 'organization_id',\n",
       "       'gatawey_json_response', 'is_from_webhook', 'is_intent',\n",
       "       'payment_method', 'is_manual', 'module', 'is_imported', 'ip',\n",
       "       'payment_method_id', 'frequency_id', 'subscription_cycle_number', 'rng',\n",
       "       'amount', 'conversion_amount', 'payment_method', 'gateway',\n",
       "       'is_subscription', 'monthly_plan_charge',\n",
       "       'reference_metadata.countryAndCity',\n",
       "       'reference_metadata.deviceCategory',\n",
       "       'reference_metadata.userLocation.lon',\n",
       "       'reference_metadata.userLocation.lat',\n",
       "       'reference_metadata.operatingSystemFamily',\n",
       "       'reference_metadata.operatingSystemName',\n",
       "       'reference_metadata.sessionCity',\n",
       "       'reference_metadata.sessionCountryCode',\n",
       "       'reference_metadata.sessionCountryName',\n",
       "       'reference_metadata.userAgentName',\n",
       "       'reference_metadata.userWindowResolution', 'currency.id',\n",
       "       'currency.name', 'currency.code', 'currency.symbol',\n",
       "       'currency.conversion_amount', 'metadata.countryAndCity',\n",
       "       'metadata.deviceCategory', 'metadata.userLocation.lon',\n",
       "       'metadata.userLocation.lat', 'metadata.operatingSystemFamily',\n",
       "       'metadata.operatingSystemName', 'metadata.sessionCity',\n",
       "       'metadata.sessionCountryCode', 'metadata.sessionCountryName',\n",
       "       'metadata.sessionIsp', 'metadata.userAgentName',\n",
       "       'metadata.userWindowResolution', 'metadata.gateway.name',\n",
       "       'metadata.amount', 'metadata.is_subscription',\n",
       "       'metadata.sessionAdminSubDiv2'],\n",
       "      dtype='object')"
      ]
     },
     "metadata": {},
     "execution_count": 66
    }
   ],
   "source": [
    "df_recur_clean.columns"
   ]
  },
  {
   "cell_type": "code",
   "execution_count": 67,
   "metadata": {},
   "outputs": [],
   "source": [
    "# unindo 2 columnas com mesmas respostas em linhas diferentes - com um problema relacionado aos valores NaN. "
   ]
  },
  {
   "cell_type": "code",
   "execution_count": 68,
   "metadata": {},
   "outputs": [],
   "source": [
    "# df_recur_clean[['metadata.operatingSystemName', 'reference_metadata.operatingSystemName']].fillna ('' , inplace=True)"
   ]
  },
  {
   "cell_type": "code",
   "execution_count": 69,
   "metadata": {},
   "outputs": [],
   "source": [
    "# df_recur_clean['operating_system'] = df_recur_clean[['metadata.operatingSystemName', 'reference_metadata.operatingSystemName']].agg ('-'.join, axis = 1)"
   ]
  },
  {
   "cell_type": "code",
   "execution_count": 70,
   "metadata": {},
   "outputs": [],
   "source": [
    "#criando uma nova coluna que recebe as informações das 2 colunas e une com um hifen as duas informações \n",
    "df_recur_clean['operating_system'] = df_recur_clean['metadata.operatingSystemName'].astype(str) + ' - ' +  df_recur_clean ['reference_metadata.operatingSystemName'].astype(str)"
   ]
  },
  {
   "cell_type": "code",
   "execution_count": 88,
   "metadata": {},
   "outputs": [],
   "source": [
    "# função para unir as informações das duas colunas e manter tudo em uma só. \n",
    "def replace (row):\n",
    "    if row ['metadata.operatingSystemName'] != row ['metadata.operatingSystemName']: \n",
    "        return row ['reference_metadata.operatingSystemName']\n",
    "    else:\n",
    "        return row ['metadata.operatingSystemName']\n",
    "    "
   ]
  },
  {
   "cell_type": "code",
   "execution_count": 93,
   "metadata": {},
   "outputs": [],
   "source": [
    "df_recur_clean['operating_system'] = df_recur_clean.apply(replace, axis=1)"
   ]
  },
  {
   "cell_type": "code",
   "execution_count": 94,
   "metadata": {},
   "outputs": [
    {
     "output_type": "execute_result",
     "data": {
      "text/plain": [
       "54674"
      ]
     },
     "metadata": {},
     "execution_count": 94
    }
   ],
   "source": [
    "df_recur_clean['operating_system'].isnull().sum()"
   ]
  },
  {
   "cell_type": "code",
   "execution_count": 72,
   "metadata": {},
   "outputs": [],
   "source": [
    "# criei um novo dataset para facilitar o acréscimo das colunas \n",
    "#teste = df_recur_clean[['metadata.operatingSystemName', 'reference_metadata.operatingSystemName']].fillna ('')"
   ]
  },
  {
   "cell_type": "code",
   "execution_count": 73,
   "metadata": {},
   "outputs": [],
   "source": [
    "#teste['operating_system'] = teste['metadata.operatingSystemName'].astype(str) + '-' +  teste ['reference_metadata.operatingSystemName'].astype(str)"
   ]
  },
  {
   "cell_type": "code",
   "execution_count": 75,
   "metadata": {},
   "outputs": [],
   "source": [
    "# código Regex para limpar os nomes duplicados"
   ]
  },
  {
   "cell_type": "code",
   "execution_count": 85,
   "metadata": {},
   "outputs": [],
   "source": [
    "#teste['operating_system'].replace('(-)', '', regex= True, inplace=True)"
   ]
  },
  {
   "cell_type": "code",
   "execution_count": 97,
   "metadata": {},
   "outputs": [
    {
     "output_type": "execute_result",
     "data": {
      "text/plain": [
       "    index  lead_idd  person_id  organization_idd  event_id  \\\n",
       "0    1369     33963      33771                18    827957   \n",
       "1    1370     33963      33771                18    826679   \n",
       "2    1371     33963      33771                18    836941   \n",
       "3    1372     33963      33771                18    830093   \n",
       "4    1373     33963      33771                18    839621   \n",
       "5    1374     33963      33771                18    834134   \n",
       "6    1375     33963      33771                18    842386   \n",
       "7    1384        18         25                 1    783326   \n",
       "8    1385        18         25                 1    783110   \n",
       "9    1386        18         25                 1    858069   \n",
       "10   1387        18         25                 1    858215   \n",
       "11   4905      5745       5608                 4     24700   \n",
       "12   4906      5745       5608                 4     24706   \n",
       "13   4907      5745       5608                 4     24712   \n",
       "14   5188      3904       3774                 4     22113   \n",
       "\n",
       "                                                 data  \\\n",
       "0   {\"lead_id\":33963,\"campaign_id\":101,\"form_id\":4...   \n",
       "1   {\"lead_id\":33963,\"campaign_id\":101,\"form_id\":4...   \n",
       "2   {\"lead_id\":33963,\"campaign_id\":101,\"form_id\":4...   \n",
       "3   {\"lead_id\":33963,\"campaign_id\":101,\"form_id\":4...   \n",
       "4   {\"lead_id\":33963,\"campaign_id\":101,\"form_id\":4...   \n",
       "5   {\"lead_id\":33963,\"campaign_id\":101,\"form_id\":4...   \n",
       "6   {\"lead_id\":33963,\"campaign_id\":101,\"form_id\":4...   \n",
       "7   {\"form_id\":13,\"lead_id\":18,\"campaign_id\":4,\"am...   \n",
       "8   {\"form_id\":13,\"campaign_id\":4,\"lead_id\":18,\"ca...   \n",
       "9   {\"form_id\":13,\"campaign_id\":4,\"lead_id\":18,\"ca...   \n",
       "10  {\"form_id\":13,\"lead_id\":18,\"campaign_id\":4,\"am...   \n",
       "11  {\"form_id\":232,\"campaign_id\":34,\"lead_id\":5745...   \n",
       "12  {\"form_id\":232,\"campaign_id\":34,\"lead_id\":5745...   \n",
       "13  {\"form_id\":232,\"campaign_id\":34,\"lead_id\":5745...   \n",
       "14  {\"form_id\":179,\"campaign_id\":33,\"lead_id\":3904...   \n",
       "\n",
       "                                          description     id  is_subscription  \\\n",
       "0                          DONATIONFAILED_WEBHOOK: 51  70711             True   \n",
       "1                          DONATIONFAILED_WEBHOOK: 51  70711             True   \n",
       "2                          DONATIONFAILED_WEBHOOK: 51  70711             True   \n",
       "3                          DONATIONFAILED_WEBHOOK: 51  70711             True   \n",
       "4                          DONATIONFAILED_WEBHOOK: 51  70711             True   \n",
       "5                          DONATIONFAILED_WEBHOOK: 51  70711             True   \n",
       "6                             CHARGERECURRENT_WEBHOOK  70711             True   \n",
       "7                             CHARGERECURRENT_WEBHOOK     57             True   \n",
       "8                   DONATIONRECURRENT_UPDATED_WEBHOOK     57             True   \n",
       "9                   DONATIONRECURRENT_UPDATED_WEBHOOK     57             True   \n",
       "10                            CHARGERECURRENT_WEBHOOK     57             True   \n",
       "11                                               LEAD  14775             True   \n",
       "12  DONATIONFAILED: NumeroMedioDePago - Valor Invá...  14775             True   \n",
       "13                                  DONATIONRECURRENT  14775             True   \n",
       "14                                  DONATIONRECURRENT  14336             True   \n",
       "\n",
       "     amount  ...  metadata.sessionCountryCode  metadata.sessionCountryName  \\\n",
       "0   50000.0  ...                          NaN                          NaN   \n",
       "1   50000.0  ...                          NaN                          NaN   \n",
       "2   50000.0  ...                          NaN                          NaN   \n",
       "3   50000.0  ...                          NaN                          NaN   \n",
       "4   50000.0  ...                          NaN                          NaN   \n",
       "5   50000.0  ...                          NaN                          NaN   \n",
       "6   50000.0  ...                          NaN                          NaN   \n",
       "7      25.0  ...                          NaN                          NaN   \n",
       "8      25.0  ...                          NaN                          NaN   \n",
       "9      25.0  ...                          NaN                          NaN   \n",
       "10     25.0  ...                          NaN                          NaN   \n",
       "11  30000.0  ...                          NaN                          NaN   \n",
       "12  30000.0  ...                          NaN                          NaN   \n",
       "13  30000.0  ...                          NaN                          NaN   \n",
       "14  30000.0  ...                          NaN                          NaN   \n",
       "\n",
       "   metadata.sessionIsp  metadata.userAgentName  metadata.userWindowResolution  \\\n",
       "0                  NaN                     NaN                            NaN   \n",
       "1                  NaN                     NaN                            NaN   \n",
       "2                  NaN                     NaN                            NaN   \n",
       "3                  NaN                     NaN                            NaN   \n",
       "4                  NaN                     NaN                            NaN   \n",
       "5                  NaN                     NaN                            NaN   \n",
       "6                  NaN                     NaN                            NaN   \n",
       "7                  NaN                     NaN                            NaN   \n",
       "8                  NaN                     NaN                            NaN   \n",
       "9                  NaN                     NaN                            NaN   \n",
       "10                 NaN                     NaN                            NaN   \n",
       "11                 NaN                     NaN                            NaN   \n",
       "12                 NaN                     NaN                            NaN   \n",
       "13                 NaN                     NaN                            NaN   \n",
       "14                 NaN                     NaN                            NaN   \n",
       "\n",
       "   metadata.gateway.name metadata.amount metadata.is_subscription  \\\n",
       "0                    NaN             NaN                      NaN   \n",
       "1                    NaN             NaN                      NaN   \n",
       "2                    NaN             NaN                      NaN   \n",
       "3                    NaN             NaN                      NaN   \n",
       "4                    NaN             NaN                      NaN   \n",
       "5                    NaN             NaN                      NaN   \n",
       "6                    NaN             NaN                      NaN   \n",
       "7                    NaN             NaN                      NaN   \n",
       "8                    NaN             NaN                      NaN   \n",
       "9                    NaN             NaN                      NaN   \n",
       "10                   NaN             NaN                      NaN   \n",
       "11                   NaN             NaN                      NaN   \n",
       "12                   NaN             NaN                      NaN   \n",
       "13                   NaN             NaN                      NaN   \n",
       "14                   NaN             NaN                      NaN   \n",
       "\n",
       "    metadata.sessionAdminSubDiv2  operating_system  \n",
       "0                            NaN        Windows NT  \n",
       "1                            NaN        Windows NT  \n",
       "2                            NaN        Windows NT  \n",
       "3                            NaN        Windows NT  \n",
       "4                            NaN        Windows NT  \n",
       "5                            NaN        Windows NT  \n",
       "6                            NaN        Windows NT  \n",
       "7                            NaN               NaN  \n",
       "8                            NaN               NaN  \n",
       "9                            NaN               NaN  \n",
       "10                           NaN               NaN  \n",
       "11                           NaN               NaN  \n",
       "12                           NaN               NaN  \n",
       "13                           NaN               NaN  \n",
       "14                           NaN               NaN  \n",
       "\n",
       "[15 rows x 72 columns]"
      ],
      "text/html": "<div>\n<style scoped>\n    .dataframe tbody tr th:only-of-type {\n        vertical-align: middle;\n    }\n\n    .dataframe tbody tr th {\n        vertical-align: top;\n    }\n\n    .dataframe thead th {\n        text-align: right;\n    }\n</style>\n<table border=\"1\" class=\"dataframe\">\n  <thead>\n    <tr style=\"text-align: right;\">\n      <th></th>\n      <th>index</th>\n      <th>lead_idd</th>\n      <th>person_id</th>\n      <th>organization_idd</th>\n      <th>event_id</th>\n      <th>data</th>\n      <th>description</th>\n      <th>id</th>\n      <th>is_subscription</th>\n      <th>amount</th>\n      <th>...</th>\n      <th>metadata.sessionCountryCode</th>\n      <th>metadata.sessionCountryName</th>\n      <th>metadata.sessionIsp</th>\n      <th>metadata.userAgentName</th>\n      <th>metadata.userWindowResolution</th>\n      <th>metadata.gateway.name</th>\n      <th>metadata.amount</th>\n      <th>metadata.is_subscription</th>\n      <th>metadata.sessionAdminSubDiv2</th>\n      <th>operating_system</th>\n    </tr>\n  </thead>\n  <tbody>\n    <tr>\n      <th>0</th>\n      <td>1369</td>\n      <td>33963</td>\n      <td>33771</td>\n      <td>18</td>\n      <td>827957</td>\n      <td>{\"lead_id\":33963,\"campaign_id\":101,\"form_id\":4...</td>\n      <td>DONATIONFAILED_WEBHOOK: 51</td>\n      <td>70711</td>\n      <td>True</td>\n      <td>50000.0</td>\n      <td>...</td>\n      <td>NaN</td>\n      <td>NaN</td>\n      <td>NaN</td>\n      <td>NaN</td>\n      <td>NaN</td>\n      <td>NaN</td>\n      <td>NaN</td>\n      <td>NaN</td>\n      <td>NaN</td>\n      <td>Windows NT</td>\n    </tr>\n    <tr>\n      <th>1</th>\n      <td>1370</td>\n      <td>33963</td>\n      <td>33771</td>\n      <td>18</td>\n      <td>826679</td>\n      <td>{\"lead_id\":33963,\"campaign_id\":101,\"form_id\":4...</td>\n      <td>DONATIONFAILED_WEBHOOK: 51</td>\n      <td>70711</td>\n      <td>True</td>\n      <td>50000.0</td>\n      <td>...</td>\n      <td>NaN</td>\n      <td>NaN</td>\n      <td>NaN</td>\n      <td>NaN</td>\n      <td>NaN</td>\n      <td>NaN</td>\n      <td>NaN</td>\n      <td>NaN</td>\n      <td>NaN</td>\n      <td>Windows NT</td>\n    </tr>\n    <tr>\n      <th>2</th>\n      <td>1371</td>\n      <td>33963</td>\n      <td>33771</td>\n      <td>18</td>\n      <td>836941</td>\n      <td>{\"lead_id\":33963,\"campaign_id\":101,\"form_id\":4...</td>\n      <td>DONATIONFAILED_WEBHOOK: 51</td>\n      <td>70711</td>\n      <td>True</td>\n      <td>50000.0</td>\n      <td>...</td>\n      <td>NaN</td>\n      <td>NaN</td>\n      <td>NaN</td>\n      <td>NaN</td>\n      <td>NaN</td>\n      <td>NaN</td>\n      <td>NaN</td>\n      <td>NaN</td>\n      <td>NaN</td>\n      <td>Windows NT</td>\n    </tr>\n    <tr>\n      <th>3</th>\n      <td>1372</td>\n      <td>33963</td>\n      <td>33771</td>\n      <td>18</td>\n      <td>830093</td>\n      <td>{\"lead_id\":33963,\"campaign_id\":101,\"form_id\":4...</td>\n      <td>DONATIONFAILED_WEBHOOK: 51</td>\n      <td>70711</td>\n      <td>True</td>\n      <td>50000.0</td>\n      <td>...</td>\n      <td>NaN</td>\n      <td>NaN</td>\n      <td>NaN</td>\n      <td>NaN</td>\n      <td>NaN</td>\n      <td>NaN</td>\n      <td>NaN</td>\n      <td>NaN</td>\n      <td>NaN</td>\n      <td>Windows NT</td>\n    </tr>\n    <tr>\n      <th>4</th>\n      <td>1373</td>\n      <td>33963</td>\n      <td>33771</td>\n      <td>18</td>\n      <td>839621</td>\n      <td>{\"lead_id\":33963,\"campaign_id\":101,\"form_id\":4...</td>\n      <td>DONATIONFAILED_WEBHOOK: 51</td>\n      <td>70711</td>\n      <td>True</td>\n      <td>50000.0</td>\n      <td>...</td>\n      <td>NaN</td>\n      <td>NaN</td>\n      <td>NaN</td>\n      <td>NaN</td>\n      <td>NaN</td>\n      <td>NaN</td>\n      <td>NaN</td>\n      <td>NaN</td>\n      <td>NaN</td>\n      <td>Windows NT</td>\n    </tr>\n    <tr>\n      <th>5</th>\n      <td>1374</td>\n      <td>33963</td>\n      <td>33771</td>\n      <td>18</td>\n      <td>834134</td>\n      <td>{\"lead_id\":33963,\"campaign_id\":101,\"form_id\":4...</td>\n      <td>DONATIONFAILED_WEBHOOK: 51</td>\n      <td>70711</td>\n      <td>True</td>\n      <td>50000.0</td>\n      <td>...</td>\n      <td>NaN</td>\n      <td>NaN</td>\n      <td>NaN</td>\n      <td>NaN</td>\n      <td>NaN</td>\n      <td>NaN</td>\n      <td>NaN</td>\n      <td>NaN</td>\n      <td>NaN</td>\n      <td>Windows NT</td>\n    </tr>\n    <tr>\n      <th>6</th>\n      <td>1375</td>\n      <td>33963</td>\n      <td>33771</td>\n      <td>18</td>\n      <td>842386</td>\n      <td>{\"lead_id\":33963,\"campaign_id\":101,\"form_id\":4...</td>\n      <td>CHARGERECURRENT_WEBHOOK</td>\n      <td>70711</td>\n      <td>True</td>\n      <td>50000.0</td>\n      <td>...</td>\n      <td>NaN</td>\n      <td>NaN</td>\n      <td>NaN</td>\n      <td>NaN</td>\n      <td>NaN</td>\n      <td>NaN</td>\n      <td>NaN</td>\n      <td>NaN</td>\n      <td>NaN</td>\n      <td>Windows NT</td>\n    </tr>\n    <tr>\n      <th>7</th>\n      <td>1384</td>\n      <td>18</td>\n      <td>25</td>\n      <td>1</td>\n      <td>783326</td>\n      <td>{\"form_id\":13,\"lead_id\":18,\"campaign_id\":4,\"am...</td>\n      <td>CHARGERECURRENT_WEBHOOK</td>\n      <td>57</td>\n      <td>True</td>\n      <td>25.0</td>\n      <td>...</td>\n      <td>NaN</td>\n      <td>NaN</td>\n      <td>NaN</td>\n      <td>NaN</td>\n      <td>NaN</td>\n      <td>NaN</td>\n      <td>NaN</td>\n      <td>NaN</td>\n      <td>NaN</td>\n      <td>NaN</td>\n    </tr>\n    <tr>\n      <th>8</th>\n      <td>1385</td>\n      <td>18</td>\n      <td>25</td>\n      <td>1</td>\n      <td>783110</td>\n      <td>{\"form_id\":13,\"campaign_id\":4,\"lead_id\":18,\"ca...</td>\n      <td>DONATIONRECURRENT_UPDATED_WEBHOOK</td>\n      <td>57</td>\n      <td>True</td>\n      <td>25.0</td>\n      <td>...</td>\n      <td>NaN</td>\n      <td>NaN</td>\n      <td>NaN</td>\n      <td>NaN</td>\n      <td>NaN</td>\n      <td>NaN</td>\n      <td>NaN</td>\n      <td>NaN</td>\n      <td>NaN</td>\n      <td>NaN</td>\n    </tr>\n    <tr>\n      <th>9</th>\n      <td>1386</td>\n      <td>18</td>\n      <td>25</td>\n      <td>1</td>\n      <td>858069</td>\n      <td>{\"form_id\":13,\"campaign_id\":4,\"lead_id\":18,\"ca...</td>\n      <td>DONATIONRECURRENT_UPDATED_WEBHOOK</td>\n      <td>57</td>\n      <td>True</td>\n      <td>25.0</td>\n      <td>...</td>\n      <td>NaN</td>\n      <td>NaN</td>\n      <td>NaN</td>\n      <td>NaN</td>\n      <td>NaN</td>\n      <td>NaN</td>\n      <td>NaN</td>\n      <td>NaN</td>\n      <td>NaN</td>\n      <td>NaN</td>\n    </tr>\n    <tr>\n      <th>10</th>\n      <td>1387</td>\n      <td>18</td>\n      <td>25</td>\n      <td>1</td>\n      <td>858215</td>\n      <td>{\"form_id\":13,\"lead_id\":18,\"campaign_id\":4,\"am...</td>\n      <td>CHARGERECURRENT_WEBHOOK</td>\n      <td>57</td>\n      <td>True</td>\n      <td>25.0</td>\n      <td>...</td>\n      <td>NaN</td>\n      <td>NaN</td>\n      <td>NaN</td>\n      <td>NaN</td>\n      <td>NaN</td>\n      <td>NaN</td>\n      <td>NaN</td>\n      <td>NaN</td>\n      <td>NaN</td>\n      <td>NaN</td>\n    </tr>\n    <tr>\n      <th>11</th>\n      <td>4905</td>\n      <td>5745</td>\n      <td>5608</td>\n      <td>4</td>\n      <td>24700</td>\n      <td>{\"form_id\":232,\"campaign_id\":34,\"lead_id\":5745...</td>\n      <td>LEAD</td>\n      <td>14775</td>\n      <td>True</td>\n      <td>30000.0</td>\n      <td>...</td>\n      <td>NaN</td>\n      <td>NaN</td>\n      <td>NaN</td>\n      <td>NaN</td>\n      <td>NaN</td>\n      <td>NaN</td>\n      <td>NaN</td>\n      <td>NaN</td>\n      <td>NaN</td>\n      <td>NaN</td>\n    </tr>\n    <tr>\n      <th>12</th>\n      <td>4906</td>\n      <td>5745</td>\n      <td>5608</td>\n      <td>4</td>\n      <td>24706</td>\n      <td>{\"form_id\":232,\"campaign_id\":34,\"lead_id\":5745...</td>\n      <td>DONATIONFAILED: NumeroMedioDePago - Valor Invá...</td>\n      <td>14775</td>\n      <td>True</td>\n      <td>30000.0</td>\n      <td>...</td>\n      <td>NaN</td>\n      <td>NaN</td>\n      <td>NaN</td>\n      <td>NaN</td>\n      <td>NaN</td>\n      <td>NaN</td>\n      <td>NaN</td>\n      <td>NaN</td>\n      <td>NaN</td>\n      <td>NaN</td>\n    </tr>\n    <tr>\n      <th>13</th>\n      <td>4907</td>\n      <td>5745</td>\n      <td>5608</td>\n      <td>4</td>\n      <td>24712</td>\n      <td>{\"form_id\":232,\"campaign_id\":34,\"lead_id\":5745...</td>\n      <td>DONATIONRECURRENT</td>\n      <td>14775</td>\n      <td>True</td>\n      <td>30000.0</td>\n      <td>...</td>\n      <td>NaN</td>\n      <td>NaN</td>\n      <td>NaN</td>\n      <td>NaN</td>\n      <td>NaN</td>\n      <td>NaN</td>\n      <td>NaN</td>\n      <td>NaN</td>\n      <td>NaN</td>\n      <td>NaN</td>\n    </tr>\n    <tr>\n      <th>14</th>\n      <td>5188</td>\n      <td>3904</td>\n      <td>3774</td>\n      <td>4</td>\n      <td>22113</td>\n      <td>{\"form_id\":179,\"campaign_id\":33,\"lead_id\":3904...</td>\n      <td>DONATIONRECURRENT</td>\n      <td>14336</td>\n      <td>True</td>\n      <td>30000.0</td>\n      <td>...</td>\n      <td>NaN</td>\n      <td>NaN</td>\n      <td>NaN</td>\n      <td>NaN</td>\n      <td>NaN</td>\n      <td>NaN</td>\n      <td>NaN</td>\n      <td>NaN</td>\n      <td>NaN</td>\n      <td>NaN</td>\n    </tr>\n  </tbody>\n</table>\n<p>15 rows × 72 columns</p>\n</div>"
     },
     "metadata": {},
     "execution_count": 97
    }
   ],
   "source": [
    "df_recur_clean.head(15)"
   ]
  },
  {
   "cell_type": "code",
   "execution_count": 101,
   "metadata": {},
   "outputs": [],
   "source": [
    "group_1 = df_recur_clean.groupby(['person_id']).count()[['index']]"
   ]
  },
  {
   "cell_type": "code",
   "execution_count": 113,
   "metadata": {},
   "outputs": [
    {
     "output_type": "execute_result",
     "data": {
      "text/plain": [
       "2       964\n",
       "4       868\n",
       "3       536\n",
       "6       189\n",
       "5       188\n",
       "       ... \n",
       "466       1\n",
       "298       1\n",
       "288       1\n",
       "196       1\n",
       "4568      1\n",
       "Name: index, Length: 75, dtype: int64"
      ]
     },
     "metadata": {},
     "execution_count": 113
    }
   ],
   "source": [
    "group_1['index'].value_counts()"
   ]
  },
  {
   "cell_type": "code",
   "execution_count": 108,
   "metadata": {},
   "outputs": [
    {
     "output_type": "execute_result",
     "data": {
      "text/plain": [
       "(0.0, 50.0)"
      ]
     },
     "metadata": {},
     "execution_count": 108
    },
    {
     "output_type": "display_data",
     "data": {
      "text/plain": "<Figure size 864x576 with 1 Axes>",
      "image/svg+xml": "<?xml version=\"1.0\" encoding=\"utf-8\" standalone=\"no\"?>\n<!DOCTYPE svg PUBLIC \"-//W3C//DTD SVG 1.1//EN\"\n  \"http://www.w3.org/Graphics/SVG/1.1/DTD/svg11.dtd\">\n<!-- Created with matplotlib (https://matplotlib.org/) -->\n<svg height=\"262.19625pt\" version=\"1.1\" viewBox=\"0 0 404.86875 262.19625\" width=\"404.86875pt\" xmlns=\"http://www.w3.org/2000/svg\" xmlns:xlink=\"http://www.w3.org/1999/xlink\">\n <defs>\n  <style type=\"text/css\">\n*{stroke-linecap:butt;stroke-linejoin:round;}\n  </style>\n </defs>\n <g id=\"figure_1\">\n  <g id=\"patch_1\">\n   <path d=\"M 0 262.19625 \nL 404.86875 262.19625 \nL 404.86875 0 \nL 0 0 \nz\n\" style=\"fill:none;\"/>\n  </g>\n  <g id=\"axes_1\">\n   <g id=\"patch_2\">\n    <path d=\"M 56.50625 224.64 \nL 391.30625 224.64 \nL 391.30625 7.2 \nL 56.50625 7.2 \nz\n\" style=\"fill:#ffffff;\"/>\n   </g>\n   <g id=\"patch_3\">\n    <path clip-path=\"url(#p5888e77cff)\" d=\"M 63.20225 224.64 \nL 2123.96321 224.64 \nL 2123.96321 96.36196 \nL 63.20225 96.36196 \nz\n\" style=\"fill:#1f77b4;opacity:0.4;\"/>\n   </g>\n   <g id=\"patch_4\">\n    <path clip-path=\"url(#p5888e77cff)\" d=\"M 2123.96321 224.64 \nL 4184.72417 224.64 \nL 4184.72417 224.532534 \nL 2123.96321 224.532534 \nz\n\" style=\"fill:#1f77b4;opacity:0.4;\"/>\n   </g>\n   <g id=\"patch_5\">\n    <path clip-path=\"url(#p5888e77cff)\" d=\"M 4184.72417 224.64 \nL 6245.48513 224.64 \nL 6245.48513 224.496713 \nL 4184.72417 224.496713 \nz\n\" style=\"fill:#1f77b4;opacity:0.4;\"/>\n   </g>\n   <g id=\"patch_6\">\n    <path clip-path=\"url(#p5888e77cff)\" d=\"M 6245.48513 224.64 \nL 8306.24609 224.64 \nL 8306.24609 224.568356 \nL 6245.48513 224.568356 \nz\n\" style=\"fill:#1f77b4;opacity:0.4;\"/>\n   </g>\n   <g id=\"patch_7\">\n    <path clip-path=\"url(#p5888e77cff)\" d=\"M 8306.24609 224.64 \nL 10367.00705 224.64 \nL 10367.00705 224.604178 \nL 8306.24609 224.604178 \nz\n\" style=\"fill:#1f77b4;opacity:0.4;\"/>\n   </g>\n   <g id=\"patch_8\">\n    <path clip-path=\"url(#p5888e77cff)\" d=\"M 10367.00705 224.64 \nL 12427.76801 224.64 \nL 12427.76801 224.64 \nL 10367.00705 224.64 \nz\n\" style=\"fill:#1f77b4;opacity:0.4;\"/>\n   </g>\n   <g id=\"patch_9\">\n    <path clip-path=\"url(#p5888e77cff)\" d=\"M 12427.76801 224.64 \nL 14488.52897 224.64 \nL 14488.52897 224.604178 \nL 12427.76801 224.604178 \nz\n\" style=\"fill:#1f77b4;opacity:0.4;\"/>\n   </g>\n   <g id=\"patch_10\">\n    <path clip-path=\"url(#p5888e77cff)\" d=\"M 14488.52897 224.64 \nL 16549.28993 224.64 \nL 16549.28993 224.64 \nL 14488.52897 224.64 \nz\n\" style=\"fill:#1f77b4;opacity:0.4;\"/>\n   </g>\n   <g id=\"patch_11\">\n    <path clip-path=\"url(#p5888e77cff)\" d=\"M 16549.28993 224.64 \nL 18610.05089 224.64 \nL 18610.05089 224.64 \nL 16549.28993 224.64 \nz\n\" style=\"fill:#1f77b4;opacity:0.4;\"/>\n   </g>\n   <g id=\"patch_12\">\n    <path clip-path=\"url(#p5888e77cff)\" d=\"M 18610.05089 224.64 \nL 20670.81185 224.64 \nL 20670.81185 224.64 \nL 18610.05089 224.64 \nz\n\" style=\"fill:#1f77b4;opacity:0.4;\"/>\n   </g>\n   <g id=\"patch_13\">\n    <path clip-path=\"url(#p5888e77cff)\" d=\"M 20670.81185 224.64 \nL 22731.57281 224.64 \nL 22731.57281 224.64 \nL 20670.81185 224.64 \nz\n\" style=\"fill:#1f77b4;opacity:0.4;\"/>\n   </g>\n   <g id=\"patch_14\">\n    <path clip-path=\"url(#p5888e77cff)\" d=\"M 22731.57281 224.64 \nL 24792.33377 224.64 \nL 24792.33377 224.64 \nL 22731.57281 224.64 \nz\n\" style=\"fill:#1f77b4;opacity:0.4;\"/>\n   </g>\n   <g id=\"patch_15\">\n    <path clip-path=\"url(#p5888e77cff)\" d=\"M 24792.33377 224.64 \nL 26853.09473 224.64 \nL 26853.09473 224.64 \nL 24792.33377 224.64 \nz\n\" style=\"fill:#1f77b4;opacity:0.4;\"/>\n   </g>\n   <g id=\"patch_16\">\n    <path clip-path=\"url(#p5888e77cff)\" d=\"M 26853.09473 224.64 \nL 28913.85569 224.64 \nL 28913.85569 224.64 \nL 26853.09473 224.64 \nz\n\" style=\"fill:#1f77b4;opacity:0.4;\"/>\n   </g>\n   <g id=\"patch_17\">\n    <path clip-path=\"url(#p5888e77cff)\" d=\"M 28913.85569 224.64 \nL 30974.61665 224.64 \nL 30974.61665 224.604178 \nL 28913.85569 224.604178 \nz\n\" style=\"fill:#1f77b4;opacity:0.4;\"/>\n   </g>\n   <g id=\"patch_18\">\n    <path clip-path=\"url(#p5888e77cff)\" d=\"M 30974.61665 224.64 \nL 33035.37761 224.64 \nL 33035.37761 224.64 \nL 30974.61665 224.64 \nz\n\" style=\"fill:#1f77b4;opacity:0.4;\"/>\n   </g>\n   <g id=\"patch_19\">\n    <path clip-path=\"url(#p5888e77cff)\" d=\"M 33035.37761 224.64 \nL 35096.13857 224.64 \nL 35096.13857 224.64 \nL 33035.37761 224.64 \nz\n\" style=\"fill:#1f77b4;opacity:0.4;\"/>\n   </g>\n   <g id=\"patch_20\">\n    <path clip-path=\"url(#p5888e77cff)\" d=\"M 35096.13857 224.64 \nL 37156.89953 224.64 \nL 37156.89953 224.64 \nL 35096.13857 224.64 \nz\n\" style=\"fill:#1f77b4;opacity:0.4;\"/>\n   </g>\n   <g id=\"patch_21\">\n    <path clip-path=\"url(#p5888e77cff)\" d=\"M 37156.89953 224.64 \nL 39217.66049 224.64 \nL 39217.66049 224.64 \nL 37156.89953 224.64 \nz\n\" style=\"fill:#1f77b4;opacity:0.4;\"/>\n   </g>\n   <g id=\"patch_22\">\n    <path clip-path=\"url(#p5888e77cff)\" d=\"M 39217.66049 224.64 \nL 41278.42145 224.64 \nL 41278.42145 224.64 \nL 39217.66049 224.64 \nz\n\" style=\"fill:#1f77b4;opacity:0.4;\"/>\n   </g>\n   <g id=\"patch_23\">\n    <path clip-path=\"url(#p5888e77cff)\" d=\"M 41278.42145 224.64 \nL 43339.18241 224.64 \nL 43339.18241 224.64 \nL 41278.42145 224.64 \nz\n\" style=\"fill:#1f77b4;opacity:0.4;\"/>\n   </g>\n   <g id=\"patch_24\">\n    <path clip-path=\"url(#p5888e77cff)\" d=\"M 43339.18241 224.64 \nL 45399.94337 224.64 \nL 45399.94337 224.64 \nL 43339.18241 224.64 \nz\n\" style=\"fill:#1f77b4;opacity:0.4;\"/>\n   </g>\n   <g id=\"patch_25\">\n    <path clip-path=\"url(#p5888e77cff)\" d=\"M 45399.94337 224.64 \nL 47460.70433 224.64 \nL 47460.70433 224.64 \nL 45399.94337 224.64 \nz\n\" style=\"fill:#1f77b4;opacity:0.4;\"/>\n   </g>\n   <g id=\"patch_26\">\n    <path clip-path=\"url(#p5888e77cff)\" d=\"M 47460.70433 224.64 \nL 49521.46529 224.64 \nL 49521.46529 224.64 \nL 47460.70433 224.64 \nz\n\" style=\"fill:#1f77b4;opacity:0.4;\"/>\n   </g>\n   <g id=\"patch_27\">\n    <path clip-path=\"url(#p5888e77cff)\" d=\"M 49521.46529 224.64 \nL 51582.22625 224.64 \nL 51582.22625 224.64 \nL 49521.46529 224.64 \nz\n\" style=\"fill:#1f77b4;opacity:0.4;\"/>\n   </g>\n   <g id=\"patch_28\">\n    <path clip-path=\"url(#p5888e77cff)\" d=\"M 51582.22625 224.64 \nL 53642.98721 224.64 \nL 53642.98721 224.64 \nL 51582.22625 224.64 \nz\n\" style=\"fill:#1f77b4;opacity:0.4;\"/>\n   </g>\n   <g id=\"patch_29\">\n    <path clip-path=\"url(#p5888e77cff)\" d=\"M 53642.98721 224.64 \nL 55703.74817 224.64 \nL 55703.74817 224.64 \nL 53642.98721 224.64 \nz\n\" style=\"fill:#1f77b4;opacity:0.4;\"/>\n   </g>\n   <g id=\"patch_30\">\n    <path clip-path=\"url(#p5888e77cff)\" d=\"M 55703.74817 224.64 \nL 57764.50913 224.64 \nL 57764.50913 224.64 \nL 55703.74817 224.64 \nz\n\" style=\"fill:#1f77b4;opacity:0.4;\"/>\n   </g>\n   <g id=\"patch_31\">\n    <path clip-path=\"url(#p5888e77cff)\" d=\"M 57764.50913 224.64 \nL 59825.27009 224.64 \nL 59825.27009 224.64 \nL 57764.50913 224.64 \nz\n\" style=\"fill:#1f77b4;opacity:0.4;\"/>\n   </g>\n   <g id=\"patch_32\">\n    <path clip-path=\"url(#p5888e77cff)\" d=\"M 59825.27009 224.64 \nL 61886.03105 224.64 \nL 61886.03105 224.64 \nL 59825.27009 224.64 \nz\n\" style=\"fill:#1f77b4;opacity:0.4;\"/>\n   </g>\n   <g id=\"patch_33\">\n    <path clip-path=\"url(#p5888e77cff)\" d=\"M 61886.03105 224.64 \nL 63946.79201 224.64 \nL 63946.79201 224.604178 \nL 61886.03105 224.604178 \nz\n\" style=\"fill:#1f77b4;opacity:0.4;\"/>\n   </g>\n   <g id=\"patch_34\">\n    <path clip-path=\"url(#p5888e77cff)\" d=\"M 63946.79201 224.64 \nL 66007.55297 224.64 \nL 66007.55297 224.64 \nL 63946.79201 224.64 \nz\n\" style=\"fill:#1f77b4;opacity:0.4;\"/>\n   </g>\n   <g id=\"patch_35\">\n    <path clip-path=\"url(#p5888e77cff)\" d=\"M 66007.55297 224.64 \nL 68068.31393 224.64 \nL 68068.31393 224.64 \nL 66007.55297 224.64 \nz\n\" style=\"fill:#1f77b4;opacity:0.4;\"/>\n   </g>\n   <g id=\"patch_36\">\n    <path clip-path=\"url(#p5888e77cff)\" d=\"M 68068.31393 224.64 \nL 70129.07489 224.64 \nL 70129.07489 224.64 \nL 68068.31393 224.64 \nz\n\" style=\"fill:#1f77b4;opacity:0.4;\"/>\n   </g>\n   <g id=\"patch_37\">\n    <path clip-path=\"url(#p5888e77cff)\" d=\"M 70129.07489 224.64 \nL 72189.83585 224.64 \nL 72189.83585 224.64 \nL 70129.07489 224.64 \nz\n\" style=\"fill:#1f77b4;opacity:0.4;\"/>\n   </g>\n   <g id=\"patch_38\">\n    <path clip-path=\"url(#p5888e77cff)\" d=\"M 72189.83585 224.64 \nL 74250.59681 224.64 \nL 74250.59681 224.64 \nL 72189.83585 224.64 \nz\n\" style=\"fill:#1f77b4;opacity:0.4;\"/>\n   </g>\n   <g id=\"patch_39\">\n    <path clip-path=\"url(#p5888e77cff)\" d=\"M 74250.59681 224.64 \nL 76311.35777 224.64 \nL 76311.35777 224.64 \nL 74250.59681 224.64 \nz\n\" style=\"fill:#1f77b4;opacity:0.4;\"/>\n   </g>\n   <g id=\"patch_40\">\n    <path clip-path=\"url(#p5888e77cff)\" d=\"M 76311.35777 224.64 \nL 78372.11873 224.64 \nL 78372.11873 224.64 \nL 76311.35777 224.64 \nz\n\" style=\"fill:#1f77b4;opacity:0.4;\"/>\n   </g>\n   <g id=\"patch_41\">\n    <path clip-path=\"url(#p5888e77cff)\" d=\"M 78372.11873 224.64 \nL 80432.87969 224.64 \nL 80432.87969 224.64 \nL 78372.11873 224.64 \nz\n\" style=\"fill:#1f77b4;opacity:0.4;\"/>\n   </g>\n   <g id=\"patch_42\">\n    <path clip-path=\"url(#p5888e77cff)\" d=\"M 80432.87969 224.64 \nL 82493.64065 224.64 \nL 82493.64065 224.64 \nL 80432.87969 224.64 \nz\n\" style=\"fill:#1f77b4;opacity:0.4;\"/>\n   </g>\n   <g id=\"patch_43\">\n    <path clip-path=\"url(#p5888e77cff)\" d=\"M 82493.64065 224.64 \nL 84554.40161 224.64 \nL 84554.40161 224.64 \nL 82493.64065 224.64 \nz\n\" style=\"fill:#1f77b4;opacity:0.4;\"/>\n   </g>\n   <g id=\"patch_44\">\n    <path clip-path=\"url(#p5888e77cff)\" d=\"M 84554.40161 224.64 \nL 86615.16257 224.64 \nL 86615.16257 224.64 \nL 84554.40161 224.64 \nz\n\" style=\"fill:#1f77b4;opacity:0.4;\"/>\n   </g>\n   <g id=\"patch_45\">\n    <path clip-path=\"url(#p5888e77cff)\" d=\"M 86615.16257 224.64 \nL 88675.92353 224.64 \nL 88675.92353 224.64 \nL 86615.16257 224.64 \nz\n\" style=\"fill:#1f77b4;opacity:0.4;\"/>\n   </g>\n   <g id=\"patch_46\">\n    <path clip-path=\"url(#p5888e77cff)\" d=\"M 88675.92353 224.64 \nL 90736.68449 224.64 \nL 90736.68449 224.604178 \nL 88675.92353 224.604178 \nz\n\" style=\"fill:#1f77b4;opacity:0.4;\"/>\n   </g>\n   <g id=\"patch_47\">\n    <path clip-path=\"url(#p5888e77cff)\" d=\"M 90736.68449 224.64 \nL 92797.44545 224.64 \nL 92797.44545 224.64 \nL 90736.68449 224.64 \nz\n\" style=\"fill:#1f77b4;opacity:0.4;\"/>\n   </g>\n   <g id=\"patch_48\">\n    <path clip-path=\"url(#p5888e77cff)\" d=\"M 92797.44545 224.64 \nL 94858.20641 224.64 \nL 94858.20641 224.64 \nL 92797.44545 224.64 \nz\n\" style=\"fill:#1f77b4;opacity:0.4;\"/>\n   </g>\n   <g id=\"patch_49\">\n    <path clip-path=\"url(#p5888e77cff)\" d=\"M 94858.20641 224.64 \nL 96918.96737 224.64 \nL 96918.96737 224.64 \nL 94858.20641 224.64 \nz\n\" style=\"fill:#1f77b4;opacity:0.4;\"/>\n   </g>\n   <g id=\"patch_50\">\n    <path clip-path=\"url(#p5888e77cff)\" d=\"M 96918.96737 224.64 \nL 98979.72833 224.64 \nL 98979.72833 224.64 \nL 96918.96737 224.64 \nz\n\" style=\"fill:#1f77b4;opacity:0.4;\"/>\n   </g>\n   <g id=\"patch_51\">\n    <path clip-path=\"url(#p5888e77cff)\" d=\"M 98979.72833 224.64 \nL 101040.48929 224.64 \nL 101040.48929 224.64 \nL 98979.72833 224.64 \nz\n\" style=\"fill:#1f77b4;opacity:0.4;\"/>\n   </g>\n   <g id=\"patch_52\">\n    <path clip-path=\"url(#p5888e77cff)\" d=\"M 101040.48929 224.64 \nL 103101.25025 224.64 \nL 103101.25025 224.604178 \nL 101040.48929 224.604178 \nz\n\" style=\"fill:#1f77b4;opacity:0.4;\"/>\n   </g>\n   <g id=\"matplotlib.axis_1\">\n    <g id=\"xtick_1\">\n     <g id=\"line2d_1\">\n      <defs>\n       <path d=\"M 0 0 \nL 0 3.5 \n\" id=\"m9ba9c81049\" style=\"stroke:#000000;stroke-width:0.8;\"/>\n      </defs>\n      <g>\n       <use style=\"stroke:#000000;stroke-width:0.8;\" x=\"56.50625\" xlink:href=\"#m9ba9c81049\" y=\"224.64\"/>\n      </g>\n     </g>\n     <g id=\"text_1\">\n      <!-- 0 -->\n      <defs>\n       <path d=\"M 31.78125 66.40625 \nQ 24.171875 66.40625 20.328125 58.90625 \nQ 16.5 51.421875 16.5 36.375 \nQ 16.5 21.390625 20.328125 13.890625 \nQ 24.171875 6.390625 31.78125 6.390625 \nQ 39.453125 6.390625 43.28125 13.890625 \nQ 47.125 21.390625 47.125 36.375 \nQ 47.125 51.421875 43.28125 58.90625 \nQ 39.453125 66.40625 31.78125 66.40625 \nz\nM 31.78125 74.21875 \nQ 44.046875 74.21875 50.515625 64.515625 \nQ 56.984375 54.828125 56.984375 36.375 \nQ 56.984375 17.96875 50.515625 8.265625 \nQ 44.046875 -1.421875 31.78125 -1.421875 \nQ 19.53125 -1.421875 13.0625 8.265625 \nQ 6.59375 17.96875 6.59375 36.375 \nQ 6.59375 54.828125 13.0625 64.515625 \nQ 19.53125 74.21875 31.78125 74.21875 \nz\n\" id=\"DejaVuSans-48\"/>\n      </defs>\n      <g transform=\"translate(53.325 239.238437)scale(0.1 -0.1)\">\n       <use xlink:href=\"#DejaVuSans-48\"/>\n      </g>\n     </g>\n    </g>\n    <g id=\"xtick_2\">\n     <g id=\"line2d_2\">\n      <g>\n       <use style=\"stroke:#000000;stroke-width:0.8;\" x=\"123.46625\" xlink:href=\"#m9ba9c81049\" y=\"224.64\"/>\n      </g>\n     </g>\n     <g id=\"text_2\">\n      <!-- 10 -->\n      <defs>\n       <path d=\"M 12.40625 8.296875 \nL 28.515625 8.296875 \nL 28.515625 63.921875 \nL 10.984375 60.40625 \nL 10.984375 69.390625 \nL 28.421875 72.90625 \nL 38.28125 72.90625 \nL 38.28125 8.296875 \nL 54.390625 8.296875 \nL 54.390625 0 \nL 12.40625 0 \nz\n\" id=\"DejaVuSans-49\"/>\n      </defs>\n      <g transform=\"translate(117.10375 239.238437)scale(0.1 -0.1)\">\n       <use xlink:href=\"#DejaVuSans-49\"/>\n       <use x=\"63.623047\" xlink:href=\"#DejaVuSans-48\"/>\n      </g>\n     </g>\n    </g>\n    <g id=\"xtick_3\">\n     <g id=\"line2d_3\">\n      <g>\n       <use style=\"stroke:#000000;stroke-width:0.8;\" x=\"190.42625\" xlink:href=\"#m9ba9c81049\" y=\"224.64\"/>\n      </g>\n     </g>\n     <g id=\"text_3\">\n      <!-- 20 -->\n      <defs>\n       <path d=\"M 19.1875 8.296875 \nL 53.609375 8.296875 \nL 53.609375 0 \nL 7.328125 0 \nL 7.328125 8.296875 \nQ 12.9375 14.109375 22.625 23.890625 \nQ 32.328125 33.6875 34.8125 36.53125 \nQ 39.546875 41.84375 41.421875 45.53125 \nQ 43.3125 49.21875 43.3125 52.78125 \nQ 43.3125 58.59375 39.234375 62.25 \nQ 35.15625 65.921875 28.609375 65.921875 \nQ 23.96875 65.921875 18.8125 64.3125 \nQ 13.671875 62.703125 7.8125 59.421875 \nL 7.8125 69.390625 \nQ 13.765625 71.78125 18.9375 73 \nQ 24.125 74.21875 28.421875 74.21875 \nQ 39.75 74.21875 46.484375 68.546875 \nQ 53.21875 62.890625 53.21875 53.421875 \nQ 53.21875 48.921875 51.53125 44.890625 \nQ 49.859375 40.875 45.40625 35.40625 \nQ 44.1875 33.984375 37.640625 27.21875 \nQ 31.109375 20.453125 19.1875 8.296875 \nz\n\" id=\"DejaVuSans-50\"/>\n      </defs>\n      <g transform=\"translate(184.06375 239.238437)scale(0.1 -0.1)\">\n       <use xlink:href=\"#DejaVuSans-50\"/>\n       <use x=\"63.623047\" xlink:href=\"#DejaVuSans-48\"/>\n      </g>\n     </g>\n    </g>\n    <g id=\"xtick_4\">\n     <g id=\"line2d_4\">\n      <g>\n       <use style=\"stroke:#000000;stroke-width:0.8;\" x=\"257.38625\" xlink:href=\"#m9ba9c81049\" y=\"224.64\"/>\n      </g>\n     </g>\n     <g id=\"text_4\">\n      <!-- 30 -->\n      <defs>\n       <path d=\"M 40.578125 39.3125 \nQ 47.65625 37.796875 51.625 33 \nQ 55.609375 28.21875 55.609375 21.1875 \nQ 55.609375 10.40625 48.1875 4.484375 \nQ 40.765625 -1.421875 27.09375 -1.421875 \nQ 22.515625 -1.421875 17.65625 -0.515625 \nQ 12.796875 0.390625 7.625 2.203125 \nL 7.625 11.71875 \nQ 11.71875 9.328125 16.59375 8.109375 \nQ 21.484375 6.890625 26.8125 6.890625 \nQ 36.078125 6.890625 40.9375 10.546875 \nQ 45.796875 14.203125 45.796875 21.1875 \nQ 45.796875 27.640625 41.28125 31.265625 \nQ 36.765625 34.90625 28.71875 34.90625 \nL 20.21875 34.90625 \nL 20.21875 43.015625 \nL 29.109375 43.015625 \nQ 36.375 43.015625 40.234375 45.921875 \nQ 44.09375 48.828125 44.09375 54.296875 \nQ 44.09375 59.90625 40.109375 62.90625 \nQ 36.140625 65.921875 28.71875 65.921875 \nQ 24.65625 65.921875 20.015625 65.03125 \nQ 15.375 64.15625 9.8125 62.3125 \nL 9.8125 71.09375 \nQ 15.4375 72.65625 20.34375 73.4375 \nQ 25.25 74.21875 29.59375 74.21875 \nQ 40.828125 74.21875 47.359375 69.109375 \nQ 53.90625 64.015625 53.90625 55.328125 \nQ 53.90625 49.265625 50.4375 45.09375 \nQ 46.96875 40.921875 40.578125 39.3125 \nz\n\" id=\"DejaVuSans-51\"/>\n      </defs>\n      <g transform=\"translate(251.02375 239.238437)scale(0.1 -0.1)\">\n       <use xlink:href=\"#DejaVuSans-51\"/>\n       <use x=\"63.623047\" xlink:href=\"#DejaVuSans-48\"/>\n      </g>\n     </g>\n    </g>\n    <g id=\"xtick_5\">\n     <g id=\"line2d_5\">\n      <g>\n       <use style=\"stroke:#000000;stroke-width:0.8;\" x=\"324.34625\" xlink:href=\"#m9ba9c81049\" y=\"224.64\"/>\n      </g>\n     </g>\n     <g id=\"text_5\">\n      <!-- 40 -->\n      <defs>\n       <path d=\"M 37.796875 64.3125 \nL 12.890625 25.390625 \nL 37.796875 25.390625 \nz\nM 35.203125 72.90625 \nL 47.609375 72.90625 \nL 47.609375 25.390625 \nL 58.015625 25.390625 \nL 58.015625 17.1875 \nL 47.609375 17.1875 \nL 47.609375 0 \nL 37.796875 0 \nL 37.796875 17.1875 \nL 4.890625 17.1875 \nL 4.890625 26.703125 \nz\n\" id=\"DejaVuSans-52\"/>\n      </defs>\n      <g transform=\"translate(317.98375 239.238437)scale(0.1 -0.1)\">\n       <use xlink:href=\"#DejaVuSans-52\"/>\n       <use x=\"63.623047\" xlink:href=\"#DejaVuSans-48\"/>\n      </g>\n     </g>\n    </g>\n    <g id=\"xtick_6\">\n     <g id=\"line2d_6\">\n      <g>\n       <use style=\"stroke:#000000;stroke-width:0.8;\" x=\"391.30625\" xlink:href=\"#m9ba9c81049\" y=\"224.64\"/>\n      </g>\n     </g>\n     <g id=\"text_6\">\n      <!-- 50 -->\n      <defs>\n       <path d=\"M 10.796875 72.90625 \nL 49.515625 72.90625 \nL 49.515625 64.59375 \nL 19.828125 64.59375 \nL 19.828125 46.734375 \nQ 21.96875 47.46875 24.109375 47.828125 \nQ 26.265625 48.1875 28.421875 48.1875 \nQ 40.625 48.1875 47.75 41.5 \nQ 54.890625 34.8125 54.890625 23.390625 \nQ 54.890625 11.625 47.5625 5.09375 \nQ 40.234375 -1.421875 26.90625 -1.421875 \nQ 22.3125 -1.421875 17.546875 -0.640625 \nQ 12.796875 0.140625 7.71875 1.703125 \nL 7.71875 11.625 \nQ 12.109375 9.234375 16.796875 8.0625 \nQ 21.484375 6.890625 26.703125 6.890625 \nQ 35.15625 6.890625 40.078125 11.328125 \nQ 45.015625 15.765625 45.015625 23.390625 \nQ 45.015625 31 40.078125 35.4375 \nQ 35.15625 39.890625 26.703125 39.890625 \nQ 22.75 39.890625 18.8125 39.015625 \nQ 14.890625 38.140625 10.796875 36.28125 \nz\n\" id=\"DejaVuSans-53\"/>\n      </defs>\n      <g transform=\"translate(384.94375 239.238437)scale(0.1 -0.1)\">\n       <use xlink:href=\"#DejaVuSans-53\"/>\n       <use x=\"63.623047\" xlink:href=\"#DejaVuSans-48\"/>\n      </g>\n     </g>\n    </g>\n    <g id=\"text_7\">\n     <!-- index -->\n     <defs>\n      <path d=\"M 9.421875 54.6875 \nL 18.40625 54.6875 \nL 18.40625 0 \nL 9.421875 0 \nz\nM 9.421875 75.984375 \nL 18.40625 75.984375 \nL 18.40625 64.59375 \nL 9.421875 64.59375 \nz\n\" id=\"DejaVuSans-105\"/>\n      <path d=\"M 54.890625 33.015625 \nL 54.890625 0 \nL 45.90625 0 \nL 45.90625 32.71875 \nQ 45.90625 40.484375 42.875 44.328125 \nQ 39.84375 48.1875 33.796875 48.1875 \nQ 26.515625 48.1875 22.3125 43.546875 \nQ 18.109375 38.921875 18.109375 30.90625 \nL 18.109375 0 \nL 9.078125 0 \nL 9.078125 54.6875 \nL 18.109375 54.6875 \nL 18.109375 46.1875 \nQ 21.34375 51.125 25.703125 53.5625 \nQ 30.078125 56 35.796875 56 \nQ 45.21875 56 50.046875 50.171875 \nQ 54.890625 44.34375 54.890625 33.015625 \nz\n\" id=\"DejaVuSans-110\"/>\n      <path d=\"M 45.40625 46.390625 \nL 45.40625 75.984375 \nL 54.390625 75.984375 \nL 54.390625 0 \nL 45.40625 0 \nL 45.40625 8.203125 \nQ 42.578125 3.328125 38.25 0.953125 \nQ 33.9375 -1.421875 27.875 -1.421875 \nQ 17.96875 -1.421875 11.734375 6.484375 \nQ 5.515625 14.40625 5.515625 27.296875 \nQ 5.515625 40.1875 11.734375 48.09375 \nQ 17.96875 56 27.875 56 \nQ 33.9375 56 38.25 53.625 \nQ 42.578125 51.265625 45.40625 46.390625 \nz\nM 14.796875 27.296875 \nQ 14.796875 17.390625 18.875 11.75 \nQ 22.953125 6.109375 30.078125 6.109375 \nQ 37.203125 6.109375 41.296875 11.75 \nQ 45.40625 17.390625 45.40625 27.296875 \nQ 45.40625 37.203125 41.296875 42.84375 \nQ 37.203125 48.484375 30.078125 48.484375 \nQ 22.953125 48.484375 18.875 42.84375 \nQ 14.796875 37.203125 14.796875 27.296875 \nz\n\" id=\"DejaVuSans-100\"/>\n      <path d=\"M 56.203125 29.59375 \nL 56.203125 25.203125 \nL 14.890625 25.203125 \nQ 15.484375 15.921875 20.484375 11.0625 \nQ 25.484375 6.203125 34.421875 6.203125 \nQ 39.59375 6.203125 44.453125 7.46875 \nQ 49.3125 8.734375 54.109375 11.28125 \nL 54.109375 2.78125 \nQ 49.265625 0.734375 44.1875 -0.34375 \nQ 39.109375 -1.421875 33.890625 -1.421875 \nQ 20.796875 -1.421875 13.15625 6.1875 \nQ 5.515625 13.8125 5.515625 26.8125 \nQ 5.515625 40.234375 12.765625 48.109375 \nQ 20.015625 56 32.328125 56 \nQ 43.359375 56 49.78125 48.890625 \nQ 56.203125 41.796875 56.203125 29.59375 \nz\nM 47.21875 32.234375 \nQ 47.125 39.59375 43.09375 43.984375 \nQ 39.0625 48.390625 32.421875 48.390625 \nQ 24.90625 48.390625 20.390625 44.140625 \nQ 15.875 39.890625 15.1875 32.171875 \nz\n\" id=\"DejaVuSans-101\"/>\n      <path d=\"M 54.890625 54.6875 \nL 35.109375 28.078125 \nL 55.90625 0 \nL 45.3125 0 \nL 29.390625 21.484375 \nL 13.484375 0 \nL 2.875 0 \nL 24.125 28.609375 \nL 4.6875 54.6875 \nL 15.28125 54.6875 \nL 29.78125 35.203125 \nL 44.28125 54.6875 \nz\n\" id=\"DejaVuSans-120\"/>\n     </defs>\n     <g transform=\"translate(210.225781 252.916562)scale(0.1 -0.1)\">\n      <use xlink:href=\"#DejaVuSans-105\"/>\n      <use x=\"27.783203\" xlink:href=\"#DejaVuSans-110\"/>\n      <use x=\"91.162109\" xlink:href=\"#DejaVuSans-100\"/>\n      <use x=\"154.638672\" xlink:href=\"#DejaVuSans-101\"/>\n      <use x=\"214.412109\" xlink:href=\"#DejaVuSans-120\"/>\n     </g>\n    </g>\n   </g>\n   <g id=\"matplotlib.axis_2\">\n    <g id=\"ytick_1\">\n     <g id=\"line2d_7\">\n      <defs>\n       <path d=\"M 0 0 \nL -3.5 0 \n\" id=\"mdb4a01824e\" style=\"stroke:#000000;stroke-width:0.8;\"/>\n      </defs>\n      <g>\n       <use style=\"stroke:#000000;stroke-width:0.8;\" x=\"56.50625\" xlink:href=\"#mdb4a01824e\" y=\"224.64\"/>\n      </g>\n     </g>\n     <g id=\"text_8\">\n      <!-- 0.000 -->\n      <defs>\n       <path d=\"M 10.6875 12.40625 \nL 21 12.40625 \nL 21 0 \nL 10.6875 0 \nz\n\" id=\"DejaVuSans-46\"/>\n      </defs>\n      <g transform=\"translate(20.878125 228.439219)scale(0.1 -0.1)\">\n       <use xlink:href=\"#DejaVuSans-48\"/>\n       <use x=\"63.623047\" xlink:href=\"#DejaVuSans-46\"/>\n       <use x=\"95.410156\" xlink:href=\"#DejaVuSans-48\"/>\n       <use x=\"159.033203\" xlink:href=\"#DejaVuSans-48\"/>\n       <use x=\"222.65625\" xlink:href=\"#DejaVuSans-48\"/>\n      </g>\n     </g>\n    </g>\n    <g id=\"ytick_2\">\n     <g id=\"line2d_8\">\n      <g>\n       <use style=\"stroke:#000000;stroke-width:0.8;\" x=\"56.50625\" xlink:href=\"#mdb4a01824e\" y=\"184.995782\"/>\n      </g>\n     </g>\n     <g id=\"text_9\">\n      <!-- 0.001 -->\n      <g transform=\"translate(20.878125 188.795001)scale(0.1 -0.1)\">\n       <use xlink:href=\"#DejaVuSans-48\"/>\n       <use x=\"63.623047\" xlink:href=\"#DejaVuSans-46\"/>\n       <use x=\"95.410156\" xlink:href=\"#DejaVuSans-48\"/>\n       <use x=\"159.033203\" xlink:href=\"#DejaVuSans-48\"/>\n       <use x=\"222.65625\" xlink:href=\"#DejaVuSans-49\"/>\n      </g>\n     </g>\n    </g>\n    <g id=\"ytick_3\">\n     <g id=\"line2d_9\">\n      <g>\n       <use style=\"stroke:#000000;stroke-width:0.8;\" x=\"56.50625\" xlink:href=\"#mdb4a01824e\" y=\"145.351565\"/>\n      </g>\n     </g>\n     <g id=\"text_10\">\n      <!-- 0.002 -->\n      <g transform=\"translate(20.878125 149.150784)scale(0.1 -0.1)\">\n       <use xlink:href=\"#DejaVuSans-48\"/>\n       <use x=\"63.623047\" xlink:href=\"#DejaVuSans-46\"/>\n       <use x=\"95.410156\" xlink:href=\"#DejaVuSans-48\"/>\n       <use x=\"159.033203\" xlink:href=\"#DejaVuSans-48\"/>\n       <use x=\"222.65625\" xlink:href=\"#DejaVuSans-50\"/>\n      </g>\n     </g>\n    </g>\n    <g id=\"ytick_4\">\n     <g id=\"line2d_10\">\n      <g>\n       <use style=\"stroke:#000000;stroke-width:0.8;\" x=\"56.50625\" xlink:href=\"#mdb4a01824e\" y=\"105.707347\"/>\n      </g>\n     </g>\n     <g id=\"text_11\">\n      <!-- 0.003 -->\n      <g transform=\"translate(20.878125 109.506566)scale(0.1 -0.1)\">\n       <use xlink:href=\"#DejaVuSans-48\"/>\n       <use x=\"63.623047\" xlink:href=\"#DejaVuSans-46\"/>\n       <use x=\"95.410156\" xlink:href=\"#DejaVuSans-48\"/>\n       <use x=\"159.033203\" xlink:href=\"#DejaVuSans-48\"/>\n       <use x=\"222.65625\" xlink:href=\"#DejaVuSans-51\"/>\n      </g>\n     </g>\n    </g>\n    <g id=\"ytick_5\">\n     <g id=\"line2d_11\">\n      <g>\n       <use style=\"stroke:#000000;stroke-width:0.8;\" x=\"56.50625\" xlink:href=\"#mdb4a01824e\" y=\"66.06313\"/>\n      </g>\n     </g>\n     <g id=\"text_12\">\n      <!-- 0.004 -->\n      <g transform=\"translate(20.878125 69.862349)scale(0.1 -0.1)\">\n       <use xlink:href=\"#DejaVuSans-48\"/>\n       <use x=\"63.623047\" xlink:href=\"#DejaVuSans-46\"/>\n       <use x=\"95.410156\" xlink:href=\"#DejaVuSans-48\"/>\n       <use x=\"159.033203\" xlink:href=\"#DejaVuSans-48\"/>\n       <use x=\"222.65625\" xlink:href=\"#DejaVuSans-52\"/>\n      </g>\n     </g>\n    </g>\n    <g id=\"ytick_6\">\n     <g id=\"line2d_12\">\n      <g>\n       <use style=\"stroke:#000000;stroke-width:0.8;\" x=\"56.50625\" xlink:href=\"#mdb4a01824e\" y=\"26.418912\"/>\n      </g>\n     </g>\n     <g id=\"text_13\">\n      <!-- 0.005 -->\n      <g transform=\"translate(20.878125 30.218131)scale(0.1 -0.1)\">\n       <use xlink:href=\"#DejaVuSans-48\"/>\n       <use x=\"63.623047\" xlink:href=\"#DejaVuSans-46\"/>\n       <use x=\"95.410156\" xlink:href=\"#DejaVuSans-48\"/>\n       <use x=\"159.033203\" xlink:href=\"#DejaVuSans-48\"/>\n       <use x=\"222.65625\" xlink:href=\"#DejaVuSans-53\"/>\n      </g>\n     </g>\n    </g>\n    <g id=\"text_14\">\n     <!-- Density -->\n     <defs>\n      <path d=\"M 19.671875 64.796875 \nL 19.671875 8.109375 \nL 31.59375 8.109375 \nQ 46.6875 8.109375 53.6875 14.9375 \nQ 60.6875 21.78125 60.6875 36.53125 \nQ 60.6875 51.171875 53.6875 57.984375 \nQ 46.6875 64.796875 31.59375 64.796875 \nz\nM 9.8125 72.90625 \nL 30.078125 72.90625 \nQ 51.265625 72.90625 61.171875 64.09375 \nQ 71.09375 55.28125 71.09375 36.53125 \nQ 71.09375 17.671875 61.125 8.828125 \nQ 51.171875 0 30.078125 0 \nL 9.8125 0 \nz\n\" id=\"DejaVuSans-68\"/>\n      <path d=\"M 44.28125 53.078125 \nL 44.28125 44.578125 \nQ 40.484375 46.53125 36.375 47.5 \nQ 32.28125 48.484375 27.875 48.484375 \nQ 21.1875 48.484375 17.84375 46.4375 \nQ 14.5 44.390625 14.5 40.28125 \nQ 14.5 37.15625 16.890625 35.375 \nQ 19.28125 33.59375 26.515625 31.984375 \nL 29.59375 31.296875 \nQ 39.15625 29.25 43.1875 25.515625 \nQ 47.21875 21.78125 47.21875 15.09375 \nQ 47.21875 7.46875 41.1875 3.015625 \nQ 35.15625 -1.421875 24.609375 -1.421875 \nQ 20.21875 -1.421875 15.453125 -0.5625 \nQ 10.6875 0.296875 5.421875 2 \nL 5.421875 11.28125 \nQ 10.40625 8.6875 15.234375 7.390625 \nQ 20.0625 6.109375 24.8125 6.109375 \nQ 31.15625 6.109375 34.5625 8.28125 \nQ 37.984375 10.453125 37.984375 14.40625 \nQ 37.984375 18.0625 35.515625 20.015625 \nQ 33.0625 21.96875 24.703125 23.78125 \nL 21.578125 24.515625 \nQ 13.234375 26.265625 9.515625 29.90625 \nQ 5.8125 33.546875 5.8125 39.890625 \nQ 5.8125 47.609375 11.28125 51.796875 \nQ 16.75 56 26.8125 56 \nQ 31.78125 56 36.171875 55.265625 \nQ 40.578125 54.546875 44.28125 53.078125 \nz\n\" id=\"DejaVuSans-115\"/>\n      <path d=\"M 18.3125 70.21875 \nL 18.3125 54.6875 \nL 36.8125 54.6875 \nL 36.8125 47.703125 \nL 18.3125 47.703125 \nL 18.3125 18.015625 \nQ 18.3125 11.328125 20.140625 9.421875 \nQ 21.96875 7.515625 27.59375 7.515625 \nL 36.8125 7.515625 \nL 36.8125 0 \nL 27.59375 0 \nQ 17.1875 0 13.234375 3.875 \nQ 9.28125 7.765625 9.28125 18.015625 \nL 9.28125 47.703125 \nL 2.6875 47.703125 \nL 2.6875 54.6875 \nL 9.28125 54.6875 \nL 9.28125 70.21875 \nz\n\" id=\"DejaVuSans-116\"/>\n      <path d=\"M 32.171875 -5.078125 \nQ 28.375 -14.84375 24.75 -17.8125 \nQ 21.140625 -20.796875 15.09375 -20.796875 \nL 7.90625 -20.796875 \nL 7.90625 -13.28125 \nL 13.1875 -13.28125 \nQ 16.890625 -13.28125 18.9375 -11.515625 \nQ 21 -9.765625 23.484375 -3.21875 \nL 25.09375 0.875 \nL 2.984375 54.6875 \nL 12.5 54.6875 \nL 29.59375 11.921875 \nL 46.6875 54.6875 \nL 56.203125 54.6875 \nz\n\" id=\"DejaVuSans-121\"/>\n     </defs>\n     <g transform=\"translate(14.798437 134.928594)rotate(-90)scale(0.1 -0.1)\">\n      <use xlink:href=\"#DejaVuSans-68\"/>\n      <use x=\"77.001953\" xlink:href=\"#DejaVuSans-101\"/>\n      <use x=\"138.525391\" xlink:href=\"#DejaVuSans-110\"/>\n      <use x=\"201.904297\" xlink:href=\"#DejaVuSans-115\"/>\n      <use x=\"254.003906\" xlink:href=\"#DejaVuSans-105\"/>\n      <use x=\"281.787109\" xlink:href=\"#DejaVuSans-116\"/>\n      <use x=\"320.996094\" xlink:href=\"#DejaVuSans-121\"/>\n     </g>\n    </g>\n   </g>\n   <g id=\"line2d_13\">\n    <path clip-path=\"url(#p5888e77cff)\" d=\"M -1 38.521968 \nL 155.822402 17.554286 \nL 405.86875 66.232615 \nL 405.86875 66.232615 \n\" style=\"fill:none;stroke:#1f77b4;stroke-linecap:square;stroke-width:1.5;\"/>\n   </g>\n   <g id=\"patch_53\">\n    <path d=\"M 56.50625 224.64 \nL 56.50625 7.2 \n\" style=\"fill:none;stroke:#000000;stroke-linecap:square;stroke-linejoin:miter;stroke-width:0.8;\"/>\n   </g>\n   <g id=\"patch_54\">\n    <path d=\"M 391.30625 224.64 \nL 391.30625 7.2 \n\" style=\"fill:none;stroke:#000000;stroke-linecap:square;stroke-linejoin:miter;stroke-width:0.8;\"/>\n   </g>\n   <g id=\"patch_55\">\n    <path d=\"M 56.50625 224.64 \nL 391.30625 224.64 \n\" style=\"fill:none;stroke:#000000;stroke-linecap:square;stroke-linejoin:miter;stroke-width:0.8;\"/>\n   </g>\n   <g id=\"patch_56\">\n    <path d=\"M 56.50625 7.2 \nL 391.30625 7.2 \n\" style=\"fill:none;stroke:#000000;stroke-linecap:square;stroke-linejoin:miter;stroke-width:0.8;\"/>\n   </g>\n  </g>\n </g>\n <defs>\n  <clipPath id=\"p5888e77cff\">\n   <rect height=\"217.44\" width=\"334.8\" x=\"56.50625\" y=\"7.2\"/>\n  </clipPath>\n </defs>\n</svg>\n",
      "image/png": "[encoded data removed]"
     },
     "metadata": {
      "needs_background": "light"
     }
    }
   ],
   "source": [
    "sns.distplot(group_1['index'])\n",
    "plt.xlim([0, 50])"
   ]
  },
  {
   "cell_type": "code",
   "execution_count": 114,
   "metadata": {},
   "outputs": [
    {
     "output_type": "execute_result",
     "data": {
      "text/plain": [
       "(0.0, 200.0)"
      ]
     },
     "metadata": {},
     "execution_count": 114
    },
    {
     "output_type": "display_data",
     "data": {
      "text/plain": "<Figure size 864x576 with 1 Axes>",
      "image/svg+xml": "<?xml version=\"1.0\" encoding=\"utf-8\" standalone=\"no\"?>\n<!DOCTYPE svg PUBLIC \"-//W3C//DTD SVG 1.1//EN\"\n  \"http://www.w3.org/Graphics/SVG/1.1/DTD/svg11.dtd\">\n<!-- Created with matplotlib (https://matplotlib.org/) -->\n<svg height=\"262.19625pt\" version=\"1.1\" viewBox=\"0 0 408.05 262.19625\" width=\"408.05pt\" xmlns=\"http://www.w3.org/2000/svg\" xmlns:xlink=\"http://www.w3.org/1999/xlink\">\n <defs>\n  <style type=\"text/css\">\n*{stroke-linecap:butt;stroke-linejoin:round;}\n  </style>\n </defs>\n <g id=\"figure_1\">\n  <g id=\"patch_1\">\n   <path d=\"M 0 262.19625 \nL 408.05 262.19625 \nL 408.05 0 \nL 0 0 \nz\n\" style=\"fill:none;\"/>\n  </g>\n  <g id=\"axes_1\">\n   <g id=\"patch_2\">\n    <path d=\"M 56.50625 224.64 \nL 391.30625 224.64 \nL 391.30625 7.2 \nL 56.50625 7.2 \nz\n\" style=\"fill:#ffffff;\"/>\n   </g>\n   <g id=\"matplotlib.axis_1\">\n    <g id=\"xtick_1\">\n     <g id=\"line2d_1\">\n      <defs>\n       <path d=\"M 0 0 \nL 0 3.5 \n\" id=\"mbd79caa459\" style=\"stroke:#000000;stroke-width:0.8;\"/>\n      </defs>\n      <g>\n       <use style=\"stroke:#000000;stroke-width:0.8;\" x=\"56.50625\" xlink:href=\"#mbd79caa459\" y=\"224.64\"/>\n      </g>\n     </g>\n     <g id=\"text_1\">\n      <!-- 0 -->\n      <defs>\n       <path d=\"M 31.78125 66.40625 \nQ 24.171875 66.40625 20.328125 58.90625 \nQ 16.5 51.421875 16.5 36.375 \nQ 16.5 21.390625 20.328125 13.890625 \nQ 24.171875 6.390625 31.78125 6.390625 \nQ 39.453125 6.390625 43.28125 13.890625 \nQ 47.125 21.390625 47.125 36.375 \nQ 47.125 51.421875 43.28125 58.90625 \nQ 39.453125 66.40625 31.78125 66.40625 \nz\nM 31.78125 74.21875 \nQ 44.046875 74.21875 50.515625 64.515625 \nQ 56.984375 54.828125 56.984375 36.375 \nQ 56.984375 17.96875 50.515625 8.265625 \nQ 44.046875 -1.421875 31.78125 -1.421875 \nQ 19.53125 -1.421875 13.0625 8.265625 \nQ 6.59375 17.96875 6.59375 36.375 \nQ 6.59375 54.828125 13.0625 64.515625 \nQ 19.53125 74.21875 31.78125 74.21875 \nz\n\" id=\"DejaVuSans-48\"/>\n      </defs>\n      <g transform=\"translate(53.325 239.238437)scale(0.1 -0.1)\">\n       <use xlink:href=\"#DejaVuSans-48\"/>\n      </g>\n     </g>\n    </g>\n    <g id=\"xtick_2\">\n     <g id=\"line2d_2\">\n      <g>\n       <use style=\"stroke:#000000;stroke-width:0.8;\" x=\"98.35625\" xlink:href=\"#mbd79caa459\" y=\"224.64\"/>\n      </g>\n     </g>\n     <g id=\"text_2\">\n      <!-- 25 -->\n      <defs>\n       <path d=\"M 19.1875 8.296875 \nL 53.609375 8.296875 \nL 53.609375 0 \nL 7.328125 0 \nL 7.328125 8.296875 \nQ 12.9375 14.109375 22.625 23.890625 \nQ 32.328125 33.6875 34.8125 36.53125 \nQ 39.546875 41.84375 41.421875 45.53125 \nQ 43.3125 49.21875 43.3125 52.78125 \nQ 43.3125 58.59375 39.234375 62.25 \nQ 35.15625 65.921875 28.609375 65.921875 \nQ 23.96875 65.921875 18.8125 64.3125 \nQ 13.671875 62.703125 7.8125 59.421875 \nL 7.8125 69.390625 \nQ 13.765625 71.78125 18.9375 73 \nQ 24.125 74.21875 28.421875 74.21875 \nQ 39.75 74.21875 46.484375 68.546875 \nQ 53.21875 62.890625 53.21875 53.421875 \nQ 53.21875 48.921875 51.53125 44.890625 \nQ 49.859375 40.875 45.40625 35.40625 \nQ 44.1875 33.984375 37.640625 27.21875 \nQ 31.109375 20.453125 19.1875 8.296875 \nz\n\" id=\"DejaVuSans-50\"/>\n       <path d=\"M 10.796875 72.90625 \nL 49.515625 72.90625 \nL 49.515625 64.59375 \nL 19.828125 64.59375 \nL 19.828125 46.734375 \nQ 21.96875 47.46875 24.109375 47.828125 \nQ 26.265625 48.1875 28.421875 48.1875 \nQ 40.625 48.1875 47.75 41.5 \nQ 54.890625 34.8125 54.890625 23.390625 \nQ 54.890625 11.625 47.5625 5.09375 \nQ 40.234375 -1.421875 26.90625 -1.421875 \nQ 22.3125 -1.421875 17.546875 -0.640625 \nQ 12.796875 0.140625 7.71875 1.703125 \nL 7.71875 11.625 \nQ 12.109375 9.234375 16.796875 8.0625 \nQ 21.484375 6.890625 26.703125 6.890625 \nQ 35.15625 6.890625 40.078125 11.328125 \nQ 45.015625 15.765625 45.015625 23.390625 \nQ 45.015625 31 40.078125 35.4375 \nQ 35.15625 39.890625 26.703125 39.890625 \nQ 22.75 39.890625 18.8125 39.015625 \nQ 14.890625 38.140625 10.796875 36.28125 \nz\n\" id=\"DejaVuSans-53\"/>\n      </defs>\n      <g transform=\"translate(91.99375 239.238437)scale(0.1 -0.1)\">\n       <use xlink:href=\"#DejaVuSans-50\"/>\n       <use x=\"63.623047\" xlink:href=\"#DejaVuSans-53\"/>\n      </g>\n     </g>\n    </g>\n    <g id=\"xtick_3\">\n     <g id=\"line2d_3\">\n      <g>\n       <use style=\"stroke:#000000;stroke-width:0.8;\" x=\"140.20625\" xlink:href=\"#mbd79caa459\" y=\"224.64\"/>\n      </g>\n     </g>\n     <g id=\"text_3\">\n      <!-- 50 -->\n      <g transform=\"translate(133.84375 239.238437)scale(0.1 -0.1)\">\n       <use xlink:href=\"#DejaVuSans-53\"/>\n       <use x=\"63.623047\" xlink:href=\"#DejaVuSans-48\"/>\n      </g>\n     </g>\n    </g>\n    <g id=\"xtick_4\">\n     <g id=\"line2d_4\">\n      <g>\n       <use style=\"stroke:#000000;stroke-width:0.8;\" x=\"182.05625\" xlink:href=\"#mbd79caa459\" y=\"224.64\"/>\n      </g>\n     </g>\n     <g id=\"text_4\">\n      <!-- 75 -->\n      <defs>\n       <path d=\"M 8.203125 72.90625 \nL 55.078125 72.90625 \nL 55.078125 68.703125 \nL 28.609375 0 \nL 18.3125 0 \nL 43.21875 64.59375 \nL 8.203125 64.59375 \nz\n\" id=\"DejaVuSans-55\"/>\n      </defs>\n      <g transform=\"translate(175.69375 239.238437)scale(0.1 -0.1)\">\n       <use xlink:href=\"#DejaVuSans-55\"/>\n       <use x=\"63.623047\" xlink:href=\"#DejaVuSans-53\"/>\n      </g>\n     </g>\n    </g>\n    <g id=\"xtick_5\">\n     <g id=\"line2d_5\">\n      <g>\n       <use style=\"stroke:#000000;stroke-width:0.8;\" x=\"223.90625\" xlink:href=\"#mbd79caa459\" y=\"224.64\"/>\n      </g>\n     </g>\n     <g id=\"text_5\">\n      <!-- 100 -->\n      <defs>\n       <path d=\"M 12.40625 8.296875 \nL 28.515625 8.296875 \nL 28.515625 63.921875 \nL 10.984375 60.40625 \nL 10.984375 69.390625 \nL 28.421875 72.90625 \nL 38.28125 72.90625 \nL 38.28125 8.296875 \nL 54.390625 8.296875 \nL 54.390625 0 \nL 12.40625 0 \nz\n\" id=\"DejaVuSans-49\"/>\n      </defs>\n      <g transform=\"translate(214.3625 239.238437)scale(0.1 -0.1)\">\n       <use xlink:href=\"#DejaVuSans-49\"/>\n       <use x=\"63.623047\" xlink:href=\"#DejaVuSans-48\"/>\n       <use x=\"127.246094\" xlink:href=\"#DejaVuSans-48\"/>\n      </g>\n     </g>\n    </g>\n    <g id=\"xtick_6\">\n     <g id=\"line2d_6\">\n      <g>\n       <use style=\"stroke:#000000;stroke-width:0.8;\" x=\"265.75625\" xlink:href=\"#mbd79caa459\" y=\"224.64\"/>\n      </g>\n     </g>\n     <g id=\"text_6\">\n      <!-- 125 -->\n      <g transform=\"translate(256.2125 239.238437)scale(0.1 -0.1)\">\n       <use xlink:href=\"#DejaVuSans-49\"/>\n       <use x=\"63.623047\" xlink:href=\"#DejaVuSans-50\"/>\n       <use x=\"127.246094\" xlink:href=\"#DejaVuSans-53\"/>\n      </g>\n     </g>\n    </g>\n    <g id=\"xtick_7\">\n     <g id=\"line2d_7\">\n      <g>\n       <use style=\"stroke:#000000;stroke-width:0.8;\" x=\"307.60625\" xlink:href=\"#mbd79caa459\" y=\"224.64\"/>\n      </g>\n     </g>\n     <g id=\"text_7\">\n      <!-- 150 -->\n      <g transform=\"translate(298.0625 239.238437)scale(0.1 -0.1)\">\n       <use xlink:href=\"#DejaVuSans-49\"/>\n       <use x=\"63.623047\" xlink:href=\"#DejaVuSans-53\"/>\n       <use x=\"127.246094\" xlink:href=\"#DejaVuSans-48\"/>\n      </g>\n     </g>\n    </g>\n    <g id=\"xtick_8\">\n     <g id=\"line2d_8\">\n      <g>\n       <use style=\"stroke:#000000;stroke-width:0.8;\" x=\"349.45625\" xlink:href=\"#mbd79caa459\" y=\"224.64\"/>\n      </g>\n     </g>\n     <g id=\"text_8\">\n      <!-- 175 -->\n      <g transform=\"translate(339.9125 239.238437)scale(0.1 -0.1)\">\n       <use xlink:href=\"#DejaVuSans-49\"/>\n       <use x=\"63.623047\" xlink:href=\"#DejaVuSans-55\"/>\n       <use x=\"127.246094\" xlink:href=\"#DejaVuSans-53\"/>\n      </g>\n     </g>\n    </g>\n    <g id=\"xtick_9\">\n     <g id=\"line2d_9\">\n      <g>\n       <use style=\"stroke:#000000;stroke-width:0.8;\" x=\"391.30625\" xlink:href=\"#mbd79caa459\" y=\"224.64\"/>\n      </g>\n     </g>\n     <g id=\"text_9\">\n      <!-- 200 -->\n      <g transform=\"translate(381.7625 239.238437)scale(0.1 -0.1)\">\n       <use xlink:href=\"#DejaVuSans-50\"/>\n       <use x=\"63.623047\" xlink:href=\"#DejaVuSans-48\"/>\n       <use x=\"127.246094\" xlink:href=\"#DejaVuSans-48\"/>\n      </g>\n     </g>\n    </g>\n    <g id=\"text_10\">\n     <!-- index -->\n     <defs>\n      <path d=\"M 9.421875 54.6875 \nL 18.40625 54.6875 \nL 18.40625 0 \nL 9.421875 0 \nz\nM 9.421875 75.984375 \nL 18.40625 75.984375 \nL 18.40625 64.59375 \nL 9.421875 64.59375 \nz\n\" id=\"DejaVuSans-105\"/>\n      <path d=\"M 54.890625 33.015625 \nL 54.890625 0 \nL 45.90625 0 \nL 45.90625 32.71875 \nQ 45.90625 40.484375 42.875 44.328125 \nQ 39.84375 48.1875 33.796875 48.1875 \nQ 26.515625 48.1875 22.3125 43.546875 \nQ 18.109375 38.921875 18.109375 30.90625 \nL 18.109375 0 \nL 9.078125 0 \nL 9.078125 54.6875 \nL 18.109375 54.6875 \nL 18.109375 46.1875 \nQ 21.34375 51.125 25.703125 53.5625 \nQ 30.078125 56 35.796875 56 \nQ 45.21875 56 50.046875 50.171875 \nQ 54.890625 44.34375 54.890625 33.015625 \nz\n\" id=\"DejaVuSans-110\"/>\n      <path d=\"M 45.40625 46.390625 \nL 45.40625 75.984375 \nL 54.390625 75.984375 \nL 54.390625 0 \nL 45.40625 0 \nL 45.40625 8.203125 \nQ 42.578125 3.328125 38.25 0.953125 \nQ 33.9375 -1.421875 27.875 -1.421875 \nQ 17.96875 -1.421875 11.734375 6.484375 \nQ 5.515625 14.40625 5.515625 27.296875 \nQ 5.515625 40.1875 11.734375 48.09375 \nQ 17.96875 56 27.875 56 \nQ 33.9375 56 38.25 53.625 \nQ 42.578125 51.265625 45.40625 46.390625 \nz\nM 14.796875 27.296875 \nQ 14.796875 17.390625 18.875 11.75 \nQ 22.953125 6.109375 30.078125 6.109375 \nQ 37.203125 6.109375 41.296875 11.75 \nQ 45.40625 17.390625 45.40625 27.296875 \nQ 45.40625 37.203125 41.296875 42.84375 \nQ 37.203125 48.484375 30.078125 48.484375 \nQ 22.953125 48.484375 18.875 42.84375 \nQ 14.796875 37.203125 14.796875 27.296875 \nz\n\" id=\"DejaVuSans-100\"/>\n      <path d=\"M 56.203125 29.59375 \nL 56.203125 25.203125 \nL 14.890625 25.203125 \nQ 15.484375 15.921875 20.484375 11.0625 \nQ 25.484375 6.203125 34.421875 6.203125 \nQ 39.59375 6.203125 44.453125 7.46875 \nQ 49.3125 8.734375 54.109375 11.28125 \nL 54.109375 2.78125 \nQ 49.265625 0.734375 44.1875 -0.34375 \nQ 39.109375 -1.421875 33.890625 -1.421875 \nQ 20.796875 -1.421875 13.15625 6.1875 \nQ 5.515625 13.8125 5.515625 26.8125 \nQ 5.515625 40.234375 12.765625 48.109375 \nQ 20.015625 56 32.328125 56 \nQ 43.359375 56 49.78125 48.890625 \nQ 56.203125 41.796875 56.203125 29.59375 \nz\nM 47.21875 32.234375 \nQ 47.125 39.59375 43.09375 43.984375 \nQ 39.0625 48.390625 32.421875 48.390625 \nQ 24.90625 48.390625 20.390625 44.140625 \nQ 15.875 39.890625 15.1875 32.171875 \nz\n\" id=\"DejaVuSans-101\"/>\n      <path d=\"M 54.890625 54.6875 \nL 35.109375 28.078125 \nL 55.90625 0 \nL 45.3125 0 \nL 29.390625 21.484375 \nL 13.484375 0 \nL 2.875 0 \nL 24.125 28.609375 \nL 4.6875 54.6875 \nL 15.28125 54.6875 \nL 29.78125 35.203125 \nL 44.28125 54.6875 \nz\n\" id=\"DejaVuSans-120\"/>\n     </defs>\n     <g transform=\"translate(210.225781 252.916562)scale(0.1 -0.1)\">\n      <use xlink:href=\"#DejaVuSans-105\"/>\n      <use x=\"27.783203\" xlink:href=\"#DejaVuSans-110\"/>\n      <use x=\"91.162109\" xlink:href=\"#DejaVuSans-100\"/>\n      <use x=\"154.638672\" xlink:href=\"#DejaVuSans-101\"/>\n      <use x=\"214.412109\" xlink:href=\"#DejaVuSans-120\"/>\n     </g>\n    </g>\n   </g>\n   <g id=\"matplotlib.axis_2\">\n    <g id=\"ytick_1\">\n     <g id=\"line2d_10\">\n      <defs>\n       <path d=\"M 0 0 \nL -3.5 0 \n\" id=\"m7c05770690\" style=\"stroke:#000000;stroke-width:0.8;\"/>\n      </defs>\n      <g>\n       <use style=\"stroke:#000000;stroke-width:0.8;\" x=\"56.50625\" xlink:href=\"#m7c05770690\" y=\"224.64\"/>\n      </g>\n     </g>\n     <g id=\"text_11\">\n      <!-- 0.000 -->\n      <defs>\n       <path d=\"M 10.6875 12.40625 \nL 21 12.40625 \nL 21 0 \nL 10.6875 0 \nz\n\" id=\"DejaVuSans-46\"/>\n      </defs>\n      <g transform=\"translate(20.878125 228.439219)scale(0.1 -0.1)\">\n       <use xlink:href=\"#DejaVuSans-48\"/>\n       <use x=\"63.623047\" xlink:href=\"#DejaVuSans-46\"/>\n       <use x=\"95.410156\" xlink:href=\"#DejaVuSans-48\"/>\n       <use x=\"159.033203\" xlink:href=\"#DejaVuSans-48\"/>\n       <use x=\"222.65625\" xlink:href=\"#DejaVuSans-48\"/>\n      </g>\n     </g>\n    </g>\n    <g id=\"ytick_2\">\n     <g id=\"line2d_11\">\n      <g>\n       <use style=\"stroke:#000000;stroke-width:0.8;\" x=\"56.50625\" xlink:href=\"#m7c05770690\" y=\"184.995782\"/>\n      </g>\n     </g>\n     <g id=\"text_12\">\n      <!-- 0.001 -->\n      <g transform=\"translate(20.878125 188.795001)scale(0.1 -0.1)\">\n       <use xlink:href=\"#DejaVuSans-48\"/>\n       <use x=\"63.623047\" xlink:href=\"#DejaVuSans-46\"/>\n       <use x=\"95.410156\" xlink:href=\"#DejaVuSans-48\"/>\n       <use x=\"159.033203\" xlink:href=\"#DejaVuSans-48\"/>\n       <use x=\"222.65625\" xlink:href=\"#DejaVuSans-49\"/>\n      </g>\n     </g>\n    </g>\n    <g id=\"ytick_3\">\n     <g id=\"line2d_12\">\n      <g>\n       <use style=\"stroke:#000000;stroke-width:0.8;\" x=\"56.50625\" xlink:href=\"#m7c05770690\" y=\"145.351565\"/>\n      </g>\n     </g>\n     <g id=\"text_13\">\n      <!-- 0.002 -->\n      <g transform=\"translate(20.878125 149.150784)scale(0.1 -0.1)\">\n       <use xlink:href=\"#DejaVuSans-48\"/>\n       <use x=\"63.623047\" xlink:href=\"#DejaVuSans-46\"/>\n       <use x=\"95.410156\" xlink:href=\"#DejaVuSans-48\"/>\n       <use x=\"159.033203\" xlink:href=\"#DejaVuSans-48\"/>\n       <use x=\"222.65625\" xlink:href=\"#DejaVuSans-50\"/>\n      </g>\n     </g>\n    </g>\n    <g id=\"ytick_4\">\n     <g id=\"line2d_13\">\n      <g>\n       <use style=\"stroke:#000000;stroke-width:0.8;\" x=\"56.50625\" xlink:href=\"#m7c05770690\" y=\"105.707347\"/>\n      </g>\n     </g>\n     <g id=\"text_14\">\n      <!-- 0.003 -->\n      <defs>\n       <path d=\"M 40.578125 39.3125 \nQ 47.65625 37.796875 51.625 33 \nQ 55.609375 28.21875 55.609375 21.1875 \nQ 55.609375 10.40625 48.1875 4.484375 \nQ 40.765625 -1.421875 27.09375 -1.421875 \nQ 22.515625 -1.421875 17.65625 -0.515625 \nQ 12.796875 0.390625 7.625 2.203125 \nL 7.625 11.71875 \nQ 11.71875 9.328125 16.59375 8.109375 \nQ 21.484375 6.890625 26.8125 6.890625 \nQ 36.078125 6.890625 40.9375 10.546875 \nQ 45.796875 14.203125 45.796875 21.1875 \nQ 45.796875 27.640625 41.28125 31.265625 \nQ 36.765625 34.90625 28.71875 34.90625 \nL 20.21875 34.90625 \nL 20.21875 43.015625 \nL 29.109375 43.015625 \nQ 36.375 43.015625 40.234375 45.921875 \nQ 44.09375 48.828125 44.09375 54.296875 \nQ 44.09375 59.90625 40.109375 62.90625 \nQ 36.140625 65.921875 28.71875 65.921875 \nQ 24.65625 65.921875 20.015625 65.03125 \nQ 15.375 64.15625 9.8125 62.3125 \nL 9.8125 71.09375 \nQ 15.4375 72.65625 20.34375 73.4375 \nQ 25.25 74.21875 29.59375 74.21875 \nQ 40.828125 74.21875 47.359375 69.109375 \nQ 53.90625 64.015625 53.90625 55.328125 \nQ 53.90625 49.265625 50.4375 45.09375 \nQ 46.96875 40.921875 40.578125 39.3125 \nz\n\" id=\"DejaVuSans-51\"/>\n      </defs>\n      <g transform=\"translate(20.878125 109.506566)scale(0.1 -0.1)\">\n       <use xlink:href=\"#DejaVuSans-48\"/>\n       <use x=\"63.623047\" xlink:href=\"#DejaVuSans-46\"/>\n       <use x=\"95.410156\" xlink:href=\"#DejaVuSans-48\"/>\n       <use x=\"159.033203\" xlink:href=\"#DejaVuSans-48\"/>\n       <use x=\"222.65625\" xlink:href=\"#DejaVuSans-51\"/>\n      </g>\n     </g>\n    </g>\n    <g id=\"ytick_5\">\n     <g id=\"line2d_14\">\n      <g>\n       <use style=\"stroke:#000000;stroke-width:0.8;\" x=\"56.50625\" xlink:href=\"#m7c05770690\" y=\"66.06313\"/>\n      </g>\n     </g>\n     <g id=\"text_15\">\n      <!-- 0.004 -->\n      <defs>\n       <path d=\"M 37.796875 64.3125 \nL 12.890625 25.390625 \nL 37.796875 25.390625 \nz\nM 35.203125 72.90625 \nL 47.609375 72.90625 \nL 47.609375 25.390625 \nL 58.015625 25.390625 \nL 58.015625 17.1875 \nL 47.609375 17.1875 \nL 47.609375 0 \nL 37.796875 0 \nL 37.796875 17.1875 \nL 4.890625 17.1875 \nL 4.890625 26.703125 \nz\n\" id=\"DejaVuSans-52\"/>\n      </defs>\n      <g transform=\"translate(20.878125 69.862349)scale(0.1 -0.1)\">\n       <use xlink:href=\"#DejaVuSans-48\"/>\n       <use x=\"63.623047\" xlink:href=\"#DejaVuSans-46\"/>\n       <use x=\"95.410156\" xlink:href=\"#DejaVuSans-48\"/>\n       <use x=\"159.033203\" xlink:href=\"#DejaVuSans-48\"/>\n       <use x=\"222.65625\" xlink:href=\"#DejaVuSans-52\"/>\n      </g>\n     </g>\n    </g>\n    <g id=\"ytick_6\">\n     <g id=\"line2d_15\">\n      <g>\n       <use style=\"stroke:#000000;stroke-width:0.8;\" x=\"56.50625\" xlink:href=\"#m7c05770690\" y=\"26.418912\"/>\n      </g>\n     </g>\n     <g id=\"text_16\">\n      <!-- 0.005 -->\n      <g transform=\"translate(20.878125 30.218131)scale(0.1 -0.1)\">\n       <use xlink:href=\"#DejaVuSans-48\"/>\n       <use x=\"63.623047\" xlink:href=\"#DejaVuSans-46\"/>\n       <use x=\"95.410156\" xlink:href=\"#DejaVuSans-48\"/>\n       <use x=\"159.033203\" xlink:href=\"#DejaVuSans-48\"/>\n       <use x=\"222.65625\" xlink:href=\"#DejaVuSans-53\"/>\n      </g>\n     </g>\n    </g>\n    <g id=\"text_17\">\n     <!-- Density -->\n     <defs>\n      <path d=\"M 19.671875 64.796875 \nL 19.671875 8.109375 \nL 31.59375 8.109375 \nQ 46.6875 8.109375 53.6875 14.9375 \nQ 60.6875 21.78125 60.6875 36.53125 \nQ 60.6875 51.171875 53.6875 57.984375 \nQ 46.6875 64.796875 31.59375 64.796875 \nz\nM 9.8125 72.90625 \nL 30.078125 72.90625 \nQ 51.265625 72.90625 61.171875 64.09375 \nQ 71.09375 55.28125 71.09375 36.53125 \nQ 71.09375 17.671875 61.125 8.828125 \nQ 51.171875 0 30.078125 0 \nL 9.8125 0 \nz\n\" id=\"DejaVuSans-68\"/>\n      <path d=\"M 44.28125 53.078125 \nL 44.28125 44.578125 \nQ 40.484375 46.53125 36.375 47.5 \nQ 32.28125 48.484375 27.875 48.484375 \nQ 21.1875 48.484375 17.84375 46.4375 \nQ 14.5 44.390625 14.5 40.28125 \nQ 14.5 37.15625 16.890625 35.375 \nQ 19.28125 33.59375 26.515625 31.984375 \nL 29.59375 31.296875 \nQ 39.15625 29.25 43.1875 25.515625 \nQ 47.21875 21.78125 47.21875 15.09375 \nQ 47.21875 7.46875 41.1875 3.015625 \nQ 35.15625 -1.421875 24.609375 -1.421875 \nQ 20.21875 -1.421875 15.453125 -0.5625 \nQ 10.6875 0.296875 5.421875 2 \nL 5.421875 11.28125 \nQ 10.40625 8.6875 15.234375 7.390625 \nQ 20.0625 6.109375 24.8125 6.109375 \nQ 31.15625 6.109375 34.5625 8.28125 \nQ 37.984375 10.453125 37.984375 14.40625 \nQ 37.984375 18.0625 35.515625 20.015625 \nQ 33.0625 21.96875 24.703125 23.78125 \nL 21.578125 24.515625 \nQ 13.234375 26.265625 9.515625 29.90625 \nQ 5.8125 33.546875 5.8125 39.890625 \nQ 5.8125 47.609375 11.28125 51.796875 \nQ 16.75 56 26.8125 56 \nQ 31.78125 56 36.171875 55.265625 \nQ 40.578125 54.546875 44.28125 53.078125 \nz\n\" id=\"DejaVuSans-115\"/>\n      <path d=\"M 18.3125 70.21875 \nL 18.3125 54.6875 \nL 36.8125 54.6875 \nL 36.8125 47.703125 \nL 18.3125 47.703125 \nL 18.3125 18.015625 \nQ 18.3125 11.328125 20.140625 9.421875 \nQ 21.96875 7.515625 27.59375 7.515625 \nL 36.8125 7.515625 \nL 36.8125 0 \nL 27.59375 0 \nQ 17.1875 0 13.234375 3.875 \nQ 9.28125 7.765625 9.28125 18.015625 \nL 9.28125 47.703125 \nL 2.6875 47.703125 \nL 2.6875 54.6875 \nL 9.28125 54.6875 \nL 9.28125 70.21875 \nz\n\" id=\"DejaVuSans-116\"/>\n      <path d=\"M 32.171875 -5.078125 \nQ 28.375 -14.84375 24.75 -17.8125 \nQ 21.140625 -20.796875 15.09375 -20.796875 \nL 7.90625 -20.796875 \nL 7.90625 -13.28125 \nL 13.1875 -13.28125 \nQ 16.890625 -13.28125 18.9375 -11.515625 \nQ 21 -9.765625 23.484375 -3.21875 \nL 25.09375 0.875 \nL 2.984375 54.6875 \nL 12.5 54.6875 \nL 29.59375 11.921875 \nL 46.6875 54.6875 \nL 56.203125 54.6875 \nz\n\" id=\"DejaVuSans-121\"/>\n     </defs>\n     <g transform=\"translate(14.798437 134.928594)rotate(-90)scale(0.1 -0.1)\">\n      <use xlink:href=\"#DejaVuSans-68\"/>\n      <use x=\"77.001953\" xlink:href=\"#DejaVuSans-101\"/>\n      <use x=\"138.525391\" xlink:href=\"#DejaVuSans-110\"/>\n      <use x=\"201.904297\" xlink:href=\"#DejaVuSans-115\"/>\n      <use x=\"254.003906\" xlink:href=\"#DejaVuSans-105\"/>\n      <use x=\"281.787109\" xlink:href=\"#DejaVuSans-116\"/>\n      <use x=\"320.996094\" xlink:href=\"#DejaVuSans-121\"/>\n     </g>\n    </g>\n   </g>\n   <g id=\"line2d_16\">\n    <path clip-path=\"url(#p87957092ec)\" d=\"M -1 61.588304 \nL 81.335288 17.554286 \nL 214.564313 121.300915 \nL 347.793339 207.382453 \nL 409.05 214.757093 \nL 409.05 214.757093 \n\" style=\"fill:none;stroke:#1f77b4;stroke-linecap:square;stroke-width:1.5;\"/>\n   </g>\n   <g id=\"patch_3\">\n    <path d=\"M 56.50625 224.64 \nL 56.50625 7.2 \n\" style=\"fill:none;stroke:#000000;stroke-linecap:square;stroke-linejoin:miter;stroke-width:0.8;\"/>\n   </g>\n   <g id=\"patch_4\">\n    <path d=\"M 391.30625 224.64 \nL 391.30625 7.2 \n\" style=\"fill:none;stroke:#000000;stroke-linecap:square;stroke-linejoin:miter;stroke-width:0.8;\"/>\n   </g>\n   <g id=\"patch_5\">\n    <path d=\"M 56.50625 224.64 \nL 391.30625 224.64 \n\" style=\"fill:none;stroke:#000000;stroke-linecap:square;stroke-linejoin:miter;stroke-width:0.8;\"/>\n   </g>\n   <g id=\"patch_6\">\n    <path d=\"M 56.50625 7.2 \nL 391.30625 7.2 \n\" style=\"fill:none;stroke:#000000;stroke-linecap:square;stroke-linejoin:miter;stroke-width:0.8;\"/>\n   </g>\n  </g>\n </g>\n <defs>\n  <clipPath id=\"p87957092ec\">\n   <rect height=\"217.44\" width=\"334.8\" x=\"56.50625\" y=\"7.2\"/>\n  </clipPath>\n </defs>\n</svg>\n",
      "image/png": "[encoded data removed]"
     },
     "metadata": {
      "needs_background": "light"
     }
    }
   ],
   "source": [
    "sns.distplot(group_1['index'], hist=False)\n",
    "plt.xlim([0, 200])"
   ]
  },
  {
   "cell_type": "code",
   "execution_count": 115,
   "metadata": {},
   "outputs": [
    {
     "output_type": "execute_result",
     "data": {
      "text/plain": [
       "(-20.0, 200.0)"
      ]
     },
     "metadata": {},
     "execution_count": 115
    },
    {
     "output_type": "display_data",
     "data": {
      "text/plain": "<Figure size 864x576 with 1 Axes>",
      "image/svg+xml": "<?xml version=\"1.0\" encoding=\"utf-8\" standalone=\"no\"?>\n<!DOCTYPE svg PUBLIC \"-//W3C//DTD SVG 1.1//EN\"\n  \"http://www.w3.org/Graphics/SVG/1.1/DTD/svg11.dtd\">\n<!-- Created with matplotlib (https://matplotlib.org/) -->\n<svg height=\"262.19625pt\" version=\"1.1\" viewBox=\"0 0 408.05 262.19625\" width=\"408.05pt\" xmlns=\"http://www.w3.org/2000/svg\" xmlns:xlink=\"http://www.w3.org/1999/xlink\">\n <defs>\n  <style type=\"text/css\">\n*{stroke-linecap:butt;stroke-linejoin:round;}\n  </style>\n </defs>\n <g id=\"figure_1\">\n  <g id=\"patch_1\">\n   <path d=\"M 0 262.19625 \nL 408.05 262.19625 \nL 408.05 0 \nL 0 0 \nz\n\" style=\"fill:none;\"/>\n  </g>\n  <g id=\"axes_1\">\n   <g id=\"patch_2\">\n    <path d=\"M 56.50625 224.64 \nL 391.30625 224.64 \nL 391.30625 7.2 \nL 56.50625 7.2 \nz\n\" style=\"fill:#ffffff;\"/>\n   </g>\n   <g id=\"matplotlib.axis_1\">\n    <g id=\"xtick_1\">\n     <g id=\"line2d_1\">\n      <defs>\n       <path d=\"M 0 0 \nL 0 3.5 \n\" id=\"m716fc443f3\" style=\"stroke:#000000;stroke-width:0.8;\"/>\n      </defs>\n      <g>\n       <use style=\"stroke:#000000;stroke-width:0.8;\" x=\"86.942614\" xlink:href=\"#m716fc443f3\" y=\"224.64\"/>\n      </g>\n     </g>\n     <g id=\"text_1\">\n      <!-- 0 -->\n      <defs>\n       <path d=\"M 31.78125 66.40625 \nQ 24.171875 66.40625 20.328125 58.90625 \nQ 16.5 51.421875 16.5 36.375 \nQ 16.5 21.390625 20.328125 13.890625 \nQ 24.171875 6.390625 31.78125 6.390625 \nQ 39.453125 6.390625 43.28125 13.890625 \nQ 47.125 21.390625 47.125 36.375 \nQ 47.125 51.421875 43.28125 58.90625 \nQ 39.453125 66.40625 31.78125 66.40625 \nz\nM 31.78125 74.21875 \nQ 44.046875 74.21875 50.515625 64.515625 \nQ 56.984375 54.828125 56.984375 36.375 \nQ 56.984375 17.96875 50.515625 8.265625 \nQ 44.046875 -1.421875 31.78125 -1.421875 \nQ 19.53125 -1.421875 13.0625 8.265625 \nQ 6.59375 17.96875 6.59375 36.375 \nQ 6.59375 54.828125 13.0625 64.515625 \nQ 19.53125 74.21875 31.78125 74.21875 \nz\n\" id=\"DejaVuSans-48\"/>\n      </defs>\n      <g transform=\"translate(83.761364 239.238437)scale(0.1 -0.1)\">\n       <use xlink:href=\"#DejaVuSans-48\"/>\n      </g>\n     </g>\n    </g>\n    <g id=\"xtick_2\">\n     <g id=\"line2d_2\">\n      <g>\n       <use style=\"stroke:#000000;stroke-width:0.8;\" x=\"124.988068\" xlink:href=\"#m716fc443f3\" y=\"224.64\"/>\n      </g>\n     </g>\n     <g id=\"text_2\">\n      <!-- 25 -->\n      <defs>\n       <path d=\"M 19.1875 8.296875 \nL 53.609375 8.296875 \nL 53.609375 0 \nL 7.328125 0 \nL 7.328125 8.296875 \nQ 12.9375 14.109375 22.625 23.890625 \nQ 32.328125 33.6875 34.8125 36.53125 \nQ 39.546875 41.84375 41.421875 45.53125 \nQ 43.3125 49.21875 43.3125 52.78125 \nQ 43.3125 58.59375 39.234375 62.25 \nQ 35.15625 65.921875 28.609375 65.921875 \nQ 23.96875 65.921875 18.8125 64.3125 \nQ 13.671875 62.703125 7.8125 59.421875 \nL 7.8125 69.390625 \nQ 13.765625 71.78125 18.9375 73 \nQ 24.125 74.21875 28.421875 74.21875 \nQ 39.75 74.21875 46.484375 68.546875 \nQ 53.21875 62.890625 53.21875 53.421875 \nQ 53.21875 48.921875 51.53125 44.890625 \nQ 49.859375 40.875 45.40625 35.40625 \nQ 44.1875 33.984375 37.640625 27.21875 \nQ 31.109375 20.453125 19.1875 8.296875 \nz\n\" id=\"DejaVuSans-50\"/>\n       <path d=\"M 10.796875 72.90625 \nL 49.515625 72.90625 \nL 49.515625 64.59375 \nL 19.828125 64.59375 \nL 19.828125 46.734375 \nQ 21.96875 47.46875 24.109375 47.828125 \nQ 26.265625 48.1875 28.421875 48.1875 \nQ 40.625 48.1875 47.75 41.5 \nQ 54.890625 34.8125 54.890625 23.390625 \nQ 54.890625 11.625 47.5625 5.09375 \nQ 40.234375 -1.421875 26.90625 -1.421875 \nQ 22.3125 -1.421875 17.546875 -0.640625 \nQ 12.796875 0.140625 7.71875 1.703125 \nL 7.71875 11.625 \nQ 12.109375 9.234375 16.796875 8.0625 \nQ 21.484375 6.890625 26.703125 6.890625 \nQ 35.15625 6.890625 40.078125 11.328125 \nQ 45.015625 15.765625 45.015625 23.390625 \nQ 45.015625 31 40.078125 35.4375 \nQ 35.15625 39.890625 26.703125 39.890625 \nQ 22.75 39.890625 18.8125 39.015625 \nQ 14.890625 38.140625 10.796875 36.28125 \nz\n\" id=\"DejaVuSans-53\"/>\n      </defs>\n      <g transform=\"translate(118.625568 239.238437)scale(0.1 -0.1)\">\n       <use xlink:href=\"#DejaVuSans-50\"/>\n       <use x=\"63.623047\" xlink:href=\"#DejaVuSans-53\"/>\n      </g>\n     </g>\n    </g>\n    <g id=\"xtick_3\">\n     <g id=\"line2d_3\">\n      <g>\n       <use style=\"stroke:#000000;stroke-width:0.8;\" x=\"163.033523\" xlink:href=\"#m716fc443f3\" y=\"224.64\"/>\n      </g>\n     </g>\n     <g id=\"text_3\">\n      <!-- 50 -->\n      <g transform=\"translate(156.671023 239.238437)scale(0.1 -0.1)\">\n       <use xlink:href=\"#DejaVuSans-53\"/>\n       <use x=\"63.623047\" xlink:href=\"#DejaVuSans-48\"/>\n      </g>\n     </g>\n    </g>\n    <g id=\"xtick_4\">\n     <g id=\"line2d_4\">\n      <g>\n       <use style=\"stroke:#000000;stroke-width:0.8;\" x=\"201.078977\" xlink:href=\"#m716fc443f3\" y=\"224.64\"/>\n      </g>\n     </g>\n     <g id=\"text_4\">\n      <!-- 75 -->\n      <defs>\n       <path d=\"M 8.203125 72.90625 \nL 55.078125 72.90625 \nL 55.078125 68.703125 \nL 28.609375 0 \nL 18.3125 0 \nL 43.21875 64.59375 \nL 8.203125 64.59375 \nz\n\" id=\"DejaVuSans-55\"/>\n      </defs>\n      <g transform=\"translate(194.716477 239.238437)scale(0.1 -0.1)\">\n       <use xlink:href=\"#DejaVuSans-55\"/>\n       <use x=\"63.623047\" xlink:href=\"#DejaVuSans-53\"/>\n      </g>\n     </g>\n    </g>\n    <g id=\"xtick_5\">\n     <g id=\"line2d_5\">\n      <g>\n       <use style=\"stroke:#000000;stroke-width:0.8;\" x=\"239.124432\" xlink:href=\"#m716fc443f3\" y=\"224.64\"/>\n      </g>\n     </g>\n     <g id=\"text_5\">\n      <!-- 100 -->\n      <defs>\n       <path d=\"M 12.40625 8.296875 \nL 28.515625 8.296875 \nL 28.515625 63.921875 \nL 10.984375 60.40625 \nL 10.984375 69.390625 \nL 28.421875 72.90625 \nL 38.28125 72.90625 \nL 38.28125 8.296875 \nL 54.390625 8.296875 \nL 54.390625 0 \nL 12.40625 0 \nz\n\" id=\"DejaVuSans-49\"/>\n      </defs>\n      <g transform=\"translate(229.580682 239.238437)scale(0.1 -0.1)\">\n       <use xlink:href=\"#DejaVuSans-49\"/>\n       <use x=\"63.623047\" xlink:href=\"#DejaVuSans-48\"/>\n       <use x=\"127.246094\" xlink:href=\"#DejaVuSans-48\"/>\n      </g>\n     </g>\n    </g>\n    <g id=\"xtick_6\">\n     <g id=\"line2d_6\">\n      <g>\n       <use style=\"stroke:#000000;stroke-width:0.8;\" x=\"277.169886\" xlink:href=\"#m716fc443f3\" y=\"224.64\"/>\n      </g>\n     </g>\n     <g id=\"text_6\">\n      <!-- 125 -->\n      <g transform=\"translate(267.626136 239.238437)scale(0.1 -0.1)\">\n       <use xlink:href=\"#DejaVuSans-49\"/>\n       <use x=\"63.623047\" xlink:href=\"#DejaVuSans-50\"/>\n       <use x=\"127.246094\" xlink:href=\"#DejaVuSans-53\"/>\n      </g>\n     </g>\n    </g>\n    <g id=\"xtick_7\">\n     <g id=\"line2d_7\">\n      <g>\n       <use style=\"stroke:#000000;stroke-width:0.8;\" x=\"315.215341\" xlink:href=\"#m716fc443f3\" y=\"224.64\"/>\n      </g>\n     </g>\n     <g id=\"text_7\">\n      <!-- 150 -->\n      <g transform=\"translate(305.671591 239.238437)scale(0.1 -0.1)\">\n       <use xlink:href=\"#DejaVuSans-49\"/>\n       <use x=\"63.623047\" xlink:href=\"#DejaVuSans-53\"/>\n       <use x=\"127.246094\" xlink:href=\"#DejaVuSans-48\"/>\n      </g>\n     </g>\n    </g>\n    <g id=\"xtick_8\">\n     <g id=\"line2d_8\">\n      <g>\n       <use style=\"stroke:#000000;stroke-width:0.8;\" x=\"353.260795\" xlink:href=\"#m716fc443f3\" y=\"224.64\"/>\n      </g>\n     </g>\n     <g id=\"text_8\">\n      <!-- 175 -->\n      <g transform=\"translate(343.717045 239.238437)scale(0.1 -0.1)\">\n       <use xlink:href=\"#DejaVuSans-49\"/>\n       <use x=\"63.623047\" xlink:href=\"#DejaVuSans-55\"/>\n       <use x=\"127.246094\" xlink:href=\"#DejaVuSans-53\"/>\n      </g>\n     </g>\n    </g>\n    <g id=\"xtick_9\">\n     <g id=\"line2d_9\">\n      <g>\n       <use style=\"stroke:#000000;stroke-width:0.8;\" x=\"391.30625\" xlink:href=\"#m716fc443f3\" y=\"224.64\"/>\n      </g>\n     </g>\n     <g id=\"text_9\">\n      <!-- 200 -->\n      <g transform=\"translate(381.7625 239.238437)scale(0.1 -0.1)\">\n       <use xlink:href=\"#DejaVuSans-50\"/>\n       <use x=\"63.623047\" xlink:href=\"#DejaVuSans-48\"/>\n       <use x=\"127.246094\" xlink:href=\"#DejaVuSans-48\"/>\n      </g>\n     </g>\n    </g>\n    <g id=\"text_10\">\n     <!-- index -->\n     <defs>\n      <path d=\"M 9.421875 54.6875 \nL 18.40625 54.6875 \nL 18.40625 0 \nL 9.421875 0 \nz\nM 9.421875 75.984375 \nL 18.40625 75.984375 \nL 18.40625 64.59375 \nL 9.421875 64.59375 \nz\n\" id=\"DejaVuSans-105\"/>\n      <path d=\"M 54.890625 33.015625 \nL 54.890625 0 \nL 45.90625 0 \nL 45.90625 32.71875 \nQ 45.90625 40.484375 42.875 44.328125 \nQ 39.84375 48.1875 33.796875 48.1875 \nQ 26.515625 48.1875 22.3125 43.546875 \nQ 18.109375 38.921875 18.109375 30.90625 \nL 18.109375 0 \nL 9.078125 0 \nL 9.078125 54.6875 \nL 18.109375 54.6875 \nL 18.109375 46.1875 \nQ 21.34375 51.125 25.703125 53.5625 \nQ 30.078125 56 35.796875 56 \nQ 45.21875 56 50.046875 50.171875 \nQ 54.890625 44.34375 54.890625 33.015625 \nz\n\" id=\"DejaVuSans-110\"/>\n      <path d=\"M 45.40625 46.390625 \nL 45.40625 75.984375 \nL 54.390625 75.984375 \nL 54.390625 0 \nL 45.40625 0 \nL 45.40625 8.203125 \nQ 42.578125 3.328125 38.25 0.953125 \nQ 33.9375 -1.421875 27.875 -1.421875 \nQ 17.96875 -1.421875 11.734375 6.484375 \nQ 5.515625 14.40625 5.515625 27.296875 \nQ 5.515625 40.1875 11.734375 48.09375 \nQ 17.96875 56 27.875 56 \nQ 33.9375 56 38.25 53.625 \nQ 42.578125 51.265625 45.40625 46.390625 \nz\nM 14.796875 27.296875 \nQ 14.796875 17.390625 18.875 11.75 \nQ 22.953125 6.109375 30.078125 6.109375 \nQ 37.203125 6.109375 41.296875 11.75 \nQ 45.40625 17.390625 45.40625 27.296875 \nQ 45.40625 37.203125 41.296875 42.84375 \nQ 37.203125 48.484375 30.078125 48.484375 \nQ 22.953125 48.484375 18.875 42.84375 \nQ 14.796875 37.203125 14.796875 27.296875 \nz\n\" id=\"DejaVuSans-100\"/>\n      <path d=\"M 56.203125 29.59375 \nL 56.203125 25.203125 \nL 14.890625 25.203125 \nQ 15.484375 15.921875 20.484375 11.0625 \nQ 25.484375 6.203125 34.421875 6.203125 \nQ 39.59375 6.203125 44.453125 7.46875 \nQ 49.3125 8.734375 54.109375 11.28125 \nL 54.109375 2.78125 \nQ 49.265625 0.734375 44.1875 -0.34375 \nQ 39.109375 -1.421875 33.890625 -1.421875 \nQ 20.796875 -1.421875 13.15625 6.1875 \nQ 5.515625 13.8125 5.515625 26.8125 \nQ 5.515625 40.234375 12.765625 48.109375 \nQ 20.015625 56 32.328125 56 \nQ 43.359375 56 49.78125 48.890625 \nQ 56.203125 41.796875 56.203125 29.59375 \nz\nM 47.21875 32.234375 \nQ 47.125 39.59375 43.09375 43.984375 \nQ 39.0625 48.390625 32.421875 48.390625 \nQ 24.90625 48.390625 20.390625 44.140625 \nQ 15.875 39.890625 15.1875 32.171875 \nz\n\" id=\"DejaVuSans-101\"/>\n      <path d=\"M 54.890625 54.6875 \nL 35.109375 28.078125 \nL 55.90625 0 \nL 45.3125 0 \nL 29.390625 21.484375 \nL 13.484375 0 \nL 2.875 0 \nL 24.125 28.609375 \nL 4.6875 54.6875 \nL 15.28125 54.6875 \nL 29.78125 35.203125 \nL 44.28125 54.6875 \nz\n\" id=\"DejaVuSans-120\"/>\n     </defs>\n     <g transform=\"translate(210.225781 252.916562)scale(0.1 -0.1)\">\n      <use xlink:href=\"#DejaVuSans-105\"/>\n      <use x=\"27.783203\" xlink:href=\"#DejaVuSans-110\"/>\n      <use x=\"91.162109\" xlink:href=\"#DejaVuSans-100\"/>\n      <use x=\"154.638672\" xlink:href=\"#DejaVuSans-101\"/>\n      <use x=\"214.412109\" xlink:href=\"#DejaVuSans-120\"/>\n     </g>\n    </g>\n   </g>\n   <g id=\"matplotlib.axis_2\">\n    <g id=\"ytick_1\">\n     <g id=\"line2d_10\">\n      <defs>\n       <path d=\"M 0 0 \nL -3.5 0 \n\" id=\"m364fe50eef\" style=\"stroke:#000000;stroke-width:0.8;\"/>\n      </defs>\n      <g>\n       <use style=\"stroke:#000000;stroke-width:0.8;\" x=\"56.50625\" xlink:href=\"#m364fe50eef\" y=\"224.64\"/>\n      </g>\n     </g>\n     <g id=\"text_11\">\n      <!-- 0.000 -->\n      <defs>\n       <path d=\"M 10.6875 12.40625 \nL 21 12.40625 \nL 21 0 \nL 10.6875 0 \nz\n\" id=\"DejaVuSans-46\"/>\n      </defs>\n      <g transform=\"translate(20.878125 228.439219)scale(0.1 -0.1)\">\n       <use xlink:href=\"#DejaVuSans-48\"/>\n       <use x=\"63.623047\" xlink:href=\"#DejaVuSans-46\"/>\n       <use x=\"95.410156\" xlink:href=\"#DejaVuSans-48\"/>\n       <use x=\"159.033203\" xlink:href=\"#DejaVuSans-48\"/>\n       <use x=\"222.65625\" xlink:href=\"#DejaVuSans-48\"/>\n      </g>\n     </g>\n    </g>\n    <g id=\"ytick_2\">\n     <g id=\"line2d_11\">\n      <g>\n       <use style=\"stroke:#000000;stroke-width:0.8;\" x=\"56.50625\" xlink:href=\"#m364fe50eef\" y=\"184.995782\"/>\n      </g>\n     </g>\n     <g id=\"text_12\">\n      <!-- 0.001 -->\n      <g transform=\"translate(20.878125 188.795001)scale(0.1 -0.1)\">\n       <use xlink:href=\"#DejaVuSans-48\"/>\n       <use x=\"63.623047\" xlink:href=\"#DejaVuSans-46\"/>\n       <use x=\"95.410156\" xlink:href=\"#DejaVuSans-48\"/>\n       <use x=\"159.033203\" xlink:href=\"#DejaVuSans-48\"/>\n       <use x=\"222.65625\" xlink:href=\"#DejaVuSans-49\"/>\n      </g>\n     </g>\n    </g>\n    <g id=\"ytick_3\">\n     <g id=\"line2d_12\">\n      <g>\n       <use style=\"stroke:#000000;stroke-width:0.8;\" x=\"56.50625\" xlink:href=\"#m364fe50eef\" y=\"145.351565\"/>\n      </g>\n     </g>\n     <g id=\"text_13\">\n      <!-- 0.002 -->\n      <g transform=\"translate(20.878125 149.150784)scale(0.1 -0.1)\">\n       <use xlink:href=\"#DejaVuSans-48\"/>\n       <use x=\"63.623047\" xlink:href=\"#DejaVuSans-46\"/>\n       <use x=\"95.410156\" xlink:href=\"#DejaVuSans-48\"/>\n       <use x=\"159.033203\" xlink:href=\"#DejaVuSans-48\"/>\n       <use x=\"222.65625\" xlink:href=\"#DejaVuSans-50\"/>\n      </g>\n     </g>\n    </g>\n    <g id=\"ytick_4\">\n     <g id=\"line2d_13\">\n      <g>\n       <use style=\"stroke:#000000;stroke-width:0.8;\" x=\"56.50625\" xlink:href=\"#m364fe50eef\" y=\"105.707347\"/>\n      </g>\n     </g>\n     <g id=\"text_14\">\n      <!-- 0.003 -->\n      <defs>\n       <path d=\"M 40.578125 39.3125 \nQ 47.65625 37.796875 51.625 33 \nQ 55.609375 28.21875 55.609375 21.1875 \nQ 55.609375 10.40625 48.1875 4.484375 \nQ 40.765625 -1.421875 27.09375 -1.421875 \nQ 22.515625 -1.421875 17.65625 -0.515625 \nQ 12.796875 0.390625 7.625 2.203125 \nL 7.625 11.71875 \nQ 11.71875 9.328125 16.59375 8.109375 \nQ 21.484375 6.890625 26.8125 6.890625 \nQ 36.078125 6.890625 40.9375 10.546875 \nQ 45.796875 14.203125 45.796875 21.1875 \nQ 45.796875 27.640625 41.28125 31.265625 \nQ 36.765625 34.90625 28.71875 34.90625 \nL 20.21875 34.90625 \nL 20.21875 43.015625 \nL 29.109375 43.015625 \nQ 36.375 43.015625 40.234375 45.921875 \nQ 44.09375 48.828125 44.09375 54.296875 \nQ 44.09375 59.90625 40.109375 62.90625 \nQ 36.140625 65.921875 28.71875 65.921875 \nQ 24.65625 65.921875 20.015625 65.03125 \nQ 15.375 64.15625 9.8125 62.3125 \nL 9.8125 71.09375 \nQ 15.4375 72.65625 20.34375 73.4375 \nQ 25.25 74.21875 29.59375 74.21875 \nQ 40.828125 74.21875 47.359375 69.109375 \nQ 53.90625 64.015625 53.90625 55.328125 \nQ 53.90625 49.265625 50.4375 45.09375 \nQ 46.96875 40.921875 40.578125 39.3125 \nz\n\" id=\"DejaVuSans-51\"/>\n      </defs>\n      <g transform=\"translate(20.878125 109.506566)scale(0.1 -0.1)\">\n       <use xlink:href=\"#DejaVuSans-48\"/>\n       <use x=\"63.623047\" xlink:href=\"#DejaVuSans-46\"/>\n       <use x=\"95.410156\" xlink:href=\"#DejaVuSans-48\"/>\n       <use x=\"159.033203\" xlink:href=\"#DejaVuSans-48\"/>\n       <use x=\"222.65625\" xlink:href=\"#DejaVuSans-51\"/>\n      </g>\n     </g>\n    </g>\n    <g id=\"ytick_5\">\n     <g id=\"line2d_14\">\n      <g>\n       <use style=\"stroke:#000000;stroke-width:0.8;\" x=\"56.50625\" xlink:href=\"#m364fe50eef\" y=\"66.06313\"/>\n      </g>\n     </g>\n     <g id=\"text_15\">\n      <!-- 0.004 -->\n      <defs>\n       <path d=\"M 37.796875 64.3125 \nL 12.890625 25.390625 \nL 37.796875 25.390625 \nz\nM 35.203125 72.90625 \nL 47.609375 72.90625 \nL 47.609375 25.390625 \nL 58.015625 25.390625 \nL 58.015625 17.1875 \nL 47.609375 17.1875 \nL 47.609375 0 \nL 37.796875 0 \nL 37.796875 17.1875 \nL 4.890625 17.1875 \nL 4.890625 26.703125 \nz\n\" id=\"DejaVuSans-52\"/>\n      </defs>\n      <g transform=\"translate(20.878125 69.862349)scale(0.1 -0.1)\">\n       <use xlink:href=\"#DejaVuSans-48\"/>\n       <use x=\"63.623047\" xlink:href=\"#DejaVuSans-46\"/>\n       <use x=\"95.410156\" xlink:href=\"#DejaVuSans-48\"/>\n       <use x=\"159.033203\" xlink:href=\"#DejaVuSans-48\"/>\n       <use x=\"222.65625\" xlink:href=\"#DejaVuSans-52\"/>\n      </g>\n     </g>\n    </g>\n    <g id=\"ytick_6\">\n     <g id=\"line2d_15\">\n      <g>\n       <use style=\"stroke:#000000;stroke-width:0.8;\" x=\"56.50625\" xlink:href=\"#m364fe50eef\" y=\"26.418912\"/>\n      </g>\n     </g>\n     <g id=\"text_16\">\n      <!-- 0.005 -->\n      <g transform=\"translate(20.878125 30.218131)scale(0.1 -0.1)\">\n       <use xlink:href=\"#DejaVuSans-48\"/>\n       <use x=\"63.623047\" xlink:href=\"#DejaVuSans-46\"/>\n       <use x=\"95.410156\" xlink:href=\"#DejaVuSans-48\"/>\n       <use x=\"159.033203\" xlink:href=\"#DejaVuSans-48\"/>\n       <use x=\"222.65625\" xlink:href=\"#DejaVuSans-53\"/>\n      </g>\n     </g>\n    </g>\n    <g id=\"text_17\">\n     <!-- Density -->\n     <defs>\n      <path d=\"M 19.671875 64.796875 \nL 19.671875 8.109375 \nL 31.59375 8.109375 \nQ 46.6875 8.109375 53.6875 14.9375 \nQ 60.6875 21.78125 60.6875 36.53125 \nQ 60.6875 51.171875 53.6875 57.984375 \nQ 46.6875 64.796875 31.59375 64.796875 \nz\nM 9.8125 72.90625 \nL 30.078125 72.90625 \nQ 51.265625 72.90625 61.171875 64.09375 \nQ 71.09375 55.28125 71.09375 36.53125 \nQ 71.09375 17.671875 61.125 8.828125 \nQ 51.171875 0 30.078125 0 \nL 9.8125 0 \nz\n\" id=\"DejaVuSans-68\"/>\n      <path d=\"M 44.28125 53.078125 \nL 44.28125 44.578125 \nQ 40.484375 46.53125 36.375 47.5 \nQ 32.28125 48.484375 27.875 48.484375 \nQ 21.1875 48.484375 17.84375 46.4375 \nQ 14.5 44.390625 14.5 40.28125 \nQ 14.5 37.15625 16.890625 35.375 \nQ 19.28125 33.59375 26.515625 31.984375 \nL 29.59375 31.296875 \nQ 39.15625 29.25 43.1875 25.515625 \nQ 47.21875 21.78125 47.21875 15.09375 \nQ 47.21875 7.46875 41.1875 3.015625 \nQ 35.15625 -1.421875 24.609375 -1.421875 \nQ 20.21875 -1.421875 15.453125 -0.5625 \nQ 10.6875 0.296875 5.421875 2 \nL 5.421875 11.28125 \nQ 10.40625 8.6875 15.234375 7.390625 \nQ 20.0625 6.109375 24.8125 6.109375 \nQ 31.15625 6.109375 34.5625 8.28125 \nQ 37.984375 10.453125 37.984375 14.40625 \nQ 37.984375 18.0625 35.515625 20.015625 \nQ 33.0625 21.96875 24.703125 23.78125 \nL 21.578125 24.515625 \nQ 13.234375 26.265625 9.515625 29.90625 \nQ 5.8125 33.546875 5.8125 39.890625 \nQ 5.8125 47.609375 11.28125 51.796875 \nQ 16.75 56 26.8125 56 \nQ 31.78125 56 36.171875 55.265625 \nQ 40.578125 54.546875 44.28125 53.078125 \nz\n\" id=\"DejaVuSans-115\"/>\n      <path d=\"M 18.3125 70.21875 \nL 18.3125 54.6875 \nL 36.8125 54.6875 \nL 36.8125 47.703125 \nL 18.3125 47.703125 \nL 18.3125 18.015625 \nQ 18.3125 11.328125 20.140625 9.421875 \nQ 21.96875 7.515625 27.59375 7.515625 \nL 36.8125 7.515625 \nL 36.8125 0 \nL 27.59375 0 \nQ 17.1875 0 13.234375 3.875 \nQ 9.28125 7.765625 9.28125 18.015625 \nL 9.28125 47.703125 \nL 2.6875 47.703125 \nL 2.6875 54.6875 \nL 9.28125 54.6875 \nL 9.28125 70.21875 \nz\n\" id=\"DejaVuSans-116\"/>\n      <path d=\"M 32.171875 -5.078125 \nQ 28.375 -14.84375 24.75 -17.8125 \nQ 21.140625 -20.796875 15.09375 -20.796875 \nL 7.90625 -20.796875 \nL 7.90625 -13.28125 \nL 13.1875 -13.28125 \nQ 16.890625 -13.28125 18.9375 -11.515625 \nQ 21 -9.765625 23.484375 -3.21875 \nL 25.09375 0.875 \nL 2.984375 54.6875 \nL 12.5 54.6875 \nL 29.59375 11.921875 \nL 46.6875 54.6875 \nL 56.203125 54.6875 \nz\n\" id=\"DejaVuSans-121\"/>\n     </defs>\n     <g transform=\"translate(14.798437 134.928594)rotate(-90)scale(0.1 -0.1)\">\n      <use xlink:href=\"#DejaVuSans-68\"/>\n      <use x=\"77.001953\" xlink:href=\"#DejaVuSans-101\"/>\n      <use x=\"138.525391\" xlink:href=\"#DejaVuSans-110\"/>\n      <use x=\"201.904297\" xlink:href=\"#DejaVuSans-115\"/>\n      <use x=\"254.003906\" xlink:href=\"#DejaVuSans-105\"/>\n      <use x=\"281.787109\" xlink:href=\"#DejaVuSans-116\"/>\n      <use x=\"320.996094\" xlink:href=\"#DejaVuSans-121\"/>\n     </g>\n    </g>\n   </g>\n   <g id=\"line2d_16\">\n    <path clip-path=\"url(#p89ef190077)\" d=\"M -1 82.56937 \nL 109.514466 17.554286 \nL 230.631762 121.300915 \nL 351.749058 207.382453 \nL 409.05 214.970708 \nL 409.05 214.970708 \n\" style=\"fill:none;stroke:#1f77b4;stroke-linecap:square;stroke-width:1.5;\"/>\n   </g>\n   <g id=\"patch_3\">\n    <path d=\"M 56.50625 224.64 \nL 56.50625 7.2 \n\" style=\"fill:none;stroke:#000000;stroke-linecap:square;stroke-linejoin:miter;stroke-width:0.8;\"/>\n   </g>\n   <g id=\"patch_4\">\n    <path d=\"M 391.30625 224.64 \nL 391.30625 7.2 \n\" style=\"fill:none;stroke:#000000;stroke-linecap:square;stroke-linejoin:miter;stroke-width:0.8;\"/>\n   </g>\n   <g id=\"patch_5\">\n    <path d=\"M 56.50625 224.64 \nL 391.30625 224.64 \n\" style=\"fill:none;stroke:#000000;stroke-linecap:square;stroke-linejoin:miter;stroke-width:0.8;\"/>\n   </g>\n   <g id=\"patch_6\">\n    <path d=\"M 56.50625 7.2 \nL 391.30625 7.2 \n\" style=\"fill:none;stroke:#000000;stroke-linecap:square;stroke-linejoin:miter;stroke-width:0.8;\"/>\n   </g>\n  </g>\n </g>\n <defs>\n  <clipPath id=\"p89ef190077\">\n   <rect height=\"217.44\" width=\"334.8\" x=\"56.50625\" y=\"7.2\"/>\n  </clipPath>\n </defs>\n</svg>\n",
      "image/png": "[encoded data removed]"
     },
     "metadata": {
      "needs_background": "light"
     }
    }
   ],
   "source": [
    "sns.distplot(group_1['index'], hist=False)\n",
    "plt.xlim([-20, 200])"
   ]
  },
  {
   "cell_type": "code",
   "execution_count": 116,
   "metadata": {},
   "outputs": [
    {
     "output_type": "execute_result",
     "data": {
      "text/plain": [
       "count     3596.000000\n",
       "mean        20.181591\n",
       "std        385.557507\n",
       "min          1.000000\n",
       "25%          2.000000\n",
       "50%          4.000000\n",
       "75%          5.000000\n",
       "max      15389.000000\n",
       "Name: index, dtype: float64"
      ]
     },
     "metadata": {},
     "execution_count": 116
    }
   ],
   "source": [
    "group_1['index'].describe()"
   ]
  },
  {
   "cell_type": "code",
   "execution_count": 121,
   "metadata": {},
   "outputs": [
    {
     "output_type": "execute_result",
     "data": {
      "text/plain": [
       "<matplotlib.axes._subplots.AxesSubplot at 0x7f997071af70>"
      ]
     },
     "metadata": {},
     "execution_count": 121
    },
    {
     "output_type": "display_data",
     "data": {
      "text/plain": "<Figure size 864x576 with 1 Axes>",
      "image/svg+xml": "<?xml version=\"1.0\" encoding=\"utf-8\" standalone=\"no\"?>\n<!DOCTYPE svg PUBLIC \"-//W3C//DTD SVG 1.1//EN\"\n  \"http://www.w3.org/Graphics/SVG/1.1/DTD/svg11.dtd\">\n<!-- Created with matplotlib (https://matplotlib.org/) -->\n<svg height=\"252.743424pt\" version=\"1.1\" viewBox=\"0 0 381.65 252.743424\" width=\"381.65pt\" xmlns=\"http://www.w3.org/2000/svg\" xmlns:xlink=\"http://www.w3.org/1999/xlink\">\n <defs>\n  <style type=\"text/css\">\n*{stroke-linecap:butt;stroke-linejoin:round;}\n  </style>\n </defs>\n <g id=\"figure_1\">\n  <g id=\"patch_1\">\n   <path d=\"M -0 252.743424 \nL 381.65 252.743424 \nL 381.65 0 \nL -0 0 \nz\n\" style=\"fill:none;\"/>\n  </g>\n  <g id=\"axes_1\">\n   <g id=\"patch_2\">\n    <path d=\"M 39.65 225.818424 \nL 374.45 225.818424 \nL 374.45 8.378424 \nL 39.65 8.378424 \nz\n\" style=\"fill:#ffffff;\"/>\n   </g>\n   <g id=\"patch_3\">\n    <path clip-path=\"url(#pcdc446ef44)\" d=\"M 43.835 225.818424 \nL 52.205 225.818424 \nL 52.205 18.73271 \nL 43.835 18.73271 \nz\n\" style=\"fill:#1f77b4;\"/>\n   </g>\n   <g id=\"patch_4\">\n    <path clip-path=\"url(#pcdc446ef44)\" d=\"M 60.575 225.818424 \nL 68.945 225.818424 \nL 68.945 39.355354 \nL 60.575 39.355354 \nz\n\" style=\"fill:#1f77b4;\"/>\n   </g>\n   <g id=\"patch_5\">\n    <path clip-path=\"url(#pcdc446ef44)\" d=\"M 77.315 225.818424 \nL 85.685 225.818424 \nL 85.685 110.67533 \nL 77.315 110.67533 \nz\n\" style=\"fill:#1f77b4;\"/>\n   </g>\n   <g id=\"patch_6\">\n    <path clip-path=\"url(#pcdc446ef44)\" d=\"M 94.055 225.818424 \nL 102.425 225.818424 \nL 102.425 185.217595 \nL 94.055 185.217595 \nz\n\" style=\"fill:#1f77b4;\"/>\n   </g>\n   <g id=\"patch_7\">\n    <path clip-path=\"url(#pcdc446ef44)\" d=\"M 110.795 225.818424 \nL 119.165 225.818424 \nL 119.165 185.432414 \nL 110.795 185.432414 \nz\n\" style=\"fill:#1f77b4;\"/>\n   </g>\n   <g id=\"patch_8\">\n    <path clip-path=\"url(#pcdc446ef44)\" d=\"M 127.535 225.818424 \nL 135.905 225.818424 \nL 135.905 187.150967 \nL 127.535 187.150967 \nz\n\" style=\"fill:#1f77b4;\"/>\n   </g>\n   <g id=\"patch_9\">\n    <path clip-path=\"url(#pcdc446ef44)\" d=\"M 144.275 225.818424 \nL 152.645 225.818424 \nL 152.645 189.943617 \nL 144.275 189.943617 \nz\n\" style=\"fill:#1f77b4;\"/>\n   </g>\n   <g id=\"patch_10\">\n    <path clip-path=\"url(#pcdc446ef44)\" d=\"M 161.015 225.818424 \nL 169.385 225.818424 \nL 169.385 209.062526 \nL 161.015 209.062526 \nz\n\" style=\"fill:#1f77b4;\"/>\n   </g>\n   <g id=\"patch_11\">\n    <path clip-path=\"url(#pcdc446ef44)\" d=\"M 177.755 225.818424 \nL 186.125 225.818424 \nL 186.125 210.136622 \nL 177.755 210.136622 \nz\n\" style=\"fill:#1f77b4;\"/>\n   </g>\n   <g id=\"patch_12\">\n    <path clip-path=\"url(#pcdc446ef44)\" d=\"M 194.495 225.818424 \nL 202.865 225.818424 \nL 202.865 211.855176 \nL 194.495 211.855176 \nz\n\" style=\"fill:#1f77b4;\"/>\n   </g>\n   <g id=\"patch_13\">\n    <path clip-path=\"url(#pcdc446ef44)\" d=\"M 211.235 225.818424 \nL 219.605 225.818424 \nL 219.605 216.366379 \nL 211.235 216.366379 \nz\n\" style=\"fill:#1f77b4;\"/>\n   </g>\n   <g id=\"patch_14\">\n    <path clip-path=\"url(#pcdc446ef44)\" d=\"M 227.975 225.818424 \nL 236.345 225.818424 \nL 236.345 218.084933 \nL 227.975 218.084933 \nz\n\" style=\"fill:#1f77b4;\"/>\n   </g>\n   <g id=\"patch_15\">\n    <path clip-path=\"url(#pcdc446ef44)\" d=\"M 244.715 225.818424 \nL 253.085 225.818424 \nL 253.085 220.233125 \nL 244.715 220.233125 \nz\n\" style=\"fill:#1f77b4;\"/>\n   </g>\n   <g id=\"patch_16\">\n    <path clip-path=\"url(#pcdc446ef44)\" d=\"M 261.455 225.818424 \nL 269.825 225.818424 \nL 269.825 221.092402 \nL 261.455 221.092402 \nz\n\" style=\"fill:#1f77b4;\"/>\n   </g>\n   <g id=\"patch_17\">\n    <path clip-path=\"url(#pcdc446ef44)\" d=\"M 278.195 225.818424 \nL 286.565 225.818424 \nL 286.565 221.951679 \nL 278.195 221.951679 \nz\n\" style=\"fill:#1f77b4;\"/>\n   </g>\n   <g id=\"patch_18\">\n    <path clip-path=\"url(#pcdc446ef44)\" d=\"M 294.935 225.818424 \nL 303.305 225.818424 \nL 303.305 222.381317 \nL 294.935 222.381317 \nz\n\" style=\"fill:#1f77b4;\"/>\n   </g>\n   <g id=\"patch_19\">\n    <path clip-path=\"url(#pcdc446ef44)\" d=\"M 311.675 225.818424 \nL 320.045 225.818424 \nL 320.045 223.025775 \nL 311.675 223.025775 \nz\n\" style=\"fill:#1f77b4;\"/>\n   </g>\n   <g id=\"patch_20\">\n    <path clip-path=\"url(#pcdc446ef44)\" d=\"M 328.415 225.818424 \nL 336.785 225.818424 \nL 336.785 223.240594 \nL 328.415 223.240594 \nz\n\" style=\"fill:#1f77b4;\"/>\n   </g>\n   <g id=\"patch_21\">\n    <path clip-path=\"url(#pcdc446ef44)\" d=\"M 345.155 225.818424 \nL 353.525 225.818424 \nL 353.525 224.31469 \nL 345.155 224.31469 \nz\n\" style=\"fill:#1f77b4;\"/>\n   </g>\n   <g id=\"patch_22\">\n    <path clip-path=\"url(#pcdc446ef44)\" d=\"M 361.895 225.818424 \nL 370.265 225.818424 \nL 370.265 224.529509 \nL 361.895 224.529509 \nz\n\" style=\"fill:#1f77b4;\"/>\n   </g>\n   <g id=\"matplotlib.axis_1\">\n    <g id=\"xtick_1\">\n     <g id=\"line2d_1\">\n      <defs>\n       <path d=\"M 0 0 \nL 0 3.5 \n\" id=\"m1ad1bdd85f\" style=\"stroke:#000000;stroke-width:0.8;\"/>\n      </defs>\n      <g>\n       <use style=\"stroke:#000000;stroke-width:0.8;\" x=\"48.02\" xlink:href=\"#m1ad1bdd85f\" y=\"225.818424\"/>\n      </g>\n     </g>\n     <g id=\"text_1\">\n      <!-- 2 -->\n      <defs>\n       <path d=\"M 19.1875 8.296875 \nL 53.609375 8.296875 \nL 53.609375 0 \nL 7.328125 0 \nL 7.328125 8.296875 \nQ 12.9375 14.109375 22.625 23.890625 \nQ 32.328125 33.6875 34.8125 36.53125 \nQ 39.546875 41.84375 41.421875 45.53125 \nQ 43.3125 49.21875 43.3125 52.78125 \nQ 43.3125 58.59375 39.234375 62.25 \nQ 35.15625 65.921875 28.609375 65.921875 \nQ 23.96875 65.921875 18.8125 64.3125 \nQ 13.671875 62.703125 7.8125 59.421875 \nL 7.8125 69.390625 \nQ 13.765625 71.78125 18.9375 73 \nQ 24.125 74.21875 28.421875 74.21875 \nQ 39.75 74.21875 46.484375 68.546875 \nQ 53.21875 62.890625 53.21875 53.421875 \nQ 53.21875 48.921875 51.53125 44.890625 \nQ 49.859375 40.875 45.40625 35.40625 \nQ 44.1875 33.984375 37.640625 27.21875 \nQ 31.109375 20.453125 19.1875 8.296875 \nz\n\" id=\"DejaVuSans-50\"/>\n      </defs>\n      <g transform=\"translate(50.779375 239.180924)rotate(-90)scale(0.1 -0.1)\">\n       <use xlink:href=\"#DejaVuSans-50\"/>\n      </g>\n     </g>\n    </g>\n    <g id=\"xtick_2\">\n     <g id=\"line2d_2\">\n      <g>\n       <use style=\"stroke:#000000;stroke-width:0.8;\" x=\"64.76\" xlink:href=\"#m1ad1bdd85f\" y=\"225.818424\"/>\n      </g>\n     </g>\n     <g id=\"text_2\">\n      <!-- 4 -->\n      <defs>\n       <path d=\"M 37.796875 64.3125 \nL 12.890625 25.390625 \nL 37.796875 25.390625 \nz\nM 35.203125 72.90625 \nL 47.609375 72.90625 \nL 47.609375 25.390625 \nL 58.015625 25.390625 \nL 58.015625 17.1875 \nL 47.609375 17.1875 \nL 47.609375 0 \nL 37.796875 0 \nL 37.796875 17.1875 \nL 4.890625 17.1875 \nL 4.890625 26.703125 \nz\n\" id=\"DejaVuSans-52\"/>\n      </defs>\n      <g transform=\"translate(67.519375 239.180924)rotate(-90)scale(0.1 -0.1)\">\n       <use xlink:href=\"#DejaVuSans-52\"/>\n      </g>\n     </g>\n    </g>\n    <g id=\"xtick_3\">\n     <g id=\"line2d_3\">\n      <g>\n       <use style=\"stroke:#000000;stroke-width:0.8;\" x=\"81.5\" xlink:href=\"#m1ad1bdd85f\" y=\"225.818424\"/>\n      </g>\n     </g>\n     <g id=\"text_3\">\n      <!-- 3 -->\n      <defs>\n       <path d=\"M 40.578125 39.3125 \nQ 47.65625 37.796875 51.625 33 \nQ 55.609375 28.21875 55.609375 21.1875 \nQ 55.609375 10.40625 48.1875 4.484375 \nQ 40.765625 -1.421875 27.09375 -1.421875 \nQ 22.515625 -1.421875 17.65625 -0.515625 \nQ 12.796875 0.390625 7.625 2.203125 \nL 7.625 11.71875 \nQ 11.71875 9.328125 16.59375 8.109375 \nQ 21.484375 6.890625 26.8125 6.890625 \nQ 36.078125 6.890625 40.9375 10.546875 \nQ 45.796875 14.203125 45.796875 21.1875 \nQ 45.796875 27.640625 41.28125 31.265625 \nQ 36.765625 34.90625 28.71875 34.90625 \nL 20.21875 34.90625 \nL 20.21875 43.015625 \nL 29.109375 43.015625 \nQ 36.375 43.015625 40.234375 45.921875 \nQ 44.09375 48.828125 44.09375 54.296875 \nQ 44.09375 59.90625 40.109375 62.90625 \nQ 36.140625 65.921875 28.71875 65.921875 \nQ 24.65625 65.921875 20.015625 65.03125 \nQ 15.375 64.15625 9.8125 62.3125 \nL 9.8125 71.09375 \nQ 15.4375 72.65625 20.34375 73.4375 \nQ 25.25 74.21875 29.59375 74.21875 \nQ 40.828125 74.21875 47.359375 69.109375 \nQ 53.90625 64.015625 53.90625 55.328125 \nQ 53.90625 49.265625 50.4375 45.09375 \nQ 46.96875 40.921875 40.578125 39.3125 \nz\n\" id=\"DejaVuSans-51\"/>\n      </defs>\n      <g transform=\"translate(84.259375 239.180924)rotate(-90)scale(0.1 -0.1)\">\n       <use xlink:href=\"#DejaVuSans-51\"/>\n      </g>\n     </g>\n    </g>\n    <g id=\"xtick_4\">\n     <g id=\"line2d_4\">\n      <g>\n       <use style=\"stroke:#000000;stroke-width:0.8;\" x=\"98.24\" xlink:href=\"#m1ad1bdd85f\" y=\"225.818424\"/>\n      </g>\n     </g>\n     <g id=\"text_4\">\n      <!-- 6 -->\n      <defs>\n       <path d=\"M 33.015625 40.375 \nQ 26.375 40.375 22.484375 35.828125 \nQ 18.609375 31.296875 18.609375 23.390625 \nQ 18.609375 15.53125 22.484375 10.953125 \nQ 26.375 6.390625 33.015625 6.390625 \nQ 39.65625 6.390625 43.53125 10.953125 \nQ 47.40625 15.53125 47.40625 23.390625 \nQ 47.40625 31.296875 43.53125 35.828125 \nQ 39.65625 40.375 33.015625 40.375 \nz\nM 52.59375 71.296875 \nL 52.59375 62.3125 \nQ 48.875 64.0625 45.09375 64.984375 \nQ 41.3125 65.921875 37.59375 65.921875 \nQ 27.828125 65.921875 22.671875 59.328125 \nQ 17.53125 52.734375 16.796875 39.40625 \nQ 19.671875 43.65625 24.015625 45.921875 \nQ 28.375 48.1875 33.59375 48.1875 \nQ 44.578125 48.1875 50.953125 41.515625 \nQ 57.328125 34.859375 57.328125 23.390625 \nQ 57.328125 12.15625 50.6875 5.359375 \nQ 44.046875 -1.421875 33.015625 -1.421875 \nQ 20.359375 -1.421875 13.671875 8.265625 \nQ 6.984375 17.96875 6.984375 36.375 \nQ 6.984375 53.65625 15.1875 63.9375 \nQ 23.390625 74.21875 37.203125 74.21875 \nQ 40.921875 74.21875 44.703125 73.484375 \nQ 48.484375 72.75 52.59375 71.296875 \nz\n\" id=\"DejaVuSans-54\"/>\n      </defs>\n      <g transform=\"translate(100.999375 239.180924)rotate(-90)scale(0.1 -0.1)\">\n       <use xlink:href=\"#DejaVuSans-54\"/>\n      </g>\n     </g>\n    </g>\n    <g id=\"xtick_5\">\n     <g id=\"line2d_5\">\n      <g>\n       <use style=\"stroke:#000000;stroke-width:0.8;\" x=\"114.98\" xlink:href=\"#m1ad1bdd85f\" y=\"225.818424\"/>\n      </g>\n     </g>\n     <g id=\"text_5\">\n      <!-- 5 -->\n      <defs>\n       <path d=\"M 10.796875 72.90625 \nL 49.515625 72.90625 \nL 49.515625 64.59375 \nL 19.828125 64.59375 \nL 19.828125 46.734375 \nQ 21.96875 47.46875 24.109375 47.828125 \nQ 26.265625 48.1875 28.421875 48.1875 \nQ 40.625 48.1875 47.75 41.5 \nQ 54.890625 34.8125 54.890625 23.390625 \nQ 54.890625 11.625 47.5625 5.09375 \nQ 40.234375 -1.421875 26.90625 -1.421875 \nQ 22.3125 -1.421875 17.546875 -0.640625 \nQ 12.796875 0.140625 7.71875 1.703125 \nL 7.71875 11.625 \nQ 12.109375 9.234375 16.796875 8.0625 \nQ 21.484375 6.890625 26.703125 6.890625 \nQ 35.15625 6.890625 40.078125 11.328125 \nQ 45.015625 15.765625 45.015625 23.390625 \nQ 45.015625 31 40.078125 35.4375 \nQ 35.15625 39.890625 26.703125 39.890625 \nQ 22.75 39.890625 18.8125 39.015625 \nQ 14.890625 38.140625 10.796875 36.28125 \nz\n\" id=\"DejaVuSans-53\"/>\n      </defs>\n      <g transform=\"translate(117.739375 239.180924)rotate(-90)scale(0.1 -0.1)\">\n       <use xlink:href=\"#DejaVuSans-53\"/>\n      </g>\n     </g>\n    </g>\n    <g id=\"xtick_6\">\n     <g id=\"line2d_6\">\n      <g>\n       <use style=\"stroke:#000000;stroke-width:0.8;\" x=\"131.72\" xlink:href=\"#m1ad1bdd85f\" y=\"225.818424\"/>\n      </g>\n     </g>\n     <g id=\"text_6\">\n      <!-- 1 -->\n      <defs>\n       <path d=\"M 12.40625 8.296875 \nL 28.515625 8.296875 \nL 28.515625 63.921875 \nL 10.984375 60.40625 \nL 10.984375 69.390625 \nL 28.421875 72.90625 \nL 38.28125 72.90625 \nL 38.28125 8.296875 \nL 54.390625 8.296875 \nL 54.390625 0 \nL 12.40625 0 \nz\n\" id=\"DejaVuSans-49\"/>\n      </defs>\n      <g transform=\"translate(134.479375 239.180924)rotate(-90)scale(0.1 -0.1)\">\n       <use xlink:href=\"#DejaVuSans-49\"/>\n      </g>\n     </g>\n    </g>\n    <g id=\"xtick_7\">\n     <g id=\"line2d_7\">\n      <g>\n       <use style=\"stroke:#000000;stroke-width:0.8;\" x=\"148.46\" xlink:href=\"#m1ad1bdd85f\" y=\"225.818424\"/>\n      </g>\n     </g>\n     <g id=\"text_7\">\n      <!-- 8 -->\n      <defs>\n       <path d=\"M 31.78125 34.625 \nQ 24.75 34.625 20.71875 30.859375 \nQ 16.703125 27.09375 16.703125 20.515625 \nQ 16.703125 13.921875 20.71875 10.15625 \nQ 24.75 6.390625 31.78125 6.390625 \nQ 38.8125 6.390625 42.859375 10.171875 \nQ 46.921875 13.96875 46.921875 20.515625 \nQ 46.921875 27.09375 42.890625 30.859375 \nQ 38.875 34.625 31.78125 34.625 \nz\nM 21.921875 38.8125 \nQ 15.578125 40.375 12.03125 44.71875 \nQ 8.5 49.078125 8.5 55.328125 \nQ 8.5 64.0625 14.71875 69.140625 \nQ 20.953125 74.21875 31.78125 74.21875 \nQ 42.671875 74.21875 48.875 69.140625 \nQ 55.078125 64.0625 55.078125 55.328125 \nQ 55.078125 49.078125 51.53125 44.71875 \nQ 48 40.375 41.703125 38.8125 \nQ 48.828125 37.15625 52.796875 32.3125 \nQ 56.78125 27.484375 56.78125 20.515625 \nQ 56.78125 9.90625 50.3125 4.234375 \nQ 43.84375 -1.421875 31.78125 -1.421875 \nQ 19.734375 -1.421875 13.25 4.234375 \nQ 6.78125 9.90625 6.78125 20.515625 \nQ 6.78125 27.484375 10.78125 32.3125 \nQ 14.796875 37.15625 21.921875 38.8125 \nz\nM 18.3125 54.390625 \nQ 18.3125 48.734375 21.84375 45.5625 \nQ 25.390625 42.390625 31.78125 42.390625 \nQ 38.140625 42.390625 41.71875 45.5625 \nQ 45.3125 48.734375 45.3125 54.390625 \nQ 45.3125 60.0625 41.71875 63.234375 \nQ 38.140625 66.40625 31.78125 66.40625 \nQ 25.390625 66.40625 21.84375 63.234375 \nQ 18.3125 60.0625 18.3125 54.390625 \nz\n\" id=\"DejaVuSans-56\"/>\n      </defs>\n      <g transform=\"translate(151.219375 239.180924)rotate(-90)scale(0.1 -0.1)\">\n       <use xlink:href=\"#DejaVuSans-56\"/>\n      </g>\n     </g>\n    </g>\n    <g id=\"xtick_8\">\n     <g id=\"line2d_8\">\n      <g>\n       <use style=\"stroke:#000000;stroke-width:0.8;\" x=\"165.2\" xlink:href=\"#m1ad1bdd85f\" y=\"225.818424\"/>\n      </g>\n     </g>\n     <g id=\"text_8\">\n      <!-- 7 -->\n      <defs>\n       <path d=\"M 8.203125 72.90625 \nL 55.078125 72.90625 \nL 55.078125 68.703125 \nL 28.609375 0 \nL 18.3125 0 \nL 43.21875 64.59375 \nL 8.203125 64.59375 \nz\n\" id=\"DejaVuSans-55\"/>\n      </defs>\n      <g transform=\"translate(167.959375 239.180924)rotate(-90)scale(0.1 -0.1)\">\n       <use xlink:href=\"#DejaVuSans-55\"/>\n      </g>\n     </g>\n    </g>\n    <g id=\"xtick_9\">\n     <g id=\"line2d_9\">\n      <g>\n       <use style=\"stroke:#000000;stroke-width:0.8;\" x=\"181.94\" xlink:href=\"#m1ad1bdd85f\" y=\"225.818424\"/>\n      </g>\n     </g>\n     <g id=\"text_9\">\n      <!-- 10 -->\n      <defs>\n       <path d=\"M 31.78125 66.40625 \nQ 24.171875 66.40625 20.328125 58.90625 \nQ 16.5 51.421875 16.5 36.375 \nQ 16.5 21.390625 20.328125 13.890625 \nQ 24.171875 6.390625 31.78125 6.390625 \nQ 39.453125 6.390625 43.28125 13.890625 \nQ 47.125 21.390625 47.125 36.375 \nQ 47.125 51.421875 43.28125 58.90625 \nQ 39.453125 66.40625 31.78125 66.40625 \nz\nM 31.78125 74.21875 \nQ 44.046875 74.21875 50.515625 64.515625 \nQ 56.984375 54.828125 56.984375 36.375 \nQ 56.984375 17.96875 50.515625 8.265625 \nQ 44.046875 -1.421875 31.78125 -1.421875 \nQ 19.53125 -1.421875 13.0625 8.265625 \nQ 6.59375 17.96875 6.59375 36.375 \nQ 6.59375 54.828125 13.0625 64.515625 \nQ 19.53125 74.21875 31.78125 74.21875 \nz\n\" id=\"DejaVuSans-48\"/>\n      </defs>\n      <g transform=\"translate(184.699375 245.543424)rotate(-90)scale(0.1 -0.1)\">\n       <use xlink:href=\"#DejaVuSans-49\"/>\n       <use x=\"63.623047\" xlink:href=\"#DejaVuSans-48\"/>\n      </g>\n     </g>\n    </g>\n    <g id=\"xtick_10\">\n     <g id=\"line2d_10\">\n      <g>\n       <use style=\"stroke:#000000;stroke-width:0.8;\" x=\"198.68\" xlink:href=\"#m1ad1bdd85f\" y=\"225.818424\"/>\n      </g>\n     </g>\n     <g id=\"text_10\">\n      <!-- 12 -->\n      <g transform=\"translate(201.439375 245.543424)rotate(-90)scale(0.1 -0.1)\">\n       <use xlink:href=\"#DejaVuSans-49\"/>\n       <use x=\"63.623047\" xlink:href=\"#DejaVuSans-50\"/>\n      </g>\n     </g>\n    </g>\n    <g id=\"xtick_11\">\n     <g id=\"line2d_11\">\n      <g>\n       <use style=\"stroke:#000000;stroke-width:0.8;\" x=\"215.42\" xlink:href=\"#m1ad1bdd85f\" y=\"225.818424\"/>\n      </g>\n     </g>\n     <g id=\"text_11\">\n      <!-- 14 -->\n      <g transform=\"translate(218.179375 245.543424)rotate(-90)scale(0.1 -0.1)\">\n       <use xlink:href=\"#DejaVuSans-49\"/>\n       <use x=\"63.623047\" xlink:href=\"#DejaVuSans-52\"/>\n      </g>\n     </g>\n    </g>\n    <g id=\"xtick_12\">\n     <g id=\"line2d_12\">\n      <g>\n       <use style=\"stroke:#000000;stroke-width:0.8;\" x=\"232.16\" xlink:href=\"#m1ad1bdd85f\" y=\"225.818424\"/>\n      </g>\n     </g>\n     <g id=\"text_12\">\n      <!-- 9 -->\n      <defs>\n       <path d=\"M 10.984375 1.515625 \nL 10.984375 10.5 \nQ 14.703125 8.734375 18.5 7.8125 \nQ 22.3125 6.890625 25.984375 6.890625 \nQ 35.75 6.890625 40.890625 13.453125 \nQ 46.046875 20.015625 46.78125 33.40625 \nQ 43.953125 29.203125 39.59375 26.953125 \nQ 35.25 24.703125 29.984375 24.703125 \nQ 19.046875 24.703125 12.671875 31.3125 \nQ 6.296875 37.9375 6.296875 49.421875 \nQ 6.296875 60.640625 12.9375 67.421875 \nQ 19.578125 74.21875 30.609375 74.21875 \nQ 43.265625 74.21875 49.921875 64.515625 \nQ 56.59375 54.828125 56.59375 36.375 \nQ 56.59375 19.140625 48.40625 8.859375 \nQ 40.234375 -1.421875 26.421875 -1.421875 \nQ 22.703125 -1.421875 18.890625 -0.6875 \nQ 15.09375 0.046875 10.984375 1.515625 \nz\nM 30.609375 32.421875 \nQ 37.25 32.421875 41.125 36.953125 \nQ 45.015625 41.5 45.015625 49.421875 \nQ 45.015625 57.28125 41.125 61.84375 \nQ 37.25 66.40625 30.609375 66.40625 \nQ 23.96875 66.40625 20.09375 61.84375 \nQ 16.21875 57.28125 16.21875 49.421875 \nQ 16.21875 41.5 20.09375 36.953125 \nQ 23.96875 32.421875 30.609375 32.421875 \nz\n\" id=\"DejaVuSans-57\"/>\n      </defs>\n      <g transform=\"translate(234.919375 239.180924)rotate(-90)scale(0.1 -0.1)\">\n       <use xlink:href=\"#DejaVuSans-57\"/>\n      </g>\n     </g>\n    </g>\n    <g id=\"xtick_13\">\n     <g id=\"line2d_13\">\n      <g>\n       <use style=\"stroke:#000000;stroke-width:0.8;\" x=\"248.9\" xlink:href=\"#m1ad1bdd85f\" y=\"225.818424\"/>\n      </g>\n     </g>\n     <g id=\"text_13\">\n      <!-- 16 -->\n      <g transform=\"translate(251.659375 245.543424)rotate(-90)scale(0.1 -0.1)\">\n       <use xlink:href=\"#DejaVuSans-49\"/>\n       <use x=\"63.623047\" xlink:href=\"#DejaVuSans-54\"/>\n      </g>\n     </g>\n    </g>\n    <g id=\"xtick_14\">\n     <g id=\"line2d_14\">\n      <g>\n       <use style=\"stroke:#000000;stroke-width:0.8;\" x=\"265.64\" xlink:href=\"#m1ad1bdd85f\" y=\"225.818424\"/>\n      </g>\n     </g>\n     <g id=\"text_14\">\n      <!-- 13 -->\n      <g transform=\"translate(268.399375 245.543424)rotate(-90)scale(0.1 -0.1)\">\n       <use xlink:href=\"#DejaVuSans-49\"/>\n       <use x=\"63.623047\" xlink:href=\"#DejaVuSans-51\"/>\n      </g>\n     </g>\n    </g>\n    <g id=\"xtick_15\">\n     <g id=\"line2d_15\">\n      <g>\n       <use style=\"stroke:#000000;stroke-width:0.8;\" x=\"282.38\" xlink:href=\"#m1ad1bdd85f\" y=\"225.818424\"/>\n      </g>\n     </g>\n     <g id=\"text_15\">\n      <!-- 11 -->\n      <g transform=\"translate(285.139375 245.543424)rotate(-90)scale(0.1 -0.1)\">\n       <use xlink:href=\"#DejaVuSans-49\"/>\n       <use x=\"63.623047\" xlink:href=\"#DejaVuSans-49\"/>\n      </g>\n     </g>\n    </g>\n    <g id=\"xtick_16\">\n     <g id=\"line2d_16\">\n      <g>\n       <use style=\"stroke:#000000;stroke-width:0.8;\" x=\"299.12\" xlink:href=\"#m1ad1bdd85f\" y=\"225.818424\"/>\n      </g>\n     </g>\n     <g id=\"text_16\">\n      <!-- 15 -->\n      <g transform=\"translate(301.879375 245.543424)rotate(-90)scale(0.1 -0.1)\">\n       <use xlink:href=\"#DejaVuSans-49\"/>\n       <use x=\"63.623047\" xlink:href=\"#DejaVuSans-53\"/>\n      </g>\n     </g>\n    </g>\n    <g id=\"xtick_17\">\n     <g id=\"line2d_17\">\n      <g>\n       <use style=\"stroke:#000000;stroke-width:0.8;\" x=\"315.86\" xlink:href=\"#m1ad1bdd85f\" y=\"225.818424\"/>\n      </g>\n     </g>\n     <g id=\"text_17\">\n      <!-- 24 -->\n      <g transform=\"translate(318.619375 245.543424)rotate(-90)scale(0.1 -0.1)\">\n       <use xlink:href=\"#DejaVuSans-50\"/>\n       <use x=\"63.623047\" xlink:href=\"#DejaVuSans-52\"/>\n      </g>\n     </g>\n    </g>\n    <g id=\"xtick_18\">\n     <g id=\"line2d_18\">\n      <g>\n       <use style=\"stroke:#000000;stroke-width:0.8;\" x=\"332.6\" xlink:href=\"#m1ad1bdd85f\" y=\"225.818424\"/>\n      </g>\n     </g>\n     <g id=\"text_18\">\n      <!-- 18 -->\n      <g transform=\"translate(335.359375 245.543424)rotate(-90)scale(0.1 -0.1)\">\n       <use xlink:href=\"#DejaVuSans-49\"/>\n       <use x=\"63.623047\" xlink:href=\"#DejaVuSans-56\"/>\n      </g>\n     </g>\n    </g>\n    <g id=\"xtick_19\">\n     <g id=\"line2d_19\">\n      <g>\n       <use style=\"stroke:#000000;stroke-width:0.8;\" x=\"349.34\" xlink:href=\"#m1ad1bdd85f\" y=\"225.818424\"/>\n      </g>\n     </g>\n     <g id=\"text_19\">\n      <!-- 20 -->\n      <g transform=\"translate(352.099375 245.543424)rotate(-90)scale(0.1 -0.1)\">\n       <use xlink:href=\"#DejaVuSans-50\"/>\n       <use x=\"63.623047\" xlink:href=\"#DejaVuSans-48\"/>\n      </g>\n     </g>\n    </g>\n    <g id=\"xtick_20\">\n     <g id=\"line2d_20\">\n      <g>\n       <use style=\"stroke:#000000;stroke-width:0.8;\" x=\"366.08\" xlink:href=\"#m1ad1bdd85f\" y=\"225.818424\"/>\n      </g>\n     </g>\n     <g id=\"text_20\">\n      <!-- 17 -->\n      <g transform=\"translate(368.839375 245.543424)rotate(-90)scale(0.1 -0.1)\">\n       <use xlink:href=\"#DejaVuSans-49\"/>\n       <use x=\"63.623047\" xlink:href=\"#DejaVuSans-55\"/>\n      </g>\n     </g>\n    </g>\n   </g>\n   <g id=\"matplotlib.axis_2\">\n    <g id=\"ytick_1\">\n     <g id=\"line2d_21\">\n      <defs>\n       <path d=\"M 0 0 \nL -3.5 0 \n\" id=\"mf3b0f02210\" style=\"stroke:#000000;stroke-width:0.8;\"/>\n      </defs>\n      <g>\n       <use style=\"stroke:#000000;stroke-width:0.8;\" x=\"39.65\" xlink:href=\"#mf3b0f02210\" y=\"225.818424\"/>\n      </g>\n     </g>\n     <g id=\"text_21\">\n      <!-- 0 -->\n      <g transform=\"translate(26.2875 229.617643)scale(0.1 -0.1)\">\n       <use xlink:href=\"#DejaVuSans-48\"/>\n      </g>\n     </g>\n    </g>\n    <g id=\"ytick_2\">\n     <g id=\"line2d_22\">\n      <g>\n       <use style=\"stroke:#000000;stroke-width:0.8;\" x=\"39.65\" xlink:href=\"#mf3b0f02210\" y=\"182.854583\"/>\n      </g>\n     </g>\n     <g id=\"text_22\">\n      <!-- 200 -->\n      <g transform=\"translate(13.5625 186.653802)scale(0.1 -0.1)\">\n       <use xlink:href=\"#DejaVuSans-50\"/>\n       <use x=\"63.623047\" xlink:href=\"#DejaVuSans-48\"/>\n       <use x=\"127.246094\" xlink:href=\"#DejaVuSans-48\"/>\n      </g>\n     </g>\n    </g>\n    <g id=\"ytick_3\">\n     <g id=\"line2d_23\">\n      <g>\n       <use style=\"stroke:#000000;stroke-width:0.8;\" x=\"39.65\" xlink:href=\"#mf3b0f02210\" y=\"139.890742\"/>\n      </g>\n     </g>\n     <g id=\"text_23\">\n      <!-- 400 -->\n      <g transform=\"translate(13.5625 143.689961)scale(0.1 -0.1)\">\n       <use xlink:href=\"#DejaVuSans-52\"/>\n       <use x=\"63.623047\" xlink:href=\"#DejaVuSans-48\"/>\n       <use x=\"127.246094\" xlink:href=\"#DejaVuSans-48\"/>\n      </g>\n     </g>\n    </g>\n    <g id=\"ytick_4\">\n     <g id=\"line2d_24\">\n      <g>\n       <use style=\"stroke:#000000;stroke-width:0.8;\" x=\"39.65\" xlink:href=\"#mf3b0f02210\" y=\"96.926901\"/>\n      </g>\n     </g>\n     <g id=\"text_24\">\n      <!-- 600 -->\n      <g transform=\"translate(13.5625 100.72612)scale(0.1 -0.1)\">\n       <use xlink:href=\"#DejaVuSans-54\"/>\n       <use x=\"63.623047\" xlink:href=\"#DejaVuSans-48\"/>\n       <use x=\"127.246094\" xlink:href=\"#DejaVuSans-48\"/>\n      </g>\n     </g>\n    </g>\n    <g id=\"ytick_5\">\n     <g id=\"line2d_25\">\n      <g>\n       <use style=\"stroke:#000000;stroke-width:0.8;\" x=\"39.65\" xlink:href=\"#mf3b0f02210\" y=\"53.96306\"/>\n      </g>\n     </g>\n     <g id=\"text_25\">\n      <!-- 800 -->\n      <g transform=\"translate(13.5625 57.762279)scale(0.1 -0.1)\">\n       <use xlink:href=\"#DejaVuSans-56\"/>\n       <use x=\"63.623047\" xlink:href=\"#DejaVuSans-48\"/>\n       <use x=\"127.246094\" xlink:href=\"#DejaVuSans-48\"/>\n      </g>\n     </g>\n    </g>\n    <g id=\"ytick_6\">\n     <g id=\"line2d_26\">\n      <g>\n       <use style=\"stroke:#000000;stroke-width:0.8;\" x=\"39.65\" xlink:href=\"#mf3b0f02210\" y=\"10.999219\"/>\n      </g>\n     </g>\n     <g id=\"text_26\">\n      <!-- 1000 -->\n      <g transform=\"translate(7.2 14.798437)scale(0.1 -0.1)\">\n       <use xlink:href=\"#DejaVuSans-49\"/>\n       <use x=\"63.623047\" xlink:href=\"#DejaVuSans-48\"/>\n       <use x=\"127.246094\" xlink:href=\"#DejaVuSans-48\"/>\n       <use x=\"190.869141\" xlink:href=\"#DejaVuSans-48\"/>\n      </g>\n     </g>\n    </g>\n   </g>\n   <g id=\"patch_23\">\n    <path d=\"M 39.65 225.818424 \nL 39.65 8.378424 \n\" style=\"fill:none;stroke:#000000;stroke-linecap:square;stroke-linejoin:miter;stroke-width:0.8;\"/>\n   </g>\n   <g id=\"patch_24\">\n    <path d=\"M 374.45 225.818424 \nL 374.45 8.378424 \n\" style=\"fill:none;stroke:#000000;stroke-linecap:square;stroke-linejoin:miter;stroke-width:0.8;\"/>\n   </g>\n   <g id=\"patch_25\">\n    <path d=\"M 39.65 225.818424 \nL 374.45 225.818424 \n\" style=\"fill:none;stroke:#000000;stroke-linecap:square;stroke-linejoin:miter;stroke-width:0.8;\"/>\n   </g>\n   <g id=\"patch_26\">\n    <path d=\"M 39.65 8.378424 \nL 374.45 8.378424 \n\" style=\"fill:none;stroke:#000000;stroke-linecap:square;stroke-linejoin:miter;stroke-width:0.8;\"/>\n   </g>\n  </g>\n </g>\n <defs>\n  <clipPath id=\"pcdc446ef44\">\n   <rect height=\"217.44\" width=\"334.8\" x=\"39.65\" y=\"8.378424\"/>\n  </clipPath>\n </defs>\n</svg>\n",
      "image/png": "[encoded data removed]"
     },
     "metadata": {
      "needs_background": "light"
     }
    }
   ],
   "source": [
    "group_1['index'].value_counts().head(20).plot(kind='bar')"
   ]
  },
  {
   "cell_type": "code",
   "execution_count": 124,
   "metadata": {},
   "outputs": [
    {
     "output_type": "execute_result",
     "data": {
      "text/plain": [
       "    level_0  index\n",
       "37       68      1\n",
       "53       93      1\n",
       "52       99      1\n",
       "51      135      1\n",
       "50      145      1\n",
       "49      147      1\n",
       "48      271      1\n",
       "47      473      1\n",
       "46      128      1\n",
       "45      112      1\n",
       "44    13267      1\n",
       "43       96      1\n",
       "42      108      1\n",
       "41       34      1\n",
       "40       60      1\n",
       "39       62      1\n",
       "54       75      1\n",
       "38       30      1\n",
       "55       69      1\n",
       "57       39      1"
      ],
      "text/html": "<div>\n<style scoped>\n    .dataframe tbody tr th:only-of-type {\n        vertical-align: middle;\n    }\n\n    .dataframe tbody tr th {\n        vertical-align: top;\n    }\n\n    .dataframe thead th {\n        text-align: right;\n    }\n</style>\n<table border=\"1\" class=\"dataframe\">\n  <thead>\n    <tr style=\"text-align: right;\">\n      <th></th>\n      <th>level_0</th>\n      <th>index</th>\n    </tr>\n  </thead>\n  <tbody>\n    <tr>\n      <th>37</th>\n      <td>68</td>\n      <td>1</td>\n    </tr>\n    <tr>\n      <th>53</th>\n      <td>93</td>\n      <td>1</td>\n    </tr>\n    <tr>\n      <th>52</th>\n      <td>99</td>\n      <td>1</td>\n    </tr>\n    <tr>\n      <th>51</th>\n      <td>135</td>\n      <td>1</td>\n    </tr>\n    <tr>\n      <th>50</th>\n      <td>145</td>\n      <td>1</td>\n    </tr>\n    <tr>\n      <th>49</th>\n      <td>147</td>\n      <td>1</td>\n    </tr>\n    <tr>\n      <th>48</th>\n      <td>271</td>\n      <td>1</td>\n    </tr>\n    <tr>\n      <th>47</th>\n      <td>473</td>\n      <td>1</td>\n    </tr>\n    <tr>\n      <th>46</th>\n      <td>128</td>\n      <td>1</td>\n    </tr>\n    <tr>\n      <th>45</th>\n      <td>112</td>\n      <td>1</td>\n    </tr>\n    <tr>\n      <th>44</th>\n      <td>13267</td>\n      <td>1</td>\n    </tr>\n    <tr>\n      <th>43</th>\n      <td>96</td>\n      <td>1</td>\n    </tr>\n    <tr>\n      <th>42</th>\n      <td>108</td>\n      <td>1</td>\n    </tr>\n    <tr>\n      <th>41</th>\n      <td>34</td>\n      <td>1</td>\n    </tr>\n    <tr>\n      <th>40</th>\n      <td>60</td>\n      <td>1</td>\n    </tr>\n    <tr>\n      <th>39</th>\n      <td>62</td>\n      <td>1</td>\n    </tr>\n    <tr>\n      <th>54</th>\n      <td>75</td>\n      <td>1</td>\n    </tr>\n    <tr>\n      <th>38</th>\n      <td>30</td>\n      <td>1</td>\n    </tr>\n    <tr>\n      <th>55</th>\n      <td>69</td>\n      <td>1</td>\n    </tr>\n    <tr>\n      <th>57</th>\n      <td>39</td>\n      <td>1</td>\n    </tr>\n  </tbody>\n</table>\n</div>"
     },
     "metadata": {},
     "execution_count": 124
    }
   ],
   "source": [
    "group_1['index'].value_counts().reset_index().sort_values(by='index').head(20)"
   ]
  },
  {
   "cell_type": "code",
   "execution_count": 125,
   "metadata": {},
   "outputs": [
    {
     "output_type": "execute_result",
     "data": {
      "text/plain": [
       "<matplotlib.axes._subplots.AxesSubplot at 0x7f999985e280>"
      ]
     },
     "metadata": {},
     "execution_count": 125
    },
    {
     "output_type": "display_data",
     "data": {
      "text/plain": "<Figure size 864x576 with 1 Axes>",
      "image/svg+xml": "<?xml version=\"1.0\" encoding=\"utf-8\" standalone=\"no\"?>\n<!DOCTYPE svg PUBLIC \"-//W3C//DTD SVG 1.1//EN\"\n  \"http://www.w3.org/Graphics/SVG/1.1/DTD/svg11.dtd\">\n<!-- Created with matplotlib (https://matplotlib.org/) -->\n<svg height=\"266.699674pt\" version=\"1.1\" viewBox=\"0 0 381.65 266.699674\" width=\"381.65pt\" xmlns=\"http://www.w3.org/2000/svg\" xmlns:xlink=\"http://www.w3.org/1999/xlink\">\n <defs>\n  <style type=\"text/css\">\n*{stroke-linecap:butt;stroke-linejoin:round;}\n  </style>\n </defs>\n <g id=\"figure_1\">\n  <g id=\"patch_1\">\n   <path d=\"M -0 266.699674 \nL 381.65 266.699674 \nL 381.65 0 \nL -0 0 \nz\n\" style=\"fill:none;\"/>\n  </g>\n  <g id=\"axes_1\">\n   <g id=\"patch_2\">\n    <path d=\"M 39.65 225.818424 \nL 374.45 225.818424 \nL 374.45 8.378424 \nL 39.65 8.378424 \nz\n\" style=\"fill:#ffffff;\"/>\n   </g>\n   <g id=\"patch_3\">\n    <path clip-path=\"url(#pa2cacb9e89)\" d=\"M 43.835 225.818424 \nL 52.205 225.818424 \nL 52.205 187.150967 \nL 43.835 187.150967 \nz\n\" style=\"fill:#1f77b4;\"/>\n   </g>\n   <g id=\"patch_4\">\n    <path clip-path=\"url(#pa2cacb9e89)\" d=\"M 60.575 225.818424 \nL 68.945 225.818424 \nL 68.945 18.73271 \nL 60.575 18.73271 \nz\n\" style=\"fill:#1f77b4;\"/>\n   </g>\n   <g id=\"patch_5\">\n    <path clip-path=\"url(#pa2cacb9e89)\" d=\"M 77.315 225.818424 \nL 85.685 225.818424 \nL 85.685 110.67533 \nL 77.315 110.67533 \nz\n\" style=\"fill:#1f77b4;\"/>\n   </g>\n   <g id=\"patch_6\">\n    <path clip-path=\"url(#pa2cacb9e89)\" d=\"M 94.055 225.818424 \nL 102.425 225.818424 \nL 102.425 39.355354 \nL 94.055 39.355354 \nz\n\" style=\"fill:#1f77b4;\"/>\n   </g>\n   <g id=\"patch_7\">\n    <path clip-path=\"url(#pa2cacb9e89)\" d=\"M 110.795 225.818424 \nL 119.165 225.818424 \nL 119.165 185.432414 \nL 110.795 185.432414 \nz\n\" style=\"fill:#1f77b4;\"/>\n   </g>\n   <g id=\"patch_8\">\n    <path clip-path=\"url(#pa2cacb9e89)\" d=\"M 127.535 225.818424 \nL 135.905 225.818424 \nL 135.905 185.217595 \nL 127.535 185.217595 \nz\n\" style=\"fill:#1f77b4;\"/>\n   </g>\n   <g id=\"patch_9\">\n    <path clip-path=\"url(#pa2cacb9e89)\" d=\"M 144.275 225.818424 \nL 152.645 225.818424 \nL 152.645 209.062526 \nL 144.275 209.062526 \nz\n\" style=\"fill:#1f77b4;\"/>\n   </g>\n   <g id=\"patch_10\">\n    <path clip-path=\"url(#pa2cacb9e89)\" d=\"M 161.015 225.818424 \nL 169.385 225.818424 \nL 169.385 189.943617 \nL 161.015 189.943617 \nz\n\" style=\"fill:#1f77b4;\"/>\n   </g>\n   <g id=\"patch_11\">\n    <path clip-path=\"url(#pa2cacb9e89)\" d=\"M 177.755 225.818424 \nL 186.125 225.818424 \nL 186.125 218.084933 \nL 177.755 218.084933 \nz\n\" style=\"fill:#1f77b4;\"/>\n   </g>\n   <g id=\"patch_12\">\n    <path clip-path=\"url(#pa2cacb9e89)\" d=\"M 194.495 225.818424 \nL 202.865 225.818424 \nL 202.865 210.136622 \nL 194.495 210.136622 \nz\n\" style=\"fill:#1f77b4;\"/>\n   </g>\n   <g id=\"patch_13\">\n    <path clip-path=\"url(#pa2cacb9e89)\" d=\"M 211.235 225.818424 \nL 219.605 225.818424 \nL 219.605 221.951679 \nL 211.235 221.951679 \nz\n\" style=\"fill:#1f77b4;\"/>\n   </g>\n   <g id=\"patch_14\">\n    <path clip-path=\"url(#pa2cacb9e89)\" d=\"M 227.975 225.818424 \nL 236.345 225.818424 \nL 236.345 211.855176 \nL 227.975 211.855176 \nz\n\" style=\"fill:#1f77b4;\"/>\n   </g>\n   <g id=\"patch_15\">\n    <path clip-path=\"url(#pa2cacb9e89)\" d=\"M 244.715 225.818424 \nL 253.085 225.818424 \nL 253.085 221.092402 \nL 244.715 221.092402 \nz\n\" style=\"fill:#1f77b4;\"/>\n   </g>\n   <g id=\"patch_16\">\n    <path clip-path=\"url(#pa2cacb9e89)\" d=\"M 261.455 225.818424 \nL 269.825 225.818424 \nL 269.825 216.366379 \nL 261.455 216.366379 \nz\n\" style=\"fill:#1f77b4;\"/>\n   </g>\n   <g id=\"patch_17\">\n    <path clip-path=\"url(#pa2cacb9e89)\" d=\"M 278.195 225.818424 \nL 286.565 225.818424 \nL 286.565 222.381317 \nL 278.195 222.381317 \nz\n\" style=\"fill:#1f77b4;\"/>\n   </g>\n   <g id=\"patch_18\">\n    <path clip-path=\"url(#pa2cacb9e89)\" d=\"M 294.935 225.818424 \nL 303.305 225.818424 \nL 303.305 220.233125 \nL 294.935 220.233125 \nz\n\" style=\"fill:#1f77b4;\"/>\n   </g>\n   <g id=\"patch_19\">\n    <path clip-path=\"url(#pa2cacb9e89)\" d=\"M 311.675 225.818424 \nL 320.045 225.818424 \nL 320.045 224.529509 \nL 311.675 224.529509 \nz\n\" style=\"fill:#1f77b4;\"/>\n   </g>\n   <g id=\"patch_20\">\n    <path clip-path=\"url(#pa2cacb9e89)\" d=\"M 328.415 225.818424 \nL 336.785 225.818424 \nL 336.785 223.240594 \nL 328.415 223.240594 \nz\n\" style=\"fill:#1f77b4;\"/>\n   </g>\n   <g id=\"patch_21\">\n    <path clip-path=\"url(#pa2cacb9e89)\" d=\"M 345.155 225.818424 \nL 353.525 225.818424 \nL 353.525 224.959148 \nL 345.155 224.959148 \nz\n\" style=\"fill:#1f77b4;\"/>\n   </g>\n   <g id=\"patch_22\">\n    <path clip-path=\"url(#pa2cacb9e89)\" d=\"M 361.895 225.818424 \nL 370.265 225.818424 \nL 370.265 224.31469 \nL 361.895 224.31469 \nz\n\" style=\"fill:#1f77b4;\"/>\n   </g>\n   <g id=\"matplotlib.axis_1\">\n    <g id=\"xtick_1\">\n     <g id=\"line2d_1\">\n      <defs>\n       <path d=\"M 0 0 \nL 0 3.5 \n\" id=\"mab0816bc87\" style=\"stroke:#000000;stroke-width:0.8;\"/>\n      </defs>\n      <g>\n       <use style=\"stroke:#000000;stroke-width:0.8;\" x=\"48.02\" xlink:href=\"#mab0816bc87\" y=\"225.818424\"/>\n      </g>\n     </g>\n     <g id=\"text_1\">\n      <!-- 1 -->\n      <defs>\n       <path d=\"M 12.40625 8.296875 \nL 28.515625 8.296875 \nL 28.515625 63.921875 \nL 10.984375 60.40625 \nL 10.984375 69.390625 \nL 28.421875 72.90625 \nL 38.28125 72.90625 \nL 38.28125 8.296875 \nL 54.390625 8.296875 \nL 54.390625 0 \nL 12.40625 0 \nz\n\" id=\"DejaVuSans-49\"/>\n      </defs>\n      <g transform=\"translate(50.779375 239.180924)rotate(-90)scale(0.1 -0.1)\">\n       <use xlink:href=\"#DejaVuSans-49\"/>\n      </g>\n     </g>\n    </g>\n    <g id=\"xtick_2\">\n     <g id=\"line2d_2\">\n      <g>\n       <use style=\"stroke:#000000;stroke-width:0.8;\" x=\"64.76\" xlink:href=\"#mab0816bc87\" y=\"225.818424\"/>\n      </g>\n     </g>\n     <g id=\"text_2\">\n      <!-- 2 -->\n      <defs>\n       <path d=\"M 19.1875 8.296875 \nL 53.609375 8.296875 \nL 53.609375 0 \nL 7.328125 0 \nL 7.328125 8.296875 \nQ 12.9375 14.109375 22.625 23.890625 \nQ 32.328125 33.6875 34.8125 36.53125 \nQ 39.546875 41.84375 41.421875 45.53125 \nQ 43.3125 49.21875 43.3125 52.78125 \nQ 43.3125 58.59375 39.234375 62.25 \nQ 35.15625 65.921875 28.609375 65.921875 \nQ 23.96875 65.921875 18.8125 64.3125 \nQ 13.671875 62.703125 7.8125 59.421875 \nL 7.8125 69.390625 \nQ 13.765625 71.78125 18.9375 73 \nQ 24.125 74.21875 28.421875 74.21875 \nQ 39.75 74.21875 46.484375 68.546875 \nQ 53.21875 62.890625 53.21875 53.421875 \nQ 53.21875 48.921875 51.53125 44.890625 \nQ 49.859375 40.875 45.40625 35.40625 \nQ 44.1875 33.984375 37.640625 27.21875 \nQ 31.109375 20.453125 19.1875 8.296875 \nz\n\" id=\"DejaVuSans-50\"/>\n      </defs>\n      <g transform=\"translate(67.519375 239.180924)rotate(-90)scale(0.1 -0.1)\">\n       <use xlink:href=\"#DejaVuSans-50\"/>\n      </g>\n     </g>\n    </g>\n    <g id=\"xtick_3\">\n     <g id=\"line2d_3\">\n      <g>\n       <use style=\"stroke:#000000;stroke-width:0.8;\" x=\"81.5\" xlink:href=\"#mab0816bc87\" y=\"225.818424\"/>\n      </g>\n     </g>\n     <g id=\"text_3\">\n      <!-- 3 -->\n      <defs>\n       <path d=\"M 40.578125 39.3125 \nQ 47.65625 37.796875 51.625 33 \nQ 55.609375 28.21875 55.609375 21.1875 \nQ 55.609375 10.40625 48.1875 4.484375 \nQ 40.765625 -1.421875 27.09375 -1.421875 \nQ 22.515625 -1.421875 17.65625 -0.515625 \nQ 12.796875 0.390625 7.625 2.203125 \nL 7.625 11.71875 \nQ 11.71875 9.328125 16.59375 8.109375 \nQ 21.484375 6.890625 26.8125 6.890625 \nQ 36.078125 6.890625 40.9375 10.546875 \nQ 45.796875 14.203125 45.796875 21.1875 \nQ 45.796875 27.640625 41.28125 31.265625 \nQ 36.765625 34.90625 28.71875 34.90625 \nL 20.21875 34.90625 \nL 20.21875 43.015625 \nL 29.109375 43.015625 \nQ 36.375 43.015625 40.234375 45.921875 \nQ 44.09375 48.828125 44.09375 54.296875 \nQ 44.09375 59.90625 40.109375 62.90625 \nQ 36.140625 65.921875 28.71875 65.921875 \nQ 24.65625 65.921875 20.015625 65.03125 \nQ 15.375 64.15625 9.8125 62.3125 \nL 9.8125 71.09375 \nQ 15.4375 72.65625 20.34375 73.4375 \nQ 25.25 74.21875 29.59375 74.21875 \nQ 40.828125 74.21875 47.359375 69.109375 \nQ 53.90625 64.015625 53.90625 55.328125 \nQ 53.90625 49.265625 50.4375 45.09375 \nQ 46.96875 40.921875 40.578125 39.3125 \nz\n\" id=\"DejaVuSans-51\"/>\n      </defs>\n      <g transform=\"translate(84.259375 239.180924)rotate(-90)scale(0.1 -0.1)\">\n       <use xlink:href=\"#DejaVuSans-51\"/>\n      </g>\n     </g>\n    </g>\n    <g id=\"xtick_4\">\n     <g id=\"line2d_4\">\n      <g>\n       <use style=\"stroke:#000000;stroke-width:0.8;\" x=\"98.24\" xlink:href=\"#mab0816bc87\" y=\"225.818424\"/>\n      </g>\n     </g>\n     <g id=\"text_4\">\n      <!-- 4 -->\n      <defs>\n       <path d=\"M 37.796875 64.3125 \nL 12.890625 25.390625 \nL 37.796875 25.390625 \nz\nM 35.203125 72.90625 \nL 47.609375 72.90625 \nL 47.609375 25.390625 \nL 58.015625 25.390625 \nL 58.015625 17.1875 \nL 47.609375 17.1875 \nL 47.609375 0 \nL 37.796875 0 \nL 37.796875 17.1875 \nL 4.890625 17.1875 \nL 4.890625 26.703125 \nz\n\" id=\"DejaVuSans-52\"/>\n      </defs>\n      <g transform=\"translate(100.999375 239.180924)rotate(-90)scale(0.1 -0.1)\">\n       <use xlink:href=\"#DejaVuSans-52\"/>\n      </g>\n     </g>\n    </g>\n    <g id=\"xtick_5\">\n     <g id=\"line2d_5\">\n      <g>\n       <use style=\"stroke:#000000;stroke-width:0.8;\" x=\"114.98\" xlink:href=\"#mab0816bc87\" y=\"225.818424\"/>\n      </g>\n     </g>\n     <g id=\"text_5\">\n      <!-- 5 -->\n      <defs>\n       <path d=\"M 10.796875 72.90625 \nL 49.515625 72.90625 \nL 49.515625 64.59375 \nL 19.828125 64.59375 \nL 19.828125 46.734375 \nQ 21.96875 47.46875 24.109375 47.828125 \nQ 26.265625 48.1875 28.421875 48.1875 \nQ 40.625 48.1875 47.75 41.5 \nQ 54.890625 34.8125 54.890625 23.390625 \nQ 54.890625 11.625 47.5625 5.09375 \nQ 40.234375 -1.421875 26.90625 -1.421875 \nQ 22.3125 -1.421875 17.546875 -0.640625 \nQ 12.796875 0.140625 7.71875 1.703125 \nL 7.71875 11.625 \nQ 12.109375 9.234375 16.796875 8.0625 \nQ 21.484375 6.890625 26.703125 6.890625 \nQ 35.15625 6.890625 40.078125 11.328125 \nQ 45.015625 15.765625 45.015625 23.390625 \nQ 45.015625 31 40.078125 35.4375 \nQ 35.15625 39.890625 26.703125 39.890625 \nQ 22.75 39.890625 18.8125 39.015625 \nQ 14.890625 38.140625 10.796875 36.28125 \nz\n\" id=\"DejaVuSans-53\"/>\n      </defs>\n      <g transform=\"translate(117.739375 239.180924)rotate(-90)scale(0.1 -0.1)\">\n       <use xlink:href=\"#DejaVuSans-53\"/>\n      </g>\n     </g>\n    </g>\n    <g id=\"xtick_6\">\n     <g id=\"line2d_6\">\n      <g>\n       <use style=\"stroke:#000000;stroke-width:0.8;\" x=\"131.72\" xlink:href=\"#mab0816bc87\" y=\"225.818424\"/>\n      </g>\n     </g>\n     <g id=\"text_6\">\n      <!-- 6 -->\n      <defs>\n       <path d=\"M 33.015625 40.375 \nQ 26.375 40.375 22.484375 35.828125 \nQ 18.609375 31.296875 18.609375 23.390625 \nQ 18.609375 15.53125 22.484375 10.953125 \nQ 26.375 6.390625 33.015625 6.390625 \nQ 39.65625 6.390625 43.53125 10.953125 \nQ 47.40625 15.53125 47.40625 23.390625 \nQ 47.40625 31.296875 43.53125 35.828125 \nQ 39.65625 40.375 33.015625 40.375 \nz\nM 52.59375 71.296875 \nL 52.59375 62.3125 \nQ 48.875 64.0625 45.09375 64.984375 \nQ 41.3125 65.921875 37.59375 65.921875 \nQ 27.828125 65.921875 22.671875 59.328125 \nQ 17.53125 52.734375 16.796875 39.40625 \nQ 19.671875 43.65625 24.015625 45.921875 \nQ 28.375 48.1875 33.59375 48.1875 \nQ 44.578125 48.1875 50.953125 41.515625 \nQ 57.328125 34.859375 57.328125 23.390625 \nQ 57.328125 12.15625 50.6875 5.359375 \nQ 44.046875 -1.421875 33.015625 -1.421875 \nQ 20.359375 -1.421875 13.671875 8.265625 \nQ 6.984375 17.96875 6.984375 36.375 \nQ 6.984375 53.65625 15.1875 63.9375 \nQ 23.390625 74.21875 37.203125 74.21875 \nQ 40.921875 74.21875 44.703125 73.484375 \nQ 48.484375 72.75 52.59375 71.296875 \nz\n\" id=\"DejaVuSans-54\"/>\n      </defs>\n      <g transform=\"translate(134.479375 239.180924)rotate(-90)scale(0.1 -0.1)\">\n       <use xlink:href=\"#DejaVuSans-54\"/>\n      </g>\n     </g>\n    </g>\n    <g id=\"xtick_7\">\n     <g id=\"line2d_7\">\n      <g>\n       <use style=\"stroke:#000000;stroke-width:0.8;\" x=\"148.46\" xlink:href=\"#mab0816bc87\" y=\"225.818424\"/>\n      </g>\n     </g>\n     <g id=\"text_7\">\n      <!-- 7 -->\n      <defs>\n       <path d=\"M 8.203125 72.90625 \nL 55.078125 72.90625 \nL 55.078125 68.703125 \nL 28.609375 0 \nL 18.3125 0 \nL 43.21875 64.59375 \nL 8.203125 64.59375 \nz\n\" id=\"DejaVuSans-55\"/>\n      </defs>\n      <g transform=\"translate(151.219375 239.180924)rotate(-90)scale(0.1 -0.1)\">\n       <use xlink:href=\"#DejaVuSans-55\"/>\n      </g>\n     </g>\n    </g>\n    <g id=\"xtick_8\">\n     <g id=\"line2d_8\">\n      <g>\n       <use style=\"stroke:#000000;stroke-width:0.8;\" x=\"165.2\" xlink:href=\"#mab0816bc87\" y=\"225.818424\"/>\n      </g>\n     </g>\n     <g id=\"text_8\">\n      <!-- 8 -->\n      <defs>\n       <path d=\"M 31.78125 34.625 \nQ 24.75 34.625 20.71875 30.859375 \nQ 16.703125 27.09375 16.703125 20.515625 \nQ 16.703125 13.921875 20.71875 10.15625 \nQ 24.75 6.390625 31.78125 6.390625 \nQ 38.8125 6.390625 42.859375 10.171875 \nQ 46.921875 13.96875 46.921875 20.515625 \nQ 46.921875 27.09375 42.890625 30.859375 \nQ 38.875 34.625 31.78125 34.625 \nz\nM 21.921875 38.8125 \nQ 15.578125 40.375 12.03125 44.71875 \nQ 8.5 49.078125 8.5 55.328125 \nQ 8.5 64.0625 14.71875 69.140625 \nQ 20.953125 74.21875 31.78125 74.21875 \nQ 42.671875 74.21875 48.875 69.140625 \nQ 55.078125 64.0625 55.078125 55.328125 \nQ 55.078125 49.078125 51.53125 44.71875 \nQ 48 40.375 41.703125 38.8125 \nQ 48.828125 37.15625 52.796875 32.3125 \nQ 56.78125 27.484375 56.78125 20.515625 \nQ 56.78125 9.90625 50.3125 4.234375 \nQ 43.84375 -1.421875 31.78125 -1.421875 \nQ 19.734375 -1.421875 13.25 4.234375 \nQ 6.78125 9.90625 6.78125 20.515625 \nQ 6.78125 27.484375 10.78125 32.3125 \nQ 14.796875 37.15625 21.921875 38.8125 \nz\nM 18.3125 54.390625 \nQ 18.3125 48.734375 21.84375 45.5625 \nQ 25.390625 42.390625 31.78125 42.390625 \nQ 38.140625 42.390625 41.71875 45.5625 \nQ 45.3125 48.734375 45.3125 54.390625 \nQ 45.3125 60.0625 41.71875 63.234375 \nQ 38.140625 66.40625 31.78125 66.40625 \nQ 25.390625 66.40625 21.84375 63.234375 \nQ 18.3125 60.0625 18.3125 54.390625 \nz\n\" id=\"DejaVuSans-56\"/>\n      </defs>\n      <g transform=\"translate(167.959375 239.180924)rotate(-90)scale(0.1 -0.1)\">\n       <use xlink:href=\"#DejaVuSans-56\"/>\n      </g>\n     </g>\n    </g>\n    <g id=\"xtick_9\">\n     <g id=\"line2d_9\">\n      <g>\n       <use style=\"stroke:#000000;stroke-width:0.8;\" x=\"181.94\" xlink:href=\"#mab0816bc87\" y=\"225.818424\"/>\n      </g>\n     </g>\n     <g id=\"text_9\">\n      <!-- 9 -->\n      <defs>\n       <path d=\"M 10.984375 1.515625 \nL 10.984375 10.5 \nQ 14.703125 8.734375 18.5 7.8125 \nQ 22.3125 6.890625 25.984375 6.890625 \nQ 35.75 6.890625 40.890625 13.453125 \nQ 46.046875 20.015625 46.78125 33.40625 \nQ 43.953125 29.203125 39.59375 26.953125 \nQ 35.25 24.703125 29.984375 24.703125 \nQ 19.046875 24.703125 12.671875 31.3125 \nQ 6.296875 37.9375 6.296875 49.421875 \nQ 6.296875 60.640625 12.9375 67.421875 \nQ 19.578125 74.21875 30.609375 74.21875 \nQ 43.265625 74.21875 49.921875 64.515625 \nQ 56.59375 54.828125 56.59375 36.375 \nQ 56.59375 19.140625 48.40625 8.859375 \nQ 40.234375 -1.421875 26.421875 -1.421875 \nQ 22.703125 -1.421875 18.890625 -0.6875 \nQ 15.09375 0.046875 10.984375 1.515625 \nz\nM 30.609375 32.421875 \nQ 37.25 32.421875 41.125 36.953125 \nQ 45.015625 41.5 45.015625 49.421875 \nQ 45.015625 57.28125 41.125 61.84375 \nQ 37.25 66.40625 30.609375 66.40625 \nQ 23.96875 66.40625 20.09375 61.84375 \nQ 16.21875 57.28125 16.21875 49.421875 \nQ 16.21875 41.5 20.09375 36.953125 \nQ 23.96875 32.421875 30.609375 32.421875 \nz\n\" id=\"DejaVuSans-57\"/>\n      </defs>\n      <g transform=\"translate(184.699375 239.180924)rotate(-90)scale(0.1 -0.1)\">\n       <use xlink:href=\"#DejaVuSans-57\"/>\n      </g>\n     </g>\n    </g>\n    <g id=\"xtick_10\">\n     <g id=\"line2d_10\">\n      <g>\n       <use style=\"stroke:#000000;stroke-width:0.8;\" x=\"198.68\" xlink:href=\"#mab0816bc87\" y=\"225.818424\"/>\n      </g>\n     </g>\n     <g id=\"text_10\">\n      <!-- 10 -->\n      <defs>\n       <path d=\"M 31.78125 66.40625 \nQ 24.171875 66.40625 20.328125 58.90625 \nQ 16.5 51.421875 16.5 36.375 \nQ 16.5 21.390625 20.328125 13.890625 \nQ 24.171875 6.390625 31.78125 6.390625 \nQ 39.453125 6.390625 43.28125 13.890625 \nQ 47.125 21.390625 47.125 36.375 \nQ 47.125 51.421875 43.28125 58.90625 \nQ 39.453125 66.40625 31.78125 66.40625 \nz\nM 31.78125 74.21875 \nQ 44.046875 74.21875 50.515625 64.515625 \nQ 56.984375 54.828125 56.984375 36.375 \nQ 56.984375 17.96875 50.515625 8.265625 \nQ 44.046875 -1.421875 31.78125 -1.421875 \nQ 19.53125 -1.421875 13.0625 8.265625 \nQ 6.59375 17.96875 6.59375 36.375 \nQ 6.59375 54.828125 13.0625 64.515625 \nQ 19.53125 74.21875 31.78125 74.21875 \nz\n\" id=\"DejaVuSans-48\"/>\n      </defs>\n      <g transform=\"translate(201.439375 245.543424)rotate(-90)scale(0.1 -0.1)\">\n       <use xlink:href=\"#DejaVuSans-49\"/>\n       <use x=\"63.623047\" xlink:href=\"#DejaVuSans-48\"/>\n      </g>\n     </g>\n    </g>\n    <g id=\"xtick_11\">\n     <g id=\"line2d_11\">\n      <g>\n       <use style=\"stroke:#000000;stroke-width:0.8;\" x=\"215.42\" xlink:href=\"#mab0816bc87\" y=\"225.818424\"/>\n      </g>\n     </g>\n     <g id=\"text_11\">\n      <!-- 11 -->\n      <g transform=\"translate(218.179375 245.543424)rotate(-90)scale(0.1 -0.1)\">\n       <use xlink:href=\"#DejaVuSans-49\"/>\n       <use x=\"63.623047\" xlink:href=\"#DejaVuSans-49\"/>\n      </g>\n     </g>\n    </g>\n    <g id=\"xtick_12\">\n     <g id=\"line2d_12\">\n      <g>\n       <use style=\"stroke:#000000;stroke-width:0.8;\" x=\"232.16\" xlink:href=\"#mab0816bc87\" y=\"225.818424\"/>\n      </g>\n     </g>\n     <g id=\"text_12\">\n      <!-- 12 -->\n      <g transform=\"translate(234.919375 245.543424)rotate(-90)scale(0.1 -0.1)\">\n       <use xlink:href=\"#DejaVuSans-49\"/>\n       <use x=\"63.623047\" xlink:href=\"#DejaVuSans-50\"/>\n      </g>\n     </g>\n    </g>\n    <g id=\"xtick_13\">\n     <g id=\"line2d_13\">\n      <g>\n       <use style=\"stroke:#000000;stroke-width:0.8;\" x=\"248.9\" xlink:href=\"#mab0816bc87\" y=\"225.818424\"/>\n      </g>\n     </g>\n     <g id=\"text_13\">\n      <!-- 13 -->\n      <g transform=\"translate(251.659375 245.543424)rotate(-90)scale(0.1 -0.1)\">\n       <use xlink:href=\"#DejaVuSans-49\"/>\n       <use x=\"63.623047\" xlink:href=\"#DejaVuSans-51\"/>\n      </g>\n     </g>\n    </g>\n    <g id=\"xtick_14\">\n     <g id=\"line2d_14\">\n      <g>\n       <use style=\"stroke:#000000;stroke-width:0.8;\" x=\"265.64\" xlink:href=\"#mab0816bc87\" y=\"225.818424\"/>\n      </g>\n     </g>\n     <g id=\"text_14\">\n      <!-- 14 -->\n      <g transform=\"translate(268.399375 245.543424)rotate(-90)scale(0.1 -0.1)\">\n       <use xlink:href=\"#DejaVuSans-49\"/>\n       <use x=\"63.623047\" xlink:href=\"#DejaVuSans-52\"/>\n      </g>\n     </g>\n    </g>\n    <g id=\"xtick_15\">\n     <g id=\"line2d_15\">\n      <g>\n       <use style=\"stroke:#000000;stroke-width:0.8;\" x=\"282.38\" xlink:href=\"#mab0816bc87\" y=\"225.818424\"/>\n      </g>\n     </g>\n     <g id=\"text_15\">\n      <!-- 15 -->\n      <g transform=\"translate(285.139375 245.543424)rotate(-90)scale(0.1 -0.1)\">\n       <use xlink:href=\"#DejaVuSans-49\"/>\n       <use x=\"63.623047\" xlink:href=\"#DejaVuSans-53\"/>\n      </g>\n     </g>\n    </g>\n    <g id=\"xtick_16\">\n     <g id=\"line2d_16\">\n      <g>\n       <use style=\"stroke:#000000;stroke-width:0.8;\" x=\"299.12\" xlink:href=\"#mab0816bc87\" y=\"225.818424\"/>\n      </g>\n     </g>\n     <g id=\"text_16\">\n      <!-- 16 -->\n      <g transform=\"translate(301.879375 245.543424)rotate(-90)scale(0.1 -0.1)\">\n       <use xlink:href=\"#DejaVuSans-49\"/>\n       <use x=\"63.623047\" xlink:href=\"#DejaVuSans-54\"/>\n      </g>\n     </g>\n    </g>\n    <g id=\"xtick_17\">\n     <g id=\"line2d_17\">\n      <g>\n       <use style=\"stroke:#000000;stroke-width:0.8;\" x=\"315.86\" xlink:href=\"#mab0816bc87\" y=\"225.818424\"/>\n      </g>\n     </g>\n     <g id=\"text_17\">\n      <!-- 17 -->\n      <g transform=\"translate(318.619375 245.543424)rotate(-90)scale(0.1 -0.1)\">\n       <use xlink:href=\"#DejaVuSans-49\"/>\n       <use x=\"63.623047\" xlink:href=\"#DejaVuSans-55\"/>\n      </g>\n     </g>\n    </g>\n    <g id=\"xtick_18\">\n     <g id=\"line2d_18\">\n      <g>\n       <use style=\"stroke:#000000;stroke-width:0.8;\" x=\"332.6\" xlink:href=\"#mab0816bc87\" y=\"225.818424\"/>\n      </g>\n     </g>\n     <g id=\"text_18\">\n      <!-- 18 -->\n      <g transform=\"translate(335.359375 245.543424)rotate(-90)scale(0.1 -0.1)\">\n       <use xlink:href=\"#DejaVuSans-49\"/>\n       <use x=\"63.623047\" xlink:href=\"#DejaVuSans-56\"/>\n      </g>\n     </g>\n    </g>\n    <g id=\"xtick_19\">\n     <g id=\"line2d_19\">\n      <g>\n       <use style=\"stroke:#000000;stroke-width:0.8;\" x=\"349.34\" xlink:href=\"#mab0816bc87\" y=\"225.818424\"/>\n      </g>\n     </g>\n     <g id=\"text_19\">\n      <!-- 19 -->\n      <g transform=\"translate(352.099375 245.543424)rotate(-90)scale(0.1 -0.1)\">\n       <use xlink:href=\"#DejaVuSans-49\"/>\n       <use x=\"63.623047\" xlink:href=\"#DejaVuSans-57\"/>\n      </g>\n     </g>\n    </g>\n    <g id=\"xtick_20\">\n     <g id=\"line2d_20\">\n      <g>\n       <use style=\"stroke:#000000;stroke-width:0.8;\" x=\"366.08\" xlink:href=\"#mab0816bc87\" y=\"225.818424\"/>\n      </g>\n     </g>\n     <g id=\"text_20\">\n      <!-- 20 -->\n      <g transform=\"translate(368.839375 245.543424)rotate(-90)scale(0.1 -0.1)\">\n       <use xlink:href=\"#DejaVuSans-50\"/>\n       <use x=\"63.623047\" xlink:href=\"#DejaVuSans-48\"/>\n      </g>\n     </g>\n    </g>\n    <g id=\"text_21\">\n     <!-- level_0 -->\n     <defs>\n      <path d=\"M 9.421875 75.984375 \nL 18.40625 75.984375 \nL 18.40625 0 \nL 9.421875 0 \nz\n\" id=\"DejaVuSans-108\"/>\n      <path d=\"M 56.203125 29.59375 \nL 56.203125 25.203125 \nL 14.890625 25.203125 \nQ 15.484375 15.921875 20.484375 11.0625 \nQ 25.484375 6.203125 34.421875 6.203125 \nQ 39.59375 6.203125 44.453125 7.46875 \nQ 49.3125 8.734375 54.109375 11.28125 \nL 54.109375 2.78125 \nQ 49.265625 0.734375 44.1875 -0.34375 \nQ 39.109375 -1.421875 33.890625 -1.421875 \nQ 20.796875 -1.421875 13.15625 6.1875 \nQ 5.515625 13.8125 5.515625 26.8125 \nQ 5.515625 40.234375 12.765625 48.109375 \nQ 20.015625 56 32.328125 56 \nQ 43.359375 56 49.78125 48.890625 \nQ 56.203125 41.796875 56.203125 29.59375 \nz\nM 47.21875 32.234375 \nQ 47.125 39.59375 43.09375 43.984375 \nQ 39.0625 48.390625 32.421875 48.390625 \nQ 24.90625 48.390625 20.390625 44.140625 \nQ 15.875 39.890625 15.1875 32.171875 \nz\n\" id=\"DejaVuSans-101\"/>\n      <path d=\"M 2.984375 54.6875 \nL 12.5 54.6875 \nL 29.59375 8.796875 \nL 46.6875 54.6875 \nL 56.203125 54.6875 \nL 35.6875 0 \nL 23.484375 0 \nz\n\" id=\"DejaVuSans-118\"/>\n      <path d=\"M 50.984375 -16.609375 \nL 50.984375 -23.578125 \nL -0.984375 -23.578125 \nL -0.984375 -16.609375 \nz\n\" id=\"DejaVuSans-95\"/>\n     </defs>\n     <g transform=\"translate(189.478125 257.141862)scale(0.1 -0.1)\">\n      <use xlink:href=\"#DejaVuSans-108\"/>\n      <use x=\"27.783203\" xlink:href=\"#DejaVuSans-101\"/>\n      <use x=\"89.306641\" xlink:href=\"#DejaVuSans-118\"/>\n      <use x=\"148.486328\" xlink:href=\"#DejaVuSans-101\"/>\n      <use x=\"210.009766\" xlink:href=\"#DejaVuSans-108\"/>\n      <use x=\"237.792969\" xlink:href=\"#DejaVuSans-95\"/>\n      <use x=\"287.792969\" xlink:href=\"#DejaVuSans-48\"/>\n     </g>\n    </g>\n   </g>\n   <g id=\"matplotlib.axis_2\">\n    <g id=\"ytick_1\">\n     <g id=\"line2d_21\">\n      <defs>\n       <path d=\"M 0 0 \nL -3.5 0 \n\" id=\"md71aedefe4\" style=\"stroke:#000000;stroke-width:0.8;\"/>\n      </defs>\n      <g>\n       <use style=\"stroke:#000000;stroke-width:0.8;\" x=\"39.65\" xlink:href=\"#md71aedefe4\" y=\"225.818424\"/>\n      </g>\n     </g>\n     <g id=\"text_22\">\n      <!-- 0 -->\n      <g transform=\"translate(26.2875 229.617643)scale(0.1 -0.1)\">\n       <use xlink:href=\"#DejaVuSans-48\"/>\n      </g>\n     </g>\n    </g>\n    <g id=\"ytick_2\">\n     <g id=\"line2d_22\">\n      <g>\n       <use style=\"stroke:#000000;stroke-width:0.8;\" x=\"39.65\" xlink:href=\"#md71aedefe4\" y=\"182.854583\"/>\n      </g>\n     </g>\n     <g id=\"text_23\">\n      <!-- 200 -->\n      <g transform=\"translate(13.5625 186.653802)scale(0.1 -0.1)\">\n       <use xlink:href=\"#DejaVuSans-50\"/>\n       <use x=\"63.623047\" xlink:href=\"#DejaVuSans-48\"/>\n       <use x=\"127.246094\" xlink:href=\"#DejaVuSans-48\"/>\n      </g>\n     </g>\n    </g>\n    <g id=\"ytick_3\">\n     <g id=\"line2d_23\">\n      <g>\n       <use style=\"stroke:#000000;stroke-width:0.8;\" x=\"39.65\" xlink:href=\"#md71aedefe4\" y=\"139.890742\"/>\n      </g>\n     </g>\n     <g id=\"text_24\">\n      <!-- 400 -->\n      <g transform=\"translate(13.5625 143.689961)scale(0.1 -0.1)\">\n       <use xlink:href=\"#DejaVuSans-52\"/>\n       <use x=\"63.623047\" xlink:href=\"#DejaVuSans-48\"/>\n       <use x=\"127.246094\" xlink:href=\"#DejaVuSans-48\"/>\n      </g>\n     </g>\n    </g>\n    <g id=\"ytick_4\">\n     <g id=\"line2d_24\">\n      <g>\n       <use style=\"stroke:#000000;stroke-width:0.8;\" x=\"39.65\" xlink:href=\"#md71aedefe4\" y=\"96.926901\"/>\n      </g>\n     </g>\n     <g id=\"text_25\">\n      <!-- 600 -->\n      <g transform=\"translate(13.5625 100.72612)scale(0.1 -0.1)\">\n       <use xlink:href=\"#DejaVuSans-54\"/>\n       <use x=\"63.623047\" xlink:href=\"#DejaVuSans-48\"/>\n       <use x=\"127.246094\" xlink:href=\"#DejaVuSans-48\"/>\n      </g>\n     </g>\n    </g>\n    <g id=\"ytick_5\">\n     <g id=\"line2d_25\">\n      <g>\n       <use style=\"stroke:#000000;stroke-width:0.8;\" x=\"39.65\" xlink:href=\"#md71aedefe4\" y=\"53.96306\"/>\n      </g>\n     </g>\n     <g id=\"text_26\">\n      <!-- 800 -->\n      <g transform=\"translate(13.5625 57.762279)scale(0.1 -0.1)\">\n       <use xlink:href=\"#DejaVuSans-56\"/>\n       <use x=\"63.623047\" xlink:href=\"#DejaVuSans-48\"/>\n       <use x=\"127.246094\" xlink:href=\"#DejaVuSans-48\"/>\n      </g>\n     </g>\n    </g>\n    <g id=\"ytick_6\">\n     <g id=\"line2d_26\">\n      <g>\n       <use style=\"stroke:#000000;stroke-width:0.8;\" x=\"39.65\" xlink:href=\"#md71aedefe4\" y=\"10.999219\"/>\n      </g>\n     </g>\n     <g id=\"text_27\">\n      <!-- 1000 -->\n      <g transform=\"translate(7.2 14.798438)scale(0.1 -0.1)\">\n       <use xlink:href=\"#DejaVuSans-49\"/>\n       <use x=\"63.623047\" xlink:href=\"#DejaVuSans-48\"/>\n       <use x=\"127.246094\" xlink:href=\"#DejaVuSans-48\"/>\n       <use x=\"190.869141\" xlink:href=\"#DejaVuSans-48\"/>\n      </g>\n     </g>\n    </g>\n   </g>\n   <g id=\"patch_23\">\n    <path d=\"M 39.65 225.818424 \nL 39.65 8.378424 \n\" style=\"fill:none;stroke:#000000;stroke-linecap:square;stroke-linejoin:miter;stroke-width:0.8;\"/>\n   </g>\n   <g id=\"patch_24\">\n    <path d=\"M 374.45 225.818424 \nL 374.45 8.378424 \n\" style=\"fill:none;stroke:#000000;stroke-linecap:square;stroke-linejoin:miter;stroke-width:0.8;\"/>\n   </g>\n   <g id=\"patch_25\">\n    <path d=\"M 39.65 225.818424 \nL 374.45 225.818424 \n\" style=\"fill:none;stroke:#000000;stroke-linecap:square;stroke-linejoin:miter;stroke-width:0.8;\"/>\n   </g>\n   <g id=\"patch_26\">\n    <path d=\"M 39.65 8.378424 \nL 374.45 8.378424 \n\" style=\"fill:none;stroke:#000000;stroke-linecap:square;stroke-linejoin:miter;stroke-width:0.8;\"/>\n   </g>\n   <g id=\"legend_1\">\n    <g id=\"patch_27\">\n     <path d=\"M 308.089063 31.056549 \nL 367.45 31.056549 \nQ 369.45 31.056549 369.45 29.056549 \nL 369.45 15.378424 \nQ 369.45 13.378424 367.45 13.378424 \nL 308.089063 13.378424 \nQ 306.089063 13.378424 306.089063 15.378424 \nL 306.089063 29.056549 \nQ 306.089063 31.056549 308.089063 31.056549 \nz\n\" style=\"fill:#ffffff;opacity:0.8;stroke:#cccccc;stroke-linejoin:miter;\"/>\n    </g>\n    <g id=\"patch_28\">\n     <path d=\"M 310.089063 24.976862 \nL 330.089063 24.976862 \nL 330.089063 17.976862 \nL 310.089063 17.976862 \nz\n\" style=\"fill:#1f77b4;\"/>\n    </g>\n    <g id=\"text_28\">\n     <!-- index -->\n     <defs>\n      <path d=\"M 9.421875 54.6875 \nL 18.40625 54.6875 \nL 18.40625 0 \nL 9.421875 0 \nz\nM 9.421875 75.984375 \nL 18.40625 75.984375 \nL 18.40625 64.59375 \nL 9.421875 64.59375 \nz\n\" id=\"DejaVuSans-105\"/>\n      <path d=\"M 54.890625 33.015625 \nL 54.890625 0 \nL 45.90625 0 \nL 45.90625 32.71875 \nQ 45.90625 40.484375 42.875 44.328125 \nQ 39.84375 48.1875 33.796875 48.1875 \nQ 26.515625 48.1875 22.3125 43.546875 \nQ 18.109375 38.921875 18.109375 30.90625 \nL 18.109375 0 \nL 9.078125 0 \nL 9.078125 54.6875 \nL 18.109375 54.6875 \nL 18.109375 46.1875 \nQ 21.34375 51.125 25.703125 53.5625 \nQ 30.078125 56 35.796875 56 \nQ 45.21875 56 50.046875 50.171875 \nQ 54.890625 44.34375 54.890625 33.015625 \nz\n\" id=\"DejaVuSans-110\"/>\n      <path d=\"M 45.40625 46.390625 \nL 45.40625 75.984375 \nL 54.390625 75.984375 \nL 54.390625 0 \nL 45.40625 0 \nL 45.40625 8.203125 \nQ 42.578125 3.328125 38.25 0.953125 \nQ 33.9375 -1.421875 27.875 -1.421875 \nQ 17.96875 -1.421875 11.734375 6.484375 \nQ 5.515625 14.40625 5.515625 27.296875 \nQ 5.515625 40.1875 11.734375 48.09375 \nQ 17.96875 56 27.875 56 \nQ 33.9375 56 38.25 53.625 \nQ 42.578125 51.265625 45.40625 46.390625 \nz\nM 14.796875 27.296875 \nQ 14.796875 17.390625 18.875 11.75 \nQ 22.953125 6.109375 30.078125 6.109375 \nQ 37.203125 6.109375 41.296875 11.75 \nQ 45.40625 17.390625 45.40625 27.296875 \nQ 45.40625 37.203125 41.296875 42.84375 \nQ 37.203125 48.484375 30.078125 48.484375 \nQ 22.953125 48.484375 18.875 42.84375 \nQ 14.796875 37.203125 14.796875 27.296875 \nz\n\" id=\"DejaVuSans-100\"/>\n      <path d=\"M 54.890625 54.6875 \nL 35.109375 28.078125 \nL 55.90625 0 \nL 45.3125 0 \nL 29.390625 21.484375 \nL 13.484375 0 \nL 2.875 0 \nL 24.125 28.609375 \nL 4.6875 54.6875 \nL 15.28125 54.6875 \nL 29.78125 35.203125 \nL 44.28125 54.6875 \nz\n\" id=\"DejaVuSans-120\"/>\n     </defs>\n     <g transform=\"translate(338.089063 24.976862)scale(0.1 -0.1)\">\n      <use xlink:href=\"#DejaVuSans-105\"/>\n      <use x=\"27.783203\" xlink:href=\"#DejaVuSans-110\"/>\n      <use x=\"91.162109\" xlink:href=\"#DejaVuSans-100\"/>\n      <use x=\"154.638672\" xlink:href=\"#DejaVuSans-101\"/>\n      <use x=\"214.412109\" xlink:href=\"#DejaVuSans-120\"/>\n     </g>\n    </g>\n   </g>\n  </g>\n </g>\n <defs>\n  <clipPath id=\"pa2cacb9e89\">\n   <rect height=\"217.44\" width=\"334.8\" x=\"39.65\" y=\"8.378424\"/>\n  </clipPath>\n </defs>\n</svg>\n",
      "image/png": "[encoded data removed]"
     },
     "metadata": {
      "needs_background": "light"
     }
    }
   ],
   "source": [
    "group_1['index'].value_counts().reset_index().sort_values(by='level_0').head(20).set_index('level_0').plot(kind=\"bar\", )"
   ]
  },
  {
   "cell_type": "code",
   "execution_count": null,
   "metadata": {},
   "outputs": [],
   "source": [
    "group_1 = df_recur_clean.groupby(['person_id']).count()[['index']]"
   ]
  },
  {
   "cell_type": "code",
   "execution_count": 128,
   "metadata": {},
   "outputs": [],
   "source": [
    "group_1.reset_index(inplace=True)"
   ]
  },
  {
   "cell_type": "code",
   "execution_count": 133,
   "metadata": {},
   "outputs": [],
   "source": [
    "data_final = df_recur_clean.merge(group_1, on= 'person_id')"
   ]
  },
  {
   "cell_type": "code",
   "execution_count": 134,
   "metadata": {},
   "outputs": [
    {
     "output_type": "execute_result",
     "data": {
      "text/plain": [
       "   index_x  lead_idd  person_id  organization_idd  event_id  \\\n",
       "0     1369     33963      33771                18    827957   \n",
       "1     1370     33963      33771                18    826679   \n",
       "2     1371     33963      33771                18    836941   \n",
       "3     1372     33963      33771                18    830093   \n",
       "4     1373     33963      33771                18    839621   \n",
       "\n",
       "                                                data  \\\n",
       "0  {\"lead_id\":33963,\"campaign_id\":101,\"form_id\":4...   \n",
       "1  {\"lead_id\":33963,\"campaign_id\":101,\"form_id\":4...   \n",
       "2  {\"lead_id\":33963,\"campaign_id\":101,\"form_id\":4...   \n",
       "3  {\"lead_id\":33963,\"campaign_id\":101,\"form_id\":4...   \n",
       "4  {\"lead_id\":33963,\"campaign_id\":101,\"form_id\":4...   \n",
       "\n",
       "                  description     id  is_subscription   amount  ...  \\\n",
       "0  DONATIONFAILED_WEBHOOK: 51  70711             True  50000.0  ...   \n",
       "1  DONATIONFAILED_WEBHOOK: 51  70711             True  50000.0  ...   \n",
       "2  DONATIONFAILED_WEBHOOK: 51  70711             True  50000.0  ...   \n",
       "3  DONATIONFAILED_WEBHOOK: 51  70711             True  50000.0  ...   \n",
       "4  DONATIONFAILED_WEBHOOK: 51  70711             True  50000.0  ...   \n",
       "\n",
       "   metadata.sessionCountryName  metadata.sessionIsp metadata.userAgentName  \\\n",
       "0                          NaN                  NaN                    NaN   \n",
       "1                          NaN                  NaN                    NaN   \n",
       "2                          NaN                  NaN                    NaN   \n",
       "3                          NaN                  NaN                    NaN   \n",
       "4                          NaN                  NaN                    NaN   \n",
       "\n",
       "   metadata.userWindowResolution  metadata.gateway.name metadata.amount  \\\n",
       "0                            NaN                    NaN             NaN   \n",
       "1                            NaN                    NaN             NaN   \n",
       "2                            NaN                    NaN             NaN   \n",
       "3                            NaN                    NaN             NaN   \n",
       "4                            NaN                    NaN             NaN   \n",
       "\n",
       "  metadata.is_subscription metadata.sessionAdminSubDiv2  operating_system  \\\n",
       "0                      NaN                          NaN        Windows NT   \n",
       "1                      NaN                          NaN        Windows NT   \n",
       "2                      NaN                          NaN        Windows NT   \n",
       "3                      NaN                          NaN        Windows NT   \n",
       "4                      NaN                          NaN        Windows NT   \n",
       "\n",
       "   index_y  \n",
       "0        7  \n",
       "1        7  \n",
       "2        7  \n",
       "3        7  \n",
       "4        7  \n",
       "\n",
       "[5 rows x 73 columns]"
      ],
      "text/html": "<div>\n<style scoped>\n    .dataframe tbody tr th:only-of-type {\n        vertical-align: middle;\n    }\n\n    .dataframe tbody tr th {\n        vertical-align: top;\n    }\n\n    .dataframe thead th {\n        text-align: right;\n    }\n</style>\n<table border=\"1\" class=\"dataframe\">\n  <thead>\n    <tr style=\"text-align: right;\">\n      <th></th>\n      <th>index_x</th>\n      <th>lead_idd</th>\n      <th>person_id</th>\n      <th>organization_idd</th>\n      <th>event_id</th>\n      <th>data</th>\n      <th>description</th>\n      <th>id</th>\n      <th>is_subscription</th>\n      <th>amount</th>\n      <th>...</th>\n      <th>metadata.sessionCountryName</th>\n      <th>metadata.sessionIsp</th>\n      <th>metadata.userAgentName</th>\n      <th>metadata.userWindowResolution</th>\n      <th>metadata.gateway.name</th>\n      <th>metadata.amount</th>\n      <th>metadata.is_subscription</th>\n      <th>metadata.sessionAdminSubDiv2</th>\n      <th>operating_system</th>\n      <th>index_y</th>\n    </tr>\n  </thead>\n  <tbody>\n    <tr>\n      <th>0</th>\n      <td>1369</td>\n      <td>33963</td>\n      <td>33771</td>\n      <td>18</td>\n      <td>827957</td>\n      <td>{\"lead_id\":33963,\"campaign_id\":101,\"form_id\":4...</td>\n      <td>DONATIONFAILED_WEBHOOK: 51</td>\n      <td>70711</td>\n      <td>True</td>\n      <td>50000.0</td>\n      <td>...</td>\n      <td>NaN</td>\n      <td>NaN</td>\n      <td>NaN</td>\n      <td>NaN</td>\n      <td>NaN</td>\n      <td>NaN</td>\n      <td>NaN</td>\n      <td>NaN</td>\n      <td>Windows NT</td>\n      <td>7</td>\n    </tr>\n    <tr>\n      <th>1</th>\n      <td>1370</td>\n      <td>33963</td>\n      <td>33771</td>\n      <td>18</td>\n      <td>826679</td>\n      <td>{\"lead_id\":33963,\"campaign_id\":101,\"form_id\":4...</td>\n      <td>DONATIONFAILED_WEBHOOK: 51</td>\n      <td>70711</td>\n      <td>True</td>\n      <td>50000.0</td>\n      <td>...</td>\n      <td>NaN</td>\n      <td>NaN</td>\n      <td>NaN</td>\n      <td>NaN</td>\n      <td>NaN</td>\n      <td>NaN</td>\n      <td>NaN</td>\n      <td>NaN</td>\n      <td>Windows NT</td>\n      <td>7</td>\n    </tr>\n    <tr>\n      <th>2</th>\n      <td>1371</td>\n      <td>33963</td>\n      <td>33771</td>\n      <td>18</td>\n      <td>836941</td>\n      <td>{\"lead_id\":33963,\"campaign_id\":101,\"form_id\":4...</td>\n      <td>DONATIONFAILED_WEBHOOK: 51</td>\n      <td>70711</td>\n      <td>True</td>\n      <td>50000.0</td>\n      <td>...</td>\n      <td>NaN</td>\n      <td>NaN</td>\n      <td>NaN</td>\n      <td>NaN</td>\n      <td>NaN</td>\n      <td>NaN</td>\n      <td>NaN</td>\n      <td>NaN</td>\n      <td>Windows NT</td>\n      <td>7</td>\n    </tr>\n    <tr>\n      <th>3</th>\n      <td>1372</td>\n      <td>33963</td>\n      <td>33771</td>\n      <td>18</td>\n      <td>830093</td>\n      <td>{\"lead_id\":33963,\"campaign_id\":101,\"form_id\":4...</td>\n      <td>DONATIONFAILED_WEBHOOK: 51</td>\n      <td>70711</td>\n      <td>True</td>\n      <td>50000.0</td>\n      <td>...</td>\n      <td>NaN</td>\n      <td>NaN</td>\n      <td>NaN</td>\n      <td>NaN</td>\n      <td>NaN</td>\n      <td>NaN</td>\n      <td>NaN</td>\n      <td>NaN</td>\n      <td>Windows NT</td>\n      <td>7</td>\n    </tr>\n    <tr>\n      <th>4</th>\n      <td>1373</td>\n      <td>33963</td>\n      <td>33771</td>\n      <td>18</td>\n      <td>839621</td>\n      <td>{\"lead_id\":33963,\"campaign_id\":101,\"form_id\":4...</td>\n      <td>DONATIONFAILED_WEBHOOK: 51</td>\n      <td>70711</td>\n      <td>True</td>\n      <td>50000.0</td>\n      <td>...</td>\n      <td>NaN</td>\n      <td>NaN</td>\n      <td>NaN</td>\n      <td>NaN</td>\n      <td>NaN</td>\n      <td>NaN</td>\n      <td>NaN</td>\n      <td>NaN</td>\n      <td>Windows NT</td>\n      <td>7</td>\n    </tr>\n  </tbody>\n</table>\n<p>5 rows × 73 columns</p>\n</div>"
     },
     "metadata": {},
     "execution_count": 134
    }
   ],
   "source": [
    "data_final.head()"
   ]
  },
  {
   "cell_type": "code",
   "execution_count": null,
   "metadata": {},
   "outputs": [],
   "source": [
    "# Criação da variável Target - Acima de 3 doações não é churn / 1 a 3 é churn"
   ]
  },
  {
   "cell_type": "code",
   "execution_count": 140,
   "metadata": {},
   "outputs": [],
   "source": [
    "data_final['churn'] = data_final['index_y'].apply(lambda x : 1 if x <= 3  else 0)"
   ]
  },
  {
   "cell_type": "code",
   "execution_count": 141,
   "metadata": {},
   "outputs": [
    {
     "output_type": "execute_result",
     "data": {
      "text/plain": [
       "       churn  index_y\n",
       "0          0        7\n",
       "1          0        7\n",
       "2          0        7\n",
       "3          0        7\n",
       "4          0        7\n",
       "...      ...      ...\n",
       "72568      1        2\n",
       "72569      1        3\n",
       "72570      1        3\n",
       "72571      1        3\n",
       "72572      1        1\n",
       "\n",
       "[72573 rows x 2 columns]"
      ],
      "text/html": "<div>\n<style scoped>\n    .dataframe tbody tr th:only-of-type {\n        vertical-align: middle;\n    }\n\n    .dataframe tbody tr th {\n        vertical-align: top;\n    }\n\n    .dataframe thead th {\n        text-align: right;\n    }\n</style>\n<table border=\"1\" class=\"dataframe\">\n  <thead>\n    <tr style=\"text-align: right;\">\n      <th></th>\n      <th>churn</th>\n      <th>index_y</th>\n    </tr>\n  </thead>\n  <tbody>\n    <tr>\n      <th>0</th>\n      <td>0</td>\n      <td>7</td>\n    </tr>\n    <tr>\n      <th>1</th>\n      <td>0</td>\n      <td>7</td>\n    </tr>\n    <tr>\n      <th>2</th>\n      <td>0</td>\n      <td>7</td>\n    </tr>\n    <tr>\n      <th>3</th>\n      <td>0</td>\n      <td>7</td>\n    </tr>\n    <tr>\n      <th>4</th>\n      <td>0</td>\n      <td>7</td>\n    </tr>\n    <tr>\n      <th>...</th>\n      <td>...</td>\n      <td>...</td>\n    </tr>\n    <tr>\n      <th>72568</th>\n      <td>1</td>\n      <td>2</td>\n    </tr>\n    <tr>\n      <th>72569</th>\n      <td>1</td>\n      <td>3</td>\n    </tr>\n    <tr>\n      <th>72570</th>\n      <td>1</td>\n      <td>3</td>\n    </tr>\n    <tr>\n      <th>72571</th>\n      <td>1</td>\n      <td>3</td>\n    </tr>\n    <tr>\n      <th>72572</th>\n      <td>1</td>\n      <td>1</td>\n    </tr>\n  </tbody>\n</table>\n<p>72573 rows × 2 columns</p>\n</div>"
     },
     "metadata": {},
     "execution_count": 141
    }
   ],
   "source": [
    "data_final[['churn','index_y']]"
   ]
  },
  {
   "cell_type": "code",
   "execution_count": 142,
   "metadata": {},
   "outputs": [
    {
     "output_type": "execute_result",
     "data": {
      "text/plain": [
       "   index_x  lead_idd  person_id  organization_idd  event_id  \\\n",
       "0     1369     33963      33771                18    827957   \n",
       "1     1370     33963      33771                18    826679   \n",
       "2     1371     33963      33771                18    836941   \n",
       "3     1372     33963      33771                18    830093   \n",
       "4     1373     33963      33771                18    839621   \n",
       "\n",
       "                                                data  \\\n",
       "0  {\"lead_id\":33963,\"campaign_id\":101,\"form_id\":4...   \n",
       "1  {\"lead_id\":33963,\"campaign_id\":101,\"form_id\":4...   \n",
       "2  {\"lead_id\":33963,\"campaign_id\":101,\"form_id\":4...   \n",
       "3  {\"lead_id\":33963,\"campaign_id\":101,\"form_id\":4...   \n",
       "4  {\"lead_id\":33963,\"campaign_id\":101,\"form_id\":4...   \n",
       "\n",
       "                  description     id  is_subscription   amount  ...  \\\n",
       "0  DONATIONFAILED_WEBHOOK: 51  70711             True  50000.0  ...   \n",
       "1  DONATIONFAILED_WEBHOOK: 51  70711             True  50000.0  ...   \n",
       "2  DONATIONFAILED_WEBHOOK: 51  70711             True  50000.0  ...   \n",
       "3  DONATIONFAILED_WEBHOOK: 51  70711             True  50000.0  ...   \n",
       "4  DONATIONFAILED_WEBHOOK: 51  70711             True  50000.0  ...   \n",
       "\n",
       "   metadata.sessionIsp  metadata.userAgentName metadata.userWindowResolution  \\\n",
       "0                  NaN                     NaN                           NaN   \n",
       "1                  NaN                     NaN                           NaN   \n",
       "2                  NaN                     NaN                           NaN   \n",
       "3                  NaN                     NaN                           NaN   \n",
       "4                  NaN                     NaN                           NaN   \n",
       "\n",
       "   metadata.gateway.name  metadata.amount metadata.is_subscription  \\\n",
       "0                    NaN              NaN                      NaN   \n",
       "1                    NaN              NaN                      NaN   \n",
       "2                    NaN              NaN                      NaN   \n",
       "3                    NaN              NaN                      NaN   \n",
       "4                    NaN              NaN                      NaN   \n",
       "\n",
       "  metadata.sessionAdminSubDiv2 operating_system  index_y  churn  \n",
       "0                          NaN       Windows NT        7      0  \n",
       "1                          NaN       Windows NT        7      0  \n",
       "2                          NaN       Windows NT        7      0  \n",
       "3                          NaN       Windows NT        7      0  \n",
       "4                          NaN       Windows NT        7      0  \n",
       "\n",
       "[5 rows x 74 columns]"
      ],
      "text/html": "<div>\n<style scoped>\n    .dataframe tbody tr th:only-of-type {\n        vertical-align: middle;\n    }\n\n    .dataframe tbody tr th {\n        vertical-align: top;\n    }\n\n    .dataframe thead th {\n        text-align: right;\n    }\n</style>\n<table border=\"1\" class=\"dataframe\">\n  <thead>\n    <tr style=\"text-align: right;\">\n      <th></th>\n      <th>index_x</th>\n      <th>lead_idd</th>\n      <th>person_id</th>\n      <th>organization_idd</th>\n      <th>event_id</th>\n      <th>data</th>\n      <th>description</th>\n      <th>id</th>\n      <th>is_subscription</th>\n      <th>amount</th>\n      <th>...</th>\n      <th>metadata.sessionIsp</th>\n      <th>metadata.userAgentName</th>\n      <th>metadata.userWindowResolution</th>\n      <th>metadata.gateway.name</th>\n      <th>metadata.amount</th>\n      <th>metadata.is_subscription</th>\n      <th>metadata.sessionAdminSubDiv2</th>\n      <th>operating_system</th>\n      <th>index_y</th>\n      <th>churn</th>\n    </tr>\n  </thead>\n  <tbody>\n    <tr>\n      <th>0</th>\n      <td>1369</td>\n      <td>33963</td>\n      <td>33771</td>\n      <td>18</td>\n      <td>827957</td>\n      <td>{\"lead_id\":33963,\"campaign_id\":101,\"form_id\":4...</td>\n      <td>DONATIONFAILED_WEBHOOK: 51</td>\n      <td>70711</td>\n      <td>True</td>\n      <td>50000.0</td>\n      <td>...</td>\n      <td>NaN</td>\n      <td>NaN</td>\n      <td>NaN</td>\n      <td>NaN</td>\n      <td>NaN</td>\n      <td>NaN</td>\n      <td>NaN</td>\n      <td>Windows NT</td>\n      <td>7</td>\n      <td>0</td>\n    </tr>\n    <tr>\n      <th>1</th>\n      <td>1370</td>\n      <td>33963</td>\n      <td>33771</td>\n      <td>18</td>\n      <td>826679</td>\n      <td>{\"lead_id\":33963,\"campaign_id\":101,\"form_id\":4...</td>\n      <td>DONATIONFAILED_WEBHOOK: 51</td>\n      <td>70711</td>\n      <td>True</td>\n      <td>50000.0</td>\n      <td>...</td>\n      <td>NaN</td>\n      <td>NaN</td>\n      <td>NaN</td>\n      <td>NaN</td>\n      <td>NaN</td>\n      <td>NaN</td>\n      <td>NaN</td>\n      <td>Windows NT</td>\n      <td>7</td>\n      <td>0</td>\n    </tr>\n    <tr>\n      <th>2</th>\n      <td>1371</td>\n      <td>33963</td>\n      <td>33771</td>\n      <td>18</td>\n      <td>836941</td>\n      <td>{\"lead_id\":33963,\"campaign_id\":101,\"form_id\":4...</td>\n      <td>DONATIONFAILED_WEBHOOK: 51</td>\n      <td>70711</td>\n      <td>True</td>\n      <td>50000.0</td>\n      <td>...</td>\n      <td>NaN</td>\n      <td>NaN</td>\n      <td>NaN</td>\n      <td>NaN</td>\n      <td>NaN</td>\n      <td>NaN</td>\n      <td>NaN</td>\n      <td>Windows NT</td>\n      <td>7</td>\n      <td>0</td>\n    </tr>\n    <tr>\n      <th>3</th>\n      <td>1372</td>\n      <td>33963</td>\n      <td>33771</td>\n      <td>18</td>\n      <td>830093</td>\n      <td>{\"lead_id\":33963,\"campaign_id\":101,\"form_id\":4...</td>\n      <td>DONATIONFAILED_WEBHOOK: 51</td>\n      <td>70711</td>\n      <td>True</td>\n      <td>50000.0</td>\n      <td>...</td>\n      <td>NaN</td>\n      <td>NaN</td>\n      <td>NaN</td>\n      <td>NaN</td>\n      <td>NaN</td>\n      <td>NaN</td>\n      <td>NaN</td>\n      <td>Windows NT</td>\n      <td>7</td>\n      <td>0</td>\n    </tr>\n    <tr>\n      <th>4</th>\n      <td>1373</td>\n      <td>33963</td>\n      <td>33771</td>\n      <td>18</td>\n      <td>839621</td>\n      <td>{\"lead_id\":33963,\"campaign_id\":101,\"form_id\":4...</td>\n      <td>DONATIONFAILED_WEBHOOK: 51</td>\n      <td>70711</td>\n      <td>True</td>\n      <td>50000.0</td>\n      <td>...</td>\n      <td>NaN</td>\n      <td>NaN</td>\n      <td>NaN</td>\n      <td>NaN</td>\n      <td>NaN</td>\n      <td>NaN</td>\n      <td>NaN</td>\n      <td>Windows NT</td>\n      <td>7</td>\n      <td>0</td>\n    </tr>\n  </tbody>\n</table>\n<p>5 rows × 74 columns</p>\n</div>"
     },
     "metadata": {},
     "execution_count": 142
    }
   ],
   "source": [
    "data_final.head()"
   ]
  },
  {
   "cell_type": "code",
   "execution_count": 146,
   "metadata": {},
   "outputs": [],
   "source": [
    "# Dropando as linhas com lead_id 14 e 15 que eram testes\n",
    "mask = data_final['person_id'].isin ([14,15]) "
   ]
  },
  {
   "cell_type": "code",
   "execution_count": 148,
   "metadata": {},
   "outputs": [],
   "source": [
    "data_final = data_final.loc[~mask] "
   ]
  },
  {
   "cell_type": "code",
   "execution_count": 149,
   "metadata": {},
   "outputs": [
    {
     "output_type": "execute_result",
     "data": {
      "text/plain": [
       "   index_x  lead_idd  person_id  organization_idd  event_id  \\\n",
       "0     1369     33963      33771                18    827957   \n",
       "1     1370     33963      33771                18    826679   \n",
       "2     1371     33963      33771                18    836941   \n",
       "3     1372     33963      33771                18    830093   \n",
       "4     1373     33963      33771                18    839621   \n",
       "\n",
       "                                                data  \\\n",
       "0  {\"lead_id\":33963,\"campaign_id\":101,\"form_id\":4...   \n",
       "1  {\"lead_id\":33963,\"campaign_id\":101,\"form_id\":4...   \n",
       "2  {\"lead_id\":33963,\"campaign_id\":101,\"form_id\":4...   \n",
       "3  {\"lead_id\":33963,\"campaign_id\":101,\"form_id\":4...   \n",
       "4  {\"lead_id\":33963,\"campaign_id\":101,\"form_id\":4...   \n",
       "\n",
       "                  description     id  is_subscription   amount  ...  \\\n",
       "0  DONATIONFAILED_WEBHOOK: 51  70711             True  50000.0  ...   \n",
       "1  DONATIONFAILED_WEBHOOK: 51  70711             True  50000.0  ...   \n",
       "2  DONATIONFAILED_WEBHOOK: 51  70711             True  50000.0  ...   \n",
       "3  DONATIONFAILED_WEBHOOK: 51  70711             True  50000.0  ...   \n",
       "4  DONATIONFAILED_WEBHOOK: 51  70711             True  50000.0  ...   \n",
       "\n",
       "   metadata.sessionIsp  metadata.userAgentName metadata.userWindowResolution  \\\n",
       "0                  NaN                     NaN                           NaN   \n",
       "1                  NaN                     NaN                           NaN   \n",
       "2                  NaN                     NaN                           NaN   \n",
       "3                  NaN                     NaN                           NaN   \n",
       "4                  NaN                     NaN                           NaN   \n",
       "\n",
       "   metadata.gateway.name  metadata.amount metadata.is_subscription  \\\n",
       "0                    NaN              NaN                      NaN   \n",
       "1                    NaN              NaN                      NaN   \n",
       "2                    NaN              NaN                      NaN   \n",
       "3                    NaN              NaN                      NaN   \n",
       "4                    NaN              NaN                      NaN   \n",
       "\n",
       "  metadata.sessionAdminSubDiv2 operating_system  index_y  churn  \n",
       "0                          NaN       Windows NT        7      0  \n",
       "1                          NaN       Windows NT        7      0  \n",
       "2                          NaN       Windows NT        7      0  \n",
       "3                          NaN       Windows NT        7      0  \n",
       "4                          NaN       Windows NT        7      0  \n",
       "\n",
       "[5 rows x 74 columns]"
      ],
      "text/html": "<div>\n<style scoped>\n    .dataframe tbody tr th:only-of-type {\n        vertical-align: middle;\n    }\n\n    .dataframe tbody tr th {\n        vertical-align: top;\n    }\n\n    .dataframe thead th {\n        text-align: right;\n    }\n</style>\n<table border=\"1\" class=\"dataframe\">\n  <thead>\n    <tr style=\"text-align: right;\">\n      <th></th>\n      <th>index_x</th>\n      <th>lead_idd</th>\n      <th>person_id</th>\n      <th>organization_idd</th>\n      <th>event_id</th>\n      <th>data</th>\n      <th>description</th>\n      <th>id</th>\n      <th>is_subscription</th>\n      <th>amount</th>\n      <th>...</th>\n      <th>metadata.sessionIsp</th>\n      <th>metadata.userAgentName</th>\n      <th>metadata.userWindowResolution</th>\n      <th>metadata.gateway.name</th>\n      <th>metadata.amount</th>\n      <th>metadata.is_subscription</th>\n      <th>metadata.sessionAdminSubDiv2</th>\n      <th>operating_system</th>\n      <th>index_y</th>\n      <th>churn</th>\n    </tr>\n  </thead>\n  <tbody>\n    <tr>\n      <th>0</th>\n      <td>1369</td>\n      <td>33963</td>\n      <td>33771</td>\n      <td>18</td>\n      <td>827957</td>\n      <td>{\"lead_id\":33963,\"campaign_id\":101,\"form_id\":4...</td>\n      <td>DONATIONFAILED_WEBHOOK: 51</td>\n      <td>70711</td>\n      <td>True</td>\n      <td>50000.0</td>\n      <td>...</td>\n      <td>NaN</td>\n      <td>NaN</td>\n      <td>NaN</td>\n      <td>NaN</td>\n      <td>NaN</td>\n      <td>NaN</td>\n      <td>NaN</td>\n      <td>Windows NT</td>\n      <td>7</td>\n      <td>0</td>\n    </tr>\n    <tr>\n      <th>1</th>\n      <td>1370</td>\n      <td>33963</td>\n      <td>33771</td>\n      <td>18</td>\n      <td>826679</td>\n      <td>{\"lead_id\":33963,\"campaign_id\":101,\"form_id\":4...</td>\n      <td>DONATIONFAILED_WEBHOOK: 51</td>\n      <td>70711</td>\n      <td>True</td>\n      <td>50000.0</td>\n      <td>...</td>\n      <td>NaN</td>\n      <td>NaN</td>\n      <td>NaN</td>\n      <td>NaN</td>\n      <td>NaN</td>\n      <td>NaN</td>\n      <td>NaN</td>\n      <td>Windows NT</td>\n      <td>7</td>\n      <td>0</td>\n    </tr>\n    <tr>\n      <th>2</th>\n      <td>1371</td>\n      <td>33963</td>\n      <td>33771</td>\n      <td>18</td>\n      <td>836941</td>\n      <td>{\"lead_id\":33963,\"campaign_id\":101,\"form_id\":4...</td>\n      <td>DONATIONFAILED_WEBHOOK: 51</td>\n      <td>70711</td>\n      <td>True</td>\n      <td>50000.0</td>\n      <td>...</td>\n      <td>NaN</td>\n      <td>NaN</td>\n      <td>NaN</td>\n      <td>NaN</td>\n      <td>NaN</td>\n      <td>NaN</td>\n      <td>NaN</td>\n      <td>Windows NT</td>\n      <td>7</td>\n      <td>0</td>\n    </tr>\n    <tr>\n      <th>3</th>\n      <td>1372</td>\n      <td>33963</td>\n      <td>33771</td>\n      <td>18</td>\n      <td>830093</td>\n      <td>{\"lead_id\":33963,\"campaign_id\":101,\"form_id\":4...</td>\n      <td>DONATIONFAILED_WEBHOOK: 51</td>\n      <td>70711</td>\n      <td>True</td>\n      <td>50000.0</td>\n      <td>...</td>\n      <td>NaN</td>\n      <td>NaN</td>\n      <td>NaN</td>\n      <td>NaN</td>\n      <td>NaN</td>\n      <td>NaN</td>\n      <td>NaN</td>\n      <td>Windows NT</td>\n      <td>7</td>\n      <td>0</td>\n    </tr>\n    <tr>\n      <th>4</th>\n      <td>1373</td>\n      <td>33963</td>\n      <td>33771</td>\n      <td>18</td>\n      <td>839621</td>\n      <td>{\"lead_id\":33963,\"campaign_id\":101,\"form_id\":4...</td>\n      <td>DONATIONFAILED_WEBHOOK: 51</td>\n      <td>70711</td>\n      <td>True</td>\n      <td>50000.0</td>\n      <td>...</td>\n      <td>NaN</td>\n      <td>NaN</td>\n      <td>NaN</td>\n      <td>NaN</td>\n      <td>NaN</td>\n      <td>NaN</td>\n      <td>NaN</td>\n      <td>Windows NT</td>\n      <td>7</td>\n      <td>0</td>\n    </tr>\n  </tbody>\n</table>\n<p>5 rows × 74 columns</p>\n</div>"
     },
     "metadata": {},
     "execution_count": 149
    }
   ],
   "source": [
    "data_final.head()"
   ]
  },
  {
   "cell_type": "code",
   "execution_count": 150,
   "metadata": {},
   "outputs": [],
   "source": [
    "from sklearn.model_selection import train_test_split"
   ]
  },
  {
   "cell_type": "code",
   "execution_count": 153,
   "metadata": {},
   "outputs": [],
   "source": [
    "X = data_final.drop(['churn'], axis=1).values\n",
    "y = data_final['churn'].values\n",
    "X_train,X_test,y_train,y_test = train_test_split(X,y,random_state=0)"
   ]
  },
  {
   "cell_type": "code",
   "execution_count": 155,
   "metadata": {},
   "outputs": [
    {
     "output_type": "stream",
     "name": "stdout",
     "text": [
      "Dados de treino (44433, 73)\n\n\nDados de teste (14811, 73)\n"
     ]
    }
   ],
   "source": [
    "print ('Dados de treino {}'.format(X_train.shape))\n",
    "print('\\n')\n",
    "print('Dados de teste {}'.format(X_test.shape))"
   ]
  },
  {
   "cell_type": "code",
   "execution_count": 167,
   "metadata": {},
   "outputs": [
    {
     "output_type": "stream",
     "name": "stdout",
     "text": [
      "(100, 10)\n"
     ]
    }
   ],
   "source": [
    "# pearson's correlation feature selection for numeric input and numeric output\n",
    "from sklearn.datasets import make_regression\n",
    "from sklearn.feature_selection import SelectKBest\n",
    "from sklearn.feature_selection import f_regression\n",
    "# generate dataset\n",
    "X, y = make_regression(n_samples=100, n_features=100, n_informative=10)\n",
    "# define feature selection\n",
    "fs = SelectKBest(score_func=f_regression, k=10)\n",
    "# apply feature selection\n",
    "X_selected = fs.fit_transform(X, y)\n",
    "print(X_selected.shape)"
   ]
  },
  {
   "cell_type": "code",
   "execution_count": null,
   "metadata": {},
   "outputs": [],
   "source": []
  },
  {
   "cell_type": "code",
   "execution_count": null,
   "metadata": {},
   "outputs": [],
   "source": []
  },
  {
   "cell_type": "code",
   "execution_count": null,
   "metadata": {},
   "outputs": [],
   "source": []
  },
  {
   "cell_type": "code",
   "execution_count": null,
   "metadata": {},
   "outputs": [],
   "source": []
  },
  {
   "cell_type": "code",
   "execution_count": null,
   "metadata": {},
   "outputs": [],
   "source": [
    "# Survivel Analisis "
   ]
  },
  {
   "cell_type": "code",
   "execution_count": 160,
   "metadata": {},
   "outputs": [
    {
     "output_type": "stream",
     "name": "stdout",
     "text": [
      "Collecting cufflinks\n",
      "  Downloading cufflinks-0.17.3.tar.gz (81 kB)\n",
      "\u001b[K     |████████████████████████████████| 81 kB 3.2 MB/s \n",
      "\u001b[?25hRequirement already satisfied: numpy>=1.9.2 in /Users/diegorodrigues/opt/anaconda3/lib/python3.8/site-packages (from cufflinks) (1.18.5)\n",
      "Requirement already satisfied: pandas>=0.19.2 in /Users/diegorodrigues/opt/anaconda3/lib/python3.8/site-packages (from cufflinks) (1.0.5)\n",
      "Collecting plotly>=4.1.1\n",
      "  Downloading plotly-4.14.1-py2.py3-none-any.whl (13.2 MB)\n",
      "\u001b[K     |████████████████████████████████| 13.2 MB 5.3 MB/s \n",
      "\u001b[?25hRequirement already satisfied: six>=1.9.0 in /Users/diegorodrigues/opt/anaconda3/lib/python3.8/site-packages (from cufflinks) (1.15.0)\n",
      "Collecting colorlover>=0.2.1\n",
      "  Downloading colorlover-0.3.0-py3-none-any.whl (8.9 kB)\n",
      "Requirement already satisfied: setuptools>=34.4.1 in /Users/diegorodrigues/opt/anaconda3/lib/python3.8/site-packages (from cufflinks) (49.2.0.post20200714)\n",
      "Requirement already satisfied: ipython>=5.3.0 in /Users/diegorodrigues/opt/anaconda3/lib/python3.8/site-packages (from cufflinks) (7.16.1)\n",
      "Requirement already satisfied: ipywidgets>=7.0.0 in /Users/diegorodrigues/opt/anaconda3/lib/python3.8/site-packages (from cufflinks) (7.5.1)\n",
      "Requirement already satisfied: pytz>=2017.2 in /Users/diegorodrigues/opt/anaconda3/lib/python3.8/site-packages (from pandas>=0.19.2->cufflinks) (2020.1)\n",
      "Requirement already satisfied: python-dateutil>=2.6.1 in /Users/diegorodrigues/opt/anaconda3/lib/python3.8/site-packages (from pandas>=0.19.2->cufflinks) (2.8.1)\n",
      "Processing /Users/diegorodrigues/Library/Caches/pip/wheels/c4/a7/48/0a434133f6d56e878ca511c0e6c38326907c0792f67b476e56/retrying-1.3.3-py3-none-any.whl\n",
      "Requirement already satisfied: decorator in /Users/diegorodrigues/opt/anaconda3/lib/python3.8/site-packages (from ipython>=5.3.0->cufflinks) (4.4.2)\n",
      "Requirement already satisfied: pickleshare in /Users/diegorodrigues/opt/anaconda3/lib/python3.8/site-packages (from ipython>=5.3.0->cufflinks) (0.7.5)\n",
      "Requirement already satisfied: pygments in /Users/diegorodrigues/opt/anaconda3/lib/python3.8/site-packages (from ipython>=5.3.0->cufflinks) (2.6.1)\n",
      "Requirement already satisfied: appnope; sys_platform == \"darwin\" in /Users/diegorodrigues/opt/anaconda3/lib/python3.8/site-packages (from ipython>=5.3.0->cufflinks) (0.1.0)\n",
      "Requirement already satisfied: prompt-toolkit!=3.0.0,!=3.0.1,<3.1.0,>=2.0.0 in /Users/diegorodrigues/opt/anaconda3/lib/python3.8/site-packages (from ipython>=5.3.0->cufflinks) (3.0.5)\n",
      "Requirement already satisfied: jedi>=0.10 in /Users/diegorodrigues/opt/anaconda3/lib/python3.8/site-packages (from ipython>=5.3.0->cufflinks) (0.17.1)\n",
      "Requirement already satisfied: traitlets>=4.2 in /Users/diegorodrigues/opt/anaconda3/lib/python3.8/site-packages (from ipython>=5.3.0->cufflinks) (4.3.3)\n",
      "Requirement already satisfied: backcall in /Users/diegorodrigues/opt/anaconda3/lib/python3.8/site-packages (from ipython>=5.3.0->cufflinks) (0.2.0)\n",
      "Requirement already satisfied: pexpect; sys_platform != \"win32\" in /Users/diegorodrigues/opt/anaconda3/lib/python3.8/site-packages (from ipython>=5.3.0->cufflinks) (4.8.0)\n",
      "Requirement already satisfied: ipykernel>=4.5.1 in /Users/diegorodrigues/opt/anaconda3/lib/python3.8/site-packages (from ipywidgets>=7.0.0->cufflinks) (5.3.2)\n",
      "Requirement already satisfied: nbformat>=4.2.0 in /Users/diegorodrigues/opt/anaconda3/lib/python3.8/site-packages (from ipywidgets>=7.0.0->cufflinks) (5.0.7)\n",
      "Requirement already satisfied: widgetsnbextension~=3.5.0 in /Users/diegorodrigues/opt/anaconda3/lib/python3.8/site-packages (from ipywidgets>=7.0.0->cufflinks) (3.5.1)\n",
      "Requirement already satisfied: wcwidth in /Users/diegorodrigues/opt/anaconda3/lib/python3.8/site-packages (from prompt-toolkit!=3.0.0,!=3.0.1,<3.1.0,>=2.0.0->ipython>=5.3.0->cufflinks) (0.2.5)\n",
      "Requirement already satisfied: parso<0.8.0,>=0.7.0 in /Users/diegorodrigues/opt/anaconda3/lib/python3.8/site-packages (from jedi>=0.10->ipython>=5.3.0->cufflinks) (0.7.0)\n",
      "Requirement already satisfied: ipython-genutils in /Users/diegorodrigues/opt/anaconda3/lib/python3.8/site-packages (from traitlets>=4.2->ipython>=5.3.0->cufflinks) (0.2.0)\n",
      "Requirement already satisfied: ptyprocess>=0.5 in /Users/diegorodrigues/opt/anaconda3/lib/python3.8/site-packages (from pexpect; sys_platform != \"win32\"->ipython>=5.3.0->cufflinks) (0.6.0)\n",
      "Requirement already satisfied: tornado>=4.2 in /Users/diegorodrigues/opt/anaconda3/lib/python3.8/site-packages (from ipykernel>=4.5.1->ipywidgets>=7.0.0->cufflinks) (6.0.4)\n",
      "Requirement already satisfied: jupyter-client in /Users/diegorodrigues/opt/anaconda3/lib/python3.8/site-packages (from ipykernel>=4.5.1->ipywidgets>=7.0.0->cufflinks) (6.1.6)\n",
      "Requirement already satisfied: jsonschema!=2.5.0,>=2.4 in /Users/diegorodrigues/opt/anaconda3/lib/python3.8/site-packages (from nbformat>=4.2.0->ipywidgets>=7.0.0->cufflinks) (3.2.0)\n",
      "Requirement already satisfied: jupyter-core in /Users/diegorodrigues/opt/anaconda3/lib/python3.8/site-packages (from nbformat>=4.2.0->ipywidgets>=7.0.0->cufflinks) (4.6.3)\n",
      "Requirement already satisfied: notebook>=4.4.1 in /Users/diegorodrigues/opt/anaconda3/lib/python3.8/site-packages (from widgetsnbextension~=3.5.0->ipywidgets>=7.0.0->cufflinks) (6.0.3)\n",
      "Requirement already satisfied: pyzmq>=13 in /Users/diegorodrigues/opt/anaconda3/lib/python3.8/site-packages (from jupyter-client->ipykernel>=4.5.1->ipywidgets>=7.0.0->cufflinks) (19.0.1)\n",
      "Requirement already satisfied: attrs>=17.4.0 in /Users/diegorodrigues/opt/anaconda3/lib/python3.8/site-packages (from jsonschema!=2.5.0,>=2.4->nbformat>=4.2.0->ipywidgets>=7.0.0->cufflinks) (19.3.0)\n",
      "Requirement already satisfied: pyrsistent>=0.14.0 in /Users/diegorodrigues/opt/anaconda3/lib/python3.8/site-packages (from jsonschema!=2.5.0,>=2.4->nbformat>=4.2.0->ipywidgets>=7.0.0->cufflinks) (0.16.0)\n",
      "Requirement already satisfied: nbconvert in /Users/diegorodrigues/opt/anaconda3/lib/python3.8/site-packages (from notebook>=4.4.1->widgetsnbextension~=3.5.0->ipywidgets>=7.0.0->cufflinks) (5.6.1)\n",
      "Requirement already satisfied: jinja2 in /Users/diegorodrigues/opt/anaconda3/lib/python3.8/site-packages (from notebook>=4.4.1->widgetsnbextension~=3.5.0->ipywidgets>=7.0.0->cufflinks) (2.11.2)\n",
      "Requirement already satisfied: terminado>=0.8.1 in /Users/diegorodrigues/opt/anaconda3/lib/python3.8/site-packages (from notebook>=4.4.1->widgetsnbextension~=3.5.0->ipywidgets>=7.0.0->cufflinks) (0.8.3)\n",
      "Requirement already satisfied: prometheus-client in /Users/diegorodrigues/opt/anaconda3/lib/python3.8/site-packages (from notebook>=4.4.1->widgetsnbextension~=3.5.0->ipywidgets>=7.0.0->cufflinks) (0.8.0)\n",
      "Requirement already satisfied: Send2Trash in /Users/diegorodrigues/opt/anaconda3/lib/python3.8/site-packages (from notebook>=4.4.1->widgetsnbextension~=3.5.0->ipywidgets>=7.0.0->cufflinks) (1.5.0)\n",
      "Requirement already satisfied: mistune<2,>=0.8.1 in /Users/diegorodrigues/opt/anaconda3/lib/python3.8/site-packages (from nbconvert->notebook>=4.4.1->widgetsnbextension~=3.5.0->ipywidgets>=7.0.0->cufflinks) (0.8.4)\n",
      "Requirement already satisfied: defusedxml in /Users/diegorodrigues/opt/anaconda3/lib/python3.8/site-packages (from nbconvert->notebook>=4.4.1->widgetsnbextension~=3.5.0->ipywidgets>=7.0.0->cufflinks) (0.6.0)\n",
      "Requirement already satisfied: pandocfilters>=1.4.1 in /Users/diegorodrigues/opt/anaconda3/lib/python3.8/site-packages (from nbconvert->notebook>=4.4.1->widgetsnbextension~=3.5.0->ipywidgets>=7.0.0->cufflinks) (1.4.2)\n",
      "Requirement already satisfied: bleach in /Users/diegorodrigues/opt/anaconda3/lib/python3.8/site-packages (from nbconvert->notebook>=4.4.1->widgetsnbextension~=3.5.0->ipywidgets>=7.0.0->cufflinks) (3.1.5)\n",
      "Requirement already satisfied: testpath in /Users/diegorodrigues/opt/anaconda3/lib/python3.8/site-packages (from nbconvert->notebook>=4.4.1->widgetsnbextension~=3.5.0->ipywidgets>=7.0.0->cufflinks) (0.4.4)\n",
      "Requirement already satisfied: entrypoints>=0.2.2 in /Users/diegorodrigues/opt/anaconda3/lib/python3.8/site-packages (from nbconvert->notebook>=4.4.1->widgetsnbextension~=3.5.0->ipywidgets>=7.0.0->cufflinks) (0.3)\n",
      "Requirement already satisfied: MarkupSafe>=0.23 in /Users/diegorodrigues/opt/anaconda3/lib/python3.8/site-packages (from jinja2->notebook>=4.4.1->widgetsnbextension~=3.5.0->ipywidgets>=7.0.0->cufflinks) (1.1.1)\n",
      "Requirement already satisfied: packaging in /Users/diegorodrigues/opt/anaconda3/lib/python3.8/site-packages (from bleach->nbconvert->notebook>=4.4.1->widgetsnbextension~=3.5.0->ipywidgets>=7.0.0->cufflinks) (20.4)\n",
      "Requirement already satisfied: webencodings in /Users/diegorodrigues/opt/anaconda3/lib/python3.8/site-packages (from bleach->nbconvert->notebook>=4.4.1->widgetsnbextension~=3.5.0->ipywidgets>=7.0.0->cufflinks) (0.5.1)\n",
      "Requirement already satisfied: pyparsing>=2.0.2 in /Users/diegorodrigues/opt/anaconda3/lib/python3.8/site-packages (from packaging->bleach->nbconvert->notebook>=4.4.1->widgetsnbextension~=3.5.0->ipywidgets>=7.0.0->cufflinks) (2.4.7)\n",
      "Building wheels for collected packages: cufflinks\n",
      "  Building wheel for cufflinks (setup.py) ... \u001b[?25ldone\n",
      "\u001b[?25h  Created wheel for cufflinks: filename=cufflinks-0.17.3-py3-none-any.whl size=67921 sha256=ea97eae4d86ff03973340cfe4993c0376653be31ae2a9da3c7347a1093b7cd26\n",
      "  Stored in directory: /Users/diegorodrigues/Library/Caches/pip/wheels/6b/76/62/6da97734911ffcbdd559fd1a3f28526321f0ae699182a23866\n",
      "Successfully built cufflinks\n",
      "Installing collected packages: retrying, plotly, colorlover, cufflinks\n",
      "Successfully installed colorlover-0.3.0 cufflinks-0.17.3 plotly-4.14.1 retrying-1.3.3\n"
     ]
    },
    {
     "output_type": "display_data",
     "data": {
      "text/html": "        <script type=\"text/javascript\">\n        window.PlotlyConfig = {MathJaxConfig: 'local'};\n        if (window.MathJax) {MathJax.Hub.Config({SVG: {font: \"STIX-Web\"}});}\n        if (typeof require !== 'undefined') {\n        require.undef(\"plotly\");\n        requirejs.config({\n            paths: {\n                'plotly': ['https://cdn.plot.ly/plotly-latest.min']\n            }\n        });\n        require(['plotly'], function(Plotly) {\n            window._Plotly = Plotly;\n        });\n        }\n        </script>\n        "
     },
     "metadata": {}
    }
   ],
   "source": [
    "!pip install cufflinks\n",
    "import cufflinks as cf\n",
    "\n",
    "cf.go_offline()"
   ]
  },
  {
   "cell_type": "code",
   "execution_count": 162,
   "metadata": {},
   "outputs": [
    {
     "output_type": "stream",
     "name": "stdout",
     "text": [
      "Collecting lifelines\n",
      "  Downloading lifelines-0.25.7-py3-none-any.whl (347 kB)\n",
      "\u001b[K     |████████████████████████████████| 347 kB 6.8 MB/s \n",
      "\u001b[?25hRequirement already satisfied: patsy>=0.5.0 in /Users/diegorodrigues/opt/anaconda3/lib/python3.8/site-packages (from lifelines) (0.5.1)\n",
      "Requirement already satisfied: matplotlib>=3.0 in /Users/diegorodrigues/opt/anaconda3/lib/python3.8/site-packages (from lifelines) (3.2.2)\n",
      "Requirement already satisfied: pandas>=0.23.0 in /Users/diegorodrigues/opt/anaconda3/lib/python3.8/site-packages (from lifelines) (1.0.5)\n",
      "Requirement already satisfied: numpy>=1.14.0 in /Users/diegorodrigues/opt/anaconda3/lib/python3.8/site-packages (from lifelines) (1.18.5)\n",
      "Collecting autograd>=1.3\n",
      "  Downloading autograd-1.3.tar.gz (38 kB)\n",
      "Collecting autograd-gamma>=0.3\n",
      "\u001b[33m  WARNING: Retrying (Retry(total=4, connect=None, read=None, redirect=None, status=None)) after connection broken by 'ReadTimeoutError(\"HTTPSConnectionPool(host='files.pythonhosted.org', port=443): Read timed out. (read timeout=15)\")': /packages/85/ae/7f2031ea76140444b2453fa139041e5afd4a09fc5300cfefeb1103291f80/autograd-gamma-0.5.0.tar.gz\u001b[0m\n",
      "  Downloading autograd-gamma-0.5.0.tar.gz (4.0 kB)\n",
      "Requirement already satisfied: scipy>=1.2.0 in /Users/diegorodrigues/opt/anaconda3/lib/python3.8/site-packages (from lifelines) (1.5.0)\n",
      "Requirement already satisfied: six in /Users/diegorodrigues/opt/anaconda3/lib/python3.8/site-packages (from patsy>=0.5.0->lifelines) (1.15.0)\n",
      "Requirement already satisfied: cycler>=0.10 in /Users/diegorodrigues/opt/anaconda3/lib/python3.8/site-packages (from matplotlib>=3.0->lifelines) (0.10.0)\n",
      "Requirement already satisfied: pyparsing!=2.0.4,!=2.1.2,!=2.1.6,>=2.0.1 in /Users/diegorodrigues/opt/anaconda3/lib/python3.8/site-packages (from matplotlib>=3.0->lifelines) (2.4.7)\n",
      "Requirement already satisfied: kiwisolver>=1.0.1 in /Users/diegorodrigues/opt/anaconda3/lib/python3.8/site-packages (from matplotlib>=3.0->lifelines) (1.2.0)\n",
      "Requirement already satisfied: python-dateutil>=2.1 in /Users/diegorodrigues/opt/anaconda3/lib/python3.8/site-packages (from matplotlib>=3.0->lifelines) (2.8.1)\n",
      "Requirement already satisfied: pytz>=2017.2 in /Users/diegorodrigues/opt/anaconda3/lib/python3.8/site-packages (from pandas>=0.23.0->lifelines) (2020.1)\n",
      "Requirement already satisfied: future>=0.15.2 in /Users/diegorodrigues/opt/anaconda3/lib/python3.8/site-packages (from autograd>=1.3->lifelines) (0.18.2)\n",
      "Building wheels for collected packages: autograd, autograd-gamma\n",
      "  Building wheel for autograd (setup.py) ... \u001b[?25ldone\n",
      "\u001b[?25h  Created wheel for autograd: filename=autograd-1.3-py3-none-any.whl size=47990 sha256=169dd40cbd9f8abe77b404c900a5af4c0188928a744e7fd9c3defa1a25f04f2c\n",
      "  Stored in directory: /Users/diegorodrigues/Library/Caches/pip/wheels/85/f5/d2/3ef47d3a836b17620bf41647222825b065245862d12aa62885\n",
      "  Building wheel for autograd-gamma (setup.py) ... \u001b[?25ldone\n",
      "\u001b[?25h  Created wheel for autograd-gamma: filename=autograd_gamma-0.5.0-py3-none-any.whl size=4034 sha256=47ea1bb3a28d8dd86afa2237b66c47a1cda2a97ba63d29817628303dc6acc419\n",
      "  Stored in directory: /Users/diegorodrigues/Library/Caches/pip/wheels/16/a2/b6/582cfdfbeeccd469504a01af3bb952fd9e7eccba40995eafea\n",
      "Successfully built autograd autograd-gamma\n",
      "Installing collected packages: autograd, autograd-gamma, lifelines\n",
      "Successfully installed autograd-1.3 autograd-gamma-0.5.0 lifelines-0.25.7\n"
     ]
    }
   ],
   "source": [
    "!pip install lifelines\n",
    "from lifelines import KaplanMeierFitter"
   ]
  },
  {
   "cell_type": "code",
   "execution_count": 163,
   "metadata": {},
   "outputs": [],
   "source": [
    "model = KaplanMeierFitter()"
   ]
  },
  {
   "cell_type": "code",
   "execution_count": 164,
   "metadata": {},
   "outputs": [
    {
     "output_type": "error",
     "ename": "TypeError",
     "evalue": "fit() missing 1 required positional argument: 'durations'",
     "traceback": [
      "\u001b[0;31m---------------------------------------------------------------------------\u001b[0m",
      "\u001b[0;31mTypeError\u001b[0m                                 Traceback (most recent call last)",
      "\u001b[0;32m<ipython-input-164-f781fe65eb00>\u001b[0m in \u001b[0;36m<module>\u001b[0;34m\u001b[0m\n\u001b[0;32m----> 1\u001b[0;31m \u001b[0mmodel\u001b[0m\u001b[0;34m.\u001b[0m\u001b[0mfit\u001b[0m\u001b[0;34m(\u001b[0m\u001b[0;34m)\u001b[0m\u001b[0;34m\u001b[0m\u001b[0;34m\u001b[0m\u001b[0m\n\u001b[0m",
      "\u001b[0;32m~/opt/anaconda3/lib/python3.8/site-packages/lifelines/utils/__init__.py\u001b[0m in \u001b[0;36mf\u001b[0;34m(model, *args, **kwargs)\u001b[0m\n\u001b[1;32m     52\u001b[0m         \u001b[0;32mdef\u001b[0m \u001b[0mf\u001b[0m\u001b[0;34m(\u001b[0m\u001b[0mmodel\u001b[0m\u001b[0;34m,\u001b[0m \u001b[0;34m*\u001b[0m\u001b[0margs\u001b[0m\u001b[0;34m,\u001b[0m \u001b[0;34m**\u001b[0m\u001b[0mkwargs\u001b[0m\u001b[0;34m)\u001b[0m\u001b[0;34m:\u001b[0m\u001b[0;34m\u001b[0m\u001b[0;34m\u001b[0m\u001b[0m\n\u001b[1;32m     53\u001b[0m             \u001b[0mcls\u001b[0m\u001b[0;34m.\u001b[0m\u001b[0mset_censoring_type\u001b[0m\u001b[0;34m(\u001b[0m\u001b[0mmodel\u001b[0m\u001b[0;34m,\u001b[0m \u001b[0mcls\u001b[0m\u001b[0;34m.\u001b[0m\u001b[0mRIGHT\u001b[0m\u001b[0;34m)\u001b[0m\u001b[0;34m\u001b[0m\u001b[0;34m\u001b[0m\u001b[0m\n\u001b[0;32m---> 54\u001b[0;31m             \u001b[0;32mreturn\u001b[0m \u001b[0mfunction\u001b[0m\u001b[0;34m(\u001b[0m\u001b[0mmodel\u001b[0m\u001b[0;34m,\u001b[0m \u001b[0;34m*\u001b[0m\u001b[0margs\u001b[0m\u001b[0;34m,\u001b[0m \u001b[0;34m**\u001b[0m\u001b[0mkwargs\u001b[0m\u001b[0;34m)\u001b[0m\u001b[0;34m\u001b[0m\u001b[0;34m\u001b[0m\u001b[0m\n\u001b[0m\u001b[1;32m     55\u001b[0m \u001b[0;34m\u001b[0m\u001b[0m\n\u001b[1;32m     56\u001b[0m         \u001b[0;32mreturn\u001b[0m \u001b[0mf\u001b[0m\u001b[0;34m\u001b[0m\u001b[0;34m\u001b[0m\u001b[0m\n",
      "\u001b[0;31mTypeError\u001b[0m: fit() missing 1 required positional argument: 'durations'"
     ]
    }
   ],
   "source": [
    "model.fit()"
   ]
  },
  {
   "cell_type": "code",
   "execution_count": 165,
   "metadata": {},
   "outputs": [],
   "source": [
    "def survival(data, group_field, time_field, event_field):\n",
    "    '''\n",
    "    Use the Kaplan Meier Model to predict rates in which the event_field will occur.\n",
    "    '''\n",
    "    \n",
    "    model = KaplanMeierFitter()\n",
    "    results = []\n",
    "    \n",
    "    for each_category in data[group_field].unique():\n",
    "        \n",
    "        group = data.query(f'{group_field} == \"{each_category}\"')\n",
    "        \n",
    "        T = group[time_field]\n",
    "        E = group[event_field]\n",
    "        \n",
    "        # The Kaplan Meier model requires a TIME and an EVENT \n",
    "        model.fit(T, E, label=str(each_category))\n",
    "        \n",
    "        # model.survival_function_ will return\n",
    "        results.append(model.survival_function_)\n",
    "    \n",
    "    survival = pd.concat(results, axis=1)\n",
    "    return survival"
   ]
  },
  {
   "cell_type": "code",
   "execution_count": 166,
   "metadata": {},
   "outputs": [
    {
     "output_type": "error",
     "ename": "AttributeError",
     "evalue": "'DataFrame' object has no attribute 'unique'",
     "traceback": [
      "\u001b[0;31m---------------------------------------------------------------------------\u001b[0m",
      "\u001b[0;31mAttributeError\u001b[0m                            Traceback (most recent call last)",
      "\u001b[0;32m<ipython-input-166-62bf139a5eaa>\u001b[0m in \u001b[0;36m<module>\u001b[0;34m\u001b[0m\n\u001b[0;32m----> 1\u001b[0;31m \u001b[0mrates\u001b[0m \u001b[0;34m=\u001b[0m \u001b[0msurvival\u001b[0m\u001b[0;34m(\u001b[0m\u001b[0mdata_final\u001b[0m\u001b[0;34m,\u001b[0m \u001b[0;34m'amount'\u001b[0m\u001b[0;34m,\u001b[0m \u001b[0;34m'organization_idd'\u001b[0m\u001b[0;34m,\u001b[0m \u001b[0;34m'churn'\u001b[0m\u001b[0;34m)\u001b[0m\u001b[0;34m\u001b[0m\u001b[0;34m\u001b[0m\u001b[0m\n\u001b[0m",
      "\u001b[0;32m<ipython-input-165-f9f79d393a84>\u001b[0m in \u001b[0;36msurvival\u001b[0;34m(data, group_field, time_field, event_field)\u001b[0m\n\u001b[1;32m      7\u001b[0m     \u001b[0mresults\u001b[0m \u001b[0;34m=\u001b[0m \u001b[0;34m[\u001b[0m\u001b[0;34m]\u001b[0m\u001b[0;34m\u001b[0m\u001b[0;34m\u001b[0m\u001b[0m\n\u001b[1;32m      8\u001b[0m \u001b[0;34m\u001b[0m\u001b[0m\n\u001b[0;32m----> 9\u001b[0;31m     \u001b[0;32mfor\u001b[0m \u001b[0meach_category\u001b[0m \u001b[0;32min\u001b[0m \u001b[0mdata\u001b[0m\u001b[0;34m[\u001b[0m\u001b[0mgroup_field\u001b[0m\u001b[0;34m]\u001b[0m\u001b[0;34m.\u001b[0m\u001b[0munique\u001b[0m\u001b[0;34m(\u001b[0m\u001b[0;34m)\u001b[0m\u001b[0;34m:\u001b[0m\u001b[0;34m\u001b[0m\u001b[0;34m\u001b[0m\u001b[0m\n\u001b[0m\u001b[1;32m     10\u001b[0m \u001b[0;34m\u001b[0m\u001b[0m\n\u001b[1;32m     11\u001b[0m         \u001b[0mgroup\u001b[0m \u001b[0;34m=\u001b[0m \u001b[0mdata\u001b[0m\u001b[0;34m.\u001b[0m\u001b[0mquery\u001b[0m\u001b[0;34m(\u001b[0m\u001b[0;34mf'{group_field} == \"{each_category}\"'\u001b[0m\u001b[0;34m)\u001b[0m\u001b[0;34m\u001b[0m\u001b[0;34m\u001b[0m\u001b[0m\n",
      "\u001b[0;32m~/opt/anaconda3/lib/python3.8/site-packages/pandas/core/generic.py\u001b[0m in \u001b[0;36m__getattr__\u001b[0;34m(self, name)\u001b[0m\n\u001b[1;32m   5272\u001b[0m             \u001b[0;32mif\u001b[0m \u001b[0mself\u001b[0m\u001b[0;34m.\u001b[0m\u001b[0m_info_axis\u001b[0m\u001b[0;34m.\u001b[0m\u001b[0m_can_hold_identifiers_and_holds_name\u001b[0m\u001b[0;34m(\u001b[0m\u001b[0mname\u001b[0m\u001b[0;34m)\u001b[0m\u001b[0;34m:\u001b[0m\u001b[0;34m\u001b[0m\u001b[0;34m\u001b[0m\u001b[0m\n\u001b[1;32m   5273\u001b[0m                 \u001b[0;32mreturn\u001b[0m \u001b[0mself\u001b[0m\u001b[0;34m[\u001b[0m\u001b[0mname\u001b[0m\u001b[0;34m]\u001b[0m\u001b[0;34m\u001b[0m\u001b[0;34m\u001b[0m\u001b[0m\n\u001b[0;32m-> 5274\u001b[0;31m             \u001b[0;32mreturn\u001b[0m \u001b[0mobject\u001b[0m\u001b[0;34m.\u001b[0m\u001b[0m__getattribute__\u001b[0m\u001b[0;34m(\u001b[0m\u001b[0mself\u001b[0m\u001b[0;34m,\u001b[0m \u001b[0mname\u001b[0m\u001b[0;34m)\u001b[0m\u001b[0;34m\u001b[0m\u001b[0;34m\u001b[0m\u001b[0m\n\u001b[0m\u001b[1;32m   5275\u001b[0m \u001b[0;34m\u001b[0m\u001b[0m\n\u001b[1;32m   5276\u001b[0m     \u001b[0;32mdef\u001b[0m \u001b[0m__setattr__\u001b[0m\u001b[0;34m(\u001b[0m\u001b[0mself\u001b[0m\u001b[0;34m,\u001b[0m \u001b[0mname\u001b[0m\u001b[0;34m:\u001b[0m \u001b[0mstr\u001b[0m\u001b[0;34m,\u001b[0m \u001b[0mvalue\u001b[0m\u001b[0;34m)\u001b[0m \u001b[0;34m->\u001b[0m \u001b[0;32mNone\u001b[0m\u001b[0;34m:\u001b[0m\u001b[0;34m\u001b[0m\u001b[0;34m\u001b[0m\u001b[0m\n",
      "\u001b[0;31mAttributeError\u001b[0m: 'DataFrame' object has no attribute 'unique'"
     ]
    }
   ],
   "source": [
    "rates = survival(data_final, 'amount', 'organization_idd', 'churn')"
   ]
  },
  {
   "cell_type": "code",
   "execution_count": null,
   "metadata": {},
   "outputs": [],
   "source": []
  }
 ]
}